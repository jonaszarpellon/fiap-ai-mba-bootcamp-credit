{
 "cells": [
  {
   "attachments": {},
   "cell_type": "markdown",
   "metadata": {},
   "source": [
    "# FIAP Bootcamp - Wtec Suprimentos - Classificação de Novos Clientes\n",
    "Case: **Wtec Suprimentos - Análise de Crédito**\\\n",
    "Turma: **1IAR**\n",
    "\n",
    "| Nome dos Integrantes     | RM            | Turma |\n",
    "| :----------------------- | :------------- | :-----: |\n",
    "| Claudio Manuel           | RM 346353      | 1IAR |\n",
    "| Jonas Zarpellon          | RM 345724      | 1IAR |\n",
    "| Rafael Yuji              | RM 346108      | 1IAR |"
   ]
  },
  {
   "attachments": {},
   "cell_type": "markdown",
   "metadata": {},
   "source": [
    "## Introdução\n",
    "\n",
    "### Problema Proposto - Parte 3: Classificação de Novos Clientes\n",
    "- Um problema Jä mapeado é o que fazer apos a geracäo desses grupos quando chegar um novo cliente solicitando um novo crédito?\n",
    "- Como seria possivel indicar o grupo desse cliente sem ter que refazer todos os grupos?\n",
    "\n",
    "### Abordagem Proposta\n",
    "- O objetivo desta modelagem é treinar um algoritmo de aprendizado capaz de classificar automaticamente novos clientes com base na segmentação atualmente existente\n",
    "- Será utilizado um algoritmo supervisionado para essa classificação, baseado nas segmentações obtidas no modelo de clusterização\n",
    "- Serão explorados os dois cenários propostos até o momento, e ambos serão comparados ao final:\n",
    "\t- cenário 1: utilizando informações do cliente disponíveis sem a exigência das documentações contábeis\n",
    "\t- cenário 2: utilizando informações disponíveis nas documentações contábeis"
   ]
  },
  {
   "attachments": {},
   "cell_type": "markdown",
   "metadata": {},
   "source": [
    "### Setup"
   ]
  },
  {
   "cell_type": "code",
   "execution_count": 9,
   "metadata": {},
   "outputs": [
    {
     "name": "stderr",
     "output_type": "stream",
     "text": [
      "Intel(R) Extension for Scikit-learn* enabled (https://github.com/intel/scikit-learn-intelex)\n"
     ]
    }
   ],
   "source": [
    "# dados / io\n",
    "import pandas as pd\n",
    "import pandas_flavor as pf\n",
    "import numpy as np\n",
    "import joblib\n",
    "# plotting\n",
    "import matplotlib.pyplot as plt\n",
    "import seaborn as sns\n",
    "%matplotlib inline\n",
    "# otimização\n",
    "from sklearnex import patch_sklearn\n",
    "patch_sklearn()\n",
    "# preprocessamento\n",
    "from sklearn.preprocessing import StandardScaler\n",
    "# machine learning\n",
    "from sklearn.linear_model import LogisticRegression\n",
    "from sklearn.tree import DecisionTreeClassifier\n",
    "from sklearn.naive_bayes import GaussianNB\n",
    "# seleção de modelos\n",
    "import optuna as opt\n",
    "opt.logging.set_verbosity(opt.logging.WARNING)\n",
    "from sklearn.model_selection import cross_val_score, train_test_split\n",
    "from sklearn.metrics import classification_report, confusion_matrix, ConfusionMatrixDisplay\n",
    "from sklearn.inspection import permutation_importance\n",
    "# display\n",
    "import warnings\n",
    "warnings.filterwarnings(\"ignore\", category=UserWarning)\n",
    "warnings.filterwarnings(\"ignore\", category=DeprecationWarning)\n",
    "pd.options.display.float_format = '{:,.2f}'.format\n"
   ]
  },
  {
   "cell_type": "markdown",
   "metadata": {},
   "source": [
    "### Carga de Dados"
   ]
  },
  {
   "cell_type": "code",
   "execution_count": 10,
   "metadata": {},
   "outputs": [
    {
     "data": {
      "text/html": [
       "<div>\n",
       "<style scoped>\n",
       "    .dataframe tbody tr th:only-of-type {\n",
       "        vertical-align: middle;\n",
       "    }\n",
       "\n",
       "    .dataframe tbody tr th {\n",
       "        vertical-align: top;\n",
       "    }\n",
       "\n",
       "    .dataframe thead th {\n",
       "        text-align: right;\n",
       "    }\n",
       "</style>\n",
       "<table border=\"1\" class=\"dataframe\">\n",
       "  <thead>\n",
       "    <tr style=\"text-align: right;\">\n",
       "      <th></th>\n",
       "      <th>4326</th>\n",
       "      <th>1634</th>\n",
       "      <th>453</th>\n",
       "      <th>1013</th>\n",
       "      <th>8613</th>\n",
       "      <th>7331</th>\n",
       "      <th>3784</th>\n",
       "      <th>885</th>\n",
       "      <th>2755</th>\n",
       "      <th>6541</th>\n",
       "    </tr>\n",
       "  </thead>\n",
       "  <tbody>\n",
       "    <tr>\n",
       "      <th>numero_solicitacao</th>\n",
       "      <td>4,399.00</td>\n",
       "      <td>1,691.00</td>\n",
       "      <td>471.00</td>\n",
       "      <td>1,041.00</td>\n",
       "      <td>8,686.00</td>\n",
       "      <td>7,404.00</td>\n",
       "      <td>3,857.00</td>\n",
       "      <td>911.00</td>\n",
       "      <td>2,828.00</td>\n",
       "      <td>6,614.00</td>\n",
       "    </tr>\n",
       "    <tr>\n",
       "      <th>razaoSocial</th>\n",
       "      <td>Darren Parsons</td>\n",
       "      <td>Miss Lynda Metcalfe</td>\n",
       "      <td>Linda Davies</td>\n",
       "      <td>Alan Cook</td>\n",
       "      <td>Mr. Justin Williams</td>\n",
       "      <td>Dr. Ian Roberts</td>\n",
       "      <td>Miss Ann Kaur</td>\n",
       "      <td>Dr. Terence Thomas</td>\n",
       "      <td>Dr. Danny Dawson</td>\n",
       "      <td>Mrs. Caroline Wilson</td>\n",
       "    </tr>\n",
       "    <tr>\n",
       "      <th>nomeFantasia</th>\n",
       "      <td>Michael Miller</td>\n",
       "      <td>Clifford Evans</td>\n",
       "      <td>Jeremy Clarke</td>\n",
       "      <td>Dennis Saunders</td>\n",
       "      <td>Katy Page</td>\n",
       "      <td>Marilyn Naylor</td>\n",
       "      <td>Matthew Howe-Freeman</td>\n",
       "      <td>Oliver Roberts</td>\n",
       "      <td>Billy Davies-Shaw</td>\n",
       "      <td>Danielle Jones-Wilkins</td>\n",
       "    </tr>\n",
       "    <tr>\n",
       "      <th>cnpjSemTraco</th>\n",
       "      <td>HDRF98606292430991</td>\n",
       "      <td>VWIF60263275502678</td>\n",
       "      <td>WQDZ84961051224032</td>\n",
       "      <td>MAVD74142590001725</td>\n",
       "      <td>STRV11119133289364</td>\n",
       "      <td>CQKV57907892106042</td>\n",
       "      <td>TJJC78015775179437</td>\n",
       "      <td>AWGW86865379688019</td>\n",
       "      <td>NHQT10630036765079</td>\n",
       "      <td>PHHU98477786513545</td>\n",
       "    </tr>\n",
       "    <tr>\n",
       "      <th>maiorAtraso</th>\n",
       "      <td>0</td>\n",
       "      <td>14</td>\n",
       "      <td>7</td>\n",
       "      <td>2</td>\n",
       "      <td>3</td>\n",
       "      <td>0</td>\n",
       "      <td>150</td>\n",
       "      <td>17</td>\n",
       "      <td>4</td>\n",
       "      <td>3</td>\n",
       "    </tr>\n",
       "    <tr>\n",
       "      <th>margemBrutaAcumulada</th>\n",
       "      <td>0.00</td>\n",
       "      <td>0.57</td>\n",
       "      <td>0.48</td>\n",
       "      <td>0.00</td>\n",
       "      <td>0.62</td>\n",
       "      <td>0.00</td>\n",
       "      <td>0.34</td>\n",
       "      <td>0.44</td>\n",
       "      <td>0.00</td>\n",
       "      <td>0.45</td>\n",
       "    </tr>\n",
       "    <tr>\n",
       "      <th>percentualProtestos</th>\n",
       "      <td>NaN</td>\n",
       "      <td>0.00</td>\n",
       "      <td>0.00</td>\n",
       "      <td>NaN</td>\n",
       "      <td>0.00</td>\n",
       "      <td>NaN</td>\n",
       "      <td>0.00</td>\n",
       "      <td>0.00</td>\n",
       "      <td>NaN</td>\n",
       "      <td>0.00</td>\n",
       "    </tr>\n",
       "    <tr>\n",
       "      <th>primeiraCompra</th>\n",
       "      <td>2016-08-26T13:37:38</td>\n",
       "      <td>2013-02-15T00:00:00</td>\n",
       "      <td>2014-09-04T00:00:00</td>\n",
       "      <td>2017-10-09T17:25:00</td>\n",
       "      <td>2012-10-11T00:00:00</td>\n",
       "      <td>2019-10-14T13:09:37</td>\n",
       "      <td>2010-07-09T00:00:00</td>\n",
       "      <td>2017-07-25T00:00:00</td>\n",
       "      <td>2017-01-16T11:29:03</td>\n",
       "      <td>2013-03-22T00:00:00</td>\n",
       "    </tr>\n",
       "    <tr>\n",
       "      <th>prazoMedioRecebimentoVendas</th>\n",
       "      <td>0</td>\n",
       "      <td>36</td>\n",
       "      <td>0</td>\n",
       "      <td>0</td>\n",
       "      <td>0</td>\n",
       "      <td>0</td>\n",
       "      <td>0</td>\n",
       "      <td>0</td>\n",
       "      <td>0</td>\n",
       "      <td>37</td>\n",
       "    </tr>\n",
       "    <tr>\n",
       "      <th>titulosEmAberto</th>\n",
       "      <td>0.00</td>\n",
       "      <td>168,871.50</td>\n",
       "      <td>0.00</td>\n",
       "      <td>0.00</td>\n",
       "      <td>0.00</td>\n",
       "      <td>0.00</td>\n",
       "      <td>0.00</td>\n",
       "      <td>0.00</td>\n",
       "      <td>0.00</td>\n",
       "      <td>6,877.68</td>\n",
       "    </tr>\n",
       "    <tr>\n",
       "      <th>valorSolicitado</th>\n",
       "      <td>15,000.00</td>\n",
       "      <td>300,000.00</td>\n",
       "      <td>20,000.00</td>\n",
       "      <td>50,000.00</td>\n",
       "      <td>50,000.00</td>\n",
       "      <td>30,000.00</td>\n",
       "      <td>100,000.00</td>\n",
       "      <td>5,000.00</td>\n",
       "      <td>70,000.00</td>\n",
       "      <td>25,000.00</td>\n",
       "    </tr>\n",
       "    <tr>\n",
       "      <th>status</th>\n",
       "      <td>AprovadoAnalista</td>\n",
       "      <td>AprovadoComite</td>\n",
       "      <td>AprovadoAnalista</td>\n",
       "      <td>AprovadoAnalista</td>\n",
       "      <td>AprovadoAnalista</td>\n",
       "      <td>AprovadoAnalista</td>\n",
       "      <td>AprovadoAnalista</td>\n",
       "      <td>ReprovadoAnalista</td>\n",
       "      <td>AprovadoAnalista</td>\n",
       "      <td>AprovadoAnalista</td>\n",
       "    </tr>\n",
       "    <tr>\n",
       "      <th>definicaoRisco</th>\n",
       "      <td>De 11 a 30 % - Baixo</td>\n",
       "      <td>De 0 a 10 % - Muito Baixo</td>\n",
       "      <td>De 51 a 80 % - Alto</td>\n",
       "      <td>De 31 a 50 % - Médio</td>\n",
       "      <td>De 0 a 10 % - Muito Baixo</td>\n",
       "      <td>De 11 a 30 % - Baixo</td>\n",
       "      <td>De 11 a 30 % - Baixo</td>\n",
       "      <td>De 31 a 50 % - Médio</td>\n",
       "      <td>De 11 a 30 % - Baixo</td>\n",
       "      <td>De 11 a 30 % - Baixo</td>\n",
       "    </tr>\n",
       "    <tr>\n",
       "      <th>diferencaPercentualRisco</th>\n",
       "      <td>0.75</td>\n",
       "      <td>0.89</td>\n",
       "      <td>0.47</td>\n",
       "      <td>0.68</td>\n",
       "      <td>0.96</td>\n",
       "      <td>0.80</td>\n",
       "      <td>0.71</td>\n",
       "      <td>0.53</td>\n",
       "      <td>0.75</td>\n",
       "      <td>0.75</td>\n",
       "    </tr>\n",
       "    <tr>\n",
       "      <th>percentualRisco</th>\n",
       "      <td>0.25</td>\n",
       "      <td>0.11</td>\n",
       "      <td>0.53</td>\n",
       "      <td>0.32</td>\n",
       "      <td>0.04</td>\n",
       "      <td>0.20</td>\n",
       "      <td>0.29</td>\n",
       "      <td>0.47</td>\n",
       "      <td>0.25</td>\n",
       "      <td>0.25</td>\n",
       "    </tr>\n",
       "    <tr>\n",
       "      <th>dashboardCorrelacao</th>\n",
       "      <td>0.00</td>\n",
       "      <td>-0.87</td>\n",
       "      <td>-0.15</td>\n",
       "      <td>0.00</td>\n",
       "      <td>-0.87</td>\n",
       "      <td>0.00</td>\n",
       "      <td>0.44</td>\n",
       "      <td>0.99</td>\n",
       "      <td>0.00</td>\n",
       "      <td>0.00</td>\n",
       "    </tr>\n",
       "    <tr>\n",
       "      <th>valorAprovado</th>\n",
       "      <td>15,000.00</td>\n",
       "      <td>200,000.00</td>\n",
       "      <td>20,000.00</td>\n",
       "      <td>50,000.00</td>\n",
       "      <td>50,000.00</td>\n",
       "      <td>20,000.00</td>\n",
       "      <td>10,000.00</td>\n",
       "      <td>NaN</td>\n",
       "      <td>65,000.00</td>\n",
       "      <td>25,000.00</td>\n",
       "    </tr>\n",
       "    <tr>\n",
       "      <th>dataAprovadoEmComite</th>\n",
       "      <td>NaN</td>\n",
       "      <td>2020-04-14T17:50:27</td>\n",
       "      <td>NaN</td>\n",
       "      <td>NaN</td>\n",
       "      <td>NaN</td>\n",
       "      <td>NaN</td>\n",
       "      <td>NaN</td>\n",
       "      <td>NaN</td>\n",
       "      <td>NaN</td>\n",
       "      <td>NaN</td>\n",
       "    </tr>\n",
       "    <tr>\n",
       "      <th>periodoBalanco</th>\n",
       "      <td>NaN</td>\n",
       "      <td>2019-12-31T03:00:00</td>\n",
       "      <td>NaN</td>\n",
       "      <td>NaN</td>\n",
       "      <td>2020-09-30T00:00:00</td>\n",
       "      <td>2019-12-31T00:00:00</td>\n",
       "      <td>2019-12-31T00:00:00</td>\n",
       "      <td>NaN</td>\n",
       "      <td>2019-12-31T03:00:00</td>\n",
       "      <td>NaN</td>\n",
       "    </tr>\n",
       "    <tr>\n",
       "      <th>ativoCirculante</th>\n",
       "      <td>NaN</td>\n",
       "      <td>4,997,034.00</td>\n",
       "      <td>NaN</td>\n",
       "      <td>NaN</td>\n",
       "      <td>27,154,499.00</td>\n",
       "      <td>1,214,631.00</td>\n",
       "      <td>14,045,797.00</td>\n",
       "      <td>NaN</td>\n",
       "      <td>2,319,186.00</td>\n",
       "      <td>NaN</td>\n",
       "    </tr>\n",
       "    <tr>\n",
       "      <th>passivoCirculante</th>\n",
       "      <td>NaN</td>\n",
       "      <td>732,091.00</td>\n",
       "      <td>NaN</td>\n",
       "      <td>NaN</td>\n",
       "      <td>25,519,299.00</td>\n",
       "      <td>1,147,314.00</td>\n",
       "      <td>1,437,718.00</td>\n",
       "      <td>NaN</td>\n",
       "      <td>1,650,394.00</td>\n",
       "      <td>NaN</td>\n",
       "    </tr>\n",
       "    <tr>\n",
       "      <th>totalAtivo</th>\n",
       "      <td>NaN</td>\n",
       "      <td>5,229,200.00</td>\n",
       "      <td>NaN</td>\n",
       "      <td>NaN</td>\n",
       "      <td>27,866,216.00</td>\n",
       "      <td>1,410,999.00</td>\n",
       "      <td>14,302,029.00</td>\n",
       "      <td>NaN</td>\n",
       "      <td>3,438,696.00</td>\n",
       "      <td>NaN</td>\n",
       "    </tr>\n",
       "    <tr>\n",
       "      <th>totalPatrimonioLiquido</th>\n",
       "      <td>NaN</td>\n",
       "      <td>1,925,483.00</td>\n",
       "      <td>NaN</td>\n",
       "      <td>NaN</td>\n",
       "      <td>2,346,917.00</td>\n",
       "      <td>263,684.00</td>\n",
       "      <td>11,968,706.00</td>\n",
       "      <td>NaN</td>\n",
       "      <td>177,921.00</td>\n",
       "      <td>NaN</td>\n",
       "    </tr>\n",
       "    <tr>\n",
       "      <th>endividamento</th>\n",
       "      <td>NaN</td>\n",
       "      <td>0.00</td>\n",
       "      <td>NaN</td>\n",
       "      <td>NaN</td>\n",
       "      <td>0.00</td>\n",
       "      <td>190,614.00</td>\n",
       "      <td>415,935.00</td>\n",
       "      <td>NaN</td>\n",
       "      <td>813,586.00</td>\n",
       "      <td>NaN</td>\n",
       "    </tr>\n",
       "    <tr>\n",
       "      <th>duplicatasAReceber</th>\n",
       "      <td>NaN</td>\n",
       "      <td>2,813,377.00</td>\n",
       "      <td>NaN</td>\n",
       "      <td>NaN</td>\n",
       "      <td>13,866,536.00</td>\n",
       "      <td>474,050.00</td>\n",
       "      <td>6,480,172.00</td>\n",
       "      <td>NaN</td>\n",
       "      <td>1,546,336.00</td>\n",
       "      <td>NaN</td>\n",
       "    </tr>\n",
       "    <tr>\n",
       "      <th>estoque</th>\n",
       "      <td>NaN</td>\n",
       "      <td>0.00</td>\n",
       "      <td>NaN</td>\n",
       "      <td>NaN</td>\n",
       "      <td>10,120,885.00</td>\n",
       "      <td>389,412.00</td>\n",
       "      <td>7,563,266.00</td>\n",
       "      <td>NaN</td>\n",
       "      <td>218,481.00</td>\n",
       "      <td>NaN</td>\n",
       "    </tr>\n",
       "    <tr>\n",
       "      <th>faturamentoBruto</th>\n",
       "      <td>3,589,743.00</td>\n",
       "      <td>9,785,943.00</td>\n",
       "      <td>2,797,176.00</td>\n",
       "      <td>2,854,788.00</td>\n",
       "      <td>101,606,651.00</td>\n",
       "      <td>7,118,631.00</td>\n",
       "      <td>12,160,799.00</td>\n",
       "      <td>0.00</td>\n",
       "      <td>12,437,757.00</td>\n",
       "      <td>16,860,308.00</td>\n",
       "    </tr>\n",
       "    <tr>\n",
       "      <th>margemBruta</th>\n",
       "      <td>0.00</td>\n",
       "      <td>5,219,864.00</td>\n",
       "      <td>0.00</td>\n",
       "      <td>0.00</td>\n",
       "      <td>20,040,688.00</td>\n",
       "      <td>2,979,606.00</td>\n",
       "      <td>7,368,499.00</td>\n",
       "      <td>0.00</td>\n",
       "      <td>2,465,186.00</td>\n",
       "      <td>0.00</td>\n",
       "    </tr>\n",
       "    <tr>\n",
       "      <th>periodoDemonstrativoEmMeses</th>\n",
       "      <td>12.00</td>\n",
       "      <td>12.00</td>\n",
       "      <td>12.00</td>\n",
       "      <td>12.00</td>\n",
       "      <td>9.00</td>\n",
       "      <td>12.00</td>\n",
       "      <td>12.00</td>\n",
       "      <td>1.00</td>\n",
       "      <td>12.00</td>\n",
       "      <td>12.00</td>\n",
       "    </tr>\n",
       "    <tr>\n",
       "      <th>custos</th>\n",
       "      <td>0.00</td>\n",
       "      <td>4,566,079.00</td>\n",
       "      <td>0.00</td>\n",
       "      <td>0.00</td>\n",
       "      <td>81,565,963.00</td>\n",
       "      <td>4,139,025.00</td>\n",
       "      <td>4,792,300.00</td>\n",
       "      <td>0.00</td>\n",
       "      <td>9,972,571.00</td>\n",
       "      <td>0.00</td>\n",
       "    </tr>\n",
       "    <tr>\n",
       "      <th>anoFundacao</th>\n",
       "      <td>2,013.00</td>\n",
       "      <td>2,008.00</td>\n",
       "      <td>2,000.00</td>\n",
       "      <td>1,994.00</td>\n",
       "      <td>2,008.00</td>\n",
       "      <td>2,018.00</td>\n",
       "      <td>2,007.00</td>\n",
       "      <td>1,997.00</td>\n",
       "      <td>2,010.00</td>\n",
       "      <td>2,006.00</td>\n",
       "    </tr>\n",
       "    <tr>\n",
       "      <th>intervaloFundacao</th>\n",
       "      <td>De 6 a 10 anos</td>\n",
       "      <td>De 11 a 16 anos</td>\n",
       "      <td>Acima de 17 anos</td>\n",
       "      <td>Acima de 17 anos</td>\n",
       "      <td>De 11 a 16 anos</td>\n",
       "      <td>De 0 a 5 anos</td>\n",
       "      <td>De 11 a 16 anos</td>\n",
       "      <td>Acima de 17 anos</td>\n",
       "      <td>De 6 a 10 anos</td>\n",
       "      <td>De 11 a 16 anos</td>\n",
       "    </tr>\n",
       "    <tr>\n",
       "      <th>capitalSocial</th>\n",
       "      <td>120,000.00</td>\n",
       "      <td>265,000.00</td>\n",
       "      <td>30,000.00</td>\n",
       "      <td>60,000.00</td>\n",
       "      <td>100,000.00</td>\n",
       "      <td>300,000.00</td>\n",
       "      <td>500,000.00</td>\n",
       "      <td>95,400.00</td>\n",
       "      <td>1,000,000.00</td>\n",
       "      <td>10,000.00</td>\n",
       "    </tr>\n",
       "    <tr>\n",
       "      <th>restricoes</th>\n",
       "      <td>False</td>\n",
       "      <td>False</td>\n",
       "      <td>True</td>\n",
       "      <td>False</td>\n",
       "      <td>False</td>\n",
       "      <td>False</td>\n",
       "      <td>False</td>\n",
       "      <td>False</td>\n",
       "      <td>False</td>\n",
       "      <td>False</td>\n",
       "    </tr>\n",
       "    <tr>\n",
       "      <th>empresa_MeEppMei</th>\n",
       "      <td>True</td>\n",
       "      <td>False</td>\n",
       "      <td>True</td>\n",
       "      <td>True</td>\n",
       "      <td>False</td>\n",
       "      <td>False</td>\n",
       "      <td>True</td>\n",
       "      <td>True</td>\n",
       "      <td>False</td>\n",
       "      <td>True</td>\n",
       "    </tr>\n",
       "    <tr>\n",
       "      <th>scorePontualidade</th>\n",
       "      <td>0.00</td>\n",
       "      <td>1.00</td>\n",
       "      <td>0.82</td>\n",
       "      <td>0.00</td>\n",
       "      <td>0.95</td>\n",
       "      <td>0.00</td>\n",
       "      <td>0.89</td>\n",
       "      <td>0.83</td>\n",
       "      <td>0.00</td>\n",
       "      <td>1.00</td>\n",
       "    </tr>\n",
       "    <tr>\n",
       "      <th>limiteEmpresaAnaliseCredito</th>\n",
       "      <td>87,400.00</td>\n",
       "      <td>582,090.00</td>\n",
       "      <td>21,500.00</td>\n",
       "      <td>60,800.00</td>\n",
       "      <td>21,555,537.00</td>\n",
       "      <td>284,800.00</td>\n",
       "      <td>294,235.00</td>\n",
       "      <td>4,320.00</td>\n",
       "      <td>83,669.00</td>\n",
       "      <td>60,800.00</td>\n",
       "    </tr>\n",
       "    <tr>\n",
       "      <th>dataAprovadoNivelAnalista</th>\n",
       "      <td>2020-08-26T12:23:42</td>\n",
       "      <td>NaN</td>\n",
       "      <td>2020-02-19T16:11:42</td>\n",
       "      <td>2020-03-11T14:19:25</td>\n",
       "      <td>2021-02-10T20:04:03</td>\n",
       "      <td>2020-12-21T15:11:00</td>\n",
       "      <td>2020-08-05T19:01:43</td>\n",
       "      <td>NaN</td>\n",
       "      <td>2020-06-24T15:49:31</td>\n",
       "      <td>2020-11-25T14:16:00</td>\n",
       "    </tr>\n",
       "    <tr>\n",
       "      <th>cluster1</th>\n",
       "      <td>1.00</td>\n",
       "      <td>NaN</td>\n",
       "      <td>5.00</td>\n",
       "      <td>1.00</td>\n",
       "      <td>2.00</td>\n",
       "      <td>1.00</td>\n",
       "      <td>0.00</td>\n",
       "      <td>NaN</td>\n",
       "      <td>1.00</td>\n",
       "      <td>4.00</td>\n",
       "    </tr>\n",
       "  </tbody>\n",
       "</table>\n",
       "</div>"
      ],
      "text/plain": [
       "                                             4326                       1634  \\\n",
       "numero_solicitacao                       4,399.00                   1,691.00   \n",
       "razaoSocial                        Darren Parsons        Miss Lynda Metcalfe   \n",
       "nomeFantasia                       Michael Miller             Clifford Evans   \n",
       "cnpjSemTraco                   HDRF98606292430991         VWIF60263275502678   \n",
       "maiorAtraso                                     0                         14   \n",
       "margemBrutaAcumulada                         0.00                       0.57   \n",
       "percentualProtestos                           NaN                       0.00   \n",
       "primeiraCompra                2016-08-26T13:37:38        2013-02-15T00:00:00   \n",
       "prazoMedioRecebimentoVendas                     0                         36   \n",
       "titulosEmAberto                              0.00                 168,871.50   \n",
       "valorSolicitado                         15,000.00                 300,000.00   \n",
       "status                           AprovadoAnalista             AprovadoComite   \n",
       "definicaoRisco               De 11 a 30 % - Baixo  De 0 a 10 % - Muito Baixo   \n",
       "diferencaPercentualRisco                     0.75                       0.89   \n",
       "percentualRisco                              0.25                       0.11   \n",
       "dashboardCorrelacao                          0.00                      -0.87   \n",
       "valorAprovado                           15,000.00                 200,000.00   \n",
       "dataAprovadoEmComite                          NaN        2020-04-14T17:50:27   \n",
       "periodoBalanco                                NaN        2019-12-31T03:00:00   \n",
       "ativoCirculante                               NaN               4,997,034.00   \n",
       "passivoCirculante                             NaN                 732,091.00   \n",
       "totalAtivo                                    NaN               5,229,200.00   \n",
       "totalPatrimonioLiquido                        NaN               1,925,483.00   \n",
       "endividamento                                 NaN                       0.00   \n",
       "duplicatasAReceber                            NaN               2,813,377.00   \n",
       "estoque                                       NaN                       0.00   \n",
       "faturamentoBruto                     3,589,743.00               9,785,943.00   \n",
       "margemBruta                                  0.00               5,219,864.00   \n",
       "periodoDemonstrativoEmMeses                 12.00                      12.00   \n",
       "custos                                       0.00               4,566,079.00   \n",
       "anoFundacao                              2,013.00                   2,008.00   \n",
       "intervaloFundacao                  De 6 a 10 anos            De 11 a 16 anos   \n",
       "capitalSocial                          120,000.00                 265,000.00   \n",
       "restricoes                                  False                      False   \n",
       "empresa_MeEppMei                             True                      False   \n",
       "scorePontualidade                            0.00                       1.00   \n",
       "limiteEmpresaAnaliseCredito             87,400.00                 582,090.00   \n",
       "dataAprovadoNivelAnalista     2020-08-26T12:23:42                        NaN   \n",
       "cluster1                                     1.00                        NaN   \n",
       "\n",
       "                                            453                   1013  \\\n",
       "numero_solicitacao                        471.00              1,041.00   \n",
       "razaoSocial                         Linda Davies             Alan Cook   \n",
       "nomeFantasia                       Jeremy Clarke       Dennis Saunders   \n",
       "cnpjSemTraco                  WQDZ84961051224032    MAVD74142590001725   \n",
       "maiorAtraso                                    7                     2   \n",
       "margemBrutaAcumulada                        0.48                  0.00   \n",
       "percentualProtestos                         0.00                   NaN   \n",
       "primeiraCompra               2014-09-04T00:00:00   2017-10-09T17:25:00   \n",
       "prazoMedioRecebimentoVendas                    0                     0   \n",
       "titulosEmAberto                             0.00                  0.00   \n",
       "valorSolicitado                        20,000.00             50,000.00   \n",
       "status                          AprovadoAnalista      AprovadoAnalista   \n",
       "definicaoRisco               De 51 a 80 % - Alto  De 31 a 50 % - Médio   \n",
       "diferencaPercentualRisco                    0.47                  0.68   \n",
       "percentualRisco                             0.53                  0.32   \n",
       "dashboardCorrelacao                        -0.15                  0.00   \n",
       "valorAprovado                          20,000.00             50,000.00   \n",
       "dataAprovadoEmComite                         NaN                   NaN   \n",
       "periodoBalanco                               NaN                   NaN   \n",
       "ativoCirculante                              NaN                   NaN   \n",
       "passivoCirculante                            NaN                   NaN   \n",
       "totalAtivo                                   NaN                   NaN   \n",
       "totalPatrimonioLiquido                       NaN                   NaN   \n",
       "endividamento                                NaN                   NaN   \n",
       "duplicatasAReceber                           NaN                   NaN   \n",
       "estoque                                      NaN                   NaN   \n",
       "faturamentoBruto                    2,797,176.00          2,854,788.00   \n",
       "margemBruta                                 0.00                  0.00   \n",
       "periodoDemonstrativoEmMeses                12.00                 12.00   \n",
       "custos                                      0.00                  0.00   \n",
       "anoFundacao                             2,000.00              1,994.00   \n",
       "intervaloFundacao               Acima de 17 anos      Acima de 17 anos   \n",
       "capitalSocial                          30,000.00             60,000.00   \n",
       "restricoes                                  True                 False   \n",
       "empresa_MeEppMei                            True                  True   \n",
       "scorePontualidade                           0.82                  0.00   \n",
       "limiteEmpresaAnaliseCredito            21,500.00             60,800.00   \n",
       "dataAprovadoNivelAnalista    2020-02-19T16:11:42   2020-03-11T14:19:25   \n",
       "cluster1                                    5.00                  1.00   \n",
       "\n",
       "                                                  8613                  7331  \\\n",
       "numero_solicitacao                            8,686.00              7,404.00   \n",
       "razaoSocial                        Mr. Justin Williams       Dr. Ian Roberts   \n",
       "nomeFantasia                                 Katy Page        Marilyn Naylor   \n",
       "cnpjSemTraco                        STRV11119133289364    CQKV57907892106042   \n",
       "maiorAtraso                                          3                     0   \n",
       "margemBrutaAcumulada                              0.62                  0.00   \n",
       "percentualProtestos                               0.00                   NaN   \n",
       "primeiraCompra                     2012-10-11T00:00:00   2019-10-14T13:09:37   \n",
       "prazoMedioRecebimentoVendas                          0                     0   \n",
       "titulosEmAberto                                   0.00                  0.00   \n",
       "valorSolicitado                              50,000.00             30,000.00   \n",
       "status                                AprovadoAnalista      AprovadoAnalista   \n",
       "definicaoRisco               De 0 a 10 % - Muito Baixo  De 11 a 30 % - Baixo   \n",
       "diferencaPercentualRisco                          0.96                  0.80   \n",
       "percentualRisco                                   0.04                  0.20   \n",
       "dashboardCorrelacao                              -0.87                  0.00   \n",
       "valorAprovado                                50,000.00             20,000.00   \n",
       "dataAprovadoEmComite                               NaN                   NaN   \n",
       "periodoBalanco                     2020-09-30T00:00:00   2019-12-31T00:00:00   \n",
       "ativoCirculante                          27,154,499.00          1,214,631.00   \n",
       "passivoCirculante                        25,519,299.00          1,147,314.00   \n",
       "totalAtivo                               27,866,216.00          1,410,999.00   \n",
       "totalPatrimonioLiquido                    2,346,917.00            263,684.00   \n",
       "endividamento                                     0.00            190,614.00   \n",
       "duplicatasAReceber                       13,866,536.00            474,050.00   \n",
       "estoque                                  10,120,885.00            389,412.00   \n",
       "faturamentoBruto                        101,606,651.00          7,118,631.00   \n",
       "margemBruta                              20,040,688.00          2,979,606.00   \n",
       "periodoDemonstrativoEmMeses                       9.00                 12.00   \n",
       "custos                                   81,565,963.00          4,139,025.00   \n",
       "anoFundacao                                   2,008.00              2,018.00   \n",
       "intervaloFundacao                      De 11 a 16 anos         De 0 a 5 anos   \n",
       "capitalSocial                               100,000.00            300,000.00   \n",
       "restricoes                                       False                 False   \n",
       "empresa_MeEppMei                                 False                 False   \n",
       "scorePontualidade                                 0.95                  0.00   \n",
       "limiteEmpresaAnaliseCredito              21,555,537.00            284,800.00   \n",
       "dataAprovadoNivelAnalista          2021-02-10T20:04:03   2020-12-21T15:11:00   \n",
       "cluster1                                          2.00                  1.00   \n",
       "\n",
       "                                             3784                  885   \\\n",
       "numero_solicitacao                       3,857.00                911.00   \n",
       "razaoSocial                         Miss Ann Kaur    Dr. Terence Thomas   \n",
       "nomeFantasia                 Matthew Howe-Freeman        Oliver Roberts   \n",
       "cnpjSemTraco                   TJJC78015775179437    AWGW86865379688019   \n",
       "maiorAtraso                                   150                    17   \n",
       "margemBrutaAcumulada                         0.34                  0.44   \n",
       "percentualProtestos                          0.00                  0.00   \n",
       "primeiraCompra                2010-07-09T00:00:00   2017-07-25T00:00:00   \n",
       "prazoMedioRecebimentoVendas                     0                     0   \n",
       "titulosEmAberto                              0.00                  0.00   \n",
       "valorSolicitado                        100,000.00              5,000.00   \n",
       "status                           AprovadoAnalista     ReprovadoAnalista   \n",
       "definicaoRisco               De 11 a 30 % - Baixo  De 31 a 50 % - Médio   \n",
       "diferencaPercentualRisco                     0.71                  0.53   \n",
       "percentualRisco                              0.29                  0.47   \n",
       "dashboardCorrelacao                          0.44                  0.99   \n",
       "valorAprovado                           10,000.00                   NaN   \n",
       "dataAprovadoEmComite                          NaN                   NaN   \n",
       "periodoBalanco                2019-12-31T00:00:00                   NaN   \n",
       "ativoCirculante                     14,045,797.00                   NaN   \n",
       "passivoCirculante                    1,437,718.00                   NaN   \n",
       "totalAtivo                          14,302,029.00                   NaN   \n",
       "totalPatrimonioLiquido              11,968,706.00                   NaN   \n",
       "endividamento                          415,935.00                   NaN   \n",
       "duplicatasAReceber                   6,480,172.00                   NaN   \n",
       "estoque                              7,563,266.00                   NaN   \n",
       "faturamentoBruto                    12,160,799.00                  0.00   \n",
       "margemBruta                          7,368,499.00                  0.00   \n",
       "periodoDemonstrativoEmMeses                 12.00                  1.00   \n",
       "custos                               4,792,300.00                  0.00   \n",
       "anoFundacao                              2,007.00              1,997.00   \n",
       "intervaloFundacao                 De 11 a 16 anos      Acima de 17 anos   \n",
       "capitalSocial                          500,000.00             95,400.00   \n",
       "restricoes                                  False                 False   \n",
       "empresa_MeEppMei                             True                  True   \n",
       "scorePontualidade                            0.89                  0.83   \n",
       "limiteEmpresaAnaliseCredito            294,235.00              4,320.00   \n",
       "dataAprovadoNivelAnalista     2020-08-05T19:01:43                   NaN   \n",
       "cluster1                                     0.00                   NaN   \n",
       "\n",
       "                                             2755                    6541  \n",
       "numero_solicitacao                       2,828.00                6,614.00  \n",
       "razaoSocial                      Dr. Danny Dawson    Mrs. Caroline Wilson  \n",
       "nomeFantasia                    Billy Davies-Shaw  Danielle Jones-Wilkins  \n",
       "cnpjSemTraco                   NHQT10630036765079      PHHU98477786513545  \n",
       "maiorAtraso                                     4                       3  \n",
       "margemBrutaAcumulada                         0.00                    0.45  \n",
       "percentualProtestos                           NaN                    0.00  \n",
       "primeiraCompra                2017-01-16T11:29:03     2013-03-22T00:00:00  \n",
       "prazoMedioRecebimentoVendas                     0                      37  \n",
       "titulosEmAberto                              0.00                6,877.68  \n",
       "valorSolicitado                         70,000.00               25,000.00  \n",
       "status                           AprovadoAnalista        AprovadoAnalista  \n",
       "definicaoRisco               De 11 a 30 % - Baixo    De 11 a 30 % - Baixo  \n",
       "diferencaPercentualRisco                     0.75                    0.75  \n",
       "percentualRisco                              0.25                    0.25  \n",
       "dashboardCorrelacao                          0.00                    0.00  \n",
       "valorAprovado                           65,000.00               25,000.00  \n",
       "dataAprovadoEmComite                          NaN                     NaN  \n",
       "periodoBalanco                2019-12-31T03:00:00                     NaN  \n",
       "ativoCirculante                      2,319,186.00                     NaN  \n",
       "passivoCirculante                    1,650,394.00                     NaN  \n",
       "totalAtivo                           3,438,696.00                     NaN  \n",
       "totalPatrimonioLiquido                 177,921.00                     NaN  \n",
       "endividamento                          813,586.00                     NaN  \n",
       "duplicatasAReceber                   1,546,336.00                     NaN  \n",
       "estoque                                218,481.00                     NaN  \n",
       "faturamentoBruto                    12,437,757.00           16,860,308.00  \n",
       "margemBruta                          2,465,186.00                    0.00  \n",
       "periodoDemonstrativoEmMeses                 12.00                   12.00  \n",
       "custos                               9,972,571.00                    0.00  \n",
       "anoFundacao                              2,010.00                2,006.00  \n",
       "intervaloFundacao                  De 6 a 10 anos         De 11 a 16 anos  \n",
       "capitalSocial                        1,000,000.00               10,000.00  \n",
       "restricoes                                  False                   False  \n",
       "empresa_MeEppMei                            False                    True  \n",
       "scorePontualidade                            0.00                    1.00  \n",
       "limiteEmpresaAnaliseCredito             83,669.00               60,800.00  \n",
       "dataAprovadoNivelAnalista     2020-06-24T15:49:31     2020-11-25T14:16:00  \n",
       "cluster1                                     1.00                    4.00  "
      ]
     },
     "execution_count": 10,
     "metadata": {},
     "output_type": "execute_result"
    }
   ],
   "source": [
    "data = pd.read_csv('solicitacoescredito_segmentada.csv')\n",
    "data.sample(10).T"
   ]
  },
  {
   "attachments": {},
   "cell_type": "markdown",
   "metadata": {},
   "source": [
    "### Pre-Processamento"
   ]
  },
  {
   "attachments": {},
   "cell_type": "markdown",
   "metadata": {},
   "source": [
    "#### filtro"
   ]
  },
  {
   "cell_type": "code",
   "execution_count": 11,
   "metadata": {},
   "outputs": [
    {
     "data": {
      "text/html": [
       "<div>\n",
       "<style scoped>\n",
       "    .dataframe tbody tr th:only-of-type {\n",
       "        vertical-align: middle;\n",
       "    }\n",
       "\n",
       "    .dataframe tbody tr th {\n",
       "        vertical-align: top;\n",
       "    }\n",
       "\n",
       "    .dataframe thead th {\n",
       "        text-align: right;\n",
       "    }\n",
       "</style>\n",
       "<table border=\"1\" class=\"dataframe\">\n",
       "  <thead>\n",
       "    <tr style=\"text-align: right;\">\n",
       "      <th></th>\n",
       "      <th>count</th>\n",
       "      <th>mean</th>\n",
       "      <th>std</th>\n",
       "      <th>min</th>\n",
       "      <th>25%</th>\n",
       "      <th>50%</th>\n",
       "      <th>75%</th>\n",
       "      <th>max</th>\n",
       "    </tr>\n",
       "  </thead>\n",
       "  <tbody>\n",
       "    <tr>\n",
       "      <th>numero_solicitacao</th>\n",
       "      <td>7,201.00</td>\n",
       "      <td>4,562.63</td>\n",
       "      <td>2,601.48</td>\n",
       "      <td>1.00</td>\n",
       "      <td>2,353.00</td>\n",
       "      <td>4,585.00</td>\n",
       "      <td>6,827.00</td>\n",
       "      <td>9,034.00</td>\n",
       "    </tr>\n",
       "    <tr>\n",
       "      <th>maiorAtraso</th>\n",
       "      <td>7,201.00</td>\n",
       "      <td>24.37</td>\n",
       "      <td>64.03</td>\n",
       "      <td>0.00</td>\n",
       "      <td>3.00</td>\n",
       "      <td>6.00</td>\n",
       "      <td>22.00</td>\n",
       "      <td>977.00</td>\n",
       "    </tr>\n",
       "    <tr>\n",
       "      <th>margemBrutaAcumulada</th>\n",
       "      <td>7,201.00</td>\n",
       "      <td>0.37</td>\n",
       "      <td>0.20</td>\n",
       "      <td>0.00</td>\n",
       "      <td>0.29</td>\n",
       "      <td>0.41</td>\n",
       "      <td>0.51</td>\n",
       "      <td>1.00</td>\n",
       "    </tr>\n",
       "    <tr>\n",
       "      <th>percentualProtestos</th>\n",
       "      <td>6,057.00</td>\n",
       "      <td>0.01</td>\n",
       "      <td>0.56</td>\n",
       "      <td>0.00</td>\n",
       "      <td>0.00</td>\n",
       "      <td>0.00</td>\n",
       "      <td>0.00</td>\n",
       "      <td>36.98</td>\n",
       "    </tr>\n",
       "    <tr>\n",
       "      <th>prazoMedioRecebimentoVendas</th>\n",
       "      <td>7,201.00</td>\n",
       "      <td>24.19</td>\n",
       "      <td>71.06</td>\n",
       "      <td>0.00</td>\n",
       "      <td>0.00</td>\n",
       "      <td>0.00</td>\n",
       "      <td>32.00</td>\n",
       "      <td>1,605.00</td>\n",
       "    </tr>\n",
       "    <tr>\n",
       "      <th>titulosEmAberto</th>\n",
       "      <td>7,201.00</td>\n",
       "      <td>61,165.54</td>\n",
       "      <td>216,805.22</td>\n",
       "      <td>0.00</td>\n",
       "      <td>0.00</td>\n",
       "      <td>0.00</td>\n",
       "      <td>18,605.30</td>\n",
       "      <td>2,836,656.00</td>\n",
       "    </tr>\n",
       "    <tr>\n",
       "      <th>valorSolicitado</th>\n",
       "      <td>7,201.00</td>\n",
       "      <td>480,475.47</td>\n",
       "      <td>15,912,896.04</td>\n",
       "      <td>3,000.00</td>\n",
       "      <td>25,000.00</td>\n",
       "      <td>50,000.00</td>\n",
       "      <td>130,000.00</td>\n",
       "      <td>1,200,000,000.00</td>\n",
       "    </tr>\n",
       "    <tr>\n",
       "      <th>diferencaPercentualRisco</th>\n",
       "      <td>7,201.00</td>\n",
       "      <td>0.74</td>\n",
       "      <td>0.13</td>\n",
       "      <td>0.26</td>\n",
       "      <td>0.64</td>\n",
       "      <td>0.75</td>\n",
       "      <td>0.85</td>\n",
       "      <td>1.00</td>\n",
       "    </tr>\n",
       "    <tr>\n",
       "      <th>percentualRisco</th>\n",
       "      <td>7,201.00</td>\n",
       "      <td>0.26</td>\n",
       "      <td>0.13</td>\n",
       "      <td>0.00</td>\n",
       "      <td>0.15</td>\n",
       "      <td>0.25</td>\n",
       "      <td>0.36</td>\n",
       "      <td>0.74</td>\n",
       "    </tr>\n",
       "    <tr>\n",
       "      <th>dashboardCorrelacao</th>\n",
       "      <td>7,201.00</td>\n",
       "      <td>0.04</td>\n",
       "      <td>0.50</td>\n",
       "      <td>-1.00</td>\n",
       "      <td>0.00</td>\n",
       "      <td>0.00</td>\n",
       "      <td>0.00</td>\n",
       "      <td>1.00</td>\n",
       "    </tr>\n",
       "    <tr>\n",
       "      <th>valorAprovado</th>\n",
       "      <td>7,201.00</td>\n",
       "      <td>174,638.51</td>\n",
       "      <td>454,544.96</td>\n",
       "      <td>0.00</td>\n",
       "      <td>20,000.00</td>\n",
       "      <td>40,000.00</td>\n",
       "      <td>100,000.00</td>\n",
       "      <td>6,550,000.00</td>\n",
       "    </tr>\n",
       "    <tr>\n",
       "      <th>ativoCirculante</th>\n",
       "      <td>4,265.00</td>\n",
       "      <td>47,400,990.95</td>\n",
       "      <td>491,815,257.65</td>\n",
       "      <td>0.00</td>\n",
       "      <td>987,594.00</td>\n",
       "      <td>4,235,889.00</td>\n",
       "      <td>17,356,269.00</td>\n",
       "      <td>29,038,320,000.00</td>\n",
       "    </tr>\n",
       "    <tr>\n",
       "      <th>passivoCirculante</th>\n",
       "      <td>4,265.00</td>\n",
       "      <td>36,537,171.99</td>\n",
       "      <td>520,828,070.37</td>\n",
       "      <td>-355,509.00</td>\n",
       "      <td>214,227.00</td>\n",
       "      <td>1,437,718.00</td>\n",
       "      <td>7,810,246.00</td>\n",
       "      <td>27,503,820,000.00</td>\n",
       "    </tr>\n",
       "    <tr>\n",
       "      <th>totalAtivo</th>\n",
       "      <td>4,265.00</td>\n",
       "      <td>73,818,067.96</td>\n",
       "      <td>932,355,003.88</td>\n",
       "      <td>0.00</td>\n",
       "      <td>1,154,730.00</td>\n",
       "      <td>4,895,367.00</td>\n",
       "      <td>20,290,799.00</td>\n",
       "      <td>54,823,500,000.00</td>\n",
       "    </tr>\n",
       "    <tr>\n",
       "      <th>totalPatrimonioLiquido</th>\n",
       "      <td>4,265.00</td>\n",
       "      <td>29,222,431.38</td>\n",
       "      <td>267,477,419.05</td>\n",
       "      <td>-186,719,734.00</td>\n",
       "      <td>270,000.00</td>\n",
       "      <td>1,680,000.00</td>\n",
       "      <td>8,391,311.00</td>\n",
       "      <td>12,923,280,000.00</td>\n",
       "    </tr>\n",
       "    <tr>\n",
       "      <th>endividamento</th>\n",
       "      <td>4,265.00</td>\n",
       "      <td>4,997,057.45</td>\n",
       "      <td>39,419,638.12</td>\n",
       "      <td>0.00</td>\n",
       "      <td>0.00</td>\n",
       "      <td>3,320.00</td>\n",
       "      <td>881,789.00</td>\n",
       "      <td>740,631,476.00</td>\n",
       "    </tr>\n",
       "    <tr>\n",
       "      <th>duplicatasAReceber</th>\n",
       "      <td>4,265.00</td>\n",
       "      <td>17,764,947.34</td>\n",
       "      <td>313,693,498.86</td>\n",
       "      <td>-22,780,710.00</td>\n",
       "      <td>65,504.00</td>\n",
       "      <td>1,202,429.00</td>\n",
       "      <td>6,902,467.00</td>\n",
       "      <td>20,093,580,000.00</td>\n",
       "    </tr>\n",
       "    <tr>\n",
       "      <th>estoque</th>\n",
       "      <td>4,265.00</td>\n",
       "      <td>16,158,390.33</td>\n",
       "      <td>87,488,883.37</td>\n",
       "      <td>-263,226.00</td>\n",
       "      <td>205,049.00</td>\n",
       "      <td>1,147,041.00</td>\n",
       "      <td>5,986,284.00</td>\n",
       "      <td>1,293,428,000.00</td>\n",
       "    </tr>\n",
       "    <tr>\n",
       "      <th>faturamentoBruto</th>\n",
       "      <td>7,201.00</td>\n",
       "      <td>61,188,144.93</td>\n",
       "      <td>353,942,738.01</td>\n",
       "      <td>1.00</td>\n",
       "      <td>1,550,254.00</td>\n",
       "      <td>4,269,138.00</td>\n",
       "      <td>18,790,402.00</td>\n",
       "      <td>6,426,115,000.00</td>\n",
       "    </tr>\n",
       "    <tr>\n",
       "      <th>margemBruta</th>\n",
       "      <td>7,201.00</td>\n",
       "      <td>17,880,032.15</td>\n",
       "      <td>123,683,120.94</td>\n",
       "      <td>-614,872,100.00</td>\n",
       "      <td>0.00</td>\n",
       "      <td>0.00</td>\n",
       "      <td>4,034,854.00</td>\n",
       "      <td>3,366,842,514.00</td>\n",
       "    </tr>\n",
       "    <tr>\n",
       "      <th>periodoDemonstrativoEmMeses</th>\n",
       "      <td>7,201.00</td>\n",
       "      <td>10.87</td>\n",
       "      <td>2.48</td>\n",
       "      <td>1.00</td>\n",
       "      <td>12.00</td>\n",
       "      <td>12.00</td>\n",
       "      <td>12.00</td>\n",
       "      <td>12.00</td>\n",
       "    </tr>\n",
       "    <tr>\n",
       "      <th>custos</th>\n",
       "      <td>7,201.00</td>\n",
       "      <td>31,083,344.44</td>\n",
       "      <td>218,824,002.16</td>\n",
       "      <td>-346,633,805.00</td>\n",
       "      <td>0.00</td>\n",
       "      <td>0.00</td>\n",
       "      <td>5,703,139.00</td>\n",
       "      <td>4,393,536,000.00</td>\n",
       "    </tr>\n",
       "    <tr>\n",
       "      <th>anoFundacao</th>\n",
       "      <td>7,201.00</td>\n",
       "      <td>2,005.92</td>\n",
       "      <td>11.49</td>\n",
       "      <td>1,910.00</td>\n",
       "      <td>2,000.00</td>\n",
       "      <td>2,009.00</td>\n",
       "      <td>2,015.00</td>\n",
       "      <td>2,020.00</td>\n",
       "    </tr>\n",
       "    <tr>\n",
       "      <th>capitalSocial</th>\n",
       "      <td>7,201.00</td>\n",
       "      <td>7,343,342.74</td>\n",
       "      <td>76,727,139.25</td>\n",
       "      <td>0.00</td>\n",
       "      <td>50,000.00</td>\n",
       "      <td>100,000.00</td>\n",
       "      <td>500,000.00</td>\n",
       "      <td>4,100,000,000.00</td>\n",
       "    </tr>\n",
       "    <tr>\n",
       "      <th>scorePontualidade</th>\n",
       "      <td>7,201.00</td>\n",
       "      <td>0.81</td>\n",
       "      <td>0.37</td>\n",
       "      <td>0.00</td>\n",
       "      <td>0.91</td>\n",
       "      <td>1.00</td>\n",
       "      <td>1.00</td>\n",
       "      <td>1.00</td>\n",
       "    </tr>\n",
       "    <tr>\n",
       "      <th>limiteEmpresaAnaliseCredito</th>\n",
       "      <td>7,201.00</td>\n",
       "      <td>2,488,809.70</td>\n",
       "      <td>26,971,353.60</td>\n",
       "      <td>0.00</td>\n",
       "      <td>8,640.00</td>\n",
       "      <td>52,800.00</td>\n",
       "      <td>387,353.00</td>\n",
       "      <td>1,974,261,312.00</td>\n",
       "    </tr>\n",
       "    <tr>\n",
       "      <th>cluster1</th>\n",
       "      <td>6,631.00</td>\n",
       "      <td>2.29</td>\n",
       "      <td>1.49</td>\n",
       "      <td>0.00</td>\n",
       "      <td>1.00</td>\n",
       "      <td>2.00</td>\n",
       "      <td>4.00</td>\n",
       "      <td>5.00</td>\n",
       "    </tr>\n",
       "  </tbody>\n",
       "</table>\n",
       "</div>"
      ],
      "text/plain": [
       "                               count          mean            std  \\\n",
       "numero_solicitacao          7,201.00      4,562.63       2,601.48   \n",
       "maiorAtraso                 7,201.00         24.37          64.03   \n",
       "margemBrutaAcumulada        7,201.00          0.37           0.20   \n",
       "percentualProtestos         6,057.00          0.01           0.56   \n",
       "prazoMedioRecebimentoVendas 7,201.00         24.19          71.06   \n",
       "titulosEmAberto             7,201.00     61,165.54     216,805.22   \n",
       "valorSolicitado             7,201.00    480,475.47  15,912,896.04   \n",
       "diferencaPercentualRisco    7,201.00          0.74           0.13   \n",
       "percentualRisco             7,201.00          0.26           0.13   \n",
       "dashboardCorrelacao         7,201.00          0.04           0.50   \n",
       "valorAprovado               7,201.00    174,638.51     454,544.96   \n",
       "ativoCirculante             4,265.00 47,400,990.95 491,815,257.65   \n",
       "passivoCirculante           4,265.00 36,537,171.99 520,828,070.37   \n",
       "totalAtivo                  4,265.00 73,818,067.96 932,355,003.88   \n",
       "totalPatrimonioLiquido      4,265.00 29,222,431.38 267,477,419.05   \n",
       "endividamento               4,265.00  4,997,057.45  39,419,638.12   \n",
       "duplicatasAReceber          4,265.00 17,764,947.34 313,693,498.86   \n",
       "estoque                     4,265.00 16,158,390.33  87,488,883.37   \n",
       "faturamentoBruto            7,201.00 61,188,144.93 353,942,738.01   \n",
       "margemBruta                 7,201.00 17,880,032.15 123,683,120.94   \n",
       "periodoDemonstrativoEmMeses 7,201.00         10.87           2.48   \n",
       "custos                      7,201.00 31,083,344.44 218,824,002.16   \n",
       "anoFundacao                 7,201.00      2,005.92          11.49   \n",
       "capitalSocial               7,201.00  7,343,342.74  76,727,139.25   \n",
       "scorePontualidade           7,201.00          0.81           0.37   \n",
       "limiteEmpresaAnaliseCredito 7,201.00  2,488,809.70  26,971,353.60   \n",
       "cluster1                    6,631.00          2.29           1.49   \n",
       "\n",
       "                                        min          25%          50%  \\\n",
       "numero_solicitacao                     1.00     2,353.00     4,585.00   \n",
       "maiorAtraso                            0.00         3.00         6.00   \n",
       "margemBrutaAcumulada                   0.00         0.29         0.41   \n",
       "percentualProtestos                    0.00         0.00         0.00   \n",
       "prazoMedioRecebimentoVendas            0.00         0.00         0.00   \n",
       "titulosEmAberto                        0.00         0.00         0.00   \n",
       "valorSolicitado                    3,000.00    25,000.00    50,000.00   \n",
       "diferencaPercentualRisco               0.26         0.64         0.75   \n",
       "percentualRisco                        0.00         0.15         0.25   \n",
       "dashboardCorrelacao                   -1.00         0.00         0.00   \n",
       "valorAprovado                          0.00    20,000.00    40,000.00   \n",
       "ativoCirculante                        0.00   987,594.00 4,235,889.00   \n",
       "passivoCirculante               -355,509.00   214,227.00 1,437,718.00   \n",
       "totalAtivo                             0.00 1,154,730.00 4,895,367.00   \n",
       "totalPatrimonioLiquido      -186,719,734.00   270,000.00 1,680,000.00   \n",
       "endividamento                          0.00         0.00     3,320.00   \n",
       "duplicatasAReceber           -22,780,710.00    65,504.00 1,202,429.00   \n",
       "estoque                         -263,226.00   205,049.00 1,147,041.00   \n",
       "faturamentoBruto                       1.00 1,550,254.00 4,269,138.00   \n",
       "margemBruta                 -614,872,100.00         0.00         0.00   \n",
       "periodoDemonstrativoEmMeses            1.00        12.00        12.00   \n",
       "custos                      -346,633,805.00         0.00         0.00   \n",
       "anoFundacao                        1,910.00     2,000.00     2,009.00   \n",
       "capitalSocial                          0.00    50,000.00   100,000.00   \n",
       "scorePontualidade                      0.00         0.91         1.00   \n",
       "limiteEmpresaAnaliseCredito            0.00     8,640.00    52,800.00   \n",
       "cluster1                               0.00         1.00         2.00   \n",
       "\n",
       "                                      75%               max  \n",
       "numero_solicitacao               6,827.00          9,034.00  \n",
       "maiorAtraso                         22.00            977.00  \n",
       "margemBrutaAcumulada                 0.51              1.00  \n",
       "percentualProtestos                  0.00             36.98  \n",
       "prazoMedioRecebimentoVendas         32.00          1,605.00  \n",
       "titulosEmAberto                 18,605.30      2,836,656.00  \n",
       "valorSolicitado                130,000.00  1,200,000,000.00  \n",
       "diferencaPercentualRisco             0.85              1.00  \n",
       "percentualRisco                      0.36              0.74  \n",
       "dashboardCorrelacao                  0.00              1.00  \n",
       "valorAprovado                  100,000.00      6,550,000.00  \n",
       "ativoCirculante             17,356,269.00 29,038,320,000.00  \n",
       "passivoCirculante            7,810,246.00 27,503,820,000.00  \n",
       "totalAtivo                  20,290,799.00 54,823,500,000.00  \n",
       "totalPatrimonioLiquido       8,391,311.00 12,923,280,000.00  \n",
       "endividamento                  881,789.00    740,631,476.00  \n",
       "duplicatasAReceber           6,902,467.00 20,093,580,000.00  \n",
       "estoque                      5,986,284.00  1,293,428,000.00  \n",
       "faturamentoBruto            18,790,402.00  6,426,115,000.00  \n",
       "margemBruta                  4,034,854.00  3,366,842,514.00  \n",
       "periodoDemonstrativoEmMeses         12.00             12.00  \n",
       "custos                       5,703,139.00  4,393,536,000.00  \n",
       "anoFundacao                      2,015.00          2,020.00  \n",
       "capitalSocial                  500,000.00  4,100,000,000.00  \n",
       "scorePontualidade                    1.00              1.00  \n",
       "limiteEmpresaAnaliseCredito    387,353.00  1,974,261,312.00  \n",
       "cluster1                             4.00              5.00  "
      ]
     },
     "execution_count": 11,
     "metadata": {},
     "output_type": "execute_result"
    }
   ],
   "source": [
    "# filtra as solicitações aprovadas\n",
    "@pf.register_dataframe_method\n",
    "def filter_status(\n",
    "\tdata: pd.DataFrame, # dataframe com a coluna 'status'\n",
    "\t) -> pd.DataFrame:\n",
    "\tX = data.copy()\n",
    "\tX = X[X.status.isin(['AprovadoAnalista', 'AprovadoComite'])]\n",
    "\tX = X[X.anoFundacao > 1900]\n",
    "\tX = X[X.faturamentoBruto > 0]\n",
    "\tX = X[X.periodoDemonstrativoEmMeses > 0]\n",
    "\treturn X\n",
    "data.filter_status().describe().T"
   ]
  },
  {
   "cell_type": "markdown",
   "metadata": {},
   "source": [
    "#### feature engineering"
   ]
  },
  {
   "cell_type": "code",
   "execution_count": 12,
   "metadata": {},
   "outputs": [
    {
     "name": "stdout",
     "output_type": "stream",
     "text": [
      "<class 'pandas.core.frame.DataFrame'>\n",
      "Int64Index: 7201 entries, 0 to 8961\n",
      "Data columns (total 45 columns):\n",
      " #   Column                        Non-Null Count  Dtype         \n",
      "---  ------                        --------------  -----         \n",
      " 0   numero_solicitacao            7201 non-null   float64       \n",
      " 1   razaoSocial                   7201 non-null   object        \n",
      " 2   nomeFantasia                  7201 non-null   object        \n",
      " 3   cnpjSemTraco                  7201 non-null   object        \n",
      " 4   maiorAtraso                   7201 non-null   int64         \n",
      " 5   margemBrutaAcumulada          7201 non-null   float64       \n",
      " 6   percentualProtestos           6057 non-null   float64       \n",
      " 7   primeiraCompra                7159 non-null   object        \n",
      " 8   prazoMedioRecebimentoVendas   7201 non-null   int64         \n",
      " 9   titulosEmAberto               7201 non-null   float64       \n",
      " 10  valorSolicitado               7201 non-null   float64       \n",
      " 11  status                        7201 non-null   object        \n",
      " 12  definicaoRisco                7201 non-null   object        \n",
      " 13  diferencaPercentualRisco      7201 non-null   float64       \n",
      " 14  percentualRisco               7201 non-null   float64       \n",
      " 15  dashboardCorrelacao           7201 non-null   float64       \n",
      " 16  valorAprovado                 7201 non-null   float64       \n",
      " 17  dataAprovadoEmComite          526 non-null    object        \n",
      " 18  periodoBalanco                4265 non-null   object        \n",
      " 19  ativoCirculante               4265 non-null   float64       \n",
      " 20  passivoCirculante             4265 non-null   float64       \n",
      " 21  totalAtivo                    4265 non-null   float64       \n",
      " 22  totalPatrimonioLiquido        4265 non-null   float64       \n",
      " 23  endividamento                 4265 non-null   float64       \n",
      " 24  duplicatasAReceber            4265 non-null   float64       \n",
      " 25  estoque                       4265 non-null   float64       \n",
      " 26  faturamentoBruto              7201 non-null   float64       \n",
      " 27  margemBruta                   7201 non-null   float64       \n",
      " 28  periodoDemonstrativoEmMeses   7201 non-null   float64       \n",
      " 29  custos                        7201 non-null   float64       \n",
      " 30  anoFundacao                   7201 non-null   float64       \n",
      " 31  intervaloFundacao             7201 non-null   object        \n",
      " 32  capitalSocial                 7201 non-null   float64       \n",
      " 33  restricoes                    7201 non-null   object        \n",
      " 34  empresa_MeEppMei              7201 non-null   object        \n",
      " 35  scorePontualidade             7201 non-null   float64       \n",
      " 36  limiteEmpresaAnaliseCredito   7201 non-null   float64       \n",
      " 37  dataAprovadoNivelAnalista     6675 non-null   object        \n",
      " 38  cluster1                      6631 non-null   float64       \n",
      " 39  faturamentoMensal             7201 non-null   float64       \n",
      " 40  margemMensal                  7201 non-null   float64       \n",
      " 41  margem_percentual             7201 non-null   float64       \n",
      " 42  dt_dataAprovadoNivelAnalista  6675 non-null   datetime64[ns]\n",
      " 43  dt_primeiraCompra             7155 non-null   datetime64[ns]\n",
      " 44  tempoPrimeiraCompra           6631 non-null   float64       \n",
      "dtypes: datetime64[ns](2), float64(29), int64(2), object(12)\n",
      "memory usage: 2.5+ MB\n"
     ]
    }
   ],
   "source": [
    "# gera as features calculadas sem usar as colunas de documentação\n",
    "@pf.register_dataframe_method\n",
    "def engineer(\n",
    "\t\tdata: pd.DataFrame,\n",
    "\t) -> pd.DataFrame:\n",
    "\tX = data.copy()\n",
    "\tX['faturamentoMensal'] = X.faturamentoBruto / X.periodoDemonstrativoEmMeses\n",
    "\tX['margemMensal'] = X.margemBruta / X.periodoDemonstrativoEmMeses\n",
    "\tX['margem_percentual'] = (X.margemMensal / X.faturamentoMensal).replace([np.inf, np.NINF], np.nan)\n",
    "\tX['dt_dataAprovadoNivelAnalista'] = pd.to_datetime(X.dataAprovadoNivelAnalista, errors='coerce')\n",
    "\tX['dt_primeiraCompra'] = pd.to_datetime(X.primeiraCompra, errors='coerce')\n",
    "\tX['tempoPrimeiraCompra'] = (X.dt_dataAprovadoNivelAnalista - X.dt_primeiraCompra).dt.days\n",
    "\treturn X\n",
    "\n",
    "data.filter_status().engineer().info()"
   ]
  },
  {
   "cell_type": "markdown",
   "metadata": {},
   "source": [
    "#### seleção de features"
   ]
  },
  {
   "cell_type": "code",
   "execution_count": 13,
   "metadata": {},
   "outputs": [
    {
     "name": "stdout",
     "output_type": "stream",
     "text": [
      "<class 'pandas.core.frame.DataFrame'>\n",
      "Int64Index: 7201 entries, 0 to 8961\n",
      "Data columns (total 11 columns):\n",
      " #   Column                       Non-Null Count  Dtype  \n",
      "---  ------                       --------------  -----  \n",
      " 0   prazoMedioRecebimentoVendas  7201 non-null   int64  \n",
      " 1   scorePontualidade            7201 non-null   float64\n",
      " 2   restricoes                   7201 non-null   object \n",
      " 3   faturamentoMensal            7201 non-null   float64\n",
      " 4   margem_percentual            7201 non-null   float64\n",
      " 5   anoFundacao                  7201 non-null   float64\n",
      " 6   tempoPrimeiraCompra          6631 non-null   float64\n",
      " 7   empresa_MeEppMei             7201 non-null   object \n",
      " 8   titulosEmAberto              7201 non-null   float64\n",
      " 9   cluster1                     6631 non-null   float64\n",
      " 10  maiorAtraso                  7201 non-null   int64  \n",
      "dtypes: float64(7), int64(2), object(2)\n",
      "memory usage: 675.1+ KB\n"
     ]
    }
   ],
   "source": [
    "# seleciona as features relevantes\n",
    "@pf.register_dataframe_method\n",
    "def select(\n",
    "  data: pd.DataFrame,\n",
    "  identifier: bool = False,\n",
    ") -> pd.DataFrame:\n",
    "\tkeep = [\n",
    "\t\t\t# 'percentualRisco',\n",
    "\t\t\t# 'valorAprovado',\n",
    "\t\t\t# 'limiteEmpresaAnaliseCredito',\n",
    "\t\t\t'faturamentoMensal',\n",
    "\t\t\t'anoFundacao',\n",
    "\t\t\t'restricoes',\n",
    "\t\t\t'empresa_MeEppMei',\n",
    "\t\t\t'scorePontualidade',\n",
    "\t\t\t'margem_percentual',\n",
    "\t\t\t'maiorAtraso',\n",
    "\t\t\t'prazo_medio_cobranca',\n",
    "\t\t\t'tempoPrimeiraCompra',\n",
    "\t\t\t'prazoMedioRecebimentoVendas',\n",
    "\t\t\t'titulosEmAberto',\n",
    "\t\t\t'cluster1',\n",
    "\t\t]\n",
    "\tif identifier:\n",
    "\t\tkeep = keep + ['numero_solicitacao']\n",
    "\tintersection = list(set(data.columns).intersection(set(keep)))\n",
    "\treturn data[intersection]\n",
    "data.filter_status().engineer().select().info()"
   ]
  },
  {
   "cell_type": "markdown",
   "metadata": {},
   "source": [
    "#### data types"
   ]
  },
  {
   "cell_type": "code",
   "execution_count": 14,
   "metadata": {},
   "outputs": [
    {
     "name": "stdout",
     "output_type": "stream",
     "text": [
      "<class 'pandas.core.frame.DataFrame'>\n",
      "Int64Index: 7201 entries, 0 to 8961\n",
      "Data columns (total 11 columns):\n",
      " #   Column                       Non-Null Count  Dtype  \n",
      "---  ------                       --------------  -----  \n",
      " 0   prazoMedioRecebimentoVendas  7201 non-null   float32\n",
      " 1   scorePontualidade            7201 non-null   float32\n",
      " 2   restricoes                   7201 non-null   float32\n",
      " 3   faturamentoMensal            7201 non-null   float32\n",
      " 4   margem_percentual            7201 non-null   float32\n",
      " 5   anoFundacao                  7201 non-null   float32\n",
      " 6   tempoPrimeiraCompra          6631 non-null   float32\n",
      " 7   empresa_MeEppMei             7201 non-null   float32\n",
      " 8   titulosEmAberto              7201 non-null   float32\n",
      " 9   cluster1                     6631 non-null   float64\n",
      " 10  maiorAtraso                  7201 non-null   float32\n",
      "dtypes: float32(10), float64(1)\n",
      "memory usage: 393.8 KB\n"
     ]
    }
   ],
   "source": [
    "# converte data types\n",
    "@pf.register_dataframe_method\n",
    "def type_cast(\n",
    "\t\tdata: pd.DataFrame,\n",
    "\t) -> pd.DataFrame:\n",
    "\tX = data.copy()\n",
    "\tfor col in X.columns:\n",
    "\t\tif col in ['cluster1', 'cluster2']:\n",
    "\t\t\tX[col] = X[col].astype('int32', errors='ignore')\n",
    "\t\telse:\n",
    "\t\t\tX[col] = X[col].astype('float32')\t\t\n",
    "\treturn X\n",
    "data.filter_status().engineer().select().type_cast().info()"
   ]
  },
  {
   "attachments": {},
   "cell_type": "markdown",
   "metadata": {},
   "source": [
    "#### limpeza"
   ]
  },
  {
   "cell_type": "code",
   "execution_count": 15,
   "metadata": {},
   "outputs": [
    {
     "name": "stdout",
     "output_type": "stream",
     "text": [
      "<class 'pandas.core.frame.DataFrame'>\n",
      "Int64Index: 6631 entries, 0 to 8961\n",
      "Data columns (total 11 columns):\n",
      " #   Column                       Non-Null Count  Dtype  \n",
      "---  ------                       --------------  -----  \n",
      " 0   prazoMedioRecebimentoVendas  6631 non-null   float32\n",
      " 1   scorePontualidade            6631 non-null   float32\n",
      " 2   restricoes                   6631 non-null   float32\n",
      " 3   faturamentoMensal            6631 non-null   float32\n",
      " 4   margem_percentual            6631 non-null   float32\n",
      " 5   anoFundacao                  6631 non-null   float32\n",
      " 6   tempoPrimeiraCompra          6631 non-null   float32\n",
      " 7   empresa_MeEppMei             6631 non-null   float32\n",
      " 8   titulosEmAberto              6631 non-null   float32\n",
      " 9   cluster1                     6631 non-null   float64\n",
      " 10  maiorAtraso                  6631 non-null   float32\n",
      "dtypes: float32(10), float64(1)\n",
      "memory usage: 362.6 KB\n"
     ]
    }
   ],
   "source": [
    "# elimina valores nulos\n",
    "@pf.register_dataframe_method\n",
    "def clean(\n",
    "  data: pd.DataFrame,\n",
    ") -> pd.DataFrame:\n",
    "\treturn data.dropna()\n",
    "data.filter_status().engineer().select().type_cast().clean().info()"
   ]
  },
  {
   "attachments": {},
   "cell_type": "markdown",
   "metadata": {},
   "source": [
    "#### padronização"
   ]
  },
  {
   "cell_type": "code",
   "execution_count": 16,
   "metadata": {},
   "outputs": [
    {
     "data": {
      "text/html": [
       "<div>\n",
       "<style scoped>\n",
       "    .dataframe tbody tr th:only-of-type {\n",
       "        vertical-align: middle;\n",
       "    }\n",
       "\n",
       "    .dataframe tbody tr th {\n",
       "        vertical-align: top;\n",
       "    }\n",
       "\n",
       "    .dataframe thead th {\n",
       "        text-align: right;\n",
       "    }\n",
       "</style>\n",
       "<table border=\"1\" class=\"dataframe\">\n",
       "  <thead>\n",
       "    <tr style=\"text-align: right;\">\n",
       "      <th></th>\n",
       "      <th>count</th>\n",
       "      <th>mean</th>\n",
       "      <th>std</th>\n",
       "      <th>min</th>\n",
       "      <th>25%</th>\n",
       "      <th>50%</th>\n",
       "      <th>75%</th>\n",
       "      <th>max</th>\n",
       "    </tr>\n",
       "  </thead>\n",
       "  <tbody>\n",
       "    <tr>\n",
       "      <th>prazoMedioRecebimentoVendas</th>\n",
       "      <td>6,631.00</td>\n",
       "      <td>-0.00</td>\n",
       "      <td>1.00</td>\n",
       "      <td>-0.51</td>\n",
       "      <td>-0.51</td>\n",
       "      <td>-0.51</td>\n",
       "      <td>0.26</td>\n",
       "      <td>5.20</td>\n",
       "    </tr>\n",
       "    <tr>\n",
       "      <th>scorePontualidade</th>\n",
       "      <td>6,631.00</td>\n",
       "      <td>-0.00</td>\n",
       "      <td>1.00</td>\n",
       "      <td>-2.29</td>\n",
       "      <td>0.29</td>\n",
       "      <td>0.50</td>\n",
       "      <td>0.50</td>\n",
       "      <td>0.50</td>\n",
       "    </tr>\n",
       "    <tr>\n",
       "      <th>restricoes</th>\n",
       "      <td>6,631.00</td>\n",
       "      <td>0.00</td>\n",
       "      <td>1.00</td>\n",
       "      <td>-0.24</td>\n",
       "      <td>-0.24</td>\n",
       "      <td>-0.24</td>\n",
       "      <td>-0.24</td>\n",
       "      <td>4.10</td>\n",
       "    </tr>\n",
       "    <tr>\n",
       "      <th>faturamentoMensal</th>\n",
       "      <td>6,631.00</td>\n",
       "      <td>-0.00</td>\n",
       "      <td>1.00</td>\n",
       "      <td>-0.28</td>\n",
       "      <td>-0.27</td>\n",
       "      <td>-0.25</td>\n",
       "      <td>-0.16</td>\n",
       "      <td>7.90</td>\n",
       "    </tr>\n",
       "    <tr>\n",
       "      <th>margem_percentual</th>\n",
       "      <td>6,631.00</td>\n",
       "      <td>-0.00</td>\n",
       "      <td>1.00</td>\n",
       "      <td>-0.81</td>\n",
       "      <td>-0.81</td>\n",
       "      <td>-0.81</td>\n",
       "      <td>0.69</td>\n",
       "      <td>2.98</td>\n",
       "    </tr>\n",
       "    <tr>\n",
       "      <th>anoFundacao</th>\n",
       "      <td>6,631.00</td>\n",
       "      <td>0.00</td>\n",
       "      <td>1.00</td>\n",
       "      <td>-3.41</td>\n",
       "      <td>-0.57</td>\n",
       "      <td>0.26</td>\n",
       "      <td>0.81</td>\n",
       "      <td>1.18</td>\n",
       "    </tr>\n",
       "    <tr>\n",
       "      <th>tempoPrimeiraCompra</th>\n",
       "      <td>6,631.00</td>\n",
       "      <td>-0.00</td>\n",
       "      <td>1.00</td>\n",
       "      <td>-1.19</td>\n",
       "      <td>-0.78</td>\n",
       "      <td>-0.31</td>\n",
       "      <td>0.59</td>\n",
       "      <td>2.43</td>\n",
       "    </tr>\n",
       "    <tr>\n",
       "      <th>empresa_MeEppMei</th>\n",
       "      <td>6,631.00</td>\n",
       "      <td>0.00</td>\n",
       "      <td>1.00</td>\n",
       "      <td>-0.78</td>\n",
       "      <td>-0.78</td>\n",
       "      <td>-0.78</td>\n",
       "      <td>1.29</td>\n",
       "      <td>1.29</td>\n",
       "    </tr>\n",
       "    <tr>\n",
       "      <th>titulosEmAberto</th>\n",
       "      <td>6,631.00</td>\n",
       "      <td>0.00</td>\n",
       "      <td>1.00</td>\n",
       "      <td>-0.33</td>\n",
       "      <td>-0.33</td>\n",
       "      <td>-0.33</td>\n",
       "      <td>-0.21</td>\n",
       "      <td>5.96</td>\n",
       "    </tr>\n",
       "    <tr>\n",
       "      <th>cluster1</th>\n",
       "      <td>6,631.00</td>\n",
       "      <td>0.00</td>\n",
       "      <td>1.00</td>\n",
       "      <td>-1.54</td>\n",
       "      <td>-0.87</td>\n",
       "      <td>-0.20</td>\n",
       "      <td>1.15</td>\n",
       "      <td>1.82</td>\n",
       "    </tr>\n",
       "    <tr>\n",
       "      <th>maiorAtraso</th>\n",
       "      <td>6,631.00</td>\n",
       "      <td>0.00</td>\n",
       "      <td>1.00</td>\n",
       "      <td>-0.52</td>\n",
       "      <td>-0.44</td>\n",
       "      <td>-0.37</td>\n",
       "      <td>-0.01</td>\n",
       "      <td>6.22</td>\n",
       "    </tr>\n",
       "  </tbody>\n",
       "</table>\n",
       "</div>"
      ],
      "text/plain": [
       "                               count  mean  std   min   25%   50%   75%  max\n",
       "prazoMedioRecebimentoVendas 6,631.00 -0.00 1.00 -0.51 -0.51 -0.51  0.26 5.20\n",
       "scorePontualidade           6,631.00 -0.00 1.00 -2.29  0.29  0.50  0.50 0.50\n",
       "restricoes                  6,631.00  0.00 1.00 -0.24 -0.24 -0.24 -0.24 4.10\n",
       "faturamentoMensal           6,631.00 -0.00 1.00 -0.28 -0.27 -0.25 -0.16 7.90\n",
       "margem_percentual           6,631.00 -0.00 1.00 -0.81 -0.81 -0.81  0.69 2.98\n",
       "anoFundacao                 6,631.00  0.00 1.00 -3.41 -0.57  0.26  0.81 1.18\n",
       "tempoPrimeiraCompra         6,631.00 -0.00 1.00 -1.19 -0.78 -0.31  0.59 2.43\n",
       "empresa_MeEppMei            6,631.00  0.00 1.00 -0.78 -0.78 -0.78  1.29 1.29\n",
       "titulosEmAberto             6,631.00  0.00 1.00 -0.33 -0.33 -0.33 -0.21 5.96\n",
       "cluster1                    6,631.00  0.00 1.00 -1.54 -0.87 -0.20  1.15 1.82\n",
       "maiorAtraso                 6,631.00  0.00 1.00 -0.52 -0.44 -0.37 -0.01 6.22"
      ]
     },
     "execution_count": 16,
     "metadata": {},
     "output_type": "execute_result"
    }
   ],
   "source": [
    "# aplica padronização por z-score\n",
    "@pf.register_dataframe_method\n",
    "def standardize(\n",
    "\t\tdata: pd.DataFrame,\n",
    "\t) -> pd.DataFrame:\n",
    "\tX = data.copy()\n",
    "\t# clip outliers\n",
    "\tX = X.clip(lower=X.quantile(0.01), upper=X.quantile(0.99), axis=1)\n",
    "\tstandardizer = StandardScaler()\n",
    "\tX = pd.DataFrame(standardizer.fit_transform(X), columns=X.columns)\n",
    "\treturn X\n",
    "data.filter_status().engineer().select().type_cast().clean().standardize().describe().T"
   ]
  },
  {
   "attachments": {},
   "cell_type": "markdown",
   "metadata": {},
   "source": [
    "⭐ nota\n",
    "<div style=\"color:#222200;background-color:#FFFFBB;padding:10px;\"><table style=\"border:0px solid;width:100%\">\n",
    "<tr><td style=\"border:0px;font-size:60px;width:100px;\">⭐</td><td style=\"border:0px;\">\n",
    "- foram estudadas duas hipóteses, utilizando ou descartando as colunas de métricas financeiras derivadas do balanço patrimonial<br>\n",
    "- para cada hipótese, foram testados 3 algoritmos diferentes de classificação<br>\n",
    "- para cada algoritmo, foram testadas as principais variações dos seus hiperparâmetros<br>\n",
    "- a busca foi feita por otimização bayesiana, utilizando validação cruzada com 5 partições <br>\n",
    "- o particionamento do conjunto de validação foi feito com 20% dos registros disponíveis\n",
    "</td></tr></table></div>"
   ]
  },
  {
   "attachments": {},
   "cell_type": "markdown",
   "metadata": {},
   "source": [
    "#### rotinas de otimização"
   ]
  },
  {
   "cell_type": "code",
   "execution_count": 17,
   "metadata": {},
   "outputs": [],
   "source": [
    "# callback para salvar o melhor modelo\n",
    "def callback(\n",
    "\t\tstudy: opt.study.Study,\n",
    "\t\ttrial: opt.trial.FrozenTrial,\n",
    "\t) -> None:\n",
    "\tif study.best_trial.number == trial.number:\n",
    "\t\tstudy.set_user_attr(key=\"best_estimator\", value=trial.user_attrs[\"estimator\"])"
   ]
  },
  {
   "cell_type": "code",
   "execution_count": 18,
   "metadata": {},
   "outputs": [],
   "source": [
    "# plota os resultados da otimização e a avaliação do melhor modelo no dataset de teste\n",
    "def plot_optimization_results(\n",
    "\t\tstudy: opt.study.Study,\n",
    "\t\ty_test: pd.DataFrame,\n",
    "\t\ty_pred: np.ndarray,\n",
    "\t) -> None:\n",
    "\n",
    "\t# plota os resultados da otimização\n",
    "\tdisplay(opt.visualization.plot_optimization_history(study))\n",
    "\ttry:\n",
    "\t\tdisplay(opt.visualization.plot_param_importances(study))\n",
    "\texcept:\n",
    "\t\t...\n",
    "\t\n",
    "\t# exibe os resultados\n",
    "\t# results = study.trials_dataframe()\n",
    "\t# results = results.drop(columns=['datetime_start', # 'user_attrs_best_estimator',\n",
    "\t# \t'datetime_complete', 'duration', 'state'])\n",
    "\t# display(results.head(10))\n",
    "\n",
    "\t# imprime o melhor modelo\n",
    "\tprint (f'Best trial: {study.best_trial.value}')\n",
    "\tprint (f'Best parameters: {study.best_params}')\n",
    "\n",
    "\t# matriz de confusão\n",
    "\tprint(classification_report(y_test, y_pred))\n",
    "\tdisp = ConfusionMatrixDisplay(confusion_matrix(y_test, y_pred))#, display_labels=fit.classes_)\n",
    "\tdisp.plot()\n",
    "\tplt.show()\n",
    "\t\n",
    "\t# curva ROC\n",
    "\t# fpr, tpr, thresholds = roc_curve(y_test, y_pred)\n",
    "\t# roc_auc = auc(fpr, tpr)\n",
    "\t# disp = RocCurveDisplay(fpr=fpr, tpr=tpr, roc_auc=roc_auc) #, estimator_name='example estimator')\n",
    "\t# display.plot()\n"
   ]
  },
  {
   "cell_type": "code",
   "execution_count": 19,
   "metadata": {},
   "outputs": [],
   "source": [
    "# rotina de otimização bayesiana\n",
    "def optimize(\n",
    "\t\tobjective, #Callable,\n",
    "    description: str,\n",
    "    n_trials: int,\n",
    "\t\tX: pd.DataFrame,\n",
    "\t\ty: pd.DataFrame,\n",
    "\t\tX_test: pd.DataFrame,\n",
    "\t\ty_test: pd.DataFrame,\n",
    "\t) -> dict: \n",
    "        \n",
    "\t# cria o estudo e executa a otimização\n",
    "\tstudy = opt.create_study(direction='maximize')\n",
    "\tstudy.optimize(lambda trial:objective(trial, X, y),\n",
    "\t\tcallbacks=[callback], n_trials=n_trials, timeout=60*5, n_jobs=-1, show_progress_bar = True)\n",
    "\n",
    "\t# fita e salva o melhor modelo\n",
    "\tfit = study.user_attrs[\"best_estimator\"].fit(X, y)\n",
    "\tjoblib.dump(fit, f'models/{description}.joblib')\n",
    "\n",
    "\t# avalia os resultados no conjunto de teste\n",
    "\ty_pred = fit.predict(X_test)\n",
    "\n",
    "\t# plota os resultados\n",
    "\tplot_optimization_results(study, y_test, y_pred)\n",
    "\t\n",
    "\treturn {\n",
    "\t\t'description': description,\n",
    "\t\t'estimator': fit,\n",
    "\t\t'results': study.trials_dataframe(),\n",
    "\t\t'predictions': y_pred,\n",
    "\t}\n"
   ]
  },
  {
   "attachments": {},
   "cell_type": "markdown",
   "metadata": {},
   "source": [
    "### Hipótese 1: Descartando as métricas de Balanço Patrimonial"
   ]
  },
  {
   "cell_type": "markdown",
   "metadata": {},
   "source": [
    "neste cenário, ficam disponíveis mais registros para alimentar o modelo, porém a quantidade de features é reduzida"
   ]
  },
  {
   "attachments": {},
   "cell_type": "markdown",
   "metadata": {},
   "source": [
    "#### preprocessamento"
   ]
  },
  {
   "cell_type": "code",
   "execution_count": 20,
   "metadata": {},
   "outputs": [
    {
     "data": {
      "text/html": [
       "<div>\n",
       "<style scoped>\n",
       "    .dataframe tbody tr th:only-of-type {\n",
       "        vertical-align: middle;\n",
       "    }\n",
       "\n",
       "    .dataframe tbody tr th {\n",
       "        vertical-align: top;\n",
       "    }\n",
       "\n",
       "    .dataframe thead th {\n",
       "        text-align: right;\n",
       "    }\n",
       "</style>\n",
       "<table border=\"1\" class=\"dataframe\">\n",
       "  <thead>\n",
       "    <tr style=\"text-align: right;\">\n",
       "      <th></th>\n",
       "      <th>count</th>\n",
       "      <th>mean</th>\n",
       "      <th>std</th>\n",
       "      <th>min</th>\n",
       "      <th>25%</th>\n",
       "      <th>50%</th>\n",
       "      <th>75%</th>\n",
       "      <th>max</th>\n",
       "    </tr>\n",
       "  </thead>\n",
       "  <tbody>\n",
       "    <tr>\n",
       "      <th>prazoMedioRecebimentoVendas</th>\n",
       "      <td>5,304.00</td>\n",
       "      <td>0.00</td>\n",
       "      <td>1.00</td>\n",
       "      <td>-0.51</td>\n",
       "      <td>-0.51</td>\n",
       "      <td>-0.51</td>\n",
       "      <td>0.26</td>\n",
       "      <td>5.20</td>\n",
       "    </tr>\n",
       "    <tr>\n",
       "      <th>scorePontualidade</th>\n",
       "      <td>5,304.00</td>\n",
       "      <td>0.01</td>\n",
       "      <td>0.99</td>\n",
       "      <td>-2.29</td>\n",
       "      <td>0.31</td>\n",
       "      <td>0.50</td>\n",
       "      <td>0.50</td>\n",
       "      <td>0.50</td>\n",
       "    </tr>\n",
       "    <tr>\n",
       "      <th>restricoes</th>\n",
       "      <td>5,304.00</td>\n",
       "      <td>-0.00</td>\n",
       "      <td>1.00</td>\n",
       "      <td>-0.24</td>\n",
       "      <td>-0.24</td>\n",
       "      <td>-0.24</td>\n",
       "      <td>-0.24</td>\n",
       "      <td>4.10</td>\n",
       "    </tr>\n",
       "    <tr>\n",
       "      <th>faturamentoMensal</th>\n",
       "      <td>5,304.00</td>\n",
       "      <td>0.02</td>\n",
       "      <td>1.05</td>\n",
       "      <td>-0.28</td>\n",
       "      <td>-0.27</td>\n",
       "      <td>-0.25</td>\n",
       "      <td>-0.15</td>\n",
       "      <td>7.90</td>\n",
       "    </tr>\n",
       "    <tr>\n",
       "      <th>margem_percentual</th>\n",
       "      <td>5,304.00</td>\n",
       "      <td>0.01</td>\n",
       "      <td>1.01</td>\n",
       "      <td>-0.81</td>\n",
       "      <td>-0.81</td>\n",
       "      <td>-0.81</td>\n",
       "      <td>0.69</td>\n",
       "      <td>2.98</td>\n",
       "    </tr>\n",
       "    <tr>\n",
       "      <th>anoFundacao</th>\n",
       "      <td>5,304.00</td>\n",
       "      <td>-0.01</td>\n",
       "      <td>1.01</td>\n",
       "      <td>-3.41</td>\n",
       "      <td>-0.57</td>\n",
       "      <td>0.26</td>\n",
       "      <td>0.81</td>\n",
       "      <td>1.18</td>\n",
       "    </tr>\n",
       "    <tr>\n",
       "      <th>tempoPrimeiraCompra</th>\n",
       "      <td>5,304.00</td>\n",
       "      <td>0.01</td>\n",
       "      <td>1.01</td>\n",
       "      <td>-1.19</td>\n",
       "      <td>-0.78</td>\n",
       "      <td>-0.31</td>\n",
       "      <td>0.61</td>\n",
       "      <td>2.43</td>\n",
       "    </tr>\n",
       "    <tr>\n",
       "      <th>empresa_MeEppMei</th>\n",
       "      <td>5,304.00</td>\n",
       "      <td>-0.01</td>\n",
       "      <td>1.00</td>\n",
       "      <td>-0.78</td>\n",
       "      <td>-0.78</td>\n",
       "      <td>-0.78</td>\n",
       "      <td>1.29</td>\n",
       "      <td>1.29</td>\n",
       "    </tr>\n",
       "    <tr>\n",
       "      <th>titulosEmAberto</th>\n",
       "      <td>5,304.00</td>\n",
       "      <td>0.00</td>\n",
       "      <td>1.00</td>\n",
       "      <td>-0.33</td>\n",
       "      <td>-0.33</td>\n",
       "      <td>-0.33</td>\n",
       "      <td>-0.21</td>\n",
       "      <td>5.96</td>\n",
       "    </tr>\n",
       "    <tr>\n",
       "      <th>maiorAtraso</th>\n",
       "      <td>5,304.00</td>\n",
       "      <td>0.00</td>\n",
       "      <td>1.00</td>\n",
       "      <td>-0.52</td>\n",
       "      <td>-0.44</td>\n",
       "      <td>-0.37</td>\n",
       "      <td>-0.01</td>\n",
       "      <td>6.22</td>\n",
       "    </tr>\n",
       "  </tbody>\n",
       "</table>\n",
       "</div>"
      ],
      "text/plain": [
       "                               count  mean  std   min   25%   50%   75%  max\n",
       "prazoMedioRecebimentoVendas 5,304.00  0.00 1.00 -0.51 -0.51 -0.51  0.26 5.20\n",
       "scorePontualidade           5,304.00  0.01 0.99 -2.29  0.31  0.50  0.50 0.50\n",
       "restricoes                  5,304.00 -0.00 1.00 -0.24 -0.24 -0.24 -0.24 4.10\n",
       "faturamentoMensal           5,304.00  0.02 1.05 -0.28 -0.27 -0.25 -0.15 7.90\n",
       "margem_percentual           5,304.00  0.01 1.01 -0.81 -0.81 -0.81  0.69 2.98\n",
       "anoFundacao                 5,304.00 -0.01 1.01 -3.41 -0.57  0.26  0.81 1.18\n",
       "tempoPrimeiraCompra         5,304.00  0.01 1.01 -1.19 -0.78 -0.31  0.61 2.43\n",
       "empresa_MeEppMei            5,304.00 -0.01 1.00 -0.78 -0.78 -0.78  1.29 1.29\n",
       "titulosEmAberto             5,304.00  0.00 1.00 -0.33 -0.33 -0.33 -0.21 5.96\n",
       "maiorAtraso                 5,304.00  0.00 1.00 -0.52 -0.44 -0.37 -0.01 6.22"
      ]
     },
     "metadata": {},
     "output_type": "display_data"
    },
    {
     "data": {
      "text/plain": [
       "2.00    1989\n",
       "4.00    1470\n",
       "0.00     789\n",
       "1.00     711\n",
       "5.00     253\n",
       "3.00      92\n",
       "Name: cluster1, dtype: int64"
      ]
     },
     "metadata": {},
     "output_type": "display_data"
    }
   ],
   "source": [
    "data_preprocess = data.filter_status().engineer().select().type_cast().clean().copy()\n",
    "targets_preprocess = data_preprocess['cluster1']\n",
    "features_preprocess = data_preprocess.drop(columns=['cluster1']).standardize()\n",
    "\n",
    "data_train, data_test, targets_train, targets_test = train_test_split(features_preprocess, targets_preprocess, test_size=0.2, random_state=42)\n",
    "\n",
    "display(data_train.describe().T)\n",
    "display(targets_train.value_counts())"
   ]
  },
  {
   "attachments": {},
   "cell_type": "markdown",
   "metadata": {},
   "source": [
    "⭐ nota\n",
    "<div style=\"color:#222200;background-color:#FFFFBB;padding:10px;\"><table style=\"border:0px solid;width:100%\">\n",
    "<tr><td style=\"border:0px;font-size:60px;width:100px;\">⭐</td><td style=\"border:0px;\">\n",
    "- foi necessário utilizar artifícios para lidar com o desequilibrio das classes\n",
    "</td></tr></table></div>"
   ]
  },
  {
   "attachments": {},
   "cell_type": "markdown",
   "metadata": {},
   "source": [
    "#### regressão logística"
   ]
  },
  {
   "cell_type": "code",
   "execution_count": 21,
   "metadata": {},
   "outputs": [
    {
     "name": "stderr",
     "output_type": "stream",
     "text": [
      "c:\\Users\\jonas\\miniconda3\\envs\\edge\\lib\\site-packages\\optuna\\progress_bar.py:56: ExperimentalWarning: Progress bar is experimental (supported from v1.2.0). The interface can change in the future.\n",
      "  self._init_valid()\n"
     ]
    },
    {
     "data": {
      "application/vnd.jupyter.widget-view+json": {
       "model_id": "d890a85a51554ab28ba8bc8e05d4aa14",
       "version_major": 2,
       "version_minor": 0
      },
      "text/plain": [
       "  0%|          | 0/39 [00:00<?, ?it/s]"
      ]
     },
     "metadata": {},
     "output_type": "display_data"
    },
    {
     "data": {
      "application/vnd.plotly.v1+json": {
       "config": {
        "plotlyServerURL": "https://plot.ly"
       },
       "data": [
        {
         "mode": "markers",
         "name": "Objective Value",
         "type": "scatter",
         "x": [
          0,
          1,
          2,
          3,
          4,
          5,
          6,
          7,
          8,
          9,
          10,
          11,
          12,
          13,
          14,
          15,
          16,
          17,
          18,
          19,
          20,
          21,
          22,
          23,
          24,
          25,
          26,
          27,
          28,
          29,
          30,
          31,
          32,
          33,
          34,
          35,
          36,
          37,
          38
         ],
         "y": [
          0.1487557128376576,
          0.9909501538242669,
          0.1487557128376576,
          0.9932125264524391,
          0.9932125264524391,
          0.14536268738996674,
          0.9930240250386785,
          0.9930240250386785,
          0.9915156580655488,
          0.09279497803780698,
          0.1487557128376576,
          0.14665730087315276,
          0.20436096242419932,
          0.9909499759927446,
          0.9877452741272919,
          0.2711173154553376,
          0.8572754432450698,
          0.9907614745789839,
          0.1487557128376576,
          0.9336364768018779,
          0.9911386552380275,
          0.1487557128376576,
          0.1487557128376576,
          0.20775541052406948,
          0.16720395497305854,
          0.9877449184642471,
          0.9909501538242669,
          0.14818754112353955,
          0.07637116995358598,
          0.1487557128376576,
          0.1487557128376576,
          0.9930240250386785,
          0.12255508331406824,
          0.9909501538242669,
          0.9911386552380275,
          0.9928355236249178,
          0.9932125264524391,
          0.9930240250386785,
          0.9903846495829851
         ]
        },
        {
         "name": "Best Value",
         "type": "scatter",
         "x": [
          0,
          1,
          2,
          3,
          4,
          5,
          6,
          7,
          8,
          9,
          10,
          11,
          12,
          13,
          14,
          15,
          16,
          17,
          18,
          19,
          20,
          21,
          22,
          23,
          24,
          25,
          26,
          27,
          28,
          29,
          30,
          31,
          32,
          33,
          34,
          35,
          36,
          37,
          38
         ],
         "y": [
          0.1487557128376576,
          0.9909501538242669,
          0.9909501538242669,
          0.9932125264524391,
          0.9932125264524391,
          0.9932125264524391,
          0.9932125264524391,
          0.9932125264524391,
          0.9932125264524391,
          0.9932125264524391,
          0.9932125264524391,
          0.9932125264524391,
          0.9932125264524391,
          0.9932125264524391,
          0.9932125264524391,
          0.9932125264524391,
          0.9932125264524391,
          0.9932125264524391,
          0.9932125264524391,
          0.9932125264524391,
          0.9932125264524391,
          0.9932125264524391,
          0.9932125264524391,
          0.9932125264524391,
          0.9932125264524391,
          0.9932125264524391,
          0.9932125264524391,
          0.9932125264524391,
          0.9932125264524391,
          0.9932125264524391,
          0.9932125264524391,
          0.9932125264524391,
          0.9932125264524391,
          0.9932125264524391,
          0.9932125264524391,
          0.9932125264524391,
          0.9932125264524391,
          0.9932125264524391,
          0.9932125264524391
         ]
        }
       ],
       "layout": {
        "template": {
         "data": {
          "bar": [
           {
            "error_x": {
             "color": "#2a3f5f"
            },
            "error_y": {
             "color": "#2a3f5f"
            },
            "marker": {
             "line": {
              "color": "#E5ECF6",
              "width": 0.5
             },
             "pattern": {
              "fillmode": "overlay",
              "size": 10,
              "solidity": 0.2
             }
            },
            "type": "bar"
           }
          ],
          "barpolar": [
           {
            "marker": {
             "line": {
              "color": "#E5ECF6",
              "width": 0.5
             },
             "pattern": {
              "fillmode": "overlay",
              "size": 10,
              "solidity": 0.2
             }
            },
            "type": "barpolar"
           }
          ],
          "carpet": [
           {
            "aaxis": {
             "endlinecolor": "#2a3f5f",
             "gridcolor": "white",
             "linecolor": "white",
             "minorgridcolor": "white",
             "startlinecolor": "#2a3f5f"
            },
            "baxis": {
             "endlinecolor": "#2a3f5f",
             "gridcolor": "white",
             "linecolor": "white",
             "minorgridcolor": "white",
             "startlinecolor": "#2a3f5f"
            },
            "type": "carpet"
           }
          ],
          "choropleth": [
           {
            "colorbar": {
             "outlinewidth": 0,
             "ticks": ""
            },
            "type": "choropleth"
           }
          ],
          "contour": [
           {
            "colorbar": {
             "outlinewidth": 0,
             "ticks": ""
            },
            "colorscale": [
             [
              0,
              "#0d0887"
             ],
             [
              0.1111111111111111,
              "#46039f"
             ],
             [
              0.2222222222222222,
              "#7201a8"
             ],
             [
              0.3333333333333333,
              "#9c179e"
             ],
             [
              0.4444444444444444,
              "#bd3786"
             ],
             [
              0.5555555555555556,
              "#d8576b"
             ],
             [
              0.6666666666666666,
              "#ed7953"
             ],
             [
              0.7777777777777778,
              "#fb9f3a"
             ],
             [
              0.8888888888888888,
              "#fdca26"
             ],
             [
              1,
              "#f0f921"
             ]
            ],
            "type": "contour"
           }
          ],
          "contourcarpet": [
           {
            "colorbar": {
             "outlinewidth": 0,
             "ticks": ""
            },
            "type": "contourcarpet"
           }
          ],
          "heatmap": [
           {
            "colorbar": {
             "outlinewidth": 0,
             "ticks": ""
            },
            "colorscale": [
             [
              0,
              "#0d0887"
             ],
             [
              0.1111111111111111,
              "#46039f"
             ],
             [
              0.2222222222222222,
              "#7201a8"
             ],
             [
              0.3333333333333333,
              "#9c179e"
             ],
             [
              0.4444444444444444,
              "#bd3786"
             ],
             [
              0.5555555555555556,
              "#d8576b"
             ],
             [
              0.6666666666666666,
              "#ed7953"
             ],
             [
              0.7777777777777778,
              "#fb9f3a"
             ],
             [
              0.8888888888888888,
              "#fdca26"
             ],
             [
              1,
              "#f0f921"
             ]
            ],
            "type": "heatmap"
           }
          ],
          "heatmapgl": [
           {
            "colorbar": {
             "outlinewidth": 0,
             "ticks": ""
            },
            "colorscale": [
             [
              0,
              "#0d0887"
             ],
             [
              0.1111111111111111,
              "#46039f"
             ],
             [
              0.2222222222222222,
              "#7201a8"
             ],
             [
              0.3333333333333333,
              "#9c179e"
             ],
             [
              0.4444444444444444,
              "#bd3786"
             ],
             [
              0.5555555555555556,
              "#d8576b"
             ],
             [
              0.6666666666666666,
              "#ed7953"
             ],
             [
              0.7777777777777778,
              "#fb9f3a"
             ],
             [
              0.8888888888888888,
              "#fdca26"
             ],
             [
              1,
              "#f0f921"
             ]
            ],
            "type": "heatmapgl"
           }
          ],
          "histogram": [
           {
            "marker": {
             "pattern": {
              "fillmode": "overlay",
              "size": 10,
              "solidity": 0.2
             }
            },
            "type": "histogram"
           }
          ],
          "histogram2d": [
           {
            "colorbar": {
             "outlinewidth": 0,
             "ticks": ""
            },
            "colorscale": [
             [
              0,
              "#0d0887"
             ],
             [
              0.1111111111111111,
              "#46039f"
             ],
             [
              0.2222222222222222,
              "#7201a8"
             ],
             [
              0.3333333333333333,
              "#9c179e"
             ],
             [
              0.4444444444444444,
              "#bd3786"
             ],
             [
              0.5555555555555556,
              "#d8576b"
             ],
             [
              0.6666666666666666,
              "#ed7953"
             ],
             [
              0.7777777777777778,
              "#fb9f3a"
             ],
             [
              0.8888888888888888,
              "#fdca26"
             ],
             [
              1,
              "#f0f921"
             ]
            ],
            "type": "histogram2d"
           }
          ],
          "histogram2dcontour": [
           {
            "colorbar": {
             "outlinewidth": 0,
             "ticks": ""
            },
            "colorscale": [
             [
              0,
              "#0d0887"
             ],
             [
              0.1111111111111111,
              "#46039f"
             ],
             [
              0.2222222222222222,
              "#7201a8"
             ],
             [
              0.3333333333333333,
              "#9c179e"
             ],
             [
              0.4444444444444444,
              "#bd3786"
             ],
             [
              0.5555555555555556,
              "#d8576b"
             ],
             [
              0.6666666666666666,
              "#ed7953"
             ],
             [
              0.7777777777777778,
              "#fb9f3a"
             ],
             [
              0.8888888888888888,
              "#fdca26"
             ],
             [
              1,
              "#f0f921"
             ]
            ],
            "type": "histogram2dcontour"
           }
          ],
          "mesh3d": [
           {
            "colorbar": {
             "outlinewidth": 0,
             "ticks": ""
            },
            "type": "mesh3d"
           }
          ],
          "parcoords": [
           {
            "line": {
             "colorbar": {
              "outlinewidth": 0,
              "ticks": ""
             }
            },
            "type": "parcoords"
           }
          ],
          "pie": [
           {
            "automargin": true,
            "type": "pie"
           }
          ],
          "scatter": [
           {
            "fillpattern": {
             "fillmode": "overlay",
             "size": 10,
             "solidity": 0.2
            },
            "type": "scatter"
           }
          ],
          "scatter3d": [
           {
            "line": {
             "colorbar": {
              "outlinewidth": 0,
              "ticks": ""
             }
            },
            "marker": {
             "colorbar": {
              "outlinewidth": 0,
              "ticks": ""
             }
            },
            "type": "scatter3d"
           }
          ],
          "scattercarpet": [
           {
            "marker": {
             "colorbar": {
              "outlinewidth": 0,
              "ticks": ""
             }
            },
            "type": "scattercarpet"
           }
          ],
          "scattergeo": [
           {
            "marker": {
             "colorbar": {
              "outlinewidth": 0,
              "ticks": ""
             }
            },
            "type": "scattergeo"
           }
          ],
          "scattergl": [
           {
            "marker": {
             "colorbar": {
              "outlinewidth": 0,
              "ticks": ""
             }
            },
            "type": "scattergl"
           }
          ],
          "scattermapbox": [
           {
            "marker": {
             "colorbar": {
              "outlinewidth": 0,
              "ticks": ""
             }
            },
            "type": "scattermapbox"
           }
          ],
          "scatterpolar": [
           {
            "marker": {
             "colorbar": {
              "outlinewidth": 0,
              "ticks": ""
             }
            },
            "type": "scatterpolar"
           }
          ],
          "scatterpolargl": [
           {
            "marker": {
             "colorbar": {
              "outlinewidth": 0,
              "ticks": ""
             }
            },
            "type": "scatterpolargl"
           }
          ],
          "scatterternary": [
           {
            "marker": {
             "colorbar": {
              "outlinewidth": 0,
              "ticks": ""
             }
            },
            "type": "scatterternary"
           }
          ],
          "surface": [
           {
            "colorbar": {
             "outlinewidth": 0,
             "ticks": ""
            },
            "colorscale": [
             [
              0,
              "#0d0887"
             ],
             [
              0.1111111111111111,
              "#46039f"
             ],
             [
              0.2222222222222222,
              "#7201a8"
             ],
             [
              0.3333333333333333,
              "#9c179e"
             ],
             [
              0.4444444444444444,
              "#bd3786"
             ],
             [
              0.5555555555555556,
              "#d8576b"
             ],
             [
              0.6666666666666666,
              "#ed7953"
             ],
             [
              0.7777777777777778,
              "#fb9f3a"
             ],
             [
              0.8888888888888888,
              "#fdca26"
             ],
             [
              1,
              "#f0f921"
             ]
            ],
            "type": "surface"
           }
          ],
          "table": [
           {
            "cells": {
             "fill": {
              "color": "#EBF0F8"
             },
             "line": {
              "color": "white"
             }
            },
            "header": {
             "fill": {
              "color": "#C8D4E3"
             },
             "line": {
              "color": "white"
             }
            },
            "type": "table"
           }
          ]
         },
         "layout": {
          "annotationdefaults": {
           "arrowcolor": "#2a3f5f",
           "arrowhead": 0,
           "arrowwidth": 1
          },
          "autotypenumbers": "strict",
          "coloraxis": {
           "colorbar": {
            "outlinewidth": 0,
            "ticks": ""
           }
          },
          "colorscale": {
           "diverging": [
            [
             0,
             "#8e0152"
            ],
            [
             0.1,
             "#c51b7d"
            ],
            [
             0.2,
             "#de77ae"
            ],
            [
             0.3,
             "#f1b6da"
            ],
            [
             0.4,
             "#fde0ef"
            ],
            [
             0.5,
             "#f7f7f7"
            ],
            [
             0.6,
             "#e6f5d0"
            ],
            [
             0.7,
             "#b8e186"
            ],
            [
             0.8,
             "#7fbc41"
            ],
            [
             0.9,
             "#4d9221"
            ],
            [
             1,
             "#276419"
            ]
           ],
           "sequential": [
            [
             0,
             "#0d0887"
            ],
            [
             0.1111111111111111,
             "#46039f"
            ],
            [
             0.2222222222222222,
             "#7201a8"
            ],
            [
             0.3333333333333333,
             "#9c179e"
            ],
            [
             0.4444444444444444,
             "#bd3786"
            ],
            [
             0.5555555555555556,
             "#d8576b"
            ],
            [
             0.6666666666666666,
             "#ed7953"
            ],
            [
             0.7777777777777778,
             "#fb9f3a"
            ],
            [
             0.8888888888888888,
             "#fdca26"
            ],
            [
             1,
             "#f0f921"
            ]
           ],
           "sequentialminus": [
            [
             0,
             "#0d0887"
            ],
            [
             0.1111111111111111,
             "#46039f"
            ],
            [
             0.2222222222222222,
             "#7201a8"
            ],
            [
             0.3333333333333333,
             "#9c179e"
            ],
            [
             0.4444444444444444,
             "#bd3786"
            ],
            [
             0.5555555555555556,
             "#d8576b"
            ],
            [
             0.6666666666666666,
             "#ed7953"
            ],
            [
             0.7777777777777778,
             "#fb9f3a"
            ],
            [
             0.8888888888888888,
             "#fdca26"
            ],
            [
             1,
             "#f0f921"
            ]
           ]
          },
          "colorway": [
           "#636efa",
           "#EF553B",
           "#00cc96",
           "#ab63fa",
           "#FFA15A",
           "#19d3f3",
           "#FF6692",
           "#B6E880",
           "#FF97FF",
           "#FECB52"
          ],
          "font": {
           "color": "#2a3f5f"
          },
          "geo": {
           "bgcolor": "white",
           "lakecolor": "white",
           "landcolor": "#E5ECF6",
           "showlakes": true,
           "showland": true,
           "subunitcolor": "white"
          },
          "hoverlabel": {
           "align": "left"
          },
          "hovermode": "closest",
          "mapbox": {
           "style": "light"
          },
          "paper_bgcolor": "white",
          "plot_bgcolor": "#E5ECF6",
          "polar": {
           "angularaxis": {
            "gridcolor": "white",
            "linecolor": "white",
            "ticks": ""
           },
           "bgcolor": "#E5ECF6",
           "radialaxis": {
            "gridcolor": "white",
            "linecolor": "white",
            "ticks": ""
           }
          },
          "scene": {
           "xaxis": {
            "backgroundcolor": "#E5ECF6",
            "gridcolor": "white",
            "gridwidth": 2,
            "linecolor": "white",
            "showbackground": true,
            "ticks": "",
            "zerolinecolor": "white"
           },
           "yaxis": {
            "backgroundcolor": "#E5ECF6",
            "gridcolor": "white",
            "gridwidth": 2,
            "linecolor": "white",
            "showbackground": true,
            "ticks": "",
            "zerolinecolor": "white"
           },
           "zaxis": {
            "backgroundcolor": "#E5ECF6",
            "gridcolor": "white",
            "gridwidth": 2,
            "linecolor": "white",
            "showbackground": true,
            "ticks": "",
            "zerolinecolor": "white"
           }
          },
          "shapedefaults": {
           "line": {
            "color": "#2a3f5f"
           }
          },
          "ternary": {
           "aaxis": {
            "gridcolor": "white",
            "linecolor": "white",
            "ticks": ""
           },
           "baxis": {
            "gridcolor": "white",
            "linecolor": "white",
            "ticks": ""
           },
           "bgcolor": "#E5ECF6",
           "caxis": {
            "gridcolor": "white",
            "linecolor": "white",
            "ticks": ""
           }
          },
          "title": {
           "x": 0.05
          },
          "xaxis": {
           "automargin": true,
           "gridcolor": "white",
           "linecolor": "white",
           "ticks": "",
           "title": {
            "standoff": 15
           },
           "zerolinecolor": "white",
           "zerolinewidth": 2
          },
          "yaxis": {
           "automargin": true,
           "gridcolor": "white",
           "linecolor": "white",
           "ticks": "",
           "title": {
            "standoff": 15
           },
           "zerolinecolor": "white",
           "zerolinewidth": 2
          }
         }
        },
        "title": {
         "text": "Optimization History Plot"
        },
        "xaxis": {
         "title": {
          "text": "Trial"
         }
        },
        "yaxis": {
         "title": {
          "text": "Objective Value"
         }
        }
       }
      }
     },
     "metadata": {},
     "output_type": "display_data"
    },
    {
     "name": "stdout",
     "output_type": "stream",
     "text": [
      "Best trial: 0.9932125264524391\n",
      "Best parameters: {'C': 53.11347210437785, 'l1_ratio': 0.2942053813514546, 'fit_intercept': True}\n",
      "              precision    recall  f1-score   support\n",
      "\n",
      "         0.0       0.99      0.98      0.98       181\n",
      "         1.0       0.99      0.99      0.99       193\n",
      "         2.0       1.00      1.00      1.00       484\n",
      "         3.0       0.92      1.00      0.96        12\n",
      "         4.0       0.99      1.00      0.99       387\n",
      "         5.0       1.00      1.00      1.00        70\n",
      "\n",
      "    accuracy                           0.99      1327\n",
      "   macro avg       0.98      0.99      0.99      1327\n",
      "weighted avg       0.99      0.99      0.99      1327\n",
      "\n"
     ]
    },
    {
     "data": {
      "image/png": "[encoded data removed]",
      "text/plain": [
       "<Figure size 640x480 with 2 Axes>"
      ]
     },
     "metadata": {},
     "output_type": "display_data"
    }
   ],
   "source": [
    "# define o espaço de busca e a função objetivo\n",
    "def objective_logistic_regression(\n",
    "\t\ttrial: opt.trial.Trial,\n",
    "\t\tX: pd.DataFrame,\n",
    "\t\ty: pd.DataFrame,\n",
    "\t) -> float:\n",
    "\testimator = LogisticRegression(\n",
    "\t\tpenalty = 'elasticnet', solver='saga',\n",
    "\t\tclass_weight='balanced', # equilibra as classes\n",
    "\t\tC=trial.suggest_float('C', 1e-10, 1e+10, log=True),\n",
    "\t\tl1_ratio=trial.suggest_float('l1_ratio', 0, 1),\n",
    "\t\tfit_intercept=trial.suggest_categorical('fit_intercept', [True, False]),\n",
    "\t)\n",
    "\ttrial.set_user_attr(key=\"estimator\", value=estimator)\n",
    "\tscore = cross_val_score(estimator, X, y, n_jobs=-1, cv=5, scoring='accuracy')\n",
    "\treturn score.mean()\n",
    "\n",
    "np.seterr(divide='ignore', invalid='ignore')\n",
    "\n",
    "# rotina de otimização bayesiana\n",
    "logistic_regression_model = optimize(\n",
    "\tobjective=objective_logistic_regression, \n",
    "\tdescription='logistic_regression', n_trials=39,\n",
    "\tX=data_train, y=targets_train, X_test=data_test, y_test=targets_test,)"
   ]
  },
  {
   "attachments": {},
   "cell_type": "markdown",
   "metadata": {},
   "source": [
    "#### árvore de decisão"
   ]
  },
  {
   "cell_type": "code",
   "execution_count": 22,
   "metadata": {},
   "outputs": [
    {
     "name": "stderr",
     "output_type": "stream",
     "text": [
      "c:\\Users\\jonas\\miniconda3\\envs\\edge\\lib\\site-packages\\optuna\\progress_bar.py:56: ExperimentalWarning:\n",
      "\n",
      "Progress bar is experimental (supported from v1.2.0). The interface can change in the future.\n",
      "\n"
     ]
    },
    {
     "data": {
      "application/vnd.jupyter.widget-view+json": {
       "model_id": "7be1f9f4404a4956b3dc755aacf443d4",
       "version_major": 2,
       "version_minor": 0
      },
      "text/plain": [
       "  0%|          | 0/100 [00:00<?, ?it/s]"
      ]
     },
     "metadata": {},
     "output_type": "display_data"
    },
    {
     "data": {
      "application/vnd.plotly.v1+json": {
       "config": {
        "plotlyServerURL": "https://plot.ly"
       },
       "data": [
        {
         "mode": "markers",
         "name": "Objective Value",
         "type": "scatter",
         "x": [
          0,
          1,
          2,
          3,
          4,
          5,
          6,
          7,
          8,
          9,
          10,
          11,
          12,
          13,
          14,
          15,
          16,
          17,
          18,
          19,
          20,
          21,
          22,
          23,
          24,
          25,
          26,
          27,
          28,
          29,
          30,
          31,
          32,
          33,
          34,
          35,
          36,
          37,
          38,
          39,
          40,
          41,
          42,
          43,
          44,
          45,
          46,
          47,
          48,
          49,
          50,
          51,
          52,
          53,
          54,
          55,
          56,
          57,
          58,
          59,
          60,
          61,
          62,
          63,
          64,
          65,
          66,
          67,
          68,
          69,
          70,
          71,
          72,
          73,
          74,
          75,
          76,
          77,
          78,
          79,
          80,
          81,
          82,
          83,
          84,
          85,
          86,
          87,
          88,
          89,
          90,
          91,
          92,
          93,
          94,
          95,
          96,
          97,
          98,
          99
         ],
         "y": [
          0.8744335176853448,
          0.711725854925044,
          0.8308806216990023,
          0.8393651414649762,
          0.701921825262746,
          0.6891031956324578,
          0.7950584176551135,
          0.7062587804314193,
          0.7846911955613252,
          0.6713837070759163,
          0.711725854925044,
          0.7895908096669215,
          0.7466069745523092,
          0.8406851848558675,
          0.6713837070759163,
          0.83823395515089,
          0.8257898387068092,
          0.8450208952038839,
          0.8389881386374549,
          0.7192682232852595,
          0.7741313819287607,
          0.6749655896004125,
          0.7846911955613252,
          0.7192682232852595,
          0.7775261856916756,
          0.8465292621770135,
          0.8459634022726868,
          0.6708176693400671,
          0.8110838831291234,
          0.8212652712819875,
          0.8450208952038839,
          0.8223989472373873,
          0.8423820532427578,
          0.876318531822951,
          0.8785805487880782,
          0.8144792203866057,
          0.878203545960557,
          0.8765070332367116,
          0.8772605053971867,
          0.8772605053971867,
          0.8785805487880782,
          0.8823500435687229,
          0.8785805487880782,
          0.8772605053971867,
          0.8772605053971867,
          0.878203545960557,
          0.8772605053971867,
          0.8785805487880782,
          0.878203545960557,
          0.8919669944694398,
          0.8849910195081179,
          0.8897042661782228,
          0.8880077534543773,
          0.8868760336457241,
          0.879147297850017,
          0.8712305941351165,
          0.8897042661782228,
          0.8785805487880782,
          0.8772605053971867,
          0.8765070332367116,
          0.8765070332367116,
          0.8759415289954298,
          0.8742443049454947,
          0.86651574698131,
          0.8757526719186244,
          0.8738676577810182,
          0.8734902992904521,
          0.8740565148578238,
          0.8578443262852773,
          0.864630732843704,
          0.8723592908078885,
          0.8740565148578238,
          0.8734902992904521,
          0.8723592908078885,
          0.8578443262852773,
          0.8570887201465333,
          0.8585974427827077,
          0.8570887201465333,
          0.848604022549037,
          0.8506775381004037,
          0.848604022549037,
          0.8570887201465333,
          0.8570887201465333,
          0.8570887201465333,
          0.8582200842921417,
          0.8506775381004037,
          0.8499235324453613,
          0.8501118560275994,
          0.848603133391425,
          0.8501118560275994,
          0.8491695267903188,
          0.850489036686643,
          0.850489036686643,
          0.8489810253765583,
          0.847660626322622,
          0.8497350310316006,
          0.8491693489587965,
          0.8491695267903188,
          0.8491695267903188,
          0.8810317784930556
         ]
        },
        {
         "name": "Best Value",
         "type": "scatter",
         "x": [
          0,
          1,
          2,
          3,
          4,
          5,
          6,
          7,
          8,
          9,
          10,
          11,
          12,
          13,
          14,
          15,
          16,
          17,
          18,
          19,
          20,
          21,
          22,
          23,
          24,
          25,
          26,
          27,
          28,
          29,
          30,
          31,
          32,
          33,
          34,
          35,
          36,
          37,
          38,
          39,
          40,
          41,
          42,
          43,
          44,
          45,
          46,
          47,
          48,
          49,
          50,
          51,
          52,
          53,
          54,
          55,
          56,
          57,
          58,
          59,
          60,
          61,
          62,
          63,
          64,
          65,
          66,
          67,
          68,
          69,
          70,
          71,
          72,
          73,
          74,
          75,
          76,
          77,
          78,
          79,
          80,
          81,
          82,
          83,
          84,
          85,
          86,
          87,
          88,
          89,
          90,
          91,
          92,
          93,
          94,
          95,
          96,
          97,
          98,
          99
         ],
         "y": [
          0.8744335176853448,
          0.8744335176853448,
          0.8744335176853448,
          0.8744335176853448,
          0.8744335176853448,
          0.8744335176853448,
          0.8744335176853448,
          0.8744335176853448,
          0.8744335176853448,
          0.8744335176853448,
          0.8744335176853448,
          0.8744335176853448,
          0.8744335176853448,
          0.8744335176853448,
          0.8744335176853448,
          0.8744335176853448,
          0.8744335176853448,
          0.8744335176853448,
          0.8744335176853448,
          0.8744335176853448,
          0.8744335176853448,
          0.8744335176853448,
          0.8744335176853448,
          0.8744335176853448,
          0.8744335176853448,
          0.8744335176853448,
          0.8744335176853448,
          0.8744335176853448,
          0.8744335176853448,
          0.8744335176853448,
          0.8744335176853448,
          0.8744335176853448,
          0.8744335176853448,
          0.876318531822951,
          0.8785805487880782,
          0.8785805487880782,
          0.8785805487880782,
          0.8785805487880782,
          0.8785805487880782,
          0.8785805487880782,
          0.8785805487880782,
          0.8823500435687229,
          0.8823500435687229,
          0.8823500435687229,
          0.8823500435687229,
          0.8823500435687229,
          0.8823500435687229,
          0.8823500435687229,
          0.8823500435687229,
          0.8919669944694398,
          0.8919669944694398,
          0.8919669944694398,
          0.8919669944694398,
          0.8919669944694398,
          0.8919669944694398,
          0.8919669944694398,
          0.8919669944694398,
          0.8919669944694398,
          0.8919669944694398,
          0.8919669944694398,
          0.8919669944694398,
          0.8919669944694398,
          0.8919669944694398,
          0.8919669944694398,
          0.8919669944694398,
          0.8919669944694398,
          0.8919669944694398,
          0.8919669944694398,
          0.8919669944694398,
          0.8919669944694398,
          0.8919669944694398,
          0.8919669944694398,
          0.8919669944694398,
          0.8919669944694398,
          0.8919669944694398,
          0.8919669944694398,
          0.8919669944694398,
          0.8919669944694398,
          0.8919669944694398,
          0.8919669944694398,
          0.8919669944694398,
          0.8919669944694398,
          0.8919669944694398,
          0.8919669944694398,
          0.8919669944694398,
          0.8919669944694398,
          0.8919669944694398,
          0.8919669944694398,
          0.8919669944694398,
          0.8919669944694398,
          0.8919669944694398,
          0.8919669944694398,
          0.8919669944694398,
          0.8919669944694398,
          0.8919669944694398,
          0.8919669944694398,
          0.8919669944694398,
          0.8919669944694398,
          0.8919669944694398,
          0.8919669944694398
         ]
        }
       ],
       "layout": {
        "template": {
         "data": {
          "bar": [
           {
            "error_x": {
             "color": "#2a3f5f"
            },
            "error_y": {
             "color": "#2a3f5f"
            },
            "marker": {
             "line": {
              "color": "#E5ECF6",
              "width": 0.5
             },
             "pattern": {
              "fillmode": "overlay",
              "size": 10,
              "solidity": 0.2
             }
            },
            "type": "bar"
           }
          ],
          "barpolar": [
           {
            "marker": {
             "line": {
              "color": "#E5ECF6",
              "width": 0.5
             },
             "pattern": {
              "fillmode": "overlay",
              "size": 10,
              "solidity": 0.2
             }
            },
            "type": "barpolar"
           }
          ],
          "carpet": [
           {
            "aaxis": {
             "endlinecolor": "#2a3f5f",
             "gridcolor": "white",
             "linecolor": "white",
             "minorgridcolor": "white",
             "startlinecolor": "#2a3f5f"
            },
            "baxis": {
             "endlinecolor": "#2a3f5f",
             "gridcolor": "white",
             "linecolor": "white",
             "minorgridcolor": "white",
             "startlinecolor": "#2a3f5f"
            },
            "type": "carpet"
           }
          ],
          "choropleth": [
           {
            "colorbar": {
             "outlinewidth": 0,
             "ticks": ""
            },
            "type": "choropleth"
           }
          ],
          "contour": [
           {
            "colorbar": {
             "outlinewidth": 0,
             "ticks": ""
            },
            "colorscale": [
             [
              0,
              "#0d0887"
             ],
             [
              0.1111111111111111,
              "#46039f"
             ],
             [
              0.2222222222222222,
              "#7201a8"
             ],
             [
              0.3333333333333333,
              "#9c179e"
             ],
             [
              0.4444444444444444,
              "#bd3786"
             ],
             [
              0.5555555555555556,
              "#d8576b"
             ],
             [
              0.6666666666666666,
              "#ed7953"
             ],
             [
              0.7777777777777778,
              "#fb9f3a"
             ],
             [
              0.8888888888888888,
              "#fdca26"
             ],
             [
              1,
              "#f0f921"
             ]
            ],
            "type": "contour"
           }
          ],
          "contourcarpet": [
           {
            "colorbar": {
             "outlinewidth": 0,
             "ticks": ""
            },
            "type": "contourcarpet"
           }
          ],
          "heatmap": [
           {
            "colorbar": {
             "outlinewidth": 0,
             "ticks": ""
            },
            "colorscale": [
             [
              0,
              "#0d0887"
             ],
             [
              0.1111111111111111,
              "#46039f"
             ],
             [
              0.2222222222222222,
              "#7201a8"
             ],
             [
              0.3333333333333333,
              "#9c179e"
             ],
             [
              0.4444444444444444,
              "#bd3786"
             ],
             [
              0.5555555555555556,
              "#d8576b"
             ],
             [
              0.6666666666666666,
              "#ed7953"
             ],
             [
              0.7777777777777778,
              "#fb9f3a"
             ],
             [
              0.8888888888888888,
              "#fdca26"
             ],
             [
              1,
              "#f0f921"
             ]
            ],
            "type": "heatmap"
           }
          ],
          "heatmapgl": [
           {
            "colorbar": {
             "outlinewidth": 0,
             "ticks": ""
            },
            "colorscale": [
             [
              0,
              "#0d0887"
             ],
             [
              0.1111111111111111,
              "#46039f"
             ],
             [
              0.2222222222222222,
              "#7201a8"
             ],
             [
              0.3333333333333333,
              "#9c179e"
             ],
             [
              0.4444444444444444,
              "#bd3786"
             ],
             [
              0.5555555555555556,
              "#d8576b"
             ],
             [
              0.6666666666666666,
              "#ed7953"
             ],
             [
              0.7777777777777778,
              "#fb9f3a"
             ],
             [
              0.8888888888888888,
              "#fdca26"
             ],
             [
              1,
              "#f0f921"
             ]
            ],
            "type": "heatmapgl"
           }
          ],
          "histogram": [
           {
            "marker": {
             "pattern": {
              "fillmode": "overlay",
              "size": 10,
              "solidity": 0.2
             }
            },
            "type": "histogram"
           }
          ],
          "histogram2d": [
           {
            "colorbar": {
             "outlinewidth": 0,
             "ticks": ""
            },
            "colorscale": [
             [
              0,
              "#0d0887"
             ],
             [
              0.1111111111111111,
              "#46039f"
             ],
             [
              0.2222222222222222,
              "#7201a8"
             ],
             [
              0.3333333333333333,
              "#9c179e"
             ],
             [
              0.4444444444444444,
              "#bd3786"
             ],
             [
              0.5555555555555556,
              "#d8576b"
             ],
             [
              0.6666666666666666,
              "#ed7953"
             ],
             [
              0.7777777777777778,
              "#fb9f3a"
             ],
             [
              0.8888888888888888,
              "#fdca26"
             ],
             [
              1,
              "#f0f921"
             ]
            ],
            "type": "histogram2d"
           }
          ],
          "histogram2dcontour": [
           {
            "colorbar": {
             "outlinewidth": 0,
             "ticks": ""
            },
            "colorscale": [
             [
              0,
              "#0d0887"
             ],
             [
              0.1111111111111111,
              "#46039f"
             ],
             [
              0.2222222222222222,
              "#7201a8"
             ],
             [
              0.3333333333333333,
              "#9c179e"
             ],
             [
              0.4444444444444444,
              "#bd3786"
             ],
             [
              0.5555555555555556,
              "#d8576b"
             ],
             [
              0.6666666666666666,
              "#ed7953"
             ],
             [
              0.7777777777777778,
              "#fb9f3a"
             ],
             [
              0.8888888888888888,
              "#fdca26"
             ],
             [
              1,
              "#f0f921"
             ]
            ],
            "type": "histogram2dcontour"
           }
          ],
          "mesh3d": [
           {
            "colorbar": {
             "outlinewidth": 0,
             "ticks": ""
            },
            "type": "mesh3d"
           }
          ],
          "parcoords": [
           {
            "line": {
             "colorbar": {
              "outlinewidth": 0,
              "ticks": ""
             }
            },
            "type": "parcoords"
           }
          ],
          "pie": [
           {
            "automargin": true,
            "type": "pie"
           }
          ],
          "scatter": [
           {
            "fillpattern": {
             "fillmode": "overlay",
             "size": 10,
             "solidity": 0.2
            },
            "type": "scatter"
           }
          ],
          "scatter3d": [
           {
            "line": {
             "colorbar": {
              "outlinewidth": 0,
              "ticks": ""
             }
            },
            "marker": {
             "colorbar": {
              "outlinewidth": 0,
              "ticks": ""
             }
            },
            "type": "scatter3d"
           }
          ],
          "scattercarpet": [
           {
            "marker": {
             "colorbar": {
              "outlinewidth": 0,
              "ticks": ""
             }
            },
            "type": "scattercarpet"
           }
          ],
          "scattergeo": [
           {
            "marker": {
             "colorbar": {
              "outlinewidth": 0,
              "ticks": ""
             }
            },
            "type": "scattergeo"
           }
          ],
          "scattergl": [
           {
            "marker": {
             "colorbar": {
              "outlinewidth": 0,
              "ticks": ""
             }
            },
            "type": "scattergl"
           }
          ],
          "scattermapbox": [
           {
            "marker": {
             "colorbar": {
              "outlinewidth": 0,
              "ticks": ""
             }
            },
            "type": "scattermapbox"
           }
          ],
          "scatterpolar": [
           {
            "marker": {
             "colorbar": {
              "outlinewidth": 0,
              "ticks": ""
             }
            },
            "type": "scatterpolar"
           }
          ],
          "scatterpolargl": [
           {
            "marker": {
             "colorbar": {
              "outlinewidth": 0,
              "ticks": ""
             }
            },
            "type": "scatterpolargl"
           }
          ],
          "scatterternary": [
           {
            "marker": {
             "colorbar": {
              "outlinewidth": 0,
              "ticks": ""
             }
            },
            "type": "scatterternary"
           }
          ],
          "surface": [
           {
            "colorbar": {
             "outlinewidth": 0,
             "ticks": ""
            },
            "colorscale": [
             [
              0,
              "#0d0887"
             ],
             [
              0.1111111111111111,
              "#46039f"
             ],
             [
              0.2222222222222222,
              "#7201a8"
             ],
             [
              0.3333333333333333,
              "#9c179e"
             ],
             [
              0.4444444444444444,
              "#bd3786"
             ],
             [
              0.5555555555555556,
              "#d8576b"
             ],
             [
              0.6666666666666666,
              "#ed7953"
             ],
             [
              0.7777777777777778,
              "#fb9f3a"
             ],
             [
              0.8888888888888888,
              "#fdca26"
             ],
             [
              1,
              "#f0f921"
             ]
            ],
            "type": "surface"
           }
          ],
          "table": [
           {
            "cells": {
             "fill": {
              "color": "#EBF0F8"
             },
             "line": {
              "color": "white"
             }
            },
            "header": {
             "fill": {
              "color": "#C8D4E3"
             },
             "line": {
              "color": "white"
             }
            },
            "type": "table"
           }
          ]
         },
         "layout": {
          "annotationdefaults": {
           "arrowcolor": "#2a3f5f",
           "arrowhead": 0,
           "arrowwidth": 1
          },
          "autotypenumbers": "strict",
          "coloraxis": {
           "colorbar": {
            "outlinewidth": 0,
            "ticks": ""
           }
          },
          "colorscale": {
           "diverging": [
            [
             0,
             "#8e0152"
            ],
            [
             0.1,
             "#c51b7d"
            ],
            [
             0.2,
             "#de77ae"
            ],
            [
             0.3,
             "#f1b6da"
            ],
            [
             0.4,
             "#fde0ef"
            ],
            [
             0.5,
             "#f7f7f7"
            ],
            [
             0.6,
             "#e6f5d0"
            ],
            [
             0.7,
             "#b8e186"
            ],
            [
             0.8,
             "#7fbc41"
            ],
            [
             0.9,
             "#4d9221"
            ],
            [
             1,
             "#276419"
            ]
           ],
           "sequential": [
            [
             0,
             "#0d0887"
            ],
            [
             0.1111111111111111,
             "#46039f"
            ],
            [
             0.2222222222222222,
             "#7201a8"
            ],
            [
             0.3333333333333333,
             "#9c179e"
            ],
            [
             0.4444444444444444,
             "#bd3786"
            ],
            [
             0.5555555555555556,
             "#d8576b"
            ],
            [
             0.6666666666666666,
             "#ed7953"
            ],
            [
             0.7777777777777778,
             "#fb9f3a"
            ],
            [
             0.8888888888888888,
             "#fdca26"
            ],
            [
             1,
             "#f0f921"
            ]
           ],
           "sequentialminus": [
            [
             0,
             "#0d0887"
            ],
            [
             0.1111111111111111,
             "#46039f"
            ],
            [
             0.2222222222222222,
             "#7201a8"
            ],
            [
             0.3333333333333333,
             "#9c179e"
            ],
            [
             0.4444444444444444,
             "#bd3786"
            ],
            [
             0.5555555555555556,
             "#d8576b"
            ],
            [
             0.6666666666666666,
             "#ed7953"
            ],
            [
             0.7777777777777778,
             "#fb9f3a"
            ],
            [
             0.8888888888888888,
             "#fdca26"
            ],
            [
             1,
             "#f0f921"
            ]
           ]
          },
          "colorway": [
           "#636efa",
           "#EF553B",
           "#00cc96",
           "#ab63fa",
           "#FFA15A",
           "#19d3f3",
           "#FF6692",
           "#B6E880",
           "#FF97FF",
           "#FECB52"
          ],
          "font": {
           "color": "#2a3f5f"
          },
          "geo": {
           "bgcolor": "white",
           "lakecolor": "white",
           "landcolor": "#E5ECF6",
           "showlakes": true,
           "showland": true,
           "subunitcolor": "white"
          },
          "hoverlabel": {
           "align": "left"
          },
          "hovermode": "closest",
          "mapbox": {
           "style": "light"
          },
          "paper_bgcolor": "white",
          "plot_bgcolor": "#E5ECF6",
          "polar": {
           "angularaxis": {
            "gridcolor": "white",
            "linecolor": "white",
            "ticks": ""
           },
           "bgcolor": "#E5ECF6",
           "radialaxis": {
            "gridcolor": "white",
            "linecolor": "white",
            "ticks": ""
           }
          },
          "scene": {
           "xaxis": {
            "backgroundcolor": "#E5ECF6",
            "gridcolor": "white",
            "gridwidth": 2,
            "linecolor": "white",
            "showbackground": true,
            "ticks": "",
            "zerolinecolor": "white"
           },
           "yaxis": {
            "backgroundcolor": "#E5ECF6",
            "gridcolor": "white",
            "gridwidth": 2,
            "linecolor": "white",
            "showbackground": true,
            "ticks": "",
            "zerolinecolor": "white"
           },
           "zaxis": {
            "backgroundcolor": "#E5ECF6",
            "gridcolor": "white",
            "gridwidth": 2,
            "linecolor": "white",
            "showbackground": true,
            "ticks": "",
            "zerolinecolor": "white"
           }
          },
          "shapedefaults": {
           "line": {
            "color": "#2a3f5f"
           }
          },
          "ternary": {
           "aaxis": {
            "gridcolor": "white",
            "linecolor": "white",
            "ticks": ""
           },
           "baxis": {
            "gridcolor": "white",
            "linecolor": "white",
            "ticks": ""
           },
           "bgcolor": "#E5ECF6",
           "caxis": {
            "gridcolor": "white",
            "linecolor": "white",
            "ticks": ""
           }
          },
          "title": {
           "x": 0.05
          },
          "xaxis": {
           "automargin": true,
           "gridcolor": "white",
           "linecolor": "white",
           "ticks": "",
           "title": {
            "standoff": 15
           },
           "zerolinecolor": "white",
           "zerolinewidth": 2
          },
          "yaxis": {
           "automargin": true,
           "gridcolor": "white",
           "linecolor": "white",
           "ticks": "",
           "title": {
            "standoff": 15
           },
           "zerolinecolor": "white",
           "zerolinewidth": 2
          }
         }
        },
        "title": {
         "text": "Optimization History Plot"
        },
        "xaxis": {
         "title": {
          "text": "Trial"
         }
        },
        "yaxis": {
         "title": {
          "text": "Objective Value"
         }
        }
       }
      }
     },
     "metadata": {},
     "output_type": "display_data"
    },
    {
     "name": "stdout",
     "output_type": "stream",
     "text": [
      "Best trial: 0.8919669944694398\n",
      "Best parameters: {'criterion': 'gini', 'min_samples_split': 0.139, 'min_samples_leaf': 0.01}\n",
      "              precision    recall  f1-score   support\n",
      "\n",
      "         0.0       0.70      0.76      0.73       181\n",
      "         1.0       0.87      1.00      0.93       193\n",
      "         2.0       0.97      0.91      0.94       484\n",
      "         3.0       0.33      0.25      0.29        12\n",
      "         4.0       0.90      0.98      0.94       387\n",
      "         5.0       0.93      0.40      0.56        70\n",
      "\n",
      "    accuracy                           0.89      1327\n",
      "   macro avg       0.79      0.72      0.73      1327\n",
      "weighted avg       0.89      0.89      0.88      1327\n",
      "\n"
     ]
    },
    {
     "data": {
      "image/png": "[encoded data removed]",
      "text/plain": [
       "<Figure size 640x480 with 2 Axes>"
      ]
     },
     "metadata": {},
     "output_type": "display_data"
    }
   ],
   "source": [
    "# define o espaço de busca e a função objetivo\n",
    "def objective_decision_tree(\n",
    "\t\ttrial: opt.trial.Trial,\n",
    "\t\tX: pd.DataFrame,\n",
    "\t\ty: pd.DataFrame,\n",
    "\t) -> float:\t\n",
    "\testimator = DecisionTreeClassifier(\n",
    "\t\tcriterion = trial.suggest_categorical('criterion', ['gini', 'entropy']),\n",
    "\t\tmin_samples_split = trial.suggest_float('min_samples_split', 0.01, 0.4, log=False, step=0.001),\n",
    "\t\tmin_samples_leaf = trial.suggest_float('min_samples_leaf', 0.01, 0.2, log=False, step=0.001),\n",
    "\t)\n",
    "\ttrial.set_user_attr(key=\"estimator\", value=estimator)\n",
    "\tscore = cross_val_score(estimator, X, y, n_jobs=-1, cv=5, scoring='accuracy')\n",
    "\treturn score.mean()\n",
    "\n",
    "# rotina de otimização bayesiana\n",
    "decision_tree_model = optimize(\n",
    "\tobjective=objective_decision_tree, \n",
    "\tdescription='decision_tree_classifier', n_trials=100,\n",
    "\tX=data_train, y=targets_train, X_test=data_test, y_test=targets_test,)"
   ]
  },
  {
   "cell_type": "markdown",
   "metadata": {},
   "source": [
    "#### naive bayes"
   ]
  },
  {
   "cell_type": "code",
   "execution_count": 23,
   "metadata": {},
   "outputs": [
    {
     "name": "stderr",
     "output_type": "stream",
     "text": [
      "c:\\Users\\jonas\\miniconda3\\envs\\edge\\lib\\site-packages\\optuna\\progress_bar.py:56: ExperimentalWarning:\n",
      "\n",
      "Progress bar is experimental (supported from v1.2.0). The interface can change in the future.\n",
      "\n"
     ]
    },
    {
     "data": {
      "application/vnd.jupyter.widget-view+json": {
       "model_id": "55e9a3fd73af468c9b82e4bc7b6199c5",
       "version_major": 2,
       "version_minor": 0
      },
      "text/plain": [
       "  0%|          | 0/100 [00:00<?, ?it/s]"
      ]
     },
     "metadata": {},
     "output_type": "display_data"
    },
    {
     "data": {
      "application/vnd.plotly.v1+json": {
       "config": {
        "plotlyServerURL": "https://plot.ly"
       },
       "data": [
        {
         "mode": "markers",
         "name": "Objective Value",
         "type": "scatter",
         "x": [
          0,
          1,
          2,
          3,
          4,
          5,
          6,
          7,
          8,
          9,
          10,
          11,
          12,
          13,
          14,
          15,
          16,
          17,
          18,
          19,
          20,
          21,
          22,
          23,
          24,
          25,
          26,
          27,
          28,
          29,
          30,
          31,
          32,
          33,
          34,
          35,
          36,
          37,
          38,
          39,
          40,
          41,
          42,
          43,
          44,
          45,
          46,
          47,
          48,
          49,
          50,
          51,
          52,
          53,
          54,
          55,
          56,
          57,
          58,
          59,
          60,
          61,
          62,
          63,
          64,
          65,
          66,
          67,
          68,
          69,
          70,
          71,
          72,
          73,
          74,
          75,
          76,
          77,
          78,
          79,
          80,
          81,
          82,
          83,
          84,
          85,
          86,
          87,
          88,
          89,
          90,
          91,
          92,
          93,
          94,
          95,
          96,
          97,
          98,
          99
         ],
         "y": [
          0.9128970533316736,
          0.9051679618729216,
          0.8985691675706435,
          0.9047906033823556,
          0.9047911368769228,
          0.9079958387423754,
          0.9311841801077658,
          0.8985691675706435,
          0.9372164031796275,
          0.9062995038500524,
          0.9044139562178792,
          0.9132740561591948,
          0.9089383458111785,
          0.9347655291376948,
          0.902905411413227,
          0.8997001760532072,
          0.9183653726459552,
          0.9015853680223357,
          0.916101221702559,
          0.9047906033823556,
          0.9047911368769228,
          0.9311841801077658,
          0.9049792826276386,
          0.935896715451781,
          0.9351425319652161,
          0.8951757864599079,
          0.9047906033823556,
          0.9166667259438409,
          0.9096925292977434,
          0.8938562765635837,
          0.912897231163196,
          0.9085613429836572,
          0.8936677751498232,
          0.929487489552398,
          0.9292989881386374,
          0.9285449824835951,
          0.9362740739423471,
          0.919496025465474,
          0.9177977344264043,
          0.9187404193267298,
          0.9168552273576015,
          0.9166667259438409,
          0.9170437287713622,
          0.9164782245300802,
          0.9177977344264043,
          0.9232653424145963,
          0.9194946028132946,
          0.9176092330126437,
          0.9196831042270552,
          0.9179864136716874,
          0.9187404193267298,
          0.9185519179129692,
          0.9283555919122224,
          0.9264705777746164,
          0.9247735315562036,
          0.9277900876709406,
          0.9279785890847012,
          0.9255275372112461,
          0.9283555919122224,
          0.9277900876709406,
          0.921568829690751,
          0.9232653424145963,
          0.9283555919122224,
          0.9283555919122224,
          0.9291097753987871,
          0.9281670904984617,
          0.9298637810538295,
          0.9291097753987871,
          0.9292982768125478,
          0.9287325947397436,
          0.9287325947397436,
          0.9326916579232835,
          0.933445663578326,
          0.9343883484786513,
          0.9343885263101737,
          0.9317491508544805,
          0.9283555919122224,
          0.9351427097967384,
          0.9338228442373696,
          0.9360850390340192,
          0.9357082140380204,
          0.934576849892412,
          0.9364620418615404,
          0.9127083740863904,
          0.9375935838386713,
          0.9368395781836287,
          0.9360850390340192,
          0.9360850390340192,
          0.9349538527199333,
          0.9368390446890615,
          0.936461864030018,
          0.9374050824249107,
          0.9362740739423471,
          0.9374050824249107,
          0.9370279017658671,
          0.9366505432753008,
          0.9368390446890615,
          0.9374050824249107,
          0.9364620418615404,
          0.9370279017658671
         ]
        },
        {
         "name": "Best Value",
         "type": "scatter",
         "x": [
          0,
          1,
          2,
          3,
          4,
          5,
          6,
          7,
          8,
          9,
          10,
          11,
          12,
          13,
          14,
          15,
          16,
          17,
          18,
          19,
          20,
          21,
          22,
          23,
          24,
          25,
          26,
          27,
          28,
          29,
          30,
          31,
          32,
          33,
          34,
          35,
          36,
          37,
          38,
          39,
          40,
          41,
          42,
          43,
          44,
          45,
          46,
          47,
          48,
          49,
          50,
          51,
          52,
          53,
          54,
          55,
          56,
          57,
          58,
          59,
          60,
          61,
          62,
          63,
          64,
          65,
          66,
          67,
          68,
          69,
          70,
          71,
          72,
          73,
          74,
          75,
          76,
          77,
          78,
          79,
          80,
          81,
          82,
          83,
          84,
          85,
          86,
          87,
          88,
          89,
          90,
          91,
          92,
          93,
          94,
          95,
          96,
          97,
          98,
          99
         ],
         "y": [
          0.9128970533316736,
          0.9128970533316736,
          0.9128970533316736,
          0.9128970533316736,
          0.9128970533316736,
          0.9128970533316736,
          0.9311841801077658,
          0.9311841801077658,
          0.9372164031796275,
          0.9372164031796275,
          0.9372164031796275,
          0.9372164031796275,
          0.9372164031796275,
          0.9372164031796275,
          0.9372164031796275,
          0.9372164031796275,
          0.9372164031796275,
          0.9372164031796275,
          0.9372164031796275,
          0.9372164031796275,
          0.9372164031796275,
          0.9372164031796275,
          0.9372164031796275,
          0.9372164031796275,
          0.9372164031796275,
          0.9372164031796275,
          0.9372164031796275,
          0.9372164031796275,
          0.9372164031796275,
          0.9372164031796275,
          0.9372164031796275,
          0.9372164031796275,
          0.9372164031796275,
          0.9372164031796275,
          0.9372164031796275,
          0.9372164031796275,
          0.9372164031796275,
          0.9372164031796275,
          0.9372164031796275,
          0.9372164031796275,
          0.9372164031796275,
          0.9372164031796275,
          0.9372164031796275,
          0.9372164031796275,
          0.9372164031796275,
          0.9372164031796275,
          0.9372164031796275,
          0.9372164031796275,
          0.9372164031796275,
          0.9372164031796275,
          0.9372164031796275,
          0.9372164031796275,
          0.9372164031796275,
          0.9372164031796275,
          0.9372164031796275,
          0.9372164031796275,
          0.9372164031796275,
          0.9372164031796275,
          0.9372164031796275,
          0.9372164031796275,
          0.9372164031796275,
          0.9372164031796275,
          0.9372164031796275,
          0.9372164031796275,
          0.9372164031796275,
          0.9372164031796275,
          0.9372164031796275,
          0.9372164031796275,
          0.9372164031796275,
          0.9372164031796275,
          0.9372164031796275,
          0.9372164031796275,
          0.9372164031796275,
          0.9372164031796275,
          0.9372164031796275,
          0.9372164031796275,
          0.9372164031796275,
          0.9372164031796275,
          0.9372164031796275,
          0.9372164031796275,
          0.9372164031796275,
          0.9372164031796275,
          0.9372164031796275,
          0.9372164031796275,
          0.9375935838386713,
          0.9375935838386713,
          0.9375935838386713,
          0.9375935838386713,
          0.9375935838386713,
          0.9375935838386713,
          0.9375935838386713,
          0.9375935838386713,
          0.9375935838386713,
          0.9375935838386713,
          0.9375935838386713,
          0.9375935838386713,
          0.9375935838386713,
          0.9375935838386713,
          0.9375935838386713,
          0.9375935838386713
         ]
        }
       ],
       "layout": {
        "template": {
         "data": {
          "bar": [
           {
            "error_x": {
             "color": "#2a3f5f"
            },
            "error_y": {
             "color": "#2a3f5f"
            },
            "marker": {
             "line": {
              "color": "#E5ECF6",
              "width": 0.5
             },
             "pattern": {
              "fillmode": "overlay",
              "size": 10,
              "solidity": 0.2
             }
            },
            "type": "bar"
           }
          ],
          "barpolar": [
           {
            "marker": {
             "line": {
              "color": "#E5ECF6",
              "width": 0.5
             },
             "pattern": {
              "fillmode": "overlay",
              "size": 10,
              "solidity": 0.2
             }
            },
            "type": "barpolar"
           }
          ],
          "carpet": [
           {
            "aaxis": {
             "endlinecolor": "#2a3f5f",
             "gridcolor": "white",
             "linecolor": "white",
             "minorgridcolor": "white",
             "startlinecolor": "#2a3f5f"
            },
            "baxis": {
             "endlinecolor": "#2a3f5f",
             "gridcolor": "white",
             "linecolor": "white",
             "minorgridcolor": "white",
             "startlinecolor": "#2a3f5f"
            },
            "type": "carpet"
           }
          ],
          "choropleth": [
           {
            "colorbar": {
             "outlinewidth": 0,
             "ticks": ""
            },
            "type": "choropleth"
           }
          ],
          "contour": [
           {
            "colorbar": {
             "outlinewidth": 0,
             "ticks": ""
            },
            "colorscale": [
             [
              0,
              "#0d0887"
             ],
             [
              0.1111111111111111,
              "#46039f"
             ],
             [
              0.2222222222222222,
              "#7201a8"
             ],
             [
              0.3333333333333333,
              "#9c179e"
             ],
             [
              0.4444444444444444,
              "#bd3786"
             ],
             [
              0.5555555555555556,
              "#d8576b"
             ],
             [
              0.6666666666666666,
              "#ed7953"
             ],
             [
              0.7777777777777778,
              "#fb9f3a"
             ],
             [
              0.8888888888888888,
              "#fdca26"
             ],
             [
              1,
              "#f0f921"
             ]
            ],
            "type": "contour"
           }
          ],
          "contourcarpet": [
           {
            "colorbar": {
             "outlinewidth": 0,
             "ticks": ""
            },
            "type": "contourcarpet"
           }
          ],
          "heatmap": [
           {
            "colorbar": {
             "outlinewidth": 0,
             "ticks": ""
            },
            "colorscale": [
             [
              0,
              "#0d0887"
             ],
             [
              0.1111111111111111,
              "#46039f"
             ],
             [
              0.2222222222222222,
              "#7201a8"
             ],
             [
              0.3333333333333333,
              "#9c179e"
             ],
             [
              0.4444444444444444,
              "#bd3786"
             ],
             [
              0.5555555555555556,
              "#d8576b"
             ],
             [
              0.6666666666666666,
              "#ed7953"
             ],
             [
              0.7777777777777778,
              "#fb9f3a"
             ],
             [
              0.8888888888888888,
              "#fdca26"
             ],
             [
              1,
              "#f0f921"
             ]
            ],
            "type": "heatmap"
           }
          ],
          "heatmapgl": [
           {
            "colorbar": {
             "outlinewidth": 0,
             "ticks": ""
            },
            "colorscale": [
             [
              0,
              "#0d0887"
             ],
             [
              0.1111111111111111,
              "#46039f"
             ],
             [
              0.2222222222222222,
              "#7201a8"
             ],
             [
              0.3333333333333333,
              "#9c179e"
             ],
             [
              0.4444444444444444,
              "#bd3786"
             ],
             [
              0.5555555555555556,
              "#d8576b"
             ],
             [
              0.6666666666666666,
              "#ed7953"
             ],
             [
              0.7777777777777778,
              "#fb9f3a"
             ],
             [
              0.8888888888888888,
              "#fdca26"
             ],
             [
              1,
              "#f0f921"
             ]
            ],
            "type": "heatmapgl"
           }
          ],
          "histogram": [
           {
            "marker": {
             "pattern": {
              "fillmode": "overlay",
              "size": 10,
              "solidity": 0.2
             }
            },
            "type": "histogram"
           }
          ],
          "histogram2d": [
           {
            "colorbar": {
             "outlinewidth": 0,
             "ticks": ""
            },
            "colorscale": [
             [
              0,
              "#0d0887"
             ],
             [
              0.1111111111111111,
              "#46039f"
             ],
             [
              0.2222222222222222,
              "#7201a8"
             ],
             [
              0.3333333333333333,
              "#9c179e"
             ],
             [
              0.4444444444444444,
              "#bd3786"
             ],
             [
              0.5555555555555556,
              "#d8576b"
             ],
             [
              0.6666666666666666,
              "#ed7953"
             ],
             [
              0.7777777777777778,
              "#fb9f3a"
             ],
             [
              0.8888888888888888,
              "#fdca26"
             ],
             [
              1,
              "#f0f921"
             ]
            ],
            "type": "histogram2d"
           }
          ],
          "histogram2dcontour": [
           {
            "colorbar": {
             "outlinewidth": 0,
             "ticks": ""
            },
            "colorscale": [
             [
              0,
              "#0d0887"
             ],
             [
              0.1111111111111111,
              "#46039f"
             ],
             [
              0.2222222222222222,
              "#7201a8"
             ],
             [
              0.3333333333333333,
              "#9c179e"
             ],
             [
              0.4444444444444444,
              "#bd3786"
             ],
             [
              0.5555555555555556,
              "#d8576b"
             ],
             [
              0.6666666666666666,
              "#ed7953"
             ],
             [
              0.7777777777777778,
              "#fb9f3a"
             ],
             [
              0.8888888888888888,
              "#fdca26"
             ],
             [
              1,
              "#f0f921"
             ]
            ],
            "type": "histogram2dcontour"
           }
          ],
          "mesh3d": [
           {
            "colorbar": {
             "outlinewidth": 0,
             "ticks": ""
            },
            "type": "mesh3d"
           }
          ],
          "parcoords": [
           {
            "line": {
             "colorbar": {
              "outlinewidth": 0,
              "ticks": ""
             }
            },
            "type": "parcoords"
           }
          ],
          "pie": [
           {
            "automargin": true,
            "type": "pie"
           }
          ],
          "scatter": [
           {
            "fillpattern": {
             "fillmode": "overlay",
             "size": 10,
             "solidity": 0.2
            },
            "type": "scatter"
           }
          ],
          "scatter3d": [
           {
            "line": {
             "colorbar": {
              "outlinewidth": 0,
              "ticks": ""
             }
            },
            "marker": {
             "colorbar": {
              "outlinewidth": 0,
              "ticks": ""
             }
            },
            "type": "scatter3d"
           }
          ],
          "scattercarpet": [
           {
            "marker": {
             "colorbar": {
              "outlinewidth": 0,
              "ticks": ""
             }
            },
            "type": "scattercarpet"
           }
          ],
          "scattergeo": [
           {
            "marker": {
             "colorbar": {
              "outlinewidth": 0,
              "ticks": ""
             }
            },
            "type": "scattergeo"
           }
          ],
          "scattergl": [
           {
            "marker": {
             "colorbar": {
              "outlinewidth": 0,
              "ticks": ""
             }
            },
            "type": "scattergl"
           }
          ],
          "scattermapbox": [
           {
            "marker": {
             "colorbar": {
              "outlinewidth": 0,
              "ticks": ""
             }
            },
            "type": "scattermapbox"
           }
          ],
          "scatterpolar": [
           {
            "marker": {
             "colorbar": {
              "outlinewidth": 0,
              "ticks": ""
             }
            },
            "type": "scatterpolar"
           }
          ],
          "scatterpolargl": [
           {
            "marker": {
             "colorbar": {
              "outlinewidth": 0,
              "ticks": ""
             }
            },
            "type": "scatterpolargl"
           }
          ],
          "scatterternary": [
           {
            "marker": {
             "colorbar": {
              "outlinewidth": 0,
              "ticks": ""
             }
            },
            "type": "scatterternary"
           }
          ],
          "surface": [
           {
            "colorbar": {
             "outlinewidth": 0,
             "ticks": ""
            },
            "colorscale": [
             [
              0,
              "#0d0887"
             ],
             [
              0.1111111111111111,
              "#46039f"
             ],
             [
              0.2222222222222222,
              "#7201a8"
             ],
             [
              0.3333333333333333,
              "#9c179e"
             ],
             [
              0.4444444444444444,
              "#bd3786"
             ],
             [
              0.5555555555555556,
              "#d8576b"
             ],
             [
              0.6666666666666666,
              "#ed7953"
             ],
             [
              0.7777777777777778,
              "#fb9f3a"
             ],
             [
              0.8888888888888888,
              "#fdca26"
             ],
             [
              1,
              "#f0f921"
             ]
            ],
            "type": "surface"
           }
          ],
          "table": [
           {
            "cells": {
             "fill": {
              "color": "#EBF0F8"
             },
             "line": {
              "color": "white"
             }
            },
            "header": {
             "fill": {
              "color": "#C8D4E3"
             },
             "line": {
              "color": "white"
             }
            },
            "type": "table"
           }
          ]
         },
         "layout": {
          "annotationdefaults": {
           "arrowcolor": "#2a3f5f",
           "arrowhead": 0,
           "arrowwidth": 1
          },
          "autotypenumbers": "strict",
          "coloraxis": {
           "colorbar": {
            "outlinewidth": 0,
            "ticks": ""
           }
          },
          "colorscale": {
           "diverging": [
            [
             0,
             "#8e0152"
            ],
            [
             0.1,
             "#c51b7d"
            ],
            [
             0.2,
             "#de77ae"
            ],
            [
             0.3,
             "#f1b6da"
            ],
            [
             0.4,
             "#fde0ef"
            ],
            [
             0.5,
             "#f7f7f7"
            ],
            [
             0.6,
             "#e6f5d0"
            ],
            [
             0.7,
             "#b8e186"
            ],
            [
             0.8,
             "#7fbc41"
            ],
            [
             0.9,
             "#4d9221"
            ],
            [
             1,
             "#276419"
            ]
           ],
           "sequential": [
            [
             0,
             "#0d0887"
            ],
            [
             0.1111111111111111,
             "#46039f"
            ],
            [
             0.2222222222222222,
             "#7201a8"
            ],
            [
             0.3333333333333333,
             "#9c179e"
            ],
            [
             0.4444444444444444,
             "#bd3786"
            ],
            [
             0.5555555555555556,
             "#d8576b"
            ],
            [
             0.6666666666666666,
             "#ed7953"
            ],
            [
             0.7777777777777778,
             "#fb9f3a"
            ],
            [
             0.8888888888888888,
             "#fdca26"
            ],
            [
             1,
             "#f0f921"
            ]
           ],
           "sequentialminus": [
            [
             0,
             "#0d0887"
            ],
            [
             0.1111111111111111,
             "#46039f"
            ],
            [
             0.2222222222222222,
             "#7201a8"
            ],
            [
             0.3333333333333333,
             "#9c179e"
            ],
            [
             0.4444444444444444,
             "#bd3786"
            ],
            [
             0.5555555555555556,
             "#d8576b"
            ],
            [
             0.6666666666666666,
             "#ed7953"
            ],
            [
             0.7777777777777778,
             "#fb9f3a"
            ],
            [
             0.8888888888888888,
             "#fdca26"
            ],
            [
             1,
             "#f0f921"
            ]
           ]
          },
          "colorway": [
           "#636efa",
           "#EF553B",
           "#00cc96",
           "#ab63fa",
           "#FFA15A",
           "#19d3f3",
           "#FF6692",
           "#B6E880",
           "#FF97FF",
           "#FECB52"
          ],
          "font": {
           "color": "#2a3f5f"
          },
          "geo": {
           "bgcolor": "white",
           "lakecolor": "white",
           "landcolor": "#E5ECF6",
           "showlakes": true,
           "showland": true,
           "subunitcolor": "white"
          },
          "hoverlabel": {
           "align": "left"
          },
          "hovermode": "closest",
          "mapbox": {
           "style": "light"
          },
          "paper_bgcolor": "white",
          "plot_bgcolor": "#E5ECF6",
          "polar": {
           "angularaxis": {
            "gridcolor": "white",
            "linecolor": "white",
            "ticks": ""
           },
           "bgcolor": "#E5ECF6",
           "radialaxis": {
            "gridcolor": "white",
            "linecolor": "white",
            "ticks": ""
           }
          },
          "scene": {
           "xaxis": {
            "backgroundcolor": "#E5ECF6",
            "gridcolor": "white",
            "gridwidth": 2,
            "linecolor": "white",
            "showbackground": true,
            "ticks": "",
            "zerolinecolor": "white"
           },
           "yaxis": {
            "backgroundcolor": "#E5ECF6",
            "gridcolor": "white",
            "gridwidth": 2,
            "linecolor": "white",
            "showbackground": true,
            "ticks": "",
            "zerolinecolor": "white"
           },
           "zaxis": {
            "backgroundcolor": "#E5ECF6",
            "gridcolor": "white",
            "gridwidth": 2,
            "linecolor": "white",
            "showbackground": true,
            "ticks": "",
            "zerolinecolor": "white"
           }
          },
          "shapedefaults": {
           "line": {
            "color": "#2a3f5f"
           }
          },
          "ternary": {
           "aaxis": {
            "gridcolor": "white",
            "linecolor": "white",
            "ticks": ""
           },
           "baxis": {
            "gridcolor": "white",
            "linecolor": "white",
            "ticks": ""
           },
           "bgcolor": "#E5ECF6",
           "caxis": {
            "gridcolor": "white",
            "linecolor": "white",
            "ticks": ""
           }
          },
          "title": {
           "x": 0.05
          },
          "xaxis": {
           "automargin": true,
           "gridcolor": "white",
           "linecolor": "white",
           "ticks": "",
           "title": {
            "standoff": 15
           },
           "zerolinecolor": "white",
           "zerolinewidth": 2
          },
          "yaxis": {
           "automargin": true,
           "gridcolor": "white",
           "linecolor": "white",
           "ticks": "",
           "title": {
            "standoff": 15
           },
           "zerolinecolor": "white",
           "zerolinewidth": 2
          }
         }
        },
        "title": {
         "text": "Optimization History Plot"
        },
        "xaxis": {
         "title": {
          "text": "Trial"
         }
        },
        "yaxis": {
         "title": {
          "text": "Objective Value"
         }
        }
       }
      }
     },
     "metadata": {},
     "output_type": "display_data"
    },
    {
     "data": {
      "application/vnd.plotly.v1+json": {
       "config": {
        "plotlyServerURL": "https://plot.ly"
       },
       "data": [
        {
         "cliponaxis": false,
         "hovertemplate": [
          "var_smoothing (FloatDistribution): 1.0<extra></extra>"
         ],
         "marker": {
          "color": "rgb(66,146,198)"
         },
         "orientation": "h",
         "text": [
          "1.00"
         ],
         "textposition": "outside",
         "type": "bar",
         "x": [
          1
         ],
         "y": [
          "var_smoothing"
         ]
        }
       ],
       "layout": {
        "showlegend": false,
        "template": {
         "data": {
          "bar": [
           {
            "error_x": {
             "color": "#2a3f5f"
            },
            "error_y": {
             "color": "#2a3f5f"
            },
            "marker": {
             "line": {
              "color": "#E5ECF6",
              "width": 0.5
             },
             "pattern": {
              "fillmode": "overlay",
              "size": 10,
              "solidity": 0.2
             }
            },
            "type": "bar"
           }
          ],
          "barpolar": [
           {
            "marker": {
             "line": {
              "color": "#E5ECF6",
              "width": 0.5
             },
             "pattern": {
              "fillmode": "overlay",
              "size": 10,
              "solidity": 0.2
             }
            },
            "type": "barpolar"
           }
          ],
          "carpet": [
           {
            "aaxis": {
             "endlinecolor": "#2a3f5f",
             "gridcolor": "white",
             "linecolor": "white",
             "minorgridcolor": "white",
             "startlinecolor": "#2a3f5f"
            },
            "baxis": {
             "endlinecolor": "#2a3f5f",
             "gridcolor": "white",
             "linecolor": "white",
             "minorgridcolor": "white",
             "startlinecolor": "#2a3f5f"
            },
            "type": "carpet"
           }
          ],
          "choropleth": [
           {
            "colorbar": {
             "outlinewidth": 0,
             "ticks": ""
            },
            "type": "choropleth"
           }
          ],
          "contour": [
           {
            "colorbar": {
             "outlinewidth": 0,
             "ticks": ""
            },
            "colorscale": [
             [
              0,
              "#0d0887"
             ],
             [
              0.1111111111111111,
              "#46039f"
             ],
             [
              0.2222222222222222,
              "#7201a8"
             ],
             [
              0.3333333333333333,
              "#9c179e"
             ],
             [
              0.4444444444444444,
              "#bd3786"
             ],
             [
              0.5555555555555556,
              "#d8576b"
             ],
             [
              0.6666666666666666,
              "#ed7953"
             ],
             [
              0.7777777777777778,
              "#fb9f3a"
             ],
             [
              0.8888888888888888,
              "#fdca26"
             ],
             [
              1,
              "#f0f921"
             ]
            ],
            "type": "contour"
           }
          ],
          "contourcarpet": [
           {
            "colorbar": {
             "outlinewidth": 0,
             "ticks": ""
            },
            "type": "contourcarpet"
           }
          ],
          "heatmap": [
           {
            "colorbar": {
             "outlinewidth": 0,
             "ticks": ""
            },
            "colorscale": [
             [
              0,
              "#0d0887"
             ],
             [
              0.1111111111111111,
              "#46039f"
             ],
             [
              0.2222222222222222,
              "#7201a8"
             ],
             [
              0.3333333333333333,
              "#9c179e"
             ],
             [
              0.4444444444444444,
              "#bd3786"
             ],
             [
              0.5555555555555556,
              "#d8576b"
             ],
             [
              0.6666666666666666,
              "#ed7953"
             ],
             [
              0.7777777777777778,
              "#fb9f3a"
             ],
             [
              0.8888888888888888,
              "#fdca26"
             ],
             [
              1,
              "#f0f921"
             ]
            ],
            "type": "heatmap"
           }
          ],
          "heatmapgl": [
           {
            "colorbar": {
             "outlinewidth": 0,
             "ticks": ""
            },
            "colorscale": [
             [
              0,
              "#0d0887"
             ],
             [
              0.1111111111111111,
              "#46039f"
             ],
             [
              0.2222222222222222,
              "#7201a8"
             ],
             [
              0.3333333333333333,
              "#9c179e"
             ],
             [
              0.4444444444444444,
              "#bd3786"
             ],
             [
              0.5555555555555556,
              "#d8576b"
             ],
             [
              0.6666666666666666,
              "#ed7953"
             ],
             [
              0.7777777777777778,
              "#fb9f3a"
             ],
             [
              0.8888888888888888,
              "#fdca26"
             ],
             [
              1,
              "#f0f921"
             ]
            ],
            "type": "heatmapgl"
           }
          ],
          "histogram": [
           {
            "marker": {
             "pattern": {
              "fillmode": "overlay",
              "size": 10,
              "solidity": 0.2
             }
            },
            "type": "histogram"
           }
          ],
          "histogram2d": [
           {
            "colorbar": {
             "outlinewidth": 0,
             "ticks": ""
            },
            "colorscale": [
             [
              0,
              "#0d0887"
             ],
             [
              0.1111111111111111,
              "#46039f"
             ],
             [
              0.2222222222222222,
              "#7201a8"
             ],
             [
              0.3333333333333333,
              "#9c179e"
             ],
             [
              0.4444444444444444,
              "#bd3786"
             ],
             [
              0.5555555555555556,
              "#d8576b"
             ],
             [
              0.6666666666666666,
              "#ed7953"
             ],
             [
              0.7777777777777778,
              "#fb9f3a"
             ],
             [
              0.8888888888888888,
              "#fdca26"
             ],
             [
              1,
              "#f0f921"
             ]
            ],
            "type": "histogram2d"
           }
          ],
          "histogram2dcontour": [
           {
            "colorbar": {
             "outlinewidth": 0,
             "ticks": ""
            },
            "colorscale": [
             [
              0,
              "#0d0887"
             ],
             [
              0.1111111111111111,
              "#46039f"
             ],
             [
              0.2222222222222222,
              "#7201a8"
             ],
             [
              0.3333333333333333,
              "#9c179e"
             ],
             [
              0.4444444444444444,
              "#bd3786"
             ],
             [
              0.5555555555555556,
              "#d8576b"
             ],
             [
              0.6666666666666666,
              "#ed7953"
             ],
             [
              0.7777777777777778,
              "#fb9f3a"
             ],
             [
              0.8888888888888888,
              "#fdca26"
             ],
             [
              1,
              "#f0f921"
             ]
            ],
            "type": "histogram2dcontour"
           }
          ],
          "mesh3d": [
           {
            "colorbar": {
             "outlinewidth": 0,
             "ticks": ""
            },
            "type": "mesh3d"
           }
          ],
          "parcoords": [
           {
            "line": {
             "colorbar": {
              "outlinewidth": 0,
              "ticks": ""
             }
            },
            "type": "parcoords"
           }
          ],
          "pie": [
           {
            "automargin": true,
            "type": "pie"
           }
          ],
          "scatter": [
           {
            "fillpattern": {
             "fillmode": "overlay",
             "size": 10,
             "solidity": 0.2
            },
            "type": "scatter"
           }
          ],
          "scatter3d": [
           {
            "line": {
             "colorbar": {
              "outlinewidth": 0,
              "ticks": ""
             }
            },
            "marker": {
             "colorbar": {
              "outlinewidth": 0,
              "ticks": ""
             }
            },
            "type": "scatter3d"
           }
          ],
          "scattercarpet": [
           {
            "marker": {
             "colorbar": {
              "outlinewidth": 0,
              "ticks": ""
             }
            },
            "type": "scattercarpet"
           }
          ],
          "scattergeo": [
           {
            "marker": {
             "colorbar": {
              "outlinewidth": 0,
              "ticks": ""
             }
            },
            "type": "scattergeo"
           }
          ],
          "scattergl": [
           {
            "marker": {
             "colorbar": {
              "outlinewidth": 0,
              "ticks": ""
             }
            },
            "type": "scattergl"
           }
          ],
          "scattermapbox": [
           {
            "marker": {
             "colorbar": {
              "outlinewidth": 0,
              "ticks": ""
             }
            },
            "type": "scattermapbox"
           }
          ],
          "scatterpolar": [
           {
            "marker": {
             "colorbar": {
              "outlinewidth": 0,
              "ticks": ""
             }
            },
            "type": "scatterpolar"
           }
          ],
          "scatterpolargl": [
           {
            "marker": {
             "colorbar": {
              "outlinewidth": 0,
              "ticks": ""
             }
            },
            "type": "scatterpolargl"
           }
          ],
          "scatterternary": [
           {
            "marker": {
             "colorbar": {
              "outlinewidth": 0,
              "ticks": ""
             }
            },
            "type": "scatterternary"
           }
          ],
          "surface": [
           {
            "colorbar": {
             "outlinewidth": 0,
             "ticks": ""
            },
            "colorscale": [
             [
              0,
              "#0d0887"
             ],
             [
              0.1111111111111111,
              "#46039f"
             ],
             [
              0.2222222222222222,
              "#7201a8"
             ],
             [
              0.3333333333333333,
              "#9c179e"
             ],
             [
              0.4444444444444444,
              "#bd3786"
             ],
             [
              0.5555555555555556,
              "#d8576b"
             ],
             [
              0.6666666666666666,
              "#ed7953"
             ],
             [
              0.7777777777777778,
              "#fb9f3a"
             ],
             [
              0.8888888888888888,
              "#fdca26"
             ],
             [
              1,
              "#f0f921"
             ]
            ],
            "type": "surface"
           }
          ],
          "table": [
           {
            "cells": {
             "fill": {
              "color": "#EBF0F8"
             },
             "line": {
              "color": "white"
             }
            },
            "header": {
             "fill": {
              "color": "#C8D4E3"
             },
             "line": {
              "color": "white"
             }
            },
            "type": "table"
           }
          ]
         },
         "layout": {
          "annotationdefaults": {
           "arrowcolor": "#2a3f5f",
           "arrowhead": 0,
           "arrowwidth": 1
          },
          "autotypenumbers": "strict",
          "coloraxis": {
           "colorbar": {
            "outlinewidth": 0,
            "ticks": ""
           }
          },
          "colorscale": {
           "diverging": [
            [
             0,
             "#8e0152"
            ],
            [
             0.1,
             "#c51b7d"
            ],
            [
             0.2,
             "#de77ae"
            ],
            [
             0.3,
             "#f1b6da"
            ],
            [
             0.4,
             "#fde0ef"
            ],
            [
             0.5,
             "#f7f7f7"
            ],
            [
             0.6,
             "#e6f5d0"
            ],
            [
             0.7,
             "#b8e186"
            ],
            [
             0.8,
             "#7fbc41"
            ],
            [
             0.9,
             "#4d9221"
            ],
            [
             1,
             "#276419"
            ]
           ],
           "sequential": [
            [
             0,
             "#0d0887"
            ],
            [
             0.1111111111111111,
             "#46039f"
            ],
            [
             0.2222222222222222,
             "#7201a8"
            ],
            [
             0.3333333333333333,
             "#9c179e"
            ],
            [
             0.4444444444444444,
             "#bd3786"
            ],
            [
             0.5555555555555556,
             "#d8576b"
            ],
            [
             0.6666666666666666,
             "#ed7953"
            ],
            [
             0.7777777777777778,
             "#fb9f3a"
            ],
            [
             0.8888888888888888,
             "#fdca26"
            ],
            [
             1,
             "#f0f921"
            ]
           ],
           "sequentialminus": [
            [
             0,
             "#0d0887"
            ],
            [
             0.1111111111111111,
             "#46039f"
            ],
            [
             0.2222222222222222,
             "#7201a8"
            ],
            [
             0.3333333333333333,
             "#9c179e"
            ],
            [
             0.4444444444444444,
             "#bd3786"
            ],
            [
             0.5555555555555556,
             "#d8576b"
            ],
            [
             0.6666666666666666,
             "#ed7953"
            ],
            [
             0.7777777777777778,
             "#fb9f3a"
            ],
            [
             0.8888888888888888,
             "#fdca26"
            ],
            [
             1,
             "#f0f921"
            ]
           ]
          },
          "colorway": [
           "#636efa",
           "#EF553B",
           "#00cc96",
           "#ab63fa",
           "#FFA15A",
           "#19d3f3",
           "#FF6692",
           "#B6E880",
           "#FF97FF",
           "#FECB52"
          ],
          "font": {
           "color": "#2a3f5f"
          },
          "geo": {
           "bgcolor": "white",
           "lakecolor": "white",
           "landcolor": "#E5ECF6",
           "showlakes": true,
           "showland": true,
           "subunitcolor": "white"
          },
          "hoverlabel": {
           "align": "left"
          },
          "hovermode": "closest",
          "mapbox": {
           "style": "light"
          },
          "paper_bgcolor": "white",
          "plot_bgcolor": "#E5ECF6",
          "polar": {
           "angularaxis": {
            "gridcolor": "white",
            "linecolor": "white",
            "ticks": ""
           },
           "bgcolor": "#E5ECF6",
           "radialaxis": {
            "gridcolor": "white",
            "linecolor": "white",
            "ticks": ""
           }
          },
          "scene": {
           "xaxis": {
            "backgroundcolor": "#E5ECF6",
            "gridcolor": "white",
            "gridwidth": 2,
            "linecolor": "white",
            "showbackground": true,
            "ticks": "",
            "zerolinecolor": "white"
           },
           "yaxis": {
            "backgroundcolor": "#E5ECF6",
            "gridcolor": "white",
            "gridwidth": 2,
            "linecolor": "white",
            "showbackground": true,
            "ticks": "",
            "zerolinecolor": "white"
           },
           "zaxis": {
            "backgroundcolor": "#E5ECF6",
            "gridcolor": "white",
            "gridwidth": 2,
            "linecolor": "white",
            "showbackground": true,
            "ticks": "",
            "zerolinecolor": "white"
           }
          },
          "shapedefaults": {
           "line": {
            "color": "#2a3f5f"
           }
          },
          "ternary": {
           "aaxis": {
            "gridcolor": "white",
            "linecolor": "white",
            "ticks": ""
           },
           "baxis": {
            "gridcolor": "white",
            "linecolor": "white",
            "ticks": ""
           },
           "bgcolor": "#E5ECF6",
           "caxis": {
            "gridcolor": "white",
            "linecolor": "white",
            "ticks": ""
           }
          },
          "title": {
           "x": 0.05
          },
          "xaxis": {
           "automargin": true,
           "gridcolor": "white",
           "linecolor": "white",
           "ticks": "",
           "title": {
            "standoff": 15
           },
           "zerolinecolor": "white",
           "zerolinewidth": 2
          },
          "yaxis": {
           "automargin": true,
           "gridcolor": "white",
           "linecolor": "white",
           "ticks": "",
           "title": {
            "standoff": 15
           },
           "zerolinecolor": "white",
           "zerolinewidth": 2
          }
         }
        },
        "title": {
         "text": "Hyperparameter Importances"
        },
        "xaxis": {
         "title": {
          "text": "Importance for Objective Value"
         }
        },
        "yaxis": {
         "title": {
          "text": "Hyperparameter"
         }
        }
       }
      }
     },
     "metadata": {},
     "output_type": "display_data"
    },
    {
     "name": "stdout",
     "output_type": "stream",
     "text": [
      "Best trial: 0.9375935838386713\n",
      "Best parameters: {'var_smoothing': 0.19046160064483153}\n",
      "              precision    recall  f1-score   support\n",
      "\n",
      "         0.0       0.90      0.68      0.78       181\n",
      "         1.0       0.98      0.99      0.99       193\n",
      "         2.0       0.91      0.99      0.95       484\n",
      "         3.0       0.80      1.00      0.89        12\n",
      "         4.0       0.98      0.98      0.98       387\n",
      "         5.0       0.99      0.99      0.99        70\n",
      "\n",
      "    accuracy                           0.94      1327\n",
      "   macro avg       0.93      0.94      0.93      1327\n",
      "weighted avg       0.94      0.94      0.94      1327\n",
      "\n"
     ]
    },
    {
     "data": {
      "image/png": "[encoded data removed]",
      "text/plain": [
       "<Figure size 640x480 with 2 Axes>"
      ]
     },
     "metadata": {},
     "output_type": "display_data"
    }
   ],
   "source": [
    "# define o espaço de busca e a função objetivo\n",
    "def objective_naive_bayes(\n",
    "\t\ttrial: opt.trial.Trial,\n",
    "\t\tX: pd.DataFrame,\n",
    "\t\ty: pd.DataFrame,\n",
    "\t) -> float:\t\n",
    "\testimator = GaussianNB(\n",
    "\t\tvar_smoothing = trial.suggest_float('var_smoothing', 1e-15, 1, log=True),\n",
    "\t)\n",
    "\ttrial.set_user_attr(key=\"estimator\", value=estimator)\n",
    "\tscore = cross_val_score(estimator, X, y, n_jobs=-1, cv=5, scoring='accuracy')\n",
    "\treturn score.mean()\n",
    "\n",
    "# rotina de otimização bayesiana\n",
    "naive_bayes_model = optimize(\n",
    "\tobjective=objective_naive_bayes, \n",
    "\tdescription='naive_bayes_classifier', n_trials=100,\n",
    "\tX=data_train, y=targets_train, X_test=data_test, y_test=targets_test,)"
   ]
  },
  {
   "attachments": {},
   "cell_type": "markdown",
   "metadata": {},
   "source": [
    "#### comparação de modelos"
   ]
  },
  {
   "cell_type": "code",
   "execution_count": 24,
   "metadata": {},
   "outputs": [
    {
     "name": "stdout",
     "output_type": "stream",
     "text": [
      "logistic_regression: 0.9947249434815373\n",
      "decision_tree_classifier: 0.8877166541070083\n",
      "naive_bayes_classifier: 0.9449886963074604\n"
     ]
    }
   ],
   "source": [
    "models = [logistic_regression_model, decision_tree_model, naive_bayes_model]\n",
    "for model in models:\n",
    "\tprint (f'{model[\"description\"]}: {model[\"estimator\"].score(data_test, targets_test)}')"
   ]
  },
  {
   "attachments": {},
   "cell_type": "markdown",
   "metadata": {},
   "source": [
    "⭐ nota\n",
    "<div style=\"color:#222200;background-color:#FFFFBB;padding:10px;\"><table style=\"border:0px solid;width:100%\">\n",
    "<tr><td style=\"border:0px;font-size:60px;width:100px;\">⭐</td><td style=\"border:0px;\">\n",
    "Para essa hipótese, os modelos de regressão logística e naive bayes apresentaram resultados quase perfeitos no dataset de teste\n",
    "</td></tr></table></div>"
   ]
  },
  {
   "attachments": {},
   "cell_type": "markdown",
   "metadata": {},
   "source": [
    "#### importância das features"
   ]
  },
  {
   "cell_type": "code",
   "execution_count": 25,
   "metadata": {},
   "outputs": [
    {
     "data": {
      "image/png": "[encoded data removed]",
      "text/plain": [
       "<Figure size 1000x400 with 1 Axes>"
      ]
     },
     "metadata": {},
     "output_type": "display_data"
    },
    {
     "data": {
      "image/png": "[encoded data removed]",
      "text/plain": [
       "<Figure size 1000x400 with 1 Axes>"
      ]
     },
     "metadata": {},
     "output_type": "display_data"
    },
    {
     "data": {
      "image/png": "[encoded data removed]",
      "text/plain": [
       "<Figure size 1000x400 with 1 Axes>"
      ]
     },
     "metadata": {},
     "output_type": "display_data"
    }
   ],
   "source": [
    "def plot_feature_importances(\n",
    "\t\tmodel: dict,\n",
    "\t\tX: pd.DataFrame,\n",
    "\t\ty: pd.DataFrame,\n",
    "\t\t) -> None:\n",
    "\timportances = permutation_importance(model['estimator'], X, y, n_repeats=10)\n",
    "\ttable = pd.DataFrame(importances.importances_mean, index=X.columns, columns=['importance'])\n",
    "\ttable.sort_values(by='importance', ascending=True, inplace=True)\n",
    "\ttable.plot.barh(figsize=(10, 3+int(table.shape[0]/6)))\n",
    "\tplt.title(f'importância das features para {model[\"description\"]}')\n",
    "\tplt.show()\n",
    "\n",
    "for model in models:\n",
    "\tplot_feature_importances(model, data_train, targets_train)\n"
   ]
  },
  {
   "attachments": {},
   "cell_type": "markdown",
   "metadata": {},
   "source": [
    "⭐ nota\n",
    "<div style=\"color:#222200;background-color:#FFFFBB;padding:10px;\"><table style=\"border:0px solid;width:100%\">\n",
    "<tr><td style=\"border:0px;font-size:60px;width:100px;\">⭐</td><td style=\"border:0px;\">\n",
    "o modelo escolhido para esta hipótese foi o Naive Bayes\n",
    "</td></tr></table></div>"
   ]
  },
  {
   "cell_type": "markdown",
   "metadata": {},
   "source": [
    "#### comparação de modelos"
   ]
  },
  {
   "cell_type": "code",
   "execution_count": 26,
   "metadata": {},
   "outputs": [
    {
     "name": "stdout",
     "output_type": "stream",
     "text": [
      "logistic_regression: 0.9947249434815373\n",
      "decision_tree_classifier: 0.8877166541070083\n",
      "naive_bayes_classifier: 0.9449886963074604\n"
     ]
    }
   ],
   "source": [
    "models = [logistic_regression_model, decision_tree_model, naive_bayes_model]\n",
    "for model in models:\n",
    "\tprint (f'{model[\"description\"]}: {model[\"estimator\"].score(data_test, targets_test)}')"
   ]
  },
  {
   "cell_type": "markdown",
   "metadata": {},
   "source": [
    "⭐ nota\n",
    "<div style=\"color:#222200;background-color:#FFFFBB;padding:10px;\"><table style=\"border:0px solid;width:100%\">\n",
    "<tr><td style=\"border:0px;font-size:60px;width:100px;\">⭐</td><td style=\"border:0px;\">\n",
    "Para essa hipótese, os modelos de regressão logística e naive bayes apresentaram resultados quase perfeitos no dataset de teste\n",
    "</td></tr></table></div>"
   ]
  },
  {
   "cell_type": "markdown",
   "metadata": {},
   "source": [
    "#### importância das features"
   ]
  },
  {
   "cell_type": "code",
   "execution_count": 27,
   "metadata": {},
   "outputs": [
    {
     "data": {
      "image/png": "[encoded data removed]",
      "text/plain": [
       "<Figure size 1000x400 with 1 Axes>"
      ]
     },
     "metadata": {},
     "output_type": "display_data"
    },
    {
     "data": {
      "image/png": "[encoded data removed]",
      "text/plain": [
       "<Figure size 1000x400 with 1 Axes>"
      ]
     },
     "metadata": {},
     "output_type": "display_data"
    },
    {
     "data": {
      "image/png": "[encoded data removed]",
      "text/plain": [
       "<Figure size 1000x400 with 1 Axes>"
      ]
     },
     "metadata": {},
     "output_type": "display_data"
    }
   ],
   "source": [
    "def plot_feature_importances(\n",
    "\t\tmodel: dict,\n",
    "\t\tX: pd.DataFrame,\n",
    "\t\ty: pd.DataFrame,\n",
    "\t\t) -> None:\n",
    "\timportances = permutation_importance(model['estimator'], X, y, n_repeats=10)\n",
    "\ttable = pd.DataFrame(importances.importances_mean, index=X.columns, columns=['importance'])\n",
    "\ttable.sort_values(by='importance', ascending=True, inplace=True)\n",
    "\ttable.plot.barh(figsize=(10, 3+int(table.shape[0]/6)))\n",
    "\tplt.title(f'importância das features para {model[\"description\"]}')\n",
    "\tplt.show()\n",
    "\n",
    "for model in models:\n",
    "\tplot_feature_importances(model, data_train, targets_train)\n"
   ]
  },
  {
   "attachments": {},
   "cell_type": "markdown",
   "metadata": {},
   "source": [
    "### Conclusão"
   ]
  },
  {
   "attachments": {},
   "cell_type": "markdown",
   "metadata": {},
   "source": [
    "⭐ nota\n",
    "<div style=\"color:#222200;background-color:#FFFFBB;padding:10px;\"><table style=\"border:0px solid;width:100%\">\n",
    "<tr><td style=\"border:0px;font-size:60px;width:100px;\">⭐</td><td style=\"border:0px;\">\n",
    "A recomendação é implementar a hipótese 2 (considerando as métricas financeiras): <br>\n",
    "- as features adicionais acrescentam informações relevantes para a segmentação de clientes <br>\n",
    "- o modelo que respondeu melhor na tarefa de classificação foi a regressão logística ponderada pelas classes\n",
    "</td></tr></table></div>"
   ]
  }
 ],
 "metadata": {
  "kernelspec": {
   "display_name": "edge",
   "language": "python",
   "name": "python3"
  },
  "language_info": {
   "codemirror_mode": {
    "name": "ipython",
    "version": 3
   },
   "file_extension": ".py",
   "mimetype": "text/x-python",
   "name": "python",
   "nbconvert_exporter": "python",
   "pygments_lexer": "ipython3",
   "version": "3.10.9"
  },
  "orig_nbformat": 4
 },
 "nbformat": 4,
 "nbformat_minor": 2
}
