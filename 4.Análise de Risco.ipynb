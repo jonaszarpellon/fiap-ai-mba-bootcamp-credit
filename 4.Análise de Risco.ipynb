{
 "cells": [
  {
   "attachments": {},
   "cell_type": "markdown",
   "metadata": {},
   "source": [
    "# FIAP Bootcamp - Wtec Suprimentos - Análise de Risco\n",
    "Case: **Wtec Suprimentos - Análise de Crédito**\\\n",
    "Turma: **1IAR**\n",
    "\n",
    "| Nome dos Integrantes     | RM            | Turma |\n",
    "| :----------------------- | :------------- | :-----: |\n",
    "| Claudio Manuel           | RM 346353      | 1IAR |\n",
    "| Jonas Zarpellon          | RM 345724      | 1IAR |\n",
    "| Rafael Yuji              | RM 346108      | 1IAR |"
   ]
  },
  {
   "attachments": {},
   "cell_type": "markdown",
   "metadata": {},
   "source": [
    "## Introdução\n",
    "\n",
    "### Problema Proposto - Parte 4-A: Análise de Risco\n",
    "- A empresa deseja, entre outras coisas, criar um 'robö automatizado' (na linguagem da propria empresa), que realize uma recomendacäo de crédito para que os analistas se baseiem nessa recomendacäo para conceder o limite måximo de crédito.\n",
    "- Vale salientar que por se tratar de valores monetérios é importante que este modelo tenha um bom desempenho\n",
    "\n",
    "### Abordagem Proposta\n",
    "- O objetivo desta modelagem é treinar um algoritmo de aprendizado capaz de estimar o fator de risco em um cliente na forma de um percentual\n",
    "- Será utilizado um algoritmo supervisionado para essa regressão, baseado nos fatores de risco atribuidos aos clientes na base de dados histórica\n",
    "- Será explorada somente a hipótese 2, utilizando as informações disponíveis nas documentações contábeis"
   ]
  },
  {
   "attachments": {},
   "cell_type": "markdown",
   "metadata": {},
   "source": [
    "### Setup"
   ]
  },
  {
   "cell_type": "code",
   "execution_count": 1,
   "metadata": {},
   "outputs": [
    {
     "name": "stderr",
     "output_type": "stream",
     "text": [
      "Intel(R) Extension for Scikit-learn* enabled (https://github.com/intel/scikit-learn-intelex)\n"
     ]
    }
   ],
   "source": [
    "# dados / io\n",
    "import pandas as pd\n",
    "import pandas_flavor as pf\n",
    "import numpy as np\n",
    "import joblib\n",
    "# plotting\n",
    "import matplotlib.pyplot as plt\n",
    "import seaborn as sns\n",
    "%matplotlib inline\n",
    "# otimização\n",
    "from sklearnex import patch_sklearn\n",
    "patch_sklearn()\n",
    "# preprocessamento\n",
    "from sklearn.preprocessing import StandardScaler\n",
    "# machine learning\n",
    "from sklearn.linear_model import ElasticNet\n",
    "from sklearn.ensemble import RandomForestRegressor\n",
    "from xgboost import XGBRegressor\n",
    "# seleção de modelos\n",
    "import optuna as opt\n",
    "opt.logging.set_verbosity(opt.logging.WARNING)\n",
    "from sklearn.model_selection import cross_val_score, train_test_split\n",
    "from sklearn.metrics import mean_absolute_error, mean_squared_error, r2_score, mean_absolute_percentage_error\n",
    "from sklearn.inspection import permutation_importance\n",
    "# display\n",
    "import warnings\n",
    "warnings.filterwarnings('ignore', category=UserWarning)\n",
    "warnings.filterwarnings('ignore', category=DeprecationWarning)\n",
    "warnings.filterwarnings('ignore', category=FutureWarning)\n",
    "warnings.filterwarnings('ignore', category=opt.exceptions.ExperimentalWarning)\n",
    "pd.options.display.float_format = '{:,.4f}'.format\n"
   ]
  },
  {
   "cell_type": "markdown",
   "metadata": {},
   "source": [
    "### Carga de Dados"
   ]
  },
  {
   "cell_type": "code",
   "execution_count": 2,
   "metadata": {},
   "outputs": [
    {
     "data": {
      "text/html": [
       "<div>\n",
       "<style scoped>\n",
       "    .dataframe tbody tr th:only-of-type {\n",
       "        vertical-align: middle;\n",
       "    }\n",
       "\n",
       "    .dataframe tbody tr th {\n",
       "        vertical-align: top;\n",
       "    }\n",
       "\n",
       "    .dataframe thead th {\n",
       "        text-align: right;\n",
       "    }\n",
       "</style>\n",
       "<table border=\"1\" class=\"dataframe\">\n",
       "  <thead>\n",
       "    <tr style=\"text-align: right;\">\n",
       "      <th></th>\n",
       "      <th>2676</th>\n",
       "      <th>4664</th>\n",
       "      <th>5116</th>\n",
       "      <th>5583</th>\n",
       "      <th>5465</th>\n",
       "    </tr>\n",
       "  </thead>\n",
       "  <tbody>\n",
       "    <tr>\n",
       "      <th>numero_solicitacao</th>\n",
       "      <td>2,749.0000</td>\n",
       "      <td>4,737.0000</td>\n",
       "      <td>5,189.0000</td>\n",
       "      <td>5,656.0000</td>\n",
       "      <td>5,538.0000</td>\n",
       "    </tr>\n",
       "    <tr>\n",
       "      <th>razaoSocial</th>\n",
       "      <td>Douglas Wong</td>\n",
       "      <td>Caroline Wright</td>\n",
       "      <td>Kathleen Summers</td>\n",
       "      <td>Ashley Johnson</td>\n",
       "      <td>Jamie Gregory-Rees</td>\n",
       "    </tr>\n",
       "    <tr>\n",
       "      <th>nomeFantasia</th>\n",
       "      <td>Mathew Watson</td>\n",
       "      <td>Elaine Bray-Chapman</td>\n",
       "      <td>Tracey Thomas-Taylor</td>\n",
       "      <td>Connor Cox</td>\n",
       "      <td>Joel Evans</td>\n",
       "    </tr>\n",
       "    <tr>\n",
       "      <th>cnpjSemTraco</th>\n",
       "      <td>JPXB50512133545813</td>\n",
       "      <td>QXUE06615581358861</td>\n",
       "      <td>LYXE74659784406683</td>\n",
       "      <td>BTXK71717619669732</td>\n",
       "      <td>SXQL48789557445419</td>\n",
       "    </tr>\n",
       "    <tr>\n",
       "      <th>maiorAtraso</th>\n",
       "      <td>5</td>\n",
       "      <td>12</td>\n",
       "      <td>2</td>\n",
       "      <td>17</td>\n",
       "      <td>16</td>\n",
       "    </tr>\n",
       "    <tr>\n",
       "      <th>margemBrutaAcumulada</th>\n",
       "      <td>0.6050</td>\n",
       "      <td>0.5512</td>\n",
       "      <td>0.2764</td>\n",
       "      <td>0.3947</td>\n",
       "      <td>0.6388</td>\n",
       "    </tr>\n",
       "    <tr>\n",
       "      <th>percentualProtestos</th>\n",
       "      <td>0.0000</td>\n",
       "      <td>0.0000</td>\n",
       "      <td>0.0000</td>\n",
       "      <td>0.0000</td>\n",
       "      <td>0.0000</td>\n",
       "    </tr>\n",
       "    <tr>\n",
       "      <th>primeiraCompra</th>\n",
       "      <td>2010-02-03T00:00:00</td>\n",
       "      <td>2020-05-12T00:00:00</td>\n",
       "      <td>2020-09-11T00:00:00</td>\n",
       "      <td>2007-10-11T00:00:00</td>\n",
       "      <td>2018-07-25T00:00:00</td>\n",
       "    </tr>\n",
       "    <tr>\n",
       "      <th>prazoMedioRecebimentoVendas</th>\n",
       "      <td>0</td>\n",
       "      <td>78</td>\n",
       "      <td>0</td>\n",
       "      <td>25</td>\n",
       "      <td>23</td>\n",
       "    </tr>\n",
       "    <tr>\n",
       "      <th>titulosEmAberto</th>\n",
       "      <td>0.0000</td>\n",
       "      <td>26,922.9900</td>\n",
       "      <td>0.0000</td>\n",
       "      <td>771,227.8300</td>\n",
       "      <td>7,000.0000</td>\n",
       "    </tr>\n",
       "    <tr>\n",
       "      <th>valorSolicitado</th>\n",
       "      <td>30,000.0000</td>\n",
       "      <td>60,000.0000</td>\n",
       "      <td>150,000.0000</td>\n",
       "      <td>2,500,000.0000</td>\n",
       "      <td>40,000.0000</td>\n",
       "    </tr>\n",
       "    <tr>\n",
       "      <th>status</th>\n",
       "      <td>AprovadoAnalista</td>\n",
       "      <td>AprovadoAnalista</td>\n",
       "      <td>ReprovadoAnalista</td>\n",
       "      <td>AprovadoAnalista</td>\n",
       "      <td>AprovadoAnalista</td>\n",
       "    </tr>\n",
       "    <tr>\n",
       "      <th>definicaoRisco</th>\n",
       "      <td>De 11 a 30 % - Baixo</td>\n",
       "      <td>De 11 a 30 % - Baixo</td>\n",
       "      <td>De 11 a 30 % - Baixo</td>\n",
       "      <td>De 11 a 30 % - Baixo</td>\n",
       "      <td>De 31 a 50 % - Médio</td>\n",
       "    </tr>\n",
       "    <tr>\n",
       "      <th>diferencaPercentualRisco</th>\n",
       "      <td>0.7500</td>\n",
       "      <td>0.7500</td>\n",
       "      <td>0.7321</td>\n",
       "      <td>0.8036</td>\n",
       "      <td>0.6607</td>\n",
       "    </tr>\n",
       "    <tr>\n",
       "      <th>percentualRisco</th>\n",
       "      <td>0.2500</td>\n",
       "      <td>0.2500</td>\n",
       "      <td>0.2679</td>\n",
       "      <td>0.1964</td>\n",
       "      <td>0.3393</td>\n",
       "    </tr>\n",
       "    <tr>\n",
       "      <th>dashboardCorrelacao</th>\n",
       "      <td>0.0000</td>\n",
       "      <td>0.0000</td>\n",
       "      <td>0.0000</td>\n",
       "      <td>-0.8371</td>\n",
       "      <td>0.8660</td>\n",
       "    </tr>\n",
       "    <tr>\n",
       "      <th>valorAprovado</th>\n",
       "      <td>30,000.0000</td>\n",
       "      <td>60,000.0000</td>\n",
       "      <td>NaN</td>\n",
       "      <td>2,500,000.0000</td>\n",
       "      <td>25,000.0000</td>\n",
       "    </tr>\n",
       "    <tr>\n",
       "      <th>dataAprovadoEmComite</th>\n",
       "      <td>NaN</td>\n",
       "      <td>NaN</td>\n",
       "      <td>NaN</td>\n",
       "      <td>NaN</td>\n",
       "      <td>NaN</td>\n",
       "    </tr>\n",
       "    <tr>\n",
       "      <th>periodoBalanco</th>\n",
       "      <td>NaN</td>\n",
       "      <td>2019-12-31T03:00:00</td>\n",
       "      <td>2019-12-31T03:00:00</td>\n",
       "      <td>2020-06-30T03:00:00</td>\n",
       "      <td>NaN</td>\n",
       "    </tr>\n",
       "    <tr>\n",
       "      <th>ativoCirculante</th>\n",
       "      <td>NaN</td>\n",
       "      <td>13,594,293.0000</td>\n",
       "      <td>2,843,921.0000</td>\n",
       "      <td>39,549,268.0000</td>\n",
       "      <td>NaN</td>\n",
       "    </tr>\n",
       "    <tr>\n",
       "      <th>passivoCirculante</th>\n",
       "      <td>NaN</td>\n",
       "      <td>6,391,243.0000</td>\n",
       "      <td>1,818,562.0000</td>\n",
       "      <td>15,287,028.0000</td>\n",
       "      <td>NaN</td>\n",
       "    </tr>\n",
       "    <tr>\n",
       "      <th>totalAtivo</th>\n",
       "      <td>NaN</td>\n",
       "      <td>14,527,651.0000</td>\n",
       "      <td>4,415,698.0000</td>\n",
       "      <td>43,189,402.0000</td>\n",
       "      <td>NaN</td>\n",
       "    </tr>\n",
       "    <tr>\n",
       "      <th>totalPatrimonioLiquido</th>\n",
       "      <td>NaN</td>\n",
       "      <td>8,105,062.0000</td>\n",
       "      <td>1,535,454.0000</td>\n",
       "      <td>21,501,062.0000</td>\n",
       "      <td>NaN</td>\n",
       "    </tr>\n",
       "    <tr>\n",
       "      <th>endividamento</th>\n",
       "      <td>NaN</td>\n",
       "      <td>1,095,874.0000</td>\n",
       "      <td>630,255.0000</td>\n",
       "      <td>0.0000</td>\n",
       "      <td>NaN</td>\n",
       "    </tr>\n",
       "    <tr>\n",
       "      <th>duplicatasAReceber</th>\n",
       "      <td>NaN</td>\n",
       "      <td>3,949,933.0000</td>\n",
       "      <td>1,253,044.0000</td>\n",
       "      <td>20,084,746.0000</td>\n",
       "      <td>NaN</td>\n",
       "    </tr>\n",
       "    <tr>\n",
       "      <th>estoque</th>\n",
       "      <td>NaN</td>\n",
       "      <td>7,512,889.0000</td>\n",
       "      <td>1,459,284.0000</td>\n",
       "      <td>16,284,167.0000</td>\n",
       "      <td>NaN</td>\n",
       "    </tr>\n",
       "    <tr>\n",
       "      <th>faturamentoBruto</th>\n",
       "      <td>265,695,982.0000</td>\n",
       "      <td>50,535,782.0000</td>\n",
       "      <td>3,668,978.0000</td>\n",
       "      <td>52,035,308.0000</td>\n",
       "      <td>1,913,693.0000</td>\n",
       "    </tr>\n",
       "    <tr>\n",
       "      <th>margemBruta</th>\n",
       "      <td>0.0000</td>\n",
       "      <td>15,355,106.0000</td>\n",
       "      <td>3,021,046.0000</td>\n",
       "      <td>23,405,365.0000</td>\n",
       "      <td>0.0000</td>\n",
       "    </tr>\n",
       "    <tr>\n",
       "      <th>periodoDemonstrativoEmMeses</th>\n",
       "      <td>12.0000</td>\n",
       "      <td>12.0000</td>\n",
       "      <td>12.0000</td>\n",
       "      <td>6.0000</td>\n",
       "      <td>12.0000</td>\n",
       "    </tr>\n",
       "    <tr>\n",
       "      <th>custos</th>\n",
       "      <td>0.0000</td>\n",
       "      <td>35,180,676.0000</td>\n",
       "      <td>647,932.0000</td>\n",
       "      <td>28,629,943.0000</td>\n",
       "      <td>0.0000</td>\n",
       "    </tr>\n",
       "    <tr>\n",
       "      <th>anoFundacao</th>\n",
       "      <td>1,978.0000</td>\n",
       "      <td>2,000.0000</td>\n",
       "      <td>2,007.0000</td>\n",
       "      <td>2,004.0000</td>\n",
       "      <td>1,987.0000</td>\n",
       "    </tr>\n",
       "    <tr>\n",
       "      <th>intervaloFundacao</th>\n",
       "      <td>Acima de 17 anos</td>\n",
       "      <td>Acima de 17 anos</td>\n",
       "      <td>De 11 a 16 anos</td>\n",
       "      <td>De 11 a 16 anos</td>\n",
       "      <td>Acima de 17 anos</td>\n",
       "    </tr>\n",
       "    <tr>\n",
       "      <th>capitalSocial</th>\n",
       "      <td>17,578,840.0000</td>\n",
       "      <td>700,000.0000</td>\n",
       "      <td>1,000,000.0000</td>\n",
       "      <td>10,000,000.0000</td>\n",
       "      <td>300,000.0000</td>\n",
       "    </tr>\n",
       "    <tr>\n",
       "      <th>restricoes</th>\n",
       "      <td>False</td>\n",
       "      <td>False</td>\n",
       "      <td>True</td>\n",
       "      <td>False</td>\n",
       "      <td>False</td>\n",
       "    </tr>\n",
       "    <tr>\n",
       "      <th>empresa_MeEppMei</th>\n",
       "      <td>False</td>\n",
       "      <td>False</td>\n",
       "      <td>True</td>\n",
       "      <td>False</td>\n",
       "      <td>False</td>\n",
       "    </tr>\n",
       "    <tr>\n",
       "      <th>scorePontualidade</th>\n",
       "      <td>1.0000</td>\n",
       "      <td>1.0000</td>\n",
       "      <td>1.0000</td>\n",
       "      <td>1.0000</td>\n",
       "      <td>1.0000</td>\n",
       "    </tr>\n",
       "    <tr>\n",
       "      <th>limiteEmpresaAnaliseCredito</th>\n",
       "      <td>6,338,540.0000</td>\n",
       "      <td>3,563,636.0000</td>\n",
       "      <td>0.0000</td>\n",
       "      <td>10,386,604.0000</td>\n",
       "      <td>138,000.0000</td>\n",
       "    </tr>\n",
       "    <tr>\n",
       "      <th>dataAprovadoNivelAnalista</th>\n",
       "      <td>2020-06-18T20:28:57</td>\n",
       "      <td>2020-09-09T16:41:54</td>\n",
       "      <td>NaN</td>\n",
       "      <td>2020-10-15T19:23:23</td>\n",
       "      <td>2020-10-08T18:51:22</td>\n",
       "    </tr>\n",
       "    <tr>\n",
       "      <th>cluster</th>\n",
       "      <td>0.0000</td>\n",
       "      <td>0.0000</td>\n",
       "      <td>NaN</td>\n",
       "      <td>0.0000</td>\n",
       "      <td>0.0000</td>\n",
       "    </tr>\n",
       "    <tr>\n",
       "      <th>limiteCredito</th>\n",
       "      <td>30,000.0000</td>\n",
       "      <td>86,922.9900</td>\n",
       "      <td>NaN</td>\n",
       "      <td>3,271,227.8300</td>\n",
       "      <td>32,000.0000</td>\n",
       "    </tr>\n",
       "  </tbody>\n",
       "</table>\n",
       "</div>"
      ],
      "text/plain": [
       "                                             2676                  4664  \\\n",
       "numero_solicitacao                     2,749.0000            4,737.0000   \n",
       "razaoSocial                          Douglas Wong       Caroline Wright   \n",
       "nomeFantasia                        Mathew Watson   Elaine Bray-Chapman   \n",
       "cnpjSemTraco                   JPXB50512133545813    QXUE06615581358861   \n",
       "maiorAtraso                                     5                    12   \n",
       "margemBrutaAcumulada                       0.6050                0.5512   \n",
       "percentualProtestos                        0.0000                0.0000   \n",
       "primeiraCompra                2010-02-03T00:00:00   2020-05-12T00:00:00   \n",
       "prazoMedioRecebimentoVendas                     0                    78   \n",
       "titulosEmAberto                            0.0000           26,922.9900   \n",
       "valorSolicitado                       30,000.0000           60,000.0000   \n",
       "status                           AprovadoAnalista      AprovadoAnalista   \n",
       "definicaoRisco               De 11 a 30 % - Baixo  De 11 a 30 % - Baixo   \n",
       "diferencaPercentualRisco                   0.7500                0.7500   \n",
       "percentualRisco                            0.2500                0.2500   \n",
       "dashboardCorrelacao                        0.0000                0.0000   \n",
       "valorAprovado                         30,000.0000           60,000.0000   \n",
       "dataAprovadoEmComite                          NaN                   NaN   \n",
       "periodoBalanco                                NaN   2019-12-31T03:00:00   \n",
       "ativoCirculante                               NaN       13,594,293.0000   \n",
       "passivoCirculante                             NaN        6,391,243.0000   \n",
       "totalAtivo                                    NaN       14,527,651.0000   \n",
       "totalPatrimonioLiquido                        NaN        8,105,062.0000   \n",
       "endividamento                                 NaN        1,095,874.0000   \n",
       "duplicatasAReceber                            NaN        3,949,933.0000   \n",
       "estoque                                       NaN        7,512,889.0000   \n",
       "faturamentoBruto                 265,695,982.0000       50,535,782.0000   \n",
       "margemBruta                                0.0000       15,355,106.0000   \n",
       "periodoDemonstrativoEmMeses               12.0000               12.0000   \n",
       "custos                                     0.0000       35,180,676.0000   \n",
       "anoFundacao                            1,978.0000            2,000.0000   \n",
       "intervaloFundacao                Acima de 17 anos      Acima de 17 anos   \n",
       "capitalSocial                     17,578,840.0000          700,000.0000   \n",
       "restricoes                                  False                 False   \n",
       "empresa_MeEppMei                            False                 False   \n",
       "scorePontualidade                          1.0000                1.0000   \n",
       "limiteEmpresaAnaliseCredito        6,338,540.0000        3,563,636.0000   \n",
       "dataAprovadoNivelAnalista     2020-06-18T20:28:57   2020-09-09T16:41:54   \n",
       "cluster                                    0.0000                0.0000   \n",
       "limiteCredito                         30,000.0000           86,922.9900   \n",
       "\n",
       "                                             5116                  5583  \\\n",
       "numero_solicitacao                     5,189.0000            5,656.0000   \n",
       "razaoSocial                      Kathleen Summers        Ashley Johnson   \n",
       "nomeFantasia                 Tracey Thomas-Taylor            Connor Cox   \n",
       "cnpjSemTraco                   LYXE74659784406683    BTXK71717619669732   \n",
       "maiorAtraso                                     2                    17   \n",
       "margemBrutaAcumulada                       0.2764                0.3947   \n",
       "percentualProtestos                        0.0000                0.0000   \n",
       "primeiraCompra                2020-09-11T00:00:00   2007-10-11T00:00:00   \n",
       "prazoMedioRecebimentoVendas                     0                    25   \n",
       "titulosEmAberto                            0.0000          771,227.8300   \n",
       "valorSolicitado                      150,000.0000        2,500,000.0000   \n",
       "status                          ReprovadoAnalista      AprovadoAnalista   \n",
       "definicaoRisco               De 11 a 30 % - Baixo  De 11 a 30 % - Baixo   \n",
       "diferencaPercentualRisco                   0.7321                0.8036   \n",
       "percentualRisco                            0.2679                0.1964   \n",
       "dashboardCorrelacao                        0.0000               -0.8371   \n",
       "valorAprovado                                 NaN        2,500,000.0000   \n",
       "dataAprovadoEmComite                          NaN                   NaN   \n",
       "periodoBalanco                2019-12-31T03:00:00   2020-06-30T03:00:00   \n",
       "ativoCirculante                    2,843,921.0000       39,549,268.0000   \n",
       "passivoCirculante                  1,818,562.0000       15,287,028.0000   \n",
       "totalAtivo                         4,415,698.0000       43,189,402.0000   \n",
       "totalPatrimonioLiquido             1,535,454.0000       21,501,062.0000   \n",
       "endividamento                        630,255.0000                0.0000   \n",
       "duplicatasAReceber                 1,253,044.0000       20,084,746.0000   \n",
       "estoque                            1,459,284.0000       16,284,167.0000   \n",
       "faturamentoBruto                   3,668,978.0000       52,035,308.0000   \n",
       "margemBruta                        3,021,046.0000       23,405,365.0000   \n",
       "periodoDemonstrativoEmMeses               12.0000                6.0000   \n",
       "custos                               647,932.0000       28,629,943.0000   \n",
       "anoFundacao                            2,007.0000            2,004.0000   \n",
       "intervaloFundacao                 De 11 a 16 anos       De 11 a 16 anos   \n",
       "capitalSocial                      1,000,000.0000       10,000,000.0000   \n",
       "restricoes                                   True                 False   \n",
       "empresa_MeEppMei                             True                 False   \n",
       "scorePontualidade                          1.0000                1.0000   \n",
       "limiteEmpresaAnaliseCredito                0.0000       10,386,604.0000   \n",
       "dataAprovadoNivelAnalista                     NaN   2020-10-15T19:23:23   \n",
       "cluster                                       NaN                0.0000   \n",
       "limiteCredito                                 NaN        3,271,227.8300   \n",
       "\n",
       "                                             5465  \n",
       "numero_solicitacao                     5,538.0000  \n",
       "razaoSocial                    Jamie Gregory-Rees  \n",
       "nomeFantasia                           Joel Evans  \n",
       "cnpjSemTraco                   SXQL48789557445419  \n",
       "maiorAtraso                                    16  \n",
       "margemBrutaAcumulada                       0.6388  \n",
       "percentualProtestos                        0.0000  \n",
       "primeiraCompra                2018-07-25T00:00:00  \n",
       "prazoMedioRecebimentoVendas                    23  \n",
       "titulosEmAberto                        7,000.0000  \n",
       "valorSolicitado                       40,000.0000  \n",
       "status                           AprovadoAnalista  \n",
       "definicaoRisco               De 31 a 50 % - Médio  \n",
       "diferencaPercentualRisco                   0.6607  \n",
       "percentualRisco                            0.3393  \n",
       "dashboardCorrelacao                        0.8660  \n",
       "valorAprovado                         25,000.0000  \n",
       "dataAprovadoEmComite                          NaN  \n",
       "periodoBalanco                                NaN  \n",
       "ativoCirculante                               NaN  \n",
       "passivoCirculante                             NaN  \n",
       "totalAtivo                                    NaN  \n",
       "totalPatrimonioLiquido                        NaN  \n",
       "endividamento                                 NaN  \n",
       "duplicatasAReceber                            NaN  \n",
       "estoque                                       NaN  \n",
       "faturamentoBruto                   1,913,693.0000  \n",
       "margemBruta                                0.0000  \n",
       "periodoDemonstrativoEmMeses               12.0000  \n",
       "custos                                     0.0000  \n",
       "anoFundacao                            1,987.0000  \n",
       "intervaloFundacao                Acima de 17 anos  \n",
       "capitalSocial                        300,000.0000  \n",
       "restricoes                                  False  \n",
       "empresa_MeEppMei                            False  \n",
       "scorePontualidade                          1.0000  \n",
       "limiteEmpresaAnaliseCredito          138,000.0000  \n",
       "dataAprovadoNivelAnalista     2020-10-08T18:51:22  \n",
       "cluster                                    0.0000  \n",
       "limiteCredito                         32,000.0000  "
      ]
     },
     "execution_count": 2,
     "metadata": {},
     "output_type": "execute_result"
    }
   ],
   "source": [
    "data = pd.read_csv('solicitacoescredito_segmentada.csv')\n",
    "data.sample(5).T"
   ]
  },
  {
   "attachments": {},
   "cell_type": "markdown",
   "metadata": {},
   "source": [
    "### Pre-Processamento"
   ]
  },
  {
   "attachments": {},
   "cell_type": "markdown",
   "metadata": {},
   "source": [
    "#### filtro"
   ]
  },
  {
   "cell_type": "code",
   "execution_count": 3,
   "metadata": {},
   "outputs": [
    {
     "data": {
      "text/html": [
       "<div>\n",
       "<style scoped>\n",
       "    .dataframe tbody tr th:only-of-type {\n",
       "        vertical-align: middle;\n",
       "    }\n",
       "\n",
       "    .dataframe tbody tr th {\n",
       "        vertical-align: top;\n",
       "    }\n",
       "\n",
       "    .dataframe thead th {\n",
       "        text-align: right;\n",
       "    }\n",
       "</style>\n",
       "<table border=\"1\" class=\"dataframe\">\n",
       "  <thead>\n",
       "    <tr style=\"text-align: right;\">\n",
       "      <th></th>\n",
       "      <th>count</th>\n",
       "      <th>mean</th>\n",
       "      <th>std</th>\n",
       "      <th>min</th>\n",
       "      <th>25%</th>\n",
       "      <th>50%</th>\n",
       "      <th>75%</th>\n",
       "      <th>max</th>\n",
       "    </tr>\n",
       "  </thead>\n",
       "  <tbody>\n",
       "    <tr>\n",
       "      <th>numero_solicitacao</th>\n",
       "      <td>6,631.0000</td>\n",
       "      <td>4,758.0694</td>\n",
       "      <td>2,537.8171</td>\n",
       "      <td>1.0000</td>\n",
       "      <td>2,676.5000</td>\n",
       "      <td>4,853.0000</td>\n",
       "      <td>6,945.5000</td>\n",
       "      <td>9,034.0000</td>\n",
       "    </tr>\n",
       "    <tr>\n",
       "      <th>maiorAtraso</th>\n",
       "      <td>6,631.0000</td>\n",
       "      <td>23.8928</td>\n",
       "      <td>63.8380</td>\n",
       "      <td>0.0000</td>\n",
       "      <td>3.0000</td>\n",
       "      <td>6.0000</td>\n",
       "      <td>21.0000</td>\n",
       "      <td>977.0000</td>\n",
       "    </tr>\n",
       "    <tr>\n",
       "      <th>margemBrutaAcumulada</th>\n",
       "      <td>6,631.0000</td>\n",
       "      <td>0.3734</td>\n",
       "      <td>0.1950</td>\n",
       "      <td>0.0000</td>\n",
       "      <td>0.2992</td>\n",
       "      <td>0.4123</td>\n",
       "      <td>0.5123</td>\n",
       "      <td>1.0000</td>\n",
       "    </tr>\n",
       "    <tr>\n",
       "      <th>percentualProtestos</th>\n",
       "      <td>5,645.0000</td>\n",
       "      <td>0.0155</td>\n",
       "      <td>0.5805</td>\n",
       "      <td>0.0000</td>\n",
       "      <td>0.0000</td>\n",
       "      <td>0.0000</td>\n",
       "      <td>0.0000</td>\n",
       "      <td>36.9837</td>\n",
       "    </tr>\n",
       "    <tr>\n",
       "      <th>prazoMedioRecebimentoVendas</th>\n",
       "      <td>6,631.0000</td>\n",
       "      <td>23.5955</td>\n",
       "      <td>65.7878</td>\n",
       "      <td>0.0000</td>\n",
       "      <td>0.0000</td>\n",
       "      <td>0.0000</td>\n",
       "      <td>32.0000</td>\n",
       "      <td>1,605.0000</td>\n",
       "    </tr>\n",
       "    <tr>\n",
       "      <th>titulosEmAberto</th>\n",
       "      <td>6,631.0000</td>\n",
       "      <td>52,147.3565</td>\n",
       "      <td>186,770.4664</td>\n",
       "      <td>0.0000</td>\n",
       "      <td>0.0000</td>\n",
       "      <td>0.0000</td>\n",
       "      <td>17,352.2400</td>\n",
       "      <td>2,836,656.0000</td>\n",
       "    </tr>\n",
       "    <tr>\n",
       "      <th>valorSolicitado</th>\n",
       "      <td>6,631.0000</td>\n",
       "      <td>272,351.1101</td>\n",
       "      <td>7,380,328.6783</td>\n",
       "      <td>3,000.0000</td>\n",
       "      <td>25,000.0000</td>\n",
       "      <td>50,000.0000</td>\n",
       "      <td>100,000.0000</td>\n",
       "      <td>600,000,000.0000</td>\n",
       "    </tr>\n",
       "    <tr>\n",
       "      <th>diferencaPercentualRisco</th>\n",
       "      <td>6,631.0000</td>\n",
       "      <td>0.7412</td>\n",
       "      <td>0.1251</td>\n",
       "      <td>0.2642</td>\n",
       "      <td>0.6604</td>\n",
       "      <td>0.7500</td>\n",
       "      <td>0.8491</td>\n",
       "      <td>1.0000</td>\n",
       "    </tr>\n",
       "    <tr>\n",
       "      <th>percentualRisco</th>\n",
       "      <td>6,631.0000</td>\n",
       "      <td>0.2588</td>\n",
       "      <td>0.1251</td>\n",
       "      <td>0.0000</td>\n",
       "      <td>0.1509</td>\n",
       "      <td>0.2500</td>\n",
       "      <td>0.3396</td>\n",
       "      <td>0.7358</td>\n",
       "    </tr>\n",
       "    <tr>\n",
       "      <th>dashboardCorrelacao</th>\n",
       "      <td>6,631.0000</td>\n",
       "      <td>0.0425</td>\n",
       "      <td>0.4915</td>\n",
       "      <td>-1.0000</td>\n",
       "      <td>0.0000</td>\n",
       "      <td>0.0000</td>\n",
       "      <td>0.0000</td>\n",
       "      <td>0.9999</td>\n",
       "    </tr>\n",
       "    <tr>\n",
       "      <th>valorAprovado</th>\n",
       "      <td>6,631.0000</td>\n",
       "      <td>155,602.8003</td>\n",
       "      <td>407,388.8359</td>\n",
       "      <td>0.0000</td>\n",
       "      <td>15,000.0000</td>\n",
       "      <td>35,000.0000</td>\n",
       "      <td>100,000.0000</td>\n",
       "      <td>6,550,000.0000</td>\n",
       "    </tr>\n",
       "    <tr>\n",
       "      <th>ativoCirculante</th>\n",
       "      <td>3,877.0000</td>\n",
       "      <td>35,422,118.3921</td>\n",
       "      <td>159,314,074.1790</td>\n",
       "      <td>0.0000</td>\n",
       "      <td>887,585.0000</td>\n",
       "      <td>3,813,604.0000</td>\n",
       "      <td>15,269,897.0000</td>\n",
       "      <td>2,490,038,328.0000</td>\n",
       "    </tr>\n",
       "    <tr>\n",
       "      <th>passivoCirculante</th>\n",
       "      <td>3,877.0000</td>\n",
       "      <td>27,638,828.0077</td>\n",
       "      <td>315,101,207.6116</td>\n",
       "      <td>-355,509.0000</td>\n",
       "      <td>180,435.0000</td>\n",
       "      <td>1,286,174.0000</td>\n",
       "      <td>6,980,943.0000</td>\n",
       "      <td>13,054,054,672.0000</td>\n",
       "    </tr>\n",
       "    <tr>\n",
       "      <th>totalAtivo</th>\n",
       "      <td>3,877.0000</td>\n",
       "      <td>50,192,688.7846</td>\n",
       "      <td>259,183,678.8605</td>\n",
       "      <td>0.0000</td>\n",
       "      <td>1,049,740.0000</td>\n",
       "      <td>4,517,091.0000</td>\n",
       "      <td>18,444,493.0000</td>\n",
       "      <td>3,698,215,980.0000</td>\n",
       "    </tr>\n",
       "    <tr>\n",
       "      <th>totalPatrimonioLiquido</th>\n",
       "      <td>3,877.0000</td>\n",
       "      <td>22,602,208.0549</td>\n",
       "      <td>113,771,134.6095</td>\n",
       "      <td>-112,089,780.0000</td>\n",
       "      <td>253,229.0000</td>\n",
       "      <td>1,605,073.0000</td>\n",
       "      <td>7,987,407.0000</td>\n",
       "      <td>2,630,999,412.0000</td>\n",
       "    </tr>\n",
       "    <tr>\n",
       "      <th>endividamento</th>\n",
       "      <td>3,877.0000</td>\n",
       "      <td>4,391,526.4712</td>\n",
       "      <td>36,369,718.1666</td>\n",
       "      <td>0.0000</td>\n",
       "      <td>0.0000</td>\n",
       "      <td>0.0000</td>\n",
       "      <td>733,529.0000</td>\n",
       "      <td>721,096,000.0000</td>\n",
       "    </tr>\n",
       "    <tr>\n",
       "      <th>duplicatasAReceber</th>\n",
       "      <td>3,877.0000</td>\n",
       "      <td>11,591,824.7813</td>\n",
       "      <td>51,315,233.3264</td>\n",
       "      <td>-1,313,416.0000</td>\n",
       "      <td>48,871.0000</td>\n",
       "      <td>1,098,205.0000</td>\n",
       "      <td>6,270,885.0000</td>\n",
       "      <td>1,969,710,000.0000</td>\n",
       "    </tr>\n",
       "    <tr>\n",
       "      <th>estoque</th>\n",
       "      <td>3,877.0000</td>\n",
       "      <td>14,847,775.8460</td>\n",
       "      <td>84,024,747.4149</td>\n",
       "      <td>-263,226.0000</td>\n",
       "      <td>185,122.0000</td>\n",
       "      <td>1,037,908.0000</td>\n",
       "      <td>5,081,987.0000</td>\n",
       "      <td>1,293,428,000.0000</td>\n",
       "    </tr>\n",
       "    <tr>\n",
       "      <th>faturamentoBruto</th>\n",
       "      <td>6,631.0000</td>\n",
       "      <td>55,371,792.3150</td>\n",
       "      <td>336,691,604.1074</td>\n",
       "      <td>1.0000</td>\n",
       "      <td>1,497,586.0000</td>\n",
       "      <td>4,045,130.0000</td>\n",
       "      <td>17,050,478.0000</td>\n",
       "      <td>6,426,115,000.0000</td>\n",
       "    </tr>\n",
       "    <tr>\n",
       "      <th>margemBruta</th>\n",
       "      <td>6,631.0000</td>\n",
       "      <td>16,547,941.9659</td>\n",
       "      <td>122,231,629.4530</td>\n",
       "      <td>-614,872,100.0000</td>\n",
       "      <td>0.0000</td>\n",
       "      <td>0.0000</td>\n",
       "      <td>3,665,146.5000</td>\n",
       "      <td>3,366,842,514.0000</td>\n",
       "    </tr>\n",
       "    <tr>\n",
       "      <th>periodoDemonstrativoEmMeses</th>\n",
       "      <td>6,631.0000</td>\n",
       "      <td>10.8697</td>\n",
       "      <td>2.4757</td>\n",
       "      <td>1.0000</td>\n",
       "      <td>12.0000</td>\n",
       "      <td>12.0000</td>\n",
       "      <td>12.0000</td>\n",
       "      <td>12.0000</td>\n",
       "    </tr>\n",
       "    <tr>\n",
       "      <th>custos</th>\n",
       "      <td>6,631.0000</td>\n",
       "      <td>28,338,527.1951</td>\n",
       "      <td>209,388,705.1503</td>\n",
       "      <td>-346,633,805.0000</td>\n",
       "      <td>0.0000</td>\n",
       "      <td>0.0000</td>\n",
       "      <td>4,902,013.0000</td>\n",
       "      <td>4,393,536,000.0000</td>\n",
       "    </tr>\n",
       "    <tr>\n",
       "      <th>anoFundacao</th>\n",
       "      <td>6,631.0000</td>\n",
       "      <td>2,006.1062</td>\n",
       "      <td>11.2223</td>\n",
       "      <td>1,942.0000</td>\n",
       "      <td>2,000.0000</td>\n",
       "      <td>2,009.0000</td>\n",
       "      <td>2,015.0000</td>\n",
       "      <td>2,020.0000</td>\n",
       "    </tr>\n",
       "    <tr>\n",
       "      <th>capitalSocial</th>\n",
       "      <td>6,631.0000</td>\n",
       "      <td>6,200,933.6693</td>\n",
       "      <td>68,132,215.2294</td>\n",
       "      <td>0.0000</td>\n",
       "      <td>50,000.0000</td>\n",
       "      <td>100,000.0000</td>\n",
       "      <td>500,000.0000</td>\n",
       "      <td>4,100,000,000.0000</td>\n",
       "    </tr>\n",
       "    <tr>\n",
       "      <th>scorePontualidade</th>\n",
       "      <td>6,631.0000</td>\n",
       "      <td>0.8222</td>\n",
       "      <td>0.3590</td>\n",
       "      <td>0.0000</td>\n",
       "      <td>0.9268</td>\n",
       "      <td>1.0000</td>\n",
       "      <td>1.0000</td>\n",
       "      <td>1.0000</td>\n",
       "    </tr>\n",
       "    <tr>\n",
       "      <th>limiteEmpresaAnaliseCredito</th>\n",
       "      <td>6,631.0000</td>\n",
       "      <td>2,040,226.6924</td>\n",
       "      <td>13,120,818.4268</td>\n",
       "      <td>0.0000</td>\n",
       "      <td>8,510.0000</td>\n",
       "      <td>52,000.0000</td>\n",
       "      <td>345,000.0000</td>\n",
       "      <td>286,758,144.0000</td>\n",
       "    </tr>\n",
       "    <tr>\n",
       "      <th>cluster</th>\n",
       "      <td>6,631.0000</td>\n",
       "      <td>1.2932</td>\n",
       "      <td>1.5924</td>\n",
       "      <td>0.0000</td>\n",
       "      <td>0.0000</td>\n",
       "      <td>0.0000</td>\n",
       "      <td>2.0000</td>\n",
       "      <td>5.0000</td>\n",
       "    </tr>\n",
       "    <tr>\n",
       "      <th>limiteCredito</th>\n",
       "      <td>6,631.0000</td>\n",
       "      <td>207,750.1569</td>\n",
       "      <td>527,256.2425</td>\n",
       "      <td>0.0000</td>\n",
       "      <td>20,000.0000</td>\n",
       "      <td>41,039.6800</td>\n",
       "      <td>117,352.2400</td>\n",
       "      <td>6,550,000.0000</td>\n",
       "    </tr>\n",
       "  </tbody>\n",
       "</table>\n",
       "</div>"
      ],
      "text/plain": [
       "                                 count            mean              std  \\\n",
       "numero_solicitacao          6,631.0000      4,758.0694       2,537.8171   \n",
       "maiorAtraso                 6,631.0000         23.8928          63.8380   \n",
       "margemBrutaAcumulada        6,631.0000          0.3734           0.1950   \n",
       "percentualProtestos         5,645.0000          0.0155           0.5805   \n",
       "prazoMedioRecebimentoVendas 6,631.0000         23.5955          65.7878   \n",
       "titulosEmAberto             6,631.0000     52,147.3565     186,770.4664   \n",
       "valorSolicitado             6,631.0000    272,351.1101   7,380,328.6783   \n",
       "diferencaPercentualRisco    6,631.0000          0.7412           0.1251   \n",
       "percentualRisco             6,631.0000          0.2588           0.1251   \n",
       "dashboardCorrelacao         6,631.0000          0.0425           0.4915   \n",
       "valorAprovado               6,631.0000    155,602.8003     407,388.8359   \n",
       "ativoCirculante             3,877.0000 35,422,118.3921 159,314,074.1790   \n",
       "passivoCirculante           3,877.0000 27,638,828.0077 315,101,207.6116   \n",
       "totalAtivo                  3,877.0000 50,192,688.7846 259,183,678.8605   \n",
       "totalPatrimonioLiquido      3,877.0000 22,602,208.0549 113,771,134.6095   \n",
       "endividamento               3,877.0000  4,391,526.4712  36,369,718.1666   \n",
       "duplicatasAReceber          3,877.0000 11,591,824.7813  51,315,233.3264   \n",
       "estoque                     3,877.0000 14,847,775.8460  84,024,747.4149   \n",
       "faturamentoBruto            6,631.0000 55,371,792.3150 336,691,604.1074   \n",
       "margemBruta                 6,631.0000 16,547,941.9659 122,231,629.4530   \n",
       "periodoDemonstrativoEmMeses 6,631.0000         10.8697           2.4757   \n",
       "custos                      6,631.0000 28,338,527.1951 209,388,705.1503   \n",
       "anoFundacao                 6,631.0000      2,006.1062          11.2223   \n",
       "capitalSocial               6,631.0000  6,200,933.6693  68,132,215.2294   \n",
       "scorePontualidade           6,631.0000          0.8222           0.3590   \n",
       "limiteEmpresaAnaliseCredito 6,631.0000  2,040,226.6924  13,120,818.4268   \n",
       "cluster                     6,631.0000          1.2932           1.5924   \n",
       "limiteCredito               6,631.0000    207,750.1569     527,256.2425   \n",
       "\n",
       "                                          min            25%            50%  \\\n",
       "numero_solicitacao                     1.0000     2,676.5000     4,853.0000   \n",
       "maiorAtraso                            0.0000         3.0000         6.0000   \n",
       "margemBrutaAcumulada                   0.0000         0.2992         0.4123   \n",
       "percentualProtestos                    0.0000         0.0000         0.0000   \n",
       "prazoMedioRecebimentoVendas            0.0000         0.0000         0.0000   \n",
       "titulosEmAberto                        0.0000         0.0000         0.0000   \n",
       "valorSolicitado                    3,000.0000    25,000.0000    50,000.0000   \n",
       "diferencaPercentualRisco               0.2642         0.6604         0.7500   \n",
       "percentualRisco                        0.0000         0.1509         0.2500   \n",
       "dashboardCorrelacao                   -1.0000         0.0000         0.0000   \n",
       "valorAprovado                          0.0000    15,000.0000    35,000.0000   \n",
       "ativoCirculante                        0.0000   887,585.0000 3,813,604.0000   \n",
       "passivoCirculante               -355,509.0000   180,435.0000 1,286,174.0000   \n",
       "totalAtivo                             0.0000 1,049,740.0000 4,517,091.0000   \n",
       "totalPatrimonioLiquido      -112,089,780.0000   253,229.0000 1,605,073.0000   \n",
       "endividamento                          0.0000         0.0000         0.0000   \n",
       "duplicatasAReceber            -1,313,416.0000    48,871.0000 1,098,205.0000   \n",
       "estoque                         -263,226.0000   185,122.0000 1,037,908.0000   \n",
       "faturamentoBruto                       1.0000 1,497,586.0000 4,045,130.0000   \n",
       "margemBruta                 -614,872,100.0000         0.0000         0.0000   \n",
       "periodoDemonstrativoEmMeses            1.0000        12.0000        12.0000   \n",
       "custos                      -346,633,805.0000         0.0000         0.0000   \n",
       "anoFundacao                        1,942.0000     2,000.0000     2,009.0000   \n",
       "capitalSocial                          0.0000    50,000.0000   100,000.0000   \n",
       "scorePontualidade                      0.0000         0.9268         1.0000   \n",
       "limiteEmpresaAnaliseCredito            0.0000     8,510.0000    52,000.0000   \n",
       "cluster                                0.0000         0.0000         0.0000   \n",
       "limiteCredito                          0.0000    20,000.0000    41,039.6800   \n",
       "\n",
       "                                        75%                 max  \n",
       "numero_solicitacao               6,945.5000          9,034.0000  \n",
       "maiorAtraso                         21.0000            977.0000  \n",
       "margemBrutaAcumulada                 0.5123              1.0000  \n",
       "percentualProtestos                  0.0000             36.9837  \n",
       "prazoMedioRecebimentoVendas         32.0000          1,605.0000  \n",
       "titulosEmAberto                 17,352.2400      2,836,656.0000  \n",
       "valorSolicitado                100,000.0000    600,000,000.0000  \n",
       "diferencaPercentualRisco             0.8491              1.0000  \n",
       "percentualRisco                      0.3396              0.7358  \n",
       "dashboardCorrelacao                  0.0000              0.9999  \n",
       "valorAprovado                  100,000.0000      6,550,000.0000  \n",
       "ativoCirculante             15,269,897.0000  2,490,038,328.0000  \n",
       "passivoCirculante            6,980,943.0000 13,054,054,672.0000  \n",
       "totalAtivo                  18,444,493.0000  3,698,215,980.0000  \n",
       "totalPatrimonioLiquido       7,987,407.0000  2,630,999,412.0000  \n",
       "endividamento                  733,529.0000    721,096,000.0000  \n",
       "duplicatasAReceber           6,270,885.0000  1,969,710,000.0000  \n",
       "estoque                      5,081,987.0000  1,293,428,000.0000  \n",
       "faturamentoBruto            17,050,478.0000  6,426,115,000.0000  \n",
       "margemBruta                  3,665,146.5000  3,366,842,514.0000  \n",
       "periodoDemonstrativoEmMeses         12.0000             12.0000  \n",
       "custos                       4,902,013.0000  4,393,536,000.0000  \n",
       "anoFundacao                      2,015.0000          2,020.0000  \n",
       "capitalSocial                  500,000.0000  4,100,000,000.0000  \n",
       "scorePontualidade                    1.0000              1.0000  \n",
       "limiteEmpresaAnaliseCredito    345,000.0000    286,758,144.0000  \n",
       "cluster                              2.0000              5.0000  \n",
       "limiteCredito                  117,352.2400      6,550,000.0000  "
      ]
     },
     "execution_count": 3,
     "metadata": {},
     "output_type": "execute_result"
    }
   ],
   "source": [
    "# filtra as solicitações aprovadas\n",
    "@pf.register_dataframe_method\n",
    "def filter_status(\n",
    "\tdata: pd.DataFrame, # dataframe com a coluna 'status'\n",
    "\t) -> pd.DataFrame:\n",
    "\tX = data.copy()\n",
    "\tX = X[X.status.isin(['AprovadoAnalista', 'AprovadoComite'])]\n",
    "\tX = X[X.anoFundacao > 1900]\n",
    "\tX = X[X.faturamentoBruto > 0]\n",
    "\tX = X[X.periodoDemonstrativoEmMeses > 0]\n",
    "\tX = X[X.cluster.notna()]\n",
    "\treturn X\n",
    "data.filter_status().describe().T"
   ]
  },
  {
   "cell_type": "markdown",
   "metadata": {},
   "source": [
    "#### feature engineering"
   ]
  },
  {
   "cell_type": "code",
   "execution_count": 4,
   "metadata": {},
   "outputs": [
    {
     "name": "stdout",
     "output_type": "stream",
     "text": [
      "<class 'pandas.core.frame.DataFrame'>\n",
      "Int64Index: 6631 entries, 0 to 8961\n",
      "Data columns (total 46 columns):\n",
      " #   Column                        Non-Null Count  Dtype         \n",
      "---  ------                        --------------  -----         \n",
      " 0   numero_solicitacao            6631 non-null   float64       \n",
      " 1   razaoSocial                   6631 non-null   object        \n",
      " 2   nomeFantasia                  6631 non-null   object        \n",
      " 3   cnpjSemTraco                  6631 non-null   object        \n",
      " 4   maiorAtraso                   6631 non-null   int64         \n",
      " 5   margemBrutaAcumulada          6631 non-null   float64       \n",
      " 6   percentualProtestos           5645 non-null   float64       \n",
      " 7   primeiraCompra                6631 non-null   object        \n",
      " 8   prazoMedioRecebimentoVendas   6631 non-null   int64         \n",
      " 9   titulosEmAberto               6631 non-null   float64       \n",
      " 10  valorSolicitado               6631 non-null   float64       \n",
      " 11  status                        6631 non-null   object        \n",
      " 12  definicaoRisco                6631 non-null   object        \n",
      " 13  diferencaPercentualRisco      6631 non-null   float64       \n",
      " 14  percentualRisco               6631 non-null   float64       \n",
      " 15  dashboardCorrelacao           6631 non-null   float64       \n",
      " 16  valorAprovado                 6631 non-null   float64       \n",
      " 17  dataAprovadoEmComite          0 non-null      object        \n",
      " 18  periodoBalanco                3877 non-null   object        \n",
      " 19  ativoCirculante               3877 non-null   float64       \n",
      " 20  passivoCirculante             3877 non-null   float64       \n",
      " 21  totalAtivo                    3877 non-null   float64       \n",
      " 22  totalPatrimonioLiquido        3877 non-null   float64       \n",
      " 23  endividamento                 3877 non-null   float64       \n",
      " 24  duplicatasAReceber            3877 non-null   float64       \n",
      " 25  estoque                       3877 non-null   float64       \n",
      " 26  faturamentoBruto              6631 non-null   float64       \n",
      " 27  margemBruta                   6631 non-null   float64       \n",
      " 28  periodoDemonstrativoEmMeses   6631 non-null   float64       \n",
      " 29  custos                        6631 non-null   float64       \n",
      " 30  anoFundacao                   6631 non-null   float64       \n",
      " 31  intervaloFundacao             6631 non-null   object        \n",
      " 32  capitalSocial                 6631 non-null   float64       \n",
      " 33  restricoes                    6631 non-null   object        \n",
      " 34  empresa_MeEppMei              6631 non-null   object        \n",
      " 35  scorePontualidade             6631 non-null   float64       \n",
      " 36  limiteEmpresaAnaliseCredito   6631 non-null   float64       \n",
      " 37  dataAprovadoNivelAnalista     6631 non-null   object        \n",
      " 38  cluster                       6631 non-null   float64       \n",
      " 39  limiteCredito                 6631 non-null   float64       \n",
      " 40  faturamentoMensal             6631 non-null   float64       \n",
      " 41  margemMensal                  6631 non-null   float64       \n",
      " 42  margem_percentual             6631 non-null   float64       \n",
      " 43  dt_dataAprovadoNivelAnalista  6631 non-null   datetime64[ns]\n",
      " 44  dt_primeiraCompra             6631 non-null   datetime64[ns]\n",
      " 45  tempoPrimeiraCompra           6631 non-null   int64         \n",
      "dtypes: datetime64[ns](2), float64(29), int64(3), object(12)\n",
      "memory usage: 2.4+ MB\n"
     ]
    }
   ],
   "source": [
    "# gera as features calculadas sem usar as colunas de documentação\n",
    "@pf.register_dataframe_method\n",
    "def engineer(\n",
    "\t\tdata: pd.DataFrame,\n",
    "\t) -> pd.DataFrame:\n",
    "\tX = data.copy()\n",
    "\tX['faturamentoMensal'] = X.faturamentoBruto / X.periodoDemonstrativoEmMeses\n",
    "\tX['margemMensal'] = X.margemBruta / X.periodoDemonstrativoEmMeses\n",
    "\tX['margem_percentual'] = (X.margemMensal / X.faturamentoMensal).replace([np.inf, np.NINF], np.nan)\n",
    "\tX['dt_dataAprovadoNivelAnalista'] = pd.to_datetime(X.dataAprovadoNivelAnalista, errors='coerce')\n",
    "\tX['dt_primeiraCompra'] = pd.to_datetime(X.primeiraCompra, errors='coerce')\n",
    "\tX['tempoPrimeiraCompra'] = (X.dt_dataAprovadoNivelAnalista - X.dt_primeiraCompra).dt.days\n",
    "\treturn X\n",
    "\n",
    "data.filter_status().engineer().info()"
   ]
  },
  {
   "cell_type": "markdown",
   "metadata": {},
   "source": [
    "#### seleção de features"
   ]
  },
  {
   "cell_type": "code",
   "execution_count": 5,
   "metadata": {},
   "outputs": [
    {
     "name": "stdout",
     "output_type": "stream",
     "text": [
      "<class 'pandas.core.frame.DataFrame'>\n",
      "Int64Index: 6631 entries, 0 to 8961\n",
      "Data columns (total 11 columns):\n",
      " #   Column                       Non-Null Count  Dtype  \n",
      "---  ------                       --------------  -----  \n",
      " 0   anoFundacao                  6631 non-null   float64\n",
      " 1   percentualRisco              6631 non-null   float64\n",
      " 2   prazoMedioRecebimentoVendas  6631 non-null   int64  \n",
      " 3   scorePontualidade            6631 non-null   float64\n",
      " 4   tempoPrimeiraCompra          6631 non-null   int64  \n",
      " 5   maiorAtraso                  6631 non-null   int64  \n",
      " 6   faturamentoMensal            6631 non-null   float64\n",
      " 7   restricoes                   6631 non-null   object \n",
      " 8   cluster                      6631 non-null   float64\n",
      " 9   empresa_MeEppMei             6631 non-null   object \n",
      " 10  margem_percentual            6631 non-null   float64\n",
      "dtypes: float64(6), int64(3), object(2)\n",
      "memory usage: 621.7+ KB\n"
     ]
    }
   ],
   "source": [
    "# seleciona as features relevantes\n",
    "@pf.register_dataframe_method\n",
    "def select(\n",
    "  data: pd.DataFrame,\n",
    "  identifier: bool = False,\n",
    ") -> pd.DataFrame:\n",
    "\tX = data.copy()\n",
    "\tkeep = [\n",
    "\t\t\t'percentualRisco',\n",
    "\t\t\t# 'valorAprovado',\n",
    "\t\t\t# 'limiteEmpresaAnaliseCredito',\n",
    "\t\t\t# 'limiteCredito',\n",
    "\t\t\t'faturamentoMensal',\n",
    "\t\t\t'maiorAtraso',\n",
    "\t\t\t'tempoPrimeiraCompra',\n",
    "\t\t\t'prazoMedioRecebimentoVendas',\n",
    "\t\t\t'anoFundacao',\n",
    "\t\t\t'restricoes',\n",
    "\t\t\t'empresa_MeEppMei',\n",
    "\t\t\t'scorePontualidade',\n",
    "\t\t\t'margem_percentual',\n",
    "\t\t\t'cluster',\n",
    "\t\t]\n",
    "\tif identifier:\n",
    "\t\tkeep = keep + ['numero_solicitacao']\n",
    "\tintersection = list(set(data.columns).intersection(set(keep)))\n",
    "\treturn X[intersection]\n",
    "data.filter_status().engineer().select().info()"
   ]
  },
  {
   "attachments": {},
   "cell_type": "markdown",
   "metadata": {},
   "source": [
    "#### encoding das categorias"
   ]
  },
  {
   "attachments": {},
   "cell_type": "markdown",
   "metadata": {},
   "source": [
    "⭐ nota\n",
    "<div style='color:#222200;background-color:#FFFFBB;padding:10px;'><table style='border:0px solid;width:100%'>\n",
    "<tr><td style=\"border:0px;font-size:60px;width:80px;background-color:#FFFFBB\">⭐</td><td style=\"border:0px;background-color:#FFFFBB;font-size:16px;\">\n",
    "a segmentação de clientes previamente obtida será utilizada no treinamento dos modelos. A feature é categórica e deve ser codificada com one-hot-encoding.\n",
    "</td></tr></table></div>"
   ]
  },
  {
   "cell_type": "code",
   "execution_count": 6,
   "metadata": {},
   "outputs": [
    {
     "name": "stdout",
     "output_type": "stream",
     "text": [
      "<class 'pandas.core.frame.DataFrame'>\n",
      "Int64Index: 6631 entries, 0 to 8961\n",
      "Data columns (total 16 columns):\n",
      " #   Column                       Non-Null Count  Dtype  \n",
      "---  ------                       --------------  -----  \n",
      " 0   cluster_0.0                  6631 non-null   uint8  \n",
      " 1   cluster_1.0                  6631 non-null   uint8  \n",
      " 2   cluster_2.0                  6631 non-null   uint8  \n",
      " 3   cluster_3.0                  6631 non-null   uint8  \n",
      " 4   cluster_4.0                  6631 non-null   uint8  \n",
      " 5   cluster_5.0                  6631 non-null   uint8  \n",
      " 6   anoFundacao                  6631 non-null   float64\n",
      " 7   percentualRisco              6631 non-null   float64\n",
      " 8   prazoMedioRecebimentoVendas  6631 non-null   int64  \n",
      " 9   scorePontualidade            6631 non-null   float64\n",
      " 10  tempoPrimeiraCompra          6631 non-null   int64  \n",
      " 11  maiorAtraso                  6631 non-null   int64  \n",
      " 12  faturamentoMensal            6631 non-null   float64\n",
      " 13  restricoes                   6631 non-null   object \n",
      " 14  empresa_MeEppMei             6631 non-null   object \n",
      " 15  margem_percentual            6631 non-null   float64\n",
      "dtypes: float64(5), int64(3), object(2), uint8(6)\n",
      "memory usage: 866.7+ KB\n"
     ]
    }
   ],
   "source": [
    "# realiza o one-hot encoding do cluster\n",
    "@pf.register_dataframe_method\n",
    "def encode(\n",
    "\t\tdata: pd.DataFrame,\n",
    "\t\tfeatures: list,\n",
    "\t\t) -> pd.DataFrame:\n",
    "\tX = data.copy()\n",
    "\tfor feature in features:\n",
    "\t\tX = pd.get_dummies(X[feature], prefix=feature).join(X)\n",
    "\t\tX = X.drop(columns=[feature])\n",
    "\treturn X\n",
    "data.filter_status().engineer().select().encode(['cluster']).info()"
   ]
  },
  {
   "cell_type": "markdown",
   "metadata": {},
   "source": [
    "#### data types"
   ]
  },
  {
   "cell_type": "code",
   "execution_count": 7,
   "metadata": {},
   "outputs": [
    {
     "name": "stdout",
     "output_type": "stream",
     "text": [
      "<class 'pandas.core.frame.DataFrame'>\n",
      "Int64Index: 6631 entries, 0 to 8961\n",
      "Data columns (total 16 columns):\n",
      " #   Column                       Non-Null Count  Dtype  \n",
      "---  ------                       --------------  -----  \n",
      " 0   cluster_0.0                  6631 non-null   float32\n",
      " 1   cluster_1.0                  6631 non-null   float32\n",
      " 2   cluster_2.0                  6631 non-null   float32\n",
      " 3   cluster_3.0                  6631 non-null   float32\n",
      " 4   cluster_4.0                  6631 non-null   float32\n",
      " 5   cluster_5.0                  6631 non-null   float32\n",
      " 6   anoFundacao                  6631 non-null   float32\n",
      " 7   percentualRisco              6631 non-null   float32\n",
      " 8   prazoMedioRecebimentoVendas  6631 non-null   float32\n",
      " 9   scorePontualidade            6631 non-null   float32\n",
      " 10  tempoPrimeiraCompra          6631 non-null   float32\n",
      " 11  maiorAtraso                  6631 non-null   float32\n",
      " 12  faturamentoMensal            6631 non-null   float32\n",
      " 13  restricoes                   6631 non-null   float32\n",
      " 14  empresa_MeEppMei             6631 non-null   float32\n",
      " 15  margem_percentual            6631 non-null   float32\n",
      "dtypes: float32(16)\n",
      "memory usage: 724.3 KB\n"
     ]
    }
   ],
   "source": [
    "# converte data types\n",
    "@pf.register_dataframe_method\n",
    "def type_cast(\n",
    "\t\tdata: pd.DataFrame,\n",
    "\t) -> pd.DataFrame:\n",
    "\tX = data.copy()\n",
    "\tX = X.astype('float32')\t\t\n",
    "\treturn X\n",
    "data.filter_status().engineer().select().encode(['cluster']).type_cast().info()"
   ]
  },
  {
   "attachments": {},
   "cell_type": "markdown",
   "metadata": {},
   "source": [
    "#### limpeza"
   ]
  },
  {
   "cell_type": "code",
   "execution_count": 8,
   "metadata": {},
   "outputs": [
    {
     "name": "stdout",
     "output_type": "stream",
     "text": [
      "<class 'pandas.core.frame.DataFrame'>\n",
      "Int64Index: 6631 entries, 0 to 8961\n",
      "Data columns (total 16 columns):\n",
      " #   Column                       Non-Null Count  Dtype  \n",
      "---  ------                       --------------  -----  \n",
      " 0   cluster_0.0                  6631 non-null   float32\n",
      " 1   cluster_1.0                  6631 non-null   float32\n",
      " 2   cluster_2.0                  6631 non-null   float32\n",
      " 3   cluster_3.0                  6631 non-null   float32\n",
      " 4   cluster_4.0                  6631 non-null   float32\n",
      " 5   cluster_5.0                  6631 non-null   float32\n",
      " 6   anoFundacao                  6631 non-null   float32\n",
      " 7   percentualRisco              6631 non-null   float32\n",
      " 8   prazoMedioRecebimentoVendas  6631 non-null   float32\n",
      " 9   scorePontualidade            6631 non-null   float32\n",
      " 10  tempoPrimeiraCompra          6631 non-null   float32\n",
      " 11  maiorAtraso                  6631 non-null   float32\n",
      " 12  faturamentoMensal            6631 non-null   float32\n",
      " 13  restricoes                   6631 non-null   float32\n",
      " 14  empresa_MeEppMei             6631 non-null   float32\n",
      " 15  margem_percentual            6631 non-null   float32\n",
      "dtypes: float32(16)\n",
      "memory usage: 724.3 KB\n"
     ]
    }
   ],
   "source": [
    "# elimina valores nulos\n",
    "@pf.register_dataframe_method\n",
    "def clean(\n",
    "  data: pd.DataFrame,\n",
    ") -> pd.DataFrame:\n",
    "\treturn data.dropna()\n",
    "data.filter_status().engineer().select().encode(['cluster']).type_cast().clean().info()"
   ]
  },
  {
   "attachments": {},
   "cell_type": "markdown",
   "metadata": {},
   "source": [
    "#### padronização"
   ]
  },
  {
   "cell_type": "code",
   "execution_count": 9,
   "metadata": {},
   "outputs": [
    {
     "data": {
      "text/html": [
       "<div>\n",
       "<style scoped>\n",
       "    .dataframe tbody tr th:only-of-type {\n",
       "        vertical-align: middle;\n",
       "    }\n",
       "\n",
       "    .dataframe tbody tr th {\n",
       "        vertical-align: top;\n",
       "    }\n",
       "\n",
       "    .dataframe thead th {\n",
       "        text-align: right;\n",
       "    }\n",
       "</style>\n",
       "<table border=\"1\" class=\"dataframe\">\n",
       "  <thead>\n",
       "    <tr style=\"text-align: right;\">\n",
       "      <th></th>\n",
       "      <th>count</th>\n",
       "      <th>mean</th>\n",
       "      <th>std</th>\n",
       "      <th>min</th>\n",
       "      <th>25%</th>\n",
       "      <th>50%</th>\n",
       "      <th>75%</th>\n",
       "      <th>max</th>\n",
       "    </tr>\n",
       "  </thead>\n",
       "  <tbody>\n",
       "    <tr>\n",
       "      <th>cluster_0.0</th>\n",
       "      <td>6,631.0000</td>\n",
       "      <td>-0.0000</td>\n",
       "      <td>1.0001</td>\n",
       "      <td>-1.0111</td>\n",
       "      <td>-1.0111</td>\n",
       "      <td>0.9891</td>\n",
       "      <td>0.9891</td>\n",
       "      <td>0.9891</td>\n",
       "    </tr>\n",
       "    <tr>\n",
       "      <th>cluster_1.0</th>\n",
       "      <td>6,631.0000</td>\n",
       "      <td>0.0000</td>\n",
       "      <td>1.0001</td>\n",
       "      <td>-0.2417</td>\n",
       "      <td>-0.2417</td>\n",
       "      <td>-0.2417</td>\n",
       "      <td>-0.2417</td>\n",
       "      <td>4.1373</td>\n",
       "    </tr>\n",
       "    <tr>\n",
       "      <th>cluster_2.0</th>\n",
       "      <td>6,631.0000</td>\n",
       "      <td>0.0000</td>\n",
       "      <td>1.0001</td>\n",
       "      <td>-0.6520</td>\n",
       "      <td>-0.6520</td>\n",
       "      <td>-0.6520</td>\n",
       "      <td>1.5337</td>\n",
       "      <td>1.5337</td>\n",
       "    </tr>\n",
       "    <tr>\n",
       "      <th>cluster_3.0</th>\n",
       "      <td>6,631.0000</td>\n",
       "      <td>0.0000</td>\n",
       "      <td>0.0000</td>\n",
       "      <td>0.0000</td>\n",
       "      <td>0.0000</td>\n",
       "      <td>0.0000</td>\n",
       "      <td>0.0000</td>\n",
       "      <td>0.0000</td>\n",
       "    </tr>\n",
       "    <tr>\n",
       "      <th>cluster_4.0</th>\n",
       "      <td>6,631.0000</td>\n",
       "      <td>-0.0000</td>\n",
       "      <td>1.0001</td>\n",
       "      <td>-0.2452</td>\n",
       "      <td>-0.2452</td>\n",
       "      <td>-0.2452</td>\n",
       "      <td>-0.2452</td>\n",
       "      <td>4.0787</td>\n",
       "    </tr>\n",
       "    <tr>\n",
       "      <th>cluster_5.0</th>\n",
       "      <td>6,631.0000</td>\n",
       "      <td>0.0000</td>\n",
       "      <td>1.0001</td>\n",
       "      <td>-0.2965</td>\n",
       "      <td>-0.2965</td>\n",
       "      <td>-0.2965</td>\n",
       "      <td>-0.2965</td>\n",
       "      <td>3.3721</td>\n",
       "    </tr>\n",
       "    <tr>\n",
       "      <th>anoFundacao</th>\n",
       "      <td>6,631.0000</td>\n",
       "      <td>0.0000</td>\n",
       "      <td>1.0001</td>\n",
       "      <td>-3.4070</td>\n",
       "      <td>-0.5660</td>\n",
       "      <td>0.2588</td>\n",
       "      <td>0.8087</td>\n",
       "      <td>1.1752</td>\n",
       "    </tr>\n",
       "    <tr>\n",
       "      <th>percentualRisco</th>\n",
       "      <td>6,631.0000</td>\n",
       "      <td>-0.0000</td>\n",
       "      <td>1.0001</td>\n",
       "      <td>-1.7996</td>\n",
       "      <td>-0.8690</td>\n",
       "      <td>-0.0689</td>\n",
       "      <td>0.6550</td>\n",
       "      <td>2.5272</td>\n",
       "    </tr>\n",
       "    <tr>\n",
       "      <th>prazoMedioRecebimentoVendas</th>\n",
       "      <td>6,631.0000</td>\n",
       "      <td>-0.0000</td>\n",
       "      <td>1.0001</td>\n",
       "      <td>-0.5146</td>\n",
       "      <td>-0.5146</td>\n",
       "      <td>-0.5146</td>\n",
       "      <td>0.2597</td>\n",
       "      <td>5.1965</td>\n",
       "    </tr>\n",
       "    <tr>\n",
       "      <th>scorePontualidade</th>\n",
       "      <td>6,631.0000</td>\n",
       "      <td>-0.0000</td>\n",
       "      <td>1.0001</td>\n",
       "      <td>-2.2904</td>\n",
       "      <td>0.2915</td>\n",
       "      <td>0.4953</td>\n",
       "      <td>0.4953</td>\n",
       "      <td>0.4953</td>\n",
       "    </tr>\n",
       "    <tr>\n",
       "      <th>tempoPrimeiraCompra</th>\n",
       "      <td>6,631.0000</td>\n",
       "      <td>-0.0000</td>\n",
       "      <td>1.0001</td>\n",
       "      <td>-1.1870</td>\n",
       "      <td>-0.7795</td>\n",
       "      <td>-0.3123</td>\n",
       "      <td>0.5899</td>\n",
       "      <td>2.4259</td>\n",
       "    </tr>\n",
       "    <tr>\n",
       "      <th>maiorAtraso</th>\n",
       "      <td>6,631.0000</td>\n",
       "      <td>0.0000</td>\n",
       "      <td>1.0001</td>\n",
       "      <td>-0.5172</td>\n",
       "      <td>-0.4447</td>\n",
       "      <td>-0.3723</td>\n",
       "      <td>-0.0103</td>\n",
       "      <td>6.2164</td>\n",
       "    </tr>\n",
       "    <tr>\n",
       "      <th>faturamentoMensal</th>\n",
       "      <td>6,631.0000</td>\n",
       "      <td>-0.0000</td>\n",
       "      <td>1.0001</td>\n",
       "      <td>-0.2770</td>\n",
       "      <td>-0.2675</td>\n",
       "      <td>-0.2507</td>\n",
       "      <td>-0.1553</td>\n",
       "      <td>7.9016</td>\n",
       "    </tr>\n",
       "    <tr>\n",
       "      <th>restricoes</th>\n",
       "      <td>6,631.0000</td>\n",
       "      <td>0.0000</td>\n",
       "      <td>1.0001</td>\n",
       "      <td>-0.2438</td>\n",
       "      <td>-0.2438</td>\n",
       "      <td>-0.2438</td>\n",
       "      <td>-0.2438</td>\n",
       "      <td>4.1019</td>\n",
       "    </tr>\n",
       "    <tr>\n",
       "      <th>empresa_MeEppMei</th>\n",
       "      <td>6,631.0000</td>\n",
       "      <td>0.0000</td>\n",
       "      <td>1.0001</td>\n",
       "      <td>-0.7777</td>\n",
       "      <td>-0.7777</td>\n",
       "      <td>-0.7777</td>\n",
       "      <td>1.2859</td>\n",
       "      <td>1.2859</td>\n",
       "    </tr>\n",
       "    <tr>\n",
       "      <th>margem_percentual</th>\n",
       "      <td>6,631.0000</td>\n",
       "      <td>-0.0000</td>\n",
       "      <td>1.0001</td>\n",
       "      <td>-0.8106</td>\n",
       "      <td>-0.8106</td>\n",
       "      <td>-0.8106</td>\n",
       "      <td>0.6858</td>\n",
       "      <td>2.9826</td>\n",
       "    </tr>\n",
       "  </tbody>\n",
       "</table>\n",
       "</div>"
      ],
      "text/plain": [
       "                                 count    mean    std     min     25%     50%  \\\n",
       "cluster_0.0                 6,631.0000 -0.0000 1.0001 -1.0111 -1.0111  0.9891   \n",
       "cluster_1.0                 6,631.0000  0.0000 1.0001 -0.2417 -0.2417 -0.2417   \n",
       "cluster_2.0                 6,631.0000  0.0000 1.0001 -0.6520 -0.6520 -0.6520   \n",
       "cluster_3.0                 6,631.0000  0.0000 0.0000  0.0000  0.0000  0.0000   \n",
       "cluster_4.0                 6,631.0000 -0.0000 1.0001 -0.2452 -0.2452 -0.2452   \n",
       "cluster_5.0                 6,631.0000  0.0000 1.0001 -0.2965 -0.2965 -0.2965   \n",
       "anoFundacao                 6,631.0000  0.0000 1.0001 -3.4070 -0.5660  0.2588   \n",
       "percentualRisco             6,631.0000 -0.0000 1.0001 -1.7996 -0.8690 -0.0689   \n",
       "prazoMedioRecebimentoVendas 6,631.0000 -0.0000 1.0001 -0.5146 -0.5146 -0.5146   \n",
       "scorePontualidade           6,631.0000 -0.0000 1.0001 -2.2904  0.2915  0.4953   \n",
       "tempoPrimeiraCompra         6,631.0000 -0.0000 1.0001 -1.1870 -0.7795 -0.3123   \n",
       "maiorAtraso                 6,631.0000  0.0000 1.0001 -0.5172 -0.4447 -0.3723   \n",
       "faturamentoMensal           6,631.0000 -0.0000 1.0001 -0.2770 -0.2675 -0.2507   \n",
       "restricoes                  6,631.0000  0.0000 1.0001 -0.2438 -0.2438 -0.2438   \n",
       "empresa_MeEppMei            6,631.0000  0.0000 1.0001 -0.7777 -0.7777 -0.7777   \n",
       "margem_percentual           6,631.0000 -0.0000 1.0001 -0.8106 -0.8106 -0.8106   \n",
       "\n",
       "                                75%    max  \n",
       "cluster_0.0                  0.9891 0.9891  \n",
       "cluster_1.0                 -0.2417 4.1373  \n",
       "cluster_2.0                  1.5337 1.5337  \n",
       "cluster_3.0                  0.0000 0.0000  \n",
       "cluster_4.0                 -0.2452 4.0787  \n",
       "cluster_5.0                 -0.2965 3.3721  \n",
       "anoFundacao                  0.8087 1.1752  \n",
       "percentualRisco              0.6550 2.5272  \n",
       "prazoMedioRecebimentoVendas  0.2597 5.1965  \n",
       "scorePontualidade            0.4953 0.4953  \n",
       "tempoPrimeiraCompra          0.5899 2.4259  \n",
       "maiorAtraso                 -0.0103 6.2164  \n",
       "faturamentoMensal           -0.1553 7.9016  \n",
       "restricoes                  -0.2438 4.1019  \n",
       "empresa_MeEppMei             1.2859 1.2859  \n",
       "margem_percentual            0.6858 2.9826  "
      ]
     },
     "execution_count": 9,
     "metadata": {},
     "output_type": "execute_result"
    }
   ],
   "source": [
    "# aplica padronização por z-score\n",
    "@pf.register_dataframe_method\n",
    "def standardize(\n",
    "\t\tdata: pd.DataFrame,\n",
    "\t) -> pd.DataFrame:\n",
    "\tX = data.copy()\n",
    "\t# clip outliers\n",
    "\tX = X.clip(lower=X.quantile(0.01), upper=X.quantile(0.99), axis=1)\n",
    "\tstandardizer = StandardScaler()\n",
    "\tX = pd.DataFrame(standardizer.fit_transform(X), columns=X.columns)\n",
    "\treturn X\n",
    "data.filter_status().engineer().select().encode(['cluster']).type_cast().clean().standardize().describe().T"
   ]
  },
  {
   "attachments": {},
   "cell_type": "markdown",
   "metadata": {},
   "source": [
    "#### preparação dos dados"
   ]
  },
  {
   "cell_type": "code",
   "execution_count": 10,
   "metadata": {},
   "outputs": [
    {
     "name": "stdout",
     "output_type": "stream",
     "text": [
      "<class 'pandas.core.frame.DataFrame'>\n",
      "Int64Index: 5304 entries, 5165 to 860\n",
      "Data columns (total 15 columns):\n",
      " #   Column                       Non-Null Count  Dtype  \n",
      "---  ------                       --------------  -----  \n",
      " 0   cluster_0.0                  5304 non-null   float64\n",
      " 1   cluster_1.0                  5304 non-null   float64\n",
      " 2   cluster_2.0                  5304 non-null   float64\n",
      " 3   cluster_3.0                  5304 non-null   float64\n",
      " 4   cluster_4.0                  5304 non-null   float64\n",
      " 5   cluster_5.0                  5304 non-null   float64\n",
      " 6   anoFundacao                  5304 non-null   float64\n",
      " 7   prazoMedioRecebimentoVendas  5304 non-null   float64\n",
      " 8   scorePontualidade            5304 non-null   float64\n",
      " 9   tempoPrimeiraCompra          5304 non-null   float64\n",
      " 10  maiorAtraso                  5304 non-null   float64\n",
      " 11  faturamentoMensal            5304 non-null   float64\n",
      " 12  restricoes                   5304 non-null   float64\n",
      " 13  empresa_MeEppMei             5304 non-null   float64\n",
      " 14  margem_percentual            5304 non-null   float64\n",
      "dtypes: float64(15)\n",
      "memory usage: 663.0 KB\n"
     ]
    },
    {
     "data": {
      "text/plain": [
       "None"
      ]
     },
     "metadata": {},
     "output_type": "display_data"
    },
    {
     "data": {
      "text/html": [
       "<div>\n",
       "<style scoped>\n",
       "    .dataframe tbody tr th:only-of-type {\n",
       "        vertical-align: middle;\n",
       "    }\n",
       "\n",
       "    .dataframe tbody tr th {\n",
       "        vertical-align: top;\n",
       "    }\n",
       "\n",
       "    .dataframe thead th {\n",
       "        text-align: right;\n",
       "    }\n",
       "</style>\n",
       "<table border=\"1\" class=\"dataframe\">\n",
       "  <thead>\n",
       "    <tr style=\"text-align: right;\">\n",
       "      <th></th>\n",
       "      <th>count</th>\n",
       "      <th>mean</th>\n",
       "      <th>std</th>\n",
       "      <th>min</th>\n",
       "      <th>25%</th>\n",
       "      <th>50%</th>\n",
       "      <th>75%</th>\n",
       "      <th>max</th>\n",
       "    </tr>\n",
       "  </thead>\n",
       "  <tbody>\n",
       "    <tr>\n",
       "      <th>cluster_0.0</th>\n",
       "      <td>5,304.0000</td>\n",
       "      <td>0.0124</td>\n",
       "      <td>0.9999</td>\n",
       "      <td>-1.0111</td>\n",
       "      <td>-1.0111</td>\n",
       "      <td>0.9891</td>\n",
       "      <td>0.9891</td>\n",
       "      <td>0.9891</td>\n",
       "    </tr>\n",
       "    <tr>\n",
       "      <th>cluster_1.0</th>\n",
       "      <td>5,304.0000</td>\n",
       "      <td>-0.0031</td>\n",
       "      <td>0.9940</td>\n",
       "      <td>-0.2417</td>\n",
       "      <td>-0.2417</td>\n",
       "      <td>-0.2417</td>\n",
       "      <td>-0.2417</td>\n",
       "      <td>4.1373</td>\n",
       "    </tr>\n",
       "    <tr>\n",
       "      <th>cluster_2.0</th>\n",
       "      <td>5,304.0000</td>\n",
       "      <td>-0.0062</td>\n",
       "      <td>0.9973</td>\n",
       "      <td>-0.6520</td>\n",
       "      <td>-0.6520</td>\n",
       "      <td>-0.6520</td>\n",
       "      <td>1.5337</td>\n",
       "      <td>1.5337</td>\n",
       "    </tr>\n",
       "    <tr>\n",
       "      <th>cluster_3.0</th>\n",
       "      <td>5,304.0000</td>\n",
       "      <td>0.0000</td>\n",
       "      <td>0.0000</td>\n",
       "      <td>0.0000</td>\n",
       "      <td>0.0000</td>\n",
       "      <td>0.0000</td>\n",
       "      <td>0.0000</td>\n",
       "      <td>0.0000</td>\n",
       "    </tr>\n",
       "    <tr>\n",
       "      <th>cluster_4.0</th>\n",
       "      <td>5,304.0000</td>\n",
       "      <td>-0.0104</td>\n",
       "      <td>0.9799</td>\n",
       "      <td>-0.2452</td>\n",
       "      <td>-0.2452</td>\n",
       "      <td>-0.2452</td>\n",
       "      <td>-0.2452</td>\n",
       "      <td>4.0787</td>\n",
       "    </tr>\n",
       "    <tr>\n",
       "      <th>cluster_5.0</th>\n",
       "      <td>5,304.0000</td>\n",
       "      <td>-0.0005</td>\n",
       "      <td>0.9993</td>\n",
       "      <td>-0.2965</td>\n",
       "      <td>-0.2965</td>\n",
       "      <td>-0.2965</td>\n",
       "      <td>-0.2965</td>\n",
       "      <td>3.3721</td>\n",
       "    </tr>\n",
       "    <tr>\n",
       "      <th>anoFundacao</th>\n",
       "      <td>5,304.0000</td>\n",
       "      <td>-0.0059</td>\n",
       "      <td>1.0067</td>\n",
       "      <td>-3.4070</td>\n",
       "      <td>-0.5660</td>\n",
       "      <td>0.2588</td>\n",
       "      <td>0.8087</td>\n",
       "      <td>1.1752</td>\n",
       "    </tr>\n",
       "    <tr>\n",
       "      <th>prazoMedioRecebimentoVendas</th>\n",
       "      <td>5,304.0000</td>\n",
       "      <td>0.0048</td>\n",
       "      <td>1.0025</td>\n",
       "      <td>-0.5146</td>\n",
       "      <td>-0.5146</td>\n",
       "      <td>-0.5146</td>\n",
       "      <td>0.2597</td>\n",
       "      <td>5.1965</td>\n",
       "    </tr>\n",
       "    <tr>\n",
       "      <th>scorePontualidade</th>\n",
       "      <td>5,304.0000</td>\n",
       "      <td>0.0064</td>\n",
       "      <td>0.9937</td>\n",
       "      <td>-2.2904</td>\n",
       "      <td>0.3130</td>\n",
       "      <td>0.4953</td>\n",
       "      <td>0.4953</td>\n",
       "      <td>0.4953</td>\n",
       "    </tr>\n",
       "    <tr>\n",
       "      <th>tempoPrimeiraCompra</th>\n",
       "      <td>5,304.0000</td>\n",
       "      <td>0.0078</td>\n",
       "      <td>1.0060</td>\n",
       "      <td>-1.1870</td>\n",
       "      <td>-0.7808</td>\n",
       "      <td>-0.3096</td>\n",
       "      <td>0.6094</td>\n",
       "      <td>2.4259</td>\n",
       "    </tr>\n",
       "    <tr>\n",
       "      <th>maiorAtraso</th>\n",
       "      <td>5,304.0000</td>\n",
       "      <td>0.0010</td>\n",
       "      <td>0.9966</td>\n",
       "      <td>-0.5172</td>\n",
       "      <td>-0.4447</td>\n",
       "      <td>-0.3723</td>\n",
       "      <td>-0.0103</td>\n",
       "      <td>6.2164</td>\n",
       "    </tr>\n",
       "    <tr>\n",
       "      <th>faturamentoMensal</th>\n",
       "      <td>5,304.0000</td>\n",
       "      <td>0.0152</td>\n",
       "      <td>1.0483</td>\n",
       "      <td>-0.2770</td>\n",
       "      <td>-0.2675</td>\n",
       "      <td>-0.2507</td>\n",
       "      <td>-0.1530</td>\n",
       "      <td>7.9016</td>\n",
       "    </tr>\n",
       "    <tr>\n",
       "      <th>restricoes</th>\n",
       "      <td>5,304.0000</td>\n",
       "      <td>-0.0021</td>\n",
       "      <td>0.9960</td>\n",
       "      <td>-0.2438</td>\n",
       "      <td>-0.2438</td>\n",
       "      <td>-0.2438</td>\n",
       "      <td>-0.2438</td>\n",
       "      <td>4.1019</td>\n",
       "    </tr>\n",
       "    <tr>\n",
       "      <th>empresa_MeEppMei</th>\n",
       "      <td>5,304.0000</td>\n",
       "      <td>-0.0144</td>\n",
       "      <td>0.9963</td>\n",
       "      <td>-0.7777</td>\n",
       "      <td>-0.7777</td>\n",
       "      <td>-0.7777</td>\n",
       "      <td>1.2859</td>\n",
       "      <td>1.2859</td>\n",
       "    </tr>\n",
       "    <tr>\n",
       "      <th>margem_percentual</th>\n",
       "      <td>5,304.0000</td>\n",
       "      <td>0.0088</td>\n",
       "      <td>1.0057</td>\n",
       "      <td>-0.8106</td>\n",
       "      <td>-0.8106</td>\n",
       "      <td>-0.8106</td>\n",
       "      <td>0.6856</td>\n",
       "      <td>2.9826</td>\n",
       "    </tr>\n",
       "  </tbody>\n",
       "</table>\n",
       "</div>"
      ],
      "text/plain": [
       "                                 count    mean    std     min     25%     50%  \\\n",
       "cluster_0.0                 5,304.0000  0.0124 0.9999 -1.0111 -1.0111  0.9891   \n",
       "cluster_1.0                 5,304.0000 -0.0031 0.9940 -0.2417 -0.2417 -0.2417   \n",
       "cluster_2.0                 5,304.0000 -0.0062 0.9973 -0.6520 -0.6520 -0.6520   \n",
       "cluster_3.0                 5,304.0000  0.0000 0.0000  0.0000  0.0000  0.0000   \n",
       "cluster_4.0                 5,304.0000 -0.0104 0.9799 -0.2452 -0.2452 -0.2452   \n",
       "cluster_5.0                 5,304.0000 -0.0005 0.9993 -0.2965 -0.2965 -0.2965   \n",
       "anoFundacao                 5,304.0000 -0.0059 1.0067 -3.4070 -0.5660  0.2588   \n",
       "prazoMedioRecebimentoVendas 5,304.0000  0.0048 1.0025 -0.5146 -0.5146 -0.5146   \n",
       "scorePontualidade           5,304.0000  0.0064 0.9937 -2.2904  0.3130  0.4953   \n",
       "tempoPrimeiraCompra         5,304.0000  0.0078 1.0060 -1.1870 -0.7808 -0.3096   \n",
       "maiorAtraso                 5,304.0000  0.0010 0.9966 -0.5172 -0.4447 -0.3723   \n",
       "faturamentoMensal           5,304.0000  0.0152 1.0483 -0.2770 -0.2675 -0.2507   \n",
       "restricoes                  5,304.0000 -0.0021 0.9960 -0.2438 -0.2438 -0.2438   \n",
       "empresa_MeEppMei            5,304.0000 -0.0144 0.9963 -0.7777 -0.7777 -0.7777   \n",
       "margem_percentual           5,304.0000  0.0088 1.0057 -0.8106 -0.8106 -0.8106   \n",
       "\n",
       "                                75%    max  \n",
       "cluster_0.0                  0.9891 0.9891  \n",
       "cluster_1.0                 -0.2417 4.1373  \n",
       "cluster_2.0                  1.5337 1.5337  \n",
       "cluster_3.0                  0.0000 0.0000  \n",
       "cluster_4.0                 -0.2452 4.0787  \n",
       "cluster_5.0                 -0.2965 3.3721  \n",
       "anoFundacao                  0.8087 1.1752  \n",
       "prazoMedioRecebimentoVendas  0.2597 5.1965  \n",
       "scorePontualidade            0.4953 0.4953  \n",
       "tempoPrimeiraCompra          0.6094 2.4259  \n",
       "maiorAtraso                 -0.0103 6.2164  \n",
       "faturamentoMensal           -0.1530 7.9016  \n",
       "restricoes                  -0.2438 4.1019  \n",
       "empresa_MeEppMei             1.2859 1.2859  \n",
       "margem_percentual            0.6856 2.9826  "
      ]
     },
     "metadata": {},
     "output_type": "display_data"
    },
    {
     "name": "stdout",
     "output_type": "stream",
     "text": [
      "Shape de data_train: (5304, 15)\n",
      "Shape de data_test: (1327, 15)\n"
     ]
    }
   ],
   "source": [
    "data_preprocess = data.filter_status().engineer().select().encode(['cluster']).type_cast().clean()\n",
    "targets_preprocess = data_preprocess['percentualRisco']\n",
    "features_preprocess = data_preprocess.drop(columns=['percentualRisco']).standardize()\n",
    "\n",
    "data_train, data_test, targets_train, targets_test = train_test_split(features_preprocess, targets_preprocess, test_size=0.2, random_state=42)\n",
    "\n",
    "display(data_train.info())\n",
    "display(data_train.describe().T)\n",
    "print (f'Shape de data_train: {data_train.shape}')\n",
    "print (f'Shape de data_test: {data_test.shape}')"
   ]
  },
  {
   "attachments": {},
   "cell_type": "markdown",
   "metadata": {},
   "source": [
    "### Treinamento dos Modelos"
   ]
  },
  {
   "attachments": {},
   "cell_type": "markdown",
   "metadata": {},
   "source": [
    "⭐ nota\n",
    "<div style='color:#222200;background-color:#FFFFBB;padding:10px;'><table style='border:0px solid;width:100%'>\n",
    "<tr><td style=\"border:0px;font-size:60px;width:80px;background-color:#FFFFBB\">⭐</td><td style=\"border:0px;background-color:#FFFFBB;font-size:16px;\">\n",
    "- foram testados 3 algoritmos <br>\n",
    "- para cada algoritmo, foram testadas as principais variações dos seus hiperparâmetros<br>\n",
    "- a busca foi feita por otimização bayesiana, utilizando validação cruzada com 5 partições <br>\n",
    "- todas as métricas de avaliação foram calculadas sobre o conjunto de teste (holdout) <br>\n",
    "- o particionamento do conjunto de teste foi feito com 20% dos registros disponíveis\n",
    "</td></tr></table></div>"
   ]
  },
  {
   "attachments": {},
   "cell_type": "markdown",
   "metadata": {},
   "source": [
    "#### rotinas de otimização"
   ]
  },
  {
   "cell_type": "code",
   "execution_count": 11,
   "metadata": {},
   "outputs": [],
   "source": [
    "# callback para salvar o melhor modelo\n",
    "def callback(\n",
    "\t\tstudy: opt.study.Study,\n",
    "\t\ttrial: opt.trial.FrozenTrial,\n",
    "\t) -> None:\n",
    "\tif study.best_trial.number == trial.number:\n",
    "\t\tstudy.set_user_attr(key='best_estimator', value=trial.user_attrs['estimator'])"
   ]
  },
  {
   "cell_type": "code",
   "execution_count": 12,
   "metadata": {},
   "outputs": [],
   "source": [
    "# plota os resultados da otimização e a avaliação do melhor modelo no dataset de teste\n",
    "def plot_optimization_results(\n",
    "\t\tstudy: opt.study.Study,\n",
    "\t\ty_test: pd.DataFrame,\n",
    "\t\ty_pred: np.ndarray,\n",
    "\t) -> None:\n",
    "\n",
    "\t# plota os resultados da otimização\n",
    "\tdisplay(opt.visualization.plot_optimization_history(study))\n",
    "\ttry:\n",
    "\t\tdisplay(opt.visualization.plot_param_importances(study))\n",
    "\texcept:\n",
    "\t\t...\n",
    "\t\n",
    "\t# imprime o melhor modelo\n",
    "\tprint (f'Best trial: {study.best_trial.value}')\n",
    "\tprint (f'Best parameters: {study.best_params}')"
   ]
  },
  {
   "cell_type": "code",
   "execution_count": 13,
   "metadata": {},
   "outputs": [],
   "source": [
    "# rotina de otimização bayesiana\n",
    "def optimize(\n",
    "\t\tobjective, #Callable,\n",
    "    description: str,\n",
    "    n_trials: int,\n",
    "\t\tX: pd.DataFrame,\n",
    "\t\ty: pd.DataFrame,\n",
    "\t\tX_test: pd.DataFrame,\n",
    "\t\ty_test: pd.DataFrame,\n",
    "\t) -> dict: \n",
    "        \n",
    "\t# cria o estudo e executa a otimização\n",
    "\tstudy = opt.create_study(direction='maximize')\n",
    "\tstudy.optimize(lambda trial:objective(trial, X, y),\n",
    "\t\tcallbacks=[callback], n_trials=n_trials, timeout=60*5, n_jobs=-1, show_progress_bar = True)\n",
    "\n",
    "\t# fita e salva o melhor modelo\n",
    "\tfit = study.user_attrs['best_estimator'].fit(X, y)\n",
    "\tjoblib.dump(fit, f'models/{description}.joblib')\n",
    "\n",
    "\t# avalia os resultados no conjunto de teste\n",
    "\ty_pred_val = fit.predict(X)\n",
    "\ty_pred = fit.predict(X_test)\n",
    "\tmetrics = {\n",
    "\t\t'validation': {\n",
    "\t\t\t'mae': mean_absolute_error(y, y_pred_val),\n",
    "\t\t\t'rmse': np.sqrt(mean_squared_error(y, y_pred_val)),\n",
    "\t\t\t'r2': r2_score(y, y_pred_val),\n",
    "\t\t\t# 'mape': mean_absolute_percentage_error(y, y_pred_val),\n",
    "\t\t},\n",
    "\t\t'test': {\n",
    "\t\t\t'mae': mean_absolute_error(y_test, y_pred),\n",
    "\t\t\t'rmse': np.sqrt(mean_squared_error(y_test, y_pred)),\n",
    "\t\t\t'r2': r2_score(y_test, y_pred),\n",
    "\t\t\t# 'mape': mean_absolute_percentage_error(y_test, y_pred),\n",
    "\t\t}\n",
    "\t}\n",
    "\tvalidation = pd.DataFrame(metrics['validation'], index=['validation'])\n",
    "\ttest = pd.DataFrame(metrics['test'], index=['test'])\n",
    "\tdisplay(pd.concat([validation, test], axis=0).T)\n",
    "\n",
    "\t# plota os resultados\n",
    "\tplot_optimization_results(study, y_test, y_pred)\n",
    "\t\n",
    "\treturn {\n",
    "\t\t'description': description,\n",
    "\t\t'metrics': metrics,\n",
    "\t\t'estimator': fit,\n",
    "\t\t'results': study.trials_dataframe(),\n",
    "\t\t'predictions': y_pred,\n",
    "\t}\n"
   ]
  },
  {
   "attachments": {},
   "cell_type": "markdown",
   "metadata": {},
   "source": [
    "⭐ nota\n",
    "<div style='color:#222200;background-color:#FFFFBB;padding:10px;'><table style='border:0px solid;width:100%'>\n",
    "<tr><td style=\"border:0px;font-size:60px;width:80px;background-color:#FFFFBB\">⭐</td><td style=\"border:0px;background-color:#FFFFBB;font-size:16px;\">\n",
    "o treinamento foi realizado com o objetivo de minimizar o RMSE\n",
    "</td></tr></table></div>"
   ]
  },
  {
   "attachments": {},
   "cell_type": "markdown",
   "metadata": {},
   "source": [
    "#### elasticnet"
   ]
  },
  {
   "cell_type": "code",
   "execution_count": 14,
   "metadata": {},
   "outputs": [
    {
     "data": {
      "application/vnd.jupyter.widget-view+json": {
       "model_id": "ed5677c65a044ac7b0a51d4c0f85ded3",
       "version_major": 2,
       "version_minor": 0
      },
      "text/plain": [
       "  0%|          | 0/150 [00:00<?, ?it/s]"
      ]
     },
     "metadata": {},
     "output_type": "display_data"
    },
    {
     "data": {
      "text/html": [
       "<div>\n",
       "<style scoped>\n",
       "    .dataframe tbody tr th:only-of-type {\n",
       "        vertical-align: middle;\n",
       "    }\n",
       "\n",
       "    .dataframe tbody tr th {\n",
       "        vertical-align: top;\n",
       "    }\n",
       "\n",
       "    .dataframe thead th {\n",
       "        text-align: right;\n",
       "    }\n",
       "</style>\n",
       "<table border=\"1\" class=\"dataframe\">\n",
       "  <thead>\n",
       "    <tr style=\"text-align: right;\">\n",
       "      <th></th>\n",
       "      <th>validation</th>\n",
       "      <th>test</th>\n",
       "    </tr>\n",
       "  </thead>\n",
       "  <tbody>\n",
       "    <tr>\n",
       "      <th>mae</th>\n",
       "      <td>0.0732</td>\n",
       "      <td>0.0763</td>\n",
       "    </tr>\n",
       "    <tr>\n",
       "      <th>rmse</th>\n",
       "      <td>0.0910</td>\n",
       "      <td>0.0944</td>\n",
       "    </tr>\n",
       "    <tr>\n",
       "      <th>r2</th>\n",
       "      <td>0.4646</td>\n",
       "      <td>0.4535</td>\n",
       "    </tr>\n",
       "  </tbody>\n",
       "</table>\n",
       "</div>"
      ],
      "text/plain": [
       "      validation   test\n",
       "mae       0.0732 0.0763\n",
       "rmse      0.0910 0.0944\n",
       "r2        0.4646 0.4535"
      ]
     },
     "metadata": {},
     "output_type": "display_data"
    },
    {
     "data": {
      "application/vnd.plotly.v1+json": {
       "config": {
        "plotlyServerURL": "https://plot.ly"
       },
       "data": [
        {
         "mode": "markers",
         "name": "Objective Value",
         "type": "scatter",
         "x": [
          0,
          1,
          2,
          3,
          4,
          5,
          6,
          7,
          8,
          9,
          10,
          11,
          12,
          13,
          14,
          15,
          16,
          17,
          18,
          19,
          20,
          21,
          22,
          23,
          24,
          25,
          26,
          27,
          28,
          29,
          30,
          31,
          32,
          33,
          34,
          35,
          36,
          37,
          38,
          39,
          40,
          41,
          42,
          43,
          44,
          45,
          46,
          47,
          48,
          49,
          50,
          51,
          52,
          53,
          54,
          55,
          56,
          57,
          58,
          59,
          60,
          61,
          62,
          63,
          64,
          65,
          66,
          67,
          68,
          69,
          70,
          71,
          72,
          73,
          74,
          75,
          76,
          77,
          78,
          79,
          80,
          81,
          82,
          83,
          84,
          85,
          86,
          87,
          88,
          89,
          90,
          91,
          92,
          93,
          94,
          95,
          96,
          97,
          98,
          99,
          100,
          101,
          102,
          103,
          104,
          105,
          106,
          107,
          108,
          109,
          110,
          111,
          112,
          113,
          114,
          115,
          116,
          117,
          118,
          119,
          120,
          121,
          122,
          123,
          124,
          125,
          126,
          127,
          128,
          129,
          130,
          131,
          132,
          133,
          134,
          135,
          136,
          137,
          138,
          139,
          140,
          141,
          142,
          143,
          144,
          145,
          146,
          147,
          148,
          149
         ],
         "y": [
          -0.28019320151742944,
          -0.09123965134525275,
          -0.09123995981827573,
          -0.2748861818708337,
          -0.09193127599485289,
          -0.27491816177684836,
          -0.09123980784348265,
          -0.09124263668901533,
          -0.27491876504577517,
          -0.09124426224451879,
          -0.2754779406390951,
          -0.2749195093678659,
          -0.27490952909160926,
          -0.09129968019180938,
          -0.2765842840443823,
          -0.27498394483482347,
          -0.2748939981746229,
          -0.09124043357054915,
          -0.09125431486808873,
          -0.09124061061788953,
          -0.27490156823036593,
          -0.09123972697320633,
          -0.09132760683130585,
          -0.274900646399754,
          -0.27492156715635535,
          -0.09124220424569178,
          -0.09127809746096749,
          -0.09134016574980057,
          -0.0914432479611255,
          -0.09143013273340332,
          -0.2749209050895948,
          -0.27499312381028435,
          -0.2749578791627047,
          -0.10183533685681438,
          -0.09123972732801566,
          -0.09123964197189804,
          -0.09123964556913292,
          -0.09123965885715937,
          -0.09123965809626358,
          -0.09123970844223997,
          -0.09123974135882972,
          -0.09123972098309942,
          -0.0912397336379496,
          -0.0912396538872288,
          -0.09123967464375402,
          -0.09123968030322609,
          -0.0912396712045076,
          -0.09123967381362566,
          -0.0912399042188293,
          -0.09123990511461326,
          -0.09123992827348329,
          -0.09123980702081996,
          -0.09123991540829335,
          -0.09123968221739878,
          -0.09123968989550917,
          -0.09123967542927716,
          -0.09123965389165753,
          -0.09123972381917875,
          -0.09123967584616312,
          -0.0912397736336034,
          -0.09123963934115553,
          -0.09123963558564036,
          -0.09123972712424225,
          -0.09123964777477318,
          -0.0912396361824903,
          -0.09123964577914578,
          -0.09123965493206751,
          -0.09123972863379144,
          -0.09123964998045052,
          -0.09123985675250605,
          -0.0912396768568278,
          -0.09123963756021483,
          -0.09123976692056478,
          -0.09123990978192029,
          -0.0912396906794948,
          -0.09123968675356658,
          -0.09123968962466542,
          -0.09123978528022135,
          -0.09123980503109311,
          -0.09123975108388459,
          -0.0912397959017222,
          -0.09123980355269853,
          -0.09123979012873505,
          -0.09123975753976767,
          -0.09123980594704965,
          -0.09123975455444273,
          -0.09123981041938503,
          -0.09123976939837261,
          -0.0912400915901536,
          -0.09124010653499517,
          -0.09124028029100517,
          -0.09124038970174035,
          -0.09124005720851658,
          -0.09124066613906126,
          -0.09123979162279454,
          -0.09124016461616932,
          -0.09124017068172072,
          -0.09124030043914391,
          -0.09123984877429822,
          -0.0912396771446142,
          -0.09123984519847497,
          -0.09123986508344828,
          -0.09123994645870262,
          -0.27492057046157264,
          -0.27492100022943006,
          -0.2749209570912644,
          -0.27492080056934665,
          -0.27491993396156755,
          -0.2749209418057034,
          -0.2749206015156792,
          -0.27492045503258095,
          -0.2749210731000803,
          -0.09124001647599782,
          -0.27492004574101075,
          -0.27492152504610556,
          -0.2749199966118677,
          -0.27492151234639756,
          -0.27492158929541777,
          -0.27492160987064507,
          -0.274921586023674,
          -0.27492161587406716,
          -0.09123963856418513,
          -0.2749215943637262,
          -0.27492160213681344,
          -0.2749194580525962,
          -0.0912396381701632,
          -0.0912396386584406,
          -0.09123964509432755,
          -0.09123964334872713,
          -0.09123963908287872,
          -0.09123964064433021,
          -0.09123963590220836,
          -0.09123964416129612,
          -0.09123963775761143,
          -0.09123963874633369,
          -0.09123963516753816,
          -0.09123963860885667,
          -0.09123964536519628,
          -0.09123963703131159,
          -0.0912396380437683,
          -0.09123964380155698,
          -0.09123963905033453,
          -0.09123964809320759,
          -0.09124122887815947,
          -0.09123965746001868,
          -0.09123965690548105,
          -0.09123965742413437,
          -0.09123965632246704,
          -0.09124106055338752,
          -0.09123966154483228
         ]
        },
        {
         "name": "Best Value",
         "type": "scatter",
         "x": [
          0,
          1,
          2,
          3,
          4,
          5,
          6,
          7,
          8,
          9,
          10,
          11,
          12,
          13,
          14,
          15,
          16,
          17,
          18,
          19,
          20,
          21,
          22,
          23,
          24,
          25,
          26,
          27,
          28,
          29,
          30,
          31,
          32,
          33,
          34,
          35,
          36,
          37,
          38,
          39,
          40,
          41,
          42,
          43,
          44,
          45,
          46,
          47,
          48,
          49,
          50,
          51,
          52,
          53,
          54,
          55,
          56,
          57,
          58,
          59,
          60,
          61,
          62,
          63,
          64,
          65,
          66,
          67,
          68,
          69,
          70,
          71,
          72,
          73,
          74,
          75,
          76,
          77,
          78,
          79,
          80,
          81,
          82,
          83,
          84,
          85,
          86,
          87,
          88,
          89,
          90,
          91,
          92,
          93,
          94,
          95,
          96,
          97,
          98,
          99,
          100,
          101,
          102,
          103,
          104,
          105,
          106,
          107,
          108,
          109,
          110,
          111,
          112,
          113,
          114,
          115,
          116,
          117,
          118,
          119,
          120,
          121,
          122,
          123,
          124,
          125,
          126,
          127,
          128,
          129,
          130,
          131,
          132,
          133,
          134,
          135,
          136,
          137,
          138,
          139,
          140,
          141,
          142,
          143,
          144,
          145,
          146,
          147,
          148,
          149
         ],
         "y": [
          -0.28019320151742944,
          -0.09123965134525275,
          -0.09123965134525275,
          -0.09123965134525275,
          -0.09123965134525275,
          -0.09123965134525275,
          -0.09123965134525275,
          -0.09123965134525275,
          -0.09123965134525275,
          -0.09123965134525275,
          -0.09123965134525275,
          -0.09123965134525275,
          -0.09123965134525275,
          -0.09123965134525275,
          -0.09123965134525275,
          -0.09123965134525275,
          -0.09123965134525275,
          -0.09123965134525275,
          -0.09123965134525275,
          -0.09123965134525275,
          -0.09123965134525275,
          -0.09123965134525275,
          -0.09123965134525275,
          -0.09123965134525275,
          -0.09123965134525275,
          -0.09123965134525275,
          -0.09123965134525275,
          -0.09123965134525275,
          -0.09123965134525275,
          -0.09123965134525275,
          -0.09123965134525275,
          -0.09123965134525275,
          -0.09123965134525275,
          -0.09123965134525275,
          -0.09123965134525275,
          -0.09123964197189804,
          -0.09123964197189804,
          -0.09123964197189804,
          -0.09123964197189804,
          -0.09123964197189804,
          -0.09123964197189804,
          -0.09123964197189804,
          -0.09123964197189804,
          -0.09123964197189804,
          -0.09123964197189804,
          -0.09123964197189804,
          -0.09123964197189804,
          -0.09123964197189804,
          -0.09123964197189804,
          -0.09123964197189804,
          -0.09123964197189804,
          -0.09123964197189804,
          -0.09123964197189804,
          -0.09123964197189804,
          -0.09123964197189804,
          -0.09123964197189804,
          -0.09123964197189804,
          -0.09123964197189804,
          -0.09123964197189804,
          -0.09123964197189804,
          -0.09123963934115553,
          -0.09123963558564036,
          -0.09123963558564036,
          -0.09123963558564036,
          -0.09123963558564036,
          -0.09123963558564036,
          -0.09123963558564036,
          -0.09123963558564036,
          -0.09123963558564036,
          -0.09123963558564036,
          -0.09123963558564036,
          -0.09123963558564036,
          -0.09123963558564036,
          -0.09123963558564036,
          -0.09123963558564036,
          -0.09123963558564036,
          -0.09123963558564036,
          -0.09123963558564036,
          -0.09123963558564036,
          -0.09123963558564036,
          -0.09123963558564036,
          -0.09123963558564036,
          -0.09123963558564036,
          -0.09123963558564036,
          -0.09123963558564036,
          -0.09123963558564036,
          -0.09123963558564036,
          -0.09123963558564036,
          -0.09123963558564036,
          -0.09123963558564036,
          -0.09123963558564036,
          -0.09123963558564036,
          -0.09123963558564036,
          -0.09123963558564036,
          -0.09123963558564036,
          -0.09123963558564036,
          -0.09123963558564036,
          -0.09123963558564036,
          -0.09123963558564036,
          -0.09123963558564036,
          -0.09123963558564036,
          -0.09123963558564036,
          -0.09123963558564036,
          -0.09123963558564036,
          -0.09123963558564036,
          -0.09123963558564036,
          -0.09123963558564036,
          -0.09123963558564036,
          -0.09123963558564036,
          -0.09123963558564036,
          -0.09123963558564036,
          -0.09123963558564036,
          -0.09123963558564036,
          -0.09123963558564036,
          -0.09123963558564036,
          -0.09123963558564036,
          -0.09123963558564036,
          -0.09123963558564036,
          -0.09123963558564036,
          -0.09123963558564036,
          -0.09123963558564036,
          -0.09123963558564036,
          -0.09123963558564036,
          -0.09123963558564036,
          -0.09123963558564036,
          -0.09123963558564036,
          -0.09123963558564036,
          -0.09123963558564036,
          -0.09123963558564036,
          -0.09123963558564036,
          -0.09123963558564036,
          -0.09123963558564036,
          -0.09123963558564036,
          -0.09123963558564036,
          -0.09123963558564036,
          -0.09123963516753816,
          -0.09123963516753816,
          -0.09123963516753816,
          -0.09123963516753816,
          -0.09123963516753816,
          -0.09123963516753816,
          -0.09123963516753816,
          -0.09123963516753816,
          -0.09123963516753816,
          -0.09123963516753816,
          -0.09123963516753816,
          -0.09123963516753816,
          -0.09123963516753816,
          -0.09123963516753816,
          -0.09123963516753816
         ]
        }
       ],
       "layout": {
        "template": {
         "data": {
          "bar": [
           {
            "error_x": {
             "color": "#2a3f5f"
            },
            "error_y": {
             "color": "#2a3f5f"
            },
            "marker": {
             "line": {
              "color": "#E5ECF6",
              "width": 0.5
             },
             "pattern": {
              "fillmode": "overlay",
              "size": 10,
              "solidity": 0.2
             }
            },
            "type": "bar"
           }
          ],
          "barpolar": [
           {
            "marker": {
             "line": {
              "color": "#E5ECF6",
              "width": 0.5
             },
             "pattern": {
              "fillmode": "overlay",
              "size": 10,
              "solidity": 0.2
             }
            },
            "type": "barpolar"
           }
          ],
          "carpet": [
           {
            "aaxis": {
             "endlinecolor": "#2a3f5f",
             "gridcolor": "white",
             "linecolor": "white",
             "minorgridcolor": "white",
             "startlinecolor": "#2a3f5f"
            },
            "baxis": {
             "endlinecolor": "#2a3f5f",
             "gridcolor": "white",
             "linecolor": "white",
             "minorgridcolor": "white",
             "startlinecolor": "#2a3f5f"
            },
            "type": "carpet"
           }
          ],
          "choropleth": [
           {
            "colorbar": {
             "outlinewidth": 0,
             "ticks": ""
            },
            "type": "choropleth"
           }
          ],
          "contour": [
           {
            "colorbar": {
             "outlinewidth": 0,
             "ticks": ""
            },
            "colorscale": [
             [
              0,
              "#0d0887"
             ],
             [
              0.1111111111111111,
              "#46039f"
             ],
             [
              0.2222222222222222,
              "#7201a8"
             ],
             [
              0.3333333333333333,
              "#9c179e"
             ],
             [
              0.4444444444444444,
              "#bd3786"
             ],
             [
              0.5555555555555556,
              "#d8576b"
             ],
             [
              0.6666666666666666,
              "#ed7953"
             ],
             [
              0.7777777777777778,
              "#fb9f3a"
             ],
             [
              0.8888888888888888,
              "#fdca26"
             ],
             [
              1,
              "#f0f921"
             ]
            ],
            "type": "contour"
           }
          ],
          "contourcarpet": [
           {
            "colorbar": {
             "outlinewidth": 0,
             "ticks": ""
            },
            "type": "contourcarpet"
           }
          ],
          "heatmap": [
           {
            "colorbar": {
             "outlinewidth": 0,
             "ticks": ""
            },
            "colorscale": [
             [
              0,
              "#0d0887"
             ],
             [
              0.1111111111111111,
              "#46039f"
             ],
             [
              0.2222222222222222,
              "#7201a8"
             ],
             [
              0.3333333333333333,
              "#9c179e"
             ],
             [
              0.4444444444444444,
              "#bd3786"
             ],
             [
              0.5555555555555556,
              "#d8576b"
             ],
             [
              0.6666666666666666,
              "#ed7953"
             ],
             [
              0.7777777777777778,
              "#fb9f3a"
             ],
             [
              0.8888888888888888,
              "#fdca26"
             ],
             [
              1,
              "#f0f921"
             ]
            ],
            "type": "heatmap"
           }
          ],
          "heatmapgl": [
           {
            "colorbar": {
             "outlinewidth": 0,
             "ticks": ""
            },
            "colorscale": [
             [
              0,
              "#0d0887"
             ],
             [
              0.1111111111111111,
              "#46039f"
             ],
             [
              0.2222222222222222,
              "#7201a8"
             ],
             [
              0.3333333333333333,
              "#9c179e"
             ],
             [
              0.4444444444444444,
              "#bd3786"
             ],
             [
              0.5555555555555556,
              "#d8576b"
             ],
             [
              0.6666666666666666,
              "#ed7953"
             ],
             [
              0.7777777777777778,
              "#fb9f3a"
             ],
             [
              0.8888888888888888,
              "#fdca26"
             ],
             [
              1,
              "#f0f921"
             ]
            ],
            "type": "heatmapgl"
           }
          ],
          "histogram": [
           {
            "marker": {
             "pattern": {
              "fillmode": "overlay",
              "size": 10,
              "solidity": 0.2
             }
            },
            "type": "histogram"
           }
          ],
          "histogram2d": [
           {
            "colorbar": {
             "outlinewidth": 0,
             "ticks": ""
            },
            "colorscale": [
             [
              0,
              "#0d0887"
             ],
             [
              0.1111111111111111,
              "#46039f"
             ],
             [
              0.2222222222222222,
              "#7201a8"
             ],
             [
              0.3333333333333333,
              "#9c179e"
             ],
             [
              0.4444444444444444,
              "#bd3786"
             ],
             [
              0.5555555555555556,
              "#d8576b"
             ],
             [
              0.6666666666666666,
              "#ed7953"
             ],
             [
              0.7777777777777778,
              "#fb9f3a"
             ],
             [
              0.8888888888888888,
              "#fdca26"
             ],
             [
              1,
              "#f0f921"
             ]
            ],
            "type": "histogram2d"
           }
          ],
          "histogram2dcontour": [
           {
            "colorbar": {
             "outlinewidth": 0,
             "ticks": ""
            },
            "colorscale": [
             [
              0,
              "#0d0887"
             ],
             [
              0.1111111111111111,
              "#46039f"
             ],
             [
              0.2222222222222222,
              "#7201a8"
             ],
             [
              0.3333333333333333,
              "#9c179e"
             ],
             [
              0.4444444444444444,
              "#bd3786"
             ],
             [
              0.5555555555555556,
              "#d8576b"
             ],
             [
              0.6666666666666666,
              "#ed7953"
             ],
             [
              0.7777777777777778,
              "#fb9f3a"
             ],
             [
              0.8888888888888888,
              "#fdca26"
             ],
             [
              1,
              "#f0f921"
             ]
            ],
            "type": "histogram2dcontour"
           }
          ],
          "mesh3d": [
           {
            "colorbar": {
             "outlinewidth": 0,
             "ticks": ""
            },
            "type": "mesh3d"
           }
          ],
          "parcoords": [
           {
            "line": {
             "colorbar": {
              "outlinewidth": 0,
              "ticks": ""
             }
            },
            "type": "parcoords"
           }
          ],
          "pie": [
           {
            "automargin": true,
            "type": "pie"
           }
          ],
          "scatter": [
           {
            "fillpattern": {
             "fillmode": "overlay",
             "size": 10,
             "solidity": 0.2
            },
            "type": "scatter"
           }
          ],
          "scatter3d": [
           {
            "line": {
             "colorbar": {
              "outlinewidth": 0,
              "ticks": ""
             }
            },
            "marker": {
             "colorbar": {
              "outlinewidth": 0,
              "ticks": ""
             }
            },
            "type": "scatter3d"
           }
          ],
          "scattercarpet": [
           {
            "marker": {
             "colorbar": {
              "outlinewidth": 0,
              "ticks": ""
             }
            },
            "type": "scattercarpet"
           }
          ],
          "scattergeo": [
           {
            "marker": {
             "colorbar": {
              "outlinewidth": 0,
              "ticks": ""
             }
            },
            "type": "scattergeo"
           }
          ],
          "scattergl": [
           {
            "marker": {
             "colorbar": {
              "outlinewidth": 0,
              "ticks": ""
             }
            },
            "type": "scattergl"
           }
          ],
          "scattermapbox": [
           {
            "marker": {
             "colorbar": {
              "outlinewidth": 0,
              "ticks": ""
             }
            },
            "type": "scattermapbox"
           }
          ],
          "scatterpolar": [
           {
            "marker": {
             "colorbar": {
              "outlinewidth": 0,
              "ticks": ""
             }
            },
            "type": "scatterpolar"
           }
          ],
          "scatterpolargl": [
           {
            "marker": {
             "colorbar": {
              "outlinewidth": 0,
              "ticks": ""
             }
            },
            "type": "scatterpolargl"
           }
          ],
          "scatterternary": [
           {
            "marker": {
             "colorbar": {
              "outlinewidth": 0,
              "ticks": ""
             }
            },
            "type": "scatterternary"
           }
          ],
          "surface": [
           {
            "colorbar": {
             "outlinewidth": 0,
             "ticks": ""
            },
            "colorscale": [
             [
              0,
              "#0d0887"
             ],
             [
              0.1111111111111111,
              "#46039f"
             ],
             [
              0.2222222222222222,
              "#7201a8"
             ],
             [
              0.3333333333333333,
              "#9c179e"
             ],
             [
              0.4444444444444444,
              "#bd3786"
             ],
             [
              0.5555555555555556,
              "#d8576b"
             ],
             [
              0.6666666666666666,
              "#ed7953"
             ],
             [
              0.7777777777777778,
              "#fb9f3a"
             ],
             [
              0.8888888888888888,
              "#fdca26"
             ],
             [
              1,
              "#f0f921"
             ]
            ],
            "type": "surface"
           }
          ],
          "table": [
           {
            "cells": {
             "fill": {
              "color": "#EBF0F8"
             },
             "line": {
              "color": "white"
             }
            },
            "header": {
             "fill": {
              "color": "#C8D4E3"
             },
             "line": {
              "color": "white"
             }
            },
            "type": "table"
           }
          ]
         },
         "layout": {
          "annotationdefaults": {
           "arrowcolor": "#2a3f5f",
           "arrowhead": 0,
           "arrowwidth": 1
          },
          "autotypenumbers": "strict",
          "coloraxis": {
           "colorbar": {
            "outlinewidth": 0,
            "ticks": ""
           }
          },
          "colorscale": {
           "diverging": [
            [
             0,
             "#8e0152"
            ],
            [
             0.1,
             "#c51b7d"
            ],
            [
             0.2,
             "#de77ae"
            ],
            [
             0.3,
             "#f1b6da"
            ],
            [
             0.4,
             "#fde0ef"
            ],
            [
             0.5,
             "#f7f7f7"
            ],
            [
             0.6,
             "#e6f5d0"
            ],
            [
             0.7,
             "#b8e186"
            ],
            [
             0.8,
             "#7fbc41"
            ],
            [
             0.9,
             "#4d9221"
            ],
            [
             1,
             "#276419"
            ]
           ],
           "sequential": [
            [
             0,
             "#0d0887"
            ],
            [
             0.1111111111111111,
             "#46039f"
            ],
            [
             0.2222222222222222,
             "#7201a8"
            ],
            [
             0.3333333333333333,
             "#9c179e"
            ],
            [
             0.4444444444444444,
             "#bd3786"
            ],
            [
             0.5555555555555556,
             "#d8576b"
            ],
            [
             0.6666666666666666,
             "#ed7953"
            ],
            [
             0.7777777777777778,
             "#fb9f3a"
            ],
            [
             0.8888888888888888,
             "#fdca26"
            ],
            [
             1,
             "#f0f921"
            ]
           ],
           "sequentialminus": [
            [
             0,
             "#0d0887"
            ],
            [
             0.1111111111111111,
             "#46039f"
            ],
            [
             0.2222222222222222,
             "#7201a8"
            ],
            [
             0.3333333333333333,
             "#9c179e"
            ],
            [
             0.4444444444444444,
             "#bd3786"
            ],
            [
             0.5555555555555556,
             "#d8576b"
            ],
            [
             0.6666666666666666,
             "#ed7953"
            ],
            [
             0.7777777777777778,
             "#fb9f3a"
            ],
            [
             0.8888888888888888,
             "#fdca26"
            ],
            [
             1,
             "#f0f921"
            ]
           ]
          },
          "colorway": [
           "#636efa",
           "#EF553B",
           "#00cc96",
           "#ab63fa",
           "#FFA15A",
           "#19d3f3",
           "#FF6692",
           "#B6E880",
           "#FF97FF",
           "#FECB52"
          ],
          "font": {
           "color": "#2a3f5f"
          },
          "geo": {
           "bgcolor": "white",
           "lakecolor": "white",
           "landcolor": "#E5ECF6",
           "showlakes": true,
           "showland": true,
           "subunitcolor": "white"
          },
          "hoverlabel": {
           "align": "left"
          },
          "hovermode": "closest",
          "mapbox": {
           "style": "light"
          },
          "paper_bgcolor": "white",
          "plot_bgcolor": "#E5ECF6",
          "polar": {
           "angularaxis": {
            "gridcolor": "white",
            "linecolor": "white",
            "ticks": ""
           },
           "bgcolor": "#E5ECF6",
           "radialaxis": {
            "gridcolor": "white",
            "linecolor": "white",
            "ticks": ""
           }
          },
          "scene": {
           "xaxis": {
            "backgroundcolor": "#E5ECF6",
            "gridcolor": "white",
            "gridwidth": 2,
            "linecolor": "white",
            "showbackground": true,
            "ticks": "",
            "zerolinecolor": "white"
           },
           "yaxis": {
            "backgroundcolor": "#E5ECF6",
            "gridcolor": "white",
            "gridwidth": 2,
            "linecolor": "white",
            "showbackground": true,
            "ticks": "",
            "zerolinecolor": "white"
           },
           "zaxis": {
            "backgroundcolor": "#E5ECF6",
            "gridcolor": "white",
            "gridwidth": 2,
            "linecolor": "white",
            "showbackground": true,
            "ticks": "",
            "zerolinecolor": "white"
           }
          },
          "shapedefaults": {
           "line": {
            "color": "#2a3f5f"
           }
          },
          "ternary": {
           "aaxis": {
            "gridcolor": "white",
            "linecolor": "white",
            "ticks": ""
           },
           "baxis": {
            "gridcolor": "white",
            "linecolor": "white",
            "ticks": ""
           },
           "bgcolor": "#E5ECF6",
           "caxis": {
            "gridcolor": "white",
            "linecolor": "white",
            "ticks": ""
           }
          },
          "title": {
           "x": 0.05
          },
          "xaxis": {
           "automargin": true,
           "gridcolor": "white",
           "linecolor": "white",
           "ticks": "",
           "title": {
            "standoff": 15
           },
           "zerolinecolor": "white",
           "zerolinewidth": 2
          },
          "yaxis": {
           "automargin": true,
           "gridcolor": "white",
           "linecolor": "white",
           "ticks": "",
           "title": {
            "standoff": 15
           },
           "zerolinecolor": "white",
           "zerolinewidth": 2
          }
         }
        },
        "title": {
         "text": "Optimization History Plot"
        },
        "xaxis": {
         "title": {
          "text": "Trial"
         }
        },
        "yaxis": {
         "title": {
          "text": "Objective Value"
         }
        }
       }
      }
     },
     "metadata": {},
     "output_type": "display_data"
    },
    {
     "data": {
      "application/vnd.plotly.v1+json": {
       "config": {
        "plotlyServerURL": "https://plot.ly"
       },
       "data": [
        {
         "cliponaxis": false,
         "hovertemplate": [
          "l1_ratio (FloatDistribution): 1.5452192236020118e-07<extra></extra>",
          "alpha (FloatDistribution): 0.0007333790296317312<extra></extra>",
          "fit_intercept (CategoricalDistribution): 0.9992664664484459<extra></extra>"
         ],
         "marker": {
          "color": "rgb(66,146,198)"
         },
         "orientation": "h",
         "text": [
          "<0.01",
          "<0.01",
          "1.00"
         ],
         "textposition": "outside",
         "type": "bar",
         "x": [
          1.5452192236020118e-7,
          0.0007333790296317312,
          0.9992664664484459
         ],
         "y": [
          "l1_ratio",
          "alpha",
          "fit_intercept"
         ]
        }
       ],
       "layout": {
        "showlegend": false,
        "template": {
         "data": {
          "bar": [
           {
            "error_x": {
             "color": "#2a3f5f"
            },
            "error_y": {
             "color": "#2a3f5f"
            },
            "marker": {
             "line": {
              "color": "#E5ECF6",
              "width": 0.5
             },
             "pattern": {
              "fillmode": "overlay",
              "size": 10,
              "solidity": 0.2
             }
            },
            "type": "bar"
           }
          ],
          "barpolar": [
           {
            "marker": {
             "line": {
              "color": "#E5ECF6",
              "width": 0.5
             },
             "pattern": {
              "fillmode": "overlay",
              "size": 10,
              "solidity": 0.2
             }
            },
            "type": "barpolar"
           }
          ],
          "carpet": [
           {
            "aaxis": {
             "endlinecolor": "#2a3f5f",
             "gridcolor": "white",
             "linecolor": "white",
             "minorgridcolor": "white",
             "startlinecolor": "#2a3f5f"
            },
            "baxis": {
             "endlinecolor": "#2a3f5f",
             "gridcolor": "white",
             "linecolor": "white",
             "minorgridcolor": "white",
             "startlinecolor": "#2a3f5f"
            },
            "type": "carpet"
           }
          ],
          "choropleth": [
           {
            "colorbar": {
             "outlinewidth": 0,
             "ticks": ""
            },
            "type": "choropleth"
           }
          ],
          "contour": [
           {
            "colorbar": {
             "outlinewidth": 0,
             "ticks": ""
            },
            "colorscale": [
             [
              0,
              "#0d0887"
             ],
             [
              0.1111111111111111,
              "#46039f"
             ],
             [
              0.2222222222222222,
              "#7201a8"
             ],
             [
              0.3333333333333333,
              "#9c179e"
             ],
             [
              0.4444444444444444,
              "#bd3786"
             ],
             [
              0.5555555555555556,
              "#d8576b"
             ],
             [
              0.6666666666666666,
              "#ed7953"
             ],
             [
              0.7777777777777778,
              "#fb9f3a"
             ],
             [
              0.8888888888888888,
              "#fdca26"
             ],
             [
              1,
              "#f0f921"
             ]
            ],
            "type": "contour"
           }
          ],
          "contourcarpet": [
           {
            "colorbar": {
             "outlinewidth": 0,
             "ticks": ""
            },
            "type": "contourcarpet"
           }
          ],
          "heatmap": [
           {
            "colorbar": {
             "outlinewidth": 0,
             "ticks": ""
            },
            "colorscale": [
             [
              0,
              "#0d0887"
             ],
             [
              0.1111111111111111,
              "#46039f"
             ],
             [
              0.2222222222222222,
              "#7201a8"
             ],
             [
              0.3333333333333333,
              "#9c179e"
             ],
             [
              0.4444444444444444,
              "#bd3786"
             ],
             [
              0.5555555555555556,
              "#d8576b"
             ],
             [
              0.6666666666666666,
              "#ed7953"
             ],
             [
              0.7777777777777778,
              "#fb9f3a"
             ],
             [
              0.8888888888888888,
              "#fdca26"
             ],
             [
              1,
              "#f0f921"
             ]
            ],
            "type": "heatmap"
           }
          ],
          "heatmapgl": [
           {
            "colorbar": {
             "outlinewidth": 0,
             "ticks": ""
            },
            "colorscale": [
             [
              0,
              "#0d0887"
             ],
             [
              0.1111111111111111,
              "#46039f"
             ],
             [
              0.2222222222222222,
              "#7201a8"
             ],
             [
              0.3333333333333333,
              "#9c179e"
             ],
             [
              0.4444444444444444,
              "#bd3786"
             ],
             [
              0.5555555555555556,
              "#d8576b"
             ],
             [
              0.6666666666666666,
              "#ed7953"
             ],
             [
              0.7777777777777778,
              "#fb9f3a"
             ],
             [
              0.8888888888888888,
              "#fdca26"
             ],
             [
              1,
              "#f0f921"
             ]
            ],
            "type": "heatmapgl"
           }
          ],
          "histogram": [
           {
            "marker": {
             "pattern": {
              "fillmode": "overlay",
              "size": 10,
              "solidity": 0.2
             }
            },
            "type": "histogram"
           }
          ],
          "histogram2d": [
           {
            "colorbar": {
             "outlinewidth": 0,
             "ticks": ""
            },
            "colorscale": [
             [
              0,
              "#0d0887"
             ],
             [
              0.1111111111111111,
              "#46039f"
             ],
             [
              0.2222222222222222,
              "#7201a8"
             ],
             [
              0.3333333333333333,
              "#9c179e"
             ],
             [
              0.4444444444444444,
              "#bd3786"
             ],
             [
              0.5555555555555556,
              "#d8576b"
             ],
             [
              0.6666666666666666,
              "#ed7953"
             ],
             [
              0.7777777777777778,
              "#fb9f3a"
             ],
             [
              0.8888888888888888,
              "#fdca26"
             ],
             [
              1,
              "#f0f921"
             ]
            ],
            "type": "histogram2d"
           }
          ],
          "histogram2dcontour": [
           {
            "colorbar": {
             "outlinewidth": 0,
             "ticks": ""
            },
            "colorscale": [
             [
              0,
              "#0d0887"
             ],
             [
              0.1111111111111111,
              "#46039f"
             ],
             [
              0.2222222222222222,
              "#7201a8"
             ],
             [
              0.3333333333333333,
              "#9c179e"
             ],
             [
              0.4444444444444444,
              "#bd3786"
             ],
             [
              0.5555555555555556,
              "#d8576b"
             ],
             [
              0.6666666666666666,
              "#ed7953"
             ],
             [
              0.7777777777777778,
              "#fb9f3a"
             ],
             [
              0.8888888888888888,
              "#fdca26"
             ],
             [
              1,
              "#f0f921"
             ]
            ],
            "type": "histogram2dcontour"
           }
          ],
          "mesh3d": [
           {
            "colorbar": {
             "outlinewidth": 0,
             "ticks": ""
            },
            "type": "mesh3d"
           }
          ],
          "parcoords": [
           {
            "line": {
             "colorbar": {
              "outlinewidth": 0,
              "ticks": ""
             }
            },
            "type": "parcoords"
           }
          ],
          "pie": [
           {
            "automargin": true,
            "type": "pie"
           }
          ],
          "scatter": [
           {
            "fillpattern": {
             "fillmode": "overlay",
             "size": 10,
             "solidity": 0.2
            },
            "type": "scatter"
           }
          ],
          "scatter3d": [
           {
            "line": {
             "colorbar": {
              "outlinewidth": 0,
              "ticks": ""
             }
            },
            "marker": {
             "colorbar": {
              "outlinewidth": 0,
              "ticks": ""
             }
            },
            "type": "scatter3d"
           }
          ],
          "scattercarpet": [
           {
            "marker": {
             "colorbar": {
              "outlinewidth": 0,
              "ticks": ""
             }
            },
            "type": "scattercarpet"
           }
          ],
          "scattergeo": [
           {
            "marker": {
             "colorbar": {
              "outlinewidth": 0,
              "ticks": ""
             }
            },
            "type": "scattergeo"
           }
          ],
          "scattergl": [
           {
            "marker": {
             "colorbar": {
              "outlinewidth": 0,
              "ticks": ""
             }
            },
            "type": "scattergl"
           }
          ],
          "scattermapbox": [
           {
            "marker": {
             "colorbar": {
              "outlinewidth": 0,
              "ticks": ""
             }
            },
            "type": "scattermapbox"
           }
          ],
          "scatterpolar": [
           {
            "marker": {
             "colorbar": {
              "outlinewidth": 0,
              "ticks": ""
             }
            },
            "type": "scatterpolar"
           }
          ],
          "scatterpolargl": [
           {
            "marker": {
             "colorbar": {
              "outlinewidth": 0,
              "ticks": ""
             }
            },
            "type": "scatterpolargl"
           }
          ],
          "scatterternary": [
           {
            "marker": {
             "colorbar": {
              "outlinewidth": 0,
              "ticks": ""
             }
            },
            "type": "scatterternary"
           }
          ],
          "surface": [
           {
            "colorbar": {
             "outlinewidth": 0,
             "ticks": ""
            },
            "colorscale": [
             [
              0,
              "#0d0887"
             ],
             [
              0.1111111111111111,
              "#46039f"
             ],
             [
              0.2222222222222222,
              "#7201a8"
             ],
             [
              0.3333333333333333,
              "#9c179e"
             ],
             [
              0.4444444444444444,
              "#bd3786"
             ],
             [
              0.5555555555555556,
              "#d8576b"
             ],
             [
              0.6666666666666666,
              "#ed7953"
             ],
             [
              0.7777777777777778,
              "#fb9f3a"
             ],
             [
              0.8888888888888888,
              "#fdca26"
             ],
             [
              1,
              "#f0f921"
             ]
            ],
            "type": "surface"
           }
          ],
          "table": [
           {
            "cells": {
             "fill": {
              "color": "#EBF0F8"
             },
             "line": {
              "color": "white"
             }
            },
            "header": {
             "fill": {
              "color": "#C8D4E3"
             },
             "line": {
              "color": "white"
             }
            },
            "type": "table"
           }
          ]
         },
         "layout": {
          "annotationdefaults": {
           "arrowcolor": "#2a3f5f",
           "arrowhead": 0,
           "arrowwidth": 1
          },
          "autotypenumbers": "strict",
          "coloraxis": {
           "colorbar": {
            "outlinewidth": 0,
            "ticks": ""
           }
          },
          "colorscale": {
           "diverging": [
            [
             0,
             "#8e0152"
            ],
            [
             0.1,
             "#c51b7d"
            ],
            [
             0.2,
             "#de77ae"
            ],
            [
             0.3,
             "#f1b6da"
            ],
            [
             0.4,
             "#fde0ef"
            ],
            [
             0.5,
             "#f7f7f7"
            ],
            [
             0.6,
             "#e6f5d0"
            ],
            [
             0.7,
             "#b8e186"
            ],
            [
             0.8,
             "#7fbc41"
            ],
            [
             0.9,
             "#4d9221"
            ],
            [
             1,
             "#276419"
            ]
           ],
           "sequential": [
            [
             0,
             "#0d0887"
            ],
            [
             0.1111111111111111,
             "#46039f"
            ],
            [
             0.2222222222222222,
             "#7201a8"
            ],
            [
             0.3333333333333333,
             "#9c179e"
            ],
            [
             0.4444444444444444,
             "#bd3786"
            ],
            [
             0.5555555555555556,
             "#d8576b"
            ],
            [
             0.6666666666666666,
             "#ed7953"
            ],
            [
             0.7777777777777778,
             "#fb9f3a"
            ],
            [
             0.8888888888888888,
             "#fdca26"
            ],
            [
             1,
             "#f0f921"
            ]
           ],
           "sequentialminus": [
            [
             0,
             "#0d0887"
            ],
            [
             0.1111111111111111,
             "#46039f"
            ],
            [
             0.2222222222222222,
             "#7201a8"
            ],
            [
             0.3333333333333333,
             "#9c179e"
            ],
            [
             0.4444444444444444,
             "#bd3786"
            ],
            [
             0.5555555555555556,
             "#d8576b"
            ],
            [
             0.6666666666666666,
             "#ed7953"
            ],
            [
             0.7777777777777778,
             "#fb9f3a"
            ],
            [
             0.8888888888888888,
             "#fdca26"
            ],
            [
             1,
             "#f0f921"
            ]
           ]
          },
          "colorway": [
           "#636efa",
           "#EF553B",
           "#00cc96",
           "#ab63fa",
           "#FFA15A",
           "#19d3f3",
           "#FF6692",
           "#B6E880",
           "#FF97FF",
           "#FECB52"
          ],
          "font": {
           "color": "#2a3f5f"
          },
          "geo": {
           "bgcolor": "white",
           "lakecolor": "white",
           "landcolor": "#E5ECF6",
           "showlakes": true,
           "showland": true,
           "subunitcolor": "white"
          },
          "hoverlabel": {
           "align": "left"
          },
          "hovermode": "closest",
          "mapbox": {
           "style": "light"
          },
          "paper_bgcolor": "white",
          "plot_bgcolor": "#E5ECF6",
          "polar": {
           "angularaxis": {
            "gridcolor": "white",
            "linecolor": "white",
            "ticks": ""
           },
           "bgcolor": "#E5ECF6",
           "radialaxis": {
            "gridcolor": "white",
            "linecolor": "white",
            "ticks": ""
           }
          },
          "scene": {
           "xaxis": {
            "backgroundcolor": "#E5ECF6",
            "gridcolor": "white",
            "gridwidth": 2,
            "linecolor": "white",
            "showbackground": true,
            "ticks": "",
            "zerolinecolor": "white"
           },
           "yaxis": {
            "backgroundcolor": "#E5ECF6",
            "gridcolor": "white",
            "gridwidth": 2,
            "linecolor": "white",
            "showbackground": true,
            "ticks": "",
            "zerolinecolor": "white"
           },
           "zaxis": {
            "backgroundcolor": "#E5ECF6",
            "gridcolor": "white",
            "gridwidth": 2,
            "linecolor": "white",
            "showbackground": true,
            "ticks": "",
            "zerolinecolor": "white"
           }
          },
          "shapedefaults": {
           "line": {
            "color": "#2a3f5f"
           }
          },
          "ternary": {
           "aaxis": {
            "gridcolor": "white",
            "linecolor": "white",
            "ticks": ""
           },
           "baxis": {
            "gridcolor": "white",
            "linecolor": "white",
            "ticks": ""
           },
           "bgcolor": "#E5ECF6",
           "caxis": {
            "gridcolor": "white",
            "linecolor": "white",
            "ticks": ""
           }
          },
          "title": {
           "x": 0.05
          },
          "xaxis": {
           "automargin": true,
           "gridcolor": "white",
           "linecolor": "white",
           "ticks": "",
           "title": {
            "standoff": 15
           },
           "zerolinecolor": "white",
           "zerolinewidth": 2
          },
          "yaxis": {
           "automargin": true,
           "gridcolor": "white",
           "linecolor": "white",
           "ticks": "",
           "title": {
            "standoff": 15
           },
           "zerolinecolor": "white",
           "zerolinewidth": 2
          }
         }
        },
        "title": {
         "text": "Hyperparameter Importances"
        },
        "xaxis": {
         "title": {
          "text": "Importance for Objective Value"
         }
        },
        "yaxis": {
         "title": {
          "text": "Hyperparameter"
         }
        }
       }
      }
     },
     "metadata": {},
     "output_type": "display_data"
    },
    {
     "name": "stdout",
     "output_type": "stream",
     "text": [
      "Best trial: -0.09123963516753816\n",
      "Best parameters: {'alpha': 1.7151596276830722e-05, 'l1_ratio': 0.43053560028592314, 'fit_intercept': True}\n"
     ]
    }
   ],
   "source": [
    "# define o espaço de busca e a função objetivo\n",
    "def objective_elasticnet(\n",
    "\t\ttrial: opt.trial.Trial,\n",
    "\t\tX: pd.DataFrame,\n",
    "\t\ty: pd.DataFrame,\n",
    "\t) -> float:\n",
    "\testimator = ElasticNet(\n",
    "\t\talpha=trial.suggest_loguniform('alpha', 1e-5, 1e-1),\n",
    "\t\tl1_ratio=trial.suggest_uniform('l1_ratio', 0.0, 1.0),\n",
    "\t\tfit_intercept=trial.suggest_categorical('fit_intercept', [True, False]),\n",
    "\t)\n",
    "\ttrial.set_user_attr(key='estimator', value=estimator)\n",
    "\tscore = cross_val_score(estimator, X, y, n_jobs=-1, cv=5, scoring='neg_root_mean_squared_error')\n",
    "\treturn score.mean()\n",
    "\n",
    "np.seterr(divide='ignore', invalid='ignore')\n",
    "\n",
    "# rotina de otimização bayesiana\n",
    "elasticnet_model = optimize(\n",
    "\tobjective=objective_elasticnet, \n",
    "\tdescription='elasticnet_risk', n_trials=150,\n",
    "\tX=data_train, y=targets_train, X_test=data_test, y_test=targets_test,)"
   ]
  },
  {
   "attachments": {},
   "cell_type": "markdown",
   "metadata": {},
   "source": [
    "#### random forest"
   ]
  },
  {
   "cell_type": "code",
   "execution_count": 15,
   "metadata": {},
   "outputs": [
    {
     "data": {
      "application/vnd.jupyter.widget-view+json": {
       "model_id": "9234ba63ff2c4feb9e5a6d961d5ba16a",
       "version_major": 2,
       "version_minor": 0
      },
      "text/plain": [
       "  0%|          | 0/100 [00:00<?, ?it/s]"
      ]
     },
     "metadata": {},
     "output_type": "display_data"
    },
    {
     "data": {
      "text/html": [
       "<div>\n",
       "<style scoped>\n",
       "    .dataframe tbody tr th:only-of-type {\n",
       "        vertical-align: middle;\n",
       "    }\n",
       "\n",
       "    .dataframe tbody tr th {\n",
       "        vertical-align: top;\n",
       "    }\n",
       "\n",
       "    .dataframe thead th {\n",
       "        text-align: right;\n",
       "    }\n",
       "</style>\n",
       "<table border=\"1\" class=\"dataframe\">\n",
       "  <thead>\n",
       "    <tr style=\"text-align: right;\">\n",
       "      <th></th>\n",
       "      <th>validation</th>\n",
       "      <th>test</th>\n",
       "    </tr>\n",
       "  </thead>\n",
       "  <tbody>\n",
       "    <tr>\n",
       "      <th>mae</th>\n",
       "      <td>0.0308</td>\n",
       "      <td>0.0409</td>\n",
       "    </tr>\n",
       "    <tr>\n",
       "      <th>rmse</th>\n",
       "      <td>0.0413</td>\n",
       "      <td>0.0547</td>\n",
       "    </tr>\n",
       "    <tr>\n",
       "      <th>r2</th>\n",
       "      <td>0.8899</td>\n",
       "      <td>0.8161</td>\n",
       "    </tr>\n",
       "  </tbody>\n",
       "</table>\n",
       "</div>"
      ],
      "text/plain": [
       "      validation   test\n",
       "mae       0.0308 0.0409\n",
       "rmse      0.0413 0.0547\n",
       "r2        0.8899 0.8161"
      ]
     },
     "metadata": {},
     "output_type": "display_data"
    },
    {
     "data": {
      "application/vnd.plotly.v1+json": {
       "config": {
        "plotlyServerURL": "https://plot.ly"
       },
       "data": [
        {
         "mode": "markers",
         "name": "Objective Value",
         "type": "scatter",
         "x": [
          0,
          1,
          2,
          3,
          4,
          5,
          6,
          7,
          8,
          9,
          10,
          11,
          12,
          13,
          14,
          15,
          16,
          17,
          18,
          19,
          20,
          21,
          22,
          23,
          24,
          25,
          26,
          27,
          28,
          29,
          30,
          31,
          32,
          33,
          34,
          35,
          36,
          37,
          38,
          39,
          40,
          41,
          42,
          43,
          44,
          45,
          46,
          47,
          48,
          49,
          50,
          51,
          52,
          53,
          54,
          55,
          56,
          57,
          58,
          59,
          60,
          61,
          62,
          63,
          64,
          65,
          66,
          67,
          68,
          69,
          70,
          71,
          72,
          73,
          74,
          75,
          76,
          77,
          78,
          79,
          80,
          81,
          82,
          83,
          84,
          85,
          86,
          87,
          88,
          89,
          90,
          91,
          92,
          93,
          94,
          95,
          96,
          97,
          98,
          99
         ],
         "y": [
          -0.06440775601645299,
          -0.06105828457861876,
          -0.06128275986635419,
          -0.07277854496118055,
          -0.06022172682733044,
          -0.06864586488859373,
          -0.06874794280044494,
          -0.07035562121374439,
          -0.06586903621753198,
          -0.0645736894711052,
          -0.060586182075786234,
          -0.06557712648532386,
          -0.06141043923612246,
          -0.0586623424220444,
          -0.06901591893937106,
          -0.06359660635969581,
          -0.06300949904110806,
          -0.07081605730052191,
          -0.06574912975016863,
          -0.07111900716742428,
          -0.06628659422375927,
          -0.07164246929405518,
          -0.06558277219042197,
          -0.06666221103163514,
          -0.06259637670677569,
          -0.07020983164757362,
          -0.06149953677604786,
          -0.07163875316177543,
          -0.06675338504645355,
          -0.06629074730533886,
          -0.05756145480137161,
          -0.06375175026202087,
          -0.06693703641460527,
          -0.06310470090374104,
          -0.06264366249478198,
          -0.0631328983375299,
          -0.06311735289000074,
          -0.06133652030477608,
          -0.06235125492558742,
          -0.06248732872420507,
          -0.062414197265049244,
          -0.06243146658208289,
          -0.06256365516857879,
          -0.06210922595775995,
          -0.06238326103863412,
          -0.06288092222850158,
          -0.05862449405128821,
          -0.058763507252630506,
          -0.058931639726316154,
          -0.0587720702745223,
          -0.05894234234336546,
          -0.059243217367587274,
          -0.05841203944805736,
          -0.05855190104884189,
          -0.05887640895789483,
          -0.05851837505889458,
          -0.0587798569987115,
          -0.05540078832594468,
          -0.057400306096415,
          -0.05808230897652492,
          -0.06036887051590369,
          -0.0602538905799467,
          -0.05958620848619493,
          -0.05921832244434899,
          -0.05917602210034177,
          -0.06016097408925401,
          -0.06026687140940683,
          -0.06015043311884967,
          -0.06012103651638201,
          -0.05996800000644474,
          -0.06039352094030738,
          -0.05889459773069479,
          -0.06019582938446431,
          -0.06026912967696111,
          -0.06022931094245065,
          -0.060234712171777914,
          -0.05894508445845481,
          -0.058727679361375094,
          -0.05910183363920683,
          -0.05881475551311253,
          -0.05799628853189935,
          -0.056875429039962,
          -0.05701179130897386,
          -0.05715400887838865,
          -0.05826134673508372,
          -0.05704542240444503,
          -0.057298146382482575,
          -0.056961377134056114,
          -0.05994221977948884,
          -0.06003867610592377,
          -0.06002317686879284,
          -0.05889041085028707,
          -0.05745600969580611,
          -0.06002044562700195,
          -0.05881059032767799,
          -0.05729644307594506,
          -0.05831045680819029,
          -0.059434745787867393,
          -0.06244766485658426,
          -0.06094338572518191
         ]
        },
        {
         "name": "Best Value",
         "type": "scatter",
         "x": [
          0,
          1,
          2,
          3,
          4,
          5,
          6,
          7,
          8,
          9,
          10,
          11,
          12,
          13,
          14,
          15,
          16,
          17,
          18,
          19,
          20,
          21,
          22,
          23,
          24,
          25,
          26,
          27,
          28,
          29,
          30,
          31,
          32,
          33,
          34,
          35,
          36,
          37,
          38,
          39,
          40,
          41,
          42,
          43,
          44,
          45,
          46,
          47,
          48,
          49,
          50,
          51,
          52,
          53,
          54,
          55,
          56,
          57,
          58,
          59,
          60,
          61,
          62,
          63,
          64,
          65,
          66,
          67,
          68,
          69,
          70,
          71,
          72,
          73,
          74,
          75,
          76,
          77,
          78,
          79,
          80,
          81,
          82,
          83,
          84,
          85,
          86,
          87,
          88,
          89,
          90,
          91,
          92,
          93,
          94,
          95,
          96,
          97,
          98,
          99
         ],
         "y": [
          -0.06440775601645299,
          -0.06105828457861876,
          -0.06105828457861876,
          -0.06105828457861876,
          -0.06022172682733044,
          -0.06022172682733044,
          -0.06022172682733044,
          -0.06022172682733044,
          -0.06022172682733044,
          -0.06022172682733044,
          -0.06022172682733044,
          -0.06022172682733044,
          -0.06022172682733044,
          -0.0586623424220444,
          -0.0586623424220444,
          -0.0586623424220444,
          -0.0586623424220444,
          -0.0586623424220444,
          -0.0586623424220444,
          -0.0586623424220444,
          -0.0586623424220444,
          -0.0586623424220444,
          -0.0586623424220444,
          -0.0586623424220444,
          -0.0586623424220444,
          -0.0586623424220444,
          -0.0586623424220444,
          -0.0586623424220444,
          -0.0586623424220444,
          -0.0586623424220444,
          -0.05756145480137161,
          -0.05756145480137161,
          -0.05756145480137161,
          -0.05756145480137161,
          -0.05756145480137161,
          -0.05756145480137161,
          -0.05756145480137161,
          -0.05756145480137161,
          -0.05756145480137161,
          -0.05756145480137161,
          -0.05756145480137161,
          -0.05756145480137161,
          -0.05756145480137161,
          -0.05756145480137161,
          -0.05756145480137161,
          -0.05756145480137161,
          -0.05756145480137161,
          -0.05756145480137161,
          -0.05756145480137161,
          -0.05756145480137161,
          -0.05756145480137161,
          -0.05756145480137161,
          -0.05756145480137161,
          -0.05756145480137161,
          -0.05756145480137161,
          -0.05756145480137161,
          -0.05756145480137161,
          -0.05540078832594468,
          -0.05540078832594468,
          -0.05540078832594468,
          -0.05540078832594468,
          -0.05540078832594468,
          -0.05540078832594468,
          -0.05540078832594468,
          -0.05540078832594468,
          -0.05540078832594468,
          -0.05540078832594468,
          -0.05540078832594468,
          -0.05540078832594468,
          -0.05540078832594468,
          -0.05540078832594468,
          -0.05540078832594468,
          -0.05540078832594468,
          -0.05540078832594468,
          -0.05540078832594468,
          -0.05540078832594468,
          -0.05540078832594468,
          -0.05540078832594468,
          -0.05540078832594468,
          -0.05540078832594468,
          -0.05540078832594468,
          -0.05540078832594468,
          -0.05540078832594468,
          -0.05540078832594468,
          -0.05540078832594468,
          -0.05540078832594468,
          -0.05540078832594468,
          -0.05540078832594468,
          -0.05540078832594468,
          -0.05540078832594468,
          -0.05540078832594468,
          -0.05540078832594468,
          -0.05540078832594468,
          -0.05540078832594468,
          -0.05540078832594468,
          -0.05540078832594468,
          -0.05540078832594468,
          -0.05540078832594468,
          -0.05540078832594468,
          -0.05540078832594468
         ]
        }
       ],
       "layout": {
        "template": {
         "data": {
          "bar": [
           {
            "error_x": {
             "color": "#2a3f5f"
            },
            "error_y": {
             "color": "#2a3f5f"
            },
            "marker": {
             "line": {
              "color": "#E5ECF6",
              "width": 0.5
             },
             "pattern": {
              "fillmode": "overlay",
              "size": 10,
              "solidity": 0.2
             }
            },
            "type": "bar"
           }
          ],
          "barpolar": [
           {
            "marker": {
             "line": {
              "color": "#E5ECF6",
              "width": 0.5
             },
             "pattern": {
              "fillmode": "overlay",
              "size": 10,
              "solidity": 0.2
             }
            },
            "type": "barpolar"
           }
          ],
          "carpet": [
           {
            "aaxis": {
             "endlinecolor": "#2a3f5f",
             "gridcolor": "white",
             "linecolor": "white",
             "minorgridcolor": "white",
             "startlinecolor": "#2a3f5f"
            },
            "baxis": {
             "endlinecolor": "#2a3f5f",
             "gridcolor": "white",
             "linecolor": "white",
             "minorgridcolor": "white",
             "startlinecolor": "#2a3f5f"
            },
            "type": "carpet"
           }
          ],
          "choropleth": [
           {
            "colorbar": {
             "outlinewidth": 0,
             "ticks": ""
            },
            "type": "choropleth"
           }
          ],
          "contour": [
           {
            "colorbar": {
             "outlinewidth": 0,
             "ticks": ""
            },
            "colorscale": [
             [
              0,
              "#0d0887"
             ],
             [
              0.1111111111111111,
              "#46039f"
             ],
             [
              0.2222222222222222,
              "#7201a8"
             ],
             [
              0.3333333333333333,
              "#9c179e"
             ],
             [
              0.4444444444444444,
              "#bd3786"
             ],
             [
              0.5555555555555556,
              "#d8576b"
             ],
             [
              0.6666666666666666,
              "#ed7953"
             ],
             [
              0.7777777777777778,
              "#fb9f3a"
             ],
             [
              0.8888888888888888,
              "#fdca26"
             ],
             [
              1,
              "#f0f921"
             ]
            ],
            "type": "contour"
           }
          ],
          "contourcarpet": [
           {
            "colorbar": {
             "outlinewidth": 0,
             "ticks": ""
            },
            "type": "contourcarpet"
           }
          ],
          "heatmap": [
           {
            "colorbar": {
             "outlinewidth": 0,
             "ticks": ""
            },
            "colorscale": [
             [
              0,
              "#0d0887"
             ],
             [
              0.1111111111111111,
              "#46039f"
             ],
             [
              0.2222222222222222,
              "#7201a8"
             ],
             [
              0.3333333333333333,
              "#9c179e"
             ],
             [
              0.4444444444444444,
              "#bd3786"
             ],
             [
              0.5555555555555556,
              "#d8576b"
             ],
             [
              0.6666666666666666,
              "#ed7953"
             ],
             [
              0.7777777777777778,
              "#fb9f3a"
             ],
             [
              0.8888888888888888,
              "#fdca26"
             ],
             [
              1,
              "#f0f921"
             ]
            ],
            "type": "heatmap"
           }
          ],
          "heatmapgl": [
           {
            "colorbar": {
             "outlinewidth": 0,
             "ticks": ""
            },
            "colorscale": [
             [
              0,
              "#0d0887"
             ],
             [
              0.1111111111111111,
              "#46039f"
             ],
             [
              0.2222222222222222,
              "#7201a8"
             ],
             [
              0.3333333333333333,
              "#9c179e"
             ],
             [
              0.4444444444444444,
              "#bd3786"
             ],
             [
              0.5555555555555556,
              "#d8576b"
             ],
             [
              0.6666666666666666,
              "#ed7953"
             ],
             [
              0.7777777777777778,
              "#fb9f3a"
             ],
             [
              0.8888888888888888,
              "#fdca26"
             ],
             [
              1,
              "#f0f921"
             ]
            ],
            "type": "heatmapgl"
           }
          ],
          "histogram": [
           {
            "marker": {
             "pattern": {
              "fillmode": "overlay",
              "size": 10,
              "solidity": 0.2
             }
            },
            "type": "histogram"
           }
          ],
          "histogram2d": [
           {
            "colorbar": {
             "outlinewidth": 0,
             "ticks": ""
            },
            "colorscale": [
             [
              0,
              "#0d0887"
             ],
             [
              0.1111111111111111,
              "#46039f"
             ],
             [
              0.2222222222222222,
              "#7201a8"
             ],
             [
              0.3333333333333333,
              "#9c179e"
             ],
             [
              0.4444444444444444,
              "#bd3786"
             ],
             [
              0.5555555555555556,
              "#d8576b"
             ],
             [
              0.6666666666666666,
              "#ed7953"
             ],
             [
              0.7777777777777778,
              "#fb9f3a"
             ],
             [
              0.8888888888888888,
              "#fdca26"
             ],
             [
              1,
              "#f0f921"
             ]
            ],
            "type": "histogram2d"
           }
          ],
          "histogram2dcontour": [
           {
            "colorbar": {
             "outlinewidth": 0,
             "ticks": ""
            },
            "colorscale": [
             [
              0,
              "#0d0887"
             ],
             [
              0.1111111111111111,
              "#46039f"
             ],
             [
              0.2222222222222222,
              "#7201a8"
             ],
             [
              0.3333333333333333,
              "#9c179e"
             ],
             [
              0.4444444444444444,
              "#bd3786"
             ],
             [
              0.5555555555555556,
              "#d8576b"
             ],
             [
              0.6666666666666666,
              "#ed7953"
             ],
             [
              0.7777777777777778,
              "#fb9f3a"
             ],
             [
              0.8888888888888888,
              "#fdca26"
             ],
             [
              1,
              "#f0f921"
             ]
            ],
            "type": "histogram2dcontour"
           }
          ],
          "mesh3d": [
           {
            "colorbar": {
             "outlinewidth": 0,
             "ticks": ""
            },
            "type": "mesh3d"
           }
          ],
          "parcoords": [
           {
            "line": {
             "colorbar": {
              "outlinewidth": 0,
              "ticks": ""
             }
            },
            "type": "parcoords"
           }
          ],
          "pie": [
           {
            "automargin": true,
            "type": "pie"
           }
          ],
          "scatter": [
           {
            "fillpattern": {
             "fillmode": "overlay",
             "size": 10,
             "solidity": 0.2
            },
            "type": "scatter"
           }
          ],
          "scatter3d": [
           {
            "line": {
             "colorbar": {
              "outlinewidth": 0,
              "ticks": ""
             }
            },
            "marker": {
             "colorbar": {
              "outlinewidth": 0,
              "ticks": ""
             }
            },
            "type": "scatter3d"
           }
          ],
          "scattercarpet": [
           {
            "marker": {
             "colorbar": {
              "outlinewidth": 0,
              "ticks": ""
             }
            },
            "type": "scattercarpet"
           }
          ],
          "scattergeo": [
           {
            "marker": {
             "colorbar": {
              "outlinewidth": 0,
              "ticks": ""
             }
            },
            "type": "scattergeo"
           }
          ],
          "scattergl": [
           {
            "marker": {
             "colorbar": {
              "outlinewidth": 0,
              "ticks": ""
             }
            },
            "type": "scattergl"
           }
          ],
          "scattermapbox": [
           {
            "marker": {
             "colorbar": {
              "outlinewidth": 0,
              "ticks": ""
             }
            },
            "type": "scattermapbox"
           }
          ],
          "scatterpolar": [
           {
            "marker": {
             "colorbar": {
              "outlinewidth": 0,
              "ticks": ""
             }
            },
            "type": "scatterpolar"
           }
          ],
          "scatterpolargl": [
           {
            "marker": {
             "colorbar": {
              "outlinewidth": 0,
              "ticks": ""
             }
            },
            "type": "scatterpolargl"
           }
          ],
          "scatterternary": [
           {
            "marker": {
             "colorbar": {
              "outlinewidth": 0,
              "ticks": ""
             }
            },
            "type": "scatterternary"
           }
          ],
          "surface": [
           {
            "colorbar": {
             "outlinewidth": 0,
             "ticks": ""
            },
            "colorscale": [
             [
              0,
              "#0d0887"
             ],
             [
              0.1111111111111111,
              "#46039f"
             ],
             [
              0.2222222222222222,
              "#7201a8"
             ],
             [
              0.3333333333333333,
              "#9c179e"
             ],
             [
              0.4444444444444444,
              "#bd3786"
             ],
             [
              0.5555555555555556,
              "#d8576b"
             ],
             [
              0.6666666666666666,
              "#ed7953"
             ],
             [
              0.7777777777777778,
              "#fb9f3a"
             ],
             [
              0.8888888888888888,
              "#fdca26"
             ],
             [
              1,
              "#f0f921"
             ]
            ],
            "type": "surface"
           }
          ],
          "table": [
           {
            "cells": {
             "fill": {
              "color": "#EBF0F8"
             },
             "line": {
              "color": "white"
             }
            },
            "header": {
             "fill": {
              "color": "#C8D4E3"
             },
             "line": {
              "color": "white"
             }
            },
            "type": "table"
           }
          ]
         },
         "layout": {
          "annotationdefaults": {
           "arrowcolor": "#2a3f5f",
           "arrowhead": 0,
           "arrowwidth": 1
          },
          "autotypenumbers": "strict",
          "coloraxis": {
           "colorbar": {
            "outlinewidth": 0,
            "ticks": ""
           }
          },
          "colorscale": {
           "diverging": [
            [
             0,
             "#8e0152"
            ],
            [
             0.1,
             "#c51b7d"
            ],
            [
             0.2,
             "#de77ae"
            ],
            [
             0.3,
             "#f1b6da"
            ],
            [
             0.4,
             "#fde0ef"
            ],
            [
             0.5,
             "#f7f7f7"
            ],
            [
             0.6,
             "#e6f5d0"
            ],
            [
             0.7,
             "#b8e186"
            ],
            [
             0.8,
             "#7fbc41"
            ],
            [
             0.9,
             "#4d9221"
            ],
            [
             1,
             "#276419"
            ]
           ],
           "sequential": [
            [
             0,
             "#0d0887"
            ],
            [
             0.1111111111111111,
             "#46039f"
            ],
            [
             0.2222222222222222,
             "#7201a8"
            ],
            [
             0.3333333333333333,
             "#9c179e"
            ],
            [
             0.4444444444444444,
             "#bd3786"
            ],
            [
             0.5555555555555556,
             "#d8576b"
            ],
            [
             0.6666666666666666,
             "#ed7953"
            ],
            [
             0.7777777777777778,
             "#fb9f3a"
            ],
            [
             0.8888888888888888,
             "#fdca26"
            ],
            [
             1,
             "#f0f921"
            ]
           ],
           "sequentialminus": [
            [
             0,
             "#0d0887"
            ],
            [
             0.1111111111111111,
             "#46039f"
            ],
            [
             0.2222222222222222,
             "#7201a8"
            ],
            [
             0.3333333333333333,
             "#9c179e"
            ],
            [
             0.4444444444444444,
             "#bd3786"
            ],
            [
             0.5555555555555556,
             "#d8576b"
            ],
            [
             0.6666666666666666,
             "#ed7953"
            ],
            [
             0.7777777777777778,
             "#fb9f3a"
            ],
            [
             0.8888888888888888,
             "#fdca26"
            ],
            [
             1,
             "#f0f921"
            ]
           ]
          },
          "colorway": [
           "#636efa",
           "#EF553B",
           "#00cc96",
           "#ab63fa",
           "#FFA15A",
           "#19d3f3",
           "#FF6692",
           "#B6E880",
           "#FF97FF",
           "#FECB52"
          ],
          "font": {
           "color": "#2a3f5f"
          },
          "geo": {
           "bgcolor": "white",
           "lakecolor": "white",
           "landcolor": "#E5ECF6",
           "showlakes": true,
           "showland": true,
           "subunitcolor": "white"
          },
          "hoverlabel": {
           "align": "left"
          },
          "hovermode": "closest",
          "mapbox": {
           "style": "light"
          },
          "paper_bgcolor": "white",
          "plot_bgcolor": "#E5ECF6",
          "polar": {
           "angularaxis": {
            "gridcolor": "white",
            "linecolor": "white",
            "ticks": ""
           },
           "bgcolor": "#E5ECF6",
           "radialaxis": {
            "gridcolor": "white",
            "linecolor": "white",
            "ticks": ""
           }
          },
          "scene": {
           "xaxis": {
            "backgroundcolor": "#E5ECF6",
            "gridcolor": "white",
            "gridwidth": 2,
            "linecolor": "white",
            "showbackground": true,
            "ticks": "",
            "zerolinecolor": "white"
           },
           "yaxis": {
            "backgroundcolor": "#E5ECF6",
            "gridcolor": "white",
            "gridwidth": 2,
            "linecolor": "white",
            "showbackground": true,
            "ticks": "",
            "zerolinecolor": "white"
           },
           "zaxis": {
            "backgroundcolor": "#E5ECF6",
            "gridcolor": "white",
            "gridwidth": 2,
            "linecolor": "white",
            "showbackground": true,
            "ticks": "",
            "zerolinecolor": "white"
           }
          },
          "shapedefaults": {
           "line": {
            "color": "#2a3f5f"
           }
          },
          "ternary": {
           "aaxis": {
            "gridcolor": "white",
            "linecolor": "white",
            "ticks": ""
           },
           "baxis": {
            "gridcolor": "white",
            "linecolor": "white",
            "ticks": ""
           },
           "bgcolor": "#E5ECF6",
           "caxis": {
            "gridcolor": "white",
            "linecolor": "white",
            "ticks": ""
           }
          },
          "title": {
           "x": 0.05
          },
          "xaxis": {
           "automargin": true,
           "gridcolor": "white",
           "linecolor": "white",
           "ticks": "",
           "title": {
            "standoff": 15
           },
           "zerolinecolor": "white",
           "zerolinewidth": 2
          },
          "yaxis": {
           "automargin": true,
           "gridcolor": "white",
           "linecolor": "white",
           "ticks": "",
           "title": {
            "standoff": 15
           },
           "zerolinecolor": "white",
           "zerolinewidth": 2
          }
         }
        },
        "title": {
         "text": "Optimization History Plot"
        },
        "xaxis": {
         "title": {
          "text": "Trial"
         }
        },
        "yaxis": {
         "title": {
          "text": "Objective Value"
         }
        }
       }
      }
     },
     "metadata": {},
     "output_type": "display_data"
    },
    {
     "name": "stdout",
     "output_type": "stream",
     "text": [
      "Best trial: -0.05540078832594468\n",
      "Best parameters: {'criterion': 'squared_error', 'min_samples_split': 33, 'min_samples_leaf': 2}\n"
     ]
    }
   ],
   "source": [
    "# define o espaço de busca e a função objetivo\n",
    "def objective_random_forests(\n",
    "\t\ttrial: opt.trial.Trial,\n",
    "\t\tX: pd.DataFrame,\n",
    "\t\ty: pd.DataFrame,\n",
    "\t) -> float:\n",
    "\testimator = RandomForestRegressor(\n",
    "\t\tcriterion = trial.suggest_categorical('criterion', ['squared_error', 'friedman_mse', 'absolute_error', 'poisson']),\n",
    "\t\tmin_samples_split = trial.suggest_int('min_samples_split', 2, 100),\n",
    "\t\tmin_samples_leaf = trial.suggest_int('min_samples_leaf', 2, 100),\n",
    "\t)\n",
    "\ttrial.set_user_attr(key='estimator', value=estimator)\n",
    "\tscore = cross_val_score(estimator, X, y, n_jobs=-1, cv=5, scoring='neg_root_mean_squared_error')\n",
    "\treturn score.mean()\n",
    "\n",
    "np.seterr(divide='ignore', invalid='ignore')\n",
    "\n",
    "# rotina de otimização bayesiana\n",
    "random_forests_model = optimize(\n",
    "\tobjective=objective_random_forests, \n",
    "\tdescription='random_forests_risk', n_trials=100,\n",
    "\tX=data_train, y=targets_train, X_test=data_test, y_test=targets_test,)"
   ]
  },
  {
   "attachments": {},
   "cell_type": "markdown",
   "metadata": {},
   "source": [
    "#### xgboost - gbtree"
   ]
  },
  {
   "cell_type": "code",
   "execution_count": 16,
   "metadata": {},
   "outputs": [
    {
     "data": {
      "application/vnd.jupyter.widget-view+json": {
       "model_id": "2b114043a352404aa8ca8b1e8bd05bae",
       "version_major": 2,
       "version_minor": 0
      },
      "text/plain": [
       "  0%|          | 0/100 [00:00<?, ?it/s]"
      ]
     },
     "metadata": {},
     "output_type": "display_data"
    },
    {
     "data": {
      "text/html": [
       "<div>\n",
       "<style scoped>\n",
       "    .dataframe tbody tr th:only-of-type {\n",
       "        vertical-align: middle;\n",
       "    }\n",
       "\n",
       "    .dataframe tbody tr th {\n",
       "        vertical-align: top;\n",
       "    }\n",
       "\n",
       "    .dataframe thead th {\n",
       "        text-align: right;\n",
       "    }\n",
       "</style>\n",
       "<table border=\"1\" class=\"dataframe\">\n",
       "  <thead>\n",
       "    <tr style=\"text-align: right;\">\n",
       "      <th></th>\n",
       "      <th>validation</th>\n",
       "      <th>test</th>\n",
       "    </tr>\n",
       "  </thead>\n",
       "  <tbody>\n",
       "    <tr>\n",
       "      <th>mae</th>\n",
       "      <td>0.0184</td>\n",
       "      <td>0.0372</td>\n",
       "    </tr>\n",
       "    <tr>\n",
       "      <th>rmse</th>\n",
       "      <td>0.0255</td>\n",
       "      <td>0.0519</td>\n",
       "    </tr>\n",
       "    <tr>\n",
       "      <th>r2</th>\n",
       "      <td>0.9580</td>\n",
       "      <td>0.8348</td>\n",
       "    </tr>\n",
       "  </tbody>\n",
       "</table>\n",
       "</div>"
      ],
      "text/plain": [
       "      validation   test\n",
       "mae       0.0184 0.0372\n",
       "rmse      0.0255 0.0519\n",
       "r2        0.9580 0.8348"
      ]
     },
     "metadata": {},
     "output_type": "display_data"
    },
    {
     "data": {
      "application/vnd.plotly.v1+json": {
       "config": {
        "plotlyServerURL": "https://plot.ly"
       },
       "data": [
        {
         "mode": "markers",
         "name": "Objective Value",
         "type": "scatter",
         "x": [
          0,
          1,
          2,
          3,
          4,
          5,
          6,
          7,
          8,
          9,
          10,
          11,
          12,
          13,
          14,
          15,
          16,
          17,
          18,
          19,
          20,
          21,
          22,
          23,
          24,
          25,
          26,
          27,
          28,
          29,
          30,
          31,
          32,
          33,
          34,
          35,
          36,
          37,
          38,
          39,
          40,
          41,
          42,
          43,
          44,
          45,
          46,
          47,
          48,
          49,
          50,
          51,
          52,
          53,
          54,
          55,
          56,
          57,
          58,
          59,
          60,
          61,
          62,
          63,
          64,
          65,
          66,
          67,
          68,
          69,
          70,
          71,
          72,
          73,
          74,
          75,
          76,
          77,
          78,
          79,
          80,
          81,
          82,
          83,
          84,
          85,
          86,
          87,
          88,
          89,
          90,
          91,
          92,
          93,
          94,
          95,
          96,
          97,
          98,
          99
         ],
         "y": [
          -0.2725460648536682,
          -0.23916981518268585,
          -0.05506014823913574,
          -0.2725460648536682,
          -0.2725460648536682,
          -0.2723785161972046,
          -0.21830250322818756,
          -0.2725460648536682,
          -0.12441708445549012,
          -0.05789959654211998,
          -0.24713118970394135,
          -0.2725460648536682,
          -0.2725460648536682,
          -0.2725460648536682,
          -0.27254368662834166,
          -0.26271443963050845,
          -0.05451750233769417,
          -0.2724161744117737,
          -0.27253281474113467,
          -0.2725275158882141,
          -0.20771316885948182,
          -0.26712592840194704,
          -0.2711166262626648,
          -0.272019761800766,
          -0.2725460648536682,
          -0.06646061837673187,
          -0.26959003806114196,
          -0.27247449159622195,
          -0.2677223920822144,
          -0.2664803326129913,
          -0.05790785476565361,
          -0.27254378199577334,
          -0.27186319231987,
          -0.05325470417737961,
          -0.062497003376483916,
          -0.05714216083288193,
          -0.056483573466539386,
          -0.05933325961232185,
          -0.06432141885161399,
          -0.06048669964075089,
          -0.060043339431285855,
          -0.05613076612353325,
          -0.05655201226472854,
          -0.058927761018276216,
          -0.06537242084741593,
          -0.06302727833390236,
          -0.05784546732902527,
          -0.057969027757644655,
          -0.05773754343390465,
          -0.058592517673969266,
          -0.06246373429894447,
          -0.06479512006044388,
          -0.0536858506500721,
          -0.06056325435638428,
          -0.05578488036990166,
          -0.05604501664638519,
          -0.05652441456913948,
          -0.05726852491497993,
          -0.05651698186993599,
          -0.10437069535255432,
          -0.10284730345010758,
          -0.05661829337477684,
          -0.065381520986557,
          -0.11530968397855759,
          -0.06672885715961456,
          -0.06938779056072235,
          -0.07104025632143021,
          -0.07904715240001678,
          -0.06903093010187149,
          -0.09004120230674743,
          -0.08329575508832932,
          -0.07340050637722015,
          -0.07721462398767472,
          -0.0734824925661087,
          -0.053108757734298705,
          -0.0530163049697876,
          -0.06530867218971252,
          -0.05261678770184517,
          -0.058902643620967865,
          -0.05838375613093376,
          -0.06163100153207779,
          -0.07662146836519242,
          -0.05330702215433121,
          -0.052919214218854906,
          -0.05310332030057907,
          -0.05272922217845917,
          -0.05300676450133324,
          -0.05329631492495537,
          -0.053283969312906264,
          -0.052496302872896194,
          -0.05269058421254158,
          -0.05316952392458916,
          -0.05265757441520691,
          -0.05248424634337425,
          -0.05271747335791588,
          -0.05299641564488411,
          -0.053664530813694,
          -0.05313688889145851,
          -0.05302448496222496,
          -0.05332650616765022
         ]
        },
        {
         "name": "Best Value",
         "type": "scatter",
         "x": [
          0,
          1,
          2,
          3,
          4,
          5,
          6,
          7,
          8,
          9,
          10,
          11,
          12,
          13,
          14,
          15,
          16,
          17,
          18,
          19,
          20,
          21,
          22,
          23,
          24,
          25,
          26,
          27,
          28,
          29,
          30,
          31,
          32,
          33,
          34,
          35,
          36,
          37,
          38,
          39,
          40,
          41,
          42,
          43,
          44,
          45,
          46,
          47,
          48,
          49,
          50,
          51,
          52,
          53,
          54,
          55,
          56,
          57,
          58,
          59,
          60,
          61,
          62,
          63,
          64,
          65,
          66,
          67,
          68,
          69,
          70,
          71,
          72,
          73,
          74,
          75,
          76,
          77,
          78,
          79,
          80,
          81,
          82,
          83,
          84,
          85,
          86,
          87,
          88,
          89,
          90,
          91,
          92,
          93,
          94,
          95,
          96,
          97,
          98,
          99
         ],
         "y": [
          -0.2725460648536682,
          -0.23916981518268585,
          -0.05506014823913574,
          -0.05506014823913574,
          -0.05506014823913574,
          -0.05506014823913574,
          -0.05506014823913574,
          -0.05506014823913574,
          -0.05506014823913574,
          -0.05506014823913574,
          -0.05506014823913574,
          -0.05506014823913574,
          -0.05506014823913574,
          -0.05506014823913574,
          -0.05506014823913574,
          -0.05506014823913574,
          -0.05451750233769417,
          -0.05451750233769417,
          -0.05451750233769417,
          -0.05451750233769417,
          -0.05451750233769417,
          -0.05451750233769417,
          -0.05451750233769417,
          -0.05451750233769417,
          -0.05451750233769417,
          -0.05451750233769417,
          -0.05451750233769417,
          -0.05451750233769417,
          -0.05451750233769417,
          -0.05451750233769417,
          -0.05451750233769417,
          -0.05451750233769417,
          -0.05451750233769417,
          -0.05325470417737961,
          -0.05325470417737961,
          -0.05325470417737961,
          -0.05325470417737961,
          -0.05325470417737961,
          -0.05325470417737961,
          -0.05325470417737961,
          -0.05325470417737961,
          -0.05325470417737961,
          -0.05325470417737961,
          -0.05325470417737961,
          -0.05325470417737961,
          -0.05325470417737961,
          -0.05325470417737961,
          -0.05325470417737961,
          -0.05325470417737961,
          -0.05325470417737961,
          -0.05325470417737961,
          -0.05325470417737961,
          -0.05325470417737961,
          -0.05325470417737961,
          -0.05325470417737961,
          -0.05325470417737961,
          -0.05325470417737961,
          -0.05325470417737961,
          -0.05325470417737961,
          -0.05325470417737961,
          -0.05325470417737961,
          -0.05325470417737961,
          -0.05325470417737961,
          -0.05325470417737961,
          -0.05325470417737961,
          -0.05325470417737961,
          -0.05325470417737961,
          -0.05325470417737961,
          -0.05325470417737961,
          -0.05325470417737961,
          -0.05325470417737961,
          -0.05325470417737961,
          -0.05325470417737961,
          -0.05325470417737961,
          -0.053108757734298705,
          -0.0530163049697876,
          -0.0530163049697876,
          -0.05261678770184517,
          -0.05261678770184517,
          -0.05261678770184517,
          -0.05261678770184517,
          -0.05261678770184517,
          -0.05261678770184517,
          -0.05261678770184517,
          -0.05261678770184517,
          -0.05261678770184517,
          -0.05261678770184517,
          -0.05261678770184517,
          -0.05261678770184517,
          -0.052496302872896194,
          -0.052496302872896194,
          -0.052496302872896194,
          -0.052496302872896194,
          -0.05248424634337425,
          -0.05248424634337425,
          -0.05248424634337425,
          -0.05248424634337425,
          -0.05248424634337425,
          -0.05248424634337425,
          -0.05248424634337425
         ]
        }
       ],
       "layout": {
        "template": {
         "data": {
          "bar": [
           {
            "error_x": {
             "color": "#2a3f5f"
            },
            "error_y": {
             "color": "#2a3f5f"
            },
            "marker": {
             "line": {
              "color": "#E5ECF6",
              "width": 0.5
             },
             "pattern": {
              "fillmode": "overlay",
              "size": 10,
              "solidity": 0.2
             }
            },
            "type": "bar"
           }
          ],
          "barpolar": [
           {
            "marker": {
             "line": {
              "color": "#E5ECF6",
              "width": 0.5
             },
             "pattern": {
              "fillmode": "overlay",
              "size": 10,
              "solidity": 0.2
             }
            },
            "type": "barpolar"
           }
          ],
          "carpet": [
           {
            "aaxis": {
             "endlinecolor": "#2a3f5f",
             "gridcolor": "white",
             "linecolor": "white",
             "minorgridcolor": "white",
             "startlinecolor": "#2a3f5f"
            },
            "baxis": {
             "endlinecolor": "#2a3f5f",
             "gridcolor": "white",
             "linecolor": "white",
             "minorgridcolor": "white",
             "startlinecolor": "#2a3f5f"
            },
            "type": "carpet"
           }
          ],
          "choropleth": [
           {
            "colorbar": {
             "outlinewidth": 0,
             "ticks": ""
            },
            "type": "choropleth"
           }
          ],
          "contour": [
           {
            "colorbar": {
             "outlinewidth": 0,
             "ticks": ""
            },
            "colorscale": [
             [
              0,
              "#0d0887"
             ],
             [
              0.1111111111111111,
              "#46039f"
             ],
             [
              0.2222222222222222,
              "#7201a8"
             ],
             [
              0.3333333333333333,
              "#9c179e"
             ],
             [
              0.4444444444444444,
              "#bd3786"
             ],
             [
              0.5555555555555556,
              "#d8576b"
             ],
             [
              0.6666666666666666,
              "#ed7953"
             ],
             [
              0.7777777777777778,
              "#fb9f3a"
             ],
             [
              0.8888888888888888,
              "#fdca26"
             ],
             [
              1,
              "#f0f921"
             ]
            ],
            "type": "contour"
           }
          ],
          "contourcarpet": [
           {
            "colorbar": {
             "outlinewidth": 0,
             "ticks": ""
            },
            "type": "contourcarpet"
           }
          ],
          "heatmap": [
           {
            "colorbar": {
             "outlinewidth": 0,
             "ticks": ""
            },
            "colorscale": [
             [
              0,
              "#0d0887"
             ],
             [
              0.1111111111111111,
              "#46039f"
             ],
             [
              0.2222222222222222,
              "#7201a8"
             ],
             [
              0.3333333333333333,
              "#9c179e"
             ],
             [
              0.4444444444444444,
              "#bd3786"
             ],
             [
              0.5555555555555556,
              "#d8576b"
             ],
             [
              0.6666666666666666,
              "#ed7953"
             ],
             [
              0.7777777777777778,
              "#fb9f3a"
             ],
             [
              0.8888888888888888,
              "#fdca26"
             ],
             [
              1,
              "#f0f921"
             ]
            ],
            "type": "heatmap"
           }
          ],
          "heatmapgl": [
           {
            "colorbar": {
             "outlinewidth": 0,
             "ticks": ""
            },
            "colorscale": [
             [
              0,
              "#0d0887"
             ],
             [
              0.1111111111111111,
              "#46039f"
             ],
             [
              0.2222222222222222,
              "#7201a8"
             ],
             [
              0.3333333333333333,
              "#9c179e"
             ],
             [
              0.4444444444444444,
              "#bd3786"
             ],
             [
              0.5555555555555556,
              "#d8576b"
             ],
             [
              0.6666666666666666,
              "#ed7953"
             ],
             [
              0.7777777777777778,
              "#fb9f3a"
             ],
             [
              0.8888888888888888,
              "#fdca26"
             ],
             [
              1,
              "#f0f921"
             ]
            ],
            "type": "heatmapgl"
           }
          ],
          "histogram": [
           {
            "marker": {
             "pattern": {
              "fillmode": "overlay",
              "size": 10,
              "solidity": 0.2
             }
            },
            "type": "histogram"
           }
          ],
          "histogram2d": [
           {
            "colorbar": {
             "outlinewidth": 0,
             "ticks": ""
            },
            "colorscale": [
             [
              0,
              "#0d0887"
             ],
             [
              0.1111111111111111,
              "#46039f"
             ],
             [
              0.2222222222222222,
              "#7201a8"
             ],
             [
              0.3333333333333333,
              "#9c179e"
             ],
             [
              0.4444444444444444,
              "#bd3786"
             ],
             [
              0.5555555555555556,
              "#d8576b"
             ],
             [
              0.6666666666666666,
              "#ed7953"
             ],
             [
              0.7777777777777778,
              "#fb9f3a"
             ],
             [
              0.8888888888888888,
              "#fdca26"
             ],
             [
              1,
              "#f0f921"
             ]
            ],
            "type": "histogram2d"
           }
          ],
          "histogram2dcontour": [
           {
            "colorbar": {
             "outlinewidth": 0,
             "ticks": ""
            },
            "colorscale": [
             [
              0,
              "#0d0887"
             ],
             [
              0.1111111111111111,
              "#46039f"
             ],
             [
              0.2222222222222222,
              "#7201a8"
             ],
             [
              0.3333333333333333,
              "#9c179e"
             ],
             [
              0.4444444444444444,
              "#bd3786"
             ],
             [
              0.5555555555555556,
              "#d8576b"
             ],
             [
              0.6666666666666666,
              "#ed7953"
             ],
             [
              0.7777777777777778,
              "#fb9f3a"
             ],
             [
              0.8888888888888888,
              "#fdca26"
             ],
             [
              1,
              "#f0f921"
             ]
            ],
            "type": "histogram2dcontour"
           }
          ],
          "mesh3d": [
           {
            "colorbar": {
             "outlinewidth": 0,
             "ticks": ""
            },
            "type": "mesh3d"
           }
          ],
          "parcoords": [
           {
            "line": {
             "colorbar": {
              "outlinewidth": 0,
              "ticks": ""
             }
            },
            "type": "parcoords"
           }
          ],
          "pie": [
           {
            "automargin": true,
            "type": "pie"
           }
          ],
          "scatter": [
           {
            "fillpattern": {
             "fillmode": "overlay",
             "size": 10,
             "solidity": 0.2
            },
            "type": "scatter"
           }
          ],
          "scatter3d": [
           {
            "line": {
             "colorbar": {
              "outlinewidth": 0,
              "ticks": ""
             }
            },
            "marker": {
             "colorbar": {
              "outlinewidth": 0,
              "ticks": ""
             }
            },
            "type": "scatter3d"
           }
          ],
          "scattercarpet": [
           {
            "marker": {
             "colorbar": {
              "outlinewidth": 0,
              "ticks": ""
             }
            },
            "type": "scattercarpet"
           }
          ],
          "scattergeo": [
           {
            "marker": {
             "colorbar": {
              "outlinewidth": 0,
              "ticks": ""
             }
            },
            "type": "scattergeo"
           }
          ],
          "scattergl": [
           {
            "marker": {
             "colorbar": {
              "outlinewidth": 0,
              "ticks": ""
             }
            },
            "type": "scattergl"
           }
          ],
          "scattermapbox": [
           {
            "marker": {
             "colorbar": {
              "outlinewidth": 0,
              "ticks": ""
             }
            },
            "type": "scattermapbox"
           }
          ],
          "scatterpolar": [
           {
            "marker": {
             "colorbar": {
              "outlinewidth": 0,
              "ticks": ""
             }
            },
            "type": "scatterpolar"
           }
          ],
          "scatterpolargl": [
           {
            "marker": {
             "colorbar": {
              "outlinewidth": 0,
              "ticks": ""
             }
            },
            "type": "scatterpolargl"
           }
          ],
          "scatterternary": [
           {
            "marker": {
             "colorbar": {
              "outlinewidth": 0,
              "ticks": ""
             }
            },
            "type": "scatterternary"
           }
          ],
          "surface": [
           {
            "colorbar": {
             "outlinewidth": 0,
             "ticks": ""
            },
            "colorscale": [
             [
              0,
              "#0d0887"
             ],
             [
              0.1111111111111111,
              "#46039f"
             ],
             [
              0.2222222222222222,
              "#7201a8"
             ],
             [
              0.3333333333333333,
              "#9c179e"
             ],
             [
              0.4444444444444444,
              "#bd3786"
             ],
             [
              0.5555555555555556,
              "#d8576b"
             ],
             [
              0.6666666666666666,
              "#ed7953"
             ],
             [
              0.7777777777777778,
              "#fb9f3a"
             ],
             [
              0.8888888888888888,
              "#fdca26"
             ],
             [
              1,
              "#f0f921"
             ]
            ],
            "type": "surface"
           }
          ],
          "table": [
           {
            "cells": {
             "fill": {
              "color": "#EBF0F8"
             },
             "line": {
              "color": "white"
             }
            },
            "header": {
             "fill": {
              "color": "#C8D4E3"
             },
             "line": {
              "color": "white"
             }
            },
            "type": "table"
           }
          ]
         },
         "layout": {
          "annotationdefaults": {
           "arrowcolor": "#2a3f5f",
           "arrowhead": 0,
           "arrowwidth": 1
          },
          "autotypenumbers": "strict",
          "coloraxis": {
           "colorbar": {
            "outlinewidth": 0,
            "ticks": ""
           }
          },
          "colorscale": {
           "diverging": [
            [
             0,
             "#8e0152"
            ],
            [
             0.1,
             "#c51b7d"
            ],
            [
             0.2,
             "#de77ae"
            ],
            [
             0.3,
             "#f1b6da"
            ],
            [
             0.4,
             "#fde0ef"
            ],
            [
             0.5,
             "#f7f7f7"
            ],
            [
             0.6,
             "#e6f5d0"
            ],
            [
             0.7,
             "#b8e186"
            ],
            [
             0.8,
             "#7fbc41"
            ],
            [
             0.9,
             "#4d9221"
            ],
            [
             1,
             "#276419"
            ]
           ],
           "sequential": [
            [
             0,
             "#0d0887"
            ],
            [
             0.1111111111111111,
             "#46039f"
            ],
            [
             0.2222222222222222,
             "#7201a8"
            ],
            [
             0.3333333333333333,
             "#9c179e"
            ],
            [
             0.4444444444444444,
             "#bd3786"
            ],
            [
             0.5555555555555556,
             "#d8576b"
            ],
            [
             0.6666666666666666,
             "#ed7953"
            ],
            [
             0.7777777777777778,
             "#fb9f3a"
            ],
            [
             0.8888888888888888,
             "#fdca26"
            ],
            [
             1,
             "#f0f921"
            ]
           ],
           "sequentialminus": [
            [
             0,
             "#0d0887"
            ],
            [
             0.1111111111111111,
             "#46039f"
            ],
            [
             0.2222222222222222,
             "#7201a8"
            ],
            [
             0.3333333333333333,
             "#9c179e"
            ],
            [
             0.4444444444444444,
             "#bd3786"
            ],
            [
             0.5555555555555556,
             "#d8576b"
            ],
            [
             0.6666666666666666,
             "#ed7953"
            ],
            [
             0.7777777777777778,
             "#fb9f3a"
            ],
            [
             0.8888888888888888,
             "#fdca26"
            ],
            [
             1,
             "#f0f921"
            ]
           ]
          },
          "colorway": [
           "#636efa",
           "#EF553B",
           "#00cc96",
           "#ab63fa",
           "#FFA15A",
           "#19d3f3",
           "#FF6692",
           "#B6E880",
           "#FF97FF",
           "#FECB52"
          ],
          "font": {
           "color": "#2a3f5f"
          },
          "geo": {
           "bgcolor": "white",
           "lakecolor": "white",
           "landcolor": "#E5ECF6",
           "showlakes": true,
           "showland": true,
           "subunitcolor": "white"
          },
          "hoverlabel": {
           "align": "left"
          },
          "hovermode": "closest",
          "mapbox": {
           "style": "light"
          },
          "paper_bgcolor": "white",
          "plot_bgcolor": "#E5ECF6",
          "polar": {
           "angularaxis": {
            "gridcolor": "white",
            "linecolor": "white",
            "ticks": ""
           },
           "bgcolor": "#E5ECF6",
           "radialaxis": {
            "gridcolor": "white",
            "linecolor": "white",
            "ticks": ""
           }
          },
          "scene": {
           "xaxis": {
            "backgroundcolor": "#E5ECF6",
            "gridcolor": "white",
            "gridwidth": 2,
            "linecolor": "white",
            "showbackground": true,
            "ticks": "",
            "zerolinecolor": "white"
           },
           "yaxis": {
            "backgroundcolor": "#E5ECF6",
            "gridcolor": "white",
            "gridwidth": 2,
            "linecolor": "white",
            "showbackground": true,
            "ticks": "",
            "zerolinecolor": "white"
           },
           "zaxis": {
            "backgroundcolor": "#E5ECF6",
            "gridcolor": "white",
            "gridwidth": 2,
            "linecolor": "white",
            "showbackground": true,
            "ticks": "",
            "zerolinecolor": "white"
           }
          },
          "shapedefaults": {
           "line": {
            "color": "#2a3f5f"
           }
          },
          "ternary": {
           "aaxis": {
            "gridcolor": "white",
            "linecolor": "white",
            "ticks": ""
           },
           "baxis": {
            "gridcolor": "white",
            "linecolor": "white",
            "ticks": ""
           },
           "bgcolor": "#E5ECF6",
           "caxis": {
            "gridcolor": "white",
            "linecolor": "white",
            "ticks": ""
           }
          },
          "title": {
           "x": 0.05
          },
          "xaxis": {
           "automargin": true,
           "gridcolor": "white",
           "linecolor": "white",
           "ticks": "",
           "title": {
            "standoff": 15
           },
           "zerolinecolor": "white",
           "zerolinewidth": 2
          },
          "yaxis": {
           "automargin": true,
           "gridcolor": "white",
           "linecolor": "white",
           "ticks": "",
           "title": {
            "standoff": 15
           },
           "zerolinecolor": "white",
           "zerolinewidth": 2
          }
         }
        },
        "title": {
         "text": "Optimization History Plot"
        },
        "xaxis": {
         "title": {
          "text": "Trial"
         }
        },
        "yaxis": {
         "title": {
          "text": "Objective Value"
         }
        }
       }
      }
     },
     "metadata": {},
     "output_type": "display_data"
    },
    {
     "name": "stdout",
     "output_type": "stream",
     "text": [
      "Best trial: -0.05248424634337425\n",
      "Best parameters: {'alpha': 0.0020523755428286513, 'lambda': 0.0017061113399300196, 'eta': 0.19610450384400085, 'max_depth': 7, 'grow_policy': 'lossguide', 'min_child_weight': 4, 'gamma': 1.2438126893652148e-06, 'sample_type': 'uniform', 'normalize_type': 'forest', 'rate_drop': 0.0006267369697353726, 'skip_drop': 0.00043426580555770385, 'updater': 'coord_descent', 'feature_selector': 'cyclic'}\n"
     ]
    }
   ],
   "source": [
    "# define o espaço de busca e a função objetivo\n",
    "def xgboost_regressor_gbtree(\n",
    "\t\ttrial: opt.trial.Trial,\n",
    "\t\tX: pd.DataFrame,\n",
    "\t\ty: pd.DataFrame,\n",
    "\t) -> float:\n",
    "\thyperparameters = {\n",
    "\t\t# 'booster': trial.suggest_categorical('booster', ['gbtree', 'gblinear', 'dart']),\n",
    "\t\t'booster': 'gbtree',\n",
    "\t\t'objective': 'reg:squarederror',\n",
    "\t\t'eval_metric': 'rmse',\n",
    "\t\t'verbosity': 0,\n",
    "\t\t'alpha': trial.suggest_float('alpha', 1e-3, 1, log=True),\n",
    "\t\t'lambda': trial.suggest_float('lambda', 1e-3, 1, log=True),\n",
    "\t\t'eta': trial.suggest_float('eta', 1e-10, 1.0, log=True),\n",
    "\t\t'max_depth': trial.suggest_int('max_depth', 1, 9),\n",
    "\t\t'grow_policy': trial.suggest_categorical('grow_policy', ['depthwise', 'lossguide']),\n",
    "\t\t'min_child_weight': trial.suggest_int('min_child_weight', 0, 10),\n",
    "\t\t'gamma': trial.suggest_float('gamma', 1e-8, 1e8, log=True),\n",
    "\t\t'sample_type': trial.suggest_categorical('sample_type', ['uniform', 'weighted']),\n",
    "\t\t'normalize_type': trial.suggest_categorical('normalize_type', ['tree', 'forest']),\n",
    "\t\t'rate_drop': trial.suggest_float('rate_drop', 1e-8, 1.0, log=True),\n",
    "\t\t'skip_drop': trial.suggest_float('skip_drop', 1e-8, 1.0, log=True),\n",
    "\t\t'updater': trial.suggest_categorical('updater', ['coord_descent', 'shotgun']),\n",
    "\t\t'feature_selector': trial.suggest_categorical('feature_selector', ['cyclic', 'shuffle']),\n",
    "\t}\n",
    "\thp = {\n",
    "\t\t'booster': hyperparameters['booster'],\n",
    "\t\t'objective': hyperparameters['objective'],\n",
    "\t\t'eval_metric': hyperparameters['eval_metric'],\n",
    "\t\t'verbosity': hyperparameters['verbosity'],\n",
    "\t}\n",
    "\t\n",
    "\tif hyperparameters['booster'] in ['gbtree', 'dart']:\n",
    "\t\t# L1 regularization term on weights. Increasing this value will make model more conservative.\n",
    "\t\thp['alpha'] = hyperparameters['alpha']\n",
    "\t\t# L2 regularization term on weights. Increasing this value will make model more conservative.\n",
    "\t\thp['lambda'] = hyperparameters['lambda']\n",
    "\t\t# Step size shrinkage used in update to prevents overfitting\n",
    "\t\thp['eta'] = hyperparameters['eta']\n",
    "\t\t# maximum depth of the tree, signifies complexity of the tree.\n",
    "\t\thp['max_depth'] = hyperparameters['max_depth']\n",
    "\t\t# Controls a way new nodes are added to the tree.\n",
    "\t\thp['grow_policy'] = hyperparameters['grow_policy']\n",
    "\t\t# minimum child weight, larger the term more conservative the tree.\n",
    "\t\thp['min_child_weight'] = hyperparameters['min_child_weight']\n",
    "\t\t# defines how conservative algorithm is.\n",
    "\t\thp['gamma'] = hyperparameters['gamma']\n",
    "\n",
    "\tif hyperparameters['booster'] == 'dart':\n",
    "\t\t# sampling ratio for dropout.\n",
    "\t\thp['sample_type'] = hyperparameters['sample_type']\n",
    "\t\t# Type of normalization algorithm\n",
    "\t\thp['normalize_type'] = hyperparameters['normalize_type']\n",
    "\t\t# Dropout rate (a fraction of previous trees to drop during the dropout)\n",
    "\t\thp['rate_drop'] = hyperparameters['rate_drop']\n",
    "\t\t# Probability of skipping the dropout procedure during a boosting iteration.\n",
    "\t\thp['skip_drop'] = hyperparameters['skip_drop']\n",
    "\n",
    "\tif hyperparameters['booster'] == 'gblinear':\n",
    "\t\t# algorithm to fit linear model\n",
    "\t\thp['updater'] = hyperparameters['updater']\n",
    "\t\t# feature selector\n",
    "\t\thp['feature_selector'] = hyperparameters['feature_selector']\n",
    "\n",
    "\testimator = XGBRegressor(**hp)\n",
    "\ttrial.set_user_attr(key='estimator', value=estimator)\n",
    "\tscore = cross_val_score(estimator, X, y, n_jobs=-1, cv=5, scoring='neg_root_mean_squared_error')\n",
    "\treturn score.mean()\n",
    "\n",
    "np.seterr(divide='ignore', invalid='ignore')\n",
    "\n",
    "# rotina de otimização bayesiana\n",
    "xgboost_model_gbtree = optimize(\n",
    "\tobjective=xgboost_regressor_gbtree, \n",
    "\tdescription='xgboost_gbtree_risk', n_trials=100,\n",
    "\tX=data_train, y=targets_train, X_test=data_test, y_test=targets_test,)"
   ]
  },
  {
   "attachments": {},
   "cell_type": "markdown",
   "metadata": {},
   "source": [
    "#### xgboost - dart"
   ]
  },
  {
   "cell_type": "code",
   "execution_count": 17,
   "metadata": {},
   "outputs": [
    {
     "data": {
      "application/vnd.jupyter.widget-view+json": {
       "model_id": "f4cf1dee895143e39a3a4f55845d8cda",
       "version_major": 2,
       "version_minor": 0
      },
      "text/plain": [
       "  0%|          | 0/100 [00:00<?, ?it/s]"
      ]
     },
     "metadata": {},
     "output_type": "display_data"
    },
    {
     "data": {
      "text/html": [
       "<div>\n",
       "<style scoped>\n",
       "    .dataframe tbody tr th:only-of-type {\n",
       "        vertical-align: middle;\n",
       "    }\n",
       "\n",
       "    .dataframe tbody tr th {\n",
       "        vertical-align: top;\n",
       "    }\n",
       "\n",
       "    .dataframe thead th {\n",
       "        text-align: right;\n",
       "    }\n",
       "</style>\n",
       "<table border=\"1\" class=\"dataframe\">\n",
       "  <thead>\n",
       "    <tr style=\"text-align: right;\">\n",
       "      <th></th>\n",
       "      <th>validation</th>\n",
       "      <th>test</th>\n",
       "    </tr>\n",
       "  </thead>\n",
       "  <tbody>\n",
       "    <tr>\n",
       "      <th>mae</th>\n",
       "      <td>0.0211</td>\n",
       "      <td>0.0371</td>\n",
       "    </tr>\n",
       "    <tr>\n",
       "      <th>rmse</th>\n",
       "      <td>0.0288</td>\n",
       "      <td>0.0509</td>\n",
       "    </tr>\n",
       "    <tr>\n",
       "      <th>r2</th>\n",
       "      <td>0.9463</td>\n",
       "      <td>0.8411</td>\n",
       "    </tr>\n",
       "  </tbody>\n",
       "</table>\n",
       "</div>"
      ],
      "text/plain": [
       "      validation   test\n",
       "mae       0.0211 0.0371\n",
       "rmse      0.0288 0.0509\n",
       "r2        0.9463 0.8411"
      ]
     },
     "metadata": {},
     "output_type": "display_data"
    },
    {
     "data": {
      "application/vnd.plotly.v1+json": {
       "config": {
        "plotlyServerURL": "https://plot.ly"
       },
       "data": [
        {
         "mode": "markers",
         "name": "Objective Value",
         "type": "scatter",
         "x": [
          0,
          1,
          2,
          3,
          4,
          5,
          6,
          7,
          8,
          9,
          10,
          11,
          12,
          13,
          14,
          15,
          16,
          17,
          18,
          19,
          20,
          21,
          22,
          23,
          24,
          25,
          26,
          27,
          28,
          29,
          30,
          31,
          32,
          33,
          34,
          35,
          36,
          37,
          38,
          39,
          40,
          41,
          42,
          43,
          44,
          45,
          46,
          47,
          48,
          49,
          50,
          51,
          52,
          53,
          54,
          55,
          56,
          57,
          58,
          59,
          60,
          61,
          62,
          63,
          64,
          65,
          66,
          67,
          68,
          69,
          70,
          71,
          72,
          73,
          74,
          75,
          76,
          77,
          78,
          79,
          80,
          81,
          82,
          83,
          84,
          85,
          86,
          87,
          88,
          89,
          90,
          91,
          92,
          93,
          94,
          95,
          96,
          97,
          98,
          99
         ],
         "y": [
          -0.2725460648536682,
          -0.25021780133247373,
          -0.05447089299559593,
          -0.2724889099597931,
          -0.05433860123157501,
          -0.2725460648536682,
          -0.2725460648536682,
          -0.27240710258483886,
          -0.2725460648536682,
          -0.27254368662834166,
          -0.07034072875976563,
          -0.12442554086446762,
          -0.18148331940174103,
          -0.27189111709594727,
          -0.27254158854484556,
          -0.2725353538990021,
          -0.2725320279598236,
          -0.054576669633388517,
          -0.057842645794153214,
          -0.2724315285682678,
          -0.27250022888183595,
          -0.27163280844688414,
          -0.2725460648536682,
          -0.26866285800933837,
          -0.05789160653948784,
          -0.27182103991508483,
          -0.2724101483821869,
          -0.2725413918495178,
          -0.05881224870681763,
          -0.23234687447547914,
          -0.22268363535404206,
          -0.2028609812259674,
          -0.12441672682762146,
          -0.05625281929969787,
          -0.05514843687415123,
          -0.06206450685858726,
          -0.059057799726724626,
          -0.05977806970477104,
          -0.06018800139427185,
          -0.05737961605191231,
          -0.16487294733524321,
          -0.11679441034793854,
          -0.05700689628720283,
          -0.058546312153339386,
          -0.0549473263323307,
          -0.05485672652721405,
          -0.054387977719306944,
          -0.05457362160086632,
          -0.05671003982424736,
          -0.054481931030750275,
          -0.057010650634765625,
          -0.0657351329922676,
          -0.06393436715006828,
          -0.05604533851146698,
          -0.05621897354722023,
          -0.05717758685350418,
          -0.06350862756371498,
          -0.06324677020311356,
          -0.09361392259597778,
          -0.07292740643024445,
          -0.07269983440637588,
          -0.07023781388998032,
          -0.06757309436798095,
          -0.056747762858867644,
          -0.06276993751525879,
          -0.06439720839262009,
          -0.05597808882594109,
          -0.06065012663602829,
          -0.054812924563884736,
          -0.0633708380162716,
          -0.05612500831484794,
          -0.05599180981516838,
          -0.06135350614786148,
          -0.05902113765478134,
          -0.05806295424699783,
          -0.0569090873003006,
          -0.05915747880935669,
          -0.057203123718500136,
          -0.055683490633964536,
          -0.056805890053510666,
          -0.056680408865213396,
          -0.05590746775269508,
          -0.05696542412042618,
          -0.05787963047623634,
          -0.055655233561992645,
          -0.05561366677284241,
          -0.05569942519068718,
          -0.05433386862277985,
          -0.05250504165887833,
          -0.05395832657814026,
          -0.05384841486811638,
          -0.05256438702344894,
          -0.053146614134311675,
          -0.05241099148988724,
          -0.052978894859552386,
          -0.053079225867986676,
          -0.052776192873716356,
          -0.05254097655415535,
          -0.05320662781596184,
          -0.05219507664442062
         ]
        },
        {
         "name": "Best Value",
         "type": "scatter",
         "x": [
          0,
          1,
          2,
          3,
          4,
          5,
          6,
          7,
          8,
          9,
          10,
          11,
          12,
          13,
          14,
          15,
          16,
          17,
          18,
          19,
          20,
          21,
          22,
          23,
          24,
          25,
          26,
          27,
          28,
          29,
          30,
          31,
          32,
          33,
          34,
          35,
          36,
          37,
          38,
          39,
          40,
          41,
          42,
          43,
          44,
          45,
          46,
          47,
          48,
          49,
          50,
          51,
          52,
          53,
          54,
          55,
          56,
          57,
          58,
          59,
          60,
          61,
          62,
          63,
          64,
          65,
          66,
          67,
          68,
          69,
          70,
          71,
          72,
          73,
          74,
          75,
          76,
          77,
          78,
          79,
          80,
          81,
          82,
          83,
          84,
          85,
          86,
          87,
          88,
          89,
          90,
          91,
          92,
          93,
          94,
          95,
          96,
          97,
          98,
          99
         ],
         "y": [
          -0.2725460648536682,
          -0.25021780133247373,
          -0.05447089299559593,
          -0.05447089299559593,
          -0.05433860123157501,
          -0.05433860123157501,
          -0.05433860123157501,
          -0.05433860123157501,
          -0.05433860123157501,
          -0.05433860123157501,
          -0.05433860123157501,
          -0.05433860123157501,
          -0.05433860123157501,
          -0.05433860123157501,
          -0.05433860123157501,
          -0.05433860123157501,
          -0.05433860123157501,
          -0.05433860123157501,
          -0.05433860123157501,
          -0.05433860123157501,
          -0.05433860123157501,
          -0.05433860123157501,
          -0.05433860123157501,
          -0.05433860123157501,
          -0.05433860123157501,
          -0.05433860123157501,
          -0.05433860123157501,
          -0.05433860123157501,
          -0.05433860123157501,
          -0.05433860123157501,
          -0.05433860123157501,
          -0.05433860123157501,
          -0.05433860123157501,
          -0.05433860123157501,
          -0.05433860123157501,
          -0.05433860123157501,
          -0.05433860123157501,
          -0.05433860123157501,
          -0.05433860123157501,
          -0.05433860123157501,
          -0.05433860123157501,
          -0.05433860123157501,
          -0.05433860123157501,
          -0.05433860123157501,
          -0.05433860123157501,
          -0.05433860123157501,
          -0.05433860123157501,
          -0.05433860123157501,
          -0.05433860123157501,
          -0.05433860123157501,
          -0.05433860123157501,
          -0.05433860123157501,
          -0.05433860123157501,
          -0.05433860123157501,
          -0.05433860123157501,
          -0.05433860123157501,
          -0.05433860123157501,
          -0.05433860123157501,
          -0.05433860123157501,
          -0.05433860123157501,
          -0.05433860123157501,
          -0.05433860123157501,
          -0.05433860123157501,
          -0.05433860123157501,
          -0.05433860123157501,
          -0.05433860123157501,
          -0.05433860123157501,
          -0.05433860123157501,
          -0.05433860123157501,
          -0.05433860123157501,
          -0.05433860123157501,
          -0.05433860123157501,
          -0.05433860123157501,
          -0.05433860123157501,
          -0.05433860123157501,
          -0.05433860123157501,
          -0.05433860123157501,
          -0.05433860123157501,
          -0.05433860123157501,
          -0.05433860123157501,
          -0.05433860123157501,
          -0.05433860123157501,
          -0.05433860123157501,
          -0.05433860123157501,
          -0.05433860123157501,
          -0.05433860123157501,
          -0.05433860123157501,
          -0.05433386862277985,
          -0.05250504165887833,
          -0.05250504165887833,
          -0.05250504165887833,
          -0.05250504165887833,
          -0.05250504165887833,
          -0.05241099148988724,
          -0.05241099148988724,
          -0.05241099148988724,
          -0.05241099148988724,
          -0.05241099148988724,
          -0.05241099148988724,
          -0.05219507664442062
         ]
        }
       ],
       "layout": {
        "template": {
         "data": {
          "bar": [
           {
            "error_x": {
             "color": "#2a3f5f"
            },
            "error_y": {
             "color": "#2a3f5f"
            },
            "marker": {
             "line": {
              "color": "#E5ECF6",
              "width": 0.5
             },
             "pattern": {
              "fillmode": "overlay",
              "size": 10,
              "solidity": 0.2
             }
            },
            "type": "bar"
           }
          ],
          "barpolar": [
           {
            "marker": {
             "line": {
              "color": "#E5ECF6",
              "width": 0.5
             },
             "pattern": {
              "fillmode": "overlay",
              "size": 10,
              "solidity": 0.2
             }
            },
            "type": "barpolar"
           }
          ],
          "carpet": [
           {
            "aaxis": {
             "endlinecolor": "#2a3f5f",
             "gridcolor": "white",
             "linecolor": "white",
             "minorgridcolor": "white",
             "startlinecolor": "#2a3f5f"
            },
            "baxis": {
             "endlinecolor": "#2a3f5f",
             "gridcolor": "white",
             "linecolor": "white",
             "minorgridcolor": "white",
             "startlinecolor": "#2a3f5f"
            },
            "type": "carpet"
           }
          ],
          "choropleth": [
           {
            "colorbar": {
             "outlinewidth": 0,
             "ticks": ""
            },
            "type": "choropleth"
           }
          ],
          "contour": [
           {
            "colorbar": {
             "outlinewidth": 0,
             "ticks": ""
            },
            "colorscale": [
             [
              0,
              "#0d0887"
             ],
             [
              0.1111111111111111,
              "#46039f"
             ],
             [
              0.2222222222222222,
              "#7201a8"
             ],
             [
              0.3333333333333333,
              "#9c179e"
             ],
             [
              0.4444444444444444,
              "#bd3786"
             ],
             [
              0.5555555555555556,
              "#d8576b"
             ],
             [
              0.6666666666666666,
              "#ed7953"
             ],
             [
              0.7777777777777778,
              "#fb9f3a"
             ],
             [
              0.8888888888888888,
              "#fdca26"
             ],
             [
              1,
              "#f0f921"
             ]
            ],
            "type": "contour"
           }
          ],
          "contourcarpet": [
           {
            "colorbar": {
             "outlinewidth": 0,
             "ticks": ""
            },
            "type": "contourcarpet"
           }
          ],
          "heatmap": [
           {
            "colorbar": {
             "outlinewidth": 0,
             "ticks": ""
            },
            "colorscale": [
             [
              0,
              "#0d0887"
             ],
             [
              0.1111111111111111,
              "#46039f"
             ],
             [
              0.2222222222222222,
              "#7201a8"
             ],
             [
              0.3333333333333333,
              "#9c179e"
             ],
             [
              0.4444444444444444,
              "#bd3786"
             ],
             [
              0.5555555555555556,
              "#d8576b"
             ],
             [
              0.6666666666666666,
              "#ed7953"
             ],
             [
              0.7777777777777778,
              "#fb9f3a"
             ],
             [
              0.8888888888888888,
              "#fdca26"
             ],
             [
              1,
              "#f0f921"
             ]
            ],
            "type": "heatmap"
           }
          ],
          "heatmapgl": [
           {
            "colorbar": {
             "outlinewidth": 0,
             "ticks": ""
            },
            "colorscale": [
             [
              0,
              "#0d0887"
             ],
             [
              0.1111111111111111,
              "#46039f"
             ],
             [
              0.2222222222222222,
              "#7201a8"
             ],
             [
              0.3333333333333333,
              "#9c179e"
             ],
             [
              0.4444444444444444,
              "#bd3786"
             ],
             [
              0.5555555555555556,
              "#d8576b"
             ],
             [
              0.6666666666666666,
              "#ed7953"
             ],
             [
              0.7777777777777778,
              "#fb9f3a"
             ],
             [
              0.8888888888888888,
              "#fdca26"
             ],
             [
              1,
              "#f0f921"
             ]
            ],
            "type": "heatmapgl"
           }
          ],
          "histogram": [
           {
            "marker": {
             "pattern": {
              "fillmode": "overlay",
              "size": 10,
              "solidity": 0.2
             }
            },
            "type": "histogram"
           }
          ],
          "histogram2d": [
           {
            "colorbar": {
             "outlinewidth": 0,
             "ticks": ""
            },
            "colorscale": [
             [
              0,
              "#0d0887"
             ],
             [
              0.1111111111111111,
              "#46039f"
             ],
             [
              0.2222222222222222,
              "#7201a8"
             ],
             [
              0.3333333333333333,
              "#9c179e"
             ],
             [
              0.4444444444444444,
              "#bd3786"
             ],
             [
              0.5555555555555556,
              "#d8576b"
             ],
             [
              0.6666666666666666,
              "#ed7953"
             ],
             [
              0.7777777777777778,
              "#fb9f3a"
             ],
             [
              0.8888888888888888,
              "#fdca26"
             ],
             [
              1,
              "#f0f921"
             ]
            ],
            "type": "histogram2d"
           }
          ],
          "histogram2dcontour": [
           {
            "colorbar": {
             "outlinewidth": 0,
             "ticks": ""
            },
            "colorscale": [
             [
              0,
              "#0d0887"
             ],
             [
              0.1111111111111111,
              "#46039f"
             ],
             [
              0.2222222222222222,
              "#7201a8"
             ],
             [
              0.3333333333333333,
              "#9c179e"
             ],
             [
              0.4444444444444444,
              "#bd3786"
             ],
             [
              0.5555555555555556,
              "#d8576b"
             ],
             [
              0.6666666666666666,
              "#ed7953"
             ],
             [
              0.7777777777777778,
              "#fb9f3a"
             ],
             [
              0.8888888888888888,
              "#fdca26"
             ],
             [
              1,
              "#f0f921"
             ]
            ],
            "type": "histogram2dcontour"
           }
          ],
          "mesh3d": [
           {
            "colorbar": {
             "outlinewidth": 0,
             "ticks": ""
            },
            "type": "mesh3d"
           }
          ],
          "parcoords": [
           {
            "line": {
             "colorbar": {
              "outlinewidth": 0,
              "ticks": ""
             }
            },
            "type": "parcoords"
           }
          ],
          "pie": [
           {
            "automargin": true,
            "type": "pie"
           }
          ],
          "scatter": [
           {
            "fillpattern": {
             "fillmode": "overlay",
             "size": 10,
             "solidity": 0.2
            },
            "type": "scatter"
           }
          ],
          "scatter3d": [
           {
            "line": {
             "colorbar": {
              "outlinewidth": 0,
              "ticks": ""
             }
            },
            "marker": {
             "colorbar": {
              "outlinewidth": 0,
              "ticks": ""
             }
            },
            "type": "scatter3d"
           }
          ],
          "scattercarpet": [
           {
            "marker": {
             "colorbar": {
              "outlinewidth": 0,
              "ticks": ""
             }
            },
            "type": "scattercarpet"
           }
          ],
          "scattergeo": [
           {
            "marker": {
             "colorbar": {
              "outlinewidth": 0,
              "ticks": ""
             }
            },
            "type": "scattergeo"
           }
          ],
          "scattergl": [
           {
            "marker": {
             "colorbar": {
              "outlinewidth": 0,
              "ticks": ""
             }
            },
            "type": "scattergl"
           }
          ],
          "scattermapbox": [
           {
            "marker": {
             "colorbar": {
              "outlinewidth": 0,
              "ticks": ""
             }
            },
            "type": "scattermapbox"
           }
          ],
          "scatterpolar": [
           {
            "marker": {
             "colorbar": {
              "outlinewidth": 0,
              "ticks": ""
             }
            },
            "type": "scatterpolar"
           }
          ],
          "scatterpolargl": [
           {
            "marker": {
             "colorbar": {
              "outlinewidth": 0,
              "ticks": ""
             }
            },
            "type": "scatterpolargl"
           }
          ],
          "scatterternary": [
           {
            "marker": {
             "colorbar": {
              "outlinewidth": 0,
              "ticks": ""
             }
            },
            "type": "scatterternary"
           }
          ],
          "surface": [
           {
            "colorbar": {
             "outlinewidth": 0,
             "ticks": ""
            },
            "colorscale": [
             [
              0,
              "#0d0887"
             ],
             [
              0.1111111111111111,
              "#46039f"
             ],
             [
              0.2222222222222222,
              "#7201a8"
             ],
             [
              0.3333333333333333,
              "#9c179e"
             ],
             [
              0.4444444444444444,
              "#bd3786"
             ],
             [
              0.5555555555555556,
              "#d8576b"
             ],
             [
              0.6666666666666666,
              "#ed7953"
             ],
             [
              0.7777777777777778,
              "#fb9f3a"
             ],
             [
              0.8888888888888888,
              "#fdca26"
             ],
             [
              1,
              "#f0f921"
             ]
            ],
            "type": "surface"
           }
          ],
          "table": [
           {
            "cells": {
             "fill": {
              "color": "#EBF0F8"
             },
             "line": {
              "color": "white"
             }
            },
            "header": {
             "fill": {
              "color": "#C8D4E3"
             },
             "line": {
              "color": "white"
             }
            },
            "type": "table"
           }
          ]
         },
         "layout": {
          "annotationdefaults": {
           "arrowcolor": "#2a3f5f",
           "arrowhead": 0,
           "arrowwidth": 1
          },
          "autotypenumbers": "strict",
          "coloraxis": {
           "colorbar": {
            "outlinewidth": 0,
            "ticks": ""
           }
          },
          "colorscale": {
           "diverging": [
            [
             0,
             "#8e0152"
            ],
            [
             0.1,
             "#c51b7d"
            ],
            [
             0.2,
             "#de77ae"
            ],
            [
             0.3,
             "#f1b6da"
            ],
            [
             0.4,
             "#fde0ef"
            ],
            [
             0.5,
             "#f7f7f7"
            ],
            [
             0.6,
             "#e6f5d0"
            ],
            [
             0.7,
             "#b8e186"
            ],
            [
             0.8,
             "#7fbc41"
            ],
            [
             0.9,
             "#4d9221"
            ],
            [
             1,
             "#276419"
            ]
           ],
           "sequential": [
            [
             0,
             "#0d0887"
            ],
            [
             0.1111111111111111,
             "#46039f"
            ],
            [
             0.2222222222222222,
             "#7201a8"
            ],
            [
             0.3333333333333333,
             "#9c179e"
            ],
            [
             0.4444444444444444,
             "#bd3786"
            ],
            [
             0.5555555555555556,
             "#d8576b"
            ],
            [
             0.6666666666666666,
             "#ed7953"
            ],
            [
             0.7777777777777778,
             "#fb9f3a"
            ],
            [
             0.8888888888888888,
             "#fdca26"
            ],
            [
             1,
             "#f0f921"
            ]
           ],
           "sequentialminus": [
            [
             0,
             "#0d0887"
            ],
            [
             0.1111111111111111,
             "#46039f"
            ],
            [
             0.2222222222222222,
             "#7201a8"
            ],
            [
             0.3333333333333333,
             "#9c179e"
            ],
            [
             0.4444444444444444,
             "#bd3786"
            ],
            [
             0.5555555555555556,
             "#d8576b"
            ],
            [
             0.6666666666666666,
             "#ed7953"
            ],
            [
             0.7777777777777778,
             "#fb9f3a"
            ],
            [
             0.8888888888888888,
             "#fdca26"
            ],
            [
             1,
             "#f0f921"
            ]
           ]
          },
          "colorway": [
           "#636efa",
           "#EF553B",
           "#00cc96",
           "#ab63fa",
           "#FFA15A",
           "#19d3f3",
           "#FF6692",
           "#B6E880",
           "#FF97FF",
           "#FECB52"
          ],
          "font": {
           "color": "#2a3f5f"
          },
          "geo": {
           "bgcolor": "white",
           "lakecolor": "white",
           "landcolor": "#E5ECF6",
           "showlakes": true,
           "showland": true,
           "subunitcolor": "white"
          },
          "hoverlabel": {
           "align": "left"
          },
          "hovermode": "closest",
          "mapbox": {
           "style": "light"
          },
          "paper_bgcolor": "white",
          "plot_bgcolor": "#E5ECF6",
          "polar": {
           "angularaxis": {
            "gridcolor": "white",
            "linecolor": "white",
            "ticks": ""
           },
           "bgcolor": "#E5ECF6",
           "radialaxis": {
            "gridcolor": "white",
            "linecolor": "white",
            "ticks": ""
           }
          },
          "scene": {
           "xaxis": {
            "backgroundcolor": "#E5ECF6",
            "gridcolor": "white",
            "gridwidth": 2,
            "linecolor": "white",
            "showbackground": true,
            "ticks": "",
            "zerolinecolor": "white"
           },
           "yaxis": {
            "backgroundcolor": "#E5ECF6",
            "gridcolor": "white",
            "gridwidth": 2,
            "linecolor": "white",
            "showbackground": true,
            "ticks": "",
            "zerolinecolor": "white"
           },
           "zaxis": {
            "backgroundcolor": "#E5ECF6",
            "gridcolor": "white",
            "gridwidth": 2,
            "linecolor": "white",
            "showbackground": true,
            "ticks": "",
            "zerolinecolor": "white"
           }
          },
          "shapedefaults": {
           "line": {
            "color": "#2a3f5f"
           }
          },
          "ternary": {
           "aaxis": {
            "gridcolor": "white",
            "linecolor": "white",
            "ticks": ""
           },
           "baxis": {
            "gridcolor": "white",
            "linecolor": "white",
            "ticks": ""
           },
           "bgcolor": "#E5ECF6",
           "caxis": {
            "gridcolor": "white",
            "linecolor": "white",
            "ticks": ""
           }
          },
          "title": {
           "x": 0.05
          },
          "xaxis": {
           "automargin": true,
           "gridcolor": "white",
           "linecolor": "white",
           "ticks": "",
           "title": {
            "standoff": 15
           },
           "zerolinecolor": "white",
           "zerolinewidth": 2
          },
          "yaxis": {
           "automargin": true,
           "gridcolor": "white",
           "linecolor": "white",
           "ticks": "",
           "title": {
            "standoff": 15
           },
           "zerolinecolor": "white",
           "zerolinewidth": 2
          }
         }
        },
        "title": {
         "text": "Optimization History Plot"
        },
        "xaxis": {
         "title": {
          "text": "Trial"
         }
        },
        "yaxis": {
         "title": {
          "text": "Objective Value"
         }
        }
       }
      }
     },
     "metadata": {},
     "output_type": "display_data"
    },
    {
     "name": "stdout",
     "output_type": "stream",
     "text": [
      "Best trial: -0.05219507664442062\n",
      "Best parameters: {'alpha': 0.34270909851089043, 'lambda': 0.001469630009477514, 'eta': 0.20545025505460413, 'max_depth': 9, 'grow_policy': 'lossguide', 'min_child_weight': 6, 'gamma': 2.0529345416016826e-07, 'sample_type': 'weighted', 'normalize_type': 'forest', 'rate_drop': 0.00015521564088129025, 'skip_drop': 1.3973460543379167e-07, 'updater': 'coord_descent', 'feature_selector': 'shuffle'}\n"
     ]
    }
   ],
   "source": [
    "# define o espaço de busca e a função objetivo\n",
    "def xgboost_regressor_dart(\n",
    "\t\ttrial: opt.trial.Trial,\n",
    "\t\tX: pd.DataFrame,\n",
    "\t\ty: pd.DataFrame,\n",
    "\t) -> float:\n",
    "\thyperparameters = {\n",
    "\t\t# 'booster': trial.suggest_categorical('booster', ['gbtree', 'gblinear', 'dart']),\n",
    "\t\t'booster': 'dart',\n",
    "\t\t'objective': 'reg:squarederror',\n",
    "\t\t'eval_metric': 'rmse',\n",
    "\t\t'verbosity': 0,\n",
    "\t\t'alpha': trial.suggest_float('alpha', 1e-3, 1, log=True),\n",
    "\t\t'lambda': trial.suggest_float('lambda', 1e-3, 1, log=True),\n",
    "\t\t'eta': trial.suggest_float('eta', 1e-10, 1.0, log=True),\n",
    "\t\t'max_depth': trial.suggest_int('max_depth', 1, 9),\n",
    "\t\t'grow_policy': trial.suggest_categorical('grow_policy', ['depthwise', 'lossguide']),\n",
    "\t\t'min_child_weight': trial.suggest_int('min_child_weight', 0, 10),\n",
    "\t\t'gamma': trial.suggest_float('gamma', 1e-8, 1e8, log=True),\n",
    "\t\t'sample_type': trial.suggest_categorical('sample_type', ['uniform', 'weighted']),\n",
    "\t\t'normalize_type': trial.suggest_categorical('normalize_type', ['tree', 'forest']),\n",
    "\t\t'rate_drop': trial.suggest_float('rate_drop', 1e-8, 1.0, log=True),\n",
    "\t\t'skip_drop': trial.suggest_float('skip_drop', 1e-8, 1.0, log=True),\n",
    "\t\t'updater': trial.suggest_categorical('updater', ['coord_descent', 'shotgun']),\n",
    "\t\t'feature_selector': trial.suggest_categorical('feature_selector', ['cyclic', 'shuffle']),\n",
    "\t}\n",
    "\thp = {\n",
    "\t\t'booster': hyperparameters['booster'],\n",
    "\t\t'objective': hyperparameters['objective'],\n",
    "\t\t'eval_metric': hyperparameters['eval_metric'],\n",
    "\t\t'verbosity': hyperparameters['verbosity'],\n",
    "\t}\n",
    "\t\n",
    "\tif hyperparameters['booster'] in ['gbtree', 'dart']:\n",
    "\t\t# L1 regularization term on weights. Increasing this value will make model more conservative.\n",
    "\t\thp['alpha'] = hyperparameters['alpha']\n",
    "\t\t# L2 regularization term on weights. Increasing this value will make model more conservative.\n",
    "\t\thp['lambda'] = hyperparameters['lambda']\n",
    "\t\t# Step size shrinkage used in update to prevents overfitting\n",
    "\t\thp['eta'] = hyperparameters['eta']\n",
    "\t\t# maximum depth of the tree, signifies complexity of the tree.\n",
    "\t\thp['max_depth'] = hyperparameters['max_depth']\n",
    "\t\t# Controls a way new nodes are added to the tree.\n",
    "\t\thp['grow_policy'] = hyperparameters['grow_policy']\n",
    "\t\t# minimum child weight, larger the term more conservative the tree.\n",
    "\t\thp['min_child_weight'] = hyperparameters['min_child_weight']\n",
    "\t\t# defines how conservative algorithm is.\n",
    "\t\thp['gamma'] = hyperparameters['gamma']\n",
    "\n",
    "\tif hyperparameters['booster'] == 'dart':\n",
    "\t\t# sampling ratio for dropout.\n",
    "\t\thp['sample_type'] = hyperparameters['sample_type']\n",
    "\t\t# Type of normalization algorithm\n",
    "\t\thp['normalize_type'] = hyperparameters['normalize_type']\n",
    "\t\t# Dropout rate (a fraction of previous trees to drop during the dropout)\n",
    "\t\thp['rate_drop'] = hyperparameters['rate_drop']\n",
    "\t\t# Probability of skipping the dropout procedure during a boosting iteration.\n",
    "\t\thp['skip_drop'] = hyperparameters['skip_drop']\n",
    "\n",
    "\tif hyperparameters['booster'] == 'gblinear':\n",
    "\t\t# algorithm to fit linear model\n",
    "\t\thp['updater'] = hyperparameters['updater']\n",
    "\t\t# feature selector\n",
    "\t\thp['feature_selector'] = hyperparameters['feature_selector']\n",
    "\n",
    "\testimator = XGBRegressor(**hp)\n",
    "\ttrial.set_user_attr(key='estimator', value=estimator)\n",
    "\tscore = cross_val_score(estimator, X, y, n_jobs=-1, cv=5, scoring='neg_root_mean_squared_error')\n",
    "\treturn score.mean()\n",
    "\n",
    "np.seterr(divide='ignore', invalid='ignore')\n",
    "\n",
    "# rotina de otimização bayesiana\n",
    "xgboost_model_dart = optimize(\n",
    "\tobjective=xgboost_regressor_dart, \n",
    "\tdescription='xgboost_dart_risk', n_trials=100,\n",
    "\tX=data_train, y=targets_train, X_test=data_test, y_test=targets_test,)"
   ]
  },
  {
   "attachments": {},
   "cell_type": "markdown",
   "metadata": {},
   "source": [
    "#### comparação de modelos"
   ]
  },
  {
   "cell_type": "code",
   "execution_count": 18,
   "metadata": {},
   "outputs": [],
   "source": [
    "# plota a distribuição dos residuais\n",
    "def plot_residuals_distribution (\n",
    "\t\ty_true: pd.DataFrame, \n",
    "\t\ty_pred: pd.DataFrame, \n",
    "\t\ttitle: str\n",
    "\t) -> None:\n",
    "\tfig, axs = plt.subplot_mosaic([ ['R', 'R', 'R', 'D']],\tfigsize=(16, 6), constrained_layout=True, sharey=True)\n",
    "\tplt.rcParams['figure.figsize'] = (16, 6)\n",
    "\tsns.residplot(x=y_true, y=y_pred, scatter_kws={'s':10, 'alpha':0.8, 'color':'grey'}, \n",
    "\t\tlowess=True, line_kws={'lw':1, 'alpha': 1, 'color': 'red'}, label='prediction', ax=axs['R'])\n",
    "\tsns.distplot(y_true - y_pred, bins=20, kde=True, color='grey', label='prediction', ax=axs['D'], vertical=True)\n",
    "\tplt.suptitle('plot de residuos para ' + title)\n",
    "\tplt.xlabel('residuais')\n",
    "\tplt.ylabel('densidade')\n",
    "\tplt.legend()\n",
    "\tplt.show()"
   ]
  },
  {
   "cell_type": "code",
   "execution_count": 19,
   "metadata": {},
   "outputs": [
    {
     "data": {
      "text/html": [
       "<div>\n",
       "<style scoped>\n",
       "    .dataframe tbody tr th:only-of-type {\n",
       "        vertical-align: middle;\n",
       "    }\n",
       "\n",
       "    .dataframe tbody tr th {\n",
       "        vertical-align: top;\n",
       "    }\n",
       "\n",
       "    .dataframe thead th {\n",
       "        text-align: right;\n",
       "    }\n",
       "</style>\n",
       "<table border=\"1\" class=\"dataframe\">\n",
       "  <thead>\n",
       "    <tr style=\"text-align: right;\">\n",
       "      <th></th>\n",
       "      <th></th>\n",
       "      <th>mae</th>\n",
       "      <th>rmse</th>\n",
       "      <th>r2</th>\n",
       "    </tr>\n",
       "  </thead>\n",
       "  <tbody>\n",
       "    <tr>\n",
       "      <th rowspan=\"2\" valign=\"top\">elasticnet_risk</th>\n",
       "      <th>validation</th>\n",
       "      <td>0.0732</td>\n",
       "      <td>0.0910</td>\n",
       "      <td>0.4646</td>\n",
       "    </tr>\n",
       "    <tr>\n",
       "      <th>test</th>\n",
       "      <td>0.0763</td>\n",
       "      <td>0.0944</td>\n",
       "      <td>0.4535</td>\n",
       "    </tr>\n",
       "    <tr>\n",
       "      <th rowspan=\"2\" valign=\"top\">random_forests_risk</th>\n",
       "      <th>validation</th>\n",
       "      <td>0.0308</td>\n",
       "      <td>0.0413</td>\n",
       "      <td>0.8899</td>\n",
       "    </tr>\n",
       "    <tr>\n",
       "      <th>test</th>\n",
       "      <td>0.0409</td>\n",
       "      <td>0.0547</td>\n",
       "      <td>0.8161</td>\n",
       "    </tr>\n",
       "    <tr>\n",
       "      <th rowspan=\"2\" valign=\"top\">xgboost_gbtree_risk</th>\n",
       "      <th>validation</th>\n",
       "      <td>0.0184</td>\n",
       "      <td>0.0255</td>\n",
       "      <td>0.9580</td>\n",
       "    </tr>\n",
       "    <tr>\n",
       "      <th>test</th>\n",
       "      <td>0.0372</td>\n",
       "      <td>0.0519</td>\n",
       "      <td>0.8348</td>\n",
       "    </tr>\n",
       "    <tr>\n",
       "      <th rowspan=\"2\" valign=\"top\">xgboost_dart_risk</th>\n",
       "      <th>validation</th>\n",
       "      <td>0.0211</td>\n",
       "      <td>0.0288</td>\n",
       "      <td>0.9463</td>\n",
       "    </tr>\n",
       "    <tr>\n",
       "      <th>test</th>\n",
       "      <td>0.0371</td>\n",
       "      <td>0.0509</td>\n",
       "      <td>0.8411</td>\n",
       "    </tr>\n",
       "  </tbody>\n",
       "</table>\n",
       "</div>"
      ],
      "text/plain": [
       "                                  mae   rmse     r2\n",
       "elasticnet_risk     validation 0.0732 0.0910 0.4646\n",
       "                    test       0.0763 0.0944 0.4535\n",
       "random_forests_risk validation 0.0308 0.0413 0.8899\n",
       "                    test       0.0409 0.0547 0.8161\n",
       "xgboost_gbtree_risk validation 0.0184 0.0255 0.9580\n",
       "                    test       0.0372 0.0519 0.8348\n",
       "xgboost_dart_risk   validation 0.0211 0.0288 0.9463\n",
       "                    test       0.0371 0.0509 0.8411"
      ]
     },
     "metadata": {},
     "output_type": "display_data"
    },
    {
     "data": {
      "image/png": "[encoded data removed]",
      "text/plain": [
       "<Figure size 1600x600 with 2 Axes>"
      ]
     },
     "metadata": {},
     "output_type": "display_data"
    },
    {
     "data": {
      "image/png": "[encoded data removed]",
      "text/plain": [
       "<Figure size 1600x600 with 2 Axes>"
      ]
     },
     "metadata": {},
     "output_type": "display_data"
    },
    {
     "data": {
      "image/png": "[encoded data removed]",
      "text/plain": [
       "<Figure size 1600x600 with 2 Axes>"
      ]
     },
     "metadata": {},
     "output_type": "display_data"
    },
    {
     "data": {
      "image/png": "[encoded data removed]",
      "text/plain": [
       "<Figure size 1600x600 with 2 Axes>"
      ]
     },
     "metadata": {},
     "output_type": "display_data"
    }
   ],
   "source": [
    "models = [elasticnet_model, random_forests_model, xgboost_model_gbtree, xgboost_model_dart]\n",
    "\n",
    "# compara os resultados entre os modelos\n",
    "results = pd.DataFrame()\n",
    "for model in models:\n",
    "\tvalidation = pd.DataFrame(model['metrics']['validation'], index=[[model['description']], ['validation']])\n",
    "\ttest = pd.DataFrame(model['metrics']['test'], index=[[model['description']], ['test']])\n",
    "\tresults = pd.concat([results, pd.concat([validation, test], axis=0)])\n",
    "\n",
    "display (results)\n",
    "# plota os graficos de residuais\n",
    "for model in models:\n",
    "\t# plot_residuals(targets_test, model['estimator'].predict(data_test), model['description'])\n",
    "\tplot_residuals_distribution(targets_test, model['estimator'].predict(data_test), model['description'])"
   ]
  },
  {
   "attachments": {},
   "cell_type": "markdown",
   "metadata": {},
   "source": [
    "⭐ nota\n",
    "<div style='color:#222200;background-color:#FFFFBB;padding:10px;'><table style='border:0px solid;width:100%'>\n",
    "<tr><td style=\"border:0px;font-size:60px;width:80px;background-color:#FFFFBB\">⭐</td><td style=\"border:0px;background-color:#FFFFBB;font-size:16px;\">\n",
    "O modelo de regressão xgboost apresentou bom desempenho com um MAE de 3,7% no dataset de teste\n",
    "</td></tr></table></div>"
   ]
  },
  {
   "attachments": {},
   "cell_type": "markdown",
   "metadata": {},
   "source": [
    "#### importância das features"
   ]
  },
  {
   "cell_type": "code",
   "execution_count": 20,
   "metadata": {},
   "outputs": [
    {
     "data": {
      "image/png": "[encoded data removed]",
      "text/plain": [
       "<Figure size 1000x500 with 1 Axes>"
      ]
     },
     "metadata": {},
     "output_type": "display_data"
    },
    {
     "data": {
      "image/png": "[encoded data removed]",
      "text/plain": [
       "<Figure size 1000x500 with 1 Axes>"
      ]
     },
     "metadata": {},
     "output_type": "display_data"
    },
    {
     "data": {
      "image/png": "[encoded data removed]",
      "text/plain": [
       "<Figure size 1000x500 with 1 Axes>"
      ]
     },
     "metadata": {},
     "output_type": "display_data"
    },
    {
     "data": {
      "image/png": "[encoded data removed]",
      "text/plain": [
       "<Figure size 1000x500 with 1 Axes>"
      ]
     },
     "metadata": {},
     "output_type": "display_data"
    }
   ],
   "source": [
    "def plot_feature_importances(\n",
    "\t\tmodel: dict,\n",
    "\t\tX: pd.DataFrame,\n",
    "\t\ty: pd.DataFrame,\n",
    "\t\t) -> None:\n",
    "\timportances = permutation_importance(model['estimator'], X, y, n_repeats=10)\n",
    "\ttable = pd.DataFrame(importances.importances_mean, index=X.columns, columns=['importance'])\n",
    "\ttable.sort_values(by='importance', ascending=True, inplace=True)\n",
    "\ttable.plot.barh(figsize=(10, 3+int(table.shape[0]/6)))\n",
    "\tplt.title(f\"importância das features para {model['description']}\")\n",
    "\tplt.show()\n",
    "\n",
    "for model in models:\n",
    "\tplot_feature_importances(model, data_train, targets_train)\n"
   ]
  },
  {
   "attachments": {},
   "cell_type": "markdown",
   "metadata": {},
   "source": [
    "### Conclusão"
   ]
  },
  {
   "attachments": {},
   "cell_type": "markdown",
   "metadata": {},
   "source": [
    "⭐ nota\n",
    "<div style='color:#222200;background-color:#FFFFBB;padding:10px;'><table style='border:0px solid;width:100%'>\n",
    "<tr><td style=\"border:0px;font-size:60px;width:80px;background-color:#FFFFBB\">⭐</td><td style=\"border:0px;background-color:#FFFFBB;font-size:16px;\">\n",
    "- O modelo xgboost performou com um erro médio absoluto de ~ 3.7%, sendo um modelo viável para a estimativa de risco em novas contas <br>\n",
    "- É possível observar que o modelo aproveitou bem as features disponíveis, mas que não levou diretamente em consideração a segmentação de clientes previamente realizada\n",
    "</td></tr></table></div>"
   ]
  }
 ],
 "metadata": {
  "kernelspec": {
   "display_name": "edge",
   "language": "python",
   "name": "python3"
  },
  "language_info": {
   "codemirror_mode": {
    "name": "ipython",
    "version": 3
   },
   "file_extension": ".py",
   "mimetype": "text/x-python",
   "name": "python",
   "nbconvert_exporter": "python",
   "pygments_lexer": "ipython3",
   "version": "3.10.9"
  },
  "orig_nbformat": 4
 },
 "nbformat": 4,
 "nbformat_minor": 2
}
