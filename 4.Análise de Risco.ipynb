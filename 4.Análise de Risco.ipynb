{
 "cells": [
  {
   "attachments": {},
   "cell_type": "markdown",
   "metadata": {},
   "source": [
    "# FIAP Bootcamp - Wtec Suprimentos - Análise de Risco\n",
    "Case: **Wtec Suprimentos - Análise de Crédito**\\\n",
    "Turma: **1IAR**\n",
    "\n",
    "| Nome dos Integrantes     | RM            | Turma |\n",
    "| :----------------------- | :------------- | :-----: |\n",
    "| Claudio Manuel           | RM 346353      | 1IAR |\n",
    "| Jonas Zarpellon          | RM 345724      | 1IAR |\n",
    "| Rafael Yuji              | RM 346108      | 1IAR |"
   ]
  },
  {
   "attachments": {},
   "cell_type": "markdown",
   "metadata": {},
   "source": [
    "## Introdução\n",
    "\n",
    "### Problema Proposto - Parte 4-A: Análise de Risco\n",
    "- A empresa deseja, entre outras coisas, criar um 'robö automatizado' (na linguagem da propria empresa), que realize uma recomendacäo de crédito para que os analistas se baseiem nessa recomendacäo para conceder o limite måximo de crédito.\n",
    "- Vale salientar que por se tratar de valores monetérios é importante que este modelo tenha um bom desempenho\n",
    "\n",
    "### Abordagem Proposta\n",
    "- O objetivo desta modelagem é treinar um algoritmo de aprendizado capaz de estimar o fator de risco em um cliente na forma de um percentual\n",
    "- Será utilizado um algoritmo supervisionado para essa regressão, baseado nos fatores de risco atribuidos aos clientes na base de dados histórica\n",
    "- Será explorada somente a hipótese 2, utilizando as informações disponíveis nas documentações contábeis"
   ]
  },
  {
   "attachments": {},
   "cell_type": "markdown",
   "metadata": {},
   "source": [
    "### Setup"
   ]
  },
  {
   "cell_type": "code",
   "execution_count": 1,
   "metadata": {},
   "outputs": [
    {
     "name": "stderr",
     "output_type": "stream",
     "text": [
      "Intel(R) Extension for Scikit-learn* enabled (https://github.com/intel/scikit-learn-intelex)\n"
     ]
    }
   ],
   "source": [
    "# dados / io\n",
    "import pandas as pd\n",
    "import pandas_flavor as pf\n",
    "import numpy as np\n",
    "import joblib\n",
    "# plotting\n",
    "import matplotlib.pyplot as plt\n",
    "import seaborn as sns\n",
    "%matplotlib inline\n",
    "# otimização\n",
    "from sklearnex import patch_sklearn\n",
    "patch_sklearn()\n",
    "# preprocessamento\n",
    "from sklearn.preprocessing import StandardScaler\n",
    "# machine learning\n",
    "from sklearn.linear_model import ElasticNet\n",
    "from sklearn.ensemble import RandomForestRegressor\n",
    "from xgboost import XGBRegressor\n",
    "# seleção de modelos\n",
    "import optuna as opt\n",
    "opt.logging.set_verbosity(opt.logging.WARNING)\n",
    "from sklearn.model_selection import cross_val_score, train_test_split\n",
    "from sklearn.metrics import mean_absolute_error, mean_squared_error, r2_score, mean_absolute_percentage_error\n",
    "from sklearn.inspection import permutation_importance\n",
    "# display\n",
    "import warnings\n",
    "warnings.filterwarnings('ignore', category=UserWarning)\n",
    "warnings.filterwarnings('ignore', category=DeprecationWarning)\n",
    "warnings.filterwarnings('ignore', category=FutureWarning)\n",
    "warnings.filterwarnings('ignore', category=opt.exceptions.ExperimentalWarning)\n",
    "pd.options.display.float_format = '{:,.4f}'.format\n"
   ]
  },
  {
   "cell_type": "markdown",
   "metadata": {},
   "source": [
    "### Carga de Dados"
   ]
  },
  {
   "cell_type": "code",
   "execution_count": 2,
   "metadata": {},
   "outputs": [
    {
     "data": {
      "text/html": [
       "<div>\n",
       "<style scoped>\n",
       "    .dataframe tbody tr th:only-of-type {\n",
       "        vertical-align: middle;\n",
       "    }\n",
       "\n",
       "    .dataframe tbody tr th {\n",
       "        vertical-align: top;\n",
       "    }\n",
       "\n",
       "    .dataframe thead th {\n",
       "        text-align: right;\n",
       "    }\n",
       "</style>\n",
       "<table border=\"1\" class=\"dataframe\">\n",
       "  <thead>\n",
       "    <tr style=\"text-align: right;\">\n",
       "      <th></th>\n",
       "      <th>2518</th>\n",
       "      <th>5615</th>\n",
       "      <th>3134</th>\n",
       "      <th>3362</th>\n",
       "      <th>5178</th>\n",
       "    </tr>\n",
       "  </thead>\n",
       "  <tbody>\n",
       "    <tr>\n",
       "      <th>numero_solicitacao</th>\n",
       "      <td>2,591.0000</td>\n",
       "      <td>5,688.0000</td>\n",
       "      <td>3,207.0000</td>\n",
       "      <td>3,435.0000</td>\n",
       "      <td>5,251.0000</td>\n",
       "    </tr>\n",
       "    <tr>\n",
       "      <th>razaoSocial</th>\n",
       "      <td>Ms. Lauren Short</td>\n",
       "      <td>Ms. Deborah Reed</td>\n",
       "      <td>Charlene Khan</td>\n",
       "      <td>Denis Kelly</td>\n",
       "      <td>Mr. Robert Elliott</td>\n",
       "    </tr>\n",
       "    <tr>\n",
       "      <th>nomeFantasia</th>\n",
       "      <td>William Hart</td>\n",
       "      <td>Brenda Jones</td>\n",
       "      <td>Dr. Mohamed Phillips</td>\n",
       "      <td>Maureen Sullivan</td>\n",
       "      <td>Mr. Brett Kelly</td>\n",
       "    </tr>\n",
       "    <tr>\n",
       "      <th>cnpjSemTraco</th>\n",
       "      <td>UBND25917509975623</td>\n",
       "      <td>GCDR26237694041913</td>\n",
       "      <td>QMBA55941613517601</td>\n",
       "      <td>GEZM79916030451328</td>\n",
       "      <td>HNNC71234011503718</td>\n",
       "    </tr>\n",
       "    <tr>\n",
       "      <th>maiorAtraso</th>\n",
       "      <td>3</td>\n",
       "      <td>4</td>\n",
       "      <td>0</td>\n",
       "      <td>4</td>\n",
       "      <td>17</td>\n",
       "    </tr>\n",
       "    <tr>\n",
       "      <th>margemBrutaAcumulada</th>\n",
       "      <td>0.5126</td>\n",
       "      <td>0.6279</td>\n",
       "      <td>0.5150</td>\n",
       "      <td>0.3031</td>\n",
       "      <td>0.5233</td>\n",
       "    </tr>\n",
       "    <tr>\n",
       "      <th>percentualProtestos</th>\n",
       "      <td>0.0000</td>\n",
       "      <td>0.0000</td>\n",
       "      <td>0.0000</td>\n",
       "      <td>0.0000</td>\n",
       "      <td>0.0000</td>\n",
       "    </tr>\n",
       "    <tr>\n",
       "      <th>primeiraCompra</th>\n",
       "      <td>2019-01-31T00:00:00</td>\n",
       "      <td>2010-03-31T00:00:00</td>\n",
       "      <td>2019-02-06T00:00:00</td>\n",
       "      <td>2013-12-12T00:00:00</td>\n",
       "      <td>2019-08-20T00:00:00</td>\n",
       "    </tr>\n",
       "    <tr>\n",
       "      <th>prazoMedioRecebimentoVendas</th>\n",
       "      <td>114</td>\n",
       "      <td>268</td>\n",
       "      <td>20</td>\n",
       "      <td>0</td>\n",
       "      <td>0</td>\n",
       "    </tr>\n",
       "    <tr>\n",
       "      <th>titulosEmAberto</th>\n",
       "      <td>765,000.0000</td>\n",
       "      <td>318,300.0000</td>\n",
       "      <td>5,040.0000</td>\n",
       "      <td>0.0000</td>\n",
       "      <td>0.0000</td>\n",
       "    </tr>\n",
       "    <tr>\n",
       "      <th>valorSolicitado</th>\n",
       "      <td>150,000.0000</td>\n",
       "      <td>140,000.0000</td>\n",
       "      <td>30,000.0000</td>\n",
       "      <td>30,000.0000</td>\n",
       "      <td>100,000.0000</td>\n",
       "    </tr>\n",
       "    <tr>\n",
       "      <th>status</th>\n",
       "      <td>EmAnaliseDocumentacao</td>\n",
       "      <td>AprovadoAnalista</td>\n",
       "      <td>AprovadoAnalista</td>\n",
       "      <td>EmAnaliseDocumentacao</td>\n",
       "      <td>AprovadoAnalista</td>\n",
       "    </tr>\n",
       "    <tr>\n",
       "      <th>definicaoRisco</th>\n",
       "      <td>De 0 a 10 % - Muito Baixo</td>\n",
       "      <td>De 0 a 10 % - Muito Baixo</td>\n",
       "      <td>De 31 a 50 % - Médio</td>\n",
       "      <td>De 0 a 10 % - Muito Baixo</td>\n",
       "      <td>De 31 a 50 % - Médio</td>\n",
       "    </tr>\n",
       "    <tr>\n",
       "      <th>diferencaPercentualRisco</th>\n",
       "      <td>1.0000</td>\n",
       "      <td>0.9107</td>\n",
       "      <td>0.6429</td>\n",
       "      <td>1.0000</td>\n",
       "      <td>0.5000</td>\n",
       "    </tr>\n",
       "    <tr>\n",
       "      <th>percentualRisco</th>\n",
       "      <td>0.0000</td>\n",
       "      <td>0.0893</td>\n",
       "      <td>0.3571</td>\n",
       "      <td>0.0000</td>\n",
       "      <td>0.5000</td>\n",
       "    </tr>\n",
       "    <tr>\n",
       "      <th>dashboardCorrelacao</th>\n",
       "      <td>0.0000</td>\n",
       "      <td>0.0000</td>\n",
       "      <td>0.0000</td>\n",
       "      <td>0.0000</td>\n",
       "      <td>0.8660</td>\n",
       "    </tr>\n",
       "    <tr>\n",
       "      <th>valorAprovado</th>\n",
       "      <td>NaN</td>\n",
       "      <td>140,000.0000</td>\n",
       "      <td>30,000.0000</td>\n",
       "      <td>NaN</td>\n",
       "      <td>100,000.0000</td>\n",
       "    </tr>\n",
       "    <tr>\n",
       "      <th>dataAprovadoEmComite</th>\n",
       "      <td>NaN</td>\n",
       "      <td>NaN</td>\n",
       "      <td>NaN</td>\n",
       "      <td>NaN</td>\n",
       "      <td>NaN</td>\n",
       "    </tr>\n",
       "    <tr>\n",
       "      <th>periodoBalanco</th>\n",
       "      <td>NaN</td>\n",
       "      <td>2019-12-31T03:00:00</td>\n",
       "      <td>2019-12-31T00:00:00</td>\n",
       "      <td>NaN</td>\n",
       "      <td>2019-12-31T03:00:00</td>\n",
       "    </tr>\n",
       "    <tr>\n",
       "      <th>ativoCirculante</th>\n",
       "      <td>NaN</td>\n",
       "      <td>5,154,333.0000</td>\n",
       "      <td>955,332.0000</td>\n",
       "      <td>NaN</td>\n",
       "      <td>2,296,426.0000</td>\n",
       "    </tr>\n",
       "    <tr>\n",
       "      <th>passivoCirculante</th>\n",
       "      <td>NaN</td>\n",
       "      <td>3,039,260.0000</td>\n",
       "      <td>122,626.0000</td>\n",
       "      <td>NaN</td>\n",
       "      <td>801,242.0000</td>\n",
       "    </tr>\n",
       "    <tr>\n",
       "      <th>totalAtivo</th>\n",
       "      <td>NaN</td>\n",
       "      <td>7,986,537.0000</td>\n",
       "      <td>1,451,165.0000</td>\n",
       "      <td>NaN</td>\n",
       "      <td>2,315,834.0000</td>\n",
       "    </tr>\n",
       "    <tr>\n",
       "      <th>totalPatrimonioLiquido</th>\n",
       "      <td>NaN</td>\n",
       "      <td>1,844,721.0000</td>\n",
       "      <td>1,328,538.0000</td>\n",
       "      <td>NaN</td>\n",
       "      <td>1,385,366.0000</td>\n",
       "    </tr>\n",
       "    <tr>\n",
       "      <th>endividamento</th>\n",
       "      <td>NaN</td>\n",
       "      <td>50,551.0000</td>\n",
       "      <td>0.0000</td>\n",
       "      <td>NaN</td>\n",
       "      <td>14,468.0000</td>\n",
       "    </tr>\n",
       "    <tr>\n",
       "      <th>duplicatasAReceber</th>\n",
       "      <td>NaN</td>\n",
       "      <td>1,274,432.0000</td>\n",
       "      <td>93,030.0000</td>\n",
       "      <td>NaN</td>\n",
       "      <td>1,303,268.0000</td>\n",
       "    </tr>\n",
       "    <tr>\n",
       "      <th>estoque</th>\n",
       "      <td>NaN</td>\n",
       "      <td>2,595,696.0000</td>\n",
       "      <td>99,760.0000</td>\n",
       "      <td>NaN</td>\n",
       "      <td>763,163.0000</td>\n",
       "    </tr>\n",
       "    <tr>\n",
       "      <th>faturamentoBruto</th>\n",
       "      <td>NaN</td>\n",
       "      <td>28,328,845.0000</td>\n",
       "      <td>1,377,924.0000</td>\n",
       "      <td>NaN</td>\n",
       "      <td>6,428,760.0000</td>\n",
       "    </tr>\n",
       "    <tr>\n",
       "      <th>margemBruta</th>\n",
       "      <td>NaN</td>\n",
       "      <td>7,030,115.0000</td>\n",
       "      <td>405,259.0000</td>\n",
       "      <td>NaN</td>\n",
       "      <td>2,305,640.0000</td>\n",
       "    </tr>\n",
       "    <tr>\n",
       "      <th>periodoDemonstrativoEmMeses</th>\n",
       "      <td>NaN</td>\n",
       "      <td>12.0000</td>\n",
       "      <td>12.0000</td>\n",
       "      <td>NaN</td>\n",
       "      <td>12.0000</td>\n",
       "    </tr>\n",
       "    <tr>\n",
       "      <th>custos</th>\n",
       "      <td>NaN</td>\n",
       "      <td>21,298,730.0000</td>\n",
       "      <td>972,665.0000</td>\n",
       "      <td>NaN</td>\n",
       "      <td>4,123,120.0000</td>\n",
       "    </tr>\n",
       "    <tr>\n",
       "      <th>anoFundacao</th>\n",
       "      <td>NaN</td>\n",
       "      <td>1,986.0000</td>\n",
       "      <td>2,016.0000</td>\n",
       "      <td>NaN</td>\n",
       "      <td>2,016.0000</td>\n",
       "    </tr>\n",
       "    <tr>\n",
       "      <th>intervaloFundacao</th>\n",
       "      <td>NaN</td>\n",
       "      <td>Acima de 17 anos</td>\n",
       "      <td>De 0 a 5 anos</td>\n",
       "      <td>NaN</td>\n",
       "      <td>De 0 a 5 anos</td>\n",
       "    </tr>\n",
       "    <tr>\n",
       "      <th>capitalSocial</th>\n",
       "      <td>NaN</td>\n",
       "      <td>500,000.0000</td>\n",
       "      <td>30,000.0000</td>\n",
       "      <td>NaN</td>\n",
       "      <td>300,000.0000</td>\n",
       "    </tr>\n",
       "    <tr>\n",
       "      <th>restricoes</th>\n",
       "      <td>NaN</td>\n",
       "      <td>False</td>\n",
       "      <td>False</td>\n",
       "      <td>NaN</td>\n",
       "      <td>False</td>\n",
       "    </tr>\n",
       "    <tr>\n",
       "      <th>empresa_MeEppMei</th>\n",
       "      <td>NaN</td>\n",
       "      <td>False</td>\n",
       "      <td>True</td>\n",
       "      <td>NaN</td>\n",
       "      <td>True</td>\n",
       "    </tr>\n",
       "    <tr>\n",
       "      <th>scorePontualidade</th>\n",
       "      <td>1.0000</td>\n",
       "      <td>1.0000</td>\n",
       "      <td>1.0000</td>\n",
       "      <td>1.0000</td>\n",
       "      <td>1.0000</td>\n",
       "    </tr>\n",
       "    <tr>\n",
       "      <th>limiteEmpresaAnaliseCredito</th>\n",
       "      <td>NaN</td>\n",
       "      <td>474,744.0000</td>\n",
       "      <td>8,800.0000</td>\n",
       "      <td>NaN</td>\n",
       "      <td>110,934.0000</td>\n",
       "    </tr>\n",
       "    <tr>\n",
       "      <th>dataAprovadoNivelAnalista</th>\n",
       "      <td>NaN</td>\n",
       "      <td>2020-10-16T18:28:04</td>\n",
       "      <td>2020-07-13T17:19:32</td>\n",
       "      <td>NaN</td>\n",
       "      <td>2020-09-25T16:20:03</td>\n",
       "    </tr>\n",
       "    <tr>\n",
       "      <th>cluster</th>\n",
       "      <td>NaN</td>\n",
       "      <td>4.0000</td>\n",
       "      <td>0.0000</td>\n",
       "      <td>NaN</td>\n",
       "      <td>0.0000</td>\n",
       "    </tr>\n",
       "  </tbody>\n",
       "</table>\n",
       "</div>"
      ],
      "text/plain": [
       "                                                  2518  \\\n",
       "numero_solicitacao                          2,591.0000   \n",
       "razaoSocial                           Ms. Lauren Short   \n",
       "nomeFantasia                              William Hart   \n",
       "cnpjSemTraco                        UBND25917509975623   \n",
       "maiorAtraso                                          3   \n",
       "margemBrutaAcumulada                            0.5126   \n",
       "percentualProtestos                             0.0000   \n",
       "primeiraCompra                     2019-01-31T00:00:00   \n",
       "prazoMedioRecebimentoVendas                        114   \n",
       "titulosEmAberto                           765,000.0000   \n",
       "valorSolicitado                           150,000.0000   \n",
       "status                           EmAnaliseDocumentacao   \n",
       "definicaoRisco               De 0 a 10 % - Muito Baixo   \n",
       "diferencaPercentualRisco                        1.0000   \n",
       "percentualRisco                                 0.0000   \n",
       "dashboardCorrelacao                             0.0000   \n",
       "valorAprovado                                      NaN   \n",
       "dataAprovadoEmComite                               NaN   \n",
       "periodoBalanco                                     NaN   \n",
       "ativoCirculante                                    NaN   \n",
       "passivoCirculante                                  NaN   \n",
       "totalAtivo                                         NaN   \n",
       "totalPatrimonioLiquido                             NaN   \n",
       "endividamento                                      NaN   \n",
       "duplicatasAReceber                                 NaN   \n",
       "estoque                                            NaN   \n",
       "faturamentoBruto                                   NaN   \n",
       "margemBruta                                        NaN   \n",
       "periodoDemonstrativoEmMeses                        NaN   \n",
       "custos                                             NaN   \n",
       "anoFundacao                                        NaN   \n",
       "intervaloFundacao                                  NaN   \n",
       "capitalSocial                                      NaN   \n",
       "restricoes                                         NaN   \n",
       "empresa_MeEppMei                                   NaN   \n",
       "scorePontualidade                               1.0000   \n",
       "limiteEmpresaAnaliseCredito                        NaN   \n",
       "dataAprovadoNivelAnalista                          NaN   \n",
       "cluster                                            NaN   \n",
       "\n",
       "                                                  5615                  3134  \\\n",
       "numero_solicitacao                          5,688.0000            3,207.0000   \n",
       "razaoSocial                           Ms. Deborah Reed         Charlene Khan   \n",
       "nomeFantasia                              Brenda Jones  Dr. Mohamed Phillips   \n",
       "cnpjSemTraco                        GCDR26237694041913    QMBA55941613517601   \n",
       "maiorAtraso                                          4                     0   \n",
       "margemBrutaAcumulada                            0.6279                0.5150   \n",
       "percentualProtestos                             0.0000                0.0000   \n",
       "primeiraCompra                     2010-03-31T00:00:00   2019-02-06T00:00:00   \n",
       "prazoMedioRecebimentoVendas                        268                    20   \n",
       "titulosEmAberto                           318,300.0000            5,040.0000   \n",
       "valorSolicitado                           140,000.0000           30,000.0000   \n",
       "status                                AprovadoAnalista      AprovadoAnalista   \n",
       "definicaoRisco               De 0 a 10 % - Muito Baixo  De 31 a 50 % - Médio   \n",
       "diferencaPercentualRisco                        0.9107                0.6429   \n",
       "percentualRisco                                 0.0893                0.3571   \n",
       "dashboardCorrelacao                             0.0000                0.0000   \n",
       "valorAprovado                             140,000.0000           30,000.0000   \n",
       "dataAprovadoEmComite                               NaN                   NaN   \n",
       "periodoBalanco                     2019-12-31T03:00:00   2019-12-31T00:00:00   \n",
       "ativoCirculante                         5,154,333.0000          955,332.0000   \n",
       "passivoCirculante                       3,039,260.0000          122,626.0000   \n",
       "totalAtivo                              7,986,537.0000        1,451,165.0000   \n",
       "totalPatrimonioLiquido                  1,844,721.0000        1,328,538.0000   \n",
       "endividamento                              50,551.0000                0.0000   \n",
       "duplicatasAReceber                      1,274,432.0000           93,030.0000   \n",
       "estoque                                 2,595,696.0000           99,760.0000   \n",
       "faturamentoBruto                       28,328,845.0000        1,377,924.0000   \n",
       "margemBruta                             7,030,115.0000          405,259.0000   \n",
       "periodoDemonstrativoEmMeses                    12.0000               12.0000   \n",
       "custos                                 21,298,730.0000          972,665.0000   \n",
       "anoFundacao                                 1,986.0000            2,016.0000   \n",
       "intervaloFundacao                     Acima de 17 anos         De 0 a 5 anos   \n",
       "capitalSocial                             500,000.0000           30,000.0000   \n",
       "restricoes                                       False                 False   \n",
       "empresa_MeEppMei                                 False                  True   \n",
       "scorePontualidade                               1.0000                1.0000   \n",
       "limiteEmpresaAnaliseCredito               474,744.0000            8,800.0000   \n",
       "dataAprovadoNivelAnalista          2020-10-16T18:28:04   2020-07-13T17:19:32   \n",
       "cluster                                         4.0000                0.0000   \n",
       "\n",
       "                                                  3362                  5178  \n",
       "numero_solicitacao                          3,435.0000            5,251.0000  \n",
       "razaoSocial                                Denis Kelly    Mr. Robert Elliott  \n",
       "nomeFantasia                          Maureen Sullivan       Mr. Brett Kelly  \n",
       "cnpjSemTraco                        GEZM79916030451328    HNNC71234011503718  \n",
       "maiorAtraso                                          4                    17  \n",
       "margemBrutaAcumulada                            0.3031                0.5233  \n",
       "percentualProtestos                             0.0000                0.0000  \n",
       "primeiraCompra                     2013-12-12T00:00:00   2019-08-20T00:00:00  \n",
       "prazoMedioRecebimentoVendas                          0                     0  \n",
       "titulosEmAberto                                 0.0000                0.0000  \n",
       "valorSolicitado                            30,000.0000          100,000.0000  \n",
       "status                           EmAnaliseDocumentacao      AprovadoAnalista  \n",
       "definicaoRisco               De 0 a 10 % - Muito Baixo  De 31 a 50 % - Médio  \n",
       "diferencaPercentualRisco                        1.0000                0.5000  \n",
       "percentualRisco                                 0.0000                0.5000  \n",
       "dashboardCorrelacao                             0.0000                0.8660  \n",
       "valorAprovado                                      NaN          100,000.0000  \n",
       "dataAprovadoEmComite                               NaN                   NaN  \n",
       "periodoBalanco                                     NaN   2019-12-31T03:00:00  \n",
       "ativoCirculante                                    NaN        2,296,426.0000  \n",
       "passivoCirculante                                  NaN          801,242.0000  \n",
       "totalAtivo                                         NaN        2,315,834.0000  \n",
       "totalPatrimonioLiquido                             NaN        1,385,366.0000  \n",
       "endividamento                                      NaN           14,468.0000  \n",
       "duplicatasAReceber                                 NaN        1,303,268.0000  \n",
       "estoque                                            NaN          763,163.0000  \n",
       "faturamentoBruto                                   NaN        6,428,760.0000  \n",
       "margemBruta                                        NaN        2,305,640.0000  \n",
       "periodoDemonstrativoEmMeses                        NaN               12.0000  \n",
       "custos                                             NaN        4,123,120.0000  \n",
       "anoFundacao                                        NaN            2,016.0000  \n",
       "intervaloFundacao                                  NaN         De 0 a 5 anos  \n",
       "capitalSocial                                      NaN          300,000.0000  \n",
       "restricoes                                         NaN                 False  \n",
       "empresa_MeEppMei                                   NaN                  True  \n",
       "scorePontualidade                               1.0000                1.0000  \n",
       "limiteEmpresaAnaliseCredito                        NaN          110,934.0000  \n",
       "dataAprovadoNivelAnalista                          NaN   2020-09-25T16:20:03  \n",
       "cluster                                            NaN                0.0000  "
      ]
     },
     "execution_count": 2,
     "metadata": {},
     "output_type": "execute_result"
    }
   ],
   "source": [
    "data = pd.read_csv('solicitacoescredito_segmentada.csv')\n",
    "data.sample(5).T"
   ]
  },
  {
   "attachments": {},
   "cell_type": "markdown",
   "metadata": {},
   "source": [
    "### Pre-Processamento"
   ]
  },
  {
   "attachments": {},
   "cell_type": "markdown",
   "metadata": {},
   "source": [
    "#### filtro"
   ]
  },
  {
   "cell_type": "code",
   "execution_count": 3,
   "metadata": {},
   "outputs": [
    {
     "data": {
      "text/html": [
       "<div>\n",
       "<style scoped>\n",
       "    .dataframe tbody tr th:only-of-type {\n",
       "        vertical-align: middle;\n",
       "    }\n",
       "\n",
       "    .dataframe tbody tr th {\n",
       "        vertical-align: top;\n",
       "    }\n",
       "\n",
       "    .dataframe thead th {\n",
       "        text-align: right;\n",
       "    }\n",
       "</style>\n",
       "<table border=\"1\" class=\"dataframe\">\n",
       "  <thead>\n",
       "    <tr style=\"text-align: right;\">\n",
       "      <th></th>\n",
       "      <th>count</th>\n",
       "      <th>mean</th>\n",
       "      <th>std</th>\n",
       "      <th>min</th>\n",
       "      <th>25%</th>\n",
       "      <th>50%</th>\n",
       "      <th>75%</th>\n",
       "      <th>max</th>\n",
       "    </tr>\n",
       "  </thead>\n",
       "  <tbody>\n",
       "    <tr>\n",
       "      <th>numero_solicitacao</th>\n",
       "      <td>6,631.0000</td>\n",
       "      <td>4,758.0694</td>\n",
       "      <td>2,537.8171</td>\n",
       "      <td>1.0000</td>\n",
       "      <td>2,676.5000</td>\n",
       "      <td>4,853.0000</td>\n",
       "      <td>6,945.5000</td>\n",
       "      <td>9,034.0000</td>\n",
       "    </tr>\n",
       "    <tr>\n",
       "      <th>maiorAtraso</th>\n",
       "      <td>6,631.0000</td>\n",
       "      <td>23.8928</td>\n",
       "      <td>63.8380</td>\n",
       "      <td>0.0000</td>\n",
       "      <td>3.0000</td>\n",
       "      <td>6.0000</td>\n",
       "      <td>21.0000</td>\n",
       "      <td>977.0000</td>\n",
       "    </tr>\n",
       "    <tr>\n",
       "      <th>margemBrutaAcumulada</th>\n",
       "      <td>6,631.0000</td>\n",
       "      <td>0.3734</td>\n",
       "      <td>0.1950</td>\n",
       "      <td>0.0000</td>\n",
       "      <td>0.2992</td>\n",
       "      <td>0.4123</td>\n",
       "      <td>0.5123</td>\n",
       "      <td>1.0000</td>\n",
       "    </tr>\n",
       "    <tr>\n",
       "      <th>percentualProtestos</th>\n",
       "      <td>5,645.0000</td>\n",
       "      <td>0.0155</td>\n",
       "      <td>0.5805</td>\n",
       "      <td>0.0000</td>\n",
       "      <td>0.0000</td>\n",
       "      <td>0.0000</td>\n",
       "      <td>0.0000</td>\n",
       "      <td>36.9837</td>\n",
       "    </tr>\n",
       "    <tr>\n",
       "      <th>prazoMedioRecebimentoVendas</th>\n",
       "      <td>6,631.0000</td>\n",
       "      <td>23.5955</td>\n",
       "      <td>65.7878</td>\n",
       "      <td>0.0000</td>\n",
       "      <td>0.0000</td>\n",
       "      <td>0.0000</td>\n",
       "      <td>32.0000</td>\n",
       "      <td>1,605.0000</td>\n",
       "    </tr>\n",
       "    <tr>\n",
       "      <th>titulosEmAberto</th>\n",
       "      <td>6,631.0000</td>\n",
       "      <td>52,147.3565</td>\n",
       "      <td>186,770.4664</td>\n",
       "      <td>0.0000</td>\n",
       "      <td>0.0000</td>\n",
       "      <td>0.0000</td>\n",
       "      <td>17,352.2400</td>\n",
       "      <td>2,836,656.0000</td>\n",
       "    </tr>\n",
       "    <tr>\n",
       "      <th>valorSolicitado</th>\n",
       "      <td>6,631.0000</td>\n",
       "      <td>272,351.1101</td>\n",
       "      <td>7,380,328.6783</td>\n",
       "      <td>3,000.0000</td>\n",
       "      <td>25,000.0000</td>\n",
       "      <td>50,000.0000</td>\n",
       "      <td>100,000.0000</td>\n",
       "      <td>600,000,000.0000</td>\n",
       "    </tr>\n",
       "    <tr>\n",
       "      <th>diferencaPercentualRisco</th>\n",
       "      <td>6,631.0000</td>\n",
       "      <td>0.7412</td>\n",
       "      <td>0.1251</td>\n",
       "      <td>0.2642</td>\n",
       "      <td>0.6604</td>\n",
       "      <td>0.7500</td>\n",
       "      <td>0.8491</td>\n",
       "      <td>1.0000</td>\n",
       "    </tr>\n",
       "    <tr>\n",
       "      <th>percentualRisco</th>\n",
       "      <td>6,631.0000</td>\n",
       "      <td>0.2588</td>\n",
       "      <td>0.1251</td>\n",
       "      <td>0.0000</td>\n",
       "      <td>0.1509</td>\n",
       "      <td>0.2500</td>\n",
       "      <td>0.3396</td>\n",
       "      <td>0.7358</td>\n",
       "    </tr>\n",
       "    <tr>\n",
       "      <th>dashboardCorrelacao</th>\n",
       "      <td>6,631.0000</td>\n",
       "      <td>0.0425</td>\n",
       "      <td>0.4915</td>\n",
       "      <td>-1.0000</td>\n",
       "      <td>0.0000</td>\n",
       "      <td>0.0000</td>\n",
       "      <td>0.0000</td>\n",
       "      <td>0.9999</td>\n",
       "    </tr>\n",
       "    <tr>\n",
       "      <th>valorAprovado</th>\n",
       "      <td>6,631.0000</td>\n",
       "      <td>155,602.8003</td>\n",
       "      <td>407,388.8359</td>\n",
       "      <td>0.0000</td>\n",
       "      <td>15,000.0000</td>\n",
       "      <td>35,000.0000</td>\n",
       "      <td>100,000.0000</td>\n",
       "      <td>6,550,000.0000</td>\n",
       "    </tr>\n",
       "    <tr>\n",
       "      <th>ativoCirculante</th>\n",
       "      <td>3,877.0000</td>\n",
       "      <td>35,422,118.3921</td>\n",
       "      <td>159,314,074.1790</td>\n",
       "      <td>0.0000</td>\n",
       "      <td>887,585.0000</td>\n",
       "      <td>3,813,604.0000</td>\n",
       "      <td>15,269,897.0000</td>\n",
       "      <td>2,490,038,328.0000</td>\n",
       "    </tr>\n",
       "    <tr>\n",
       "      <th>passivoCirculante</th>\n",
       "      <td>3,877.0000</td>\n",
       "      <td>27,638,828.0077</td>\n",
       "      <td>315,101,207.6116</td>\n",
       "      <td>-355,509.0000</td>\n",
       "      <td>180,435.0000</td>\n",
       "      <td>1,286,174.0000</td>\n",
       "      <td>6,980,943.0000</td>\n",
       "      <td>13,054,054,672.0000</td>\n",
       "    </tr>\n",
       "    <tr>\n",
       "      <th>totalAtivo</th>\n",
       "      <td>3,877.0000</td>\n",
       "      <td>50,192,688.7846</td>\n",
       "      <td>259,183,678.8605</td>\n",
       "      <td>0.0000</td>\n",
       "      <td>1,049,740.0000</td>\n",
       "      <td>4,517,091.0000</td>\n",
       "      <td>18,444,493.0000</td>\n",
       "      <td>3,698,215,980.0000</td>\n",
       "    </tr>\n",
       "    <tr>\n",
       "      <th>totalPatrimonioLiquido</th>\n",
       "      <td>3,877.0000</td>\n",
       "      <td>22,602,208.0549</td>\n",
       "      <td>113,771,134.6095</td>\n",
       "      <td>-112,089,780.0000</td>\n",
       "      <td>253,229.0000</td>\n",
       "      <td>1,605,073.0000</td>\n",
       "      <td>7,987,407.0000</td>\n",
       "      <td>2,630,999,412.0000</td>\n",
       "    </tr>\n",
       "    <tr>\n",
       "      <th>endividamento</th>\n",
       "      <td>3,877.0000</td>\n",
       "      <td>4,391,526.4712</td>\n",
       "      <td>36,369,718.1666</td>\n",
       "      <td>0.0000</td>\n",
       "      <td>0.0000</td>\n",
       "      <td>0.0000</td>\n",
       "      <td>733,529.0000</td>\n",
       "      <td>721,096,000.0000</td>\n",
       "    </tr>\n",
       "    <tr>\n",
       "      <th>duplicatasAReceber</th>\n",
       "      <td>3,877.0000</td>\n",
       "      <td>11,591,824.7813</td>\n",
       "      <td>51,315,233.3264</td>\n",
       "      <td>-1,313,416.0000</td>\n",
       "      <td>48,871.0000</td>\n",
       "      <td>1,098,205.0000</td>\n",
       "      <td>6,270,885.0000</td>\n",
       "      <td>1,969,710,000.0000</td>\n",
       "    </tr>\n",
       "    <tr>\n",
       "      <th>estoque</th>\n",
       "      <td>3,877.0000</td>\n",
       "      <td>14,847,775.8460</td>\n",
       "      <td>84,024,747.4149</td>\n",
       "      <td>-263,226.0000</td>\n",
       "      <td>185,122.0000</td>\n",
       "      <td>1,037,908.0000</td>\n",
       "      <td>5,081,987.0000</td>\n",
       "      <td>1,293,428,000.0000</td>\n",
       "    </tr>\n",
       "    <tr>\n",
       "      <th>faturamentoBruto</th>\n",
       "      <td>6,631.0000</td>\n",
       "      <td>55,371,792.3150</td>\n",
       "      <td>336,691,604.1074</td>\n",
       "      <td>1.0000</td>\n",
       "      <td>1,497,586.0000</td>\n",
       "      <td>4,045,130.0000</td>\n",
       "      <td>17,050,478.0000</td>\n",
       "      <td>6,426,115,000.0000</td>\n",
       "    </tr>\n",
       "    <tr>\n",
       "      <th>margemBruta</th>\n",
       "      <td>6,631.0000</td>\n",
       "      <td>16,547,941.9659</td>\n",
       "      <td>122,231,629.4530</td>\n",
       "      <td>-614,872,100.0000</td>\n",
       "      <td>0.0000</td>\n",
       "      <td>0.0000</td>\n",
       "      <td>3,665,146.5000</td>\n",
       "      <td>3,366,842,514.0000</td>\n",
       "    </tr>\n",
       "    <tr>\n",
       "      <th>periodoDemonstrativoEmMeses</th>\n",
       "      <td>6,631.0000</td>\n",
       "      <td>10.8697</td>\n",
       "      <td>2.4757</td>\n",
       "      <td>1.0000</td>\n",
       "      <td>12.0000</td>\n",
       "      <td>12.0000</td>\n",
       "      <td>12.0000</td>\n",
       "      <td>12.0000</td>\n",
       "    </tr>\n",
       "    <tr>\n",
       "      <th>custos</th>\n",
       "      <td>6,631.0000</td>\n",
       "      <td>28,338,527.1951</td>\n",
       "      <td>209,388,705.1503</td>\n",
       "      <td>-346,633,805.0000</td>\n",
       "      <td>0.0000</td>\n",
       "      <td>0.0000</td>\n",
       "      <td>4,902,013.0000</td>\n",
       "      <td>4,393,536,000.0000</td>\n",
       "    </tr>\n",
       "    <tr>\n",
       "      <th>anoFundacao</th>\n",
       "      <td>6,631.0000</td>\n",
       "      <td>2,006.1062</td>\n",
       "      <td>11.2223</td>\n",
       "      <td>1,942.0000</td>\n",
       "      <td>2,000.0000</td>\n",
       "      <td>2,009.0000</td>\n",
       "      <td>2,015.0000</td>\n",
       "      <td>2,020.0000</td>\n",
       "    </tr>\n",
       "    <tr>\n",
       "      <th>capitalSocial</th>\n",
       "      <td>6,631.0000</td>\n",
       "      <td>6,200,933.6693</td>\n",
       "      <td>68,132,215.2294</td>\n",
       "      <td>0.0000</td>\n",
       "      <td>50,000.0000</td>\n",
       "      <td>100,000.0000</td>\n",
       "      <td>500,000.0000</td>\n",
       "      <td>4,100,000,000.0000</td>\n",
       "    </tr>\n",
       "    <tr>\n",
       "      <th>scorePontualidade</th>\n",
       "      <td>6,631.0000</td>\n",
       "      <td>0.8222</td>\n",
       "      <td>0.3590</td>\n",
       "      <td>0.0000</td>\n",
       "      <td>0.9268</td>\n",
       "      <td>1.0000</td>\n",
       "      <td>1.0000</td>\n",
       "      <td>1.0000</td>\n",
       "    </tr>\n",
       "    <tr>\n",
       "      <th>limiteEmpresaAnaliseCredito</th>\n",
       "      <td>6,631.0000</td>\n",
       "      <td>2,040,226.6924</td>\n",
       "      <td>13,120,818.4268</td>\n",
       "      <td>0.0000</td>\n",
       "      <td>8,510.0000</td>\n",
       "      <td>52,000.0000</td>\n",
       "      <td>345,000.0000</td>\n",
       "      <td>286,758,144.0000</td>\n",
       "    </tr>\n",
       "    <tr>\n",
       "      <th>cluster</th>\n",
       "      <td>6,631.0000</td>\n",
       "      <td>2.2820</td>\n",
       "      <td>1.6805</td>\n",
       "      <td>0.0000</td>\n",
       "      <td>0.0000</td>\n",
       "      <td>3.0000</td>\n",
       "      <td>3.0000</td>\n",
       "      <td>5.0000</td>\n",
       "    </tr>\n",
       "  </tbody>\n",
       "</table>\n",
       "</div>"
      ],
      "text/plain": [
       "                                 count            mean              std  \\\n",
       "numero_solicitacao          6,631.0000      4,758.0694       2,537.8171   \n",
       "maiorAtraso                 6,631.0000         23.8928          63.8380   \n",
       "margemBrutaAcumulada        6,631.0000          0.3734           0.1950   \n",
       "percentualProtestos         5,645.0000          0.0155           0.5805   \n",
       "prazoMedioRecebimentoVendas 6,631.0000         23.5955          65.7878   \n",
       "titulosEmAberto             6,631.0000     52,147.3565     186,770.4664   \n",
       "valorSolicitado             6,631.0000    272,351.1101   7,380,328.6783   \n",
       "diferencaPercentualRisco    6,631.0000          0.7412           0.1251   \n",
       "percentualRisco             6,631.0000          0.2588           0.1251   \n",
       "dashboardCorrelacao         6,631.0000          0.0425           0.4915   \n",
       "valorAprovado               6,631.0000    155,602.8003     407,388.8359   \n",
       "ativoCirculante             3,877.0000 35,422,118.3921 159,314,074.1790   \n",
       "passivoCirculante           3,877.0000 27,638,828.0077 315,101,207.6116   \n",
       "totalAtivo                  3,877.0000 50,192,688.7846 259,183,678.8605   \n",
       "totalPatrimonioLiquido      3,877.0000 22,602,208.0549 113,771,134.6095   \n",
       "endividamento               3,877.0000  4,391,526.4712  36,369,718.1666   \n",
       "duplicatasAReceber          3,877.0000 11,591,824.7813  51,315,233.3264   \n",
       "estoque                     3,877.0000 14,847,775.8460  84,024,747.4149   \n",
       "faturamentoBruto            6,631.0000 55,371,792.3150 336,691,604.1074   \n",
       "margemBruta                 6,631.0000 16,547,941.9659 122,231,629.4530   \n",
       "periodoDemonstrativoEmMeses 6,631.0000         10.8697           2.4757   \n",
       "custos                      6,631.0000 28,338,527.1951 209,388,705.1503   \n",
       "anoFundacao                 6,631.0000      2,006.1062          11.2223   \n",
       "capitalSocial               6,631.0000  6,200,933.6693  68,132,215.2294   \n",
       "scorePontualidade           6,631.0000          0.8222           0.3590   \n",
       "limiteEmpresaAnaliseCredito 6,631.0000  2,040,226.6924  13,120,818.4268   \n",
       "cluster                     6,631.0000          2.2820           1.6805   \n",
       "\n",
       "                                          min            25%            50%  \\\n",
       "numero_solicitacao                     1.0000     2,676.5000     4,853.0000   \n",
       "maiorAtraso                            0.0000         3.0000         6.0000   \n",
       "margemBrutaAcumulada                   0.0000         0.2992         0.4123   \n",
       "percentualProtestos                    0.0000         0.0000         0.0000   \n",
       "prazoMedioRecebimentoVendas            0.0000         0.0000         0.0000   \n",
       "titulosEmAberto                        0.0000         0.0000         0.0000   \n",
       "valorSolicitado                    3,000.0000    25,000.0000    50,000.0000   \n",
       "diferencaPercentualRisco               0.2642         0.6604         0.7500   \n",
       "percentualRisco                        0.0000         0.1509         0.2500   \n",
       "dashboardCorrelacao                   -1.0000         0.0000         0.0000   \n",
       "valorAprovado                          0.0000    15,000.0000    35,000.0000   \n",
       "ativoCirculante                        0.0000   887,585.0000 3,813,604.0000   \n",
       "passivoCirculante               -355,509.0000   180,435.0000 1,286,174.0000   \n",
       "totalAtivo                             0.0000 1,049,740.0000 4,517,091.0000   \n",
       "totalPatrimonioLiquido      -112,089,780.0000   253,229.0000 1,605,073.0000   \n",
       "endividamento                          0.0000         0.0000         0.0000   \n",
       "duplicatasAReceber            -1,313,416.0000    48,871.0000 1,098,205.0000   \n",
       "estoque                         -263,226.0000   185,122.0000 1,037,908.0000   \n",
       "faturamentoBruto                       1.0000 1,497,586.0000 4,045,130.0000   \n",
       "margemBruta                 -614,872,100.0000         0.0000         0.0000   \n",
       "periodoDemonstrativoEmMeses            1.0000        12.0000        12.0000   \n",
       "custos                      -346,633,805.0000         0.0000         0.0000   \n",
       "anoFundacao                        1,942.0000     2,000.0000     2,009.0000   \n",
       "capitalSocial                          0.0000    50,000.0000   100,000.0000   \n",
       "scorePontualidade                      0.0000         0.9268         1.0000   \n",
       "limiteEmpresaAnaliseCredito            0.0000     8,510.0000    52,000.0000   \n",
       "cluster                                0.0000         0.0000         3.0000   \n",
       "\n",
       "                                        75%                 max  \n",
       "numero_solicitacao               6,945.5000          9,034.0000  \n",
       "maiorAtraso                         21.0000            977.0000  \n",
       "margemBrutaAcumulada                 0.5123              1.0000  \n",
       "percentualProtestos                  0.0000             36.9837  \n",
       "prazoMedioRecebimentoVendas         32.0000          1,605.0000  \n",
       "titulosEmAberto                 17,352.2400      2,836,656.0000  \n",
       "valorSolicitado                100,000.0000    600,000,000.0000  \n",
       "diferencaPercentualRisco             0.8491              1.0000  \n",
       "percentualRisco                      0.3396              0.7358  \n",
       "dashboardCorrelacao                  0.0000              0.9999  \n",
       "valorAprovado                  100,000.0000      6,550,000.0000  \n",
       "ativoCirculante             15,269,897.0000  2,490,038,328.0000  \n",
       "passivoCirculante            6,980,943.0000 13,054,054,672.0000  \n",
       "totalAtivo                  18,444,493.0000  3,698,215,980.0000  \n",
       "totalPatrimonioLiquido       7,987,407.0000  2,630,999,412.0000  \n",
       "endividamento                  733,529.0000    721,096,000.0000  \n",
       "duplicatasAReceber           6,270,885.0000  1,969,710,000.0000  \n",
       "estoque                      5,081,987.0000  1,293,428,000.0000  \n",
       "faturamentoBruto            17,050,478.0000  6,426,115,000.0000  \n",
       "margemBruta                  3,665,146.5000  3,366,842,514.0000  \n",
       "periodoDemonstrativoEmMeses         12.0000             12.0000  \n",
       "custos                       4,902,013.0000  4,393,536,000.0000  \n",
       "anoFundacao                      2,015.0000          2,020.0000  \n",
       "capitalSocial                  500,000.0000  4,100,000,000.0000  \n",
       "scorePontualidade                    1.0000              1.0000  \n",
       "limiteEmpresaAnaliseCredito    345,000.0000    286,758,144.0000  \n",
       "cluster                              3.0000              5.0000  "
      ]
     },
     "execution_count": 3,
     "metadata": {},
     "output_type": "execute_result"
    }
   ],
   "source": [
    "# filtra as solicitações aprovadas\n",
    "@pf.register_dataframe_method\n",
    "def filter_status(\n",
    "\tdata: pd.DataFrame, # dataframe com a coluna 'status'\n",
    "\t) -> pd.DataFrame:\n",
    "\tX = data.copy()\n",
    "\tX = X[X.status.isin(['AprovadoAnalista', 'AprovadoComite'])]\n",
    "\tX = X[X.anoFundacao > 1900]\n",
    "\tX = X[X.faturamentoBruto > 0]\n",
    "\tX = X[X.periodoDemonstrativoEmMeses > 0]\n",
    "\tX = X[X.cluster.notna()]\n",
    "\treturn X\n",
    "data.filter_status().describe().T"
   ]
  },
  {
   "cell_type": "markdown",
   "metadata": {},
   "source": [
    "#### feature engineering"
   ]
  },
  {
   "cell_type": "code",
   "execution_count": 4,
   "metadata": {},
   "outputs": [
    {
     "name": "stdout",
     "output_type": "stream",
     "text": [
      "<class 'pandas.core.frame.DataFrame'>\n",
      "Int64Index: 6631 entries, 0 to 8961\n",
      "Data columns (total 45 columns):\n",
      " #   Column                        Non-Null Count  Dtype         \n",
      "---  ------                        --------------  -----         \n",
      " 0   numero_solicitacao            6631 non-null   float64       \n",
      " 1   razaoSocial                   6631 non-null   object        \n",
      " 2   nomeFantasia                  6631 non-null   object        \n",
      " 3   cnpjSemTraco                  6631 non-null   object        \n",
      " 4   maiorAtraso                   6631 non-null   int64         \n",
      " 5   margemBrutaAcumulada          6631 non-null   float64       \n",
      " 6   percentualProtestos           5645 non-null   float64       \n",
      " 7   primeiraCompra                6631 non-null   object        \n",
      " 8   prazoMedioRecebimentoVendas   6631 non-null   int64         \n",
      " 9   titulosEmAberto               6631 non-null   float64       \n",
      " 10  valorSolicitado               6631 non-null   float64       \n",
      " 11  status                        6631 non-null   object        \n",
      " 12  definicaoRisco                6631 non-null   object        \n",
      " 13  diferencaPercentualRisco      6631 non-null   float64       \n",
      " 14  percentualRisco               6631 non-null   float64       \n",
      " 15  dashboardCorrelacao           6631 non-null   float64       \n",
      " 16  valorAprovado                 6631 non-null   float64       \n",
      " 17  dataAprovadoEmComite          0 non-null      object        \n",
      " 18  periodoBalanco                3877 non-null   object        \n",
      " 19  ativoCirculante               3877 non-null   float64       \n",
      " 20  passivoCirculante             3877 non-null   float64       \n",
      " 21  totalAtivo                    3877 non-null   float64       \n",
      " 22  totalPatrimonioLiquido        3877 non-null   float64       \n",
      " 23  endividamento                 3877 non-null   float64       \n",
      " 24  duplicatasAReceber            3877 non-null   float64       \n",
      " 25  estoque                       3877 non-null   float64       \n",
      " 26  faturamentoBruto              6631 non-null   float64       \n",
      " 27  margemBruta                   6631 non-null   float64       \n",
      " 28  periodoDemonstrativoEmMeses   6631 non-null   float64       \n",
      " 29  custos                        6631 non-null   float64       \n",
      " 30  anoFundacao                   6631 non-null   float64       \n",
      " 31  intervaloFundacao             6631 non-null   object        \n",
      " 32  capitalSocial                 6631 non-null   float64       \n",
      " 33  restricoes                    6631 non-null   object        \n",
      " 34  empresa_MeEppMei              6631 non-null   object        \n",
      " 35  scorePontualidade             6631 non-null   float64       \n",
      " 36  limiteEmpresaAnaliseCredito   6631 non-null   float64       \n",
      " 37  dataAprovadoNivelAnalista     6631 non-null   object        \n",
      " 38  cluster                       6631 non-null   float64       \n",
      " 39  faturamentoMensal             6631 non-null   float64       \n",
      " 40  margemMensal                  6631 non-null   float64       \n",
      " 41  margem_percentual             6631 non-null   float64       \n",
      " 42  dt_dataAprovadoNivelAnalista  6631 non-null   datetime64[ns]\n",
      " 43  dt_primeiraCompra             6631 non-null   datetime64[ns]\n",
      " 44  tempoPrimeiraCompra           6631 non-null   int64         \n",
      "dtypes: datetime64[ns](2), float64(28), int64(3), object(12)\n",
      "memory usage: 2.3+ MB\n"
     ]
    }
   ],
   "source": [
    "# gera as features calculadas sem usar as colunas de documentação\n",
    "@pf.register_dataframe_method\n",
    "def engineer(\n",
    "\t\tdata: pd.DataFrame,\n",
    "\t) -> pd.DataFrame:\n",
    "\tX = data.copy()\n",
    "\tX['faturamentoMensal'] = X.faturamentoBruto / X.periodoDemonstrativoEmMeses\n",
    "\tX['margemMensal'] = X.margemBruta / X.periodoDemonstrativoEmMeses\n",
    "\tX['margem_percentual'] = (X.margemMensal / X.faturamentoMensal).replace([np.inf, np.NINF], np.nan)\n",
    "\tX['dt_dataAprovadoNivelAnalista'] = pd.to_datetime(X.dataAprovadoNivelAnalista, errors='coerce')\n",
    "\tX['dt_primeiraCompra'] = pd.to_datetime(X.primeiraCompra, errors='coerce')\n",
    "\tX['tempoPrimeiraCompra'] = (X.dt_dataAprovadoNivelAnalista - X.dt_primeiraCompra).dt.days\n",
    "\treturn X\n",
    "\n",
    "data.filter_status().engineer().info()"
   ]
  },
  {
   "cell_type": "markdown",
   "metadata": {},
   "source": [
    "#### seleção de features"
   ]
  },
  {
   "cell_type": "code",
   "execution_count": 5,
   "metadata": {},
   "outputs": [
    {
     "name": "stdout",
     "output_type": "stream",
     "text": [
      "<class 'pandas.core.frame.DataFrame'>\n",
      "Int64Index: 6631 entries, 0 to 8961\n",
      "Data columns (total 12 columns):\n",
      " #   Column                       Non-Null Count  Dtype  \n",
      "---  ------                       --------------  -----  \n",
      " 0   scorePontualidade            6631 non-null   float64\n",
      " 1   titulosEmAberto              6631 non-null   float64\n",
      " 2   empresa_MeEppMei             6631 non-null   object \n",
      " 3   prazoMedioRecebimentoVendas  6631 non-null   int64  \n",
      " 4   faturamentoMensal            6631 non-null   float64\n",
      " 5   percentualRisco              6631 non-null   float64\n",
      " 6   margem_percentual            6631 non-null   float64\n",
      " 7   maiorAtraso                  6631 non-null   int64  \n",
      " 8   tempoPrimeiraCompra          6631 non-null   int64  \n",
      " 9   cluster                      6631 non-null   float64\n",
      " 10  restricoes                   6631 non-null   object \n",
      " 11  anoFundacao                  6631 non-null   float64\n",
      "dtypes: float64(7), int64(3), object(2)\n",
      "memory usage: 673.5+ KB\n"
     ]
    }
   ],
   "source": [
    "# seleciona as features relevantes\n",
    "@pf.register_dataframe_method\n",
    "def select(\n",
    "  data: pd.DataFrame,\n",
    "  identifier: bool = False,\n",
    ") -> pd.DataFrame:\n",
    "\tX = data.copy()\n",
    "\tkeep = [\n",
    "\t\t\t'percentualRisco',\n",
    "\t\t\t# 'valorAprovado',\n",
    "\t\t\t# 'limiteEmpresaAnaliseCredito',\n",
    "\t\t\t'faturamentoMensal',\n",
    "\t\t\t'anoFundacao',\n",
    "\t\t\t'restricoes',\n",
    "\t\t\t'empresa_MeEppMei',\n",
    "\t\t\t'scorePontualidade',\n",
    "\t\t\t'margem_percentual',\n",
    "\t\t\t'maiorAtraso',\n",
    "\t\t\t'prazo_medio_cobranca',\n",
    "\t\t\t'tempoPrimeiraCompra',\n",
    "\t\t\t'prazoMedioRecebimentoVendas',\n",
    "\t\t\t'titulosEmAberto',\n",
    "\t\t\t'cluster',\n",
    "\t\t]\n",
    "\tif identifier:\n",
    "\t\tkeep = keep + ['numero_solicitacao']\n",
    "\tintersection = list(set(data.columns).intersection(set(keep)))\n",
    "\treturn X[intersection]\n",
    "data.filter_status().engineer().select().info()"
   ]
  },
  {
   "attachments": {},
   "cell_type": "markdown",
   "metadata": {},
   "source": [
    "#### encoding das categorias"
   ]
  },
  {
   "attachments": {},
   "cell_type": "markdown",
   "metadata": {},
   "source": [
    "⭐ nota\n",
    "<div style='color:#222200;background-color:#FFFFBB;padding:10px;'><table style='border:0px solid;width:100%'>\n",
    "<tr><td style=\"border:0px;font-size:60px;width:80px;background-color:#FFFFBB\">⭐</td><td style=\"border:0px;background-color:#FFFFBB;font-size:16px;\">\n",
    "a segmentação de clientes previamente obtida será utilizada no treinamento dos modelos. A feature é categórica e deve ser codificada com one-hot-encoding.\n",
    "</td></tr></table></div>"
   ]
  },
  {
   "cell_type": "code",
   "execution_count": 6,
   "metadata": {},
   "outputs": [
    {
     "name": "stdout",
     "output_type": "stream",
     "text": [
      "<class 'pandas.core.frame.DataFrame'>\n",
      "Int64Index: 6631 entries, 0 to 8961\n",
      "Data columns (total 17 columns):\n",
      " #   Column                       Non-Null Count  Dtype  \n",
      "---  ------                       --------------  -----  \n",
      " 0   cluster_0.0                  6631 non-null   uint8  \n",
      " 1   cluster_1.0                  6631 non-null   uint8  \n",
      " 2   cluster_2.0                  6631 non-null   uint8  \n",
      " 3   cluster_3.0                  6631 non-null   uint8  \n",
      " 4   cluster_4.0                  6631 non-null   uint8  \n",
      " 5   cluster_5.0                  6631 non-null   uint8  \n",
      " 6   scorePontualidade            6631 non-null   float64\n",
      " 7   titulosEmAberto              6631 non-null   float64\n",
      " 8   empresa_MeEppMei             6631 non-null   object \n",
      " 9   prazoMedioRecebimentoVendas  6631 non-null   int64  \n",
      " 10  faturamentoMensal            6631 non-null   float64\n",
      " 11  percentualRisco              6631 non-null   float64\n",
      " 12  margem_percentual            6631 non-null   float64\n",
      " 13  maiorAtraso                  6631 non-null   int64  \n",
      " 14  tempoPrimeiraCompra          6631 non-null   int64  \n",
      " 15  restricoes                   6631 non-null   object \n",
      " 16  anoFundacao                  6631 non-null   float64\n",
      "dtypes: float64(6), int64(3), object(2), uint8(6)\n",
      "memory usage: 918.5+ KB\n"
     ]
    }
   ],
   "source": [
    "# realiza o one-hot encoding do cluster\n",
    "@pf.register_dataframe_method\n",
    "def encode(\n",
    "\t\tdata: pd.DataFrame,\n",
    "\t\tfeatures: list,\n",
    "\t\t) -> pd.DataFrame:\n",
    "\tX = data.copy()\n",
    "\tfor feature in features:\n",
    "\t\tX = pd.get_dummies(X[feature], prefix=feature).join(X)\n",
    "\t\tX = X.drop(columns=[feature])\n",
    "\treturn X\n",
    "data.filter_status().engineer().select().encode(['cluster']).info()"
   ]
  },
  {
   "cell_type": "markdown",
   "metadata": {},
   "source": [
    "#### data types"
   ]
  },
  {
   "cell_type": "code",
   "execution_count": 7,
   "metadata": {},
   "outputs": [
    {
     "name": "stdout",
     "output_type": "stream",
     "text": [
      "<class 'pandas.core.frame.DataFrame'>\n",
      "Int64Index: 6631 entries, 0 to 8961\n",
      "Data columns (total 17 columns):\n",
      " #   Column                       Non-Null Count  Dtype  \n",
      "---  ------                       --------------  -----  \n",
      " 0   cluster_0.0                  6631 non-null   float32\n",
      " 1   cluster_1.0                  6631 non-null   float32\n",
      " 2   cluster_2.0                  6631 non-null   float32\n",
      " 3   cluster_3.0                  6631 non-null   float32\n",
      " 4   cluster_4.0                  6631 non-null   float32\n",
      " 5   cluster_5.0                  6631 non-null   float32\n",
      " 6   scorePontualidade            6631 non-null   float32\n",
      " 7   titulosEmAberto              6631 non-null   float32\n",
      " 8   empresa_MeEppMei             6631 non-null   float32\n",
      " 9   prazoMedioRecebimentoVendas  6631 non-null   float32\n",
      " 10  faturamentoMensal            6631 non-null   float32\n",
      " 11  percentualRisco              6631 non-null   float32\n",
      " 12  margem_percentual            6631 non-null   float32\n",
      " 13  maiorAtraso                  6631 non-null   float32\n",
      " 14  tempoPrimeiraCompra          6631 non-null   float32\n",
      " 15  restricoes                   6631 non-null   float32\n",
      " 16  anoFundacao                  6631 non-null   float32\n",
      "dtypes: float32(17)\n",
      "memory usage: 750.2 KB\n"
     ]
    }
   ],
   "source": [
    "# converte data types\n",
    "@pf.register_dataframe_method\n",
    "def type_cast(\n",
    "\t\tdata: pd.DataFrame,\n",
    "\t) -> pd.DataFrame:\n",
    "\tX = data.copy()\n",
    "\tX = X.astype('float32')\t\t\n",
    "\treturn X\n",
    "data.filter_status().engineer().select().encode(['cluster']).type_cast().info()"
   ]
  },
  {
   "attachments": {},
   "cell_type": "markdown",
   "metadata": {},
   "source": [
    "#### limpeza"
   ]
  },
  {
   "cell_type": "code",
   "execution_count": 8,
   "metadata": {},
   "outputs": [
    {
     "name": "stdout",
     "output_type": "stream",
     "text": [
      "<class 'pandas.core.frame.DataFrame'>\n",
      "Int64Index: 6631 entries, 0 to 8961\n",
      "Data columns (total 17 columns):\n",
      " #   Column                       Non-Null Count  Dtype  \n",
      "---  ------                       --------------  -----  \n",
      " 0   cluster_0.0                  6631 non-null   float32\n",
      " 1   cluster_1.0                  6631 non-null   float32\n",
      " 2   cluster_2.0                  6631 non-null   float32\n",
      " 3   cluster_3.0                  6631 non-null   float32\n",
      " 4   cluster_4.0                  6631 non-null   float32\n",
      " 5   cluster_5.0                  6631 non-null   float32\n",
      " 6   scorePontualidade            6631 non-null   float32\n",
      " 7   titulosEmAberto              6631 non-null   float32\n",
      " 8   empresa_MeEppMei             6631 non-null   float32\n",
      " 9   prazoMedioRecebimentoVendas  6631 non-null   float32\n",
      " 10  faturamentoMensal            6631 non-null   float32\n",
      " 11  percentualRisco              6631 non-null   float32\n",
      " 12  margem_percentual            6631 non-null   float32\n",
      " 13  maiorAtraso                  6631 non-null   float32\n",
      " 14  tempoPrimeiraCompra          6631 non-null   float32\n",
      " 15  restricoes                   6631 non-null   float32\n",
      " 16  anoFundacao                  6631 non-null   float32\n",
      "dtypes: float32(17)\n",
      "memory usage: 750.2 KB\n"
     ]
    }
   ],
   "source": [
    "# elimina valores nulos\n",
    "@pf.register_dataframe_method\n",
    "def clean(\n",
    "  data: pd.DataFrame,\n",
    ") -> pd.DataFrame:\n",
    "\treturn data.dropna()\n",
    "data.filter_status().engineer().select().encode(['cluster']).type_cast().clean().info()"
   ]
  },
  {
   "attachments": {},
   "cell_type": "markdown",
   "metadata": {},
   "source": [
    "#### padronização"
   ]
  },
  {
   "cell_type": "code",
   "execution_count": 9,
   "metadata": {},
   "outputs": [
    {
     "data": {
      "text/html": [
       "<div>\n",
       "<style scoped>\n",
       "    .dataframe tbody tr th:only-of-type {\n",
       "        vertical-align: middle;\n",
       "    }\n",
       "\n",
       "    .dataframe tbody tr th {\n",
       "        vertical-align: top;\n",
       "    }\n",
       "\n",
       "    .dataframe thead th {\n",
       "        text-align: right;\n",
       "    }\n",
       "</style>\n",
       "<table border=\"1\" class=\"dataframe\">\n",
       "  <thead>\n",
       "    <tr style=\"text-align: right;\">\n",
       "      <th></th>\n",
       "      <th>count</th>\n",
       "      <th>mean</th>\n",
       "      <th>std</th>\n",
       "      <th>min</th>\n",
       "      <th>25%</th>\n",
       "      <th>50%</th>\n",
       "      <th>75%</th>\n",
       "      <th>max</th>\n",
       "    </tr>\n",
       "  </thead>\n",
       "  <tbody>\n",
       "    <tr>\n",
       "      <th>cluster_0.0</th>\n",
       "      <td>6,631.0000</td>\n",
       "      <td>0.0000</td>\n",
       "      <td>1.0001</td>\n",
       "      <td>-0.5985</td>\n",
       "      <td>-0.5985</td>\n",
       "      <td>-0.5985</td>\n",
       "      <td>1.6707</td>\n",
       "      <td>1.6707</td>\n",
       "    </tr>\n",
       "    <tr>\n",
       "      <th>cluster_1.0</th>\n",
       "      <td>6,631.0000</td>\n",
       "      <td>0.0000</td>\n",
       "      <td>1.0001</td>\n",
       "      <td>-0.2534</td>\n",
       "      <td>-0.2534</td>\n",
       "      <td>-0.2534</td>\n",
       "      <td>-0.2534</td>\n",
       "      <td>3.9468</td>\n",
       "    </tr>\n",
       "    <tr>\n",
       "      <th>cluster_2.0</th>\n",
       "      <td>6,631.0000</td>\n",
       "      <td>0.0000</td>\n",
       "      <td>1.0001</td>\n",
       "      <td>-0.3976</td>\n",
       "      <td>-0.3976</td>\n",
       "      <td>-0.3976</td>\n",
       "      <td>-0.3976</td>\n",
       "      <td>2.5154</td>\n",
       "    </tr>\n",
       "    <tr>\n",
       "      <th>cluster_3.0</th>\n",
       "      <td>6,631.0000</td>\n",
       "      <td>-0.0000</td>\n",
       "      <td>1.0001</td>\n",
       "      <td>-0.7140</td>\n",
       "      <td>-0.7140</td>\n",
       "      <td>-0.7140</td>\n",
       "      <td>1.4006</td>\n",
       "      <td>1.4006</td>\n",
       "    </tr>\n",
       "    <tr>\n",
       "      <th>cluster_4.0</th>\n",
       "      <td>6,631.0000</td>\n",
       "      <td>-0.0000</td>\n",
       "      <td>1.0001</td>\n",
       "      <td>-0.2809</td>\n",
       "      <td>-0.2809</td>\n",
       "      <td>-0.2809</td>\n",
       "      <td>-0.2809</td>\n",
       "      <td>3.5598</td>\n",
       "    </tr>\n",
       "    <tr>\n",
       "      <th>cluster_5.0</th>\n",
       "      <td>6,631.0000</td>\n",
       "      <td>-0.0000</td>\n",
       "      <td>1.0001</td>\n",
       "      <td>-0.3842</td>\n",
       "      <td>-0.3842</td>\n",
       "      <td>-0.3842</td>\n",
       "      <td>-0.3842</td>\n",
       "      <td>2.6026</td>\n",
       "    </tr>\n",
       "    <tr>\n",
       "      <th>scorePontualidade</th>\n",
       "      <td>6,631.0000</td>\n",
       "      <td>-0.0000</td>\n",
       "      <td>1.0001</td>\n",
       "      <td>-2.2904</td>\n",
       "      <td>0.2915</td>\n",
       "      <td>0.4953</td>\n",
       "      <td>0.4953</td>\n",
       "      <td>0.4953</td>\n",
       "    </tr>\n",
       "    <tr>\n",
       "      <th>titulosEmAberto</th>\n",
       "      <td>6,631.0000</td>\n",
       "      <td>0.0000</td>\n",
       "      <td>1.0001</td>\n",
       "      <td>-0.3294</td>\n",
       "      <td>-0.3294</td>\n",
       "      <td>-0.3294</td>\n",
       "      <td>-0.2071</td>\n",
       "      <td>5.9603</td>\n",
       "    </tr>\n",
       "    <tr>\n",
       "      <th>empresa_MeEppMei</th>\n",
       "      <td>6,631.0000</td>\n",
       "      <td>0.0000</td>\n",
       "      <td>1.0001</td>\n",
       "      <td>-0.7777</td>\n",
       "      <td>-0.7777</td>\n",
       "      <td>-0.7777</td>\n",
       "      <td>1.2859</td>\n",
       "      <td>1.2859</td>\n",
       "    </tr>\n",
       "    <tr>\n",
       "      <th>prazoMedioRecebimentoVendas</th>\n",
       "      <td>6,631.0000</td>\n",
       "      <td>-0.0000</td>\n",
       "      <td>1.0001</td>\n",
       "      <td>-0.5146</td>\n",
       "      <td>-0.5146</td>\n",
       "      <td>-0.5146</td>\n",
       "      <td>0.2597</td>\n",
       "      <td>5.1965</td>\n",
       "    </tr>\n",
       "    <tr>\n",
       "      <th>faturamentoMensal</th>\n",
       "      <td>6,631.0000</td>\n",
       "      <td>-0.0000</td>\n",
       "      <td>1.0001</td>\n",
       "      <td>-0.2770</td>\n",
       "      <td>-0.2675</td>\n",
       "      <td>-0.2507</td>\n",
       "      <td>-0.1553</td>\n",
       "      <td>7.9016</td>\n",
       "    </tr>\n",
       "    <tr>\n",
       "      <th>percentualRisco</th>\n",
       "      <td>6,631.0000</td>\n",
       "      <td>-0.0000</td>\n",
       "      <td>1.0001</td>\n",
       "      <td>-1.7996</td>\n",
       "      <td>-0.8690</td>\n",
       "      <td>-0.0689</td>\n",
       "      <td>0.6550</td>\n",
       "      <td>2.5272</td>\n",
       "    </tr>\n",
       "    <tr>\n",
       "      <th>margem_percentual</th>\n",
       "      <td>6,631.0000</td>\n",
       "      <td>-0.0000</td>\n",
       "      <td>1.0001</td>\n",
       "      <td>-0.8106</td>\n",
       "      <td>-0.8106</td>\n",
       "      <td>-0.8106</td>\n",
       "      <td>0.6858</td>\n",
       "      <td>2.9826</td>\n",
       "    </tr>\n",
       "    <tr>\n",
       "      <th>maiorAtraso</th>\n",
       "      <td>6,631.0000</td>\n",
       "      <td>0.0000</td>\n",
       "      <td>1.0001</td>\n",
       "      <td>-0.5172</td>\n",
       "      <td>-0.4447</td>\n",
       "      <td>-0.3723</td>\n",
       "      <td>-0.0103</td>\n",
       "      <td>6.2164</td>\n",
       "    </tr>\n",
       "    <tr>\n",
       "      <th>tempoPrimeiraCompra</th>\n",
       "      <td>6,631.0000</td>\n",
       "      <td>-0.0000</td>\n",
       "      <td>1.0001</td>\n",
       "      <td>-1.1870</td>\n",
       "      <td>-0.7795</td>\n",
       "      <td>-0.3123</td>\n",
       "      <td>0.5899</td>\n",
       "      <td>2.4259</td>\n",
       "    </tr>\n",
       "    <tr>\n",
       "      <th>restricoes</th>\n",
       "      <td>6,631.0000</td>\n",
       "      <td>0.0000</td>\n",
       "      <td>1.0001</td>\n",
       "      <td>-0.2438</td>\n",
       "      <td>-0.2438</td>\n",
       "      <td>-0.2438</td>\n",
       "      <td>-0.2438</td>\n",
       "      <td>4.1019</td>\n",
       "    </tr>\n",
       "    <tr>\n",
       "      <th>anoFundacao</th>\n",
       "      <td>6,631.0000</td>\n",
       "      <td>0.0000</td>\n",
       "      <td>1.0001</td>\n",
       "      <td>-3.4070</td>\n",
       "      <td>-0.5660</td>\n",
       "      <td>0.2588</td>\n",
       "      <td>0.8087</td>\n",
       "      <td>1.1752</td>\n",
       "    </tr>\n",
       "  </tbody>\n",
       "</table>\n",
       "</div>"
      ],
      "text/plain": [
       "                                 count    mean    std     min     25%     50%  \\\n",
       "cluster_0.0                 6,631.0000  0.0000 1.0001 -0.5985 -0.5985 -0.5985   \n",
       "cluster_1.0                 6,631.0000  0.0000 1.0001 -0.2534 -0.2534 -0.2534   \n",
       "cluster_2.0                 6,631.0000  0.0000 1.0001 -0.3976 -0.3976 -0.3976   \n",
       "cluster_3.0                 6,631.0000 -0.0000 1.0001 -0.7140 -0.7140 -0.7140   \n",
       "cluster_4.0                 6,631.0000 -0.0000 1.0001 -0.2809 -0.2809 -0.2809   \n",
       "cluster_5.0                 6,631.0000 -0.0000 1.0001 -0.3842 -0.3842 -0.3842   \n",
       "scorePontualidade           6,631.0000 -0.0000 1.0001 -2.2904  0.2915  0.4953   \n",
       "titulosEmAberto             6,631.0000  0.0000 1.0001 -0.3294 -0.3294 -0.3294   \n",
       "empresa_MeEppMei            6,631.0000  0.0000 1.0001 -0.7777 -0.7777 -0.7777   \n",
       "prazoMedioRecebimentoVendas 6,631.0000 -0.0000 1.0001 -0.5146 -0.5146 -0.5146   \n",
       "faturamentoMensal           6,631.0000 -0.0000 1.0001 -0.2770 -0.2675 -0.2507   \n",
       "percentualRisco             6,631.0000 -0.0000 1.0001 -1.7996 -0.8690 -0.0689   \n",
       "margem_percentual           6,631.0000 -0.0000 1.0001 -0.8106 -0.8106 -0.8106   \n",
       "maiorAtraso                 6,631.0000  0.0000 1.0001 -0.5172 -0.4447 -0.3723   \n",
       "tempoPrimeiraCompra         6,631.0000 -0.0000 1.0001 -1.1870 -0.7795 -0.3123   \n",
       "restricoes                  6,631.0000  0.0000 1.0001 -0.2438 -0.2438 -0.2438   \n",
       "anoFundacao                 6,631.0000  0.0000 1.0001 -3.4070 -0.5660  0.2588   \n",
       "\n",
       "                                75%    max  \n",
       "cluster_0.0                  1.6707 1.6707  \n",
       "cluster_1.0                 -0.2534 3.9468  \n",
       "cluster_2.0                 -0.3976 2.5154  \n",
       "cluster_3.0                  1.4006 1.4006  \n",
       "cluster_4.0                 -0.2809 3.5598  \n",
       "cluster_5.0                 -0.3842 2.6026  \n",
       "scorePontualidade            0.4953 0.4953  \n",
       "titulosEmAberto             -0.2071 5.9603  \n",
       "empresa_MeEppMei             1.2859 1.2859  \n",
       "prazoMedioRecebimentoVendas  0.2597 5.1965  \n",
       "faturamentoMensal           -0.1553 7.9016  \n",
       "percentualRisco              0.6550 2.5272  \n",
       "margem_percentual            0.6858 2.9826  \n",
       "maiorAtraso                 -0.0103 6.2164  \n",
       "tempoPrimeiraCompra          0.5899 2.4259  \n",
       "restricoes                  -0.2438 4.1019  \n",
       "anoFundacao                  0.8087 1.1752  "
      ]
     },
     "execution_count": 9,
     "metadata": {},
     "output_type": "execute_result"
    }
   ],
   "source": [
    "# aplica padronização por z-score\n",
    "@pf.register_dataframe_method\n",
    "def standardize(\n",
    "\t\tdata: pd.DataFrame,\n",
    "\t) -> pd.DataFrame:\n",
    "\tX = data.copy()\n",
    "\t# clip outliers\n",
    "\tX = X.clip(lower=X.quantile(0.01), upper=X.quantile(0.99), axis=1)\n",
    "\tstandardizer = StandardScaler()\n",
    "\tX = pd.DataFrame(standardizer.fit_transform(X), columns=X.columns)\n",
    "\treturn X\n",
    "data.filter_status().engineer().select().encode(['cluster']).type_cast().clean().standardize().describe().T"
   ]
  },
  {
   "attachments": {},
   "cell_type": "markdown",
   "metadata": {},
   "source": [
    "#### preparação dos dados"
   ]
  },
  {
   "cell_type": "code",
   "execution_count": 10,
   "metadata": {},
   "outputs": [
    {
     "name": "stdout",
     "output_type": "stream",
     "text": [
      "<class 'pandas.core.frame.DataFrame'>\n",
      "Int64Index: 5304 entries, 5165 to 860\n",
      "Data columns (total 16 columns):\n",
      " #   Column                       Non-Null Count  Dtype  \n",
      "---  ------                       --------------  -----  \n",
      " 0   cluster_0.0                  5304 non-null   float64\n",
      " 1   cluster_1.0                  5304 non-null   float64\n",
      " 2   cluster_2.0                  5304 non-null   float64\n",
      " 3   cluster_3.0                  5304 non-null   float64\n",
      " 4   cluster_4.0                  5304 non-null   float64\n",
      " 5   cluster_5.0                  5304 non-null   float64\n",
      " 6   scorePontualidade            5304 non-null   float64\n",
      " 7   titulosEmAberto              5304 non-null   float64\n",
      " 8   empresa_MeEppMei             5304 non-null   float64\n",
      " 9   prazoMedioRecebimentoVendas  5304 non-null   float64\n",
      " 10  faturamentoMensal            5304 non-null   float64\n",
      " 11  margem_percentual            5304 non-null   float64\n",
      " 12  maiorAtraso                  5304 non-null   float64\n",
      " 13  tempoPrimeiraCompra          5304 non-null   float64\n",
      " 14  restricoes                   5304 non-null   float64\n",
      " 15  anoFundacao                  5304 non-null   float64\n",
      "dtypes: float64(16)\n",
      "memory usage: 704.4 KB\n"
     ]
    },
    {
     "data": {
      "text/plain": [
       "None"
      ]
     },
     "metadata": {},
     "output_type": "display_data"
    },
    {
     "data": {
      "text/html": [
       "<div>\n",
       "<style scoped>\n",
       "    .dataframe tbody tr th:only-of-type {\n",
       "        vertical-align: middle;\n",
       "    }\n",
       "\n",
       "    .dataframe tbody tr th {\n",
       "        vertical-align: top;\n",
       "    }\n",
       "\n",
       "    .dataframe thead th {\n",
       "        text-align: right;\n",
       "    }\n",
       "</style>\n",
       "<table border=\"1\" class=\"dataframe\">\n",
       "  <thead>\n",
       "    <tr style=\"text-align: right;\">\n",
       "      <th></th>\n",
       "      <th>count</th>\n",
       "      <th>mean</th>\n",
       "      <th>std</th>\n",
       "      <th>min</th>\n",
       "      <th>25%</th>\n",
       "      <th>50%</th>\n",
       "      <th>75%</th>\n",
       "      <th>max</th>\n",
       "    </tr>\n",
       "  </thead>\n",
       "  <tbody>\n",
       "    <tr>\n",
       "      <th>cluster_0.0</th>\n",
       "      <td>5,304.0000</td>\n",
       "      <td>-0.0068</td>\n",
       "      <td>0.9964</td>\n",
       "      <td>-0.5985</td>\n",
       "      <td>-0.5985</td>\n",
       "      <td>-0.5985</td>\n",
       "      <td>1.6707</td>\n",
       "      <td>1.6707</td>\n",
       "    </tr>\n",
       "    <tr>\n",
       "      <th>cluster_1.0</th>\n",
       "      <td>5,304.0000</td>\n",
       "      <td>0.0032</td>\n",
       "      <td>1.0060</td>\n",
       "      <td>-0.2534</td>\n",
       "      <td>-0.2534</td>\n",
       "      <td>-0.2534</td>\n",
       "      <td>-0.2534</td>\n",
       "      <td>3.9468</td>\n",
       "    </tr>\n",
       "    <tr>\n",
       "      <th>cluster_2.0</th>\n",
       "      <td>5,304.0000</td>\n",
       "      <td>0.0143</td>\n",
       "      <td>1.0151</td>\n",
       "      <td>-0.3976</td>\n",
       "      <td>-0.3976</td>\n",
       "      <td>-0.3976</td>\n",
       "      <td>-0.3976</td>\n",
       "      <td>2.5154</td>\n",
       "    </tr>\n",
       "    <tr>\n",
       "      <th>cluster_3.0</th>\n",
       "      <td>5,304.0000</td>\n",
       "      <td>0.0012</td>\n",
       "      <td>1.0005</td>\n",
       "      <td>-0.7140</td>\n",
       "      <td>-0.7140</td>\n",
       "      <td>-0.7140</td>\n",
       "      <td>1.4006</td>\n",
       "      <td>1.4006</td>\n",
       "    </tr>\n",
       "    <tr>\n",
       "      <th>cluster_4.0</th>\n",
       "      <td>5,304.0000</td>\n",
       "      <td>-0.0021</td>\n",
       "      <td>0.9966</td>\n",
       "      <td>-0.2809</td>\n",
       "      <td>-0.2809</td>\n",
       "      <td>-0.2809</td>\n",
       "      <td>-0.2809</td>\n",
       "      <td>3.5598</td>\n",
       "    </tr>\n",
       "    <tr>\n",
       "      <th>cluster_5.0</th>\n",
       "      <td>5,304.0000</td>\n",
       "      <td>-0.0081</td>\n",
       "      <td>0.9911</td>\n",
       "      <td>-0.3842</td>\n",
       "      <td>-0.3842</td>\n",
       "      <td>-0.3842</td>\n",
       "      <td>-0.3842</td>\n",
       "      <td>2.6026</td>\n",
       "    </tr>\n",
       "    <tr>\n",
       "      <th>scorePontualidade</th>\n",
       "      <td>5,304.0000</td>\n",
       "      <td>0.0064</td>\n",
       "      <td>0.9937</td>\n",
       "      <td>-2.2904</td>\n",
       "      <td>0.3130</td>\n",
       "      <td>0.4953</td>\n",
       "      <td>0.4953</td>\n",
       "      <td>0.4953</td>\n",
       "    </tr>\n",
       "    <tr>\n",
       "      <th>titulosEmAberto</th>\n",
       "      <td>5,304.0000</td>\n",
       "      <td>0.0001</td>\n",
       "      <td>1.0024</td>\n",
       "      <td>-0.3294</td>\n",
       "      <td>-0.3294</td>\n",
       "      <td>-0.3294</td>\n",
       "      <td>-0.2078</td>\n",
       "      <td>5.9603</td>\n",
       "    </tr>\n",
       "    <tr>\n",
       "      <th>empresa_MeEppMei</th>\n",
       "      <td>5,304.0000</td>\n",
       "      <td>-0.0144</td>\n",
       "      <td>0.9963</td>\n",
       "      <td>-0.7777</td>\n",
       "      <td>-0.7777</td>\n",
       "      <td>-0.7777</td>\n",
       "      <td>1.2859</td>\n",
       "      <td>1.2859</td>\n",
       "    </tr>\n",
       "    <tr>\n",
       "      <th>prazoMedioRecebimentoVendas</th>\n",
       "      <td>5,304.0000</td>\n",
       "      <td>0.0048</td>\n",
       "      <td>1.0025</td>\n",
       "      <td>-0.5146</td>\n",
       "      <td>-0.5146</td>\n",
       "      <td>-0.5146</td>\n",
       "      <td>0.2597</td>\n",
       "      <td>5.1965</td>\n",
       "    </tr>\n",
       "    <tr>\n",
       "      <th>faturamentoMensal</th>\n",
       "      <td>5,304.0000</td>\n",
       "      <td>0.0152</td>\n",
       "      <td>1.0483</td>\n",
       "      <td>-0.2770</td>\n",
       "      <td>-0.2675</td>\n",
       "      <td>-0.2507</td>\n",
       "      <td>-0.1530</td>\n",
       "      <td>7.9016</td>\n",
       "    </tr>\n",
       "    <tr>\n",
       "      <th>margem_percentual</th>\n",
       "      <td>5,304.0000</td>\n",
       "      <td>0.0088</td>\n",
       "      <td>1.0057</td>\n",
       "      <td>-0.8106</td>\n",
       "      <td>-0.8106</td>\n",
       "      <td>-0.8106</td>\n",
       "      <td>0.6856</td>\n",
       "      <td>2.9826</td>\n",
       "    </tr>\n",
       "    <tr>\n",
       "      <th>maiorAtraso</th>\n",
       "      <td>5,304.0000</td>\n",
       "      <td>0.0010</td>\n",
       "      <td>0.9966</td>\n",
       "      <td>-0.5172</td>\n",
       "      <td>-0.4447</td>\n",
       "      <td>-0.3723</td>\n",
       "      <td>-0.0103</td>\n",
       "      <td>6.2164</td>\n",
       "    </tr>\n",
       "    <tr>\n",
       "      <th>tempoPrimeiraCompra</th>\n",
       "      <td>5,304.0000</td>\n",
       "      <td>0.0078</td>\n",
       "      <td>1.0060</td>\n",
       "      <td>-1.1870</td>\n",
       "      <td>-0.7808</td>\n",
       "      <td>-0.3096</td>\n",
       "      <td>0.6094</td>\n",
       "      <td>2.4259</td>\n",
       "    </tr>\n",
       "    <tr>\n",
       "      <th>restricoes</th>\n",
       "      <td>5,304.0000</td>\n",
       "      <td>-0.0021</td>\n",
       "      <td>0.9960</td>\n",
       "      <td>-0.2438</td>\n",
       "      <td>-0.2438</td>\n",
       "      <td>-0.2438</td>\n",
       "      <td>-0.2438</td>\n",
       "      <td>4.1019</td>\n",
       "    </tr>\n",
       "    <tr>\n",
       "      <th>anoFundacao</th>\n",
       "      <td>5,304.0000</td>\n",
       "      <td>-0.0059</td>\n",
       "      <td>1.0067</td>\n",
       "      <td>-3.4070</td>\n",
       "      <td>-0.5660</td>\n",
       "      <td>0.2588</td>\n",
       "      <td>0.8087</td>\n",
       "      <td>1.1752</td>\n",
       "    </tr>\n",
       "  </tbody>\n",
       "</table>\n",
       "</div>"
      ],
      "text/plain": [
       "                                 count    mean    std     min     25%     50%  \\\n",
       "cluster_0.0                 5,304.0000 -0.0068 0.9964 -0.5985 -0.5985 -0.5985   \n",
       "cluster_1.0                 5,304.0000  0.0032 1.0060 -0.2534 -0.2534 -0.2534   \n",
       "cluster_2.0                 5,304.0000  0.0143 1.0151 -0.3976 -0.3976 -0.3976   \n",
       "cluster_3.0                 5,304.0000  0.0012 1.0005 -0.7140 -0.7140 -0.7140   \n",
       "cluster_4.0                 5,304.0000 -0.0021 0.9966 -0.2809 -0.2809 -0.2809   \n",
       "cluster_5.0                 5,304.0000 -0.0081 0.9911 -0.3842 -0.3842 -0.3842   \n",
       "scorePontualidade           5,304.0000  0.0064 0.9937 -2.2904  0.3130  0.4953   \n",
       "titulosEmAberto             5,304.0000  0.0001 1.0024 -0.3294 -0.3294 -0.3294   \n",
       "empresa_MeEppMei            5,304.0000 -0.0144 0.9963 -0.7777 -0.7777 -0.7777   \n",
       "prazoMedioRecebimentoVendas 5,304.0000  0.0048 1.0025 -0.5146 -0.5146 -0.5146   \n",
       "faturamentoMensal           5,304.0000  0.0152 1.0483 -0.2770 -0.2675 -0.2507   \n",
       "margem_percentual           5,304.0000  0.0088 1.0057 -0.8106 -0.8106 -0.8106   \n",
       "maiorAtraso                 5,304.0000  0.0010 0.9966 -0.5172 -0.4447 -0.3723   \n",
       "tempoPrimeiraCompra         5,304.0000  0.0078 1.0060 -1.1870 -0.7808 -0.3096   \n",
       "restricoes                  5,304.0000 -0.0021 0.9960 -0.2438 -0.2438 -0.2438   \n",
       "anoFundacao                 5,304.0000 -0.0059 1.0067 -3.4070 -0.5660  0.2588   \n",
       "\n",
       "                                75%    max  \n",
       "cluster_0.0                  1.6707 1.6707  \n",
       "cluster_1.0                 -0.2534 3.9468  \n",
       "cluster_2.0                 -0.3976 2.5154  \n",
       "cluster_3.0                  1.4006 1.4006  \n",
       "cluster_4.0                 -0.2809 3.5598  \n",
       "cluster_5.0                 -0.3842 2.6026  \n",
       "scorePontualidade            0.4953 0.4953  \n",
       "titulosEmAberto             -0.2078 5.9603  \n",
       "empresa_MeEppMei             1.2859 1.2859  \n",
       "prazoMedioRecebimentoVendas  0.2597 5.1965  \n",
       "faturamentoMensal           -0.1530 7.9016  \n",
       "margem_percentual            0.6856 2.9826  \n",
       "maiorAtraso                 -0.0103 6.2164  \n",
       "tempoPrimeiraCompra          0.6094 2.4259  \n",
       "restricoes                  -0.2438 4.1019  \n",
       "anoFundacao                  0.8087 1.1752  "
      ]
     },
     "metadata": {},
     "output_type": "display_data"
    },
    {
     "name": "stdout",
     "output_type": "stream",
     "text": [
      "Shape de data_train: (5304, 16)\n",
      "Shape de data_test: (1327, 16)\n"
     ]
    }
   ],
   "source": [
    "data_preprocess = data.filter_status().engineer().select().encode(['cluster']).type_cast().clean()\n",
    "targets_preprocess = data_preprocess['percentualRisco']\n",
    "features_preprocess = data_preprocess.drop(columns=['percentualRisco']).standardize()\n",
    "\n",
    "data_train, data_test, targets_train, targets_test = train_test_split(features_preprocess, targets_preprocess, test_size=0.2, random_state=42)\n",
    "\n",
    "display(data_train.info())\n",
    "display(data_train.describe().T)\n",
    "print (f'Shape de data_train: {data_train.shape}')\n",
    "print (f'Shape de data_test: {data_test.shape}')"
   ]
  },
  {
   "attachments": {},
   "cell_type": "markdown",
   "metadata": {},
   "source": [
    "### Treinamento dos Modelos"
   ]
  },
  {
   "attachments": {},
   "cell_type": "markdown",
   "metadata": {},
   "source": [
    "⭐ nota\n",
    "<div style='color:#222200;background-color:#FFFFBB;padding:10px;'><table style='border:0px solid;width:100%'>\n",
    "<tr><td style=\"border:0px;font-size:60px;width:80px;background-color:#FFFFBB\">⭐</td><td style=\"border:0px;background-color:#FFFFBB;font-size:16px;\">\n",
    "- foram testados 3 algoritmos <br>\n",
    "- para cada algoritmo, foram testadas as principais variações dos seus hiperparâmetros<br>\n",
    "- a busca foi feita por otimização bayesiana, utilizando validação cruzada com 5 partições <br>\n",
    "- todas as métricas de avaliação foram calculadas sobre o conjunto de teste (holdout) <br>\n",
    "- o particionamento do conjunto de teste foi feito com 20% dos registros disponíveis\n",
    "</td></tr></table></div>"
   ]
  },
  {
   "attachments": {},
   "cell_type": "markdown",
   "metadata": {},
   "source": [
    "#### rotinas de otimização"
   ]
  },
  {
   "cell_type": "code",
   "execution_count": 11,
   "metadata": {},
   "outputs": [],
   "source": [
    "# callback para salvar o melhor modelo\n",
    "def callback(\n",
    "\t\tstudy: opt.study.Study,\n",
    "\t\ttrial: opt.trial.FrozenTrial,\n",
    "\t) -> None:\n",
    "\tif study.best_trial.number == trial.number:\n",
    "\t\tstudy.set_user_attr(key='best_estimator', value=trial.user_attrs['estimator'])"
   ]
  },
  {
   "cell_type": "code",
   "execution_count": 12,
   "metadata": {},
   "outputs": [],
   "source": [
    "# plota os resultados da otimização e a avaliação do melhor modelo no dataset de teste\n",
    "def plot_optimization_results(\n",
    "\t\tstudy: opt.study.Study,\n",
    "\t\ty_test: pd.DataFrame,\n",
    "\t\ty_pred: np.ndarray,\n",
    "\t) -> None:\n",
    "\n",
    "\t# plota os resultados da otimização\n",
    "\tdisplay(opt.visualization.plot_optimization_history(study))\n",
    "\ttry:\n",
    "\t\tdisplay(opt.visualization.plot_param_importances(study))\n",
    "\texcept:\n",
    "\t\t...\n",
    "\t\n",
    "\t# imprime o melhor modelo\n",
    "\tprint (f'Best trial: {study.best_trial.value}')\n",
    "\tprint (f'Best parameters: {study.best_params}')"
   ]
  },
  {
   "cell_type": "code",
   "execution_count": 13,
   "metadata": {},
   "outputs": [],
   "source": [
    "# rotina de otimização bayesiana\n",
    "def optimize(\n",
    "\t\tobjective, #Callable,\n",
    "    description: str,\n",
    "    n_trials: int,\n",
    "\t\tX: pd.DataFrame,\n",
    "\t\ty: pd.DataFrame,\n",
    "\t\tX_test: pd.DataFrame,\n",
    "\t\ty_test: pd.DataFrame,\n",
    "\t) -> dict: \n",
    "        \n",
    "\t# cria o estudo e executa a otimização\n",
    "\tstudy = opt.create_study(direction='maximize')\n",
    "\tstudy.optimize(lambda trial:objective(trial, X, y),\n",
    "\t\tcallbacks=[callback], n_trials=n_trials, timeout=60*5, n_jobs=-1, show_progress_bar = True)\n",
    "\n",
    "\t# fita e salva o melhor modelo\n",
    "\tfit = study.user_attrs['best_estimator'].fit(X, y)\n",
    "\tjoblib.dump(fit, f'models/{description}.joblib')\n",
    "\n",
    "\t# avalia os resultados no conjunto de teste\n",
    "\ty_pred_val = fit.predict(X)\n",
    "\ty_pred = fit.predict(X_test)\n",
    "\tmetrics = {\n",
    "\t\t'validation': {\n",
    "\t\t\t'mae': mean_absolute_error(y, y_pred_val),\n",
    "\t\t\t'rmse': np.sqrt(mean_squared_error(y, y_pred_val)),\n",
    "\t\t\t'r2': r2_score(y, y_pred_val),\n",
    "\t\t\t# 'mape': mean_absolute_percentage_error(y, y_pred_val),\n",
    "\t\t},\n",
    "\t\t'test': {\n",
    "\t\t\t'mae': mean_absolute_error(y_test, y_pred),\n",
    "\t\t\t'rmse': np.sqrt(mean_squared_error(y_test, y_pred)),\n",
    "\t\t\t'r2': r2_score(y_test, y_pred),\n",
    "\t\t\t# 'mape': mean_absolute_percentage_error(y_test, y_pred),\n",
    "\t\t}\n",
    "\t}\n",
    "\tvalidation = pd.DataFrame(metrics['validation'], index=['validation'])\n",
    "\ttest = pd.DataFrame(metrics['test'], index=['test'])\n",
    "\tdisplay(pd.concat([validation, test], axis=0).T)\n",
    "\n",
    "\t# plota os resultados\n",
    "\tplot_optimization_results(study, y_test, y_pred)\n",
    "\t\n",
    "\treturn {\n",
    "\t\t'description': description,\n",
    "\t\t'metrics': metrics,\n",
    "\t\t'estimator': fit,\n",
    "\t\t'results': study.trials_dataframe(),\n",
    "\t\t'predictions': y_pred,\n",
    "\t}\n"
   ]
  },
  {
   "attachments": {},
   "cell_type": "markdown",
   "metadata": {},
   "source": [
    "⭐ nota\n",
    "<div style='color:#222200;background-color:#FFFFBB;padding:10px;'><table style='border:0px solid;width:100%'>\n",
    "<tr><td style=\"border:0px;font-size:60px;width:80px;background-color:#FFFFBB\">⭐</td><td style=\"border:0px;background-color:#FFFFBB;font-size:16px;\">\n",
    "o treinamento foi realizado com o objetivo de minimizar o RMSE\n",
    "</td></tr></table></div>"
   ]
  },
  {
   "attachments": {},
   "cell_type": "markdown",
   "metadata": {},
   "source": [
    "#### elasticnet"
   ]
  },
  {
   "cell_type": "code",
   "execution_count": 14,
   "metadata": {},
   "outputs": [
    {
     "data": {
      "application/vnd.jupyter.widget-view+json": {
       "model_id": "456d6dcd86604b42a59d2e36e1526ec7",
       "version_major": 2,
       "version_minor": 0
      },
      "text/plain": [
       "  0%|          | 0/150 [00:00<?, ?it/s]"
      ]
     },
     "metadata": {},
     "output_type": "display_data"
    },
    {
     "data": {
      "text/html": [
       "<div>\n",
       "<style scoped>\n",
       "    .dataframe tbody tr th:only-of-type {\n",
       "        vertical-align: middle;\n",
       "    }\n",
       "\n",
       "    .dataframe tbody tr th {\n",
       "        vertical-align: top;\n",
       "    }\n",
       "\n",
       "    .dataframe thead th {\n",
       "        text-align: right;\n",
       "    }\n",
       "</style>\n",
       "<table border=\"1\" class=\"dataframe\">\n",
       "  <thead>\n",
       "    <tr style=\"text-align: right;\">\n",
       "      <th></th>\n",
       "      <th>validation</th>\n",
       "      <th>test</th>\n",
       "    </tr>\n",
       "  </thead>\n",
       "  <tbody>\n",
       "    <tr>\n",
       "      <th>mae</th>\n",
       "      <td>0.0732</td>\n",
       "      <td>0.0763</td>\n",
       "    </tr>\n",
       "    <tr>\n",
       "      <th>rmse</th>\n",
       "      <td>0.0910</td>\n",
       "      <td>0.0945</td>\n",
       "    </tr>\n",
       "    <tr>\n",
       "      <th>r2</th>\n",
       "      <td>0.4653</td>\n",
       "      <td>0.4524</td>\n",
       "    </tr>\n",
       "  </tbody>\n",
       "</table>\n",
       "</div>"
      ],
      "text/plain": [
       "      validation   test\n",
       "mae       0.0732 0.0763\n",
       "rmse      0.0910 0.0945\n",
       "r2        0.4653 0.4524"
      ]
     },
     "metadata": {},
     "output_type": "display_data"
    },
    {
     "data": {
      "application/vnd.plotly.v1+json": {
       "config": {
        "plotlyServerURL": "https://plot.ly"
       },
       "data": [
        {
         "mode": "markers",
         "name": "Objective Value",
         "type": "scatter",
         "x": [
          0,
          1,
          2,
          3,
          4,
          5,
          6,
          7,
          8,
          9,
          10,
          11,
          12,
          13,
          14,
          15,
          16,
          17,
          18,
          19,
          20,
          21,
          22,
          23,
          24,
          25,
          26,
          27,
          28,
          29,
          30,
          31,
          32,
          33,
          34,
          35,
          36,
          37,
          38,
          39,
          40,
          41,
          42,
          43,
          44,
          45,
          46,
          47,
          48,
          49,
          50,
          51,
          52,
          53,
          54,
          55,
          56,
          57,
          58,
          59,
          60,
          61,
          62,
          63,
          64,
          65,
          66,
          67,
          68,
          69,
          70,
          71,
          72,
          73,
          74,
          75,
          76,
          77,
          78,
          79,
          80,
          81,
          82,
          83,
          84,
          85,
          86,
          87,
          88,
          89,
          90,
          91,
          92,
          93,
          94,
          95,
          96,
          97,
          98,
          99,
          100,
          101,
          102,
          103,
          104,
          105,
          106,
          107,
          108,
          109,
          110,
          111,
          112,
          113,
          114,
          115,
          116,
          117,
          118,
          119,
          120,
          121,
          122,
          123,
          124,
          125,
          126,
          127,
          128,
          129,
          130,
          131,
          132,
          133,
          134,
          135,
          136,
          137,
          138,
          139,
          140,
          141,
          142,
          143,
          144,
          145,
          146,
          147,
          148,
          149
         ],
         "y": [
          -0.09169533471031462,
          -0.274903118967583,
          -0.2749194097238231,
          -0.2749031812734616,
          -0.27487575037455547,
          -0.09121857674953111,
          -0.2749044849953396,
          -0.09248907339072704,
          -0.28127035418821994,
          -0.09123029893714375,
          -0.2748869853959152,
          -0.09121721149991079,
          -0.09221777804260216,
          -0.27506685343078646,
          -0.10738805154070234,
          -0.27486786153372783,
          -0.2760494920160497,
          -0.2749962266319686,
          -0.2751495261691794,
          -0.09158586256414218,
          -0.27486985087617355,
          -0.27489933770583297,
          -0.27502513292406516,
          -0.09162922296987194,
          -0.09122033913046543,
          -0.09660347975093965,
          -0.09122054663724292,
          -0.27486844864788695,
          -0.2748683312114559,
          -0.09121797977275592,
          -0.2749182525806132,
          -0.09121713162229309,
          -0.27490348351884764,
          -0.09122154231455241,
          -0.09121758250854874,
          -0.09121724745150406,
          -0.09121771463350158,
          -0.09121729325041215,
          -0.09121823374066683,
          -0.09121952146918484,
          -0.09122066205252957,
          -0.09122143658139639,
          -0.09121900121459187,
          -0.09121829406450493,
          -0.09121845530068882,
          -0.09121811802363781,
          -0.0912183471374704,
          -0.09122012085595435,
          -0.09121730029395717,
          -0.0912189908920422,
          -0.09121716376763674,
          -0.09121756087225537,
          -0.09135350515319653,
          -0.09121937581921191,
          -0.09121815033805093,
          -0.09121871555275499,
          -0.09121891166889849,
          -0.09121872911451051,
          -0.0912192987581151,
          -0.09123659412990663,
          -0.09125329701420751,
          -0.09126443285702272,
          -0.0912639858407944,
          -0.09123626162250709,
          -0.09121876741729186,
          -0.09121924599387818,
          -0.09121781323700887,
          -0.09128186109213865,
          -0.09123949807760137,
          -0.09129971620499952,
          -0.09127048761560248,
          -0.09124756318368596,
          -0.09125773879336604,
          -0.09128094695882571,
          -0.09127427385352935,
          -0.09121914356511765,
          -0.09121819490323646,
          -0.09121806152263429,
          -0.09121836780556898,
          -0.09121840234768973,
          -0.09121830454370365,
          -0.09121831260538908,
          -0.0912608748721715,
          -0.09121846115599816,
          -0.0912400926046768,
          -0.09121846695018951,
          -0.09123763377632939,
          -0.09121858669156953,
          -0.09121848339838637,
          -0.09123786830084629,
          -0.09123627163947291,
          -0.09123657525645419,
          -0.09123869186191817,
          -0.09123461589261368,
          -0.091234305347208,
          -0.09122539605876027,
          -0.09123491592523489,
          -0.09123099701905582,
          -0.0912257344121498,
          -0.09123356367583059,
          -0.09122426091393715,
          -0.09123373247917824,
          -0.09122726689950204,
          -0.09122251368453213,
          -0.09122363292407677,
          -0.09121717908801544,
          -0.09123784049380726,
          -0.09121728927875142,
          -0.2748850622512654,
          -0.27487382021515244,
          -0.2748748328675187,
          -0.09121715982186135,
          -0.2748845329242015,
          -0.27487404621624356,
          -0.2748854996705003,
          -0.27488840835596456,
          -0.27488474088120335,
          -0.2748853288327788,
          -0.2748851744037935,
          -0.2748820527064674,
          -0.27488208745118514,
          -0.2748837249614304,
          -0.2748821123221551,
          -0.27488138393606104,
          -0.274880826117817,
          -0.2748824726733502,
          -0.2748845214014931,
          -0.27488276314053905,
          -0.2748819288914284,
          -0.09121833440540335,
          -0.27488340016136414,
          -0.09121769511971126,
          -0.09121749326187878,
          -0.09121781831536466,
          -0.09121716022184692,
          -0.09121753070837965,
          -0.09121718218512438,
          -0.09121787244309258,
          -0.09121826536911373,
          -0.09121834196779847,
          -0.09121721376049105,
          -0.09121720995920045,
          -0.0912183347992411,
          -0.09121723148563626,
          -0.09121725563600026,
          -0.09121858897302507,
          -0.09121729423981464,
          -0.09121724150450361,
          -0.09121725655735734,
          -0.09121723414458675
         ]
        },
        {
         "name": "Best Value",
         "type": "scatter",
         "x": [
          0,
          1,
          2,
          3,
          4,
          5,
          6,
          7,
          8,
          9,
          10,
          11,
          12,
          13,
          14,
          15,
          16,
          17,
          18,
          19,
          20,
          21,
          22,
          23,
          24,
          25,
          26,
          27,
          28,
          29,
          30,
          31,
          32,
          33,
          34,
          35,
          36,
          37,
          38,
          39,
          40,
          41,
          42,
          43,
          44,
          45,
          46,
          47,
          48,
          49,
          50,
          51,
          52,
          53,
          54,
          55,
          56,
          57,
          58,
          59,
          60,
          61,
          62,
          63,
          64,
          65,
          66,
          67,
          68,
          69,
          70,
          71,
          72,
          73,
          74,
          75,
          76,
          77,
          78,
          79,
          80,
          81,
          82,
          83,
          84,
          85,
          86,
          87,
          88,
          89,
          90,
          91,
          92,
          93,
          94,
          95,
          96,
          97,
          98,
          99,
          100,
          101,
          102,
          103,
          104,
          105,
          106,
          107,
          108,
          109,
          110,
          111,
          112,
          113,
          114,
          115,
          116,
          117,
          118,
          119,
          120,
          121,
          122,
          123,
          124,
          125,
          126,
          127,
          128,
          129,
          130,
          131,
          132,
          133,
          134,
          135,
          136,
          137,
          138,
          139,
          140,
          141,
          142,
          143,
          144,
          145,
          146,
          147,
          148,
          149
         ],
         "y": [
          -0.09169533471031462,
          -0.09169533471031462,
          -0.09169533471031462,
          -0.09169533471031462,
          -0.09169533471031462,
          -0.09121857674953111,
          -0.09121857674953111,
          -0.09121857674953111,
          -0.09121857674953111,
          -0.09121857674953111,
          -0.09121857674953111,
          -0.09121721149991079,
          -0.09121721149991079,
          -0.09121721149991079,
          -0.09121721149991079,
          -0.09121721149991079,
          -0.09121721149991079,
          -0.09121721149991079,
          -0.09121721149991079,
          -0.09121721149991079,
          -0.09121721149991079,
          -0.09121721149991079,
          -0.09121721149991079,
          -0.09121721149991079,
          -0.09121721149991079,
          -0.09121721149991079,
          -0.09121721149991079,
          -0.09121721149991079,
          -0.09121721149991079,
          -0.09121721149991079,
          -0.09121721149991079,
          -0.09121713162229309,
          -0.09121713162229309,
          -0.09121713162229309,
          -0.09121713162229309,
          -0.09121713162229309,
          -0.09121713162229309,
          -0.09121713162229309,
          -0.09121713162229309,
          -0.09121713162229309,
          -0.09121713162229309,
          -0.09121713162229309,
          -0.09121713162229309,
          -0.09121713162229309,
          -0.09121713162229309,
          -0.09121713162229309,
          -0.09121713162229309,
          -0.09121713162229309,
          -0.09121713162229309,
          -0.09121713162229309,
          -0.09121713162229309,
          -0.09121713162229309,
          -0.09121713162229309,
          -0.09121713162229309,
          -0.09121713162229309,
          -0.09121713162229309,
          -0.09121713162229309,
          -0.09121713162229309,
          -0.09121713162229309,
          -0.09121713162229309,
          -0.09121713162229309,
          -0.09121713162229309,
          -0.09121713162229309,
          -0.09121713162229309,
          -0.09121713162229309,
          -0.09121713162229309,
          -0.09121713162229309,
          -0.09121713162229309,
          -0.09121713162229309,
          -0.09121713162229309,
          -0.09121713162229309,
          -0.09121713162229309,
          -0.09121713162229309,
          -0.09121713162229309,
          -0.09121713162229309,
          -0.09121713162229309,
          -0.09121713162229309,
          -0.09121713162229309,
          -0.09121713162229309,
          -0.09121713162229309,
          -0.09121713162229309,
          -0.09121713162229309,
          -0.09121713162229309,
          -0.09121713162229309,
          -0.09121713162229309,
          -0.09121713162229309,
          -0.09121713162229309,
          -0.09121713162229309,
          -0.09121713162229309,
          -0.09121713162229309,
          -0.09121713162229309,
          -0.09121713162229309,
          -0.09121713162229309,
          -0.09121713162229309,
          -0.09121713162229309,
          -0.09121713162229309,
          -0.09121713162229309,
          -0.09121713162229309,
          -0.09121713162229309,
          -0.09121713162229309,
          -0.09121713162229309,
          -0.09121713162229309,
          -0.09121713162229309,
          -0.09121713162229309,
          -0.09121713162229309,
          -0.09121713162229309,
          -0.09121713162229309,
          -0.09121713162229309,
          -0.09121713162229309,
          -0.09121713162229309,
          -0.09121713162229309,
          -0.09121713162229309,
          -0.09121713162229309,
          -0.09121713162229309,
          -0.09121713162229309,
          -0.09121713162229309,
          -0.09121713162229309,
          -0.09121713162229309,
          -0.09121713162229309,
          -0.09121713162229309,
          -0.09121713162229309,
          -0.09121713162229309,
          -0.09121713162229309,
          -0.09121713162229309,
          -0.09121713162229309,
          -0.09121713162229309,
          -0.09121713162229309,
          -0.09121713162229309,
          -0.09121713162229309,
          -0.09121713162229309,
          -0.09121713162229309,
          -0.09121713162229309,
          -0.09121713162229309,
          -0.09121713162229309,
          -0.09121713162229309,
          -0.09121713162229309,
          -0.09121713162229309,
          -0.09121713162229309,
          -0.09121713162229309,
          -0.09121713162229309,
          -0.09121713162229309,
          -0.09121713162229309,
          -0.09121713162229309,
          -0.09121713162229309,
          -0.09121713162229309,
          -0.09121713162229309,
          -0.09121713162229309,
          -0.09121713162229309,
          -0.09121713162229309,
          -0.09121713162229309
         ]
        }
       ],
       "layout": {
        "template": {
         "data": {
          "bar": [
           {
            "error_x": {
             "color": "#2a3f5f"
            },
            "error_y": {
             "color": "#2a3f5f"
            },
            "marker": {
             "line": {
              "color": "#E5ECF6",
              "width": 0.5
             },
             "pattern": {
              "fillmode": "overlay",
              "size": 10,
              "solidity": 0.2
             }
            },
            "type": "bar"
           }
          ],
          "barpolar": [
           {
            "marker": {
             "line": {
              "color": "#E5ECF6",
              "width": 0.5
             },
             "pattern": {
              "fillmode": "overlay",
              "size": 10,
              "solidity": 0.2
             }
            },
            "type": "barpolar"
           }
          ],
          "carpet": [
           {
            "aaxis": {
             "endlinecolor": "#2a3f5f",
             "gridcolor": "white",
             "linecolor": "white",
             "minorgridcolor": "white",
             "startlinecolor": "#2a3f5f"
            },
            "baxis": {
             "endlinecolor": "#2a3f5f",
             "gridcolor": "white",
             "linecolor": "white",
             "minorgridcolor": "white",
             "startlinecolor": "#2a3f5f"
            },
            "type": "carpet"
           }
          ],
          "choropleth": [
           {
            "colorbar": {
             "outlinewidth": 0,
             "ticks": ""
            },
            "type": "choropleth"
           }
          ],
          "contour": [
           {
            "colorbar": {
             "outlinewidth": 0,
             "ticks": ""
            },
            "colorscale": [
             [
              0,
              "#0d0887"
             ],
             [
              0.1111111111111111,
              "#46039f"
             ],
             [
              0.2222222222222222,
              "#7201a8"
             ],
             [
              0.3333333333333333,
              "#9c179e"
             ],
             [
              0.4444444444444444,
              "#bd3786"
             ],
             [
              0.5555555555555556,
              "#d8576b"
             ],
             [
              0.6666666666666666,
              "#ed7953"
             ],
             [
              0.7777777777777778,
              "#fb9f3a"
             ],
             [
              0.8888888888888888,
              "#fdca26"
             ],
             [
              1,
              "#f0f921"
             ]
            ],
            "type": "contour"
           }
          ],
          "contourcarpet": [
           {
            "colorbar": {
             "outlinewidth": 0,
             "ticks": ""
            },
            "type": "contourcarpet"
           }
          ],
          "heatmap": [
           {
            "colorbar": {
             "outlinewidth": 0,
             "ticks": ""
            },
            "colorscale": [
             [
              0,
              "#0d0887"
             ],
             [
              0.1111111111111111,
              "#46039f"
             ],
             [
              0.2222222222222222,
              "#7201a8"
             ],
             [
              0.3333333333333333,
              "#9c179e"
             ],
             [
              0.4444444444444444,
              "#bd3786"
             ],
             [
              0.5555555555555556,
              "#d8576b"
             ],
             [
              0.6666666666666666,
              "#ed7953"
             ],
             [
              0.7777777777777778,
              "#fb9f3a"
             ],
             [
              0.8888888888888888,
              "#fdca26"
             ],
             [
              1,
              "#f0f921"
             ]
            ],
            "type": "heatmap"
           }
          ],
          "heatmapgl": [
           {
            "colorbar": {
             "outlinewidth": 0,
             "ticks": ""
            },
            "colorscale": [
             [
              0,
              "#0d0887"
             ],
             [
              0.1111111111111111,
              "#46039f"
             ],
             [
              0.2222222222222222,
              "#7201a8"
             ],
             [
              0.3333333333333333,
              "#9c179e"
             ],
             [
              0.4444444444444444,
              "#bd3786"
             ],
             [
              0.5555555555555556,
              "#d8576b"
             ],
             [
              0.6666666666666666,
              "#ed7953"
             ],
             [
              0.7777777777777778,
              "#fb9f3a"
             ],
             [
              0.8888888888888888,
              "#fdca26"
             ],
             [
              1,
              "#f0f921"
             ]
            ],
            "type": "heatmapgl"
           }
          ],
          "histogram": [
           {
            "marker": {
             "pattern": {
              "fillmode": "overlay",
              "size": 10,
              "solidity": 0.2
             }
            },
            "type": "histogram"
           }
          ],
          "histogram2d": [
           {
            "colorbar": {
             "outlinewidth": 0,
             "ticks": ""
            },
            "colorscale": [
             [
              0,
              "#0d0887"
             ],
             [
              0.1111111111111111,
              "#46039f"
             ],
             [
              0.2222222222222222,
              "#7201a8"
             ],
             [
              0.3333333333333333,
              "#9c179e"
             ],
             [
              0.4444444444444444,
              "#bd3786"
             ],
             [
              0.5555555555555556,
              "#d8576b"
             ],
             [
              0.6666666666666666,
              "#ed7953"
             ],
             [
              0.7777777777777778,
              "#fb9f3a"
             ],
             [
              0.8888888888888888,
              "#fdca26"
             ],
             [
              1,
              "#f0f921"
             ]
            ],
            "type": "histogram2d"
           }
          ],
          "histogram2dcontour": [
           {
            "colorbar": {
             "outlinewidth": 0,
             "ticks": ""
            },
            "colorscale": [
             [
              0,
              "#0d0887"
             ],
             [
              0.1111111111111111,
              "#46039f"
             ],
             [
              0.2222222222222222,
              "#7201a8"
             ],
             [
              0.3333333333333333,
              "#9c179e"
             ],
             [
              0.4444444444444444,
              "#bd3786"
             ],
             [
              0.5555555555555556,
              "#d8576b"
             ],
             [
              0.6666666666666666,
              "#ed7953"
             ],
             [
              0.7777777777777778,
              "#fb9f3a"
             ],
             [
              0.8888888888888888,
              "#fdca26"
             ],
             [
              1,
              "#f0f921"
             ]
            ],
            "type": "histogram2dcontour"
           }
          ],
          "mesh3d": [
           {
            "colorbar": {
             "outlinewidth": 0,
             "ticks": ""
            },
            "type": "mesh3d"
           }
          ],
          "parcoords": [
           {
            "line": {
             "colorbar": {
              "outlinewidth": 0,
              "ticks": ""
             }
            },
            "type": "parcoords"
           }
          ],
          "pie": [
           {
            "automargin": true,
            "type": "pie"
           }
          ],
          "scatter": [
           {
            "fillpattern": {
             "fillmode": "overlay",
             "size": 10,
             "solidity": 0.2
            },
            "type": "scatter"
           }
          ],
          "scatter3d": [
           {
            "line": {
             "colorbar": {
              "outlinewidth": 0,
              "ticks": ""
             }
            },
            "marker": {
             "colorbar": {
              "outlinewidth": 0,
              "ticks": ""
             }
            },
            "type": "scatter3d"
           }
          ],
          "scattercarpet": [
           {
            "marker": {
             "colorbar": {
              "outlinewidth": 0,
              "ticks": ""
             }
            },
            "type": "scattercarpet"
           }
          ],
          "scattergeo": [
           {
            "marker": {
             "colorbar": {
              "outlinewidth": 0,
              "ticks": ""
             }
            },
            "type": "scattergeo"
           }
          ],
          "scattergl": [
           {
            "marker": {
             "colorbar": {
              "outlinewidth": 0,
              "ticks": ""
             }
            },
            "type": "scattergl"
           }
          ],
          "scattermapbox": [
           {
            "marker": {
             "colorbar": {
              "outlinewidth": 0,
              "ticks": ""
             }
            },
            "type": "scattermapbox"
           }
          ],
          "scatterpolar": [
           {
            "marker": {
             "colorbar": {
              "outlinewidth": 0,
              "ticks": ""
             }
            },
            "type": "scatterpolar"
           }
          ],
          "scatterpolargl": [
           {
            "marker": {
             "colorbar": {
              "outlinewidth": 0,
              "ticks": ""
             }
            },
            "type": "scatterpolargl"
           }
          ],
          "scatterternary": [
           {
            "marker": {
             "colorbar": {
              "outlinewidth": 0,
              "ticks": ""
             }
            },
            "type": "scatterternary"
           }
          ],
          "surface": [
           {
            "colorbar": {
             "outlinewidth": 0,
             "ticks": ""
            },
            "colorscale": [
             [
              0,
              "#0d0887"
             ],
             [
              0.1111111111111111,
              "#46039f"
             ],
             [
              0.2222222222222222,
              "#7201a8"
             ],
             [
              0.3333333333333333,
              "#9c179e"
             ],
             [
              0.4444444444444444,
              "#bd3786"
             ],
             [
              0.5555555555555556,
              "#d8576b"
             ],
             [
              0.6666666666666666,
              "#ed7953"
             ],
             [
              0.7777777777777778,
              "#fb9f3a"
             ],
             [
              0.8888888888888888,
              "#fdca26"
             ],
             [
              1,
              "#f0f921"
             ]
            ],
            "type": "surface"
           }
          ],
          "table": [
           {
            "cells": {
             "fill": {
              "color": "#EBF0F8"
             },
             "line": {
              "color": "white"
             }
            },
            "header": {
             "fill": {
              "color": "#C8D4E3"
             },
             "line": {
              "color": "white"
             }
            },
            "type": "table"
           }
          ]
         },
         "layout": {
          "annotationdefaults": {
           "arrowcolor": "#2a3f5f",
           "arrowhead": 0,
           "arrowwidth": 1
          },
          "autotypenumbers": "strict",
          "coloraxis": {
           "colorbar": {
            "outlinewidth": 0,
            "ticks": ""
           }
          },
          "colorscale": {
           "diverging": [
            [
             0,
             "#8e0152"
            ],
            [
             0.1,
             "#c51b7d"
            ],
            [
             0.2,
             "#de77ae"
            ],
            [
             0.3,
             "#f1b6da"
            ],
            [
             0.4,
             "#fde0ef"
            ],
            [
             0.5,
             "#f7f7f7"
            ],
            [
             0.6,
             "#e6f5d0"
            ],
            [
             0.7,
             "#b8e186"
            ],
            [
             0.8,
             "#7fbc41"
            ],
            [
             0.9,
             "#4d9221"
            ],
            [
             1,
             "#276419"
            ]
           ],
           "sequential": [
            [
             0,
             "#0d0887"
            ],
            [
             0.1111111111111111,
             "#46039f"
            ],
            [
             0.2222222222222222,
             "#7201a8"
            ],
            [
             0.3333333333333333,
             "#9c179e"
            ],
            [
             0.4444444444444444,
             "#bd3786"
            ],
            [
             0.5555555555555556,
             "#d8576b"
            ],
            [
             0.6666666666666666,
             "#ed7953"
            ],
            [
             0.7777777777777778,
             "#fb9f3a"
            ],
            [
             0.8888888888888888,
             "#fdca26"
            ],
            [
             1,
             "#f0f921"
            ]
           ],
           "sequentialminus": [
            [
             0,
             "#0d0887"
            ],
            [
             0.1111111111111111,
             "#46039f"
            ],
            [
             0.2222222222222222,
             "#7201a8"
            ],
            [
             0.3333333333333333,
             "#9c179e"
            ],
            [
             0.4444444444444444,
             "#bd3786"
            ],
            [
             0.5555555555555556,
             "#d8576b"
            ],
            [
             0.6666666666666666,
             "#ed7953"
            ],
            [
             0.7777777777777778,
             "#fb9f3a"
            ],
            [
             0.8888888888888888,
             "#fdca26"
            ],
            [
             1,
             "#f0f921"
            ]
           ]
          },
          "colorway": [
           "#636efa",
           "#EF553B",
           "#00cc96",
           "#ab63fa",
           "#FFA15A",
           "#19d3f3",
           "#FF6692",
           "#B6E880",
           "#FF97FF",
           "#FECB52"
          ],
          "font": {
           "color": "#2a3f5f"
          },
          "geo": {
           "bgcolor": "white",
           "lakecolor": "white",
           "landcolor": "#E5ECF6",
           "showlakes": true,
           "showland": true,
           "subunitcolor": "white"
          },
          "hoverlabel": {
           "align": "left"
          },
          "hovermode": "closest",
          "mapbox": {
           "style": "light"
          },
          "paper_bgcolor": "white",
          "plot_bgcolor": "#E5ECF6",
          "polar": {
           "angularaxis": {
            "gridcolor": "white",
            "linecolor": "white",
            "ticks": ""
           },
           "bgcolor": "#E5ECF6",
           "radialaxis": {
            "gridcolor": "white",
            "linecolor": "white",
            "ticks": ""
           }
          },
          "scene": {
           "xaxis": {
            "backgroundcolor": "#E5ECF6",
            "gridcolor": "white",
            "gridwidth": 2,
            "linecolor": "white",
            "showbackground": true,
            "ticks": "",
            "zerolinecolor": "white"
           },
           "yaxis": {
            "backgroundcolor": "#E5ECF6",
            "gridcolor": "white",
            "gridwidth": 2,
            "linecolor": "white",
            "showbackground": true,
            "ticks": "",
            "zerolinecolor": "white"
           },
           "zaxis": {
            "backgroundcolor": "#E5ECF6",
            "gridcolor": "white",
            "gridwidth": 2,
            "linecolor": "white",
            "showbackground": true,
            "ticks": "",
            "zerolinecolor": "white"
           }
          },
          "shapedefaults": {
           "line": {
            "color": "#2a3f5f"
           }
          },
          "ternary": {
           "aaxis": {
            "gridcolor": "white",
            "linecolor": "white",
            "ticks": ""
           },
           "baxis": {
            "gridcolor": "white",
            "linecolor": "white",
            "ticks": ""
           },
           "bgcolor": "#E5ECF6",
           "caxis": {
            "gridcolor": "white",
            "linecolor": "white",
            "ticks": ""
           }
          },
          "title": {
           "x": 0.05
          },
          "xaxis": {
           "automargin": true,
           "gridcolor": "white",
           "linecolor": "white",
           "ticks": "",
           "title": {
            "standoff": 15
           },
           "zerolinecolor": "white",
           "zerolinewidth": 2
          },
          "yaxis": {
           "automargin": true,
           "gridcolor": "white",
           "linecolor": "white",
           "ticks": "",
           "title": {
            "standoff": 15
           },
           "zerolinecolor": "white",
           "zerolinewidth": 2
          }
         }
        },
        "title": {
         "text": "Optimization History Plot"
        },
        "xaxis": {
         "title": {
          "text": "Trial"
         }
        },
        "yaxis": {
         "title": {
          "text": "Objective Value"
         }
        }
       }
      }
     },
     "metadata": {},
     "output_type": "display_data"
    },
    {
     "data": {
      "application/vnd.plotly.v1+json": {
       "config": {
        "plotlyServerURL": "https://plot.ly"
       },
       "data": [
        {
         "cliponaxis": false,
         "hovertemplate": [
          "l1_ratio (FloatDistribution): 3.085560641534218e-05<extra></extra>",
          "alpha (FloatDistribution): 0.000997727043399043<extra></extra>",
          "fit_intercept (CategoricalDistribution): 0.9989714173501856<extra></extra>"
         ],
         "marker": {
          "color": "rgb(66,146,198)"
         },
         "orientation": "h",
         "text": [
          "<0.01",
          "<0.01",
          "1.00"
         ],
         "textposition": "outside",
         "type": "bar",
         "x": [
          0.00003085560641534218,
          0.000997727043399043,
          0.9989714173501856
         ],
         "y": [
          "l1_ratio",
          "alpha",
          "fit_intercept"
         ]
        }
       ],
       "layout": {
        "showlegend": false,
        "template": {
         "data": {
          "bar": [
           {
            "error_x": {
             "color": "#2a3f5f"
            },
            "error_y": {
             "color": "#2a3f5f"
            },
            "marker": {
             "line": {
              "color": "#E5ECF6",
              "width": 0.5
             },
             "pattern": {
              "fillmode": "overlay",
              "size": 10,
              "solidity": 0.2
             }
            },
            "type": "bar"
           }
          ],
          "barpolar": [
           {
            "marker": {
             "line": {
              "color": "#E5ECF6",
              "width": 0.5
             },
             "pattern": {
              "fillmode": "overlay",
              "size": 10,
              "solidity": 0.2
             }
            },
            "type": "barpolar"
           }
          ],
          "carpet": [
           {
            "aaxis": {
             "endlinecolor": "#2a3f5f",
             "gridcolor": "white",
             "linecolor": "white",
             "minorgridcolor": "white",
             "startlinecolor": "#2a3f5f"
            },
            "baxis": {
             "endlinecolor": "#2a3f5f",
             "gridcolor": "white",
             "linecolor": "white",
             "minorgridcolor": "white",
             "startlinecolor": "#2a3f5f"
            },
            "type": "carpet"
           }
          ],
          "choropleth": [
           {
            "colorbar": {
             "outlinewidth": 0,
             "ticks": ""
            },
            "type": "choropleth"
           }
          ],
          "contour": [
           {
            "colorbar": {
             "outlinewidth": 0,
             "ticks": ""
            },
            "colorscale": [
             [
              0,
              "#0d0887"
             ],
             [
              0.1111111111111111,
              "#46039f"
             ],
             [
              0.2222222222222222,
              "#7201a8"
             ],
             [
              0.3333333333333333,
              "#9c179e"
             ],
             [
              0.4444444444444444,
              "#bd3786"
             ],
             [
              0.5555555555555556,
              "#d8576b"
             ],
             [
              0.6666666666666666,
              "#ed7953"
             ],
             [
              0.7777777777777778,
              "#fb9f3a"
             ],
             [
              0.8888888888888888,
              "#fdca26"
             ],
             [
              1,
              "#f0f921"
             ]
            ],
            "type": "contour"
           }
          ],
          "contourcarpet": [
           {
            "colorbar": {
             "outlinewidth": 0,
             "ticks": ""
            },
            "type": "contourcarpet"
           }
          ],
          "heatmap": [
           {
            "colorbar": {
             "outlinewidth": 0,
             "ticks": ""
            },
            "colorscale": [
             [
              0,
              "#0d0887"
             ],
             [
              0.1111111111111111,
              "#46039f"
             ],
             [
              0.2222222222222222,
              "#7201a8"
             ],
             [
              0.3333333333333333,
              "#9c179e"
             ],
             [
              0.4444444444444444,
              "#bd3786"
             ],
             [
              0.5555555555555556,
              "#d8576b"
             ],
             [
              0.6666666666666666,
              "#ed7953"
             ],
             [
              0.7777777777777778,
              "#fb9f3a"
             ],
             [
              0.8888888888888888,
              "#fdca26"
             ],
             [
              1,
              "#f0f921"
             ]
            ],
            "type": "heatmap"
           }
          ],
          "heatmapgl": [
           {
            "colorbar": {
             "outlinewidth": 0,
             "ticks": ""
            },
            "colorscale": [
             [
              0,
              "#0d0887"
             ],
             [
              0.1111111111111111,
              "#46039f"
             ],
             [
              0.2222222222222222,
              "#7201a8"
             ],
             [
              0.3333333333333333,
              "#9c179e"
             ],
             [
              0.4444444444444444,
              "#bd3786"
             ],
             [
              0.5555555555555556,
              "#d8576b"
             ],
             [
              0.6666666666666666,
              "#ed7953"
             ],
             [
              0.7777777777777778,
              "#fb9f3a"
             ],
             [
              0.8888888888888888,
              "#fdca26"
             ],
             [
              1,
              "#f0f921"
             ]
            ],
            "type": "heatmapgl"
           }
          ],
          "histogram": [
           {
            "marker": {
             "pattern": {
              "fillmode": "overlay",
              "size": 10,
              "solidity": 0.2
             }
            },
            "type": "histogram"
           }
          ],
          "histogram2d": [
           {
            "colorbar": {
             "outlinewidth": 0,
             "ticks": ""
            },
            "colorscale": [
             [
              0,
              "#0d0887"
             ],
             [
              0.1111111111111111,
              "#46039f"
             ],
             [
              0.2222222222222222,
              "#7201a8"
             ],
             [
              0.3333333333333333,
              "#9c179e"
             ],
             [
              0.4444444444444444,
              "#bd3786"
             ],
             [
              0.5555555555555556,
              "#d8576b"
             ],
             [
              0.6666666666666666,
              "#ed7953"
             ],
             [
              0.7777777777777778,
              "#fb9f3a"
             ],
             [
              0.8888888888888888,
              "#fdca26"
             ],
             [
              1,
              "#f0f921"
             ]
            ],
            "type": "histogram2d"
           }
          ],
          "histogram2dcontour": [
           {
            "colorbar": {
             "outlinewidth": 0,
             "ticks": ""
            },
            "colorscale": [
             [
              0,
              "#0d0887"
             ],
             [
              0.1111111111111111,
              "#46039f"
             ],
             [
              0.2222222222222222,
              "#7201a8"
             ],
             [
              0.3333333333333333,
              "#9c179e"
             ],
             [
              0.4444444444444444,
              "#bd3786"
             ],
             [
              0.5555555555555556,
              "#d8576b"
             ],
             [
              0.6666666666666666,
              "#ed7953"
             ],
             [
              0.7777777777777778,
              "#fb9f3a"
             ],
             [
              0.8888888888888888,
              "#fdca26"
             ],
             [
              1,
              "#f0f921"
             ]
            ],
            "type": "histogram2dcontour"
           }
          ],
          "mesh3d": [
           {
            "colorbar": {
             "outlinewidth": 0,
             "ticks": ""
            },
            "type": "mesh3d"
           }
          ],
          "parcoords": [
           {
            "line": {
             "colorbar": {
              "outlinewidth": 0,
              "ticks": ""
             }
            },
            "type": "parcoords"
           }
          ],
          "pie": [
           {
            "automargin": true,
            "type": "pie"
           }
          ],
          "scatter": [
           {
            "fillpattern": {
             "fillmode": "overlay",
             "size": 10,
             "solidity": 0.2
            },
            "type": "scatter"
           }
          ],
          "scatter3d": [
           {
            "line": {
             "colorbar": {
              "outlinewidth": 0,
              "ticks": ""
             }
            },
            "marker": {
             "colorbar": {
              "outlinewidth": 0,
              "ticks": ""
             }
            },
            "type": "scatter3d"
           }
          ],
          "scattercarpet": [
           {
            "marker": {
             "colorbar": {
              "outlinewidth": 0,
              "ticks": ""
             }
            },
            "type": "scattercarpet"
           }
          ],
          "scattergeo": [
           {
            "marker": {
             "colorbar": {
              "outlinewidth": 0,
              "ticks": ""
             }
            },
            "type": "scattergeo"
           }
          ],
          "scattergl": [
           {
            "marker": {
             "colorbar": {
              "outlinewidth": 0,
              "ticks": ""
             }
            },
            "type": "scattergl"
           }
          ],
          "scattermapbox": [
           {
            "marker": {
             "colorbar": {
              "outlinewidth": 0,
              "ticks": ""
             }
            },
            "type": "scattermapbox"
           }
          ],
          "scatterpolar": [
           {
            "marker": {
             "colorbar": {
              "outlinewidth": 0,
              "ticks": ""
             }
            },
            "type": "scatterpolar"
           }
          ],
          "scatterpolargl": [
           {
            "marker": {
             "colorbar": {
              "outlinewidth": 0,
              "ticks": ""
             }
            },
            "type": "scatterpolargl"
           }
          ],
          "scatterternary": [
           {
            "marker": {
             "colorbar": {
              "outlinewidth": 0,
              "ticks": ""
             }
            },
            "type": "scatterternary"
           }
          ],
          "surface": [
           {
            "colorbar": {
             "outlinewidth": 0,
             "ticks": ""
            },
            "colorscale": [
             [
              0,
              "#0d0887"
             ],
             [
              0.1111111111111111,
              "#46039f"
             ],
             [
              0.2222222222222222,
              "#7201a8"
             ],
             [
              0.3333333333333333,
              "#9c179e"
             ],
             [
              0.4444444444444444,
              "#bd3786"
             ],
             [
              0.5555555555555556,
              "#d8576b"
             ],
             [
              0.6666666666666666,
              "#ed7953"
             ],
             [
              0.7777777777777778,
              "#fb9f3a"
             ],
             [
              0.8888888888888888,
              "#fdca26"
             ],
             [
              1,
              "#f0f921"
             ]
            ],
            "type": "surface"
           }
          ],
          "table": [
           {
            "cells": {
             "fill": {
              "color": "#EBF0F8"
             },
             "line": {
              "color": "white"
             }
            },
            "header": {
             "fill": {
              "color": "#C8D4E3"
             },
             "line": {
              "color": "white"
             }
            },
            "type": "table"
           }
          ]
         },
         "layout": {
          "annotationdefaults": {
           "arrowcolor": "#2a3f5f",
           "arrowhead": 0,
           "arrowwidth": 1
          },
          "autotypenumbers": "strict",
          "coloraxis": {
           "colorbar": {
            "outlinewidth": 0,
            "ticks": ""
           }
          },
          "colorscale": {
           "diverging": [
            [
             0,
             "#8e0152"
            ],
            [
             0.1,
             "#c51b7d"
            ],
            [
             0.2,
             "#de77ae"
            ],
            [
             0.3,
             "#f1b6da"
            ],
            [
             0.4,
             "#fde0ef"
            ],
            [
             0.5,
             "#f7f7f7"
            ],
            [
             0.6,
             "#e6f5d0"
            ],
            [
             0.7,
             "#b8e186"
            ],
            [
             0.8,
             "#7fbc41"
            ],
            [
             0.9,
             "#4d9221"
            ],
            [
             1,
             "#276419"
            ]
           ],
           "sequential": [
            [
             0,
             "#0d0887"
            ],
            [
             0.1111111111111111,
             "#46039f"
            ],
            [
             0.2222222222222222,
             "#7201a8"
            ],
            [
             0.3333333333333333,
             "#9c179e"
            ],
            [
             0.4444444444444444,
             "#bd3786"
            ],
            [
             0.5555555555555556,
             "#d8576b"
            ],
            [
             0.6666666666666666,
             "#ed7953"
            ],
            [
             0.7777777777777778,
             "#fb9f3a"
            ],
            [
             0.8888888888888888,
             "#fdca26"
            ],
            [
             1,
             "#f0f921"
            ]
           ],
           "sequentialminus": [
            [
             0,
             "#0d0887"
            ],
            [
             0.1111111111111111,
             "#46039f"
            ],
            [
             0.2222222222222222,
             "#7201a8"
            ],
            [
             0.3333333333333333,
             "#9c179e"
            ],
            [
             0.4444444444444444,
             "#bd3786"
            ],
            [
             0.5555555555555556,
             "#d8576b"
            ],
            [
             0.6666666666666666,
             "#ed7953"
            ],
            [
             0.7777777777777778,
             "#fb9f3a"
            ],
            [
             0.8888888888888888,
             "#fdca26"
            ],
            [
             1,
             "#f0f921"
            ]
           ]
          },
          "colorway": [
           "#636efa",
           "#EF553B",
           "#00cc96",
           "#ab63fa",
           "#FFA15A",
           "#19d3f3",
           "#FF6692",
           "#B6E880",
           "#FF97FF",
           "#FECB52"
          ],
          "font": {
           "color": "#2a3f5f"
          },
          "geo": {
           "bgcolor": "white",
           "lakecolor": "white",
           "landcolor": "#E5ECF6",
           "showlakes": true,
           "showland": true,
           "subunitcolor": "white"
          },
          "hoverlabel": {
           "align": "left"
          },
          "hovermode": "closest",
          "mapbox": {
           "style": "light"
          },
          "paper_bgcolor": "white",
          "plot_bgcolor": "#E5ECF6",
          "polar": {
           "angularaxis": {
            "gridcolor": "white",
            "linecolor": "white",
            "ticks": ""
           },
           "bgcolor": "#E5ECF6",
           "radialaxis": {
            "gridcolor": "white",
            "linecolor": "white",
            "ticks": ""
           }
          },
          "scene": {
           "xaxis": {
            "backgroundcolor": "#E5ECF6",
            "gridcolor": "white",
            "gridwidth": 2,
            "linecolor": "white",
            "showbackground": true,
            "ticks": "",
            "zerolinecolor": "white"
           },
           "yaxis": {
            "backgroundcolor": "#E5ECF6",
            "gridcolor": "white",
            "gridwidth": 2,
            "linecolor": "white",
            "showbackground": true,
            "ticks": "",
            "zerolinecolor": "white"
           },
           "zaxis": {
            "backgroundcolor": "#E5ECF6",
            "gridcolor": "white",
            "gridwidth": 2,
            "linecolor": "white",
            "showbackground": true,
            "ticks": "",
            "zerolinecolor": "white"
           }
          },
          "shapedefaults": {
           "line": {
            "color": "#2a3f5f"
           }
          },
          "ternary": {
           "aaxis": {
            "gridcolor": "white",
            "linecolor": "white",
            "ticks": ""
           },
           "baxis": {
            "gridcolor": "white",
            "linecolor": "white",
            "ticks": ""
           },
           "bgcolor": "#E5ECF6",
           "caxis": {
            "gridcolor": "white",
            "linecolor": "white",
            "ticks": ""
           }
          },
          "title": {
           "x": 0.05
          },
          "xaxis": {
           "automargin": true,
           "gridcolor": "white",
           "linecolor": "white",
           "ticks": "",
           "title": {
            "standoff": 15
           },
           "zerolinecolor": "white",
           "zerolinewidth": 2
          },
          "yaxis": {
           "automargin": true,
           "gridcolor": "white",
           "linecolor": "white",
           "ticks": "",
           "title": {
            "standoff": 15
           },
           "zerolinecolor": "white",
           "zerolinewidth": 2
          }
         }
        },
        "title": {
         "text": "Hyperparameter Importances"
        },
        "xaxis": {
         "title": {
          "text": "Importance for Objective Value"
         }
        },
        "yaxis": {
         "title": {
          "text": "Hyperparameter"
         }
        }
       }
      }
     },
     "metadata": {},
     "output_type": "display_data"
    },
    {
     "name": "stdout",
     "output_type": "stream",
     "text": [
      "Best trial: -0.09121713162229309\n",
      "Best parameters: {'alpha': 0.0008424318541899855, 'l1_ratio': 0.1407589206143669, 'fit_intercept': True}\n"
     ]
    }
   ],
   "source": [
    "# define o espaço de busca e a função objetivo\n",
    "def objective_elasticnet(\n",
    "\t\ttrial: opt.trial.Trial,\n",
    "\t\tX: pd.DataFrame,\n",
    "\t\ty: pd.DataFrame,\n",
    "\t) -> float:\n",
    "\testimator = ElasticNet(\n",
    "\t\talpha=trial.suggest_loguniform('alpha', 1e-5, 1e-1),\n",
    "\t\tl1_ratio=trial.suggest_uniform('l1_ratio', 0.0, 1.0),\n",
    "\t\tfit_intercept=trial.suggest_categorical('fit_intercept', [True, False]),\n",
    "\t)\n",
    "\ttrial.set_user_attr(key='estimator', value=estimator)\n",
    "\tscore = cross_val_score(estimator, X, y, n_jobs=-1, cv=5, scoring='neg_root_mean_squared_error')\n",
    "\treturn score.mean()\n",
    "\n",
    "np.seterr(divide='ignore', invalid='ignore')\n",
    "\n",
    "# rotina de otimização bayesiana\n",
    "elasticnet_model = optimize(\n",
    "\tobjective=objective_elasticnet, \n",
    "\tdescription='elasticnet_risk', n_trials=150,\n",
    "\tX=data_train, y=targets_train, X_test=data_test, y_test=targets_test,)"
   ]
  },
  {
   "attachments": {},
   "cell_type": "markdown",
   "metadata": {},
   "source": [
    "#### random forest"
   ]
  },
  {
   "cell_type": "code",
   "execution_count": 15,
   "metadata": {},
   "outputs": [
    {
     "data": {
      "application/vnd.jupyter.widget-view+json": {
       "model_id": "e37d25dc6791487aa082798a19c24f67",
       "version_major": 2,
       "version_minor": 0
      },
      "text/plain": [
       "  0%|          | 0/100 [00:00<?, ?it/s]"
      ]
     },
     "metadata": {},
     "output_type": "display_data"
    },
    {
     "data": {
      "text/html": [
       "<div>\n",
       "<style scoped>\n",
       "    .dataframe tbody tr th:only-of-type {\n",
       "        vertical-align: middle;\n",
       "    }\n",
       "\n",
       "    .dataframe tbody tr th {\n",
       "        vertical-align: top;\n",
       "    }\n",
       "\n",
       "    .dataframe thead th {\n",
       "        text-align: right;\n",
       "    }\n",
       "</style>\n",
       "<table border=\"1\" class=\"dataframe\">\n",
       "  <thead>\n",
       "    <tr style=\"text-align: right;\">\n",
       "      <th></th>\n",
       "      <th>validation</th>\n",
       "      <th>test</th>\n",
       "    </tr>\n",
       "  </thead>\n",
       "  <tbody>\n",
       "    <tr>\n",
       "      <th>mae</th>\n",
       "      <td>0.0262</td>\n",
       "      <td>0.0388</td>\n",
       "    </tr>\n",
       "    <tr>\n",
       "      <th>rmse</th>\n",
       "      <td>0.0362</td>\n",
       "      <td>0.0529</td>\n",
       "    </tr>\n",
       "    <tr>\n",
       "      <th>r2</th>\n",
       "      <td>0.9152</td>\n",
       "      <td>0.8286</td>\n",
       "    </tr>\n",
       "  </tbody>\n",
       "</table>\n",
       "</div>"
      ],
      "text/plain": [
       "      validation   test\n",
       "mae       0.0262 0.0388\n",
       "rmse      0.0362 0.0529\n",
       "r2        0.9152 0.8286"
      ]
     },
     "metadata": {},
     "output_type": "display_data"
    },
    {
     "data": {
      "application/vnd.plotly.v1+json": {
       "config": {
        "plotlyServerURL": "https://plot.ly"
       },
       "data": [
        {
         "mode": "markers",
         "name": "Objective Value",
         "type": "scatter",
         "x": [
          0,
          1,
          2,
          3,
          4,
          5,
          6,
          7,
          8,
          9,
          10,
          11,
          12,
          13,
          14,
          15,
          16,
          17,
          18,
          19,
          20,
          21,
          22,
          23,
          24,
          25,
          26,
          27,
          28,
          29,
          30,
          31,
          32,
          33,
          34,
          35,
          36,
          37,
          38,
          39,
          40,
          41,
          42,
          43,
          44,
          45,
          46,
          47,
          48,
          49,
          50,
          51,
          52,
          53,
          54,
          55,
          56,
          57,
          58,
          59,
          60,
          61,
          62,
          63,
          64,
          65,
          66,
          67,
          68,
          69,
          70,
          71,
          72,
          73,
          74,
          75,
          76,
          77,
          78,
          79,
          80,
          81,
          82,
          83,
          84,
          85,
          86,
          87,
          88,
          89,
          90,
          91,
          92,
          93,
          94
         ],
         "y": [
          -0.06559357255516705,
          -0.06381409002147465,
          -0.06716039539867122,
          -0.06359846050904644,
          -0.06723862100646555,
          -0.06934804526324145,
          -0.06156727515021755,
          -0.06599555401569114,
          -0.06567299663486577,
          -0.06136735390017396,
          -0.06656795472634933,
          -0.06740574276279566,
          -0.0688333668893597,
          -0.06672586674020739,
          -0.06949108416386322,
          -0.06533385289366389,
          -0.06240731580396773,
          -0.06950673367615702,
          -0.06119098927766773,
          -0.06445420475068289,
          -0.0568213990232731,
          -0.05987588230528888,
          -0.07141042827410746,
          -0.06992065795658915,
          -0.061899934439992865,
          -0.06492170595230402,
          -0.07103180115547357,
          -0.06190668956447287,
          -0.06455956381466718,
          -0.06601136365080938,
          -0.06133783625455554,
          -0.07114314907594008,
          -0.06646660568197968,
          -0.056911055433798576,
          -0.057676558593716246,
          -0.05695025920101947,
          -0.05622777508662957,
          -0.055251626975931334,
          -0.05820637899925314,
          -0.055722599102534055,
          -0.05436128282819632,
          -0.05511904707649107,
          -0.05585363536743335,
          -0.05803484784546189,
          -0.06305706298644301,
          -0.06313574777777495,
          -0.06338445776016922,
          -0.06332904018344043,
          -0.06319236713117686,
          -0.06188493418280068,
          -0.06170038233083952,
          -0.05845766985926533,
          -0.05841524204548036,
          -0.05847841389287987,
          -0.05820198240878512,
          -0.058626977367022104,
          -0.05903862272370153,
          -0.05879119096074113,
          -0.0541374002392643,
          -0.06148050966940344,
          -0.05789943059700613,
          -0.05763774206792467,
          -0.05875118278770628,
          -0.057616189730412215,
          -0.057676490027834336,
          -0.06149283617576653,
          -0.061883901562007584,
          -0.06192441182375311,
          -0.06204284387488059,
          -0.06176530855990721,
          -0.061446717317226715,
          -0.06198425723167249,
          -0.06191231530857251,
          -0.06206801751341793,
          -0.061475593673431986,
          -0.06156984658780564,
          -0.061466486271518274,
          -0.06150016612244258,
          -0.06114076932108866,
          -0.061735548389042535,
          -0.062089162005247445,
          -0.06195268166936352,
          -0.06213135388887072,
          -0.062390381649191605,
          -0.05981979536170497,
          -0.05951152493890659,
          -0.059275766496502194,
          -0.060129416713634545,
          -0.057820126393327086,
          -0.057736383251218715,
          -0.057733658164446644,
          -0.05777383754384213,
          -0.058132245563016396,
          -0.05785814777377979,
          -0.05823368961313226
         ]
        },
        {
         "name": "Best Value",
         "type": "scatter",
         "x": [
          0,
          1,
          2,
          3,
          4,
          5,
          6,
          7,
          8,
          9,
          10,
          11,
          12,
          13,
          14,
          15,
          16,
          17,
          18,
          19,
          20,
          21,
          22,
          23,
          24,
          25,
          26,
          27,
          28,
          29,
          30,
          31,
          32,
          33,
          34,
          35,
          36,
          37,
          38,
          39,
          40,
          41,
          42,
          43,
          44,
          45,
          46,
          47,
          48,
          49,
          50,
          51,
          52,
          53,
          54,
          55,
          56,
          57,
          58,
          59,
          60,
          61,
          62,
          63,
          64,
          65,
          66,
          67,
          68,
          69,
          70,
          71,
          72,
          73,
          74,
          75,
          76,
          77,
          78,
          79,
          80,
          81,
          82,
          83,
          84,
          85,
          86,
          87,
          88,
          89,
          90,
          91,
          92,
          93,
          94
         ],
         "y": [
          -0.06559357255516705,
          -0.06381409002147465,
          -0.06381409002147465,
          -0.06359846050904644,
          -0.06359846050904644,
          -0.06359846050904644,
          -0.06156727515021755,
          -0.06156727515021755,
          -0.06156727515021755,
          -0.06136735390017396,
          -0.06136735390017396,
          -0.06136735390017396,
          -0.06136735390017396,
          -0.06136735390017396,
          -0.06136735390017396,
          -0.06136735390017396,
          -0.06136735390017396,
          -0.06136735390017396,
          -0.06119098927766773,
          -0.06119098927766773,
          -0.0568213990232731,
          -0.0568213990232731,
          -0.0568213990232731,
          -0.0568213990232731,
          -0.0568213990232731,
          -0.0568213990232731,
          -0.0568213990232731,
          -0.0568213990232731,
          -0.0568213990232731,
          -0.0568213990232731,
          -0.0568213990232731,
          -0.0568213990232731,
          -0.0568213990232731,
          -0.0568213990232731,
          -0.0568213990232731,
          -0.0568213990232731,
          -0.05622777508662957,
          -0.055251626975931334,
          -0.055251626975931334,
          -0.055251626975931334,
          -0.05436128282819632,
          -0.05436128282819632,
          -0.05436128282819632,
          -0.05436128282819632,
          -0.05436128282819632,
          -0.05436128282819632,
          -0.05436128282819632,
          -0.05436128282819632,
          -0.05436128282819632,
          -0.05436128282819632,
          -0.05436128282819632,
          -0.05436128282819632,
          -0.05436128282819632,
          -0.05436128282819632,
          -0.05436128282819632,
          -0.05436128282819632,
          -0.05436128282819632,
          -0.05436128282819632,
          -0.0541374002392643,
          -0.0541374002392643,
          -0.0541374002392643,
          -0.0541374002392643,
          -0.0541374002392643,
          -0.0541374002392643,
          -0.0541374002392643,
          -0.0541374002392643,
          -0.0541374002392643,
          -0.0541374002392643,
          -0.0541374002392643,
          -0.0541374002392643,
          -0.0541374002392643,
          -0.0541374002392643,
          -0.0541374002392643,
          -0.0541374002392643,
          -0.0541374002392643,
          -0.0541374002392643,
          -0.0541374002392643,
          -0.0541374002392643,
          -0.0541374002392643,
          -0.0541374002392643,
          -0.0541374002392643,
          -0.0541374002392643,
          -0.0541374002392643,
          -0.0541374002392643,
          -0.0541374002392643,
          -0.0541374002392643,
          -0.0541374002392643,
          -0.0541374002392643,
          -0.0541374002392643,
          -0.0541374002392643,
          -0.0541374002392643,
          -0.0541374002392643,
          -0.0541374002392643,
          -0.0541374002392643,
          -0.0541374002392643
         ]
        }
       ],
       "layout": {
        "template": {
         "data": {
          "bar": [
           {
            "error_x": {
             "color": "#2a3f5f"
            },
            "error_y": {
             "color": "#2a3f5f"
            },
            "marker": {
             "line": {
              "color": "#E5ECF6",
              "width": 0.5
             },
             "pattern": {
              "fillmode": "overlay",
              "size": 10,
              "solidity": 0.2
             }
            },
            "type": "bar"
           }
          ],
          "barpolar": [
           {
            "marker": {
             "line": {
              "color": "#E5ECF6",
              "width": 0.5
             },
             "pattern": {
              "fillmode": "overlay",
              "size": 10,
              "solidity": 0.2
             }
            },
            "type": "barpolar"
           }
          ],
          "carpet": [
           {
            "aaxis": {
             "endlinecolor": "#2a3f5f",
             "gridcolor": "white",
             "linecolor": "white",
             "minorgridcolor": "white",
             "startlinecolor": "#2a3f5f"
            },
            "baxis": {
             "endlinecolor": "#2a3f5f",
             "gridcolor": "white",
             "linecolor": "white",
             "minorgridcolor": "white",
             "startlinecolor": "#2a3f5f"
            },
            "type": "carpet"
           }
          ],
          "choropleth": [
           {
            "colorbar": {
             "outlinewidth": 0,
             "ticks": ""
            },
            "type": "choropleth"
           }
          ],
          "contour": [
           {
            "colorbar": {
             "outlinewidth": 0,
             "ticks": ""
            },
            "colorscale": [
             [
              0,
              "#0d0887"
             ],
             [
              0.1111111111111111,
              "#46039f"
             ],
             [
              0.2222222222222222,
              "#7201a8"
             ],
             [
              0.3333333333333333,
              "#9c179e"
             ],
             [
              0.4444444444444444,
              "#bd3786"
             ],
             [
              0.5555555555555556,
              "#d8576b"
             ],
             [
              0.6666666666666666,
              "#ed7953"
             ],
             [
              0.7777777777777778,
              "#fb9f3a"
             ],
             [
              0.8888888888888888,
              "#fdca26"
             ],
             [
              1,
              "#f0f921"
             ]
            ],
            "type": "contour"
           }
          ],
          "contourcarpet": [
           {
            "colorbar": {
             "outlinewidth": 0,
             "ticks": ""
            },
            "type": "contourcarpet"
           }
          ],
          "heatmap": [
           {
            "colorbar": {
             "outlinewidth": 0,
             "ticks": ""
            },
            "colorscale": [
             [
              0,
              "#0d0887"
             ],
             [
              0.1111111111111111,
              "#46039f"
             ],
             [
              0.2222222222222222,
              "#7201a8"
             ],
             [
              0.3333333333333333,
              "#9c179e"
             ],
             [
              0.4444444444444444,
              "#bd3786"
             ],
             [
              0.5555555555555556,
              "#d8576b"
             ],
             [
              0.6666666666666666,
              "#ed7953"
             ],
             [
              0.7777777777777778,
              "#fb9f3a"
             ],
             [
              0.8888888888888888,
              "#fdca26"
             ],
             [
              1,
              "#f0f921"
             ]
            ],
            "type": "heatmap"
           }
          ],
          "heatmapgl": [
           {
            "colorbar": {
             "outlinewidth": 0,
             "ticks": ""
            },
            "colorscale": [
             [
              0,
              "#0d0887"
             ],
             [
              0.1111111111111111,
              "#46039f"
             ],
             [
              0.2222222222222222,
              "#7201a8"
             ],
             [
              0.3333333333333333,
              "#9c179e"
             ],
             [
              0.4444444444444444,
              "#bd3786"
             ],
             [
              0.5555555555555556,
              "#d8576b"
             ],
             [
              0.6666666666666666,
              "#ed7953"
             ],
             [
              0.7777777777777778,
              "#fb9f3a"
             ],
             [
              0.8888888888888888,
              "#fdca26"
             ],
             [
              1,
              "#f0f921"
             ]
            ],
            "type": "heatmapgl"
           }
          ],
          "histogram": [
           {
            "marker": {
             "pattern": {
              "fillmode": "overlay",
              "size": 10,
              "solidity": 0.2
             }
            },
            "type": "histogram"
           }
          ],
          "histogram2d": [
           {
            "colorbar": {
             "outlinewidth": 0,
             "ticks": ""
            },
            "colorscale": [
             [
              0,
              "#0d0887"
             ],
             [
              0.1111111111111111,
              "#46039f"
             ],
             [
              0.2222222222222222,
              "#7201a8"
             ],
             [
              0.3333333333333333,
              "#9c179e"
             ],
             [
              0.4444444444444444,
              "#bd3786"
             ],
             [
              0.5555555555555556,
              "#d8576b"
             ],
             [
              0.6666666666666666,
              "#ed7953"
             ],
             [
              0.7777777777777778,
              "#fb9f3a"
             ],
             [
              0.8888888888888888,
              "#fdca26"
             ],
             [
              1,
              "#f0f921"
             ]
            ],
            "type": "histogram2d"
           }
          ],
          "histogram2dcontour": [
           {
            "colorbar": {
             "outlinewidth": 0,
             "ticks": ""
            },
            "colorscale": [
             [
              0,
              "#0d0887"
             ],
             [
              0.1111111111111111,
              "#46039f"
             ],
             [
              0.2222222222222222,
              "#7201a8"
             ],
             [
              0.3333333333333333,
              "#9c179e"
             ],
             [
              0.4444444444444444,
              "#bd3786"
             ],
             [
              0.5555555555555556,
              "#d8576b"
             ],
             [
              0.6666666666666666,
              "#ed7953"
             ],
             [
              0.7777777777777778,
              "#fb9f3a"
             ],
             [
              0.8888888888888888,
              "#fdca26"
             ],
             [
              1,
              "#f0f921"
             ]
            ],
            "type": "histogram2dcontour"
           }
          ],
          "mesh3d": [
           {
            "colorbar": {
             "outlinewidth": 0,
             "ticks": ""
            },
            "type": "mesh3d"
           }
          ],
          "parcoords": [
           {
            "line": {
             "colorbar": {
              "outlinewidth": 0,
              "ticks": ""
             }
            },
            "type": "parcoords"
           }
          ],
          "pie": [
           {
            "automargin": true,
            "type": "pie"
           }
          ],
          "scatter": [
           {
            "fillpattern": {
             "fillmode": "overlay",
             "size": 10,
             "solidity": 0.2
            },
            "type": "scatter"
           }
          ],
          "scatter3d": [
           {
            "line": {
             "colorbar": {
              "outlinewidth": 0,
              "ticks": ""
             }
            },
            "marker": {
             "colorbar": {
              "outlinewidth": 0,
              "ticks": ""
             }
            },
            "type": "scatter3d"
           }
          ],
          "scattercarpet": [
           {
            "marker": {
             "colorbar": {
              "outlinewidth": 0,
              "ticks": ""
             }
            },
            "type": "scattercarpet"
           }
          ],
          "scattergeo": [
           {
            "marker": {
             "colorbar": {
              "outlinewidth": 0,
              "ticks": ""
             }
            },
            "type": "scattergeo"
           }
          ],
          "scattergl": [
           {
            "marker": {
             "colorbar": {
              "outlinewidth": 0,
              "ticks": ""
             }
            },
            "type": "scattergl"
           }
          ],
          "scattermapbox": [
           {
            "marker": {
             "colorbar": {
              "outlinewidth": 0,
              "ticks": ""
             }
            },
            "type": "scattermapbox"
           }
          ],
          "scatterpolar": [
           {
            "marker": {
             "colorbar": {
              "outlinewidth": 0,
              "ticks": ""
             }
            },
            "type": "scatterpolar"
           }
          ],
          "scatterpolargl": [
           {
            "marker": {
             "colorbar": {
              "outlinewidth": 0,
              "ticks": ""
             }
            },
            "type": "scatterpolargl"
           }
          ],
          "scatterternary": [
           {
            "marker": {
             "colorbar": {
              "outlinewidth": 0,
              "ticks": ""
             }
            },
            "type": "scatterternary"
           }
          ],
          "surface": [
           {
            "colorbar": {
             "outlinewidth": 0,
             "ticks": ""
            },
            "colorscale": [
             [
              0,
              "#0d0887"
             ],
             [
              0.1111111111111111,
              "#46039f"
             ],
             [
              0.2222222222222222,
              "#7201a8"
             ],
             [
              0.3333333333333333,
              "#9c179e"
             ],
             [
              0.4444444444444444,
              "#bd3786"
             ],
             [
              0.5555555555555556,
              "#d8576b"
             ],
             [
              0.6666666666666666,
              "#ed7953"
             ],
             [
              0.7777777777777778,
              "#fb9f3a"
             ],
             [
              0.8888888888888888,
              "#fdca26"
             ],
             [
              1,
              "#f0f921"
             ]
            ],
            "type": "surface"
           }
          ],
          "table": [
           {
            "cells": {
             "fill": {
              "color": "#EBF0F8"
             },
             "line": {
              "color": "white"
             }
            },
            "header": {
             "fill": {
              "color": "#C8D4E3"
             },
             "line": {
              "color": "white"
             }
            },
            "type": "table"
           }
          ]
         },
         "layout": {
          "annotationdefaults": {
           "arrowcolor": "#2a3f5f",
           "arrowhead": 0,
           "arrowwidth": 1
          },
          "autotypenumbers": "strict",
          "coloraxis": {
           "colorbar": {
            "outlinewidth": 0,
            "ticks": ""
           }
          },
          "colorscale": {
           "diverging": [
            [
             0,
             "#8e0152"
            ],
            [
             0.1,
             "#c51b7d"
            ],
            [
             0.2,
             "#de77ae"
            ],
            [
             0.3,
             "#f1b6da"
            ],
            [
             0.4,
             "#fde0ef"
            ],
            [
             0.5,
             "#f7f7f7"
            ],
            [
             0.6,
             "#e6f5d0"
            ],
            [
             0.7,
             "#b8e186"
            ],
            [
             0.8,
             "#7fbc41"
            ],
            [
             0.9,
             "#4d9221"
            ],
            [
             1,
             "#276419"
            ]
           ],
           "sequential": [
            [
             0,
             "#0d0887"
            ],
            [
             0.1111111111111111,
             "#46039f"
            ],
            [
             0.2222222222222222,
             "#7201a8"
            ],
            [
             0.3333333333333333,
             "#9c179e"
            ],
            [
             0.4444444444444444,
             "#bd3786"
            ],
            [
             0.5555555555555556,
             "#d8576b"
            ],
            [
             0.6666666666666666,
             "#ed7953"
            ],
            [
             0.7777777777777778,
             "#fb9f3a"
            ],
            [
             0.8888888888888888,
             "#fdca26"
            ],
            [
             1,
             "#f0f921"
            ]
           ],
           "sequentialminus": [
            [
             0,
             "#0d0887"
            ],
            [
             0.1111111111111111,
             "#46039f"
            ],
            [
             0.2222222222222222,
             "#7201a8"
            ],
            [
             0.3333333333333333,
             "#9c179e"
            ],
            [
             0.4444444444444444,
             "#bd3786"
            ],
            [
             0.5555555555555556,
             "#d8576b"
            ],
            [
             0.6666666666666666,
             "#ed7953"
            ],
            [
             0.7777777777777778,
             "#fb9f3a"
            ],
            [
             0.8888888888888888,
             "#fdca26"
            ],
            [
             1,
             "#f0f921"
            ]
           ]
          },
          "colorway": [
           "#636efa",
           "#EF553B",
           "#00cc96",
           "#ab63fa",
           "#FFA15A",
           "#19d3f3",
           "#FF6692",
           "#B6E880",
           "#FF97FF",
           "#FECB52"
          ],
          "font": {
           "color": "#2a3f5f"
          },
          "geo": {
           "bgcolor": "white",
           "lakecolor": "white",
           "landcolor": "#E5ECF6",
           "showlakes": true,
           "showland": true,
           "subunitcolor": "white"
          },
          "hoverlabel": {
           "align": "left"
          },
          "hovermode": "closest",
          "mapbox": {
           "style": "light"
          },
          "paper_bgcolor": "white",
          "plot_bgcolor": "#E5ECF6",
          "polar": {
           "angularaxis": {
            "gridcolor": "white",
            "linecolor": "white",
            "ticks": ""
           },
           "bgcolor": "#E5ECF6",
           "radialaxis": {
            "gridcolor": "white",
            "linecolor": "white",
            "ticks": ""
           }
          },
          "scene": {
           "xaxis": {
            "backgroundcolor": "#E5ECF6",
            "gridcolor": "white",
            "gridwidth": 2,
            "linecolor": "white",
            "showbackground": true,
            "ticks": "",
            "zerolinecolor": "white"
           },
           "yaxis": {
            "backgroundcolor": "#E5ECF6",
            "gridcolor": "white",
            "gridwidth": 2,
            "linecolor": "white",
            "showbackground": true,
            "ticks": "",
            "zerolinecolor": "white"
           },
           "zaxis": {
            "backgroundcolor": "#E5ECF6",
            "gridcolor": "white",
            "gridwidth": 2,
            "linecolor": "white",
            "showbackground": true,
            "ticks": "",
            "zerolinecolor": "white"
           }
          },
          "shapedefaults": {
           "line": {
            "color": "#2a3f5f"
           }
          },
          "ternary": {
           "aaxis": {
            "gridcolor": "white",
            "linecolor": "white",
            "ticks": ""
           },
           "baxis": {
            "gridcolor": "white",
            "linecolor": "white",
            "ticks": ""
           },
           "bgcolor": "#E5ECF6",
           "caxis": {
            "gridcolor": "white",
            "linecolor": "white",
            "ticks": ""
           }
          },
          "title": {
           "x": 0.05
          },
          "xaxis": {
           "automargin": true,
           "gridcolor": "white",
           "linecolor": "white",
           "ticks": "",
           "title": {
            "standoff": 15
           },
           "zerolinecolor": "white",
           "zerolinewidth": 2
          },
          "yaxis": {
           "automargin": true,
           "gridcolor": "white",
           "linecolor": "white",
           "ticks": "",
           "title": {
            "standoff": 15
           },
           "zerolinecolor": "white",
           "zerolinewidth": 2
          }
         }
        },
        "title": {
         "text": "Optimization History Plot"
        },
        "xaxis": {
         "title": {
          "text": "Trial"
         }
        },
        "yaxis": {
         "title": {
          "text": "Objective Value"
         }
        }
       }
      }
     },
     "metadata": {},
     "output_type": "display_data"
    },
    {
     "name": "stdout",
     "output_type": "stream",
     "text": [
      "Best trial: -0.0541374002392643\n",
      "Best parameters: {'criterion': 'squared_error', 'min_samples_split': 17, 'min_samples_leaf': 4}\n"
     ]
    }
   ],
   "source": [
    "# define o espaço de busca e a função objetivo\n",
    "def objective_random_forests(\n",
    "\t\ttrial: opt.trial.Trial,\n",
    "\t\tX: pd.DataFrame,\n",
    "\t\ty: pd.DataFrame,\n",
    "\t) -> float:\n",
    "\testimator = RandomForestRegressor(\n",
    "\t\tcriterion = trial.suggest_categorical('criterion', ['squared_error', 'friedman_mse', 'absolute_error', 'poisson']),\n",
    "\t\tmin_samples_split = trial.suggest_int('min_samples_split', 2, 100),\n",
    "\t\tmin_samples_leaf = trial.suggest_int('min_samples_leaf', 2, 100),\n",
    "\t)\n",
    "\ttrial.set_user_attr(key='estimator', value=estimator)\n",
    "\tscore = cross_val_score(estimator, X, y, n_jobs=-1, cv=5, scoring='neg_root_mean_squared_error')\n",
    "\treturn score.mean()\n",
    "\n",
    "np.seterr(divide='ignore', invalid='ignore')\n",
    "\n",
    "# rotina de otimização bayesiana\n",
    "random_forests_model = optimize(\n",
    "\tobjective=objective_random_forests, \n",
    "\tdescription='random_forests_risk', n_trials=100,\n",
    "\tX=data_train, y=targets_train, X_test=data_test, y_test=targets_test,)"
   ]
  },
  {
   "attachments": {},
   "cell_type": "markdown",
   "metadata": {},
   "source": [
    "#### xgboost - gbtree"
   ]
  },
  {
   "cell_type": "code",
   "execution_count": 16,
   "metadata": {},
   "outputs": [
    {
     "data": {
      "application/vnd.jupyter.widget-view+json": {
       "model_id": "3a9f432f1a9e4926a571d3c385da26c8",
       "version_major": 2,
       "version_minor": 0
      },
      "text/plain": [
       "  0%|          | 0/100 [00:00<?, ?it/s]"
      ]
     },
     "metadata": {},
     "output_type": "display_data"
    },
    {
     "data": {
      "text/html": [
       "<div>\n",
       "<style scoped>\n",
       "    .dataframe tbody tr th:only-of-type {\n",
       "        vertical-align: middle;\n",
       "    }\n",
       "\n",
       "    .dataframe tbody tr th {\n",
       "        vertical-align: top;\n",
       "    }\n",
       "\n",
       "    .dataframe thead th {\n",
       "        text-align: right;\n",
       "    }\n",
       "</style>\n",
       "<table border=\"1\" class=\"dataframe\">\n",
       "  <thead>\n",
       "    <tr style=\"text-align: right;\">\n",
       "      <th></th>\n",
       "      <th>validation</th>\n",
       "      <th>test</th>\n",
       "    </tr>\n",
       "  </thead>\n",
       "  <tbody>\n",
       "    <tr>\n",
       "      <th>mae</th>\n",
       "      <td>0.0187</td>\n",
       "      <td>0.0362</td>\n",
       "    </tr>\n",
       "    <tr>\n",
       "      <th>rmse</th>\n",
       "      <td>0.0253</td>\n",
       "      <td>0.0507</td>\n",
       "    </tr>\n",
       "    <tr>\n",
       "      <th>r2</th>\n",
       "      <td>0.9585</td>\n",
       "      <td>0.8424</td>\n",
       "    </tr>\n",
       "  </tbody>\n",
       "</table>\n",
       "</div>"
      ],
      "text/plain": [
       "      validation   test\n",
       "mae       0.0187 0.0362\n",
       "rmse      0.0253 0.0507\n",
       "r2        0.9585 0.8424"
      ]
     },
     "metadata": {},
     "output_type": "display_data"
    },
    {
     "data": {
      "application/vnd.plotly.v1+json": {
       "config": {
        "plotlyServerURL": "https://plot.ly"
       },
       "data": [
        {
         "mode": "markers",
         "name": "Objective Value",
         "type": "scatter",
         "x": [
          0,
          1,
          2,
          3,
          4,
          5,
          6,
          7,
          8,
          9,
          10,
          11,
          12,
          13,
          14,
          15,
          16,
          17,
          18,
          19,
          20,
          21,
          22,
          23,
          24,
          25,
          26,
          27,
          28,
          29,
          30,
          31,
          32,
          33,
          34,
          35,
          36,
          37,
          38,
          39,
          40,
          41,
          42,
          43,
          44,
          45,
          46,
          47,
          48,
          49,
          50,
          51,
          52,
          53,
          54,
          55,
          56,
          57,
          58,
          59,
          60,
          61,
          62,
          63,
          64,
          65,
          66,
          67,
          68,
          69,
          70,
          71,
          72,
          73,
          74,
          75,
          76,
          77,
          78,
          79,
          80,
          81,
          82,
          83,
          84,
          85,
          86,
          87,
          88,
          89,
          90,
          91,
          92,
          93,
          94,
          95,
          96,
          97,
          98,
          99
         ],
         "y": [
          -0.27247449159622195,
          -0.057873659580945966,
          -0.2532055854797363,
          -0.06222341880202294,
          -0.2723272919654846,
          -0.27231059670448304,
          -0.06055546551942825,
          -0.2725460648536682,
          -0.2725460648536682,
          -0.12441672384738922,
          -0.2725434243679047,
          -0.2725434243679047,
          -0.27247061133384703,
          -0.2725460648536682,
          -0.2448186457157135,
          -0.2725460648536682,
          -0.27253812551498413,
          -0.20645128190517426,
          -0.2725440263748169,
          -0.052779079973697664,
          -0.2725460648536682,
          -0.2725434720516205,
          -0.2725460648536682,
          -0.27241297364234923,
          -0.2725460648536682,
          -0.2725436508655548,
          -0.05736370012164116,
          -0.2725460648536682,
          -0.2722714006900787,
          -0.2725460648536682,
          -0.2725460648536682,
          -0.09641351103782654,
          -0.2255513310432434,
          -0.14594545364379882,
          -0.05926686972379684,
          -0.05606307238340378,
          -0.05994003117084503,
          -0.06140511631965637,
          -0.06201770454645157,
          -0.06237518936395645,
          -0.053695278614759444,
          -0.060735730826854704,
          -0.0860911637544632,
          -0.07156050801277161,
          -0.05802629292011261,
          -0.06015622466802597,
          -0.05752275362610817,
          -0.05586763694882393,
          -0.05321051403880119,
          -0.05414411872625351,
          -0.06178275421261788,
          -0.056901437044143674,
          -0.05449794828891754,
          -0.0571477971971035,
          -0.0615849107503891,
          -0.057419055700302125,
          -0.061034166067838666,
          -0.06456931680440903,
          -0.06353476122021676,
          -0.06819557845592499,
          -0.06233452931046486,
          -0.06176310330629349,
          -0.06296386569738388,
          -0.07244640439748765,
          -0.061481356620788574,
          -0.059710622578859326,
          -0.05949080809950828,
          -0.05953720286488533,
          -0.05957320630550385,
          -0.058585415780544284,
          -0.05452817305922508,
          -0.05366587415337563,
          -0.05241571366786957,
          -0.052396228164434434,
          -0.05272807031869888,
          -0.05221565589308739,
          -0.052730809152126315,
          -0.05242388918995857,
          -0.052454636245965955,
          -0.05247907117009163,
          -0.05263759046792984,
          -0.0527729444205761,
          -0.05346802324056625,
          -0.052252054959535596,
          -0.05329896062612534,
          -0.05285528525710106,
          -0.0523993581533432,
          -0.052418849617242816,
          -0.05222025141119957,
          -0.05405388846993446,
          -0.05304722487926483,
          -0.053033895790576935,
          -0.05327534973621369,
          -0.05306035354733467,
          -0.05330879315733909,
          -0.05382301956415177,
          -0.05423169881105423,
          -0.05374238044023514,
          -0.053422854840755464,
          -0.054036688059568405
         ]
        },
        {
         "name": "Best Value",
         "type": "scatter",
         "x": [
          0,
          1,
          2,
          3,
          4,
          5,
          6,
          7,
          8,
          9,
          10,
          11,
          12,
          13,
          14,
          15,
          16,
          17,
          18,
          19,
          20,
          21,
          22,
          23,
          24,
          25,
          26,
          27,
          28,
          29,
          30,
          31,
          32,
          33,
          34,
          35,
          36,
          37,
          38,
          39,
          40,
          41,
          42,
          43,
          44,
          45,
          46,
          47,
          48,
          49,
          50,
          51,
          52,
          53,
          54,
          55,
          56,
          57,
          58,
          59,
          60,
          61,
          62,
          63,
          64,
          65,
          66,
          67,
          68,
          69,
          70,
          71,
          72,
          73,
          74,
          75,
          76,
          77,
          78,
          79,
          80,
          81,
          82,
          83,
          84,
          85,
          86,
          87,
          88,
          89,
          90,
          91,
          92,
          93,
          94,
          95,
          96,
          97,
          98,
          99
         ],
         "y": [
          -0.27247449159622195,
          -0.057873659580945966,
          -0.057873659580945966,
          -0.057873659580945966,
          -0.057873659580945966,
          -0.057873659580945966,
          -0.057873659580945966,
          -0.057873659580945966,
          -0.057873659580945966,
          -0.057873659580945966,
          -0.057873659580945966,
          -0.057873659580945966,
          -0.057873659580945966,
          -0.057873659580945966,
          -0.057873659580945966,
          -0.057873659580945966,
          -0.057873659580945966,
          -0.057873659580945966,
          -0.057873659580945966,
          -0.052779079973697664,
          -0.052779079973697664,
          -0.052779079973697664,
          -0.052779079973697664,
          -0.052779079973697664,
          -0.052779079973697664,
          -0.052779079973697664,
          -0.052779079973697664,
          -0.052779079973697664,
          -0.052779079973697664,
          -0.052779079973697664,
          -0.052779079973697664,
          -0.052779079973697664,
          -0.052779079973697664,
          -0.052779079973697664,
          -0.052779079973697664,
          -0.052779079973697664,
          -0.052779079973697664,
          -0.052779079973697664,
          -0.052779079973697664,
          -0.052779079973697664,
          -0.052779079973697664,
          -0.052779079973697664,
          -0.052779079973697664,
          -0.052779079973697664,
          -0.052779079973697664,
          -0.052779079973697664,
          -0.052779079973697664,
          -0.052779079973697664,
          -0.052779079973697664,
          -0.052779079973697664,
          -0.052779079973697664,
          -0.052779079973697664,
          -0.052779079973697664,
          -0.052779079973697664,
          -0.052779079973697664,
          -0.052779079973697664,
          -0.052779079973697664,
          -0.052779079973697664,
          -0.052779079973697664,
          -0.052779079973697664,
          -0.052779079973697664,
          -0.052779079973697664,
          -0.052779079973697664,
          -0.052779079973697664,
          -0.052779079973697664,
          -0.052779079973697664,
          -0.052779079973697664,
          -0.052779079973697664,
          -0.052779079973697664,
          -0.052779079973697664,
          -0.052779079973697664,
          -0.052779079973697664,
          -0.05241571366786957,
          -0.052396228164434434,
          -0.052396228164434434,
          -0.05221565589308739,
          -0.05221565589308739,
          -0.05221565589308739,
          -0.05221565589308739,
          -0.05221565589308739,
          -0.05221565589308739,
          -0.05221565589308739,
          -0.05221565589308739,
          -0.05221565589308739,
          -0.05221565589308739,
          -0.05221565589308739,
          -0.05221565589308739,
          -0.05221565589308739,
          -0.05221565589308739,
          -0.05221565589308739,
          -0.05221565589308739,
          -0.05221565589308739,
          -0.05221565589308739,
          -0.05221565589308739,
          -0.05221565589308739,
          -0.05221565589308739,
          -0.05221565589308739,
          -0.05221565589308739,
          -0.05221565589308739,
          -0.05221565589308739
         ]
        }
       ],
       "layout": {
        "template": {
         "data": {
          "bar": [
           {
            "error_x": {
             "color": "#2a3f5f"
            },
            "error_y": {
             "color": "#2a3f5f"
            },
            "marker": {
             "line": {
              "color": "#E5ECF6",
              "width": 0.5
             },
             "pattern": {
              "fillmode": "overlay",
              "size": 10,
              "solidity": 0.2
             }
            },
            "type": "bar"
           }
          ],
          "barpolar": [
           {
            "marker": {
             "line": {
              "color": "#E5ECF6",
              "width": 0.5
             },
             "pattern": {
              "fillmode": "overlay",
              "size": 10,
              "solidity": 0.2
             }
            },
            "type": "barpolar"
           }
          ],
          "carpet": [
           {
            "aaxis": {
             "endlinecolor": "#2a3f5f",
             "gridcolor": "white",
             "linecolor": "white",
             "minorgridcolor": "white",
             "startlinecolor": "#2a3f5f"
            },
            "baxis": {
             "endlinecolor": "#2a3f5f",
             "gridcolor": "white",
             "linecolor": "white",
             "minorgridcolor": "white",
             "startlinecolor": "#2a3f5f"
            },
            "type": "carpet"
           }
          ],
          "choropleth": [
           {
            "colorbar": {
             "outlinewidth": 0,
             "ticks": ""
            },
            "type": "choropleth"
           }
          ],
          "contour": [
           {
            "colorbar": {
             "outlinewidth": 0,
             "ticks": ""
            },
            "colorscale": [
             [
              0,
              "#0d0887"
             ],
             [
              0.1111111111111111,
              "#46039f"
             ],
             [
              0.2222222222222222,
              "#7201a8"
             ],
             [
              0.3333333333333333,
              "#9c179e"
             ],
             [
              0.4444444444444444,
              "#bd3786"
             ],
             [
              0.5555555555555556,
              "#d8576b"
             ],
             [
              0.6666666666666666,
              "#ed7953"
             ],
             [
              0.7777777777777778,
              "#fb9f3a"
             ],
             [
              0.8888888888888888,
              "#fdca26"
             ],
             [
              1,
              "#f0f921"
             ]
            ],
            "type": "contour"
           }
          ],
          "contourcarpet": [
           {
            "colorbar": {
             "outlinewidth": 0,
             "ticks": ""
            },
            "type": "contourcarpet"
           }
          ],
          "heatmap": [
           {
            "colorbar": {
             "outlinewidth": 0,
             "ticks": ""
            },
            "colorscale": [
             [
              0,
              "#0d0887"
             ],
             [
              0.1111111111111111,
              "#46039f"
             ],
             [
              0.2222222222222222,
              "#7201a8"
             ],
             [
              0.3333333333333333,
              "#9c179e"
             ],
             [
              0.4444444444444444,
              "#bd3786"
             ],
             [
              0.5555555555555556,
              "#d8576b"
             ],
             [
              0.6666666666666666,
              "#ed7953"
             ],
             [
              0.7777777777777778,
              "#fb9f3a"
             ],
             [
              0.8888888888888888,
              "#fdca26"
             ],
             [
              1,
              "#f0f921"
             ]
            ],
            "type": "heatmap"
           }
          ],
          "heatmapgl": [
           {
            "colorbar": {
             "outlinewidth": 0,
             "ticks": ""
            },
            "colorscale": [
             [
              0,
              "#0d0887"
             ],
             [
              0.1111111111111111,
              "#46039f"
             ],
             [
              0.2222222222222222,
              "#7201a8"
             ],
             [
              0.3333333333333333,
              "#9c179e"
             ],
             [
              0.4444444444444444,
              "#bd3786"
             ],
             [
              0.5555555555555556,
              "#d8576b"
             ],
             [
              0.6666666666666666,
              "#ed7953"
             ],
             [
              0.7777777777777778,
              "#fb9f3a"
             ],
             [
              0.8888888888888888,
              "#fdca26"
             ],
             [
              1,
              "#f0f921"
             ]
            ],
            "type": "heatmapgl"
           }
          ],
          "histogram": [
           {
            "marker": {
             "pattern": {
              "fillmode": "overlay",
              "size": 10,
              "solidity": 0.2
             }
            },
            "type": "histogram"
           }
          ],
          "histogram2d": [
           {
            "colorbar": {
             "outlinewidth": 0,
             "ticks": ""
            },
            "colorscale": [
             [
              0,
              "#0d0887"
             ],
             [
              0.1111111111111111,
              "#46039f"
             ],
             [
              0.2222222222222222,
              "#7201a8"
             ],
             [
              0.3333333333333333,
              "#9c179e"
             ],
             [
              0.4444444444444444,
              "#bd3786"
             ],
             [
              0.5555555555555556,
              "#d8576b"
             ],
             [
              0.6666666666666666,
              "#ed7953"
             ],
             [
              0.7777777777777778,
              "#fb9f3a"
             ],
             [
              0.8888888888888888,
              "#fdca26"
             ],
             [
              1,
              "#f0f921"
             ]
            ],
            "type": "histogram2d"
           }
          ],
          "histogram2dcontour": [
           {
            "colorbar": {
             "outlinewidth": 0,
             "ticks": ""
            },
            "colorscale": [
             [
              0,
              "#0d0887"
             ],
             [
              0.1111111111111111,
              "#46039f"
             ],
             [
              0.2222222222222222,
              "#7201a8"
             ],
             [
              0.3333333333333333,
              "#9c179e"
             ],
             [
              0.4444444444444444,
              "#bd3786"
             ],
             [
              0.5555555555555556,
              "#d8576b"
             ],
             [
              0.6666666666666666,
              "#ed7953"
             ],
             [
              0.7777777777777778,
              "#fb9f3a"
             ],
             [
              0.8888888888888888,
              "#fdca26"
             ],
             [
              1,
              "#f0f921"
             ]
            ],
            "type": "histogram2dcontour"
           }
          ],
          "mesh3d": [
           {
            "colorbar": {
             "outlinewidth": 0,
             "ticks": ""
            },
            "type": "mesh3d"
           }
          ],
          "parcoords": [
           {
            "line": {
             "colorbar": {
              "outlinewidth": 0,
              "ticks": ""
             }
            },
            "type": "parcoords"
           }
          ],
          "pie": [
           {
            "automargin": true,
            "type": "pie"
           }
          ],
          "scatter": [
           {
            "fillpattern": {
             "fillmode": "overlay",
             "size": 10,
             "solidity": 0.2
            },
            "type": "scatter"
           }
          ],
          "scatter3d": [
           {
            "line": {
             "colorbar": {
              "outlinewidth": 0,
              "ticks": ""
             }
            },
            "marker": {
             "colorbar": {
              "outlinewidth": 0,
              "ticks": ""
             }
            },
            "type": "scatter3d"
           }
          ],
          "scattercarpet": [
           {
            "marker": {
             "colorbar": {
              "outlinewidth": 0,
              "ticks": ""
             }
            },
            "type": "scattercarpet"
           }
          ],
          "scattergeo": [
           {
            "marker": {
             "colorbar": {
              "outlinewidth": 0,
              "ticks": ""
             }
            },
            "type": "scattergeo"
           }
          ],
          "scattergl": [
           {
            "marker": {
             "colorbar": {
              "outlinewidth": 0,
              "ticks": ""
             }
            },
            "type": "scattergl"
           }
          ],
          "scattermapbox": [
           {
            "marker": {
             "colorbar": {
              "outlinewidth": 0,
              "ticks": ""
             }
            },
            "type": "scattermapbox"
           }
          ],
          "scatterpolar": [
           {
            "marker": {
             "colorbar": {
              "outlinewidth": 0,
              "ticks": ""
             }
            },
            "type": "scatterpolar"
           }
          ],
          "scatterpolargl": [
           {
            "marker": {
             "colorbar": {
              "outlinewidth": 0,
              "ticks": ""
             }
            },
            "type": "scatterpolargl"
           }
          ],
          "scatterternary": [
           {
            "marker": {
             "colorbar": {
              "outlinewidth": 0,
              "ticks": ""
             }
            },
            "type": "scatterternary"
           }
          ],
          "surface": [
           {
            "colorbar": {
             "outlinewidth": 0,
             "ticks": ""
            },
            "colorscale": [
             [
              0,
              "#0d0887"
             ],
             [
              0.1111111111111111,
              "#46039f"
             ],
             [
              0.2222222222222222,
              "#7201a8"
             ],
             [
              0.3333333333333333,
              "#9c179e"
             ],
             [
              0.4444444444444444,
              "#bd3786"
             ],
             [
              0.5555555555555556,
              "#d8576b"
             ],
             [
              0.6666666666666666,
              "#ed7953"
             ],
             [
              0.7777777777777778,
              "#fb9f3a"
             ],
             [
              0.8888888888888888,
              "#fdca26"
             ],
             [
              1,
              "#f0f921"
             ]
            ],
            "type": "surface"
           }
          ],
          "table": [
           {
            "cells": {
             "fill": {
              "color": "#EBF0F8"
             },
             "line": {
              "color": "white"
             }
            },
            "header": {
             "fill": {
              "color": "#C8D4E3"
             },
             "line": {
              "color": "white"
             }
            },
            "type": "table"
           }
          ]
         },
         "layout": {
          "annotationdefaults": {
           "arrowcolor": "#2a3f5f",
           "arrowhead": 0,
           "arrowwidth": 1
          },
          "autotypenumbers": "strict",
          "coloraxis": {
           "colorbar": {
            "outlinewidth": 0,
            "ticks": ""
           }
          },
          "colorscale": {
           "diverging": [
            [
             0,
             "#8e0152"
            ],
            [
             0.1,
             "#c51b7d"
            ],
            [
             0.2,
             "#de77ae"
            ],
            [
             0.3,
             "#f1b6da"
            ],
            [
             0.4,
             "#fde0ef"
            ],
            [
             0.5,
             "#f7f7f7"
            ],
            [
             0.6,
             "#e6f5d0"
            ],
            [
             0.7,
             "#b8e186"
            ],
            [
             0.8,
             "#7fbc41"
            ],
            [
             0.9,
             "#4d9221"
            ],
            [
             1,
             "#276419"
            ]
           ],
           "sequential": [
            [
             0,
             "#0d0887"
            ],
            [
             0.1111111111111111,
             "#46039f"
            ],
            [
             0.2222222222222222,
             "#7201a8"
            ],
            [
             0.3333333333333333,
             "#9c179e"
            ],
            [
             0.4444444444444444,
             "#bd3786"
            ],
            [
             0.5555555555555556,
             "#d8576b"
            ],
            [
             0.6666666666666666,
             "#ed7953"
            ],
            [
             0.7777777777777778,
             "#fb9f3a"
            ],
            [
             0.8888888888888888,
             "#fdca26"
            ],
            [
             1,
             "#f0f921"
            ]
           ],
           "sequentialminus": [
            [
             0,
             "#0d0887"
            ],
            [
             0.1111111111111111,
             "#46039f"
            ],
            [
             0.2222222222222222,
             "#7201a8"
            ],
            [
             0.3333333333333333,
             "#9c179e"
            ],
            [
             0.4444444444444444,
             "#bd3786"
            ],
            [
             0.5555555555555556,
             "#d8576b"
            ],
            [
             0.6666666666666666,
             "#ed7953"
            ],
            [
             0.7777777777777778,
             "#fb9f3a"
            ],
            [
             0.8888888888888888,
             "#fdca26"
            ],
            [
             1,
             "#f0f921"
            ]
           ]
          },
          "colorway": [
           "#636efa",
           "#EF553B",
           "#00cc96",
           "#ab63fa",
           "#FFA15A",
           "#19d3f3",
           "#FF6692",
           "#B6E880",
           "#FF97FF",
           "#FECB52"
          ],
          "font": {
           "color": "#2a3f5f"
          },
          "geo": {
           "bgcolor": "white",
           "lakecolor": "white",
           "landcolor": "#E5ECF6",
           "showlakes": true,
           "showland": true,
           "subunitcolor": "white"
          },
          "hoverlabel": {
           "align": "left"
          },
          "hovermode": "closest",
          "mapbox": {
           "style": "light"
          },
          "paper_bgcolor": "white",
          "plot_bgcolor": "#E5ECF6",
          "polar": {
           "angularaxis": {
            "gridcolor": "white",
            "linecolor": "white",
            "ticks": ""
           },
           "bgcolor": "#E5ECF6",
           "radialaxis": {
            "gridcolor": "white",
            "linecolor": "white",
            "ticks": ""
           }
          },
          "scene": {
           "xaxis": {
            "backgroundcolor": "#E5ECF6",
            "gridcolor": "white",
            "gridwidth": 2,
            "linecolor": "white",
            "showbackground": true,
            "ticks": "",
            "zerolinecolor": "white"
           },
           "yaxis": {
            "backgroundcolor": "#E5ECF6",
            "gridcolor": "white",
            "gridwidth": 2,
            "linecolor": "white",
            "showbackground": true,
            "ticks": "",
            "zerolinecolor": "white"
           },
           "zaxis": {
            "backgroundcolor": "#E5ECF6",
            "gridcolor": "white",
            "gridwidth": 2,
            "linecolor": "white",
            "showbackground": true,
            "ticks": "",
            "zerolinecolor": "white"
           }
          },
          "shapedefaults": {
           "line": {
            "color": "#2a3f5f"
           }
          },
          "ternary": {
           "aaxis": {
            "gridcolor": "white",
            "linecolor": "white",
            "ticks": ""
           },
           "baxis": {
            "gridcolor": "white",
            "linecolor": "white",
            "ticks": ""
           },
           "bgcolor": "#E5ECF6",
           "caxis": {
            "gridcolor": "white",
            "linecolor": "white",
            "ticks": ""
           }
          },
          "title": {
           "x": 0.05
          },
          "xaxis": {
           "automargin": true,
           "gridcolor": "white",
           "linecolor": "white",
           "ticks": "",
           "title": {
            "standoff": 15
           },
           "zerolinecolor": "white",
           "zerolinewidth": 2
          },
          "yaxis": {
           "automargin": true,
           "gridcolor": "white",
           "linecolor": "white",
           "ticks": "",
           "title": {
            "standoff": 15
           },
           "zerolinecolor": "white",
           "zerolinewidth": 2
          }
         }
        },
        "title": {
         "text": "Optimization History Plot"
        },
        "xaxis": {
         "title": {
          "text": "Trial"
         }
        },
        "yaxis": {
         "title": {
          "text": "Objective Value"
         }
        }
       }
      }
     },
     "metadata": {},
     "output_type": "display_data"
    },
    {
     "name": "stdout",
     "output_type": "stream",
     "text": [
      "Best trial: -0.05221565589308739\n",
      "Best parameters: {'alpha': 0.002309540054741434, 'lambda': 0.38346593997081463, 'eta': 0.11046281611278125, 'max_depth': 8, 'grow_policy': 'lossguide', 'min_child_weight': 1, 'gamma': 0.0015473464463609907, 'sample_type': 'weighted', 'normalize_type': 'forest', 'rate_drop': 0.0019343929747128459, 'skip_drop': 0.20267225917559925, 'updater': 'coord_descent', 'feature_selector': 'cyclic'}\n"
     ]
    }
   ],
   "source": [
    "# define o espaço de busca e a função objetivo\n",
    "def xgboost_regressor_gbtree(\n",
    "\t\ttrial: opt.trial.Trial,\n",
    "\t\tX: pd.DataFrame,\n",
    "\t\ty: pd.DataFrame,\n",
    "\t) -> float:\n",
    "\thyperparameters = {\n",
    "\t\t# 'booster': trial.suggest_categorical('booster', ['gbtree', 'gblinear', 'dart']),\n",
    "\t\t'booster': 'gbtree',\n",
    "\t\t'objective': 'reg:squarederror',\n",
    "\t\t'eval_metric': 'rmse',\n",
    "\t\t'verbosity': 0,\n",
    "\t\t'alpha': trial.suggest_float('alpha', 1e-3, 1, log=True),\n",
    "\t\t'lambda': trial.suggest_float('lambda', 1e-3, 1, log=True),\n",
    "\t\t'eta': trial.suggest_float('eta', 1e-10, 1.0, log=True),\n",
    "\t\t'max_depth': trial.suggest_int('max_depth', 1, 9),\n",
    "\t\t'grow_policy': trial.suggest_categorical('grow_policy', ['depthwise', 'lossguide']),\n",
    "\t\t'min_child_weight': trial.suggest_int('min_child_weight', 0, 10),\n",
    "\t\t'gamma': trial.suggest_float('gamma', 1e-8, 1e8, log=True),\n",
    "\t\t'sample_type': trial.suggest_categorical('sample_type', ['uniform', 'weighted']),\n",
    "\t\t'normalize_type': trial.suggest_categorical('normalize_type', ['tree', 'forest']),\n",
    "\t\t'rate_drop': trial.suggest_float('rate_drop', 1e-8, 1.0, log=True),\n",
    "\t\t'skip_drop': trial.suggest_float('skip_drop', 1e-8, 1.0, log=True),\n",
    "\t\t'updater': trial.suggest_categorical('updater', ['coord_descent', 'shotgun']),\n",
    "\t\t'feature_selector': trial.suggest_categorical('feature_selector', ['cyclic', 'shuffle']),\n",
    "\t}\n",
    "\thp = {\n",
    "\t\t'booster': hyperparameters['booster'],\n",
    "\t\t'objective': hyperparameters['objective'],\n",
    "\t\t'eval_metric': hyperparameters['eval_metric'],\n",
    "\t\t'verbosity': hyperparameters['verbosity'],\n",
    "\t}\n",
    "\t\n",
    "\tif hyperparameters['booster'] in ['gbtree', 'dart']:\n",
    "\t\t# L1 regularization term on weights. Increasing this value will make model more conservative.\n",
    "\t\thp['alpha'] = hyperparameters['alpha']\n",
    "\t\t# L2 regularization term on weights. Increasing this value will make model more conservative.\n",
    "\t\thp['lambda'] = hyperparameters['lambda']\n",
    "\t\t# Step size shrinkage used in update to prevents overfitting\n",
    "\t\thp['eta'] = hyperparameters['eta']\n",
    "\t\t# maximum depth of the tree, signifies complexity of the tree.\n",
    "\t\thp['max_depth'] = hyperparameters['max_depth']\n",
    "\t\t# Controls a way new nodes are added to the tree.\n",
    "\t\thp['grow_policy'] = hyperparameters['grow_policy']\n",
    "\t\t# minimum child weight, larger the term more conservative the tree.\n",
    "\t\thp['min_child_weight'] = hyperparameters['min_child_weight']\n",
    "\t\t# defines how conservative algorithm is.\n",
    "\t\thp['gamma'] = hyperparameters['gamma']\n",
    "\n",
    "\tif hyperparameters['booster'] == 'dart':\n",
    "\t\t# sampling ratio for dropout.\n",
    "\t\thp['sample_type'] = hyperparameters['sample_type']\n",
    "\t\t# Type of normalization algorithm\n",
    "\t\thp['normalize_type'] = hyperparameters['normalize_type']\n",
    "\t\t# Dropout rate (a fraction of previous trees to drop during the dropout)\n",
    "\t\thp['rate_drop'] = hyperparameters['rate_drop']\n",
    "\t\t# Probability of skipping the dropout procedure during a boosting iteration.\n",
    "\t\thp['skip_drop'] = hyperparameters['skip_drop']\n",
    "\n",
    "\tif hyperparameters['booster'] == 'gblinear':\n",
    "\t\t# algorithm to fit linear model\n",
    "\t\thp['updater'] = hyperparameters['updater']\n",
    "\t\t# feature selector\n",
    "\t\thp['feature_selector'] = hyperparameters['feature_selector']\n",
    "\n",
    "\testimator = XGBRegressor(**hp)\n",
    "\ttrial.set_user_attr(key='estimator', value=estimator)\n",
    "\tscore = cross_val_score(estimator, X, y, n_jobs=-1, cv=5, scoring='neg_root_mean_squared_error')\n",
    "\treturn score.mean()\n",
    "\n",
    "np.seterr(divide='ignore', invalid='ignore')\n",
    "\n",
    "# rotina de otimização bayesiana\n",
    "xgboost_model_gbtree = optimize(\n",
    "\tobjective=xgboost_regressor_gbtree, \n",
    "\tdescription='xgboost_gbtree_risk', n_trials=100,\n",
    "\tX=data_train, y=targets_train, X_test=data_test, y_test=targets_test,)"
   ]
  },
  {
   "attachments": {},
   "cell_type": "markdown",
   "metadata": {},
   "source": [
    "#### xgboost - dart"
   ]
  },
  {
   "cell_type": "code",
   "execution_count": 17,
   "metadata": {},
   "outputs": [
    {
     "data": {
      "application/vnd.jupyter.widget-view+json": {
       "model_id": "7790edea00e8470c9e3e7e9cea8018d2",
       "version_major": 2,
       "version_minor": 0
      },
      "text/plain": [
       "  0%|          | 0/100 [00:00<?, ?it/s]"
      ]
     },
     "metadata": {},
     "output_type": "display_data"
    },
    {
     "data": {
      "text/html": [
       "<div>\n",
       "<style scoped>\n",
       "    .dataframe tbody tr th:only-of-type {\n",
       "        vertical-align: middle;\n",
       "    }\n",
       "\n",
       "    .dataframe tbody tr th {\n",
       "        vertical-align: top;\n",
       "    }\n",
       "\n",
       "    .dataframe thead th {\n",
       "        text-align: right;\n",
       "    }\n",
       "</style>\n",
       "<table border=\"1\" class=\"dataframe\">\n",
       "  <thead>\n",
       "    <tr style=\"text-align: right;\">\n",
       "      <th></th>\n",
       "      <th>validation</th>\n",
       "      <th>test</th>\n",
       "    </tr>\n",
       "  </thead>\n",
       "  <tbody>\n",
       "    <tr>\n",
       "      <th>mae</th>\n",
       "      <td>0.0152</td>\n",
       "      <td>0.0358</td>\n",
       "    </tr>\n",
       "    <tr>\n",
       "      <th>rmse</th>\n",
       "      <td>0.0213</td>\n",
       "      <td>0.0504</td>\n",
       "    </tr>\n",
       "    <tr>\n",
       "      <th>r2</th>\n",
       "      <td>0.9706</td>\n",
       "      <td>0.8442</td>\n",
       "    </tr>\n",
       "  </tbody>\n",
       "</table>\n",
       "</div>"
      ],
      "text/plain": [
       "      validation   test\n",
       "mae       0.0152 0.0358\n",
       "rmse      0.0213 0.0504\n",
       "r2        0.9706 0.8442"
      ]
     },
     "metadata": {},
     "output_type": "display_data"
    },
    {
     "data": {
      "application/vnd.plotly.v1+json": {
       "config": {
        "plotlyServerURL": "https://plot.ly"
       },
       "data": [
        {
         "mode": "markers",
         "name": "Objective Value",
         "type": "scatter",
         "x": [
          0,
          1,
          2,
          3,
          4,
          5,
          6,
          7,
          8,
          9,
          10,
          11,
          12,
          13,
          14,
          15,
          16,
          17,
          18,
          19,
          20,
          21,
          22,
          23,
          24,
          25,
          26,
          27,
          28,
          29,
          30,
          31,
          32,
          33,
          34,
          35,
          36,
          37,
          38,
          39,
          40,
          41,
          42,
          43,
          44,
          45,
          46,
          47,
          48,
          49,
          50,
          51,
          52,
          53,
          54,
          55,
          56,
          57,
          58,
          59,
          60,
          61,
          62,
          63,
          64,
          65,
          66,
          67,
          68,
          69,
          70,
          71,
          72,
          73,
          74,
          75,
          76,
          77,
          78,
          79,
          80,
          81,
          82,
          83,
          84,
          85,
          86,
          87,
          88,
          89,
          90,
          91,
          92,
          93,
          94,
          95,
          96,
          97,
          98,
          99
         ],
         "y": [
          -0.058166809380054474,
          -0.1045666515827179,
          -0.05674189254641533,
          -0.27157036662101747,
          -0.1310141384601593,
          -0.2725460648536682,
          -0.11059202253818512,
          -0.2693571925163269,
          -0.2724947214126587,
          -0.2465538740158081,
          -0.2725460648536682,
          -0.2725442826747894,
          -0.12441680580377579,
          -0.2719895005226135,
          -0.2722385168075562,
          -0.054586054384708406,
          -0.2697142004966736,
          -0.14715464413166046,
          -0.2553064525127411,
          -0.2725460648536682,
          -0.2725322663784027,
          -0.18801591396331788,
          -0.27253812551498413,
          -0.059080539643764494,
          -0.2725460648536682,
          -0.09373378455638885,
          -0.12441672384738922,
          -0.2725460648536682,
          -0.2725460648536682,
          -0.27134413123130796,
          -0.2725211203098297,
          -0.2725460648536682,
          -0.24612756073474884,
          -0.21506273746490479,
          -0.10462663769721985,
          -0.13723731338977813,
          -0.05400685667991638,
          -0.052740519493818284,
          -0.05305632501840592,
          -0.05736506283283234,
          -0.061485457420349124,
          -0.05674428716301918,
          -0.05412216410040856,
          -0.07532335817813873,
          -0.056600605696439744,
          -0.05343073159456253,
          -0.05436093658208847,
          -0.05518728867173195,
          -0.052735695242881776,
          -0.061971370875835416,
          -0.05318664684891701,
          -0.054444531351327895,
          -0.05531162917613983,
          -0.05364060401916504,
          -0.05292287692427635,
          -0.06932058781385422,
          -0.06903748959302902,
          -0.05332125723361969,
          -0.053173898905515674,
          -0.06696809530258178,
          -0.05713382661342621,
          -0.05350491106510162,
          -0.05347516685724259,
          -0.0572020597755909,
          -0.05555650070309639,
          -0.05422199293971062,
          -0.054142202436923983,
          -0.05260052904486656,
          -0.0525166317820549,
          -0.05249779298901558,
          -0.052912020683288576,
          -0.05318346694111824,
          -0.05349283218383789,
          -0.05281137004494667,
          -0.05265044867992401,
          -0.052928687632083894,
          -0.053006493300199506,
          -0.052684121578931806,
          -0.05310124531388283,
          -0.05293200239539146,
          -0.05285023227334022,
          -0.05277876928448677,
          -0.05274422317743301,
          -0.05372809171676636,
          -0.05308569744229317,
          -0.052993930876255035,
          -0.0527928538620472,
          -0.05360681489109993,
          -0.05279400572180748,
          -0.05308547466993332,
          -0.054103405028581616,
          -0.05297885686159134,
          -0.05533928275108337,
          -0.054503367841243745,
          -0.05381106436252594,
          -0.05399357080459595,
          -0.05535881966352463,
          -0.05540600344538689,
          -0.05531245097517967,
          -0.055902890115976336
         ]
        },
        {
         "name": "Best Value",
         "type": "scatter",
         "x": [
          0,
          1,
          2,
          3,
          4,
          5,
          6,
          7,
          8,
          9,
          10,
          11,
          12,
          13,
          14,
          15,
          16,
          17,
          18,
          19,
          20,
          21,
          22,
          23,
          24,
          25,
          26,
          27,
          28,
          29,
          30,
          31,
          32,
          33,
          34,
          35,
          36,
          37,
          38,
          39,
          40,
          41,
          42,
          43,
          44,
          45,
          46,
          47,
          48,
          49,
          50,
          51,
          52,
          53,
          54,
          55,
          56,
          57,
          58,
          59,
          60,
          61,
          62,
          63,
          64,
          65,
          66,
          67,
          68,
          69,
          70,
          71,
          72,
          73,
          74,
          75,
          76,
          77,
          78,
          79,
          80,
          81,
          82,
          83,
          84,
          85,
          86,
          87,
          88,
          89,
          90,
          91,
          92,
          93,
          94,
          95,
          96,
          97,
          98,
          99
         ],
         "y": [
          -0.058166809380054474,
          -0.058166809380054474,
          -0.05674189254641533,
          -0.05674189254641533,
          -0.05674189254641533,
          -0.05674189254641533,
          -0.05674189254641533,
          -0.05674189254641533,
          -0.05674189254641533,
          -0.05674189254641533,
          -0.05674189254641533,
          -0.05674189254641533,
          -0.05674189254641533,
          -0.05674189254641533,
          -0.05674189254641533,
          -0.054586054384708406,
          -0.054586054384708406,
          -0.054586054384708406,
          -0.054586054384708406,
          -0.054586054384708406,
          -0.054586054384708406,
          -0.054586054384708406,
          -0.054586054384708406,
          -0.054586054384708406,
          -0.054586054384708406,
          -0.054586054384708406,
          -0.054586054384708406,
          -0.054586054384708406,
          -0.054586054384708406,
          -0.054586054384708406,
          -0.054586054384708406,
          -0.054586054384708406,
          -0.054586054384708406,
          -0.054586054384708406,
          -0.054586054384708406,
          -0.054586054384708406,
          -0.05400685667991638,
          -0.052740519493818284,
          -0.052740519493818284,
          -0.052740519493818284,
          -0.052740519493818284,
          -0.052740519493818284,
          -0.052740519493818284,
          -0.052740519493818284,
          -0.052740519493818284,
          -0.052740519493818284,
          -0.052740519493818284,
          -0.052740519493818284,
          -0.052735695242881776,
          -0.052735695242881776,
          -0.052735695242881776,
          -0.052735695242881776,
          -0.052735695242881776,
          -0.052735695242881776,
          -0.052735695242881776,
          -0.052735695242881776,
          -0.052735695242881776,
          -0.052735695242881776,
          -0.052735695242881776,
          -0.052735695242881776,
          -0.052735695242881776,
          -0.052735695242881776,
          -0.052735695242881776,
          -0.052735695242881776,
          -0.052735695242881776,
          -0.052735695242881776,
          -0.052735695242881776,
          -0.05260052904486656,
          -0.0525166317820549,
          -0.05249779298901558,
          -0.05249779298901558,
          -0.05249779298901558,
          -0.05249779298901558,
          -0.05249779298901558,
          -0.05249779298901558,
          -0.05249779298901558,
          -0.05249779298901558,
          -0.05249779298901558,
          -0.05249779298901558,
          -0.05249779298901558,
          -0.05249779298901558,
          -0.05249779298901558,
          -0.05249779298901558,
          -0.05249779298901558,
          -0.05249779298901558,
          -0.05249779298901558,
          -0.05249779298901558,
          -0.05249779298901558,
          -0.05249779298901558,
          -0.05249779298901558,
          -0.05249779298901558,
          -0.05249779298901558,
          -0.05249779298901558,
          -0.05249779298901558,
          -0.05249779298901558,
          -0.05249779298901558,
          -0.05249779298901558,
          -0.05249779298901558,
          -0.05249779298901558,
          -0.05249779298901558
         ]
        }
       ],
       "layout": {
        "template": {
         "data": {
          "bar": [
           {
            "error_x": {
             "color": "#2a3f5f"
            },
            "error_y": {
             "color": "#2a3f5f"
            },
            "marker": {
             "line": {
              "color": "#E5ECF6",
              "width": 0.5
             },
             "pattern": {
              "fillmode": "overlay",
              "size": 10,
              "solidity": 0.2
             }
            },
            "type": "bar"
           }
          ],
          "barpolar": [
           {
            "marker": {
             "line": {
              "color": "#E5ECF6",
              "width": 0.5
             },
             "pattern": {
              "fillmode": "overlay",
              "size": 10,
              "solidity": 0.2
             }
            },
            "type": "barpolar"
           }
          ],
          "carpet": [
           {
            "aaxis": {
             "endlinecolor": "#2a3f5f",
             "gridcolor": "white",
             "linecolor": "white",
             "minorgridcolor": "white",
             "startlinecolor": "#2a3f5f"
            },
            "baxis": {
             "endlinecolor": "#2a3f5f",
             "gridcolor": "white",
             "linecolor": "white",
             "minorgridcolor": "white",
             "startlinecolor": "#2a3f5f"
            },
            "type": "carpet"
           }
          ],
          "choropleth": [
           {
            "colorbar": {
             "outlinewidth": 0,
             "ticks": ""
            },
            "type": "choropleth"
           }
          ],
          "contour": [
           {
            "colorbar": {
             "outlinewidth": 0,
             "ticks": ""
            },
            "colorscale": [
             [
              0,
              "#0d0887"
             ],
             [
              0.1111111111111111,
              "#46039f"
             ],
             [
              0.2222222222222222,
              "#7201a8"
             ],
             [
              0.3333333333333333,
              "#9c179e"
             ],
             [
              0.4444444444444444,
              "#bd3786"
             ],
             [
              0.5555555555555556,
              "#d8576b"
             ],
             [
              0.6666666666666666,
              "#ed7953"
             ],
             [
              0.7777777777777778,
              "#fb9f3a"
             ],
             [
              0.8888888888888888,
              "#fdca26"
             ],
             [
              1,
              "#f0f921"
             ]
            ],
            "type": "contour"
           }
          ],
          "contourcarpet": [
           {
            "colorbar": {
             "outlinewidth": 0,
             "ticks": ""
            },
            "type": "contourcarpet"
           }
          ],
          "heatmap": [
           {
            "colorbar": {
             "outlinewidth": 0,
             "ticks": ""
            },
            "colorscale": [
             [
              0,
              "#0d0887"
             ],
             [
              0.1111111111111111,
              "#46039f"
             ],
             [
              0.2222222222222222,
              "#7201a8"
             ],
             [
              0.3333333333333333,
              "#9c179e"
             ],
             [
              0.4444444444444444,
              "#bd3786"
             ],
             [
              0.5555555555555556,
              "#d8576b"
             ],
             [
              0.6666666666666666,
              "#ed7953"
             ],
             [
              0.7777777777777778,
              "#fb9f3a"
             ],
             [
              0.8888888888888888,
              "#fdca26"
             ],
             [
              1,
              "#f0f921"
             ]
            ],
            "type": "heatmap"
           }
          ],
          "heatmapgl": [
           {
            "colorbar": {
             "outlinewidth": 0,
             "ticks": ""
            },
            "colorscale": [
             [
              0,
              "#0d0887"
             ],
             [
              0.1111111111111111,
              "#46039f"
             ],
             [
              0.2222222222222222,
              "#7201a8"
             ],
             [
              0.3333333333333333,
              "#9c179e"
             ],
             [
              0.4444444444444444,
              "#bd3786"
             ],
             [
              0.5555555555555556,
              "#d8576b"
             ],
             [
              0.6666666666666666,
              "#ed7953"
             ],
             [
              0.7777777777777778,
              "#fb9f3a"
             ],
             [
              0.8888888888888888,
              "#fdca26"
             ],
             [
              1,
              "#f0f921"
             ]
            ],
            "type": "heatmapgl"
           }
          ],
          "histogram": [
           {
            "marker": {
             "pattern": {
              "fillmode": "overlay",
              "size": 10,
              "solidity": 0.2
             }
            },
            "type": "histogram"
           }
          ],
          "histogram2d": [
           {
            "colorbar": {
             "outlinewidth": 0,
             "ticks": ""
            },
            "colorscale": [
             [
              0,
              "#0d0887"
             ],
             [
              0.1111111111111111,
              "#46039f"
             ],
             [
              0.2222222222222222,
              "#7201a8"
             ],
             [
              0.3333333333333333,
              "#9c179e"
             ],
             [
              0.4444444444444444,
              "#bd3786"
             ],
             [
              0.5555555555555556,
              "#d8576b"
             ],
             [
              0.6666666666666666,
              "#ed7953"
             ],
             [
              0.7777777777777778,
              "#fb9f3a"
             ],
             [
              0.8888888888888888,
              "#fdca26"
             ],
             [
              1,
              "#f0f921"
             ]
            ],
            "type": "histogram2d"
           }
          ],
          "histogram2dcontour": [
           {
            "colorbar": {
             "outlinewidth": 0,
             "ticks": ""
            },
            "colorscale": [
             [
              0,
              "#0d0887"
             ],
             [
              0.1111111111111111,
              "#46039f"
             ],
             [
              0.2222222222222222,
              "#7201a8"
             ],
             [
              0.3333333333333333,
              "#9c179e"
             ],
             [
              0.4444444444444444,
              "#bd3786"
             ],
             [
              0.5555555555555556,
              "#d8576b"
             ],
             [
              0.6666666666666666,
              "#ed7953"
             ],
             [
              0.7777777777777778,
              "#fb9f3a"
             ],
             [
              0.8888888888888888,
              "#fdca26"
             ],
             [
              1,
              "#f0f921"
             ]
            ],
            "type": "histogram2dcontour"
           }
          ],
          "mesh3d": [
           {
            "colorbar": {
             "outlinewidth": 0,
             "ticks": ""
            },
            "type": "mesh3d"
           }
          ],
          "parcoords": [
           {
            "line": {
             "colorbar": {
              "outlinewidth": 0,
              "ticks": ""
             }
            },
            "type": "parcoords"
           }
          ],
          "pie": [
           {
            "automargin": true,
            "type": "pie"
           }
          ],
          "scatter": [
           {
            "fillpattern": {
             "fillmode": "overlay",
             "size": 10,
             "solidity": 0.2
            },
            "type": "scatter"
           }
          ],
          "scatter3d": [
           {
            "line": {
             "colorbar": {
              "outlinewidth": 0,
              "ticks": ""
             }
            },
            "marker": {
             "colorbar": {
              "outlinewidth": 0,
              "ticks": ""
             }
            },
            "type": "scatter3d"
           }
          ],
          "scattercarpet": [
           {
            "marker": {
             "colorbar": {
              "outlinewidth": 0,
              "ticks": ""
             }
            },
            "type": "scattercarpet"
           }
          ],
          "scattergeo": [
           {
            "marker": {
             "colorbar": {
              "outlinewidth": 0,
              "ticks": ""
             }
            },
            "type": "scattergeo"
           }
          ],
          "scattergl": [
           {
            "marker": {
             "colorbar": {
              "outlinewidth": 0,
              "ticks": ""
             }
            },
            "type": "scattergl"
           }
          ],
          "scattermapbox": [
           {
            "marker": {
             "colorbar": {
              "outlinewidth": 0,
              "ticks": ""
             }
            },
            "type": "scattermapbox"
           }
          ],
          "scatterpolar": [
           {
            "marker": {
             "colorbar": {
              "outlinewidth": 0,
              "ticks": ""
             }
            },
            "type": "scatterpolar"
           }
          ],
          "scatterpolargl": [
           {
            "marker": {
             "colorbar": {
              "outlinewidth": 0,
              "ticks": ""
             }
            },
            "type": "scatterpolargl"
           }
          ],
          "scatterternary": [
           {
            "marker": {
             "colorbar": {
              "outlinewidth": 0,
              "ticks": ""
             }
            },
            "type": "scatterternary"
           }
          ],
          "surface": [
           {
            "colorbar": {
             "outlinewidth": 0,
             "ticks": ""
            },
            "colorscale": [
             [
              0,
              "#0d0887"
             ],
             [
              0.1111111111111111,
              "#46039f"
             ],
             [
              0.2222222222222222,
              "#7201a8"
             ],
             [
              0.3333333333333333,
              "#9c179e"
             ],
             [
              0.4444444444444444,
              "#bd3786"
             ],
             [
              0.5555555555555556,
              "#d8576b"
             ],
             [
              0.6666666666666666,
              "#ed7953"
             ],
             [
              0.7777777777777778,
              "#fb9f3a"
             ],
             [
              0.8888888888888888,
              "#fdca26"
             ],
             [
              1,
              "#f0f921"
             ]
            ],
            "type": "surface"
           }
          ],
          "table": [
           {
            "cells": {
             "fill": {
              "color": "#EBF0F8"
             },
             "line": {
              "color": "white"
             }
            },
            "header": {
             "fill": {
              "color": "#C8D4E3"
             },
             "line": {
              "color": "white"
             }
            },
            "type": "table"
           }
          ]
         },
         "layout": {
          "annotationdefaults": {
           "arrowcolor": "#2a3f5f",
           "arrowhead": 0,
           "arrowwidth": 1
          },
          "autotypenumbers": "strict",
          "coloraxis": {
           "colorbar": {
            "outlinewidth": 0,
            "ticks": ""
           }
          },
          "colorscale": {
           "diverging": [
            [
             0,
             "#8e0152"
            ],
            [
             0.1,
             "#c51b7d"
            ],
            [
             0.2,
             "#de77ae"
            ],
            [
             0.3,
             "#f1b6da"
            ],
            [
             0.4,
             "#fde0ef"
            ],
            [
             0.5,
             "#f7f7f7"
            ],
            [
             0.6,
             "#e6f5d0"
            ],
            [
             0.7,
             "#b8e186"
            ],
            [
             0.8,
             "#7fbc41"
            ],
            [
             0.9,
             "#4d9221"
            ],
            [
             1,
             "#276419"
            ]
           ],
           "sequential": [
            [
             0,
             "#0d0887"
            ],
            [
             0.1111111111111111,
             "#46039f"
            ],
            [
             0.2222222222222222,
             "#7201a8"
            ],
            [
             0.3333333333333333,
             "#9c179e"
            ],
            [
             0.4444444444444444,
             "#bd3786"
            ],
            [
             0.5555555555555556,
             "#d8576b"
            ],
            [
             0.6666666666666666,
             "#ed7953"
            ],
            [
             0.7777777777777778,
             "#fb9f3a"
            ],
            [
             0.8888888888888888,
             "#fdca26"
            ],
            [
             1,
             "#f0f921"
            ]
           ],
           "sequentialminus": [
            [
             0,
             "#0d0887"
            ],
            [
             0.1111111111111111,
             "#46039f"
            ],
            [
             0.2222222222222222,
             "#7201a8"
            ],
            [
             0.3333333333333333,
             "#9c179e"
            ],
            [
             0.4444444444444444,
             "#bd3786"
            ],
            [
             0.5555555555555556,
             "#d8576b"
            ],
            [
             0.6666666666666666,
             "#ed7953"
            ],
            [
             0.7777777777777778,
             "#fb9f3a"
            ],
            [
             0.8888888888888888,
             "#fdca26"
            ],
            [
             1,
             "#f0f921"
            ]
           ]
          },
          "colorway": [
           "#636efa",
           "#EF553B",
           "#00cc96",
           "#ab63fa",
           "#FFA15A",
           "#19d3f3",
           "#FF6692",
           "#B6E880",
           "#FF97FF",
           "#FECB52"
          ],
          "font": {
           "color": "#2a3f5f"
          },
          "geo": {
           "bgcolor": "white",
           "lakecolor": "white",
           "landcolor": "#E5ECF6",
           "showlakes": true,
           "showland": true,
           "subunitcolor": "white"
          },
          "hoverlabel": {
           "align": "left"
          },
          "hovermode": "closest",
          "mapbox": {
           "style": "light"
          },
          "paper_bgcolor": "white",
          "plot_bgcolor": "#E5ECF6",
          "polar": {
           "angularaxis": {
            "gridcolor": "white",
            "linecolor": "white",
            "ticks": ""
           },
           "bgcolor": "#E5ECF6",
           "radialaxis": {
            "gridcolor": "white",
            "linecolor": "white",
            "ticks": ""
           }
          },
          "scene": {
           "xaxis": {
            "backgroundcolor": "#E5ECF6",
            "gridcolor": "white",
            "gridwidth": 2,
            "linecolor": "white",
            "showbackground": true,
            "ticks": "",
            "zerolinecolor": "white"
           },
           "yaxis": {
            "backgroundcolor": "#E5ECF6",
            "gridcolor": "white",
            "gridwidth": 2,
            "linecolor": "white",
            "showbackground": true,
            "ticks": "",
            "zerolinecolor": "white"
           },
           "zaxis": {
            "backgroundcolor": "#E5ECF6",
            "gridcolor": "white",
            "gridwidth": 2,
            "linecolor": "white",
            "showbackground": true,
            "ticks": "",
            "zerolinecolor": "white"
           }
          },
          "shapedefaults": {
           "line": {
            "color": "#2a3f5f"
           }
          },
          "ternary": {
           "aaxis": {
            "gridcolor": "white",
            "linecolor": "white",
            "ticks": ""
           },
           "baxis": {
            "gridcolor": "white",
            "linecolor": "white",
            "ticks": ""
           },
           "bgcolor": "#E5ECF6",
           "caxis": {
            "gridcolor": "white",
            "linecolor": "white",
            "ticks": ""
           }
          },
          "title": {
           "x": 0.05
          },
          "xaxis": {
           "automargin": true,
           "gridcolor": "white",
           "linecolor": "white",
           "ticks": "",
           "title": {
            "standoff": 15
           },
           "zerolinecolor": "white",
           "zerolinewidth": 2
          },
          "yaxis": {
           "automargin": true,
           "gridcolor": "white",
           "linecolor": "white",
           "ticks": "",
           "title": {
            "standoff": 15
           },
           "zerolinecolor": "white",
           "zerolinewidth": 2
          }
         }
        },
        "title": {
         "text": "Optimization History Plot"
        },
        "xaxis": {
         "title": {
          "text": "Trial"
         }
        },
        "yaxis": {
         "title": {
          "text": "Objective Value"
         }
        }
       }
      }
     },
     "metadata": {},
     "output_type": "display_data"
    },
    {
     "name": "stdout",
     "output_type": "stream",
     "text": [
      "Best trial: -0.05249779298901558\n",
      "Best parameters: {'alpha': 0.007168783594487517, 'lambda': 0.0019763791977510043, 'eta': 0.19490812947500802, 'max_depth': 8, 'grow_policy': 'depthwise', 'min_child_weight': 5, 'gamma': 0.0006703800440059012, 'sample_type': 'uniform', 'normalize_type': 'forest', 'rate_drop': 0.0006428464440541244, 'skip_drop': 7.628881620253819e-05, 'updater': 'coord_descent', 'feature_selector': 'cyclic'}\n"
     ]
    }
   ],
   "source": [
    "# define o espaço de busca e a função objetivo\n",
    "def xgboost_regressor_dart(\n",
    "\t\ttrial: opt.trial.Trial,\n",
    "\t\tX: pd.DataFrame,\n",
    "\t\ty: pd.DataFrame,\n",
    "\t) -> float:\n",
    "\thyperparameters = {\n",
    "\t\t# 'booster': trial.suggest_categorical('booster', ['gbtree', 'gblinear', 'dart']),\n",
    "\t\t'booster': 'dart',\n",
    "\t\t'objective': 'reg:squarederror',\n",
    "\t\t'eval_metric': 'rmse',\n",
    "\t\t'verbosity': 0,\n",
    "\t\t'alpha': trial.suggest_float('alpha', 1e-3, 1, log=True),\n",
    "\t\t'lambda': trial.suggest_float('lambda', 1e-3, 1, log=True),\n",
    "\t\t'eta': trial.suggest_float('eta', 1e-10, 1.0, log=True),\n",
    "\t\t'max_depth': trial.suggest_int('max_depth', 1, 9),\n",
    "\t\t'grow_policy': trial.suggest_categorical('grow_policy', ['depthwise', 'lossguide']),\n",
    "\t\t'min_child_weight': trial.suggest_int('min_child_weight', 0, 10),\n",
    "\t\t'gamma': trial.suggest_float('gamma', 1e-8, 1e8, log=True),\n",
    "\t\t'sample_type': trial.suggest_categorical('sample_type', ['uniform', 'weighted']),\n",
    "\t\t'normalize_type': trial.suggest_categorical('normalize_type', ['tree', 'forest']),\n",
    "\t\t'rate_drop': trial.suggest_float('rate_drop', 1e-8, 1.0, log=True),\n",
    "\t\t'skip_drop': trial.suggest_float('skip_drop', 1e-8, 1.0, log=True),\n",
    "\t\t'updater': trial.suggest_categorical('updater', ['coord_descent', 'shotgun']),\n",
    "\t\t'feature_selector': trial.suggest_categorical('feature_selector', ['cyclic', 'shuffle']),\n",
    "\t}\n",
    "\thp = {\n",
    "\t\t'booster': hyperparameters['booster'],\n",
    "\t\t'objective': hyperparameters['objective'],\n",
    "\t\t'eval_metric': hyperparameters['eval_metric'],\n",
    "\t\t'verbosity': hyperparameters['verbosity'],\n",
    "\t}\n",
    "\t\n",
    "\tif hyperparameters['booster'] in ['gbtree', 'dart']:\n",
    "\t\t# L1 regularization term on weights. Increasing this value will make model more conservative.\n",
    "\t\thp['alpha'] = hyperparameters['alpha']\n",
    "\t\t# L2 regularization term on weights. Increasing this value will make model more conservative.\n",
    "\t\thp['lambda'] = hyperparameters['lambda']\n",
    "\t\t# Step size shrinkage used in update to prevents overfitting\n",
    "\t\thp['eta'] = hyperparameters['eta']\n",
    "\t\t# maximum depth of the tree, signifies complexity of the tree.\n",
    "\t\thp['max_depth'] = hyperparameters['max_depth']\n",
    "\t\t# Controls a way new nodes are added to the tree.\n",
    "\t\thp['grow_policy'] = hyperparameters['grow_policy']\n",
    "\t\t# minimum child weight, larger the term more conservative the tree.\n",
    "\t\thp['min_child_weight'] = hyperparameters['min_child_weight']\n",
    "\t\t# defines how conservative algorithm is.\n",
    "\t\thp['gamma'] = hyperparameters['gamma']\n",
    "\n",
    "\tif hyperparameters['booster'] == 'dart':\n",
    "\t\t# sampling ratio for dropout.\n",
    "\t\thp['sample_type'] = hyperparameters['sample_type']\n",
    "\t\t# Type of normalization algorithm\n",
    "\t\thp['normalize_type'] = hyperparameters['normalize_type']\n",
    "\t\t# Dropout rate (a fraction of previous trees to drop during the dropout)\n",
    "\t\thp['rate_drop'] = hyperparameters['rate_drop']\n",
    "\t\t# Probability of skipping the dropout procedure during a boosting iteration.\n",
    "\t\thp['skip_drop'] = hyperparameters['skip_drop']\n",
    "\n",
    "\tif hyperparameters['booster'] == 'gblinear':\n",
    "\t\t# algorithm to fit linear model\n",
    "\t\thp['updater'] = hyperparameters['updater']\n",
    "\t\t# feature selector\n",
    "\t\thp['feature_selector'] = hyperparameters['feature_selector']\n",
    "\n",
    "\testimator = XGBRegressor(**hp)\n",
    "\ttrial.set_user_attr(key='estimator', value=estimator)\n",
    "\tscore = cross_val_score(estimator, X, y, n_jobs=-1, cv=5, scoring='neg_root_mean_squared_error')\n",
    "\treturn score.mean()\n",
    "\n",
    "np.seterr(divide='ignore', invalid='ignore')\n",
    "\n",
    "# rotina de otimização bayesiana\n",
    "xgboost_model_dart = optimize(\n",
    "\tobjective=xgboost_regressor_dart, \n",
    "\tdescription='xgboost_dart_risk', n_trials=100,\n",
    "\tX=data_train, y=targets_train, X_test=data_test, y_test=targets_test,)"
   ]
  },
  {
   "attachments": {},
   "cell_type": "markdown",
   "metadata": {},
   "source": [
    "#### comparação de modelos"
   ]
  },
  {
   "cell_type": "code",
   "execution_count": 20,
   "metadata": {},
   "outputs": [],
   "source": [
    "# plota a distribuição dos residuais\n",
    "def plot_residuals_distribution (\n",
    "\t\ty_true: pd.DataFrame, \n",
    "\t\ty_pred: pd.DataFrame, \n",
    "\t\ttitle: str\n",
    "\t) -> None:\n",
    "\tfig, axs = plt.subplot_mosaic([ ['R', 'R', 'R', 'D']],\tfigsize=(16, 6), constrained_layout=True, sharey=True)\n",
    "\tplt.rcParams['figure.figsize'] = (16, 6)\n",
    "\tsns.residplot(x=y_true, y=y_pred, scatter_kws={'s':10, 'alpha':0.8, 'color':'grey'}, \n",
    "\t\tlowess=True, line_kws={'lw':1, 'alpha': 1, 'color': 'red'}, label='prediction', ax=axs['R'])\n",
    "\tsns.distplot(y_true - y_pred, bins=20, kde=True, color='grey', label='prediction', ax=axs['D'], vertical=True)\n",
    "\tplt.suptitle('plot de residuos para ' + title)\n",
    "\tplt.xlabel('residuais')\n",
    "\tplt.ylabel('densidade')\n",
    "\tplt.legend()\n",
    "\tplt.show()"
   ]
  },
  {
   "cell_type": "code",
   "execution_count": 21,
   "metadata": {},
   "outputs": [
    {
     "data": {
      "text/html": [
       "<div>\n",
       "<style scoped>\n",
       "    .dataframe tbody tr th:only-of-type {\n",
       "        vertical-align: middle;\n",
       "    }\n",
       "\n",
       "    .dataframe tbody tr th {\n",
       "        vertical-align: top;\n",
       "    }\n",
       "\n",
       "    .dataframe thead th {\n",
       "        text-align: right;\n",
       "    }\n",
       "</style>\n",
       "<table border=\"1\" class=\"dataframe\">\n",
       "  <thead>\n",
       "    <tr style=\"text-align: right;\">\n",
       "      <th></th>\n",
       "      <th></th>\n",
       "      <th>mae</th>\n",
       "      <th>rmse</th>\n",
       "      <th>r2</th>\n",
       "    </tr>\n",
       "  </thead>\n",
       "  <tbody>\n",
       "    <tr>\n",
       "      <th rowspan=\"2\" valign=\"top\">elasticnet_risk</th>\n",
       "      <th>validation</th>\n",
       "      <td>0.0732</td>\n",
       "      <td>0.0910</td>\n",
       "      <td>0.4653</td>\n",
       "    </tr>\n",
       "    <tr>\n",
       "      <th>test</th>\n",
       "      <td>0.0763</td>\n",
       "      <td>0.0945</td>\n",
       "      <td>0.4524</td>\n",
       "    </tr>\n",
       "    <tr>\n",
       "      <th rowspan=\"2\" valign=\"top\">random_forests_risk</th>\n",
       "      <th>validation</th>\n",
       "      <td>0.0262</td>\n",
       "      <td>0.0362</td>\n",
       "      <td>0.9152</td>\n",
       "    </tr>\n",
       "    <tr>\n",
       "      <th>test</th>\n",
       "      <td>0.0388</td>\n",
       "      <td>0.0529</td>\n",
       "      <td>0.8286</td>\n",
       "    </tr>\n",
       "    <tr>\n",
       "      <th rowspan=\"2\" valign=\"top\">xgboost_gbtree_risk</th>\n",
       "      <th>validation</th>\n",
       "      <td>0.0187</td>\n",
       "      <td>0.0253</td>\n",
       "      <td>0.9585</td>\n",
       "    </tr>\n",
       "    <tr>\n",
       "      <th>test</th>\n",
       "      <td>0.0362</td>\n",
       "      <td>0.0507</td>\n",
       "      <td>0.8424</td>\n",
       "    </tr>\n",
       "    <tr>\n",
       "      <th rowspan=\"2\" valign=\"top\">xgboost_dart_risk</th>\n",
       "      <th>validation</th>\n",
       "      <td>0.0152</td>\n",
       "      <td>0.0213</td>\n",
       "      <td>0.9706</td>\n",
       "    </tr>\n",
       "    <tr>\n",
       "      <th>test</th>\n",
       "      <td>0.0358</td>\n",
       "      <td>0.0504</td>\n",
       "      <td>0.8442</td>\n",
       "    </tr>\n",
       "  </tbody>\n",
       "</table>\n",
       "</div>"
      ],
      "text/plain": [
       "                                  mae   rmse     r2\n",
       "elasticnet_risk     validation 0.0732 0.0910 0.4653\n",
       "                    test       0.0763 0.0945 0.4524\n",
       "random_forests_risk validation 0.0262 0.0362 0.9152\n",
       "                    test       0.0388 0.0529 0.8286\n",
       "xgboost_gbtree_risk validation 0.0187 0.0253 0.9585\n",
       "                    test       0.0362 0.0507 0.8424\n",
       "xgboost_dart_risk   validation 0.0152 0.0213 0.9706\n",
       "                    test       0.0358 0.0504 0.8442"
      ]
     },
     "metadata": {},
     "output_type": "display_data"
    },
    {
     "data": {
      "image/png": "[encoded data removed]",
      "text/plain": [
       "<Figure size 1600x600 with 2 Axes>"
      ]
     },
     "metadata": {},
     "output_type": "display_data"
    },
    {
     "data": {
      "image/png": "[encoded data removed]",
      "text/plain": [
       "<Figure size 1600x600 with 2 Axes>"
      ]
     },
     "metadata": {},
     "output_type": "display_data"
    },
    {
     "data": {
      "image/png": "[encoded data removed]",
      "text/plain": [
       "<Figure size 1600x600 with 2 Axes>"
      ]
     },
     "metadata": {},
     "output_type": "display_data"
    },
    {
     "data": {
      "image/png": "[encoded data removed]",
      "text/plain": [
       "<Figure size 1600x600 with 2 Axes>"
      ]
     },
     "metadata": {},
     "output_type": "display_data"
    }
   ],
   "source": [
    "models = [elasticnet_model, random_forests_model, xgboost_model_gbtree, xgboost_model_dart]\n",
    "\n",
    "# compara os resultados entre os modelos\n",
    "results = pd.DataFrame()\n",
    "for model in models:\n",
    "\tvalidation = pd.DataFrame(model['metrics']['validation'], index=[[model['description']], ['validation']])\n",
    "\ttest = pd.DataFrame(model['metrics']['test'], index=[[model['description']], ['test']])\n",
    "\tresults = pd.concat([results, pd.concat([validation, test], axis=0)])\n",
    "\n",
    "display (results)\n",
    "# plota os graficos de residuais\n",
    "for model in models:\n",
    "\t# plot_residuals(targets_test, model['estimator'].predict(data_test), model['description'])\n",
    "\tplot_residuals_distribution(targets_test, model['estimator'].predict(data_test), model['description'])"
   ]
  },
  {
   "attachments": {},
   "cell_type": "markdown",
   "metadata": {},
   "source": [
    "⭐ nota\n",
    "<div style='color:#222200;background-color:#FFFFBB;padding:10px;'><table style='border:0px solid;width:100%'>\n",
    "<tr><td style=\"border:0px;font-size:60px;width:80px;background-color:#FFFFBB\">⭐</td><td style=\"border:0px;background-color:#FFFFBB;font-size:16px;\">\n",
    "O modelo de regressão xgboost (dart) apresentou bom desempenho com um MAE de 1,5% no dataset de teste\n",
    "</td></tr></table></div>"
   ]
  },
  {
   "attachments": {},
   "cell_type": "markdown",
   "metadata": {},
   "source": [
    "#### importância das features"
   ]
  },
  {
   "cell_type": "code",
   "execution_count": 22,
   "metadata": {},
   "outputs": [
    {
     "data": {
      "image/png": "[encoded data removed]",
      "text/plain": [
       "<Figure size 1000x500 with 1 Axes>"
      ]
     },
     "metadata": {},
     "output_type": "display_data"
    },
    {
     "data": {
      "image/png": "[encoded data removed]",
      "text/plain": [
       "<Figure size 1000x500 with 1 Axes>"
      ]
     },
     "metadata": {},
     "output_type": "display_data"
    },
    {
     "data": {
      "image/png": "[encoded data removed]",
      "text/plain": [
       "<Figure size 1000x500 with 1 Axes>"
      ]
     },
     "metadata": {},
     "output_type": "display_data"
    },
    {
     "data": {
      "image/png": "[encoded data removed]",
      "text/plain": [
       "<Figure size 1000x500 with 1 Axes>"
      ]
     },
     "metadata": {},
     "output_type": "display_data"
    }
   ],
   "source": [
    "def plot_feature_importances(\n",
    "\t\tmodel: dict,\n",
    "\t\tX: pd.DataFrame,\n",
    "\t\ty: pd.DataFrame,\n",
    "\t\t) -> None:\n",
    "\timportances = permutation_importance(model['estimator'], X, y, n_repeats=10)\n",
    "\ttable = pd.DataFrame(importances.importances_mean, index=X.columns, columns=['importance'])\n",
    "\ttable.sort_values(by='importance', ascending=True, inplace=True)\n",
    "\ttable.plot.barh(figsize=(10, 3+int(table.shape[0]/6)))\n",
    "\tplt.title(f\"importância das features para {model['description']}\")\n",
    "\tplt.show()\n",
    "\n",
    "for model in models:\n",
    "\tplot_feature_importances(model, data_train, targets_train)\n"
   ]
  },
  {
   "attachments": {},
   "cell_type": "markdown",
   "metadata": {},
   "source": [
    "### Conclusão"
   ]
  },
  {
   "attachments": {},
   "cell_type": "markdown",
   "metadata": {},
   "source": [
    "⭐ nota\n",
    "<div style='color:#222200;background-color:#FFFFBB;padding:10px;'><table style='border:0px solid;width:100%'>\n",
    "<tr><td style=\"border:0px;font-size:60px;width:80px;background-color:#FFFFBB\">⭐</td><td style=\"border:0px;background-color:#FFFFBB;font-size:16px;\">\n",
    "- O modelo xgboost performou com um erro médio absoluto de ~ 1.5%, sendo um modelo viável para a estimativa de risco em novas contas <br>\n",
    "- É possível observar que o modelo aproveitou bem as features disponíveis, mas que não levou diretamente em consideração a segmentação de clientes previamente realizada\n",
    "</td></tr></table></div>"
   ]
  }
 ],
 "metadata": {
  "kernelspec": {
   "display_name": "edge",
   "language": "python",
   "name": "python3"
  },
  "language_info": {
   "codemirror_mode": {
    "name": "ipython",
    "version": 3
   },
   "file_extension": ".py",
   "mimetype": "text/x-python",
   "name": "python",
   "nbconvert_exporter": "python",
   "pygments_lexer": "ipython3",
   "version": "3.10.9"
  },
  "orig_nbformat": 4
 },
 "nbformat": 4,
 "nbformat_minor": 2
}
