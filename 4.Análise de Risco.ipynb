{
 "cells": [
  {
   "attachments": {},
   "cell_type": "markdown",
   "metadata": {},
   "source": [
    "# FIAP Bootcamp - Wtec Suprimentos - Análise de Risco\n",
    "Case: **Wtec Suprimentos - Análise de Crédito**\\\n",
    "Turma: **1IAR**\n",
    "\n",
    "| Nome dos Integrantes     | RM            | Turma |\n",
    "| :----------------------- | :------------- | :-----: |\n",
    "| Claudio Manuel           | RM 346353      | 1IAR |\n",
    "| Jonas Zarpellon          | RM 345724      | 1IAR |\n",
    "| Rafael Yuji              | RM 346108      | 1IAR |"
   ]
  },
  {
   "attachments": {},
   "cell_type": "markdown",
   "metadata": {},
   "source": [
    "## Introdução\n",
    "\n",
    "### Problema Proposto - Parte 4-A: Análise de Risco\n",
    "- A empresa deseja, entre outras coisas, criar um 'robö automatizado' (na linguagem da propria empresa), que realize uma recomendacäo de crédito para que os analistas se baseiem nessa recomendacäo para conceder o limite måximo de crédito.\n",
    "- Vale salientar que por se tratar de valores monetérios é importante que este modelo tenha um bom desempenho\n",
    "\n",
    "### Abordagem Proposta\n",
    "- O objetivo desta modelagem é treinar um algoritmo de aprendizado capaz de estimar o fator de risco em um cliente na forma de um percentual\n",
    "- Será utilizado um algoritmo supervisionado para essa regressão, baseado nos fatores de risco atribuidos aos clientes na base de dados histórica\n",
    "- Será explorada somente a hipótese 2, utilizando as informações disponíveis nas documentações contábeis"
   ]
  },
  {
   "attachments": {},
   "cell_type": "markdown",
   "metadata": {},
   "source": [
    "### Setup"
   ]
  },
  {
   "cell_type": "code",
   "execution_count": 2,
   "metadata": {},
   "outputs": [
    {
     "name": "stderr",
     "output_type": "stream",
     "text": [
      "Intel(R) Extension for Scikit-learn* enabled (https://github.com/intel/scikit-learn-intelex)\n"
     ]
    }
   ],
   "source": [
    "# dados / io\n",
    "import pandas as pd\n",
    "import pandas_flavor as pf\n",
    "import numpy as np\n",
    "import joblib\n",
    "# plotting\n",
    "import matplotlib.pyplot as plt\n",
    "import seaborn as sns\n",
    "%matplotlib inline\n",
    "# otimização\n",
    "from sklearnex import patch_sklearn\n",
    "patch_sklearn()\n",
    "# preprocessamento\n",
    "from sklearn.preprocessing import StandardScaler, MinMaxScaler\n",
    "# machine learning\n",
    "from sklearn.linear_model import ElasticNet\n",
    "# from sklearn.tree import DecisionTreeRegressor\n",
    "from sklearn.ensemble import RandomForestRegressor #, ExtraTreesRegressor\n",
    "from xgboost import XGBRegressor\n",
    "# seleção de modelos\n",
    "import optuna as opt\n",
    "opt.logging.set_verbosity(opt.logging.WARNING)\n",
    "from sklearn.model_selection import cross_val_score, train_test_split\n",
    "from sklearn.metrics import mean_absolute_error, mean_squared_error, r2_score, mean_absolute_percentage_error\n",
    "from sklearn.inspection import permutation_importance\n",
    "# display\n",
    "from tqdm import tqdm\n",
    "import warnings\n",
    "warnings.filterwarnings('ignore', category=UserWarning)\n",
    "warnings.filterwarnings('ignore', category=DeprecationWarning)\n",
    "warnings.filterwarnings('ignore', category=FutureWarning)\n",
    "warnings.filterwarnings('ignore', category=opt.exceptions.ExperimentalWarning)\n",
    "pd.options.display.float_format = '{:,.4f}'.format\n"
   ]
  },
  {
   "cell_type": "markdown",
   "metadata": {},
   "source": [
    "### Carga de Dados"
   ]
  },
  {
   "cell_type": "code",
   "execution_count": 3,
   "metadata": {},
   "outputs": [
    {
     "data": {
      "text/html": [
       "<div>\n",
       "<style scoped>\n",
       "    .dataframe tbody tr th:only-of-type {\n",
       "        vertical-align: middle;\n",
       "    }\n",
       "\n",
       "    .dataframe tbody tr th {\n",
       "        vertical-align: top;\n",
       "    }\n",
       "\n",
       "    .dataframe thead th {\n",
       "        text-align: right;\n",
       "    }\n",
       "</style>\n",
       "<table border=\"1\" class=\"dataframe\">\n",
       "  <thead>\n",
       "    <tr style=\"text-align: right;\">\n",
       "      <th></th>\n",
       "      <th>7866</th>\n",
       "      <th>1714</th>\n",
       "      <th>2342</th>\n",
       "      <th>4977</th>\n",
       "      <th>3929</th>\n",
       "      <th>1839</th>\n",
       "      <th>3545</th>\n",
       "      <th>3484</th>\n",
       "      <th>1647</th>\n",
       "      <th>2604</th>\n",
       "    </tr>\n",
       "  </thead>\n",
       "  <tbody>\n",
       "    <tr>\n",
       "      <th>numero_solicitacao</th>\n",
       "      <td>7,939.0000</td>\n",
       "      <td>1,771.0000</td>\n",
       "      <td>2,415.0000</td>\n",
       "      <td>5,050.0000</td>\n",
       "      <td>4,002.0000</td>\n",
       "      <td>1,905.0000</td>\n",
       "      <td>3,618.0000</td>\n",
       "      <td>3,557.0000</td>\n",
       "      <td>1,704.0000</td>\n",
       "      <td>2,677.0000</td>\n",
       "    </tr>\n",
       "    <tr>\n",
       "      <th>razaoSocial</th>\n",
       "      <td>Shane Ball</td>\n",
       "      <td>Amelia Flynn-Ball</td>\n",
       "      <td>Louis Butler</td>\n",
       "      <td>Albert Roberts-Howard</td>\n",
       "      <td>Ellie Turner</td>\n",
       "      <td>Neil Palmer</td>\n",
       "      <td>Robin Carpenter</td>\n",
       "      <td>Dr. Harry Hayes</td>\n",
       "      <td>Philip Smith</td>\n",
       "      <td>Ross Goodwin</td>\n",
       "    </tr>\n",
       "    <tr>\n",
       "      <th>nomeFantasia</th>\n",
       "      <td>Dr. Clive White</td>\n",
       "      <td>James Davies</td>\n",
       "      <td>Mr. Terence Reynolds</td>\n",
       "      <td>Miss Kim Parker</td>\n",
       "      <td>Mohamed Welch</td>\n",
       "      <td>Rebecca Bryant</td>\n",
       "      <td>Mr. Josh White</td>\n",
       "      <td>Emily Bates</td>\n",
       "      <td>Nicole Collins</td>\n",
       "      <td>Alexander Miles</td>\n",
       "    </tr>\n",
       "    <tr>\n",
       "      <th>cnpjSemTraco</th>\n",
       "      <td>XFIT11484688977093</td>\n",
       "      <td>BWUW99352369658417</td>\n",
       "      <td>XXVV64063073707099</td>\n",
       "      <td>GDOQ54156668048039</td>\n",
       "      <td>ELQK41348591516215</td>\n",
       "      <td>ZLOZ66321362994651</td>\n",
       "      <td>IMWA08405853350486</td>\n",
       "      <td>CJBN23158645624659</td>\n",
       "      <td>WNUK21040529375766</td>\n",
       "      <td>CQPF57275613132248</td>\n",
       "    </tr>\n",
       "    <tr>\n",
       "      <th>maiorAtraso</th>\n",
       "      <td>9</td>\n",
       "      <td>8</td>\n",
       "      <td>3</td>\n",
       "      <td>390</td>\n",
       "      <td>26</td>\n",
       "      <td>6</td>\n",
       "      <td>42</td>\n",
       "      <td>0</td>\n",
       "      <td>0</td>\n",
       "      <td>0</td>\n",
       "    </tr>\n",
       "    <tr>\n",
       "      <th>margemBrutaAcumulada</th>\n",
       "      <td>0.4064</td>\n",
       "      <td>0.3623</td>\n",
       "      <td>0.3291</td>\n",
       "      <td>0.0000</td>\n",
       "      <td>0.0000</td>\n",
       "      <td>0.4777</td>\n",
       "      <td>0.2795</td>\n",
       "      <td>0.5920</td>\n",
       "      <td>0.9376</td>\n",
       "      <td>0.3423</td>\n",
       "    </tr>\n",
       "    <tr>\n",
       "      <th>percentualProtestos</th>\n",
       "      <td>0.0000</td>\n",
       "      <td>0.0000</td>\n",
       "      <td>0.0000</td>\n",
       "      <td>NaN</td>\n",
       "      <td>NaN</td>\n",
       "      <td>0.0000</td>\n",
       "      <td>0.0000</td>\n",
       "      <td>0.0000</td>\n",
       "      <td>0.0000</td>\n",
       "      <td>0.0000</td>\n",
       "    </tr>\n",
       "    <tr>\n",
       "      <th>primeiraCompra</th>\n",
       "      <td>2019-11-07T00:00:00</td>\n",
       "      <td>2017-10-04T00:00:00</td>\n",
       "      <td>2013-09-04T00:00:00</td>\n",
       "      <td>2019-01-29T11:12:57</td>\n",
       "      <td>2017-12-20T17:03:32</td>\n",
       "      <td>2011-02-03T00:00:00</td>\n",
       "      <td>2006-08-16T00:00:00</td>\n",
       "      <td>2019-01-31T00:00:00</td>\n",
       "      <td>2020-03-23T00:00:00</td>\n",
       "      <td>2018-08-29T00:00:00</td>\n",
       "    </tr>\n",
       "    <tr>\n",
       "      <th>prazoMedioRecebimentoVendas</th>\n",
       "      <td>18</td>\n",
       "      <td>26</td>\n",
       "      <td>0</td>\n",
       "      <td>0</td>\n",
       "      <td>0</td>\n",
       "      <td>41</td>\n",
       "      <td>0</td>\n",
       "      <td>0</td>\n",
       "      <td>0</td>\n",
       "      <td>0</td>\n",
       "    </tr>\n",
       "    <tr>\n",
       "      <th>titulosEmAberto</th>\n",
       "      <td>55,807.5000</td>\n",
       "      <td>50,790.0000</td>\n",
       "      <td>0.0000</td>\n",
       "      <td>0.0000</td>\n",
       "      <td>0.0000</td>\n",
       "      <td>5,057.4000</td>\n",
       "      <td>0.0000</td>\n",
       "      <td>0.0000</td>\n",
       "      <td>0.0000</td>\n",
       "      <td>7,560.0000</td>\n",
       "    </tr>\n",
       "    <tr>\n",
       "      <th>valorSolicitado</th>\n",
       "      <td>40,000.0000</td>\n",
       "      <td>550,000.0000</td>\n",
       "      <td>50,000.0000</td>\n",
       "      <td>1,000,000.0000</td>\n",
       "      <td>150,000.0000</td>\n",
       "      <td>45,000.0000</td>\n",
       "      <td>20,000.0000</td>\n",
       "      <td>20,000.0000</td>\n",
       "      <td>100,000.0000</td>\n",
       "      <td>20,000.0000</td>\n",
       "    </tr>\n",
       "    <tr>\n",
       "      <th>status</th>\n",
       "      <td>AprovadoAnalista</td>\n",
       "      <td>ReprovadoAnalista</td>\n",
       "      <td>AprovadoAnalista</td>\n",
       "      <td>AprovadoAnalista</td>\n",
       "      <td>AprovadoAnalista</td>\n",
       "      <td>AprovadoAnalista</td>\n",
       "      <td>AprovadoAnalista</td>\n",
       "      <td>AprovadoAnalista</td>\n",
       "      <td>ReprovadoAnalista</td>\n",
       "      <td>AprovadoAnalista</td>\n",
       "    </tr>\n",
       "    <tr>\n",
       "      <th>definicaoRisco</th>\n",
       "      <td>De 11 a 30 % - Baixo</td>\n",
       "      <td>De 11 a 30 % - Baixo</td>\n",
       "      <td>De 11 a 30 % - Baixo</td>\n",
       "      <td>De 11 a 30 % - Baixo</td>\n",
       "      <td>De 11 a 30 % - Baixo</td>\n",
       "      <td>De 31 a 50 % - Médio</td>\n",
       "      <td>De 31 a 50 % - Médio</td>\n",
       "      <td>De 11 a 30 % - Baixo</td>\n",
       "      <td>De 11 a 30 % - Baixo</td>\n",
       "      <td>De 11 a 30 % - Baixo</td>\n",
       "    </tr>\n",
       "    <tr>\n",
       "      <th>diferencaPercentualRisco</th>\n",
       "      <td>0.7143</td>\n",
       "      <td>0.8036</td>\n",
       "      <td>0.8571</td>\n",
       "      <td>0.7321</td>\n",
       "      <td>0.8036</td>\n",
       "      <td>0.6429</td>\n",
       "      <td>0.6429</td>\n",
       "      <td>0.7500</td>\n",
       "      <td>0.7857</td>\n",
       "      <td>0.8571</td>\n",
       "    </tr>\n",
       "    <tr>\n",
       "      <th>percentualRisco</th>\n",
       "      <td>0.2857</td>\n",
       "      <td>0.1964</td>\n",
       "      <td>0.1429</td>\n",
       "      <td>0.2679</td>\n",
       "      <td>0.1964</td>\n",
       "      <td>0.3571</td>\n",
       "      <td>0.3571</td>\n",
       "      <td>0.2500</td>\n",
       "      <td>0.2143</td>\n",
       "      <td>0.1429</td>\n",
       "    </tr>\n",
       "    <tr>\n",
       "      <th>dashboardCorrelacao</th>\n",
       "      <td>0.8660</td>\n",
       "      <td>0.4720</td>\n",
       "      <td>0.0000</td>\n",
       "      <td>0.8660</td>\n",
       "      <td>-0.0000</td>\n",
       "      <td>-0.8660</td>\n",
       "      <td>0.7596</td>\n",
       "      <td>0.0000</td>\n",
       "      <td>0.0000</td>\n",
       "      <td>0.0000</td>\n",
       "    </tr>\n",
       "    <tr>\n",
       "      <th>valorAprovado</th>\n",
       "      <td>40,000.0000</td>\n",
       "      <td>NaN</td>\n",
       "      <td>50,000.0000</td>\n",
       "      <td>1,000,000.0000</td>\n",
       "      <td>100,000.0000</td>\n",
       "      <td>30,000.0000</td>\n",
       "      <td>10,000.0000</td>\n",
       "      <td>20,000.0000</td>\n",
       "      <td>NaN</td>\n",
       "      <td>15,000.0000</td>\n",
       "    </tr>\n",
       "    <tr>\n",
       "      <th>dataAprovadoEmComite</th>\n",
       "      <td>NaN</td>\n",
       "      <td>NaN</td>\n",
       "      <td>NaN</td>\n",
       "      <td>NaN</td>\n",
       "      <td>NaN</td>\n",
       "      <td>NaN</td>\n",
       "      <td>NaN</td>\n",
       "      <td>NaN</td>\n",
       "      <td>NaN</td>\n",
       "      <td>NaN</td>\n",
       "    </tr>\n",
       "    <tr>\n",
       "      <th>periodoBalanco</th>\n",
       "      <td>2019-12-31T00:00:00</td>\n",
       "      <td>2019-09-30T06:00:00</td>\n",
       "      <td>2019-12-31T00:00:00</td>\n",
       "      <td>2020-08-31T03:00:00</td>\n",
       "      <td>2019-12-31T06:00:00</td>\n",
       "      <td>NaN</td>\n",
       "      <td>NaN</td>\n",
       "      <td>NaN</td>\n",
       "      <td>NaN</td>\n",
       "      <td>NaN</td>\n",
       "    </tr>\n",
       "    <tr>\n",
       "      <th>ativoCirculante</th>\n",
       "      <td>918,211.0000</td>\n",
       "      <td>20,414,957.0000</td>\n",
       "      <td>9,759,294.0000</td>\n",
       "      <td>233,020,747.0000</td>\n",
       "      <td>7,040,240.0000</td>\n",
       "      <td>NaN</td>\n",
       "      <td>NaN</td>\n",
       "      <td>NaN</td>\n",
       "      <td>NaN</td>\n",
       "      <td>NaN</td>\n",
       "    </tr>\n",
       "    <tr>\n",
       "      <th>passivoCirculante</th>\n",
       "      <td>700,900.0000</td>\n",
       "      <td>12,984,091.0000</td>\n",
       "      <td>934,229.0000</td>\n",
       "      <td>165,884,882.0000</td>\n",
       "      <td>7,190,452.0000</td>\n",
       "      <td>NaN</td>\n",
       "      <td>NaN</td>\n",
       "      <td>NaN</td>\n",
       "      <td>NaN</td>\n",
       "      <td>NaN</td>\n",
       "    </tr>\n",
       "    <tr>\n",
       "      <th>totalAtivo</th>\n",
       "      <td>1,024,582.0000</td>\n",
       "      <td>22,309,687.0000</td>\n",
       "      <td>10,283,767.0000</td>\n",
       "      <td>239,925,713.0000</td>\n",
       "      <td>9,056,005.0000</td>\n",
       "      <td>NaN</td>\n",
       "      <td>NaN</td>\n",
       "      <td>NaN</td>\n",
       "      <td>NaN</td>\n",
       "      <td>NaN</td>\n",
       "    </tr>\n",
       "    <tr>\n",
       "      <th>totalPatrimonioLiquido</th>\n",
       "      <td>100,000.0000</td>\n",
       "      <td>9,265,719.0000</td>\n",
       "      <td>500,000.0000</td>\n",
       "      <td>55,126,655.0000</td>\n",
       "      <td>1,237,437.0000</td>\n",
       "      <td>NaN</td>\n",
       "      <td>NaN</td>\n",
       "      <td>NaN</td>\n",
       "      <td>NaN</td>\n",
       "      <td>NaN</td>\n",
       "    </tr>\n",
       "    <tr>\n",
       "      <th>endividamento</th>\n",
       "      <td>0.0000</td>\n",
       "      <td>2,907,890.0000</td>\n",
       "      <td>0.0000</td>\n",
       "      <td>36,500,000.0000</td>\n",
       "      <td>1,710,126.0000</td>\n",
       "      <td>NaN</td>\n",
       "      <td>NaN</td>\n",
       "      <td>NaN</td>\n",
       "      <td>NaN</td>\n",
       "      <td>NaN</td>\n",
       "    </tr>\n",
       "    <tr>\n",
       "      <th>duplicatasAReceber</th>\n",
       "      <td>0.0000</td>\n",
       "      <td>10,270,401.0000</td>\n",
       "      <td>5,998,978.0000</td>\n",
       "      <td>101,715,720.0000</td>\n",
       "      <td>2,982,839.0000</td>\n",
       "      <td>NaN</td>\n",
       "      <td>NaN</td>\n",
       "      <td>NaN</td>\n",
       "      <td>NaN</td>\n",
       "      <td>NaN</td>\n",
       "    </tr>\n",
       "    <tr>\n",
       "      <th>estoque</th>\n",
       "      <td>883,857.0000</td>\n",
       "      <td>7,117,673.0000</td>\n",
       "      <td>3,505,067.0000</td>\n",
       "      <td>72,935,328.0000</td>\n",
       "      <td>1,624,949.0000</td>\n",
       "      <td>NaN</td>\n",
       "      <td>NaN</td>\n",
       "      <td>NaN</td>\n",
       "      <td>NaN</td>\n",
       "      <td>NaN</td>\n",
       "    </tr>\n",
       "    <tr>\n",
       "      <th>faturamentoBruto</th>\n",
       "      <td>2,525,305.0000</td>\n",
       "      <td>17,657,555.0000</td>\n",
       "      <td>5,486,770.0000</td>\n",
       "      <td>368,594,111.0000</td>\n",
       "      <td>4,371,129.0000</td>\n",
       "      <td>0.0000</td>\n",
       "      <td>3,130,563.0000</td>\n",
       "      <td>25,519,537.0000</td>\n",
       "      <td>1,577,219.0000</td>\n",
       "      <td>24,004,120.0000</td>\n",
       "    </tr>\n",
       "    <tr>\n",
       "      <th>margemBruta</th>\n",
       "      <td>1,010,122.0000</td>\n",
       "      <td>7,686,669.0000</td>\n",
       "      <td>3,539,969.0000</td>\n",
       "      <td>51,783,104.0000</td>\n",
       "      <td>1,554,339.0000</td>\n",
       "      <td>0.0000</td>\n",
       "      <td>0.0000</td>\n",
       "      <td>0.0000</td>\n",
       "      <td>1,577,219.0000</td>\n",
       "      <td>2,739,746.0000</td>\n",
       "    </tr>\n",
       "    <tr>\n",
       "      <th>periodoDemonstrativoEmMeses</th>\n",
       "      <td>12.0000</td>\n",
       "      <td>3.0000</td>\n",
       "      <td>12.0000</td>\n",
       "      <td>8.0000</td>\n",
       "      <td>12.0000</td>\n",
       "      <td>1.0000</td>\n",
       "      <td>12.0000</td>\n",
       "      <td>12.0000</td>\n",
       "      <td>12.0000</td>\n",
       "      <td>12.0000</td>\n",
       "    </tr>\n",
       "    <tr>\n",
       "      <th>custos</th>\n",
       "      <td>1,515,183.0000</td>\n",
       "      <td>9,970,886.0000</td>\n",
       "      <td>1,946,801.0000</td>\n",
       "      <td>316,811,007.0000</td>\n",
       "      <td>2,816,790.0000</td>\n",
       "      <td>0.0000</td>\n",
       "      <td>0.0000</td>\n",
       "      <td>0.0000</td>\n",
       "      <td>0.0000</td>\n",
       "      <td>21,264,374.0000</td>\n",
       "    </tr>\n",
       "    <tr>\n",
       "      <th>anoFundacao</th>\n",
       "      <td>2,017.0000</td>\n",
       "      <td>2,000.0000</td>\n",
       "      <td>2,002.0000</td>\n",
       "      <td>2,013.0000</td>\n",
       "      <td>2,009.0000</td>\n",
       "      <td>2,006.0000</td>\n",
       "      <td>2,000.0000</td>\n",
       "      <td>1,996.0000</td>\n",
       "      <td>2,019.0000</td>\n",
       "      <td>2,009.0000</td>\n",
       "    </tr>\n",
       "    <tr>\n",
       "      <th>intervaloFundacao</th>\n",
       "      <td>De 0 a 5 anos</td>\n",
       "      <td>Acima de 17 anos</td>\n",
       "      <td>Acima de 17 anos</td>\n",
       "      <td>De 6 a 10 anos</td>\n",
       "      <td>De 11 a 16 anos</td>\n",
       "      <td>De 11 a 16 anos</td>\n",
       "      <td>Acima de 17 anos</td>\n",
       "      <td>Acima de 17 anos</td>\n",
       "      <td>De 0 a 5 anos</td>\n",
       "      <td>De 11 a 16 anos</td>\n",
       "    </tr>\n",
       "    <tr>\n",
       "      <th>capitalSocial</th>\n",
       "      <td>100,000.0000</td>\n",
       "      <td>500,000.0000</td>\n",
       "      <td>500,000.0000</td>\n",
       "      <td>16,528,124.0000</td>\n",
       "      <td>600,000.0000</td>\n",
       "      <td>15,000.0000</td>\n",
       "      <td>5,000.0000</td>\n",
       "      <td>90,000.0000</td>\n",
       "      <td>1,342,240,000.0000</td>\n",
       "      <td>60,000.0000</td>\n",
       "    </tr>\n",
       "    <tr>\n",
       "      <th>restricoes</th>\n",
       "      <td>False</td>\n",
       "      <td>False</td>\n",
       "      <td>False</td>\n",
       "      <td>True</td>\n",
       "      <td>False</td>\n",
       "      <td>False</td>\n",
       "      <td>False</td>\n",
       "      <td>False</td>\n",
       "      <td>False</td>\n",
       "      <td>True</td>\n",
       "    </tr>\n",
       "    <tr>\n",
       "      <th>empresa_MeEppMei</th>\n",
       "      <td>False</td>\n",
       "      <td>False</td>\n",
       "      <td>True</td>\n",
       "      <td>False</td>\n",
       "      <td>False</td>\n",
       "      <td>True</td>\n",
       "      <td>False</td>\n",
       "      <td>True</td>\n",
       "      <td>False</td>\n",
       "      <td>False</td>\n",
       "    </tr>\n",
       "    <tr>\n",
       "      <th>scorePontualidade</th>\n",
       "      <td>1.0000</td>\n",
       "      <td>0.9737</td>\n",
       "      <td>1.0000</td>\n",
       "      <td>0.0000</td>\n",
       "      <td>0.0000</td>\n",
       "      <td>1.0000</td>\n",
       "      <td>1.0000</td>\n",
       "      <td>1.0000</td>\n",
       "      <td>1.0000</td>\n",
       "      <td>1.0000</td>\n",
       "    </tr>\n",
       "    <tr>\n",
       "      <th>limiteEmpresaAnaliseCredito</th>\n",
       "      <td>2,640.0000</td>\n",
       "      <td>3,879,674.0000</td>\n",
       "      <td>43,000.0000</td>\n",
       "      <td>26,853,631.0000</td>\n",
       "      <td>422,071.0000</td>\n",
       "      <td>59,400.0000</td>\n",
       "      <td>19,800.0000</td>\n",
       "      <td>1,157,770.0000</td>\n",
       "      <td>28,480,345.0000</td>\n",
       "      <td>22,800.0000</td>\n",
       "    </tr>\n",
       "    <tr>\n",
       "      <th>dataAprovadoNivelAnalista</th>\n",
       "      <td>2021-01-14T15:46:38</td>\n",
       "      <td>NaN</td>\n",
       "      <td>2020-05-29T12:47:42</td>\n",
       "      <td>2020-09-18T15:37:13</td>\n",
       "      <td>2020-08-11T19:38:11</td>\n",
       "      <td>2020-05-06T19:43:25</td>\n",
       "      <td>2020-07-28T15:10:52</td>\n",
       "      <td>2020-07-24T17:43:52</td>\n",
       "      <td>NaN</td>\n",
       "      <td>2020-06-16T15:19:38</td>\n",
       "    </tr>\n",
       "    <tr>\n",
       "      <th>cluster1</th>\n",
       "      <td>2.0000</td>\n",
       "      <td>NaN</td>\n",
       "      <td>4.0000</td>\n",
       "      <td>5.0000</td>\n",
       "      <td>1.0000</td>\n",
       "      <td>NaN</td>\n",
       "      <td>0.0000</td>\n",
       "      <td>4.0000</td>\n",
       "      <td>NaN</td>\n",
       "      <td>5.0000</td>\n",
       "    </tr>\n",
       "  </tbody>\n",
       "</table>\n",
       "</div>"
      ],
      "text/plain": [
       "                                             7866                  1714  \\\n",
       "numero_solicitacao                     7,939.0000            1,771.0000   \n",
       "razaoSocial                            Shane Ball     Amelia Flynn-Ball   \n",
       "nomeFantasia                      Dr. Clive White          James Davies   \n",
       "cnpjSemTraco                   XFIT11484688977093    BWUW99352369658417   \n",
       "maiorAtraso                                     9                     8   \n",
       "margemBrutaAcumulada                       0.4064                0.3623   \n",
       "percentualProtestos                        0.0000                0.0000   \n",
       "primeiraCompra                2019-11-07T00:00:00   2017-10-04T00:00:00   \n",
       "prazoMedioRecebimentoVendas                    18                    26   \n",
       "titulosEmAberto                       55,807.5000           50,790.0000   \n",
       "valorSolicitado                       40,000.0000          550,000.0000   \n",
       "status                           AprovadoAnalista     ReprovadoAnalista   \n",
       "definicaoRisco               De 11 a 30 % - Baixo  De 11 a 30 % - Baixo   \n",
       "diferencaPercentualRisco                   0.7143                0.8036   \n",
       "percentualRisco                            0.2857                0.1964   \n",
       "dashboardCorrelacao                        0.8660                0.4720   \n",
       "valorAprovado                         40,000.0000                   NaN   \n",
       "dataAprovadoEmComite                          NaN                   NaN   \n",
       "periodoBalanco                2019-12-31T00:00:00   2019-09-30T06:00:00   \n",
       "ativoCirculante                      918,211.0000       20,414,957.0000   \n",
       "passivoCirculante                    700,900.0000       12,984,091.0000   \n",
       "totalAtivo                         1,024,582.0000       22,309,687.0000   \n",
       "totalPatrimonioLiquido               100,000.0000        9,265,719.0000   \n",
       "endividamento                              0.0000        2,907,890.0000   \n",
       "duplicatasAReceber                         0.0000       10,270,401.0000   \n",
       "estoque                              883,857.0000        7,117,673.0000   \n",
       "faturamentoBruto                   2,525,305.0000       17,657,555.0000   \n",
       "margemBruta                        1,010,122.0000        7,686,669.0000   \n",
       "periodoDemonstrativoEmMeses               12.0000                3.0000   \n",
       "custos                             1,515,183.0000        9,970,886.0000   \n",
       "anoFundacao                            2,017.0000            2,000.0000   \n",
       "intervaloFundacao                   De 0 a 5 anos      Acima de 17 anos   \n",
       "capitalSocial                        100,000.0000          500,000.0000   \n",
       "restricoes                                  False                 False   \n",
       "empresa_MeEppMei                            False                 False   \n",
       "scorePontualidade                          1.0000                0.9737   \n",
       "limiteEmpresaAnaliseCredito            2,640.0000        3,879,674.0000   \n",
       "dataAprovadoNivelAnalista     2021-01-14T15:46:38                   NaN   \n",
       "cluster1                                   2.0000                   NaN   \n",
       "\n",
       "                                             2342                   4977  \\\n",
       "numero_solicitacao                     2,415.0000             5,050.0000   \n",
       "razaoSocial                          Louis Butler  Albert Roberts-Howard   \n",
       "nomeFantasia                 Mr. Terence Reynolds        Miss Kim Parker   \n",
       "cnpjSemTraco                   XXVV64063073707099     GDOQ54156668048039   \n",
       "maiorAtraso                                     3                    390   \n",
       "margemBrutaAcumulada                       0.3291                 0.0000   \n",
       "percentualProtestos                        0.0000                    NaN   \n",
       "primeiraCompra                2013-09-04T00:00:00    2019-01-29T11:12:57   \n",
       "prazoMedioRecebimentoVendas                     0                      0   \n",
       "titulosEmAberto                            0.0000                 0.0000   \n",
       "valorSolicitado                       50,000.0000         1,000,000.0000   \n",
       "status                           AprovadoAnalista       AprovadoAnalista   \n",
       "definicaoRisco               De 11 a 30 % - Baixo   De 11 a 30 % - Baixo   \n",
       "diferencaPercentualRisco                   0.8571                 0.7321   \n",
       "percentualRisco                            0.1429                 0.2679   \n",
       "dashboardCorrelacao                        0.0000                 0.8660   \n",
       "valorAprovado                         50,000.0000         1,000,000.0000   \n",
       "dataAprovadoEmComite                          NaN                    NaN   \n",
       "periodoBalanco                2019-12-31T00:00:00    2020-08-31T03:00:00   \n",
       "ativoCirculante                    9,759,294.0000       233,020,747.0000   \n",
       "passivoCirculante                    934,229.0000       165,884,882.0000   \n",
       "totalAtivo                        10,283,767.0000       239,925,713.0000   \n",
       "totalPatrimonioLiquido               500,000.0000        55,126,655.0000   \n",
       "endividamento                              0.0000        36,500,000.0000   \n",
       "duplicatasAReceber                 5,998,978.0000       101,715,720.0000   \n",
       "estoque                            3,505,067.0000        72,935,328.0000   \n",
       "faturamentoBruto                   5,486,770.0000       368,594,111.0000   \n",
       "margemBruta                        3,539,969.0000        51,783,104.0000   \n",
       "periodoDemonstrativoEmMeses               12.0000                 8.0000   \n",
       "custos                             1,946,801.0000       316,811,007.0000   \n",
       "anoFundacao                            2,002.0000             2,013.0000   \n",
       "intervaloFundacao                Acima de 17 anos         De 6 a 10 anos   \n",
       "capitalSocial                        500,000.0000        16,528,124.0000   \n",
       "restricoes                                  False                   True   \n",
       "empresa_MeEppMei                             True                  False   \n",
       "scorePontualidade                          1.0000                 0.0000   \n",
       "limiteEmpresaAnaliseCredito           43,000.0000        26,853,631.0000   \n",
       "dataAprovadoNivelAnalista     2020-05-29T12:47:42    2020-09-18T15:37:13   \n",
       "cluster1                                   4.0000                 5.0000   \n",
       "\n",
       "                                             3929                  1839  \\\n",
       "numero_solicitacao                     4,002.0000            1,905.0000   \n",
       "razaoSocial                          Ellie Turner           Neil Palmer   \n",
       "nomeFantasia                        Mohamed Welch        Rebecca Bryant   \n",
       "cnpjSemTraco                   ELQK41348591516215    ZLOZ66321362994651   \n",
       "maiorAtraso                                    26                     6   \n",
       "margemBrutaAcumulada                       0.0000                0.4777   \n",
       "percentualProtestos                           NaN                0.0000   \n",
       "primeiraCompra                2017-12-20T17:03:32   2011-02-03T00:00:00   \n",
       "prazoMedioRecebimentoVendas                     0                    41   \n",
       "titulosEmAberto                            0.0000            5,057.4000   \n",
       "valorSolicitado                      150,000.0000           45,000.0000   \n",
       "status                           AprovadoAnalista      AprovadoAnalista   \n",
       "definicaoRisco               De 11 a 30 % - Baixo  De 31 a 50 % - Médio   \n",
       "diferencaPercentualRisco                   0.8036                0.6429   \n",
       "percentualRisco                            0.1964                0.3571   \n",
       "dashboardCorrelacao                       -0.0000               -0.8660   \n",
       "valorAprovado                        100,000.0000           30,000.0000   \n",
       "dataAprovadoEmComite                          NaN                   NaN   \n",
       "periodoBalanco                2019-12-31T06:00:00                   NaN   \n",
       "ativoCirculante                    7,040,240.0000                   NaN   \n",
       "passivoCirculante                  7,190,452.0000                   NaN   \n",
       "totalAtivo                         9,056,005.0000                   NaN   \n",
       "totalPatrimonioLiquido             1,237,437.0000                   NaN   \n",
       "endividamento                      1,710,126.0000                   NaN   \n",
       "duplicatasAReceber                 2,982,839.0000                   NaN   \n",
       "estoque                            1,624,949.0000                   NaN   \n",
       "faturamentoBruto                   4,371,129.0000                0.0000   \n",
       "margemBruta                        1,554,339.0000                0.0000   \n",
       "periodoDemonstrativoEmMeses               12.0000                1.0000   \n",
       "custos                             2,816,790.0000                0.0000   \n",
       "anoFundacao                            2,009.0000            2,006.0000   \n",
       "intervaloFundacao                 De 11 a 16 anos       De 11 a 16 anos   \n",
       "capitalSocial                        600,000.0000           15,000.0000   \n",
       "restricoes                                  False                 False   \n",
       "empresa_MeEppMei                            False                  True   \n",
       "scorePontualidade                          0.0000                1.0000   \n",
       "limiteEmpresaAnaliseCredito          422,071.0000           59,400.0000   \n",
       "dataAprovadoNivelAnalista     2020-08-11T19:38:11   2020-05-06T19:43:25   \n",
       "cluster1                                   1.0000                   NaN   \n",
       "\n",
       "                                             3545                  3484  \\\n",
       "numero_solicitacao                     3,618.0000            3,557.0000   \n",
       "razaoSocial                       Robin Carpenter       Dr. Harry Hayes   \n",
       "nomeFantasia                       Mr. Josh White           Emily Bates   \n",
       "cnpjSemTraco                   IMWA08405853350486    CJBN23158645624659   \n",
       "maiorAtraso                                    42                     0   \n",
       "margemBrutaAcumulada                       0.2795                0.5920   \n",
       "percentualProtestos                        0.0000                0.0000   \n",
       "primeiraCompra                2006-08-16T00:00:00   2019-01-31T00:00:00   \n",
       "prazoMedioRecebimentoVendas                     0                     0   \n",
       "titulosEmAberto                            0.0000                0.0000   \n",
       "valorSolicitado                       20,000.0000           20,000.0000   \n",
       "status                           AprovadoAnalista      AprovadoAnalista   \n",
       "definicaoRisco               De 31 a 50 % - Médio  De 11 a 30 % - Baixo   \n",
       "diferencaPercentualRisco                   0.6429                0.7500   \n",
       "percentualRisco                            0.3571                0.2500   \n",
       "dashboardCorrelacao                        0.7596                0.0000   \n",
       "valorAprovado                         10,000.0000           20,000.0000   \n",
       "dataAprovadoEmComite                          NaN                   NaN   \n",
       "periodoBalanco                                NaN                   NaN   \n",
       "ativoCirculante                               NaN                   NaN   \n",
       "passivoCirculante                             NaN                   NaN   \n",
       "totalAtivo                                    NaN                   NaN   \n",
       "totalPatrimonioLiquido                        NaN                   NaN   \n",
       "endividamento                                 NaN                   NaN   \n",
       "duplicatasAReceber                            NaN                   NaN   \n",
       "estoque                                       NaN                   NaN   \n",
       "faturamentoBruto                   3,130,563.0000       25,519,537.0000   \n",
       "margemBruta                                0.0000                0.0000   \n",
       "periodoDemonstrativoEmMeses               12.0000               12.0000   \n",
       "custos                                     0.0000                0.0000   \n",
       "anoFundacao                            2,000.0000            1,996.0000   \n",
       "intervaloFundacao                Acima de 17 anos      Acima de 17 anos   \n",
       "capitalSocial                          5,000.0000           90,000.0000   \n",
       "restricoes                                  False                 False   \n",
       "empresa_MeEppMei                            False                  True   \n",
       "scorePontualidade                          1.0000                1.0000   \n",
       "limiteEmpresaAnaliseCredito           19,800.0000        1,157,770.0000   \n",
       "dataAprovadoNivelAnalista     2020-07-28T15:10:52   2020-07-24T17:43:52   \n",
       "cluster1                                   0.0000                4.0000   \n",
       "\n",
       "                                             1647                  2604  \n",
       "numero_solicitacao                     1,704.0000            2,677.0000  \n",
       "razaoSocial                          Philip Smith          Ross Goodwin  \n",
       "nomeFantasia                       Nicole Collins       Alexander Miles  \n",
       "cnpjSemTraco                   WNUK21040529375766    CQPF57275613132248  \n",
       "maiorAtraso                                     0                     0  \n",
       "margemBrutaAcumulada                       0.9376                0.3423  \n",
       "percentualProtestos                        0.0000                0.0000  \n",
       "primeiraCompra                2020-03-23T00:00:00   2018-08-29T00:00:00  \n",
       "prazoMedioRecebimentoVendas                     0                     0  \n",
       "titulosEmAberto                            0.0000            7,560.0000  \n",
       "valorSolicitado                      100,000.0000           20,000.0000  \n",
       "status                          ReprovadoAnalista      AprovadoAnalista  \n",
       "definicaoRisco               De 11 a 30 % - Baixo  De 11 a 30 % - Baixo  \n",
       "diferencaPercentualRisco                   0.7857                0.8571  \n",
       "percentualRisco                            0.2143                0.1429  \n",
       "dashboardCorrelacao                        0.0000                0.0000  \n",
       "valorAprovado                                 NaN           15,000.0000  \n",
       "dataAprovadoEmComite                          NaN                   NaN  \n",
       "periodoBalanco                                NaN                   NaN  \n",
       "ativoCirculante                               NaN                   NaN  \n",
       "passivoCirculante                             NaN                   NaN  \n",
       "totalAtivo                                    NaN                   NaN  \n",
       "totalPatrimonioLiquido                        NaN                   NaN  \n",
       "endividamento                                 NaN                   NaN  \n",
       "duplicatasAReceber                            NaN                   NaN  \n",
       "estoque                                       NaN                   NaN  \n",
       "faturamentoBruto                   1,577,219.0000       24,004,120.0000  \n",
       "margemBruta                        1,577,219.0000        2,739,746.0000  \n",
       "periodoDemonstrativoEmMeses               12.0000               12.0000  \n",
       "custos                                     0.0000       21,264,374.0000  \n",
       "anoFundacao                            2,019.0000            2,009.0000  \n",
       "intervaloFundacao                   De 0 a 5 anos       De 11 a 16 anos  \n",
       "capitalSocial                  1,342,240,000.0000           60,000.0000  \n",
       "restricoes                                  False                  True  \n",
       "empresa_MeEppMei                            False                 False  \n",
       "scorePontualidade                          1.0000                1.0000  \n",
       "limiteEmpresaAnaliseCredito       28,480,345.0000           22,800.0000  \n",
       "dataAprovadoNivelAnalista                     NaN   2020-06-16T15:19:38  \n",
       "cluster1                                      NaN                5.0000  "
      ]
     },
     "execution_count": 3,
     "metadata": {},
     "output_type": "execute_result"
    }
   ],
   "source": [
    "data = pd.read_csv('solicitacoescredito_segmentada.csv')\n",
    "data.sample(10).T"
   ]
  },
  {
   "attachments": {},
   "cell_type": "markdown",
   "metadata": {},
   "source": [
    "### Pre-Processamento"
   ]
  },
  {
   "attachments": {},
   "cell_type": "markdown",
   "metadata": {},
   "source": [
    "#### filtro"
   ]
  },
  {
   "cell_type": "code",
   "execution_count": 4,
   "metadata": {},
   "outputs": [
    {
     "data": {
      "text/html": [
       "<div>\n",
       "<style scoped>\n",
       "    .dataframe tbody tr th:only-of-type {\n",
       "        vertical-align: middle;\n",
       "    }\n",
       "\n",
       "    .dataframe tbody tr th {\n",
       "        vertical-align: top;\n",
       "    }\n",
       "\n",
       "    .dataframe thead th {\n",
       "        text-align: right;\n",
       "    }\n",
       "</style>\n",
       "<table border=\"1\" class=\"dataframe\">\n",
       "  <thead>\n",
       "    <tr style=\"text-align: right;\">\n",
       "      <th></th>\n",
       "      <th>count</th>\n",
       "      <th>mean</th>\n",
       "      <th>std</th>\n",
       "      <th>min</th>\n",
       "      <th>25%</th>\n",
       "      <th>50%</th>\n",
       "      <th>75%</th>\n",
       "      <th>max</th>\n",
       "    </tr>\n",
       "  </thead>\n",
       "  <tbody>\n",
       "    <tr>\n",
       "      <th>numero_solicitacao</th>\n",
       "      <td>6,631.0000</td>\n",
       "      <td>4,758.0694</td>\n",
       "      <td>2,537.8171</td>\n",
       "      <td>1.0000</td>\n",
       "      <td>2,676.5000</td>\n",
       "      <td>4,853.0000</td>\n",
       "      <td>6,945.5000</td>\n",
       "      <td>9,034.0000</td>\n",
       "    </tr>\n",
       "    <tr>\n",
       "      <th>maiorAtraso</th>\n",
       "      <td>6,631.0000</td>\n",
       "      <td>23.8928</td>\n",
       "      <td>63.8380</td>\n",
       "      <td>0.0000</td>\n",
       "      <td>3.0000</td>\n",
       "      <td>6.0000</td>\n",
       "      <td>21.0000</td>\n",
       "      <td>977.0000</td>\n",
       "    </tr>\n",
       "    <tr>\n",
       "      <th>margemBrutaAcumulada</th>\n",
       "      <td>6,631.0000</td>\n",
       "      <td>0.3734</td>\n",
       "      <td>0.1950</td>\n",
       "      <td>0.0000</td>\n",
       "      <td>0.2992</td>\n",
       "      <td>0.4123</td>\n",
       "      <td>0.5123</td>\n",
       "      <td>1.0000</td>\n",
       "    </tr>\n",
       "    <tr>\n",
       "      <th>percentualProtestos</th>\n",
       "      <td>5,645.0000</td>\n",
       "      <td>0.0155</td>\n",
       "      <td>0.5805</td>\n",
       "      <td>0.0000</td>\n",
       "      <td>0.0000</td>\n",
       "      <td>0.0000</td>\n",
       "      <td>0.0000</td>\n",
       "      <td>36.9837</td>\n",
       "    </tr>\n",
       "    <tr>\n",
       "      <th>prazoMedioRecebimentoVendas</th>\n",
       "      <td>6,631.0000</td>\n",
       "      <td>23.5955</td>\n",
       "      <td>65.7878</td>\n",
       "      <td>0.0000</td>\n",
       "      <td>0.0000</td>\n",
       "      <td>0.0000</td>\n",
       "      <td>32.0000</td>\n",
       "      <td>1,605.0000</td>\n",
       "    </tr>\n",
       "    <tr>\n",
       "      <th>titulosEmAberto</th>\n",
       "      <td>6,631.0000</td>\n",
       "      <td>52,147.3565</td>\n",
       "      <td>186,770.4664</td>\n",
       "      <td>0.0000</td>\n",
       "      <td>0.0000</td>\n",
       "      <td>0.0000</td>\n",
       "      <td>17,352.2400</td>\n",
       "      <td>2,836,656.0000</td>\n",
       "    </tr>\n",
       "    <tr>\n",
       "      <th>valorSolicitado</th>\n",
       "      <td>6,631.0000</td>\n",
       "      <td>272,351.1101</td>\n",
       "      <td>7,380,328.6783</td>\n",
       "      <td>3,000.0000</td>\n",
       "      <td>25,000.0000</td>\n",
       "      <td>50,000.0000</td>\n",
       "      <td>100,000.0000</td>\n",
       "      <td>600,000,000.0000</td>\n",
       "    </tr>\n",
       "    <tr>\n",
       "      <th>diferencaPercentualRisco</th>\n",
       "      <td>6,631.0000</td>\n",
       "      <td>0.7412</td>\n",
       "      <td>0.1251</td>\n",
       "      <td>0.2642</td>\n",
       "      <td>0.6604</td>\n",
       "      <td>0.7500</td>\n",
       "      <td>0.8491</td>\n",
       "      <td>1.0000</td>\n",
       "    </tr>\n",
       "    <tr>\n",
       "      <th>percentualRisco</th>\n",
       "      <td>6,631.0000</td>\n",
       "      <td>0.2588</td>\n",
       "      <td>0.1251</td>\n",
       "      <td>0.0000</td>\n",
       "      <td>0.1509</td>\n",
       "      <td>0.2500</td>\n",
       "      <td>0.3396</td>\n",
       "      <td>0.7358</td>\n",
       "    </tr>\n",
       "    <tr>\n",
       "      <th>dashboardCorrelacao</th>\n",
       "      <td>6,631.0000</td>\n",
       "      <td>0.0425</td>\n",
       "      <td>0.4915</td>\n",
       "      <td>-1.0000</td>\n",
       "      <td>0.0000</td>\n",
       "      <td>0.0000</td>\n",
       "      <td>0.0000</td>\n",
       "      <td>0.9999</td>\n",
       "    </tr>\n",
       "    <tr>\n",
       "      <th>valorAprovado</th>\n",
       "      <td>6,631.0000</td>\n",
       "      <td>155,602.8003</td>\n",
       "      <td>407,388.8359</td>\n",
       "      <td>0.0000</td>\n",
       "      <td>15,000.0000</td>\n",
       "      <td>35,000.0000</td>\n",
       "      <td>100,000.0000</td>\n",
       "      <td>6,550,000.0000</td>\n",
       "    </tr>\n",
       "    <tr>\n",
       "      <th>ativoCirculante</th>\n",
       "      <td>3,877.0000</td>\n",
       "      <td>35,422,118.3921</td>\n",
       "      <td>159,314,074.1790</td>\n",
       "      <td>0.0000</td>\n",
       "      <td>887,585.0000</td>\n",
       "      <td>3,813,604.0000</td>\n",
       "      <td>15,269,897.0000</td>\n",
       "      <td>2,490,038,328.0000</td>\n",
       "    </tr>\n",
       "    <tr>\n",
       "      <th>passivoCirculante</th>\n",
       "      <td>3,877.0000</td>\n",
       "      <td>27,638,828.0077</td>\n",
       "      <td>315,101,207.6116</td>\n",
       "      <td>-355,509.0000</td>\n",
       "      <td>180,435.0000</td>\n",
       "      <td>1,286,174.0000</td>\n",
       "      <td>6,980,943.0000</td>\n",
       "      <td>13,054,054,672.0000</td>\n",
       "    </tr>\n",
       "    <tr>\n",
       "      <th>totalAtivo</th>\n",
       "      <td>3,877.0000</td>\n",
       "      <td>50,192,688.7846</td>\n",
       "      <td>259,183,678.8605</td>\n",
       "      <td>0.0000</td>\n",
       "      <td>1,049,740.0000</td>\n",
       "      <td>4,517,091.0000</td>\n",
       "      <td>18,444,493.0000</td>\n",
       "      <td>3,698,215,980.0000</td>\n",
       "    </tr>\n",
       "    <tr>\n",
       "      <th>totalPatrimonioLiquido</th>\n",
       "      <td>3,877.0000</td>\n",
       "      <td>22,602,208.0549</td>\n",
       "      <td>113,771,134.6095</td>\n",
       "      <td>-112,089,780.0000</td>\n",
       "      <td>253,229.0000</td>\n",
       "      <td>1,605,073.0000</td>\n",
       "      <td>7,987,407.0000</td>\n",
       "      <td>2,630,999,412.0000</td>\n",
       "    </tr>\n",
       "    <tr>\n",
       "      <th>endividamento</th>\n",
       "      <td>3,877.0000</td>\n",
       "      <td>4,391,526.4712</td>\n",
       "      <td>36,369,718.1666</td>\n",
       "      <td>0.0000</td>\n",
       "      <td>0.0000</td>\n",
       "      <td>0.0000</td>\n",
       "      <td>733,529.0000</td>\n",
       "      <td>721,096,000.0000</td>\n",
       "    </tr>\n",
       "    <tr>\n",
       "      <th>duplicatasAReceber</th>\n",
       "      <td>3,877.0000</td>\n",
       "      <td>11,591,824.7813</td>\n",
       "      <td>51,315,233.3264</td>\n",
       "      <td>-1,313,416.0000</td>\n",
       "      <td>48,871.0000</td>\n",
       "      <td>1,098,205.0000</td>\n",
       "      <td>6,270,885.0000</td>\n",
       "      <td>1,969,710,000.0000</td>\n",
       "    </tr>\n",
       "    <tr>\n",
       "      <th>estoque</th>\n",
       "      <td>3,877.0000</td>\n",
       "      <td>14,847,775.8460</td>\n",
       "      <td>84,024,747.4149</td>\n",
       "      <td>-263,226.0000</td>\n",
       "      <td>185,122.0000</td>\n",
       "      <td>1,037,908.0000</td>\n",
       "      <td>5,081,987.0000</td>\n",
       "      <td>1,293,428,000.0000</td>\n",
       "    </tr>\n",
       "    <tr>\n",
       "      <th>faturamentoBruto</th>\n",
       "      <td>6,631.0000</td>\n",
       "      <td>55,371,792.3150</td>\n",
       "      <td>336,691,604.1074</td>\n",
       "      <td>1.0000</td>\n",
       "      <td>1,497,586.0000</td>\n",
       "      <td>4,045,130.0000</td>\n",
       "      <td>17,050,478.0000</td>\n",
       "      <td>6,426,115,000.0000</td>\n",
       "    </tr>\n",
       "    <tr>\n",
       "      <th>margemBruta</th>\n",
       "      <td>6,631.0000</td>\n",
       "      <td>16,547,941.9659</td>\n",
       "      <td>122,231,629.4530</td>\n",
       "      <td>-614,872,100.0000</td>\n",
       "      <td>0.0000</td>\n",
       "      <td>0.0000</td>\n",
       "      <td>3,665,146.5000</td>\n",
       "      <td>3,366,842,514.0000</td>\n",
       "    </tr>\n",
       "    <tr>\n",
       "      <th>periodoDemonstrativoEmMeses</th>\n",
       "      <td>6,631.0000</td>\n",
       "      <td>10.8697</td>\n",
       "      <td>2.4757</td>\n",
       "      <td>1.0000</td>\n",
       "      <td>12.0000</td>\n",
       "      <td>12.0000</td>\n",
       "      <td>12.0000</td>\n",
       "      <td>12.0000</td>\n",
       "    </tr>\n",
       "    <tr>\n",
       "      <th>custos</th>\n",
       "      <td>6,631.0000</td>\n",
       "      <td>28,338,527.1951</td>\n",
       "      <td>209,388,705.1503</td>\n",
       "      <td>-346,633,805.0000</td>\n",
       "      <td>0.0000</td>\n",
       "      <td>0.0000</td>\n",
       "      <td>4,902,013.0000</td>\n",
       "      <td>4,393,536,000.0000</td>\n",
       "    </tr>\n",
       "    <tr>\n",
       "      <th>anoFundacao</th>\n",
       "      <td>6,631.0000</td>\n",
       "      <td>2,006.1062</td>\n",
       "      <td>11.2223</td>\n",
       "      <td>1,942.0000</td>\n",
       "      <td>2,000.0000</td>\n",
       "      <td>2,009.0000</td>\n",
       "      <td>2,015.0000</td>\n",
       "      <td>2,020.0000</td>\n",
       "    </tr>\n",
       "    <tr>\n",
       "      <th>capitalSocial</th>\n",
       "      <td>6,631.0000</td>\n",
       "      <td>6,200,933.6693</td>\n",
       "      <td>68,132,215.2294</td>\n",
       "      <td>0.0000</td>\n",
       "      <td>50,000.0000</td>\n",
       "      <td>100,000.0000</td>\n",
       "      <td>500,000.0000</td>\n",
       "      <td>4,100,000,000.0000</td>\n",
       "    </tr>\n",
       "    <tr>\n",
       "      <th>scorePontualidade</th>\n",
       "      <td>6,631.0000</td>\n",
       "      <td>0.8222</td>\n",
       "      <td>0.3590</td>\n",
       "      <td>0.0000</td>\n",
       "      <td>0.9268</td>\n",
       "      <td>1.0000</td>\n",
       "      <td>1.0000</td>\n",
       "      <td>1.0000</td>\n",
       "    </tr>\n",
       "    <tr>\n",
       "      <th>limiteEmpresaAnaliseCredito</th>\n",
       "      <td>6,631.0000</td>\n",
       "      <td>2,040,226.6924</td>\n",
       "      <td>13,120,818.4268</td>\n",
       "      <td>0.0000</td>\n",
       "      <td>8,510.0000</td>\n",
       "      <td>52,000.0000</td>\n",
       "      <td>345,000.0000</td>\n",
       "      <td>286,758,144.0000</td>\n",
       "    </tr>\n",
       "    <tr>\n",
       "      <th>cluster1</th>\n",
       "      <td>6,631.0000</td>\n",
       "      <td>2.2930</td>\n",
       "      <td>1.4867</td>\n",
       "      <td>0.0000</td>\n",
       "      <td>1.0000</td>\n",
       "      <td>2.0000</td>\n",
       "      <td>4.0000</td>\n",
       "      <td>5.0000</td>\n",
       "    </tr>\n",
       "  </tbody>\n",
       "</table>\n",
       "</div>"
      ],
      "text/plain": [
       "                                 count            mean              std  \\\n",
       "numero_solicitacao          6,631.0000      4,758.0694       2,537.8171   \n",
       "maiorAtraso                 6,631.0000         23.8928          63.8380   \n",
       "margemBrutaAcumulada        6,631.0000          0.3734           0.1950   \n",
       "percentualProtestos         5,645.0000          0.0155           0.5805   \n",
       "prazoMedioRecebimentoVendas 6,631.0000         23.5955          65.7878   \n",
       "titulosEmAberto             6,631.0000     52,147.3565     186,770.4664   \n",
       "valorSolicitado             6,631.0000    272,351.1101   7,380,328.6783   \n",
       "diferencaPercentualRisco    6,631.0000          0.7412           0.1251   \n",
       "percentualRisco             6,631.0000          0.2588           0.1251   \n",
       "dashboardCorrelacao         6,631.0000          0.0425           0.4915   \n",
       "valorAprovado               6,631.0000    155,602.8003     407,388.8359   \n",
       "ativoCirculante             3,877.0000 35,422,118.3921 159,314,074.1790   \n",
       "passivoCirculante           3,877.0000 27,638,828.0077 315,101,207.6116   \n",
       "totalAtivo                  3,877.0000 50,192,688.7846 259,183,678.8605   \n",
       "totalPatrimonioLiquido      3,877.0000 22,602,208.0549 113,771,134.6095   \n",
       "endividamento               3,877.0000  4,391,526.4712  36,369,718.1666   \n",
       "duplicatasAReceber          3,877.0000 11,591,824.7813  51,315,233.3264   \n",
       "estoque                     3,877.0000 14,847,775.8460  84,024,747.4149   \n",
       "faturamentoBruto            6,631.0000 55,371,792.3150 336,691,604.1074   \n",
       "margemBruta                 6,631.0000 16,547,941.9659 122,231,629.4530   \n",
       "periodoDemonstrativoEmMeses 6,631.0000         10.8697           2.4757   \n",
       "custos                      6,631.0000 28,338,527.1951 209,388,705.1503   \n",
       "anoFundacao                 6,631.0000      2,006.1062          11.2223   \n",
       "capitalSocial               6,631.0000  6,200,933.6693  68,132,215.2294   \n",
       "scorePontualidade           6,631.0000          0.8222           0.3590   \n",
       "limiteEmpresaAnaliseCredito 6,631.0000  2,040,226.6924  13,120,818.4268   \n",
       "cluster1                    6,631.0000          2.2930           1.4867   \n",
       "\n",
       "                                          min            25%            50%  \\\n",
       "numero_solicitacao                     1.0000     2,676.5000     4,853.0000   \n",
       "maiorAtraso                            0.0000         3.0000         6.0000   \n",
       "margemBrutaAcumulada                   0.0000         0.2992         0.4123   \n",
       "percentualProtestos                    0.0000         0.0000         0.0000   \n",
       "prazoMedioRecebimentoVendas            0.0000         0.0000         0.0000   \n",
       "titulosEmAberto                        0.0000         0.0000         0.0000   \n",
       "valorSolicitado                    3,000.0000    25,000.0000    50,000.0000   \n",
       "diferencaPercentualRisco               0.2642         0.6604         0.7500   \n",
       "percentualRisco                        0.0000         0.1509         0.2500   \n",
       "dashboardCorrelacao                   -1.0000         0.0000         0.0000   \n",
       "valorAprovado                          0.0000    15,000.0000    35,000.0000   \n",
       "ativoCirculante                        0.0000   887,585.0000 3,813,604.0000   \n",
       "passivoCirculante               -355,509.0000   180,435.0000 1,286,174.0000   \n",
       "totalAtivo                             0.0000 1,049,740.0000 4,517,091.0000   \n",
       "totalPatrimonioLiquido      -112,089,780.0000   253,229.0000 1,605,073.0000   \n",
       "endividamento                          0.0000         0.0000         0.0000   \n",
       "duplicatasAReceber            -1,313,416.0000    48,871.0000 1,098,205.0000   \n",
       "estoque                         -263,226.0000   185,122.0000 1,037,908.0000   \n",
       "faturamentoBruto                       1.0000 1,497,586.0000 4,045,130.0000   \n",
       "margemBruta                 -614,872,100.0000         0.0000         0.0000   \n",
       "periodoDemonstrativoEmMeses            1.0000        12.0000        12.0000   \n",
       "custos                      -346,633,805.0000         0.0000         0.0000   \n",
       "anoFundacao                        1,942.0000     2,000.0000     2,009.0000   \n",
       "capitalSocial                          0.0000    50,000.0000   100,000.0000   \n",
       "scorePontualidade                      0.0000         0.9268         1.0000   \n",
       "limiteEmpresaAnaliseCredito            0.0000     8,510.0000    52,000.0000   \n",
       "cluster1                               0.0000         1.0000         2.0000   \n",
       "\n",
       "                                        75%                 max  \n",
       "numero_solicitacao               6,945.5000          9,034.0000  \n",
       "maiorAtraso                         21.0000            977.0000  \n",
       "margemBrutaAcumulada                 0.5123              1.0000  \n",
       "percentualProtestos                  0.0000             36.9837  \n",
       "prazoMedioRecebimentoVendas         32.0000          1,605.0000  \n",
       "titulosEmAberto                 17,352.2400      2,836,656.0000  \n",
       "valorSolicitado                100,000.0000    600,000,000.0000  \n",
       "diferencaPercentualRisco             0.8491              1.0000  \n",
       "percentualRisco                      0.3396              0.7358  \n",
       "dashboardCorrelacao                  0.0000              0.9999  \n",
       "valorAprovado                  100,000.0000      6,550,000.0000  \n",
       "ativoCirculante             15,269,897.0000  2,490,038,328.0000  \n",
       "passivoCirculante            6,980,943.0000 13,054,054,672.0000  \n",
       "totalAtivo                  18,444,493.0000  3,698,215,980.0000  \n",
       "totalPatrimonioLiquido       7,987,407.0000  2,630,999,412.0000  \n",
       "endividamento                  733,529.0000    721,096,000.0000  \n",
       "duplicatasAReceber           6,270,885.0000  1,969,710,000.0000  \n",
       "estoque                      5,081,987.0000  1,293,428,000.0000  \n",
       "faturamentoBruto            17,050,478.0000  6,426,115,000.0000  \n",
       "margemBruta                  3,665,146.5000  3,366,842,514.0000  \n",
       "periodoDemonstrativoEmMeses         12.0000             12.0000  \n",
       "custos                       4,902,013.0000  4,393,536,000.0000  \n",
       "anoFundacao                      2,015.0000          2,020.0000  \n",
       "capitalSocial                  500,000.0000  4,100,000,000.0000  \n",
       "scorePontualidade                    1.0000              1.0000  \n",
       "limiteEmpresaAnaliseCredito    345,000.0000    286,758,144.0000  \n",
       "cluster1                             4.0000              5.0000  "
      ]
     },
     "execution_count": 4,
     "metadata": {},
     "output_type": "execute_result"
    }
   ],
   "source": [
    "# filtra as solicitações aprovadas\n",
    "@pf.register_dataframe_method\n",
    "def filter_status(\n",
    "\tdata: pd.DataFrame, # dataframe com a coluna 'status'\n",
    "\t) -> pd.DataFrame:\n",
    "\tX = data.copy()\n",
    "\tX = X[X.status.isin(['AprovadoAnalista', 'AprovadoComite'])]\n",
    "\tX = X[X.anoFundacao > 1900]\n",
    "\tX = X[X.faturamentoBruto > 0]\n",
    "\tX = X[X.periodoDemonstrativoEmMeses > 0]\n",
    "\tX = X[X.cluster1.notna()]\n",
    "\treturn X\n",
    "data.filter_status().describe().T"
   ]
  },
  {
   "cell_type": "markdown",
   "metadata": {},
   "source": [
    "#### feature engineering"
   ]
  },
  {
   "cell_type": "code",
   "execution_count": 6,
   "metadata": {},
   "outputs": [
    {
     "name": "stdout",
     "output_type": "stream",
     "text": [
      "<class 'pandas.core.frame.DataFrame'>\n",
      "Int64Index: 6631 entries, 0 to 8961\n",
      "Data columns (total 45 columns):\n",
      " #   Column                        Non-Null Count  Dtype         \n",
      "---  ------                        --------------  -----         \n",
      " 0   numero_solicitacao            6631 non-null   float64       \n",
      " 1   razaoSocial                   6631 non-null   object        \n",
      " 2   nomeFantasia                  6631 non-null   object        \n",
      " 3   cnpjSemTraco                  6631 non-null   object        \n",
      " 4   maiorAtraso                   6631 non-null   int64         \n",
      " 5   margemBrutaAcumulada          6631 non-null   float64       \n",
      " 6   percentualProtestos           5645 non-null   float64       \n",
      " 7   primeiraCompra                6631 non-null   object        \n",
      " 8   prazoMedioRecebimentoVendas   6631 non-null   int64         \n",
      " 9   titulosEmAberto               6631 non-null   float64       \n",
      " 10  valorSolicitado               6631 non-null   float64       \n",
      " 11  status                        6631 non-null   object        \n",
      " 12  definicaoRisco                6631 non-null   object        \n",
      " 13  diferencaPercentualRisco      6631 non-null   float64       \n",
      " 14  percentualRisco               6631 non-null   float64       \n",
      " 15  dashboardCorrelacao           6631 non-null   float64       \n",
      " 16  valorAprovado                 6631 non-null   float64       \n",
      " 17  dataAprovadoEmComite          0 non-null      object        \n",
      " 18  periodoBalanco                3877 non-null   object        \n",
      " 19  ativoCirculante               3877 non-null   float64       \n",
      " 20  passivoCirculante             3877 non-null   float64       \n",
      " 21  totalAtivo                    3877 non-null   float64       \n",
      " 22  totalPatrimonioLiquido        3877 non-null   float64       \n",
      " 23  endividamento                 3877 non-null   float64       \n",
      " 24  duplicatasAReceber            3877 non-null   float64       \n",
      " 25  estoque                       3877 non-null   float64       \n",
      " 26  faturamentoBruto              6631 non-null   float64       \n",
      " 27  margemBruta                   6631 non-null   float64       \n",
      " 28  periodoDemonstrativoEmMeses   6631 non-null   float64       \n",
      " 29  custos                        6631 non-null   float64       \n",
      " 30  anoFundacao                   6631 non-null   float64       \n",
      " 31  intervaloFundacao             6631 non-null   object        \n",
      " 32  capitalSocial                 6631 non-null   float64       \n",
      " 33  restricoes                    6631 non-null   object        \n",
      " 34  empresa_MeEppMei              6631 non-null   object        \n",
      " 35  scorePontualidade             6631 non-null   float64       \n",
      " 36  limiteEmpresaAnaliseCredito   6631 non-null   float64       \n",
      " 37  dataAprovadoNivelAnalista     6631 non-null   object        \n",
      " 38  cluster1                      6631 non-null   float64       \n",
      " 39  faturamentoMensal             6631 non-null   float64       \n",
      " 40  margemMensal                  6631 non-null   float64       \n",
      " 41  margem_percentual             6631 non-null   float64       \n",
      " 42  dt_dataAprovadoNivelAnalista  6631 non-null   datetime64[ns]\n",
      " 43  dt_primeiraCompra             6631 non-null   datetime64[ns]\n",
      " 44  tempoPrimeiraCompra           6631 non-null   int64         \n",
      "dtypes: datetime64[ns](2), float64(28), int64(3), object(12)\n",
      "memory usage: 2.3+ MB\n"
     ]
    }
   ],
   "source": [
    "# gera as features calculadas sem usar as colunas de documentação\n",
    "@pf.register_dataframe_method\n",
    "def engineer(\n",
    "\t\tdata: pd.DataFrame,\n",
    "\t) -> pd.DataFrame:\n",
    "\tX = data.copy()\n",
    "\tX['faturamentoMensal'] = X.faturamentoBruto / X.periodoDemonstrativoEmMeses\n",
    "\tX['margemMensal'] = X.margemBruta / X.periodoDemonstrativoEmMeses\n",
    "\tX['margem_percentual'] = (X.margemMensal / X.faturamentoMensal).replace([np.inf, np.NINF], np.nan)\n",
    "\tX['dt_dataAprovadoNivelAnalista'] = pd.to_datetime(X.dataAprovadoNivelAnalista, errors='coerce')\n",
    "\tX['dt_primeiraCompra'] = pd.to_datetime(X.primeiraCompra, errors='coerce')\n",
    "\tX['tempoPrimeiraCompra'] = (X.dt_dataAprovadoNivelAnalista - X.dt_primeiraCompra).dt.days\n",
    "\treturn X\n",
    "\n",
    "data.filter_status().engineer().info()"
   ]
  },
  {
   "cell_type": "markdown",
   "metadata": {},
   "source": [
    "#### seleção de features"
   ]
  },
  {
   "cell_type": "code",
   "execution_count": 7,
   "metadata": {},
   "outputs": [
    {
     "name": "stdout",
     "output_type": "stream",
     "text": [
      "<class 'pandas.core.frame.DataFrame'>\n",
      "Int64Index: 6631 entries, 0 to 8961\n",
      "Data columns (total 12 columns):\n",
      " #   Column                       Non-Null Count  Dtype  \n",
      "---  ------                       --------------  -----  \n",
      " 0   percentualRisco              6631 non-null   float64\n",
      " 1   restricoes                   6631 non-null   object \n",
      " 2   prazoMedioRecebimentoVendas  6631 non-null   int64  \n",
      " 3   maiorAtraso                  6631 non-null   int64  \n",
      " 4   margem_percentual            6631 non-null   float64\n",
      " 5   cluster1                     6631 non-null   float64\n",
      " 6   faturamentoMensal            6631 non-null   float64\n",
      " 7   empresa_MeEppMei             6631 non-null   object \n",
      " 8   anoFundacao                  6631 non-null   float64\n",
      " 9   titulosEmAberto              6631 non-null   float64\n",
      " 10  tempoPrimeiraCompra          6631 non-null   int64  \n",
      " 11  scorePontualidade            6631 non-null   float64\n",
      "dtypes: float64(7), int64(3), object(2)\n",
      "memory usage: 673.5+ KB\n"
     ]
    }
   ],
   "source": [
    "# seleciona as features relevantes\n",
    "@pf.register_dataframe_method\n",
    "def select(\n",
    "  data: pd.DataFrame,\n",
    "  identifier: bool = False,\n",
    ") -> pd.DataFrame:\n",
    "\tX = data.copy()\n",
    "\tkeep = [\n",
    "\t\t\t'percentualRisco',\n",
    "\t\t\t# 'valorAprovado',\n",
    "\t\t\t# 'limiteEmpresaAnaliseCredito',\n",
    "\t\t\t'faturamentoMensal',\n",
    "\t\t\t'anoFundacao',\n",
    "\t\t\t'restricoes',\n",
    "\t\t\t'empresa_MeEppMei',\n",
    "\t\t\t'scorePontualidade',\n",
    "\t\t\t'margem_percentual',\n",
    "\t\t\t'maiorAtraso',\n",
    "\t\t\t'prazo_medio_cobranca',\n",
    "\t\t\t'tempoPrimeiraCompra',\n",
    "\t\t\t'prazoMedioRecebimentoVendas',\n",
    "\t\t\t'titulosEmAberto',\n",
    "\t\t\t'cluster1',\n",
    "\t\t]\n",
    "\tif identifier:\n",
    "\t\tkeep = keep + ['numero_solicitacao']\n",
    "\tintersection = list(set(data.columns).intersection(set(keep)))\n",
    "\treturn X[intersection]\n",
    "data.filter_status().engineer().select().info()"
   ]
  },
  {
   "attachments": {},
   "cell_type": "markdown",
   "metadata": {},
   "source": [
    "#### encoding das categorias"
   ]
  },
  {
   "cell_type": "code",
   "execution_count": 8,
   "metadata": {},
   "outputs": [
    {
     "name": "stdout",
     "output_type": "stream",
     "text": [
      "<class 'pandas.core.frame.DataFrame'>\n",
      "Int64Index: 6631 entries, 0 to 8961\n",
      "Data columns (total 17 columns):\n",
      " #   Column                       Non-Null Count  Dtype  \n",
      "---  ------                       --------------  -----  \n",
      " 0   cluster1_0.0                 6631 non-null   uint8  \n",
      " 1   cluster1_1.0                 6631 non-null   uint8  \n",
      " 2   cluster1_2.0                 6631 non-null   uint8  \n",
      " 3   cluster1_3.0                 6631 non-null   uint8  \n",
      " 4   cluster1_4.0                 6631 non-null   uint8  \n",
      " 5   cluster1_5.0                 6631 non-null   uint8  \n",
      " 6   percentualRisco              6631 non-null   float64\n",
      " 7   restricoes                   6631 non-null   object \n",
      " 8   prazoMedioRecebimentoVendas  6631 non-null   int64  \n",
      " 9   maiorAtraso                  6631 non-null   int64  \n",
      " 10  margem_percentual            6631 non-null   float64\n",
      " 11  faturamentoMensal            6631 non-null   float64\n",
      " 12  empresa_MeEppMei             6631 non-null   object \n",
      " 13  anoFundacao                  6631 non-null   float64\n",
      " 14  titulosEmAberto              6631 non-null   float64\n",
      " 15  tempoPrimeiraCompra          6631 non-null   int64  \n",
      " 16  scorePontualidade            6631 non-null   float64\n",
      "dtypes: float64(6), int64(3), object(2), uint8(6)\n",
      "memory usage: 918.5+ KB\n"
     ]
    }
   ],
   "source": [
    "# realiza o one-hot encoding do cluster\n",
    "@pf.register_dataframe_method\n",
    "def encode(\n",
    "\t\tdata: pd.DataFrame,\n",
    "\t\tfeatures: list,\n",
    "\t\t) -> pd.DataFrame:\n",
    "\tX = data.copy()\n",
    "\tfor feature in features:\n",
    "\t\tX = pd.get_dummies(X[feature], prefix=feature).join(X)\n",
    "\t\tX = X.drop(columns=[feature])\n",
    "\treturn X\n",
    "data.filter_status().engineer().select().encode(['cluster1']).info()"
   ]
  },
  {
   "cell_type": "markdown",
   "metadata": {},
   "source": [
    "#### data types"
   ]
  },
  {
   "cell_type": "code",
   "execution_count": 9,
   "metadata": {},
   "outputs": [
    {
     "name": "stdout",
     "output_type": "stream",
     "text": [
      "<class 'pandas.core.frame.DataFrame'>\n",
      "Int64Index: 6631 entries, 0 to 8961\n",
      "Data columns (total 17 columns):\n",
      " #   Column                       Non-Null Count  Dtype  \n",
      "---  ------                       --------------  -----  \n",
      " 0   cluster1_0.0                 6631 non-null   float32\n",
      " 1   cluster1_1.0                 6631 non-null   float32\n",
      " 2   cluster1_2.0                 6631 non-null   float32\n",
      " 3   cluster1_3.0                 6631 non-null   float32\n",
      " 4   cluster1_4.0                 6631 non-null   float32\n",
      " 5   cluster1_5.0                 6631 non-null   float32\n",
      " 6   percentualRisco              6631 non-null   float32\n",
      " 7   restricoes                   6631 non-null   float32\n",
      " 8   prazoMedioRecebimentoVendas  6631 non-null   float32\n",
      " 9   maiorAtraso                  6631 non-null   float32\n",
      " 10  margem_percentual            6631 non-null   float32\n",
      " 11  faturamentoMensal            6631 non-null   float32\n",
      " 12  empresa_MeEppMei             6631 non-null   float32\n",
      " 13  anoFundacao                  6631 non-null   float32\n",
      " 14  titulosEmAberto              6631 non-null   float32\n",
      " 15  tempoPrimeiraCompra          6631 non-null   float32\n",
      " 16  scorePontualidade            6631 non-null   float32\n",
      "dtypes: float32(17)\n",
      "memory usage: 750.2 KB\n"
     ]
    }
   ],
   "source": [
    "# converte data types\n",
    "@pf.register_dataframe_method\n",
    "def type_cast(\n",
    "\t\tdata: pd.DataFrame,\n",
    "\t) -> pd.DataFrame:\n",
    "\tX = data.copy()\n",
    "\tfor col in X.columns:\n",
    "\t\tif col in ['cluster1', 'cluster2']:\n",
    "\t\t\tX[col] = X[col].astype('int32', errors='ignore')\n",
    "\t\telse:\n",
    "\t\t\tX[col] = X[col].astype('float32')\t\t\n",
    "\treturn X\n",
    "data.filter_status().engineer().select().encode(['cluster1']).type_cast().info()"
   ]
  },
  {
   "attachments": {},
   "cell_type": "markdown",
   "metadata": {},
   "source": [
    "#### limpeza"
   ]
  },
  {
   "cell_type": "code",
   "execution_count": 10,
   "metadata": {},
   "outputs": [
    {
     "name": "stdout",
     "output_type": "stream",
     "text": [
      "<class 'pandas.core.frame.DataFrame'>\n",
      "Int64Index: 6631 entries, 0 to 8961\n",
      "Data columns (total 17 columns):\n",
      " #   Column                       Non-Null Count  Dtype  \n",
      "---  ------                       --------------  -----  \n",
      " 0   cluster1_0.0                 6631 non-null   float32\n",
      " 1   cluster1_1.0                 6631 non-null   float32\n",
      " 2   cluster1_2.0                 6631 non-null   float32\n",
      " 3   cluster1_3.0                 6631 non-null   float32\n",
      " 4   cluster1_4.0                 6631 non-null   float32\n",
      " 5   cluster1_5.0                 6631 non-null   float32\n",
      " 6   percentualRisco              6631 non-null   float32\n",
      " 7   restricoes                   6631 non-null   float32\n",
      " 8   prazoMedioRecebimentoVendas  6631 non-null   float32\n",
      " 9   maiorAtraso                  6631 non-null   float32\n",
      " 10  margem_percentual            6631 non-null   float32\n",
      " 11  faturamentoMensal            6631 non-null   float32\n",
      " 12  empresa_MeEppMei             6631 non-null   float32\n",
      " 13  anoFundacao                  6631 non-null   float32\n",
      " 14  titulosEmAberto              6631 non-null   float32\n",
      " 15  tempoPrimeiraCompra          6631 non-null   float32\n",
      " 16  scorePontualidade            6631 non-null   float32\n",
      "dtypes: float32(17)\n",
      "memory usage: 750.2 KB\n"
     ]
    }
   ],
   "source": [
    "# elimina valores nulos\n",
    "@pf.register_dataframe_method\n",
    "def clean(\n",
    "  data: pd.DataFrame,\n",
    ") -> pd.DataFrame:\n",
    "\treturn data.dropna()\n",
    "data.filter_status().engineer().select().encode(['cluster1']).type_cast().clean().info()"
   ]
  },
  {
   "attachments": {},
   "cell_type": "markdown",
   "metadata": {},
   "source": [
    "⭐ nota\n",
    "<div style='color:#222200;background-color:#FFFFBB;padding:10px;'><table style='border:0px solid;width:100%'>\n",
    "<tr><td style=\"border:0px;font-size:60px;width:80px;background-color:#FFFFBB\">⭐</td><td style=\"border:0px;background-color:#FFFFBB;font-size:16px;\">\n",
    "a segmentação de clientes previamente obtida será utilizada no treinamento dos modelos. A feature é categórica e deve ser codificada com one-hot-encoding.\n",
    "</td></tr></table></div>"
   ]
  },
  {
   "attachments": {},
   "cell_type": "markdown",
   "metadata": {},
   "source": [
    "#### padronização"
   ]
  },
  {
   "cell_type": "code",
   "execution_count": 11,
   "metadata": {},
   "outputs": [
    {
     "data": {
      "text/html": [
       "<div>\n",
       "<style scoped>\n",
       "    .dataframe tbody tr th:only-of-type {\n",
       "        vertical-align: middle;\n",
       "    }\n",
       "\n",
       "    .dataframe tbody tr th {\n",
       "        vertical-align: top;\n",
       "    }\n",
       "\n",
       "    .dataframe thead th {\n",
       "        text-align: right;\n",
       "    }\n",
       "</style>\n",
       "<table border=\"1\" class=\"dataframe\">\n",
       "  <thead>\n",
       "    <tr style=\"text-align: right;\">\n",
       "      <th></th>\n",
       "      <th>count</th>\n",
       "      <th>mean</th>\n",
       "      <th>std</th>\n",
       "      <th>min</th>\n",
       "      <th>25%</th>\n",
       "      <th>50%</th>\n",
       "      <th>75%</th>\n",
       "      <th>max</th>\n",
       "    </tr>\n",
       "  </thead>\n",
       "  <tbody>\n",
       "    <tr>\n",
       "      <th>cluster1_0.0</th>\n",
       "      <td>6,631.0000</td>\n",
       "      <td>0.0000</td>\n",
       "      <td>1.0001</td>\n",
       "      <td>-0.4139</td>\n",
       "      <td>-0.4139</td>\n",
       "      <td>-0.4139</td>\n",
       "      <td>-0.4139</td>\n",
       "      <td>2.4158</td>\n",
       "    </tr>\n",
       "    <tr>\n",
       "      <th>cluster1_1.0</th>\n",
       "      <td>6,631.0000</td>\n",
       "      <td>0.0000</td>\n",
       "      <td>1.0001</td>\n",
       "      <td>-0.3973</td>\n",
       "      <td>-0.3973</td>\n",
       "      <td>-0.3973</td>\n",
       "      <td>-0.3973</td>\n",
       "      <td>2.5170</td>\n",
       "    </tr>\n",
       "    <tr>\n",
       "      <th>cluster1_2.0</th>\n",
       "      <td>6,631.0000</td>\n",
       "      <td>-0.0000</td>\n",
       "      <td>1.0001</td>\n",
       "      <td>-0.7712</td>\n",
       "      <td>-0.7712</td>\n",
       "      <td>-0.7712</td>\n",
       "      <td>1.2967</td>\n",
       "      <td>1.2967</td>\n",
       "    </tr>\n",
       "    <tr>\n",
       "      <th>cluster1_3.0</th>\n",
       "      <td>6,631.0000</td>\n",
       "      <td>-0.0000</td>\n",
       "      <td>1.0001</td>\n",
       "      <td>-0.1262</td>\n",
       "      <td>-0.1262</td>\n",
       "      <td>-0.1262</td>\n",
       "      <td>-0.1262</td>\n",
       "      <td>7.9221</td>\n",
       "    </tr>\n",
       "    <tr>\n",
       "      <th>cluster1_4.0</th>\n",
       "      <td>6,631.0000</td>\n",
       "      <td>0.0000</td>\n",
       "      <td>1.0001</td>\n",
       "      <td>-0.6237</td>\n",
       "      <td>-0.6237</td>\n",
       "      <td>-0.6237</td>\n",
       "      <td>1.6034</td>\n",
       "      <td>1.6034</td>\n",
       "    </tr>\n",
       "    <tr>\n",
       "      <th>cluster1_5.0</th>\n",
       "      <td>6,631.0000</td>\n",
       "      <td>0.0000</td>\n",
       "      <td>1.0001</td>\n",
       "      <td>-0.2263</td>\n",
       "      <td>-0.2263</td>\n",
       "      <td>-0.2263</td>\n",
       "      <td>-0.2263</td>\n",
       "      <td>4.4192</td>\n",
       "    </tr>\n",
       "    <tr>\n",
       "      <th>percentualRisco</th>\n",
       "      <td>6,631.0000</td>\n",
       "      <td>-0.0000</td>\n",
       "      <td>1.0001</td>\n",
       "      <td>-1.7996</td>\n",
       "      <td>-0.8690</td>\n",
       "      <td>-0.0689</td>\n",
       "      <td>0.6550</td>\n",
       "      <td>2.5272</td>\n",
       "    </tr>\n",
       "    <tr>\n",
       "      <th>restricoes</th>\n",
       "      <td>6,631.0000</td>\n",
       "      <td>0.0000</td>\n",
       "      <td>1.0001</td>\n",
       "      <td>-0.2438</td>\n",
       "      <td>-0.2438</td>\n",
       "      <td>-0.2438</td>\n",
       "      <td>-0.2438</td>\n",
       "      <td>4.1019</td>\n",
       "    </tr>\n",
       "    <tr>\n",
       "      <th>prazoMedioRecebimentoVendas</th>\n",
       "      <td>6,631.0000</td>\n",
       "      <td>-0.0000</td>\n",
       "      <td>1.0001</td>\n",
       "      <td>-0.5146</td>\n",
       "      <td>-0.5146</td>\n",
       "      <td>-0.5146</td>\n",
       "      <td>0.2597</td>\n",
       "      <td>5.1965</td>\n",
       "    </tr>\n",
       "    <tr>\n",
       "      <th>maiorAtraso</th>\n",
       "      <td>6,631.0000</td>\n",
       "      <td>0.0000</td>\n",
       "      <td>1.0001</td>\n",
       "      <td>-0.5172</td>\n",
       "      <td>-0.4447</td>\n",
       "      <td>-0.3723</td>\n",
       "      <td>-0.0103</td>\n",
       "      <td>6.2164</td>\n",
       "    </tr>\n",
       "    <tr>\n",
       "      <th>margem_percentual</th>\n",
       "      <td>6,631.0000</td>\n",
       "      <td>-0.0000</td>\n",
       "      <td>1.0001</td>\n",
       "      <td>-0.8106</td>\n",
       "      <td>-0.8106</td>\n",
       "      <td>-0.8106</td>\n",
       "      <td>0.6858</td>\n",
       "      <td>2.9826</td>\n",
       "    </tr>\n",
       "    <tr>\n",
       "      <th>faturamentoMensal</th>\n",
       "      <td>6,631.0000</td>\n",
       "      <td>-0.0000</td>\n",
       "      <td>1.0001</td>\n",
       "      <td>-0.2770</td>\n",
       "      <td>-0.2675</td>\n",
       "      <td>-0.2507</td>\n",
       "      <td>-0.1553</td>\n",
       "      <td>7.9016</td>\n",
       "    </tr>\n",
       "    <tr>\n",
       "      <th>empresa_MeEppMei</th>\n",
       "      <td>6,631.0000</td>\n",
       "      <td>0.0000</td>\n",
       "      <td>1.0001</td>\n",
       "      <td>-0.7777</td>\n",
       "      <td>-0.7777</td>\n",
       "      <td>-0.7777</td>\n",
       "      <td>1.2859</td>\n",
       "      <td>1.2859</td>\n",
       "    </tr>\n",
       "    <tr>\n",
       "      <th>anoFundacao</th>\n",
       "      <td>6,631.0000</td>\n",
       "      <td>0.0000</td>\n",
       "      <td>1.0001</td>\n",
       "      <td>-3.4070</td>\n",
       "      <td>-0.5660</td>\n",
       "      <td>0.2588</td>\n",
       "      <td>0.8087</td>\n",
       "      <td>1.1752</td>\n",
       "    </tr>\n",
       "    <tr>\n",
       "      <th>titulosEmAberto</th>\n",
       "      <td>6,631.0000</td>\n",
       "      <td>0.0000</td>\n",
       "      <td>1.0001</td>\n",
       "      <td>-0.3294</td>\n",
       "      <td>-0.3294</td>\n",
       "      <td>-0.3294</td>\n",
       "      <td>-0.2071</td>\n",
       "      <td>5.9603</td>\n",
       "    </tr>\n",
       "    <tr>\n",
       "      <th>tempoPrimeiraCompra</th>\n",
       "      <td>6,631.0000</td>\n",
       "      <td>-0.0000</td>\n",
       "      <td>1.0001</td>\n",
       "      <td>-1.1870</td>\n",
       "      <td>-0.7795</td>\n",
       "      <td>-0.3123</td>\n",
       "      <td>0.5899</td>\n",
       "      <td>2.4259</td>\n",
       "    </tr>\n",
       "    <tr>\n",
       "      <th>scorePontualidade</th>\n",
       "      <td>6,631.0000</td>\n",
       "      <td>-0.0000</td>\n",
       "      <td>1.0001</td>\n",
       "      <td>-2.2904</td>\n",
       "      <td>0.2915</td>\n",
       "      <td>0.4953</td>\n",
       "      <td>0.4953</td>\n",
       "      <td>0.4953</td>\n",
       "    </tr>\n",
       "  </tbody>\n",
       "</table>\n",
       "</div>"
      ],
      "text/plain": [
       "                                 count    mean    std     min     25%     50%  \\\n",
       "cluster1_0.0                6,631.0000  0.0000 1.0001 -0.4139 -0.4139 -0.4139   \n",
       "cluster1_1.0                6,631.0000  0.0000 1.0001 -0.3973 -0.3973 -0.3973   \n",
       "cluster1_2.0                6,631.0000 -0.0000 1.0001 -0.7712 -0.7712 -0.7712   \n",
       "cluster1_3.0                6,631.0000 -0.0000 1.0001 -0.1262 -0.1262 -0.1262   \n",
       "cluster1_4.0                6,631.0000  0.0000 1.0001 -0.6237 -0.6237 -0.6237   \n",
       "cluster1_5.0                6,631.0000  0.0000 1.0001 -0.2263 -0.2263 -0.2263   \n",
       "percentualRisco             6,631.0000 -0.0000 1.0001 -1.7996 -0.8690 -0.0689   \n",
       "restricoes                  6,631.0000  0.0000 1.0001 -0.2438 -0.2438 -0.2438   \n",
       "prazoMedioRecebimentoVendas 6,631.0000 -0.0000 1.0001 -0.5146 -0.5146 -0.5146   \n",
       "maiorAtraso                 6,631.0000  0.0000 1.0001 -0.5172 -0.4447 -0.3723   \n",
       "margem_percentual           6,631.0000 -0.0000 1.0001 -0.8106 -0.8106 -0.8106   \n",
       "faturamentoMensal           6,631.0000 -0.0000 1.0001 -0.2770 -0.2675 -0.2507   \n",
       "empresa_MeEppMei            6,631.0000  0.0000 1.0001 -0.7777 -0.7777 -0.7777   \n",
       "anoFundacao                 6,631.0000  0.0000 1.0001 -3.4070 -0.5660  0.2588   \n",
       "titulosEmAberto             6,631.0000  0.0000 1.0001 -0.3294 -0.3294 -0.3294   \n",
       "tempoPrimeiraCompra         6,631.0000 -0.0000 1.0001 -1.1870 -0.7795 -0.3123   \n",
       "scorePontualidade           6,631.0000 -0.0000 1.0001 -2.2904  0.2915  0.4953   \n",
       "\n",
       "                                75%    max  \n",
       "cluster1_0.0                -0.4139 2.4158  \n",
       "cluster1_1.0                -0.3973 2.5170  \n",
       "cluster1_2.0                 1.2967 1.2967  \n",
       "cluster1_3.0                -0.1262 7.9221  \n",
       "cluster1_4.0                 1.6034 1.6034  \n",
       "cluster1_5.0                -0.2263 4.4192  \n",
       "percentualRisco              0.6550 2.5272  \n",
       "restricoes                  -0.2438 4.1019  \n",
       "prazoMedioRecebimentoVendas  0.2597 5.1965  \n",
       "maiorAtraso                 -0.0103 6.2164  \n",
       "margem_percentual            0.6858 2.9826  \n",
       "faturamentoMensal           -0.1553 7.9016  \n",
       "empresa_MeEppMei             1.2859 1.2859  \n",
       "anoFundacao                  0.8087 1.1752  \n",
       "titulosEmAberto             -0.2071 5.9603  \n",
       "tempoPrimeiraCompra          0.5899 2.4259  \n",
       "scorePontualidade            0.4953 0.4953  "
      ]
     },
     "execution_count": 11,
     "metadata": {},
     "output_type": "execute_result"
    }
   ],
   "source": [
    "# aplica padronização por z-score\n",
    "@pf.register_dataframe_method\n",
    "def standardize(\n",
    "\t\tdata: pd.DataFrame,\n",
    "\t) -> pd.DataFrame:\n",
    "\tX = data.copy()\n",
    "\t# clip outliers\n",
    "\tX = X.clip(lower=X.quantile(0.01), upper=X.quantile(0.99), axis=1)\n",
    "\tstandardizer = StandardScaler()\n",
    "\tX = pd.DataFrame(standardizer.fit_transform(X), columns=X.columns)\n",
    "\treturn X\n",
    "data.filter_status().engineer().select().encode(['cluster1']).type_cast().clean().standardize().describe().T"
   ]
  },
  {
   "attachments": {},
   "cell_type": "markdown",
   "metadata": {},
   "source": [
    "#### preparação dos dados"
   ]
  },
  {
   "cell_type": "code",
   "execution_count": 12,
   "metadata": {},
   "outputs": [
    {
     "name": "stdout",
     "output_type": "stream",
     "text": [
      "<class 'pandas.core.frame.DataFrame'>\n",
      "Int64Index: 5304 entries, 5165 to 860\n",
      "Data columns (total 16 columns):\n",
      " #   Column                       Non-Null Count  Dtype  \n",
      "---  ------                       --------------  -----  \n",
      " 0   cluster1_0.0                 5304 non-null   float64\n",
      " 1   cluster1_1.0                 5304 non-null   float64\n",
      " 2   cluster1_2.0                 5304 non-null   float64\n",
      " 3   cluster1_3.0                 5304 non-null   float64\n",
      " 4   cluster1_4.0                 5304 non-null   float64\n",
      " 5   cluster1_5.0                 5304 non-null   float64\n",
      " 6   restricoes                   5304 non-null   float64\n",
      " 7   prazoMedioRecebimentoVendas  5304 non-null   float64\n",
      " 8   maiorAtraso                  5304 non-null   float64\n",
      " 9   margem_percentual            5304 non-null   float64\n",
      " 10  faturamentoMensal            5304 non-null   float64\n",
      " 11  empresa_MeEppMei             5304 non-null   float64\n",
      " 12  anoFundacao                  5304 non-null   float64\n",
      " 13  titulosEmAberto              5304 non-null   float64\n",
      " 14  tempoPrimeiraCompra          5304 non-null   float64\n",
      " 15  scorePontualidade            5304 non-null   float64\n",
      "dtypes: float64(16)\n",
      "memory usage: 704.4 KB\n"
     ]
    },
    {
     "data": {
      "text/plain": [
       "None"
      ]
     },
     "metadata": {},
     "output_type": "display_data"
    },
    {
     "data": {
      "text/html": [
       "<div>\n",
       "<style scoped>\n",
       "    .dataframe tbody tr th:only-of-type {\n",
       "        vertical-align: middle;\n",
       "    }\n",
       "\n",
       "    .dataframe tbody tr th {\n",
       "        vertical-align: top;\n",
       "    }\n",
       "\n",
       "    .dataframe thead th {\n",
       "        text-align: right;\n",
       "    }\n",
       "</style>\n",
       "<table border=\"1\" class=\"dataframe\">\n",
       "  <thead>\n",
       "    <tr style=\"text-align: right;\">\n",
       "      <th></th>\n",
       "      <th>count</th>\n",
       "      <th>mean</th>\n",
       "      <th>std</th>\n",
       "      <th>min</th>\n",
       "      <th>25%</th>\n",
       "      <th>50%</th>\n",
       "      <th>75%</th>\n",
       "      <th>max</th>\n",
       "    </tr>\n",
       "  </thead>\n",
       "  <tbody>\n",
       "    <tr>\n",
       "      <th>cluster1_0.0</th>\n",
       "      <td>5,304.0000</td>\n",
       "      <td>0.0070</td>\n",
       "      <td>1.0071</td>\n",
       "      <td>-0.4139</td>\n",
       "      <td>-0.4139</td>\n",
       "      <td>-0.4139</td>\n",
       "      <td>-0.4139</td>\n",
       "      <td>2.4158</td>\n",
       "    </tr>\n",
       "    <tr>\n",
       "      <th>cluster1_1.0</th>\n",
       "      <td>5,304.0000</td>\n",
       "      <td>-0.0066</td>\n",
       "      <td>0.9930</td>\n",
       "      <td>-0.3973</td>\n",
       "      <td>-0.3973</td>\n",
       "      <td>-0.3973</td>\n",
       "      <td>-0.3973</td>\n",
       "      <td>2.5170</td>\n",
       "    </tr>\n",
       "    <tr>\n",
       "      <th>cluster1_2.0</th>\n",
       "      <td>5,304.0000</td>\n",
       "      <td>0.0042</td>\n",
       "      <td>1.0012</td>\n",
       "      <td>-0.7712</td>\n",
       "      <td>-0.7712</td>\n",
       "      <td>-0.7712</td>\n",
       "      <td>1.2967</td>\n",
       "      <td>1.2967</td>\n",
       "    </tr>\n",
       "    <tr>\n",
       "      <th>cluster1_3.0</th>\n",
       "      <td>5,304.0000</td>\n",
       "      <td>0.0134</td>\n",
       "      <td>1.0508</td>\n",
       "      <td>-0.1262</td>\n",
       "      <td>-0.1262</td>\n",
       "      <td>-0.1262</td>\n",
       "      <td>-0.1262</td>\n",
       "      <td>7.9221</td>\n",
       "    </tr>\n",
       "    <tr>\n",
       "      <th>cluster1_4.0</th>\n",
       "      <td>5,304.0000</td>\n",
       "      <td>-0.0065</td>\n",
       "      <td>0.9969</td>\n",
       "      <td>-0.6237</td>\n",
       "      <td>-0.6237</td>\n",
       "      <td>-0.6237</td>\n",
       "      <td>1.6034</td>\n",
       "      <td>1.6034</td>\n",
       "    </tr>\n",
       "    <tr>\n",
       "      <th>cluster1_5.0</th>\n",
       "      <td>5,304.0000</td>\n",
       "      <td>-0.0047</td>\n",
       "      <td>0.9902</td>\n",
       "      <td>-0.2263</td>\n",
       "      <td>-0.2263</td>\n",
       "      <td>-0.2263</td>\n",
       "      <td>-0.2263</td>\n",
       "      <td>4.4192</td>\n",
       "    </tr>\n",
       "    <tr>\n",
       "      <th>restricoes</th>\n",
       "      <td>5,304.0000</td>\n",
       "      <td>-0.0021</td>\n",
       "      <td>0.9960</td>\n",
       "      <td>-0.2438</td>\n",
       "      <td>-0.2438</td>\n",
       "      <td>-0.2438</td>\n",
       "      <td>-0.2438</td>\n",
       "      <td>4.1019</td>\n",
       "    </tr>\n",
       "    <tr>\n",
       "      <th>prazoMedioRecebimentoVendas</th>\n",
       "      <td>5,304.0000</td>\n",
       "      <td>0.0048</td>\n",
       "      <td>1.0025</td>\n",
       "      <td>-0.5146</td>\n",
       "      <td>-0.5146</td>\n",
       "      <td>-0.5146</td>\n",
       "      <td>0.2597</td>\n",
       "      <td>5.1965</td>\n",
       "    </tr>\n",
       "    <tr>\n",
       "      <th>maiorAtraso</th>\n",
       "      <td>5,304.0000</td>\n",
       "      <td>0.0010</td>\n",
       "      <td>0.9966</td>\n",
       "      <td>-0.5172</td>\n",
       "      <td>-0.4447</td>\n",
       "      <td>-0.3723</td>\n",
       "      <td>-0.0103</td>\n",
       "      <td>6.2164</td>\n",
       "    </tr>\n",
       "    <tr>\n",
       "      <th>margem_percentual</th>\n",
       "      <td>5,304.0000</td>\n",
       "      <td>0.0088</td>\n",
       "      <td>1.0057</td>\n",
       "      <td>-0.8106</td>\n",
       "      <td>-0.8106</td>\n",
       "      <td>-0.8106</td>\n",
       "      <td>0.6856</td>\n",
       "      <td>2.9826</td>\n",
       "    </tr>\n",
       "    <tr>\n",
       "      <th>faturamentoMensal</th>\n",
       "      <td>5,304.0000</td>\n",
       "      <td>0.0152</td>\n",
       "      <td>1.0483</td>\n",
       "      <td>-0.2770</td>\n",
       "      <td>-0.2675</td>\n",
       "      <td>-0.2507</td>\n",
       "      <td>-0.1530</td>\n",
       "      <td>7.9016</td>\n",
       "    </tr>\n",
       "    <tr>\n",
       "      <th>empresa_MeEppMei</th>\n",
       "      <td>5,304.0000</td>\n",
       "      <td>-0.0144</td>\n",
       "      <td>0.9963</td>\n",
       "      <td>-0.7777</td>\n",
       "      <td>-0.7777</td>\n",
       "      <td>-0.7777</td>\n",
       "      <td>1.2859</td>\n",
       "      <td>1.2859</td>\n",
       "    </tr>\n",
       "    <tr>\n",
       "      <th>anoFundacao</th>\n",
       "      <td>5,304.0000</td>\n",
       "      <td>-0.0059</td>\n",
       "      <td>1.0067</td>\n",
       "      <td>-3.4070</td>\n",
       "      <td>-0.5660</td>\n",
       "      <td>0.2588</td>\n",
       "      <td>0.8087</td>\n",
       "      <td>1.1752</td>\n",
       "    </tr>\n",
       "    <tr>\n",
       "      <th>titulosEmAberto</th>\n",
       "      <td>5,304.0000</td>\n",
       "      <td>0.0001</td>\n",
       "      <td>1.0024</td>\n",
       "      <td>-0.3294</td>\n",
       "      <td>-0.3294</td>\n",
       "      <td>-0.3294</td>\n",
       "      <td>-0.2078</td>\n",
       "      <td>5.9603</td>\n",
       "    </tr>\n",
       "    <tr>\n",
       "      <th>tempoPrimeiraCompra</th>\n",
       "      <td>5,304.0000</td>\n",
       "      <td>0.0078</td>\n",
       "      <td>1.0060</td>\n",
       "      <td>-1.1870</td>\n",
       "      <td>-0.7808</td>\n",
       "      <td>-0.3096</td>\n",
       "      <td>0.6094</td>\n",
       "      <td>2.4259</td>\n",
       "    </tr>\n",
       "    <tr>\n",
       "      <th>scorePontualidade</th>\n",
       "      <td>5,304.0000</td>\n",
       "      <td>0.0064</td>\n",
       "      <td>0.9937</td>\n",
       "      <td>-2.2904</td>\n",
       "      <td>0.3130</td>\n",
       "      <td>0.4953</td>\n",
       "      <td>0.4953</td>\n",
       "      <td>0.4953</td>\n",
       "    </tr>\n",
       "  </tbody>\n",
       "</table>\n",
       "</div>"
      ],
      "text/plain": [
       "                                 count    mean    std     min     25%     50%  \\\n",
       "cluster1_0.0                5,304.0000  0.0070 1.0071 -0.4139 -0.4139 -0.4139   \n",
       "cluster1_1.0                5,304.0000 -0.0066 0.9930 -0.3973 -0.3973 -0.3973   \n",
       "cluster1_2.0                5,304.0000  0.0042 1.0012 -0.7712 -0.7712 -0.7712   \n",
       "cluster1_3.0                5,304.0000  0.0134 1.0508 -0.1262 -0.1262 -0.1262   \n",
       "cluster1_4.0                5,304.0000 -0.0065 0.9969 -0.6237 -0.6237 -0.6237   \n",
       "cluster1_5.0                5,304.0000 -0.0047 0.9902 -0.2263 -0.2263 -0.2263   \n",
       "restricoes                  5,304.0000 -0.0021 0.9960 -0.2438 -0.2438 -0.2438   \n",
       "prazoMedioRecebimentoVendas 5,304.0000  0.0048 1.0025 -0.5146 -0.5146 -0.5146   \n",
       "maiorAtraso                 5,304.0000  0.0010 0.9966 -0.5172 -0.4447 -0.3723   \n",
       "margem_percentual           5,304.0000  0.0088 1.0057 -0.8106 -0.8106 -0.8106   \n",
       "faturamentoMensal           5,304.0000  0.0152 1.0483 -0.2770 -0.2675 -0.2507   \n",
       "empresa_MeEppMei            5,304.0000 -0.0144 0.9963 -0.7777 -0.7777 -0.7777   \n",
       "anoFundacao                 5,304.0000 -0.0059 1.0067 -3.4070 -0.5660  0.2588   \n",
       "titulosEmAberto             5,304.0000  0.0001 1.0024 -0.3294 -0.3294 -0.3294   \n",
       "tempoPrimeiraCompra         5,304.0000  0.0078 1.0060 -1.1870 -0.7808 -0.3096   \n",
       "scorePontualidade           5,304.0000  0.0064 0.9937 -2.2904  0.3130  0.4953   \n",
       "\n",
       "                                75%    max  \n",
       "cluster1_0.0                -0.4139 2.4158  \n",
       "cluster1_1.0                -0.3973 2.5170  \n",
       "cluster1_2.0                 1.2967 1.2967  \n",
       "cluster1_3.0                -0.1262 7.9221  \n",
       "cluster1_4.0                 1.6034 1.6034  \n",
       "cluster1_5.0                -0.2263 4.4192  \n",
       "restricoes                  -0.2438 4.1019  \n",
       "prazoMedioRecebimentoVendas  0.2597 5.1965  \n",
       "maiorAtraso                 -0.0103 6.2164  \n",
       "margem_percentual            0.6856 2.9826  \n",
       "faturamentoMensal           -0.1530 7.9016  \n",
       "empresa_MeEppMei             1.2859 1.2859  \n",
       "anoFundacao                  0.8087 1.1752  \n",
       "titulosEmAberto             -0.2078 5.9603  \n",
       "tempoPrimeiraCompra          0.6094 2.4259  \n",
       "scorePontualidade            0.4953 0.4953  "
      ]
     },
     "metadata": {},
     "output_type": "display_data"
    },
    {
     "name": "stdout",
     "output_type": "stream",
     "text": [
      "Shape de data_train: (5304, 16)\n",
      "Shape de data_test: (1327, 16)\n"
     ]
    }
   ],
   "source": [
    "data_preprocess = data.filter_status().engineer().select().encode(['cluster1']).type_cast().clean()\n",
    "targets_preprocess = data_preprocess['percentualRisco']\n",
    "features_preprocess = data_preprocess.drop(columns=['percentualRisco']).standardize()\n",
    "\n",
    "data_train, data_test, targets_train, targets_test = train_test_split(features_preprocess, targets_preprocess, test_size=0.2, random_state=42)\n",
    "\n",
    "display(data_train.info())\n",
    "display(data_train.describe().T)\n",
    "print (f'Shape de data_train: {data_train.shape}')\n",
    "print (f'Shape de data_test: {data_test.shape}')"
   ]
  },
  {
   "attachments": {},
   "cell_type": "markdown",
   "metadata": {},
   "source": [
    "### Treinamento dos Modelos"
   ]
  },
  {
   "attachments": {},
   "cell_type": "markdown",
   "metadata": {},
   "source": [
    "⭐ nota\n",
    "<div style='color:#222200;background-color:#FFFFBB;padding:10px;'><table style='border:0px solid;width:100%'>\n",
    "<tr><td style=\"border:0px;font-size:60px;width:80px;background-color:#FFFFBB\">⭐</td><td style=\"border:0px;background-color:#FFFFBB;font-size:16px;\">\n",
    "- foram testados 6 algoritmos <br>\n",
    "- para cada algoritmo, foram testadas as principais variações dos seus hiperparâmetros<br>\n",
    "- a busca foi feita por otimização bayesiana, utilizando validação cruzada com 5 partições <br>\n",
    "- o particionamento do conjunto de validação foi feito com 20% dos registros disponíveis\n",
    "</td></tr></table></div>"
   ]
  },
  {
   "attachments": {},
   "cell_type": "markdown",
   "metadata": {},
   "source": [
    "#### rotinas de otimização"
   ]
  },
  {
   "cell_type": "code",
   "execution_count": 13,
   "metadata": {},
   "outputs": [],
   "source": [
    "# callback para salvar o melhor modelo\n",
    "def callback(\n",
    "\t\tstudy: opt.study.Study,\n",
    "\t\ttrial: opt.trial.FrozenTrial,\n",
    "\t) -> None:\n",
    "\tif study.best_trial.number == trial.number:\n",
    "\t\tstudy.set_user_attr(key='best_estimator', value=trial.user_attrs['estimator'])"
   ]
  },
  {
   "cell_type": "code",
   "execution_count": 14,
   "metadata": {},
   "outputs": [],
   "source": [
    "# plota os resultados da otimização e a avaliação do melhor modelo no dataset de teste\n",
    "def plot_optimization_results(\n",
    "\t\tstudy: opt.study.Study,\n",
    "\t\ty_test: pd.DataFrame,\n",
    "\t\ty_pred: np.ndarray,\n",
    "\t) -> None:\n",
    "\n",
    "\t# plota os resultados da otimização\n",
    "\tdisplay(opt.visualization.plot_optimization_history(study))\n",
    "\ttry:\n",
    "\t\tdisplay(opt.visualization.plot_param_importances(study))\n",
    "\texcept:\n",
    "\t\t...\n",
    "\t\n",
    "\t# imprime o melhor modelo\n",
    "\tprint (f'Best trial: {study.best_trial.value}')\n",
    "\tprint (f'Best parameters: {study.best_params}')"
   ]
  },
  {
   "cell_type": "code",
   "execution_count": 15,
   "metadata": {},
   "outputs": [],
   "source": [
    "# rotina de otimização bayesiana\n",
    "def optimize(\n",
    "\t\tobjective, #Callable,\n",
    "    description: str,\n",
    "    n_trials: int,\n",
    "\t\tX: pd.DataFrame,\n",
    "\t\ty: pd.DataFrame,\n",
    "\t\tX_test: pd.DataFrame,\n",
    "\t\ty_test: pd.DataFrame,\n",
    "\t) -> dict: \n",
    "        \n",
    "\t# cria o estudo e executa a otimização\n",
    "\tstudy = opt.create_study(direction='maximize')\n",
    "\tstudy.optimize(lambda trial:objective(trial, X, y),\n",
    "\t\tcallbacks=[callback], n_trials=n_trials, timeout=60*5, n_jobs=-1, show_progress_bar = True)\n",
    "\n",
    "\t# fita e salva o melhor modelo\n",
    "\tfit = study.user_attrs['best_estimator'].fit(X, y)\n",
    "\tjoblib.dump(fit, f'models/{description}.joblib')\n",
    "\n",
    "\t# avalia os resultados no conjunto de teste\n",
    "\ty_pred_val = fit.predict(X)\n",
    "\ty_pred = fit.predict(X_test)\n",
    "\tmetrics = {\n",
    "\t\t'validation': {\n",
    "\t\t\t'mae': mean_absolute_error(y, y_pred_val),\n",
    "\t\t\t'rmse': np.sqrt(mean_squared_error(y, y_pred_val)),\n",
    "\t\t\t'r2': r2_score(y, y_pred_val),\n",
    "\t\t\t# 'mape': mean_absolute_percentage_error(y, y_pred_val),\n",
    "\t\t},\n",
    "\t\t'test': {\n",
    "\t\t\t'mae': mean_absolute_error(y_test, y_pred),\n",
    "\t\t\t'rmse': np.sqrt(mean_squared_error(y_test, y_pred)),\n",
    "\t\t\t'r2': r2_score(y_test, y_pred),\n",
    "\t\t\t# 'mape': mean_absolute_percentage_error(y_test, y_pred),\n",
    "\t\t}\n",
    "\t}\n",
    "\tvalidation = pd.DataFrame(metrics['validation'], index=['validation'])\n",
    "\ttest = pd.DataFrame(metrics['test'], index=['test'])\n",
    "\tdisplay(pd.concat([validation, test], axis=0).T)\n",
    "\n",
    "\t# plota os resultados\n",
    "\tplot_optimization_results(study, y_test, y_pred)\n",
    "\t\n",
    "\treturn {\n",
    "\t\t'description': description,\n",
    "\t\t'metrics': metrics,\n",
    "\t\t'estimator': fit,\n",
    "\t\t'results': study.trials_dataframe(),\n",
    "\t\t'predictions': y_pred,\n",
    "\t}\n"
   ]
  },
  {
   "attachments": {},
   "cell_type": "markdown",
   "metadata": {},
   "source": [
    "⭐ nota\n",
    "<div style='color:#222200;background-color:#FFFFBB;padding:10px;'><table style='border:0px solid;width:100%'>\n",
    "<tr><td style=\"border:0px;font-size:60px;width:80px;background-color:#FFFFBB\">⭐</td><td style=\"border:0px;background-color:#FFFFBB;font-size:16px;\">\n",
    "foi utilizado o MSRE como métrica de avaliação\n",
    "</td></tr></table></div>"
   ]
  },
  {
   "attachments": {},
   "cell_type": "markdown",
   "metadata": {},
   "source": [
    "#### elasticnet"
   ]
  },
  {
   "cell_type": "code",
   "execution_count": 16,
   "metadata": {},
   "outputs": [
    {
     "data": {
      "application/vnd.jupyter.widget-view+json": {
       "model_id": "246fe8a3f51a436f822e4892da4e03f7",
       "version_major": 2,
       "version_minor": 0
      },
      "text/plain": [
       "  0%|          | 0/150 [00:00<?, ?it/s]"
      ]
     },
     "metadata": {},
     "output_type": "display_data"
    },
    {
     "data": {
      "text/html": [
       "<div>\n",
       "<style scoped>\n",
       "    .dataframe tbody tr th:only-of-type {\n",
       "        vertical-align: middle;\n",
       "    }\n",
       "\n",
       "    .dataframe tbody tr th {\n",
       "        vertical-align: top;\n",
       "    }\n",
       "\n",
       "    .dataframe thead th {\n",
       "        text-align: right;\n",
       "    }\n",
       "</style>\n",
       "<table border=\"1\" class=\"dataframe\">\n",
       "  <thead>\n",
       "    <tr style=\"text-align: right;\">\n",
       "      <th></th>\n",
       "      <th>validation</th>\n",
       "      <th>test</th>\n",
       "    </tr>\n",
       "  </thead>\n",
       "  <tbody>\n",
       "    <tr>\n",
       "      <th>mae</th>\n",
       "      <td>0.0732</td>\n",
       "      <td>0.0768</td>\n",
       "    </tr>\n",
       "    <tr>\n",
       "      <th>rmse</th>\n",
       "      <td>0.0909</td>\n",
       "      <td>0.0948</td>\n",
       "    </tr>\n",
       "    <tr>\n",
       "      <th>r2</th>\n",
       "      <td>0.4659</td>\n",
       "      <td>0.4491</td>\n",
       "    </tr>\n",
       "  </tbody>\n",
       "</table>\n",
       "</div>"
      ],
      "text/plain": [
       "      validation   test\n",
       "mae       0.0732 0.0768\n",
       "rmse      0.0909 0.0948\n",
       "r2        0.4659 0.4491"
      ]
     },
     "metadata": {},
     "output_type": "display_data"
    },
    {
     "data": {
      "application/vnd.plotly.v1+json": {
       "config": {
        "plotlyServerURL": "https://plot.ly"
       },
       "data": [
        {
         "mode": "markers",
         "name": "Objective Value",
         "type": "scatter",
         "x": [
          0,
          1,
          2,
          3,
          4,
          5,
          6,
          7,
          8,
          9,
          10,
          11,
          12,
          13,
          14,
          15,
          16,
          17,
          18,
          19,
          20,
          21,
          22,
          23,
          24,
          25,
          26,
          27,
          28,
          29,
          30,
          31,
          32,
          33,
          34,
          35,
          36,
          37,
          38,
          39,
          40,
          41,
          42,
          43,
          44,
          45,
          46,
          47,
          48,
          49,
          50,
          51,
          52,
          53,
          54,
          55,
          56,
          57,
          58,
          59,
          60,
          61,
          62,
          63,
          64,
          65,
          66,
          67,
          68,
          69,
          70,
          71,
          72,
          73,
          74,
          75,
          76,
          77,
          78,
          79,
          80,
          81,
          82,
          83,
          84,
          85,
          86,
          87,
          88,
          89,
          90,
          91,
          92,
          93,
          94,
          95,
          96,
          97,
          98,
          99,
          100,
          101,
          102,
          103,
          104,
          105,
          106,
          107,
          108,
          109,
          110,
          111,
          112,
          113,
          114,
          115,
          116,
          117,
          118,
          119,
          120,
          121,
          122,
          123,
          124,
          125,
          126,
          127,
          128,
          129,
          130,
          131,
          132,
          133,
          134,
          135,
          136,
          137,
          138,
          139,
          140,
          141,
          142,
          143,
          144,
          145,
          146,
          147,
          148,
          149
         ],
         "y": [
          -0.27493205836682366,
          -0.27813586332121265,
          -0.2749294212632963,
          -0.09118371248174649,
          -0.09118211176767767,
          -0.27734977122357607,
          -0.27616666840345366,
          -0.2749312909966995,
          -0.10231265093447002,
          -0.27501893631339314,
          -0.27492499856336633,
          -0.0911883328815869,
          -0.2763223361647395,
          -0.2749038151483315,
          -0.09190416350492513,
          -0.09308316736407715,
          -0.27493217660772196,
          -0.0911842576569322,
          -0.2749250999792824,
          -0.09118795730761967,
          -0.27493026091073675,
          -0.276101456311873,
          -0.2749325760505907,
          -0.09118385884077065,
          -0.0945329100981434,
          -0.09383269253011964,
          -0.27492488221314026,
          -0.09118461766205183,
          -0.27493076076535145,
          -0.2749325968904743,
          -0.27494283188940905,
          -0.09118187323092172,
          -0.10820071715285189,
          -0.09118909563251162,
          -0.09118914160785471,
          -0.0911891590474656,
          -0.09118916012031877,
          -0.09118910301817604,
          -0.09118868461019107,
          -0.09118912047431188,
          -0.09118872272623978,
          -0.09118791379565275,
          -0.09118735449398652,
          -0.0911885215197292,
          -0.09118889256832446,
          -0.09117940621939266,
          -0.0911877352128556,
          -0.09118023179847543,
          -0.09118736656497761,
          -0.09118782556915594,
          -0.09118139422196915,
          -0.09118405981507469,
          -0.0911883698867529,
          -0.09117908303848465,
          -0.09118031517783827,
          -0.09118259424057097,
          -0.09118132256576225,
          -0.09118000895195781,
          -0.09117971487324192,
          -0.09117876940060823,
          -0.09117873071862792,
          -0.09117866866433029,
          -0.0911792498156305,
          -0.09117872557587382,
          -0.09118309789074164,
          -0.09118368199535673,
          -0.09118410896203,
          -0.09118461222646283,
          -0.09118467469855993,
          -0.09118298360737111,
          -0.09118018836927518,
          -0.09148423110859108,
          -0.09118260012473621,
          -0.09118019867386871,
          -0.09117963805011316,
          -0.09117902822054143,
          -0.09118040231158306,
          -0.09117963763152323,
          -0.0911798067393961,
          -0.09117988973320411,
          -0.09118069200178652,
          -0.09118039601850211,
          -0.09118156507494722,
          -0.09118094860792188,
          -0.09118159841193776,
          -0.09118047188558193,
          -0.09120907275495871,
          -0.0911807581829069,
          -0.09118088063156102,
          -0.09120035301426928,
          -0.09121010728015252,
          -0.09121531803167052,
          -0.09120626898047035,
          -0.09120031363317121,
          -0.0911998380736169,
          -0.09121417670527311,
          -0.09122088982342433,
          -0.0912116818079619,
          -0.09120032613262316,
          -0.09118356877317232,
          -0.09120703151571957,
          -0.09120363448802071,
          -0.09120308946236422,
          -0.09120325124323088,
          -0.0912070590292097,
          -0.09118358429219016,
          -0.09120212803331516,
          -0.09118384957849177,
          -0.27492885330242195,
          -0.27492885701364006,
          -0.2749287130116896,
          -0.27492890831250993,
          -0.27492772318062436,
          -0.2749289050893224,
          -0.27492859615230203,
          -0.27492847469779413,
          -0.27492859729302566,
          -0.2749285502584898,
          -0.2749281879326363,
          -0.2749286873013203,
          -0.27492792218930256,
          -0.2749284202986346,
          -0.2749287208191908,
          -0.27492357556082037,
          -0.27492766196262985,
          -0.27492370129186694,
          -0.2749245079678828,
          -0.2749240607041252,
          -0.2749248980982229,
          -0.2749244129193011,
          -0.09117892997106174,
          -0.09117912115955848,
          -0.09117979491212047,
          -0.09117941022393397,
          -0.09117920265850685,
          -0.09117976995723855,
          -0.09117965173879863,
          -0.0911792176081193,
          -0.0911789960911242,
          -0.09117958817344395,
          -0.09117989332342159,
          -0.09117923533700004,
          -0.09117884384192457,
          -0.09117890832567818,
          -0.09117996449495483,
          -0.09117899596919415,
          -0.09117888098419506,
          -0.09117902956434046,
          -0.09117900869546097,
          -0.09117971730725662
         ]
        },
        {
         "name": "Best Value",
         "type": "scatter",
         "x": [
          0,
          1,
          2,
          3,
          4,
          5,
          6,
          7,
          8,
          9,
          10,
          11,
          12,
          13,
          14,
          15,
          16,
          17,
          18,
          19,
          20,
          21,
          22,
          23,
          24,
          25,
          26,
          27,
          28,
          29,
          30,
          31,
          32,
          33,
          34,
          35,
          36,
          37,
          38,
          39,
          40,
          41,
          42,
          43,
          44,
          45,
          46,
          47,
          48,
          49,
          50,
          51,
          52,
          53,
          54,
          55,
          56,
          57,
          58,
          59,
          60,
          61,
          62,
          63,
          64,
          65,
          66,
          67,
          68,
          69,
          70,
          71,
          72,
          73,
          74,
          75,
          76,
          77,
          78,
          79,
          80,
          81,
          82,
          83,
          84,
          85,
          86,
          87,
          88,
          89,
          90,
          91,
          92,
          93,
          94,
          95,
          96,
          97,
          98,
          99,
          100,
          101,
          102,
          103,
          104,
          105,
          106,
          107,
          108,
          109,
          110,
          111,
          112,
          113,
          114,
          115,
          116,
          117,
          118,
          119,
          120,
          121,
          122,
          123,
          124,
          125,
          126,
          127,
          128,
          129,
          130,
          131,
          132,
          133,
          134,
          135,
          136,
          137,
          138,
          139,
          140,
          141,
          142,
          143,
          144,
          145,
          146,
          147,
          148,
          149
         ],
         "y": [
          -0.27493205836682366,
          -0.27493205836682366,
          -0.2749294212632963,
          -0.09118371248174649,
          -0.09118211176767767,
          -0.09118211176767767,
          -0.09118211176767767,
          -0.09118211176767767,
          -0.09118211176767767,
          -0.09118211176767767,
          -0.09118211176767767,
          -0.09118211176767767,
          -0.09118211176767767,
          -0.09118211176767767,
          -0.09118211176767767,
          -0.09118211176767767,
          -0.09118211176767767,
          -0.09118211176767767,
          -0.09118211176767767,
          -0.09118211176767767,
          -0.09118211176767767,
          -0.09118211176767767,
          -0.09118211176767767,
          -0.09118211176767767,
          -0.09118211176767767,
          -0.09118211176767767,
          -0.09118211176767767,
          -0.09118211176767767,
          -0.09118211176767767,
          -0.09118211176767767,
          -0.09118211176767767,
          -0.09118187323092172,
          -0.09118187323092172,
          -0.09118187323092172,
          -0.09118187323092172,
          -0.09118187323092172,
          -0.09118187323092172,
          -0.09118187323092172,
          -0.09118187323092172,
          -0.09118187323092172,
          -0.09118187323092172,
          -0.09118187323092172,
          -0.09118187323092172,
          -0.09118187323092172,
          -0.09118187323092172,
          -0.09117940621939266,
          -0.09117940621939266,
          -0.09117940621939266,
          -0.09117940621939266,
          -0.09117940621939266,
          -0.09117940621939266,
          -0.09117940621939266,
          -0.09117940621939266,
          -0.09117908303848465,
          -0.09117908303848465,
          -0.09117908303848465,
          -0.09117908303848465,
          -0.09117908303848465,
          -0.09117908303848465,
          -0.09117876940060823,
          -0.09117873071862792,
          -0.09117866866433029,
          -0.09117866866433029,
          -0.09117866866433029,
          -0.09117866866433029,
          -0.09117866866433029,
          -0.09117866866433029,
          -0.09117866866433029,
          -0.09117866866433029,
          -0.09117866866433029,
          -0.09117866866433029,
          -0.09117866866433029,
          -0.09117866866433029,
          -0.09117866866433029,
          -0.09117866866433029,
          -0.09117866866433029,
          -0.09117866866433029,
          -0.09117866866433029,
          -0.09117866866433029,
          -0.09117866866433029,
          -0.09117866866433029,
          -0.09117866866433029,
          -0.09117866866433029,
          -0.09117866866433029,
          -0.09117866866433029,
          -0.09117866866433029,
          -0.09117866866433029,
          -0.09117866866433029,
          -0.09117866866433029,
          -0.09117866866433029,
          -0.09117866866433029,
          -0.09117866866433029,
          -0.09117866866433029,
          -0.09117866866433029,
          -0.09117866866433029,
          -0.09117866866433029,
          -0.09117866866433029,
          -0.09117866866433029,
          -0.09117866866433029,
          -0.09117866866433029,
          -0.09117866866433029,
          -0.09117866866433029,
          -0.09117866866433029,
          -0.09117866866433029,
          -0.09117866866433029,
          -0.09117866866433029,
          -0.09117866866433029,
          -0.09117866866433029,
          -0.09117866866433029,
          -0.09117866866433029,
          -0.09117866866433029,
          -0.09117866866433029,
          -0.09117866866433029,
          -0.09117866866433029,
          -0.09117866866433029,
          -0.09117866866433029,
          -0.09117866866433029,
          -0.09117866866433029,
          -0.09117866866433029,
          -0.09117866866433029,
          -0.09117866866433029,
          -0.09117866866433029,
          -0.09117866866433029,
          -0.09117866866433029,
          -0.09117866866433029,
          -0.09117866866433029,
          -0.09117866866433029,
          -0.09117866866433029,
          -0.09117866866433029,
          -0.09117866866433029,
          -0.09117866866433029,
          -0.09117866866433029,
          -0.09117866866433029,
          -0.09117866866433029,
          -0.09117866866433029,
          -0.09117866866433029,
          -0.09117866866433029,
          -0.09117866866433029,
          -0.09117866866433029,
          -0.09117866866433029,
          -0.09117866866433029,
          -0.09117866866433029,
          -0.09117866866433029,
          -0.09117866866433029,
          -0.09117866866433029,
          -0.09117866866433029,
          -0.09117866866433029,
          -0.09117866866433029,
          -0.09117866866433029,
          -0.09117866866433029
         ]
        }
       ],
       "layout": {
        "template": {
         "data": {
          "bar": [
           {
            "error_x": {
             "color": "#2a3f5f"
            },
            "error_y": {
             "color": "#2a3f5f"
            },
            "marker": {
             "line": {
              "color": "#E5ECF6",
              "width": 0.5
             },
             "pattern": {
              "fillmode": "overlay",
              "size": 10,
              "solidity": 0.2
             }
            },
            "type": "bar"
           }
          ],
          "barpolar": [
           {
            "marker": {
             "line": {
              "color": "#E5ECF6",
              "width": 0.5
             },
             "pattern": {
              "fillmode": "overlay",
              "size": 10,
              "solidity": 0.2
             }
            },
            "type": "barpolar"
           }
          ],
          "carpet": [
           {
            "aaxis": {
             "endlinecolor": "#2a3f5f",
             "gridcolor": "white",
             "linecolor": "white",
             "minorgridcolor": "white",
             "startlinecolor": "#2a3f5f"
            },
            "baxis": {
             "endlinecolor": "#2a3f5f",
             "gridcolor": "white",
             "linecolor": "white",
             "minorgridcolor": "white",
             "startlinecolor": "#2a3f5f"
            },
            "type": "carpet"
           }
          ],
          "choropleth": [
           {
            "colorbar": {
             "outlinewidth": 0,
             "ticks": ""
            },
            "type": "choropleth"
           }
          ],
          "contour": [
           {
            "colorbar": {
             "outlinewidth": 0,
             "ticks": ""
            },
            "colorscale": [
             [
              0,
              "#0d0887"
             ],
             [
              0.1111111111111111,
              "#46039f"
             ],
             [
              0.2222222222222222,
              "#7201a8"
             ],
             [
              0.3333333333333333,
              "#9c179e"
             ],
             [
              0.4444444444444444,
              "#bd3786"
             ],
             [
              0.5555555555555556,
              "#d8576b"
             ],
             [
              0.6666666666666666,
              "#ed7953"
             ],
             [
              0.7777777777777778,
              "#fb9f3a"
             ],
             [
              0.8888888888888888,
              "#fdca26"
             ],
             [
              1,
              "#f0f921"
             ]
            ],
            "type": "contour"
           }
          ],
          "contourcarpet": [
           {
            "colorbar": {
             "outlinewidth": 0,
             "ticks": ""
            },
            "type": "contourcarpet"
           }
          ],
          "heatmap": [
           {
            "colorbar": {
             "outlinewidth": 0,
             "ticks": ""
            },
            "colorscale": [
             [
              0,
              "#0d0887"
             ],
             [
              0.1111111111111111,
              "#46039f"
             ],
             [
              0.2222222222222222,
              "#7201a8"
             ],
             [
              0.3333333333333333,
              "#9c179e"
             ],
             [
              0.4444444444444444,
              "#bd3786"
             ],
             [
              0.5555555555555556,
              "#d8576b"
             ],
             [
              0.6666666666666666,
              "#ed7953"
             ],
             [
              0.7777777777777778,
              "#fb9f3a"
             ],
             [
              0.8888888888888888,
              "#fdca26"
             ],
             [
              1,
              "#f0f921"
             ]
            ],
            "type": "heatmap"
           }
          ],
          "heatmapgl": [
           {
            "colorbar": {
             "outlinewidth": 0,
             "ticks": ""
            },
            "colorscale": [
             [
              0,
              "#0d0887"
             ],
             [
              0.1111111111111111,
              "#46039f"
             ],
             [
              0.2222222222222222,
              "#7201a8"
             ],
             [
              0.3333333333333333,
              "#9c179e"
             ],
             [
              0.4444444444444444,
              "#bd3786"
             ],
             [
              0.5555555555555556,
              "#d8576b"
             ],
             [
              0.6666666666666666,
              "#ed7953"
             ],
             [
              0.7777777777777778,
              "#fb9f3a"
             ],
             [
              0.8888888888888888,
              "#fdca26"
             ],
             [
              1,
              "#f0f921"
             ]
            ],
            "type": "heatmapgl"
           }
          ],
          "histogram": [
           {
            "marker": {
             "pattern": {
              "fillmode": "overlay",
              "size": 10,
              "solidity": 0.2
             }
            },
            "type": "histogram"
           }
          ],
          "histogram2d": [
           {
            "colorbar": {
             "outlinewidth": 0,
             "ticks": ""
            },
            "colorscale": [
             [
              0,
              "#0d0887"
             ],
             [
              0.1111111111111111,
              "#46039f"
             ],
             [
              0.2222222222222222,
              "#7201a8"
             ],
             [
              0.3333333333333333,
              "#9c179e"
             ],
             [
              0.4444444444444444,
              "#bd3786"
             ],
             [
              0.5555555555555556,
              "#d8576b"
             ],
             [
              0.6666666666666666,
              "#ed7953"
             ],
             [
              0.7777777777777778,
              "#fb9f3a"
             ],
             [
              0.8888888888888888,
              "#fdca26"
             ],
             [
              1,
              "#f0f921"
             ]
            ],
            "type": "histogram2d"
           }
          ],
          "histogram2dcontour": [
           {
            "colorbar": {
             "outlinewidth": 0,
             "ticks": ""
            },
            "colorscale": [
             [
              0,
              "#0d0887"
             ],
             [
              0.1111111111111111,
              "#46039f"
             ],
             [
              0.2222222222222222,
              "#7201a8"
             ],
             [
              0.3333333333333333,
              "#9c179e"
             ],
             [
              0.4444444444444444,
              "#bd3786"
             ],
             [
              0.5555555555555556,
              "#d8576b"
             ],
             [
              0.6666666666666666,
              "#ed7953"
             ],
             [
              0.7777777777777778,
              "#fb9f3a"
             ],
             [
              0.8888888888888888,
              "#fdca26"
             ],
             [
              1,
              "#f0f921"
             ]
            ],
            "type": "histogram2dcontour"
           }
          ],
          "mesh3d": [
           {
            "colorbar": {
             "outlinewidth": 0,
             "ticks": ""
            },
            "type": "mesh3d"
           }
          ],
          "parcoords": [
           {
            "line": {
             "colorbar": {
              "outlinewidth": 0,
              "ticks": ""
             }
            },
            "type": "parcoords"
           }
          ],
          "pie": [
           {
            "automargin": true,
            "type": "pie"
           }
          ],
          "scatter": [
           {
            "fillpattern": {
             "fillmode": "overlay",
             "size": 10,
             "solidity": 0.2
            },
            "type": "scatter"
           }
          ],
          "scatter3d": [
           {
            "line": {
             "colorbar": {
              "outlinewidth": 0,
              "ticks": ""
             }
            },
            "marker": {
             "colorbar": {
              "outlinewidth": 0,
              "ticks": ""
             }
            },
            "type": "scatter3d"
           }
          ],
          "scattercarpet": [
           {
            "marker": {
             "colorbar": {
              "outlinewidth": 0,
              "ticks": ""
             }
            },
            "type": "scattercarpet"
           }
          ],
          "scattergeo": [
           {
            "marker": {
             "colorbar": {
              "outlinewidth": 0,
              "ticks": ""
             }
            },
            "type": "scattergeo"
           }
          ],
          "scattergl": [
           {
            "marker": {
             "colorbar": {
              "outlinewidth": 0,
              "ticks": ""
             }
            },
            "type": "scattergl"
           }
          ],
          "scattermapbox": [
           {
            "marker": {
             "colorbar": {
              "outlinewidth": 0,
              "ticks": ""
             }
            },
            "type": "scattermapbox"
           }
          ],
          "scatterpolar": [
           {
            "marker": {
             "colorbar": {
              "outlinewidth": 0,
              "ticks": ""
             }
            },
            "type": "scatterpolar"
           }
          ],
          "scatterpolargl": [
           {
            "marker": {
             "colorbar": {
              "outlinewidth": 0,
              "ticks": ""
             }
            },
            "type": "scatterpolargl"
           }
          ],
          "scatterternary": [
           {
            "marker": {
             "colorbar": {
              "outlinewidth": 0,
              "ticks": ""
             }
            },
            "type": "scatterternary"
           }
          ],
          "surface": [
           {
            "colorbar": {
             "outlinewidth": 0,
             "ticks": ""
            },
            "colorscale": [
             [
              0,
              "#0d0887"
             ],
             [
              0.1111111111111111,
              "#46039f"
             ],
             [
              0.2222222222222222,
              "#7201a8"
             ],
             [
              0.3333333333333333,
              "#9c179e"
             ],
             [
              0.4444444444444444,
              "#bd3786"
             ],
             [
              0.5555555555555556,
              "#d8576b"
             ],
             [
              0.6666666666666666,
              "#ed7953"
             ],
             [
              0.7777777777777778,
              "#fb9f3a"
             ],
             [
              0.8888888888888888,
              "#fdca26"
             ],
             [
              1,
              "#f0f921"
             ]
            ],
            "type": "surface"
           }
          ],
          "table": [
           {
            "cells": {
             "fill": {
              "color": "#EBF0F8"
             },
             "line": {
              "color": "white"
             }
            },
            "header": {
             "fill": {
              "color": "#C8D4E3"
             },
             "line": {
              "color": "white"
             }
            },
            "type": "table"
           }
          ]
         },
         "layout": {
          "annotationdefaults": {
           "arrowcolor": "#2a3f5f",
           "arrowhead": 0,
           "arrowwidth": 1
          },
          "autotypenumbers": "strict",
          "coloraxis": {
           "colorbar": {
            "outlinewidth": 0,
            "ticks": ""
           }
          },
          "colorscale": {
           "diverging": [
            [
             0,
             "#8e0152"
            ],
            [
             0.1,
             "#c51b7d"
            ],
            [
             0.2,
             "#de77ae"
            ],
            [
             0.3,
             "#f1b6da"
            ],
            [
             0.4,
             "#fde0ef"
            ],
            [
             0.5,
             "#f7f7f7"
            ],
            [
             0.6,
             "#e6f5d0"
            ],
            [
             0.7,
             "#b8e186"
            ],
            [
             0.8,
             "#7fbc41"
            ],
            [
             0.9,
             "#4d9221"
            ],
            [
             1,
             "#276419"
            ]
           ],
           "sequential": [
            [
             0,
             "#0d0887"
            ],
            [
             0.1111111111111111,
             "#46039f"
            ],
            [
             0.2222222222222222,
             "#7201a8"
            ],
            [
             0.3333333333333333,
             "#9c179e"
            ],
            [
             0.4444444444444444,
             "#bd3786"
            ],
            [
             0.5555555555555556,
             "#d8576b"
            ],
            [
             0.6666666666666666,
             "#ed7953"
            ],
            [
             0.7777777777777778,
             "#fb9f3a"
            ],
            [
             0.8888888888888888,
             "#fdca26"
            ],
            [
             1,
             "#f0f921"
            ]
           ],
           "sequentialminus": [
            [
             0,
             "#0d0887"
            ],
            [
             0.1111111111111111,
             "#46039f"
            ],
            [
             0.2222222222222222,
             "#7201a8"
            ],
            [
             0.3333333333333333,
             "#9c179e"
            ],
            [
             0.4444444444444444,
             "#bd3786"
            ],
            [
             0.5555555555555556,
             "#d8576b"
            ],
            [
             0.6666666666666666,
             "#ed7953"
            ],
            [
             0.7777777777777778,
             "#fb9f3a"
            ],
            [
             0.8888888888888888,
             "#fdca26"
            ],
            [
             1,
             "#f0f921"
            ]
           ]
          },
          "colorway": [
           "#636efa",
           "#EF553B",
           "#00cc96",
           "#ab63fa",
           "#FFA15A",
           "#19d3f3",
           "#FF6692",
           "#B6E880",
           "#FF97FF",
           "#FECB52"
          ],
          "font": {
           "color": "#2a3f5f"
          },
          "geo": {
           "bgcolor": "white",
           "lakecolor": "white",
           "landcolor": "#E5ECF6",
           "showlakes": true,
           "showland": true,
           "subunitcolor": "white"
          },
          "hoverlabel": {
           "align": "left"
          },
          "hovermode": "closest",
          "mapbox": {
           "style": "light"
          },
          "paper_bgcolor": "white",
          "plot_bgcolor": "#E5ECF6",
          "polar": {
           "angularaxis": {
            "gridcolor": "white",
            "linecolor": "white",
            "ticks": ""
           },
           "bgcolor": "#E5ECF6",
           "radialaxis": {
            "gridcolor": "white",
            "linecolor": "white",
            "ticks": ""
           }
          },
          "scene": {
           "xaxis": {
            "backgroundcolor": "#E5ECF6",
            "gridcolor": "white",
            "gridwidth": 2,
            "linecolor": "white",
            "showbackground": true,
            "ticks": "",
            "zerolinecolor": "white"
           },
           "yaxis": {
            "backgroundcolor": "#E5ECF6",
            "gridcolor": "white",
            "gridwidth": 2,
            "linecolor": "white",
            "showbackground": true,
            "ticks": "",
            "zerolinecolor": "white"
           },
           "zaxis": {
            "backgroundcolor": "#E5ECF6",
            "gridcolor": "white",
            "gridwidth": 2,
            "linecolor": "white",
            "showbackground": true,
            "ticks": "",
            "zerolinecolor": "white"
           }
          },
          "shapedefaults": {
           "line": {
            "color": "#2a3f5f"
           }
          },
          "ternary": {
           "aaxis": {
            "gridcolor": "white",
            "linecolor": "white",
            "ticks": ""
           },
           "baxis": {
            "gridcolor": "white",
            "linecolor": "white",
            "ticks": ""
           },
           "bgcolor": "#E5ECF6",
           "caxis": {
            "gridcolor": "white",
            "linecolor": "white",
            "ticks": ""
           }
          },
          "title": {
           "x": 0.05
          },
          "xaxis": {
           "automargin": true,
           "gridcolor": "white",
           "linecolor": "white",
           "ticks": "",
           "title": {
            "standoff": 15
           },
           "zerolinecolor": "white",
           "zerolinewidth": 2
          },
          "yaxis": {
           "automargin": true,
           "gridcolor": "white",
           "linecolor": "white",
           "ticks": "",
           "title": {
            "standoff": 15
           },
           "zerolinecolor": "white",
           "zerolinewidth": 2
          }
         }
        },
        "title": {
         "text": "Optimization History Plot"
        },
        "xaxis": {
         "title": {
          "text": "Trial"
         }
        },
        "yaxis": {
         "title": {
          "text": "Objective Value"
         }
        }
       }
      }
     },
     "metadata": {},
     "output_type": "display_data"
    },
    {
     "data": {
      "application/vnd.plotly.v1+json": {
       "config": {
        "plotlyServerURL": "https://plot.ly"
       },
       "data": [
        {
         "cliponaxis": false,
         "hovertemplate": [
          "l1_ratio (FloatDistribution): 3.4311132547934865e-05<extra></extra>",
          "alpha (FloatDistribution): 0.0011518120015131719<extra></extra>",
          "fit_intercept (CategoricalDistribution): 0.9988138768659389<extra></extra>"
         ],
         "marker": {
          "color": "rgb(66,146,198)"
         },
         "orientation": "h",
         "text": [
          "<0.01",
          "<0.01",
          "1.00"
         ],
         "textposition": "outside",
         "type": "bar",
         "x": [
          0.000034311132547934865,
          0.0011518120015131719,
          0.9988138768659389
         ],
         "y": [
          "l1_ratio",
          "alpha",
          "fit_intercept"
         ]
        }
       ],
       "layout": {
        "showlegend": false,
        "template": {
         "data": {
          "bar": [
           {
            "error_x": {
             "color": "#2a3f5f"
            },
            "error_y": {
             "color": "#2a3f5f"
            },
            "marker": {
             "line": {
              "color": "#E5ECF6",
              "width": 0.5
             },
             "pattern": {
              "fillmode": "overlay",
              "size": 10,
              "solidity": 0.2
             }
            },
            "type": "bar"
           }
          ],
          "barpolar": [
           {
            "marker": {
             "line": {
              "color": "#E5ECF6",
              "width": 0.5
             },
             "pattern": {
              "fillmode": "overlay",
              "size": 10,
              "solidity": 0.2
             }
            },
            "type": "barpolar"
           }
          ],
          "carpet": [
           {
            "aaxis": {
             "endlinecolor": "#2a3f5f",
             "gridcolor": "white",
             "linecolor": "white",
             "minorgridcolor": "white",
             "startlinecolor": "#2a3f5f"
            },
            "baxis": {
             "endlinecolor": "#2a3f5f",
             "gridcolor": "white",
             "linecolor": "white",
             "minorgridcolor": "white",
             "startlinecolor": "#2a3f5f"
            },
            "type": "carpet"
           }
          ],
          "choropleth": [
           {
            "colorbar": {
             "outlinewidth": 0,
             "ticks": ""
            },
            "type": "choropleth"
           }
          ],
          "contour": [
           {
            "colorbar": {
             "outlinewidth": 0,
             "ticks": ""
            },
            "colorscale": [
             [
              0,
              "#0d0887"
             ],
             [
              0.1111111111111111,
              "#46039f"
             ],
             [
              0.2222222222222222,
              "#7201a8"
             ],
             [
              0.3333333333333333,
              "#9c179e"
             ],
             [
              0.4444444444444444,
              "#bd3786"
             ],
             [
              0.5555555555555556,
              "#d8576b"
             ],
             [
              0.6666666666666666,
              "#ed7953"
             ],
             [
              0.7777777777777778,
              "#fb9f3a"
             ],
             [
              0.8888888888888888,
              "#fdca26"
             ],
             [
              1,
              "#f0f921"
             ]
            ],
            "type": "contour"
           }
          ],
          "contourcarpet": [
           {
            "colorbar": {
             "outlinewidth": 0,
             "ticks": ""
            },
            "type": "contourcarpet"
           }
          ],
          "heatmap": [
           {
            "colorbar": {
             "outlinewidth": 0,
             "ticks": ""
            },
            "colorscale": [
             [
              0,
              "#0d0887"
             ],
             [
              0.1111111111111111,
              "#46039f"
             ],
             [
              0.2222222222222222,
              "#7201a8"
             ],
             [
              0.3333333333333333,
              "#9c179e"
             ],
             [
              0.4444444444444444,
              "#bd3786"
             ],
             [
              0.5555555555555556,
              "#d8576b"
             ],
             [
              0.6666666666666666,
              "#ed7953"
             ],
             [
              0.7777777777777778,
              "#fb9f3a"
             ],
             [
              0.8888888888888888,
              "#fdca26"
             ],
             [
              1,
              "#f0f921"
             ]
            ],
            "type": "heatmap"
           }
          ],
          "heatmapgl": [
           {
            "colorbar": {
             "outlinewidth": 0,
             "ticks": ""
            },
            "colorscale": [
             [
              0,
              "#0d0887"
             ],
             [
              0.1111111111111111,
              "#46039f"
             ],
             [
              0.2222222222222222,
              "#7201a8"
             ],
             [
              0.3333333333333333,
              "#9c179e"
             ],
             [
              0.4444444444444444,
              "#bd3786"
             ],
             [
              0.5555555555555556,
              "#d8576b"
             ],
             [
              0.6666666666666666,
              "#ed7953"
             ],
             [
              0.7777777777777778,
              "#fb9f3a"
             ],
             [
              0.8888888888888888,
              "#fdca26"
             ],
             [
              1,
              "#f0f921"
             ]
            ],
            "type": "heatmapgl"
           }
          ],
          "histogram": [
           {
            "marker": {
             "pattern": {
              "fillmode": "overlay",
              "size": 10,
              "solidity": 0.2
             }
            },
            "type": "histogram"
           }
          ],
          "histogram2d": [
           {
            "colorbar": {
             "outlinewidth": 0,
             "ticks": ""
            },
            "colorscale": [
             [
              0,
              "#0d0887"
             ],
             [
              0.1111111111111111,
              "#46039f"
             ],
             [
              0.2222222222222222,
              "#7201a8"
             ],
             [
              0.3333333333333333,
              "#9c179e"
             ],
             [
              0.4444444444444444,
              "#bd3786"
             ],
             [
              0.5555555555555556,
              "#d8576b"
             ],
             [
              0.6666666666666666,
              "#ed7953"
             ],
             [
              0.7777777777777778,
              "#fb9f3a"
             ],
             [
              0.8888888888888888,
              "#fdca26"
             ],
             [
              1,
              "#f0f921"
             ]
            ],
            "type": "histogram2d"
           }
          ],
          "histogram2dcontour": [
           {
            "colorbar": {
             "outlinewidth": 0,
             "ticks": ""
            },
            "colorscale": [
             [
              0,
              "#0d0887"
             ],
             [
              0.1111111111111111,
              "#46039f"
             ],
             [
              0.2222222222222222,
              "#7201a8"
             ],
             [
              0.3333333333333333,
              "#9c179e"
             ],
             [
              0.4444444444444444,
              "#bd3786"
             ],
             [
              0.5555555555555556,
              "#d8576b"
             ],
             [
              0.6666666666666666,
              "#ed7953"
             ],
             [
              0.7777777777777778,
              "#fb9f3a"
             ],
             [
              0.8888888888888888,
              "#fdca26"
             ],
             [
              1,
              "#f0f921"
             ]
            ],
            "type": "histogram2dcontour"
           }
          ],
          "mesh3d": [
           {
            "colorbar": {
             "outlinewidth": 0,
             "ticks": ""
            },
            "type": "mesh3d"
           }
          ],
          "parcoords": [
           {
            "line": {
             "colorbar": {
              "outlinewidth": 0,
              "ticks": ""
             }
            },
            "type": "parcoords"
           }
          ],
          "pie": [
           {
            "automargin": true,
            "type": "pie"
           }
          ],
          "scatter": [
           {
            "fillpattern": {
             "fillmode": "overlay",
             "size": 10,
             "solidity": 0.2
            },
            "type": "scatter"
           }
          ],
          "scatter3d": [
           {
            "line": {
             "colorbar": {
              "outlinewidth": 0,
              "ticks": ""
             }
            },
            "marker": {
             "colorbar": {
              "outlinewidth": 0,
              "ticks": ""
             }
            },
            "type": "scatter3d"
           }
          ],
          "scattercarpet": [
           {
            "marker": {
             "colorbar": {
              "outlinewidth": 0,
              "ticks": ""
             }
            },
            "type": "scattercarpet"
           }
          ],
          "scattergeo": [
           {
            "marker": {
             "colorbar": {
              "outlinewidth": 0,
              "ticks": ""
             }
            },
            "type": "scattergeo"
           }
          ],
          "scattergl": [
           {
            "marker": {
             "colorbar": {
              "outlinewidth": 0,
              "ticks": ""
             }
            },
            "type": "scattergl"
           }
          ],
          "scattermapbox": [
           {
            "marker": {
             "colorbar": {
              "outlinewidth": 0,
              "ticks": ""
             }
            },
            "type": "scattermapbox"
           }
          ],
          "scatterpolar": [
           {
            "marker": {
             "colorbar": {
              "outlinewidth": 0,
              "ticks": ""
             }
            },
            "type": "scatterpolar"
           }
          ],
          "scatterpolargl": [
           {
            "marker": {
             "colorbar": {
              "outlinewidth": 0,
              "ticks": ""
             }
            },
            "type": "scatterpolargl"
           }
          ],
          "scatterternary": [
           {
            "marker": {
             "colorbar": {
              "outlinewidth": 0,
              "ticks": ""
             }
            },
            "type": "scatterternary"
           }
          ],
          "surface": [
           {
            "colorbar": {
             "outlinewidth": 0,
             "ticks": ""
            },
            "colorscale": [
             [
              0,
              "#0d0887"
             ],
             [
              0.1111111111111111,
              "#46039f"
             ],
             [
              0.2222222222222222,
              "#7201a8"
             ],
             [
              0.3333333333333333,
              "#9c179e"
             ],
             [
              0.4444444444444444,
              "#bd3786"
             ],
             [
              0.5555555555555556,
              "#d8576b"
             ],
             [
              0.6666666666666666,
              "#ed7953"
             ],
             [
              0.7777777777777778,
              "#fb9f3a"
             ],
             [
              0.8888888888888888,
              "#fdca26"
             ],
             [
              1,
              "#f0f921"
             ]
            ],
            "type": "surface"
           }
          ],
          "table": [
           {
            "cells": {
             "fill": {
              "color": "#EBF0F8"
             },
             "line": {
              "color": "white"
             }
            },
            "header": {
             "fill": {
              "color": "#C8D4E3"
             },
             "line": {
              "color": "white"
             }
            },
            "type": "table"
           }
          ]
         },
         "layout": {
          "annotationdefaults": {
           "arrowcolor": "#2a3f5f",
           "arrowhead": 0,
           "arrowwidth": 1
          },
          "autotypenumbers": "strict",
          "coloraxis": {
           "colorbar": {
            "outlinewidth": 0,
            "ticks": ""
           }
          },
          "colorscale": {
           "diverging": [
            [
             0,
             "#8e0152"
            ],
            [
             0.1,
             "#c51b7d"
            ],
            [
             0.2,
             "#de77ae"
            ],
            [
             0.3,
             "#f1b6da"
            ],
            [
             0.4,
             "#fde0ef"
            ],
            [
             0.5,
             "#f7f7f7"
            ],
            [
             0.6,
             "#e6f5d0"
            ],
            [
             0.7,
             "#b8e186"
            ],
            [
             0.8,
             "#7fbc41"
            ],
            [
             0.9,
             "#4d9221"
            ],
            [
             1,
             "#276419"
            ]
           ],
           "sequential": [
            [
             0,
             "#0d0887"
            ],
            [
             0.1111111111111111,
             "#46039f"
            ],
            [
             0.2222222222222222,
             "#7201a8"
            ],
            [
             0.3333333333333333,
             "#9c179e"
            ],
            [
             0.4444444444444444,
             "#bd3786"
            ],
            [
             0.5555555555555556,
             "#d8576b"
            ],
            [
             0.6666666666666666,
             "#ed7953"
            ],
            [
             0.7777777777777778,
             "#fb9f3a"
            ],
            [
             0.8888888888888888,
             "#fdca26"
            ],
            [
             1,
             "#f0f921"
            ]
           ],
           "sequentialminus": [
            [
             0,
             "#0d0887"
            ],
            [
             0.1111111111111111,
             "#46039f"
            ],
            [
             0.2222222222222222,
             "#7201a8"
            ],
            [
             0.3333333333333333,
             "#9c179e"
            ],
            [
             0.4444444444444444,
             "#bd3786"
            ],
            [
             0.5555555555555556,
             "#d8576b"
            ],
            [
             0.6666666666666666,
             "#ed7953"
            ],
            [
             0.7777777777777778,
             "#fb9f3a"
            ],
            [
             0.8888888888888888,
             "#fdca26"
            ],
            [
             1,
             "#f0f921"
            ]
           ]
          },
          "colorway": [
           "#636efa",
           "#EF553B",
           "#00cc96",
           "#ab63fa",
           "#FFA15A",
           "#19d3f3",
           "#FF6692",
           "#B6E880",
           "#FF97FF",
           "#FECB52"
          ],
          "font": {
           "color": "#2a3f5f"
          },
          "geo": {
           "bgcolor": "white",
           "lakecolor": "white",
           "landcolor": "#E5ECF6",
           "showlakes": true,
           "showland": true,
           "subunitcolor": "white"
          },
          "hoverlabel": {
           "align": "left"
          },
          "hovermode": "closest",
          "mapbox": {
           "style": "light"
          },
          "paper_bgcolor": "white",
          "plot_bgcolor": "#E5ECF6",
          "polar": {
           "angularaxis": {
            "gridcolor": "white",
            "linecolor": "white",
            "ticks": ""
           },
           "bgcolor": "#E5ECF6",
           "radialaxis": {
            "gridcolor": "white",
            "linecolor": "white",
            "ticks": ""
           }
          },
          "scene": {
           "xaxis": {
            "backgroundcolor": "#E5ECF6",
            "gridcolor": "white",
            "gridwidth": 2,
            "linecolor": "white",
            "showbackground": true,
            "ticks": "",
            "zerolinecolor": "white"
           },
           "yaxis": {
            "backgroundcolor": "#E5ECF6",
            "gridcolor": "white",
            "gridwidth": 2,
            "linecolor": "white",
            "showbackground": true,
            "ticks": "",
            "zerolinecolor": "white"
           },
           "zaxis": {
            "backgroundcolor": "#E5ECF6",
            "gridcolor": "white",
            "gridwidth": 2,
            "linecolor": "white",
            "showbackground": true,
            "ticks": "",
            "zerolinecolor": "white"
           }
          },
          "shapedefaults": {
           "line": {
            "color": "#2a3f5f"
           }
          },
          "ternary": {
           "aaxis": {
            "gridcolor": "white",
            "linecolor": "white",
            "ticks": ""
           },
           "baxis": {
            "gridcolor": "white",
            "linecolor": "white",
            "ticks": ""
           },
           "bgcolor": "#E5ECF6",
           "caxis": {
            "gridcolor": "white",
            "linecolor": "white",
            "ticks": ""
           }
          },
          "title": {
           "x": 0.05
          },
          "xaxis": {
           "automargin": true,
           "gridcolor": "white",
           "linecolor": "white",
           "ticks": "",
           "title": {
            "standoff": 15
           },
           "zerolinecolor": "white",
           "zerolinewidth": 2
          },
          "yaxis": {
           "automargin": true,
           "gridcolor": "white",
           "linecolor": "white",
           "ticks": "",
           "title": {
            "standoff": 15
           },
           "zerolinecolor": "white",
           "zerolinewidth": 2
          }
         }
        },
        "title": {
         "text": "Hyperparameter Importances"
        },
        "xaxis": {
         "title": {
          "text": "Importance for Objective Value"
         }
        },
        "yaxis": {
         "title": {
          "text": "Hyperparameter"
         }
        }
       }
      }
     },
     "metadata": {},
     "output_type": "display_data"
    },
    {
     "name": "stdout",
     "output_type": "stream",
     "text": [
      "Best trial: -0.09117866866433029\n",
      "Best parameters: {'alpha': 0.0002795700407476795, 'l1_ratio': 0.8223086377059292, 'fit_intercept': True}\n"
     ]
    }
   ],
   "source": [
    "# define o espaço de busca e a função objetivo\n",
    "def objective_elasticnet(\n",
    "\t\ttrial: opt.trial.Trial,\n",
    "\t\tX: pd.DataFrame,\n",
    "\t\ty: pd.DataFrame,\n",
    "\t) -> float:\n",
    "\testimator = ElasticNet(\n",
    "\t\talpha=trial.suggest_loguniform('alpha', 1e-5, 1e-1),\n",
    "\t\tl1_ratio=trial.suggest_uniform('l1_ratio', 0.0, 1.0),\n",
    "\t\tfit_intercept=trial.suggest_categorical('fit_intercept', [True, False]),\n",
    "\t)\n",
    "\ttrial.set_user_attr(key='estimator', value=estimator)\n",
    "\tscore = cross_val_score(estimator, X, y, n_jobs=-1, cv=5, scoring='neg_root_mean_squared_error')\n",
    "\treturn score.mean()\n",
    "\n",
    "np.seterr(divide='ignore', invalid='ignore')\n",
    "\n",
    "# rotina de otimização bayesiana\n",
    "elasticnet_model = optimize(\n",
    "\tobjective=objective_elasticnet, \n",
    "\tdescription='elasticnet_risk', n_trials=150,\n",
    "\tX=data_train, y=targets_train, X_test=data_test, y_test=targets_test,)"
   ]
  },
  {
   "attachments": {},
   "cell_type": "markdown",
   "metadata": {},
   "source": [
    "#### random forest"
   ]
  },
  {
   "cell_type": "code",
   "execution_count": 17,
   "metadata": {},
   "outputs": [
    {
     "data": {
      "application/vnd.jupyter.widget-view+json": {
       "model_id": "84aec70addea43088c17b9c4785ce416",
       "version_major": 2,
       "version_minor": 0
      },
      "text/plain": [
       "  0%|          | 0/100 [00:00<?, ?it/s]"
      ]
     },
     "metadata": {},
     "output_type": "display_data"
    },
    {
     "data": {
      "text/html": [
       "<div>\n",
       "<style scoped>\n",
       "    .dataframe tbody tr th:only-of-type {\n",
       "        vertical-align: middle;\n",
       "    }\n",
       "\n",
       "    .dataframe tbody tr th {\n",
       "        vertical-align: top;\n",
       "    }\n",
       "\n",
       "    .dataframe thead th {\n",
       "        text-align: right;\n",
       "    }\n",
       "</style>\n",
       "<table border=\"1\" class=\"dataframe\">\n",
       "  <thead>\n",
       "    <tr style=\"text-align: right;\">\n",
       "      <th></th>\n",
       "      <th>validation</th>\n",
       "      <th>test</th>\n",
       "    </tr>\n",
       "  </thead>\n",
       "  <tbody>\n",
       "    <tr>\n",
       "      <th>mae</th>\n",
       "      <td>0.0180</td>\n",
       "      <td>0.0358</td>\n",
       "    </tr>\n",
       "    <tr>\n",
       "      <th>rmse</th>\n",
       "      <td>0.0258</td>\n",
       "      <td>0.0505</td>\n",
       "    </tr>\n",
       "    <tr>\n",
       "      <th>r2</th>\n",
       "      <td>0.9570</td>\n",
       "      <td>0.8437</td>\n",
       "    </tr>\n",
       "  </tbody>\n",
       "</table>\n",
       "</div>"
      ],
      "text/plain": [
       "      validation   test\n",
       "mae       0.0180 0.0358\n",
       "rmse      0.0258 0.0505\n",
       "r2        0.9570 0.8437"
      ]
     },
     "metadata": {},
     "output_type": "display_data"
    },
    {
     "data": {
      "application/vnd.plotly.v1+json": {
       "config": {
        "plotlyServerURL": "https://plot.ly"
       },
       "data": [
        {
         "mode": "markers",
         "name": "Objective Value",
         "type": "scatter",
         "x": [
          0,
          1,
          2,
          3,
          4,
          5,
          6,
          7,
          8,
          9,
          10,
          11,
          12,
          13,
          14,
          15,
          16,
          17,
          18,
          19,
          20,
          21,
          22,
          23,
          24,
          25,
          26,
          27,
          28,
          29,
          30,
          31,
          32,
          33,
          34,
          35,
          36,
          37,
          38,
          39,
          40,
          41,
          42,
          43,
          44,
          45,
          46,
          47,
          48,
          49,
          50,
          51,
          52,
          53,
          54,
          55,
          56,
          57,
          58,
          59,
          60,
          61,
          62,
          63,
          64,
          65,
          66,
          67,
          68,
          69,
          70,
          71,
          72,
          73,
          74,
          75,
          76,
          77,
          78,
          79,
          80,
          81,
          82,
          83,
          84,
          85,
          86,
          87,
          88,
          89,
          90,
          91,
          92,
          93,
          94,
          95,
          96,
          97,
          98,
          99
         ],
         "y": [
          -0.0645005454585715,
          -0.06131236137882519,
          -0.06335143111108074,
          -0.0691792402737501,
          -0.06533064313077996,
          -0.058548916733052056,
          -0.057276470198770614,
          -0.07114259271848782,
          -0.06454293870279139,
          -0.06610787250063901,
          -0.060580648294696074,
          -0.052844310390613936,
          -0.0708283931689491,
          -0.06459665709075824,
          -0.06632027919286537,
          -0.06667038366794233,
          -0.06931372508424534,
          -0.05872423774649545,
          -0.06469915713795246,
          -0.06343422832190516,
          -0.06434998965942271,
          -0.06495740148009452,
          -0.06528527354579136,
          -0.07060845547486634,
          -0.05974491306634956,
          -0.05979265520764271,
          -0.06562480312997748,
          -0.06012658382812615,
          -0.06371440695622707,
          -0.05922987222796485,
          -0.062129993412065807,
          -0.06471604405951513,
          -0.06586044047538799,
          -0.06923267792524603,
          -0.060053522779407856,
          -0.06014422844048199,
          -0.060029194528310695,
          -0.06329458955458263,
          -0.05691739743600519,
          -0.06340035694409343,
          -0.06167463721413212,
          -0.06321080602811883,
          -0.0647584104085795,
          -0.06033774203706208,
          -0.05413801640730372,
          -0.053793247716084694,
          -0.053106214923774576,
          -0.05232254111081526,
          -0.052326685571901024,
          -0.0540625639390044,
          -0.05839119536151878,
          -0.05496646446218463,
          -0.05458713204446706,
          -0.05319226242110044,
          -0.05459550403814073,
          -0.05754297017795953,
          -0.057687046661853016,
          -0.057407347210630365,
          -0.057503866339777235,
          -0.05745843871074648,
          -0.05917947342869628,
          -0.06118944592877519,
          -0.05842831326404121,
          -0.0557958608064929,
          -0.0555165724377388,
          -0.05757261785876823,
          -0.055401909231885385,
          -0.056374169449305365,
          -0.05716878316895313,
          -0.05811610208689322,
          -0.057810836211543246,
          -0.05757059894807899,
          -0.05781858282856682,
          -0.05776526304627512,
          -0.0581436237222749,
          -0.05813048796587752,
          -0.05726462340974321,
          -0.0580775247679053,
          -0.0576066532072093,
          -0.056547557781980326,
          -0.05655738637104814,
          -0.058269500115656216,
          -0.058084536205191696,
          -0.05801336007250777,
          -0.0583884574577888,
          -0.05835925744764457,
          -0.05805215237133279,
          -0.05800638176906947,
          -0.05434907157443029,
          -0.058444880644529976,
          -0.05852425144001853,
          -0.05863941808451482,
          -0.05631161513435434,
          -0.05624004348703564,
          -0.05454044088009709,
          -0.05457655269592093,
          -0.05453144176147386,
          -0.05457617979202204,
          -0.05454373529112251,
          -0.054447491882386304
         ]
        },
        {
         "name": "Best Value",
         "type": "scatter",
         "x": [
          0,
          1,
          2,
          3,
          4,
          5,
          6,
          7,
          8,
          9,
          10,
          11,
          12,
          13,
          14,
          15,
          16,
          17,
          18,
          19,
          20,
          21,
          22,
          23,
          24,
          25,
          26,
          27,
          28,
          29,
          30,
          31,
          32,
          33,
          34,
          35,
          36,
          37,
          38,
          39,
          40,
          41,
          42,
          43,
          44,
          45,
          46,
          47,
          48,
          49,
          50,
          51,
          52,
          53,
          54,
          55,
          56,
          57,
          58,
          59,
          60,
          61,
          62,
          63,
          64,
          65,
          66,
          67,
          68,
          69,
          70,
          71,
          72,
          73,
          74,
          75,
          76,
          77,
          78,
          79,
          80,
          81,
          82,
          83,
          84,
          85,
          86,
          87,
          88,
          89,
          90,
          91,
          92,
          93,
          94,
          95,
          96,
          97,
          98,
          99
         ],
         "y": [
          -0.0645005454585715,
          -0.06131236137882519,
          -0.06131236137882519,
          -0.06131236137882519,
          -0.06131236137882519,
          -0.058548916733052056,
          -0.057276470198770614,
          -0.057276470198770614,
          -0.057276470198770614,
          -0.057276470198770614,
          -0.057276470198770614,
          -0.052844310390613936,
          -0.052844310390613936,
          -0.052844310390613936,
          -0.052844310390613936,
          -0.052844310390613936,
          -0.052844310390613936,
          -0.052844310390613936,
          -0.052844310390613936,
          -0.052844310390613936,
          -0.052844310390613936,
          -0.052844310390613936,
          -0.052844310390613936,
          -0.052844310390613936,
          -0.052844310390613936,
          -0.052844310390613936,
          -0.052844310390613936,
          -0.052844310390613936,
          -0.052844310390613936,
          -0.052844310390613936,
          -0.052844310390613936,
          -0.052844310390613936,
          -0.052844310390613936,
          -0.052844310390613936,
          -0.052844310390613936,
          -0.052844310390613936,
          -0.052844310390613936,
          -0.052844310390613936,
          -0.052844310390613936,
          -0.052844310390613936,
          -0.052844310390613936,
          -0.052844310390613936,
          -0.052844310390613936,
          -0.052844310390613936,
          -0.052844310390613936,
          -0.052844310390613936,
          -0.052844310390613936,
          -0.05232254111081526,
          -0.05232254111081526,
          -0.05232254111081526,
          -0.05232254111081526,
          -0.05232254111081526,
          -0.05232254111081526,
          -0.05232254111081526,
          -0.05232254111081526,
          -0.05232254111081526,
          -0.05232254111081526,
          -0.05232254111081526,
          -0.05232254111081526,
          -0.05232254111081526,
          -0.05232254111081526,
          -0.05232254111081526,
          -0.05232254111081526,
          -0.05232254111081526,
          -0.05232254111081526,
          -0.05232254111081526,
          -0.05232254111081526,
          -0.05232254111081526,
          -0.05232254111081526,
          -0.05232254111081526,
          -0.05232254111081526,
          -0.05232254111081526,
          -0.05232254111081526,
          -0.05232254111081526,
          -0.05232254111081526,
          -0.05232254111081526,
          -0.05232254111081526,
          -0.05232254111081526,
          -0.05232254111081526,
          -0.05232254111081526,
          -0.05232254111081526,
          -0.05232254111081526,
          -0.05232254111081526,
          -0.05232254111081526,
          -0.05232254111081526,
          -0.05232254111081526,
          -0.05232254111081526,
          -0.05232254111081526,
          -0.05232254111081526,
          -0.05232254111081526,
          -0.05232254111081526,
          -0.05232254111081526,
          -0.05232254111081526,
          -0.05232254111081526,
          -0.05232254111081526,
          -0.05232254111081526,
          -0.05232254111081526,
          -0.05232254111081526,
          -0.05232254111081526,
          -0.05232254111081526
         ]
        }
       ],
       "layout": {
        "template": {
         "data": {
          "bar": [
           {
            "error_x": {
             "color": "#2a3f5f"
            },
            "error_y": {
             "color": "#2a3f5f"
            },
            "marker": {
             "line": {
              "color": "#E5ECF6",
              "width": 0.5
             },
             "pattern": {
              "fillmode": "overlay",
              "size": 10,
              "solidity": 0.2
             }
            },
            "type": "bar"
           }
          ],
          "barpolar": [
           {
            "marker": {
             "line": {
              "color": "#E5ECF6",
              "width": 0.5
             },
             "pattern": {
              "fillmode": "overlay",
              "size": 10,
              "solidity": 0.2
             }
            },
            "type": "barpolar"
           }
          ],
          "carpet": [
           {
            "aaxis": {
             "endlinecolor": "#2a3f5f",
             "gridcolor": "white",
             "linecolor": "white",
             "minorgridcolor": "white",
             "startlinecolor": "#2a3f5f"
            },
            "baxis": {
             "endlinecolor": "#2a3f5f",
             "gridcolor": "white",
             "linecolor": "white",
             "minorgridcolor": "white",
             "startlinecolor": "#2a3f5f"
            },
            "type": "carpet"
           }
          ],
          "choropleth": [
           {
            "colorbar": {
             "outlinewidth": 0,
             "ticks": ""
            },
            "type": "choropleth"
           }
          ],
          "contour": [
           {
            "colorbar": {
             "outlinewidth": 0,
             "ticks": ""
            },
            "colorscale": [
             [
              0,
              "#0d0887"
             ],
             [
              0.1111111111111111,
              "#46039f"
             ],
             [
              0.2222222222222222,
              "#7201a8"
             ],
             [
              0.3333333333333333,
              "#9c179e"
             ],
             [
              0.4444444444444444,
              "#bd3786"
             ],
             [
              0.5555555555555556,
              "#d8576b"
             ],
             [
              0.6666666666666666,
              "#ed7953"
             ],
             [
              0.7777777777777778,
              "#fb9f3a"
             ],
             [
              0.8888888888888888,
              "#fdca26"
             ],
             [
              1,
              "#f0f921"
             ]
            ],
            "type": "contour"
           }
          ],
          "contourcarpet": [
           {
            "colorbar": {
             "outlinewidth": 0,
             "ticks": ""
            },
            "type": "contourcarpet"
           }
          ],
          "heatmap": [
           {
            "colorbar": {
             "outlinewidth": 0,
             "ticks": ""
            },
            "colorscale": [
             [
              0,
              "#0d0887"
             ],
             [
              0.1111111111111111,
              "#46039f"
             ],
             [
              0.2222222222222222,
              "#7201a8"
             ],
             [
              0.3333333333333333,
              "#9c179e"
             ],
             [
              0.4444444444444444,
              "#bd3786"
             ],
             [
              0.5555555555555556,
              "#d8576b"
             ],
             [
              0.6666666666666666,
              "#ed7953"
             ],
             [
              0.7777777777777778,
              "#fb9f3a"
             ],
             [
              0.8888888888888888,
              "#fdca26"
             ],
             [
              1,
              "#f0f921"
             ]
            ],
            "type": "heatmap"
           }
          ],
          "heatmapgl": [
           {
            "colorbar": {
             "outlinewidth": 0,
             "ticks": ""
            },
            "colorscale": [
             [
              0,
              "#0d0887"
             ],
             [
              0.1111111111111111,
              "#46039f"
             ],
             [
              0.2222222222222222,
              "#7201a8"
             ],
             [
              0.3333333333333333,
              "#9c179e"
             ],
             [
              0.4444444444444444,
              "#bd3786"
             ],
             [
              0.5555555555555556,
              "#d8576b"
             ],
             [
              0.6666666666666666,
              "#ed7953"
             ],
             [
              0.7777777777777778,
              "#fb9f3a"
             ],
             [
              0.8888888888888888,
              "#fdca26"
             ],
             [
              1,
              "#f0f921"
             ]
            ],
            "type": "heatmapgl"
           }
          ],
          "histogram": [
           {
            "marker": {
             "pattern": {
              "fillmode": "overlay",
              "size": 10,
              "solidity": 0.2
             }
            },
            "type": "histogram"
           }
          ],
          "histogram2d": [
           {
            "colorbar": {
             "outlinewidth": 0,
             "ticks": ""
            },
            "colorscale": [
             [
              0,
              "#0d0887"
             ],
             [
              0.1111111111111111,
              "#46039f"
             ],
             [
              0.2222222222222222,
              "#7201a8"
             ],
             [
              0.3333333333333333,
              "#9c179e"
             ],
             [
              0.4444444444444444,
              "#bd3786"
             ],
             [
              0.5555555555555556,
              "#d8576b"
             ],
             [
              0.6666666666666666,
              "#ed7953"
             ],
             [
              0.7777777777777778,
              "#fb9f3a"
             ],
             [
              0.8888888888888888,
              "#fdca26"
             ],
             [
              1,
              "#f0f921"
             ]
            ],
            "type": "histogram2d"
           }
          ],
          "histogram2dcontour": [
           {
            "colorbar": {
             "outlinewidth": 0,
             "ticks": ""
            },
            "colorscale": [
             [
              0,
              "#0d0887"
             ],
             [
              0.1111111111111111,
              "#46039f"
             ],
             [
              0.2222222222222222,
              "#7201a8"
             ],
             [
              0.3333333333333333,
              "#9c179e"
             ],
             [
              0.4444444444444444,
              "#bd3786"
             ],
             [
              0.5555555555555556,
              "#d8576b"
             ],
             [
              0.6666666666666666,
              "#ed7953"
             ],
             [
              0.7777777777777778,
              "#fb9f3a"
             ],
             [
              0.8888888888888888,
              "#fdca26"
             ],
             [
              1,
              "#f0f921"
             ]
            ],
            "type": "histogram2dcontour"
           }
          ],
          "mesh3d": [
           {
            "colorbar": {
             "outlinewidth": 0,
             "ticks": ""
            },
            "type": "mesh3d"
           }
          ],
          "parcoords": [
           {
            "line": {
             "colorbar": {
              "outlinewidth": 0,
              "ticks": ""
             }
            },
            "type": "parcoords"
           }
          ],
          "pie": [
           {
            "automargin": true,
            "type": "pie"
           }
          ],
          "scatter": [
           {
            "fillpattern": {
             "fillmode": "overlay",
             "size": 10,
             "solidity": 0.2
            },
            "type": "scatter"
           }
          ],
          "scatter3d": [
           {
            "line": {
             "colorbar": {
              "outlinewidth": 0,
              "ticks": ""
             }
            },
            "marker": {
             "colorbar": {
              "outlinewidth": 0,
              "ticks": ""
             }
            },
            "type": "scatter3d"
           }
          ],
          "scattercarpet": [
           {
            "marker": {
             "colorbar": {
              "outlinewidth": 0,
              "ticks": ""
             }
            },
            "type": "scattercarpet"
           }
          ],
          "scattergeo": [
           {
            "marker": {
             "colorbar": {
              "outlinewidth": 0,
              "ticks": ""
             }
            },
            "type": "scattergeo"
           }
          ],
          "scattergl": [
           {
            "marker": {
             "colorbar": {
              "outlinewidth": 0,
              "ticks": ""
             }
            },
            "type": "scattergl"
           }
          ],
          "scattermapbox": [
           {
            "marker": {
             "colorbar": {
              "outlinewidth": 0,
              "ticks": ""
             }
            },
            "type": "scattermapbox"
           }
          ],
          "scatterpolar": [
           {
            "marker": {
             "colorbar": {
              "outlinewidth": 0,
              "ticks": ""
             }
            },
            "type": "scatterpolar"
           }
          ],
          "scatterpolargl": [
           {
            "marker": {
             "colorbar": {
              "outlinewidth": 0,
              "ticks": ""
             }
            },
            "type": "scatterpolargl"
           }
          ],
          "scatterternary": [
           {
            "marker": {
             "colorbar": {
              "outlinewidth": 0,
              "ticks": ""
             }
            },
            "type": "scatterternary"
           }
          ],
          "surface": [
           {
            "colorbar": {
             "outlinewidth": 0,
             "ticks": ""
            },
            "colorscale": [
             [
              0,
              "#0d0887"
             ],
             [
              0.1111111111111111,
              "#46039f"
             ],
             [
              0.2222222222222222,
              "#7201a8"
             ],
             [
              0.3333333333333333,
              "#9c179e"
             ],
             [
              0.4444444444444444,
              "#bd3786"
             ],
             [
              0.5555555555555556,
              "#d8576b"
             ],
             [
              0.6666666666666666,
              "#ed7953"
             ],
             [
              0.7777777777777778,
              "#fb9f3a"
             ],
             [
              0.8888888888888888,
              "#fdca26"
             ],
             [
              1,
              "#f0f921"
             ]
            ],
            "type": "surface"
           }
          ],
          "table": [
           {
            "cells": {
             "fill": {
              "color": "#EBF0F8"
             },
             "line": {
              "color": "white"
             }
            },
            "header": {
             "fill": {
              "color": "#C8D4E3"
             },
             "line": {
              "color": "white"
             }
            },
            "type": "table"
           }
          ]
         },
         "layout": {
          "annotationdefaults": {
           "arrowcolor": "#2a3f5f",
           "arrowhead": 0,
           "arrowwidth": 1
          },
          "autotypenumbers": "strict",
          "coloraxis": {
           "colorbar": {
            "outlinewidth": 0,
            "ticks": ""
           }
          },
          "colorscale": {
           "diverging": [
            [
             0,
             "#8e0152"
            ],
            [
             0.1,
             "#c51b7d"
            ],
            [
             0.2,
             "#de77ae"
            ],
            [
             0.3,
             "#f1b6da"
            ],
            [
             0.4,
             "#fde0ef"
            ],
            [
             0.5,
             "#f7f7f7"
            ],
            [
             0.6,
             "#e6f5d0"
            ],
            [
             0.7,
             "#b8e186"
            ],
            [
             0.8,
             "#7fbc41"
            ],
            [
             0.9,
             "#4d9221"
            ],
            [
             1,
             "#276419"
            ]
           ],
           "sequential": [
            [
             0,
             "#0d0887"
            ],
            [
             0.1111111111111111,
             "#46039f"
            ],
            [
             0.2222222222222222,
             "#7201a8"
            ],
            [
             0.3333333333333333,
             "#9c179e"
            ],
            [
             0.4444444444444444,
             "#bd3786"
            ],
            [
             0.5555555555555556,
             "#d8576b"
            ],
            [
             0.6666666666666666,
             "#ed7953"
            ],
            [
             0.7777777777777778,
             "#fb9f3a"
            ],
            [
             0.8888888888888888,
             "#fdca26"
            ],
            [
             1,
             "#f0f921"
            ]
           ],
           "sequentialminus": [
            [
             0,
             "#0d0887"
            ],
            [
             0.1111111111111111,
             "#46039f"
            ],
            [
             0.2222222222222222,
             "#7201a8"
            ],
            [
             0.3333333333333333,
             "#9c179e"
            ],
            [
             0.4444444444444444,
             "#bd3786"
            ],
            [
             0.5555555555555556,
             "#d8576b"
            ],
            [
             0.6666666666666666,
             "#ed7953"
            ],
            [
             0.7777777777777778,
             "#fb9f3a"
            ],
            [
             0.8888888888888888,
             "#fdca26"
            ],
            [
             1,
             "#f0f921"
            ]
           ]
          },
          "colorway": [
           "#636efa",
           "#EF553B",
           "#00cc96",
           "#ab63fa",
           "#FFA15A",
           "#19d3f3",
           "#FF6692",
           "#B6E880",
           "#FF97FF",
           "#FECB52"
          ],
          "font": {
           "color": "#2a3f5f"
          },
          "geo": {
           "bgcolor": "white",
           "lakecolor": "white",
           "landcolor": "#E5ECF6",
           "showlakes": true,
           "showland": true,
           "subunitcolor": "white"
          },
          "hoverlabel": {
           "align": "left"
          },
          "hovermode": "closest",
          "mapbox": {
           "style": "light"
          },
          "paper_bgcolor": "white",
          "plot_bgcolor": "#E5ECF6",
          "polar": {
           "angularaxis": {
            "gridcolor": "white",
            "linecolor": "white",
            "ticks": ""
           },
           "bgcolor": "#E5ECF6",
           "radialaxis": {
            "gridcolor": "white",
            "linecolor": "white",
            "ticks": ""
           }
          },
          "scene": {
           "xaxis": {
            "backgroundcolor": "#E5ECF6",
            "gridcolor": "white",
            "gridwidth": 2,
            "linecolor": "white",
            "showbackground": true,
            "ticks": "",
            "zerolinecolor": "white"
           },
           "yaxis": {
            "backgroundcolor": "#E5ECF6",
            "gridcolor": "white",
            "gridwidth": 2,
            "linecolor": "white",
            "showbackground": true,
            "ticks": "",
            "zerolinecolor": "white"
           },
           "zaxis": {
            "backgroundcolor": "#E5ECF6",
            "gridcolor": "white",
            "gridwidth": 2,
            "linecolor": "white",
            "showbackground": true,
            "ticks": "",
            "zerolinecolor": "white"
           }
          },
          "shapedefaults": {
           "line": {
            "color": "#2a3f5f"
           }
          },
          "ternary": {
           "aaxis": {
            "gridcolor": "white",
            "linecolor": "white",
            "ticks": ""
           },
           "baxis": {
            "gridcolor": "white",
            "linecolor": "white",
            "ticks": ""
           },
           "bgcolor": "#E5ECF6",
           "caxis": {
            "gridcolor": "white",
            "linecolor": "white",
            "ticks": ""
           }
          },
          "title": {
           "x": 0.05
          },
          "xaxis": {
           "automargin": true,
           "gridcolor": "white",
           "linecolor": "white",
           "ticks": "",
           "title": {
            "standoff": 15
           },
           "zerolinecolor": "white",
           "zerolinewidth": 2
          },
          "yaxis": {
           "automargin": true,
           "gridcolor": "white",
           "linecolor": "white",
           "ticks": "",
           "title": {
            "standoff": 15
           },
           "zerolinecolor": "white",
           "zerolinewidth": 2
          }
         }
        },
        "title": {
         "text": "Optimization History Plot"
        },
        "xaxis": {
         "title": {
          "text": "Trial"
         }
        },
        "yaxis": {
         "title": {
          "text": "Objective Value"
         }
        }
       }
      }
     },
     "metadata": {},
     "output_type": "display_data"
    },
    {
     "name": "stdout",
     "output_type": "stream",
     "text": [
      "Best trial: -0.05232254111081526\n",
      "Best parameters: {'criterion': 'squared_error', 'min_samples_split': 6, 'min_samples_leaf': 2}\n"
     ]
    }
   ],
   "source": [
    "# define o espaço de busca e a função objetivo\n",
    "def objective_random_forests(\n",
    "\t\ttrial: opt.trial.Trial,\n",
    "\t\tX: pd.DataFrame,\n",
    "\t\ty: pd.DataFrame,\n",
    "\t) -> float:\n",
    "\testimator = RandomForestRegressor(\n",
    "\t\tcriterion = trial.suggest_categorical('criterion', ['squared_error', 'friedman_mse', 'absolute_error', 'poisson']),\n",
    "\t\tmin_samples_split = trial.suggest_int('min_samples_split', 2, 100),\n",
    "\t\tmin_samples_leaf = trial.suggest_int('min_samples_leaf', 2, 100),\n",
    "\t)\n",
    "\ttrial.set_user_attr(key='estimator', value=estimator)\n",
    "\tscore = cross_val_score(estimator, X, y, n_jobs=-1, cv=5, scoring='neg_root_mean_squared_error')\n",
    "\treturn score.mean()\n",
    "\n",
    "np.seterr(divide='ignore', invalid='ignore')\n",
    "\n",
    "# rotina de otimização bayesiana\n",
    "random_forests_model = optimize(\n",
    "\tobjective=objective_random_forests, \n",
    "\tdescription='random_forests_risk', n_trials=100,\n",
    "\tX=data_train, y=targets_train, X_test=data_test, y_test=targets_test,)"
   ]
  },
  {
   "attachments": {},
   "cell_type": "markdown",
   "metadata": {},
   "source": [
    "#### xgboost - gbtree"
   ]
  },
  {
   "cell_type": "code",
   "execution_count": 18,
   "metadata": {},
   "outputs": [
    {
     "data": {
      "application/vnd.jupyter.widget-view+json": {
       "model_id": "b47ee7627aae41cd804315539463ff69",
       "version_major": 2,
       "version_minor": 0
      },
      "text/plain": [
       "  0%|          | 0/100 [00:00<?, ?it/s]"
      ]
     },
     "metadata": {},
     "output_type": "display_data"
    },
    {
     "data": {
      "text/html": [
       "<div>\n",
       "<style scoped>\n",
       "    .dataframe tbody tr th:only-of-type {\n",
       "        vertical-align: middle;\n",
       "    }\n",
       "\n",
       "    .dataframe tbody tr th {\n",
       "        vertical-align: top;\n",
       "    }\n",
       "\n",
       "    .dataframe thead th {\n",
       "        text-align: right;\n",
       "    }\n",
       "</style>\n",
       "<table border=\"1\" class=\"dataframe\">\n",
       "  <thead>\n",
       "    <tr style=\"text-align: right;\">\n",
       "      <th></th>\n",
       "      <th>validation</th>\n",
       "      <th>test</th>\n",
       "    </tr>\n",
       "  </thead>\n",
       "  <tbody>\n",
       "    <tr>\n",
       "      <th>mae</th>\n",
       "      <td>0.0238</td>\n",
       "      <td>0.0377</td>\n",
       "    </tr>\n",
       "    <tr>\n",
       "      <th>rmse</th>\n",
       "      <td>0.0327</td>\n",
       "      <td>0.0516</td>\n",
       "    </tr>\n",
       "    <tr>\n",
       "      <th>r2</th>\n",
       "      <td>0.9311</td>\n",
       "      <td>0.8365</td>\n",
       "    </tr>\n",
       "  </tbody>\n",
       "</table>\n",
       "</div>"
      ],
      "text/plain": [
       "      validation   test\n",
       "mae       0.0238 0.0377\n",
       "rmse      0.0327 0.0516\n",
       "r2        0.9311 0.8365"
      ]
     },
     "metadata": {},
     "output_type": "display_data"
    },
    {
     "data": {
      "application/vnd.plotly.v1+json": {
       "config": {
        "plotlyServerURL": "https://plot.ly"
       },
       "data": [
        {
         "mode": "markers",
         "name": "Objective Value",
         "type": "scatter",
         "x": [
          0,
          1,
          2,
          3,
          4,
          5,
          6,
          7,
          8,
          9,
          10,
          11,
          12,
          13,
          14,
          15,
          16,
          17,
          18,
          19,
          20,
          21,
          22,
          23,
          24,
          25,
          26,
          27,
          28,
          29,
          30,
          31,
          32,
          33,
          34,
          35,
          36,
          37,
          38,
          39,
          40,
          41,
          42,
          43,
          44,
          45,
          46,
          47,
          48,
          49,
          50,
          51,
          52,
          53,
          54,
          55,
          56,
          57,
          58,
          59,
          60,
          61,
          62,
          63,
          64,
          65,
          66,
          67,
          68,
          69,
          70,
          71,
          72,
          73,
          74,
          75,
          76,
          77,
          78,
          79,
          80,
          81,
          82,
          83,
          84,
          85,
          86,
          87,
          88,
          89,
          90,
          91,
          92,
          93,
          94,
          95,
          96,
          97,
          98,
          99
         ],
         "y": [
          -0.2725460648536682,
          -0.196421816945076,
          -0.11866901814937592,
          -0.27219260931015016,
          -0.2725460648536682,
          -0.2721237659454346,
          -0.257907909154892,
          -0.08602947145700454,
          -0.27247449159622195,
          -0.2725257933139801,
          -0.2725460648536682,
          -0.2722079515457153,
          -0.272498345375061,
          -0.2725354731082916,
          -0.2725460648536682,
          -0.26658706068992616,
          -0.2106718122959137,
          -0.2725435197353363,
          -0.2723442196846008,
          -0.25732249617576597,
          -0.2725460648536682,
          -0.2725460648536682,
          -0.27249112725257874,
          -0.2602368056774139,
          -0.2725460648536682,
          -0.2725460648536682,
          -0.2725460648536682,
          -0.2724945604801178,
          -0.24235708117485047,
          -0.26930872201919553,
          -0.2725343406200409,
          -0.2724400103092194,
          -0.27241516709327696,
          -0.06506277471780778,
          -0.05750264748930931,
          -0.05958186686038971,
          -0.0619541198015213,
          -0.06184551119804382,
          -0.06425229161977768,
          -0.061844371259212494,
          -0.07068501263856888,
          -0.061689738929271695,
          -0.06719197928905488,
          -0.06701263636350632,
          -0.05972157567739487,
          -0.06213434934616089,
          -0.061204644292593,
          -0.05892244726419449,
          -0.06096161603927612,
          -0.05869162082672119,
          -0.060825247317552567,
          -0.057710058987140656,
          -0.0613817036151886,
          -0.05346417278051376,
          -0.06522829979658126,
          -0.057784227281808855,
          -0.05802493691444397,
          -0.057508690655231474,
          -0.057266393303871156,
          -0.0571787990629673,
          -0.05697513222694397,
          -0.058302654325962065,
          -0.05817699804902077,
          -0.05758669823408127,
          -0.06083603426814079,
          -0.061125820875167845,
          -0.06054230332374573,
          -0.0617338091135025,
          -0.06241082921624184,
          -0.057276243716478346,
          -0.05943673104047775,
          -0.05459255427122116,
          -0.07974401265382766,
          -0.05623437613248825,
          -0.06305792108178139,
          -0.08845181912183761,
          -0.06118665337562561,
          -0.06054758280515671,
          -0.07206261307001113,
          -0.07099666446447372,
          -0.07075723707675934,
          -0.071351058781147,
          -0.06490374654531479,
          -0.07137407958507538,
          -0.06803814321756363,
          -0.06743840724229813,
          -0.07902372032403945,
          -0.07601977437734604,
          -0.07128120958805084,
          -0.09097185730934143,
          -0.06659003496170043,
          -0.07614516913890838,
          -0.07263959050178528,
          -0.13905903995037078,
          -0.09649091958999634,
          -0.07695257663726807,
          -0.07464993745088577,
          -0.1307627737522125,
          -0.0664160430431366,
          -0.12863716781139373
         ]
        },
        {
         "name": "Best Value",
         "type": "scatter",
         "x": [
          0,
          1,
          2,
          3,
          4,
          5,
          6,
          7,
          8,
          9,
          10,
          11,
          12,
          13,
          14,
          15,
          16,
          17,
          18,
          19,
          20,
          21,
          22,
          23,
          24,
          25,
          26,
          27,
          28,
          29,
          30,
          31,
          32,
          33,
          34,
          35,
          36,
          37,
          38,
          39,
          40,
          41,
          42,
          43,
          44,
          45,
          46,
          47,
          48,
          49,
          50,
          51,
          52,
          53,
          54,
          55,
          56,
          57,
          58,
          59,
          60,
          61,
          62,
          63,
          64,
          65,
          66,
          67,
          68,
          69,
          70,
          71,
          72,
          73,
          74,
          75,
          76,
          77,
          78,
          79,
          80,
          81,
          82,
          83,
          84,
          85,
          86,
          87,
          88,
          89,
          90,
          91,
          92,
          93,
          94,
          95,
          96,
          97,
          98,
          99
         ],
         "y": [
          -0.2725460648536682,
          -0.196421816945076,
          -0.11866901814937592,
          -0.11866901814937592,
          -0.11866901814937592,
          -0.11866901814937592,
          -0.11866901814937592,
          -0.08602947145700454,
          -0.08602947145700454,
          -0.08602947145700454,
          -0.08602947145700454,
          -0.08602947145700454,
          -0.08602947145700454,
          -0.08602947145700454,
          -0.08602947145700454,
          -0.08602947145700454,
          -0.08602947145700454,
          -0.08602947145700454,
          -0.08602947145700454,
          -0.08602947145700454,
          -0.08602947145700454,
          -0.08602947145700454,
          -0.08602947145700454,
          -0.08602947145700454,
          -0.08602947145700454,
          -0.08602947145700454,
          -0.08602947145700454,
          -0.08602947145700454,
          -0.08602947145700454,
          -0.08602947145700454,
          -0.08602947145700454,
          -0.08602947145700454,
          -0.08602947145700454,
          -0.06506277471780778,
          -0.05750264748930931,
          -0.05750264748930931,
          -0.05750264748930931,
          -0.05750264748930931,
          -0.05750264748930931,
          -0.05750264748930931,
          -0.05750264748930931,
          -0.05750264748930931,
          -0.05750264748930931,
          -0.05750264748930931,
          -0.05750264748930931,
          -0.05750264748930931,
          -0.05750264748930931,
          -0.05750264748930931,
          -0.05750264748930931,
          -0.05750264748930931,
          -0.05750264748930931,
          -0.05750264748930931,
          -0.05750264748930931,
          -0.05346417278051376,
          -0.05346417278051376,
          -0.05346417278051376,
          -0.05346417278051376,
          -0.05346417278051376,
          -0.05346417278051376,
          -0.05346417278051376,
          -0.05346417278051376,
          -0.05346417278051376,
          -0.05346417278051376,
          -0.05346417278051376,
          -0.05346417278051376,
          -0.05346417278051376,
          -0.05346417278051376,
          -0.05346417278051376,
          -0.05346417278051376,
          -0.05346417278051376,
          -0.05346417278051376,
          -0.05346417278051376,
          -0.05346417278051376,
          -0.05346417278051376,
          -0.05346417278051376,
          -0.05346417278051376,
          -0.05346417278051376,
          -0.05346417278051376,
          -0.05346417278051376,
          -0.05346417278051376,
          -0.05346417278051376,
          -0.05346417278051376,
          -0.05346417278051376,
          -0.05346417278051376,
          -0.05346417278051376,
          -0.05346417278051376,
          -0.05346417278051376,
          -0.05346417278051376,
          -0.05346417278051376,
          -0.05346417278051376,
          -0.05346417278051376,
          -0.05346417278051376,
          -0.05346417278051376,
          -0.05346417278051376,
          -0.05346417278051376,
          -0.05346417278051376,
          -0.05346417278051376,
          -0.05346417278051376,
          -0.05346417278051376,
          -0.05346417278051376
         ]
        }
       ],
       "layout": {
        "template": {
         "data": {
          "bar": [
           {
            "error_x": {
             "color": "#2a3f5f"
            },
            "error_y": {
             "color": "#2a3f5f"
            },
            "marker": {
             "line": {
              "color": "#E5ECF6",
              "width": 0.5
             },
             "pattern": {
              "fillmode": "overlay",
              "size": 10,
              "solidity": 0.2
             }
            },
            "type": "bar"
           }
          ],
          "barpolar": [
           {
            "marker": {
             "line": {
              "color": "#E5ECF6",
              "width": 0.5
             },
             "pattern": {
              "fillmode": "overlay",
              "size": 10,
              "solidity": 0.2
             }
            },
            "type": "barpolar"
           }
          ],
          "carpet": [
           {
            "aaxis": {
             "endlinecolor": "#2a3f5f",
             "gridcolor": "white",
             "linecolor": "white",
             "minorgridcolor": "white",
             "startlinecolor": "#2a3f5f"
            },
            "baxis": {
             "endlinecolor": "#2a3f5f",
             "gridcolor": "white",
             "linecolor": "white",
             "minorgridcolor": "white",
             "startlinecolor": "#2a3f5f"
            },
            "type": "carpet"
           }
          ],
          "choropleth": [
           {
            "colorbar": {
             "outlinewidth": 0,
             "ticks": ""
            },
            "type": "choropleth"
           }
          ],
          "contour": [
           {
            "colorbar": {
             "outlinewidth": 0,
             "ticks": ""
            },
            "colorscale": [
             [
              0,
              "#0d0887"
             ],
             [
              0.1111111111111111,
              "#46039f"
             ],
             [
              0.2222222222222222,
              "#7201a8"
             ],
             [
              0.3333333333333333,
              "#9c179e"
             ],
             [
              0.4444444444444444,
              "#bd3786"
             ],
             [
              0.5555555555555556,
              "#d8576b"
             ],
             [
              0.6666666666666666,
              "#ed7953"
             ],
             [
              0.7777777777777778,
              "#fb9f3a"
             ],
             [
              0.8888888888888888,
              "#fdca26"
             ],
             [
              1,
              "#f0f921"
             ]
            ],
            "type": "contour"
           }
          ],
          "contourcarpet": [
           {
            "colorbar": {
             "outlinewidth": 0,
             "ticks": ""
            },
            "type": "contourcarpet"
           }
          ],
          "heatmap": [
           {
            "colorbar": {
             "outlinewidth": 0,
             "ticks": ""
            },
            "colorscale": [
             [
              0,
              "#0d0887"
             ],
             [
              0.1111111111111111,
              "#46039f"
             ],
             [
              0.2222222222222222,
              "#7201a8"
             ],
             [
              0.3333333333333333,
              "#9c179e"
             ],
             [
              0.4444444444444444,
              "#bd3786"
             ],
             [
              0.5555555555555556,
              "#d8576b"
             ],
             [
              0.6666666666666666,
              "#ed7953"
             ],
             [
              0.7777777777777778,
              "#fb9f3a"
             ],
             [
              0.8888888888888888,
              "#fdca26"
             ],
             [
              1,
              "#f0f921"
             ]
            ],
            "type": "heatmap"
           }
          ],
          "heatmapgl": [
           {
            "colorbar": {
             "outlinewidth": 0,
             "ticks": ""
            },
            "colorscale": [
             [
              0,
              "#0d0887"
             ],
             [
              0.1111111111111111,
              "#46039f"
             ],
             [
              0.2222222222222222,
              "#7201a8"
             ],
             [
              0.3333333333333333,
              "#9c179e"
             ],
             [
              0.4444444444444444,
              "#bd3786"
             ],
             [
              0.5555555555555556,
              "#d8576b"
             ],
             [
              0.6666666666666666,
              "#ed7953"
             ],
             [
              0.7777777777777778,
              "#fb9f3a"
             ],
             [
              0.8888888888888888,
              "#fdca26"
             ],
             [
              1,
              "#f0f921"
             ]
            ],
            "type": "heatmapgl"
           }
          ],
          "histogram": [
           {
            "marker": {
             "pattern": {
              "fillmode": "overlay",
              "size": 10,
              "solidity": 0.2
             }
            },
            "type": "histogram"
           }
          ],
          "histogram2d": [
           {
            "colorbar": {
             "outlinewidth": 0,
             "ticks": ""
            },
            "colorscale": [
             [
              0,
              "#0d0887"
             ],
             [
              0.1111111111111111,
              "#46039f"
             ],
             [
              0.2222222222222222,
              "#7201a8"
             ],
             [
              0.3333333333333333,
              "#9c179e"
             ],
             [
              0.4444444444444444,
              "#bd3786"
             ],
             [
              0.5555555555555556,
              "#d8576b"
             ],
             [
              0.6666666666666666,
              "#ed7953"
             ],
             [
              0.7777777777777778,
              "#fb9f3a"
             ],
             [
              0.8888888888888888,
              "#fdca26"
             ],
             [
              1,
              "#f0f921"
             ]
            ],
            "type": "histogram2d"
           }
          ],
          "histogram2dcontour": [
           {
            "colorbar": {
             "outlinewidth": 0,
             "ticks": ""
            },
            "colorscale": [
             [
              0,
              "#0d0887"
             ],
             [
              0.1111111111111111,
              "#46039f"
             ],
             [
              0.2222222222222222,
              "#7201a8"
             ],
             [
              0.3333333333333333,
              "#9c179e"
             ],
             [
              0.4444444444444444,
              "#bd3786"
             ],
             [
              0.5555555555555556,
              "#d8576b"
             ],
             [
              0.6666666666666666,
              "#ed7953"
             ],
             [
              0.7777777777777778,
              "#fb9f3a"
             ],
             [
              0.8888888888888888,
              "#fdca26"
             ],
             [
              1,
              "#f0f921"
             ]
            ],
            "type": "histogram2dcontour"
           }
          ],
          "mesh3d": [
           {
            "colorbar": {
             "outlinewidth": 0,
             "ticks": ""
            },
            "type": "mesh3d"
           }
          ],
          "parcoords": [
           {
            "line": {
             "colorbar": {
              "outlinewidth": 0,
              "ticks": ""
             }
            },
            "type": "parcoords"
           }
          ],
          "pie": [
           {
            "automargin": true,
            "type": "pie"
           }
          ],
          "scatter": [
           {
            "fillpattern": {
             "fillmode": "overlay",
             "size": 10,
             "solidity": 0.2
            },
            "type": "scatter"
           }
          ],
          "scatter3d": [
           {
            "line": {
             "colorbar": {
              "outlinewidth": 0,
              "ticks": ""
             }
            },
            "marker": {
             "colorbar": {
              "outlinewidth": 0,
              "ticks": ""
             }
            },
            "type": "scatter3d"
           }
          ],
          "scattercarpet": [
           {
            "marker": {
             "colorbar": {
              "outlinewidth": 0,
              "ticks": ""
             }
            },
            "type": "scattercarpet"
           }
          ],
          "scattergeo": [
           {
            "marker": {
             "colorbar": {
              "outlinewidth": 0,
              "ticks": ""
             }
            },
            "type": "scattergeo"
           }
          ],
          "scattergl": [
           {
            "marker": {
             "colorbar": {
              "outlinewidth": 0,
              "ticks": ""
             }
            },
            "type": "scattergl"
           }
          ],
          "scattermapbox": [
           {
            "marker": {
             "colorbar": {
              "outlinewidth": 0,
              "ticks": ""
             }
            },
            "type": "scattermapbox"
           }
          ],
          "scatterpolar": [
           {
            "marker": {
             "colorbar": {
              "outlinewidth": 0,
              "ticks": ""
             }
            },
            "type": "scatterpolar"
           }
          ],
          "scatterpolargl": [
           {
            "marker": {
             "colorbar": {
              "outlinewidth": 0,
              "ticks": ""
             }
            },
            "type": "scatterpolargl"
           }
          ],
          "scatterternary": [
           {
            "marker": {
             "colorbar": {
              "outlinewidth": 0,
              "ticks": ""
             }
            },
            "type": "scatterternary"
           }
          ],
          "surface": [
           {
            "colorbar": {
             "outlinewidth": 0,
             "ticks": ""
            },
            "colorscale": [
             [
              0,
              "#0d0887"
             ],
             [
              0.1111111111111111,
              "#46039f"
             ],
             [
              0.2222222222222222,
              "#7201a8"
             ],
             [
              0.3333333333333333,
              "#9c179e"
             ],
             [
              0.4444444444444444,
              "#bd3786"
             ],
             [
              0.5555555555555556,
              "#d8576b"
             ],
             [
              0.6666666666666666,
              "#ed7953"
             ],
             [
              0.7777777777777778,
              "#fb9f3a"
             ],
             [
              0.8888888888888888,
              "#fdca26"
             ],
             [
              1,
              "#f0f921"
             ]
            ],
            "type": "surface"
           }
          ],
          "table": [
           {
            "cells": {
             "fill": {
              "color": "#EBF0F8"
             },
             "line": {
              "color": "white"
             }
            },
            "header": {
             "fill": {
              "color": "#C8D4E3"
             },
             "line": {
              "color": "white"
             }
            },
            "type": "table"
           }
          ]
         },
         "layout": {
          "annotationdefaults": {
           "arrowcolor": "#2a3f5f",
           "arrowhead": 0,
           "arrowwidth": 1
          },
          "autotypenumbers": "strict",
          "coloraxis": {
           "colorbar": {
            "outlinewidth": 0,
            "ticks": ""
           }
          },
          "colorscale": {
           "diverging": [
            [
             0,
             "#8e0152"
            ],
            [
             0.1,
             "#c51b7d"
            ],
            [
             0.2,
             "#de77ae"
            ],
            [
             0.3,
             "#f1b6da"
            ],
            [
             0.4,
             "#fde0ef"
            ],
            [
             0.5,
             "#f7f7f7"
            ],
            [
             0.6,
             "#e6f5d0"
            ],
            [
             0.7,
             "#b8e186"
            ],
            [
             0.8,
             "#7fbc41"
            ],
            [
             0.9,
             "#4d9221"
            ],
            [
             1,
             "#276419"
            ]
           ],
           "sequential": [
            [
             0,
             "#0d0887"
            ],
            [
             0.1111111111111111,
             "#46039f"
            ],
            [
             0.2222222222222222,
             "#7201a8"
            ],
            [
             0.3333333333333333,
             "#9c179e"
            ],
            [
             0.4444444444444444,
             "#bd3786"
            ],
            [
             0.5555555555555556,
             "#d8576b"
            ],
            [
             0.6666666666666666,
             "#ed7953"
            ],
            [
             0.7777777777777778,
             "#fb9f3a"
            ],
            [
             0.8888888888888888,
             "#fdca26"
            ],
            [
             1,
             "#f0f921"
            ]
           ],
           "sequentialminus": [
            [
             0,
             "#0d0887"
            ],
            [
             0.1111111111111111,
             "#46039f"
            ],
            [
             0.2222222222222222,
             "#7201a8"
            ],
            [
             0.3333333333333333,
             "#9c179e"
            ],
            [
             0.4444444444444444,
             "#bd3786"
            ],
            [
             0.5555555555555556,
             "#d8576b"
            ],
            [
             0.6666666666666666,
             "#ed7953"
            ],
            [
             0.7777777777777778,
             "#fb9f3a"
            ],
            [
             0.8888888888888888,
             "#fdca26"
            ],
            [
             1,
             "#f0f921"
            ]
           ]
          },
          "colorway": [
           "#636efa",
           "#EF553B",
           "#00cc96",
           "#ab63fa",
           "#FFA15A",
           "#19d3f3",
           "#FF6692",
           "#B6E880",
           "#FF97FF",
           "#FECB52"
          ],
          "font": {
           "color": "#2a3f5f"
          },
          "geo": {
           "bgcolor": "white",
           "lakecolor": "white",
           "landcolor": "#E5ECF6",
           "showlakes": true,
           "showland": true,
           "subunitcolor": "white"
          },
          "hoverlabel": {
           "align": "left"
          },
          "hovermode": "closest",
          "mapbox": {
           "style": "light"
          },
          "paper_bgcolor": "white",
          "plot_bgcolor": "#E5ECF6",
          "polar": {
           "angularaxis": {
            "gridcolor": "white",
            "linecolor": "white",
            "ticks": ""
           },
           "bgcolor": "#E5ECF6",
           "radialaxis": {
            "gridcolor": "white",
            "linecolor": "white",
            "ticks": ""
           }
          },
          "scene": {
           "xaxis": {
            "backgroundcolor": "#E5ECF6",
            "gridcolor": "white",
            "gridwidth": 2,
            "linecolor": "white",
            "showbackground": true,
            "ticks": "",
            "zerolinecolor": "white"
           },
           "yaxis": {
            "backgroundcolor": "#E5ECF6",
            "gridcolor": "white",
            "gridwidth": 2,
            "linecolor": "white",
            "showbackground": true,
            "ticks": "",
            "zerolinecolor": "white"
           },
           "zaxis": {
            "backgroundcolor": "#E5ECF6",
            "gridcolor": "white",
            "gridwidth": 2,
            "linecolor": "white",
            "showbackground": true,
            "ticks": "",
            "zerolinecolor": "white"
           }
          },
          "shapedefaults": {
           "line": {
            "color": "#2a3f5f"
           }
          },
          "ternary": {
           "aaxis": {
            "gridcolor": "white",
            "linecolor": "white",
            "ticks": ""
           },
           "baxis": {
            "gridcolor": "white",
            "linecolor": "white",
            "ticks": ""
           },
           "bgcolor": "#E5ECF6",
           "caxis": {
            "gridcolor": "white",
            "linecolor": "white",
            "ticks": ""
           }
          },
          "title": {
           "x": 0.05
          },
          "xaxis": {
           "automargin": true,
           "gridcolor": "white",
           "linecolor": "white",
           "ticks": "",
           "title": {
            "standoff": 15
           },
           "zerolinecolor": "white",
           "zerolinewidth": 2
          },
          "yaxis": {
           "automargin": true,
           "gridcolor": "white",
           "linecolor": "white",
           "ticks": "",
           "title": {
            "standoff": 15
           },
           "zerolinecolor": "white",
           "zerolinewidth": 2
          }
         }
        },
        "title": {
         "text": "Optimization History Plot"
        },
        "xaxis": {
         "title": {
          "text": "Trial"
         }
        },
        "yaxis": {
         "title": {
          "text": "Objective Value"
         }
        }
       }
      }
     },
     "metadata": {},
     "output_type": "display_data"
    },
    {
     "name": "stdout",
     "output_type": "stream",
     "text": [
      "Best trial: -0.05346417278051376\n",
      "Best parameters: {'alpha': 0.07077821226190023, 'lambda': 0.4606184458540085, 'eta': 0.07391999069739517, 'max_depth': 8, 'grow_policy': 'lossguide', 'min_child_weight': 0, 'gamma': 1.0484427404101337e-08, 'sample_type': 'weighted', 'normalize_type': 'forest', 'rate_drop': 0.00507620771300373, 'skip_drop': 3.516582851930037e-07, 'updater': 'shotgun', 'feature_selector': 'cyclic'}\n"
     ]
    }
   ],
   "source": [
    "# define o espaço de busca e a função objetivo\n",
    "def xgboost_regressor_gbtree(\n",
    "\t\ttrial: opt.trial.Trial,\n",
    "\t\tX: pd.DataFrame,\n",
    "\t\ty: pd.DataFrame,\n",
    "\t) -> float:\n",
    "\thyperparameters = {\n",
    "\t\t# 'booster': trial.suggest_categorical('booster', ['gbtree', 'gblinear', 'dart']),\n",
    "\t\t'booster': 'gbtree',\n",
    "\t\t'objective': 'reg:squarederror',\n",
    "\t\t'eval_metric': 'rmse',\n",
    "\t\t'verbosity': 0,\n",
    "\t\t'alpha': trial.suggest_float('alpha', 1e-3, 1, log=True),\n",
    "\t\t'lambda': trial.suggest_float('lambda', 1e-3, 1, log=True),\n",
    "\t\t'eta': trial.suggest_float('eta', 1e-10, 1.0, log=True),\n",
    "\t\t'max_depth': trial.suggest_int('max_depth', 1, 9),\n",
    "\t\t'grow_policy': trial.suggest_categorical('grow_policy', ['depthwise', 'lossguide']),\n",
    "\t\t'min_child_weight': trial.suggest_int('min_child_weight', 0, 10),\n",
    "\t\t'gamma': trial.suggest_float('gamma', 1e-8, 1e8, log=True),\n",
    "\t\t'sample_type': trial.suggest_categorical('sample_type', ['uniform', 'weighted']),\n",
    "\t\t'normalize_type': trial.suggest_categorical('normalize_type', ['tree', 'forest']),\n",
    "\t\t'rate_drop': trial.suggest_float('rate_drop', 1e-8, 1.0, log=True),\n",
    "\t\t'skip_drop': trial.suggest_float('skip_drop', 1e-8, 1.0, log=True),\n",
    "\t\t'updater': trial.suggest_categorical('updater', ['coord_descent', 'shotgun']),\n",
    "\t\t'feature_selector': trial.suggest_categorical('feature_selector', ['cyclic', 'shuffle']),\n",
    "\t}\n",
    "\thp = {\n",
    "\t\t'booster': hyperparameters['booster'],\n",
    "\t\t'objective': hyperparameters['objective'],\n",
    "\t\t'eval_metric': hyperparameters['eval_metric'],\n",
    "\t\t'verbosity': hyperparameters['verbosity'],\n",
    "\t}\n",
    "\t\n",
    "\tif hyperparameters['booster'] in ['gbtree', 'dart']:\n",
    "\t\t# L1 regularization term on weights. Increasing this value will make model more conservative.\n",
    "\t\thp['alpha'] = hyperparameters['alpha']\n",
    "\t\t# L2 regularization term on weights. Increasing this value will make model more conservative.\n",
    "\t\thp['lambda'] = hyperparameters['lambda']\n",
    "\t\t# Step size shrinkage used in update to prevents overfitting\n",
    "\t\thp['eta'] = hyperparameters['eta']\n",
    "\t\t# maximum depth of the tree, signifies complexity of the tree.\n",
    "\t\thp['max_depth'] = hyperparameters['max_depth']\n",
    "\t\t# Controls a way new nodes are added to the tree.\n",
    "\t\thp['grow_policy'] = hyperparameters['grow_policy']\n",
    "\t\t# minimum child weight, larger the term more conservative the tree.\n",
    "\t\thp['min_child_weight'] = hyperparameters['min_child_weight']\n",
    "\t\t# defines how conservative algorithm is.\n",
    "\t\thp['gamma'] = hyperparameters['gamma']\n",
    "\n",
    "\tif hyperparameters['booster'] == 'dart':\n",
    "\t\t# sampling ratio for dropout.\n",
    "\t\thp['sample_type'] = hyperparameters['sample_type']\n",
    "\t\t# Type of normalization algorithm\n",
    "\t\thp['normalize_type'] = hyperparameters['normalize_type']\n",
    "\t\t# Dropout rate (a fraction of previous trees to drop during the dropout)\n",
    "\t\thp['rate_drop'] = hyperparameters['rate_drop']\n",
    "\t\t# Probability of skipping the dropout procedure during a boosting iteration.\n",
    "\t\thp['skip_drop'] = hyperparameters['skip_drop']\n",
    "\n",
    "\tif hyperparameters['booster'] == 'gblinear':\n",
    "\t\t# algorithm to fit linear model\n",
    "\t\thp['updater'] = hyperparameters['updater']\n",
    "\t\t# feature selector\n",
    "\t\thp['feature_selector'] = hyperparameters['feature_selector']\n",
    "\n",
    "\testimator = XGBRegressor(**hp)\n",
    "\ttrial.set_user_attr(key='estimator', value=estimator)\n",
    "\tscore = cross_val_score(estimator, X, y, n_jobs=-1, cv=5, scoring='neg_root_mean_squared_error')\n",
    "\treturn score.mean()\n",
    "\n",
    "np.seterr(divide='ignore', invalid='ignore')\n",
    "\n",
    "# rotina de otimização bayesiana\n",
    "xgboost_model_gbtree = optimize(\n",
    "\tobjective=xgboost_regressor_gbtree, \n",
    "\tdescription='xgboost_gbtree_risk', n_trials=100,\n",
    "\tX=data_train, y=targets_train, X_test=data_test, y_test=targets_test,)"
   ]
  },
  {
   "attachments": {},
   "cell_type": "markdown",
   "metadata": {},
   "source": [
    "#### xgboost - dart"
   ]
  },
  {
   "cell_type": "code",
   "execution_count": 23,
   "metadata": {},
   "outputs": [
    {
     "data": {
      "application/vnd.jupyter.widget-view+json": {
       "model_id": "4d9844bc67ba4457846816cbac99d091",
       "version_major": 2,
       "version_minor": 0
      },
      "text/plain": [
       "  0%|          | 0/100 [00:00<?, ?it/s]"
      ]
     },
     "metadata": {},
     "output_type": "display_data"
    },
    {
     "data": {
      "text/html": [
       "<div>\n",
       "<style scoped>\n",
       "    .dataframe tbody tr th:only-of-type {\n",
       "        vertical-align: middle;\n",
       "    }\n",
       "\n",
       "    .dataframe tbody tr th {\n",
       "        vertical-align: top;\n",
       "    }\n",
       "\n",
       "    .dataframe thead th {\n",
       "        text-align: right;\n",
       "    }\n",
       "</style>\n",
       "<table border=\"1\" class=\"dataframe\">\n",
       "  <thead>\n",
       "    <tr style=\"text-align: right;\">\n",
       "      <th></th>\n",
       "      <th>validation</th>\n",
       "      <th>test</th>\n",
       "    </tr>\n",
       "  </thead>\n",
       "  <tbody>\n",
       "    <tr>\n",
       "      <th>mae</th>\n",
       "      <td>0.0257</td>\n",
       "      <td>0.0386</td>\n",
       "    </tr>\n",
       "    <tr>\n",
       "      <th>rmse</th>\n",
       "      <td>0.0349</td>\n",
       "      <td>0.0523</td>\n",
       "    </tr>\n",
       "    <tr>\n",
       "      <th>r2</th>\n",
       "      <td>0.9213</td>\n",
       "      <td>0.8324</td>\n",
       "    </tr>\n",
       "  </tbody>\n",
       "</table>\n",
       "</div>"
      ],
      "text/plain": [
       "      validation   test\n",
       "mae       0.0257 0.0386\n",
       "rmse      0.0349 0.0523\n",
       "r2        0.9213 0.8324"
      ]
     },
     "metadata": {},
     "output_type": "display_data"
    },
    {
     "data": {
      "application/vnd.plotly.v1+json": {
       "config": {
        "plotlyServerURL": "https://plot.ly"
       },
       "data": [
        {
         "mode": "markers",
         "name": "Objective Value",
         "type": "scatter",
         "x": [
          0,
          1,
          2,
          3,
          4,
          5,
          6,
          7,
          8,
          9,
          10,
          11,
          12,
          13,
          14,
          15,
          16,
          17,
          18,
          19,
          20,
          21,
          22,
          23,
          24,
          25,
          26,
          27,
          28,
          29,
          30,
          31,
          32,
          33,
          34,
          35,
          36,
          37,
          38,
          39,
          40,
          41,
          42,
          43,
          44,
          45,
          46,
          47,
          48,
          49,
          50,
          51,
          52,
          53,
          54,
          55,
          56,
          57,
          58,
          59,
          60,
          61,
          62,
          63,
          64,
          65,
          66,
          67,
          68,
          69,
          70,
          71,
          72,
          73,
          74,
          75,
          76,
          77,
          78,
          79,
          80,
          81,
          82,
          83,
          84,
          85,
          86,
          87,
          88,
          89,
          90,
          91,
          92,
          93,
          94,
          95,
          96,
          97,
          98,
          99
         ],
         "y": [
          -0.27196502685546875,
          -0.2725460648536682,
          -0.27221785187721254,
          -0.2725460648536682,
          -0.06423912644386291,
          -0.27214073538780215,
          -0.2725460648536682,
          -0.20830703377723694,
          -0.14253948926925658,
          -0.2725460648536682,
          -0.2725037395954132,
          -0.2725355505943298,
          -0.22264547348022462,
          -0.2725460648536682,
          -0.25239657759666445,
          -0.1269223213195801,
          -0.12441677153110504,
          -0.2691437482833862,
          -0.2725346863269806,
          -0.2725460648536682,
          -0.2725460648536682,
          -0.2725434243679047,
          -0.23930183947086334,
          -0.19653677344322204,
          -0.2479767382144928,
          -0.2725460648536682,
          -0.2461685925722122,
          -0.2697503328323364,
          -0.27254077792167664,
          -0.2725167632102966,
          -0.2719681620597839,
          -0.2725460648536682,
          -0.2725252330303192,
          -0.12454884052276612,
          -0.15737695395946502,
          -0.1701335608959198,
          -0.12568769454956055,
          -0.06315722689032555,
          -0.12055012881755829,
          -0.10961057692766189,
          -0.12441674768924713,
          -0.12441679537296295,
          -0.12441684007644653,
          -0.12441673874855042,
          -0.10350187271833419,
          -0.12029709070920944,
          -0.1250338464975357,
          -0.054364380240440366,
          -0.054765906929969785,
          -0.05493663027882576,
          -0.05362583473324776,
          -0.05489776208996773,
          -0.05539415553212166,
          -0.05416184961795807,
          -0.05434034541249275,
          -0.05650037825107575,
          -0.05782658457756042,
          -0.057528513669967654,
          -0.05747906342148781,
          -0.12441674023866653,
          -0.12442364990711212,
          -0.07040266692638397,
          -0.08275038450956344,
          -0.0698719471693039,
          -0.07125105559825898,
          -0.07381866425275803,
          -0.07117904573678971,
          -0.07638573199510575,
          -0.06636741012334824,
          -0.0706203818321228,
          -0.07599227726459504,
          -0.055894666165113446,
          -0.056331530958414075,
          -0.0534644864499569,
          -0.056252920627593996,
          -0.057593018561601636,
          -0.05694829076528549,
          -0.056809228658676145,
          -0.05713717937469483,
          -0.05889798477292061,
          -0.058944226056337354,
          -0.05857592150568962,
          -0.05981200411915779,
          -0.0588808923959732,
          -0.0577460952103138,
          -0.057271631062030794,
          -0.057435912638902666,
          -0.058955222368240356,
          -0.05883893743157387,
          -0.05932298600673676,
          -0.058522545546293256,
          -0.059087295830249784,
          -0.059423907101154326,
          -0.05921025574207306,
          -0.05967279970645904,
          -0.059591042995452884,
          -0.05932547822594643,
          -0.05934490412473679,
          -0.060774847865104675,
          -0.07678980380296707
         ]
        },
        {
         "name": "Best Value",
         "type": "scatter",
         "x": [
          0,
          1,
          2,
          3,
          4,
          5,
          6,
          7,
          8,
          9,
          10,
          11,
          12,
          13,
          14,
          15,
          16,
          17,
          18,
          19,
          20,
          21,
          22,
          23,
          24,
          25,
          26,
          27,
          28,
          29,
          30,
          31,
          32,
          33,
          34,
          35,
          36,
          37,
          38,
          39,
          40,
          41,
          42,
          43,
          44,
          45,
          46,
          47,
          48,
          49,
          50,
          51,
          52,
          53,
          54,
          55,
          56,
          57,
          58,
          59,
          60,
          61,
          62,
          63,
          64,
          65,
          66,
          67,
          68,
          69,
          70,
          71,
          72,
          73,
          74,
          75,
          76,
          77,
          78,
          79,
          80,
          81,
          82,
          83,
          84,
          85,
          86,
          87,
          88,
          89,
          90,
          91,
          92,
          93,
          94,
          95,
          96,
          97,
          98,
          99
         ],
         "y": [
          -0.27196502685546875,
          -0.27196502685546875,
          -0.27196502685546875,
          -0.27196502685546875,
          -0.06423912644386291,
          -0.06423912644386291,
          -0.06423912644386291,
          -0.06423912644386291,
          -0.06423912644386291,
          -0.06423912644386291,
          -0.06423912644386291,
          -0.06423912644386291,
          -0.06423912644386291,
          -0.06423912644386291,
          -0.06423912644386291,
          -0.06423912644386291,
          -0.06423912644386291,
          -0.06423912644386291,
          -0.06423912644386291,
          -0.06423912644386291,
          -0.06423912644386291,
          -0.06423912644386291,
          -0.06423912644386291,
          -0.06423912644386291,
          -0.06423912644386291,
          -0.06423912644386291,
          -0.06423912644386291,
          -0.06423912644386291,
          -0.06423912644386291,
          -0.06423912644386291,
          -0.06423912644386291,
          -0.06423912644386291,
          -0.06423912644386291,
          -0.06423912644386291,
          -0.06423912644386291,
          -0.06423912644386291,
          -0.06423912644386291,
          -0.06315722689032555,
          -0.06315722689032555,
          -0.06315722689032555,
          -0.06315722689032555,
          -0.06315722689032555,
          -0.06315722689032555,
          -0.06315722689032555,
          -0.06315722689032555,
          -0.06315722689032555,
          -0.06315722689032555,
          -0.054364380240440366,
          -0.054364380240440366,
          -0.054364380240440366,
          -0.05362583473324776,
          -0.05362583473324776,
          -0.05362583473324776,
          -0.05362583473324776,
          -0.05362583473324776,
          -0.05362583473324776,
          -0.05362583473324776,
          -0.05362583473324776,
          -0.05362583473324776,
          -0.05362583473324776,
          -0.05362583473324776,
          -0.05362583473324776,
          -0.05362583473324776,
          -0.05362583473324776,
          -0.05362583473324776,
          -0.05362583473324776,
          -0.05362583473324776,
          -0.05362583473324776,
          -0.05362583473324776,
          -0.05362583473324776,
          -0.05362583473324776,
          -0.05362583473324776,
          -0.05362583473324776,
          -0.0534644864499569,
          -0.0534644864499569,
          -0.0534644864499569,
          -0.0534644864499569,
          -0.0534644864499569,
          -0.0534644864499569,
          -0.0534644864499569,
          -0.0534644864499569,
          -0.0534644864499569,
          -0.0534644864499569,
          -0.0534644864499569,
          -0.0534644864499569,
          -0.0534644864499569,
          -0.0534644864499569,
          -0.0534644864499569,
          -0.0534644864499569,
          -0.0534644864499569,
          -0.0534644864499569,
          -0.0534644864499569,
          -0.0534644864499569,
          -0.0534644864499569,
          -0.0534644864499569,
          -0.0534644864499569,
          -0.0534644864499569,
          -0.0534644864499569,
          -0.0534644864499569,
          -0.0534644864499569
         ]
        }
       ],
       "layout": {
        "template": {
         "data": {
          "bar": [
           {
            "error_x": {
             "color": "#2a3f5f"
            },
            "error_y": {
             "color": "#2a3f5f"
            },
            "marker": {
             "line": {
              "color": "#E5ECF6",
              "width": 0.5
             },
             "pattern": {
              "fillmode": "overlay",
              "size": 10,
              "solidity": 0.2
             }
            },
            "type": "bar"
           }
          ],
          "barpolar": [
           {
            "marker": {
             "line": {
              "color": "#E5ECF6",
              "width": 0.5
             },
             "pattern": {
              "fillmode": "overlay",
              "size": 10,
              "solidity": 0.2
             }
            },
            "type": "barpolar"
           }
          ],
          "carpet": [
           {
            "aaxis": {
             "endlinecolor": "#2a3f5f",
             "gridcolor": "white",
             "linecolor": "white",
             "minorgridcolor": "white",
             "startlinecolor": "#2a3f5f"
            },
            "baxis": {
             "endlinecolor": "#2a3f5f",
             "gridcolor": "white",
             "linecolor": "white",
             "minorgridcolor": "white",
             "startlinecolor": "#2a3f5f"
            },
            "type": "carpet"
           }
          ],
          "choropleth": [
           {
            "colorbar": {
             "outlinewidth": 0,
             "ticks": ""
            },
            "type": "choropleth"
           }
          ],
          "contour": [
           {
            "colorbar": {
             "outlinewidth": 0,
             "ticks": ""
            },
            "colorscale": [
             [
              0,
              "#0d0887"
             ],
             [
              0.1111111111111111,
              "#46039f"
             ],
             [
              0.2222222222222222,
              "#7201a8"
             ],
             [
              0.3333333333333333,
              "#9c179e"
             ],
             [
              0.4444444444444444,
              "#bd3786"
             ],
             [
              0.5555555555555556,
              "#d8576b"
             ],
             [
              0.6666666666666666,
              "#ed7953"
             ],
             [
              0.7777777777777778,
              "#fb9f3a"
             ],
             [
              0.8888888888888888,
              "#fdca26"
             ],
             [
              1,
              "#f0f921"
             ]
            ],
            "type": "contour"
           }
          ],
          "contourcarpet": [
           {
            "colorbar": {
             "outlinewidth": 0,
             "ticks": ""
            },
            "type": "contourcarpet"
           }
          ],
          "heatmap": [
           {
            "colorbar": {
             "outlinewidth": 0,
             "ticks": ""
            },
            "colorscale": [
             [
              0,
              "#0d0887"
             ],
             [
              0.1111111111111111,
              "#46039f"
             ],
             [
              0.2222222222222222,
              "#7201a8"
             ],
             [
              0.3333333333333333,
              "#9c179e"
             ],
             [
              0.4444444444444444,
              "#bd3786"
             ],
             [
              0.5555555555555556,
              "#d8576b"
             ],
             [
              0.6666666666666666,
              "#ed7953"
             ],
             [
              0.7777777777777778,
              "#fb9f3a"
             ],
             [
              0.8888888888888888,
              "#fdca26"
             ],
             [
              1,
              "#f0f921"
             ]
            ],
            "type": "heatmap"
           }
          ],
          "heatmapgl": [
           {
            "colorbar": {
             "outlinewidth": 0,
             "ticks": ""
            },
            "colorscale": [
             [
              0,
              "#0d0887"
             ],
             [
              0.1111111111111111,
              "#46039f"
             ],
             [
              0.2222222222222222,
              "#7201a8"
             ],
             [
              0.3333333333333333,
              "#9c179e"
             ],
             [
              0.4444444444444444,
              "#bd3786"
             ],
             [
              0.5555555555555556,
              "#d8576b"
             ],
             [
              0.6666666666666666,
              "#ed7953"
             ],
             [
              0.7777777777777778,
              "#fb9f3a"
             ],
             [
              0.8888888888888888,
              "#fdca26"
             ],
             [
              1,
              "#f0f921"
             ]
            ],
            "type": "heatmapgl"
           }
          ],
          "histogram": [
           {
            "marker": {
             "pattern": {
              "fillmode": "overlay",
              "size": 10,
              "solidity": 0.2
             }
            },
            "type": "histogram"
           }
          ],
          "histogram2d": [
           {
            "colorbar": {
             "outlinewidth": 0,
             "ticks": ""
            },
            "colorscale": [
             [
              0,
              "#0d0887"
             ],
             [
              0.1111111111111111,
              "#46039f"
             ],
             [
              0.2222222222222222,
              "#7201a8"
             ],
             [
              0.3333333333333333,
              "#9c179e"
             ],
             [
              0.4444444444444444,
              "#bd3786"
             ],
             [
              0.5555555555555556,
              "#d8576b"
             ],
             [
              0.6666666666666666,
              "#ed7953"
             ],
             [
              0.7777777777777778,
              "#fb9f3a"
             ],
             [
              0.8888888888888888,
              "#fdca26"
             ],
             [
              1,
              "#f0f921"
             ]
            ],
            "type": "histogram2d"
           }
          ],
          "histogram2dcontour": [
           {
            "colorbar": {
             "outlinewidth": 0,
             "ticks": ""
            },
            "colorscale": [
             [
              0,
              "#0d0887"
             ],
             [
              0.1111111111111111,
              "#46039f"
             ],
             [
              0.2222222222222222,
              "#7201a8"
             ],
             [
              0.3333333333333333,
              "#9c179e"
             ],
             [
              0.4444444444444444,
              "#bd3786"
             ],
             [
              0.5555555555555556,
              "#d8576b"
             ],
             [
              0.6666666666666666,
              "#ed7953"
             ],
             [
              0.7777777777777778,
              "#fb9f3a"
             ],
             [
              0.8888888888888888,
              "#fdca26"
             ],
             [
              1,
              "#f0f921"
             ]
            ],
            "type": "histogram2dcontour"
           }
          ],
          "mesh3d": [
           {
            "colorbar": {
             "outlinewidth": 0,
             "ticks": ""
            },
            "type": "mesh3d"
           }
          ],
          "parcoords": [
           {
            "line": {
             "colorbar": {
              "outlinewidth": 0,
              "ticks": ""
             }
            },
            "type": "parcoords"
           }
          ],
          "pie": [
           {
            "automargin": true,
            "type": "pie"
           }
          ],
          "scatter": [
           {
            "fillpattern": {
             "fillmode": "overlay",
             "size": 10,
             "solidity": 0.2
            },
            "type": "scatter"
           }
          ],
          "scatter3d": [
           {
            "line": {
             "colorbar": {
              "outlinewidth": 0,
              "ticks": ""
             }
            },
            "marker": {
             "colorbar": {
              "outlinewidth": 0,
              "ticks": ""
             }
            },
            "type": "scatter3d"
           }
          ],
          "scattercarpet": [
           {
            "marker": {
             "colorbar": {
              "outlinewidth": 0,
              "ticks": ""
             }
            },
            "type": "scattercarpet"
           }
          ],
          "scattergeo": [
           {
            "marker": {
             "colorbar": {
              "outlinewidth": 0,
              "ticks": ""
             }
            },
            "type": "scattergeo"
           }
          ],
          "scattergl": [
           {
            "marker": {
             "colorbar": {
              "outlinewidth": 0,
              "ticks": ""
             }
            },
            "type": "scattergl"
           }
          ],
          "scattermapbox": [
           {
            "marker": {
             "colorbar": {
              "outlinewidth": 0,
              "ticks": ""
             }
            },
            "type": "scattermapbox"
           }
          ],
          "scatterpolar": [
           {
            "marker": {
             "colorbar": {
              "outlinewidth": 0,
              "ticks": ""
             }
            },
            "type": "scatterpolar"
           }
          ],
          "scatterpolargl": [
           {
            "marker": {
             "colorbar": {
              "outlinewidth": 0,
              "ticks": ""
             }
            },
            "type": "scatterpolargl"
           }
          ],
          "scatterternary": [
           {
            "marker": {
             "colorbar": {
              "outlinewidth": 0,
              "ticks": ""
             }
            },
            "type": "scatterternary"
           }
          ],
          "surface": [
           {
            "colorbar": {
             "outlinewidth": 0,
             "ticks": ""
            },
            "colorscale": [
             [
              0,
              "#0d0887"
             ],
             [
              0.1111111111111111,
              "#46039f"
             ],
             [
              0.2222222222222222,
              "#7201a8"
             ],
             [
              0.3333333333333333,
              "#9c179e"
             ],
             [
              0.4444444444444444,
              "#bd3786"
             ],
             [
              0.5555555555555556,
              "#d8576b"
             ],
             [
              0.6666666666666666,
              "#ed7953"
             ],
             [
              0.7777777777777778,
              "#fb9f3a"
             ],
             [
              0.8888888888888888,
              "#fdca26"
             ],
             [
              1,
              "#f0f921"
             ]
            ],
            "type": "surface"
           }
          ],
          "table": [
           {
            "cells": {
             "fill": {
              "color": "#EBF0F8"
             },
             "line": {
              "color": "white"
             }
            },
            "header": {
             "fill": {
              "color": "#C8D4E3"
             },
             "line": {
              "color": "white"
             }
            },
            "type": "table"
           }
          ]
         },
         "layout": {
          "annotationdefaults": {
           "arrowcolor": "#2a3f5f",
           "arrowhead": 0,
           "arrowwidth": 1
          },
          "autotypenumbers": "strict",
          "coloraxis": {
           "colorbar": {
            "outlinewidth": 0,
            "ticks": ""
           }
          },
          "colorscale": {
           "diverging": [
            [
             0,
             "#8e0152"
            ],
            [
             0.1,
             "#c51b7d"
            ],
            [
             0.2,
             "#de77ae"
            ],
            [
             0.3,
             "#f1b6da"
            ],
            [
             0.4,
             "#fde0ef"
            ],
            [
             0.5,
             "#f7f7f7"
            ],
            [
             0.6,
             "#e6f5d0"
            ],
            [
             0.7,
             "#b8e186"
            ],
            [
             0.8,
             "#7fbc41"
            ],
            [
             0.9,
             "#4d9221"
            ],
            [
             1,
             "#276419"
            ]
           ],
           "sequential": [
            [
             0,
             "#0d0887"
            ],
            [
             0.1111111111111111,
             "#46039f"
            ],
            [
             0.2222222222222222,
             "#7201a8"
            ],
            [
             0.3333333333333333,
             "#9c179e"
            ],
            [
             0.4444444444444444,
             "#bd3786"
            ],
            [
             0.5555555555555556,
             "#d8576b"
            ],
            [
             0.6666666666666666,
             "#ed7953"
            ],
            [
             0.7777777777777778,
             "#fb9f3a"
            ],
            [
             0.8888888888888888,
             "#fdca26"
            ],
            [
             1,
             "#f0f921"
            ]
           ],
           "sequentialminus": [
            [
             0,
             "#0d0887"
            ],
            [
             0.1111111111111111,
             "#46039f"
            ],
            [
             0.2222222222222222,
             "#7201a8"
            ],
            [
             0.3333333333333333,
             "#9c179e"
            ],
            [
             0.4444444444444444,
             "#bd3786"
            ],
            [
             0.5555555555555556,
             "#d8576b"
            ],
            [
             0.6666666666666666,
             "#ed7953"
            ],
            [
             0.7777777777777778,
             "#fb9f3a"
            ],
            [
             0.8888888888888888,
             "#fdca26"
            ],
            [
             1,
             "#f0f921"
            ]
           ]
          },
          "colorway": [
           "#636efa",
           "#EF553B",
           "#00cc96",
           "#ab63fa",
           "#FFA15A",
           "#19d3f3",
           "#FF6692",
           "#B6E880",
           "#FF97FF",
           "#FECB52"
          ],
          "font": {
           "color": "#2a3f5f"
          },
          "geo": {
           "bgcolor": "white",
           "lakecolor": "white",
           "landcolor": "#E5ECF6",
           "showlakes": true,
           "showland": true,
           "subunitcolor": "white"
          },
          "hoverlabel": {
           "align": "left"
          },
          "hovermode": "closest",
          "mapbox": {
           "style": "light"
          },
          "paper_bgcolor": "white",
          "plot_bgcolor": "#E5ECF6",
          "polar": {
           "angularaxis": {
            "gridcolor": "white",
            "linecolor": "white",
            "ticks": ""
           },
           "bgcolor": "#E5ECF6",
           "radialaxis": {
            "gridcolor": "white",
            "linecolor": "white",
            "ticks": ""
           }
          },
          "scene": {
           "xaxis": {
            "backgroundcolor": "#E5ECF6",
            "gridcolor": "white",
            "gridwidth": 2,
            "linecolor": "white",
            "showbackground": true,
            "ticks": "",
            "zerolinecolor": "white"
           },
           "yaxis": {
            "backgroundcolor": "#E5ECF6",
            "gridcolor": "white",
            "gridwidth": 2,
            "linecolor": "white",
            "showbackground": true,
            "ticks": "",
            "zerolinecolor": "white"
           },
           "zaxis": {
            "backgroundcolor": "#E5ECF6",
            "gridcolor": "white",
            "gridwidth": 2,
            "linecolor": "white",
            "showbackground": true,
            "ticks": "",
            "zerolinecolor": "white"
           }
          },
          "shapedefaults": {
           "line": {
            "color": "#2a3f5f"
           }
          },
          "ternary": {
           "aaxis": {
            "gridcolor": "white",
            "linecolor": "white",
            "ticks": ""
           },
           "baxis": {
            "gridcolor": "white",
            "linecolor": "white",
            "ticks": ""
           },
           "bgcolor": "#E5ECF6",
           "caxis": {
            "gridcolor": "white",
            "linecolor": "white",
            "ticks": ""
           }
          },
          "title": {
           "x": 0.05
          },
          "xaxis": {
           "automargin": true,
           "gridcolor": "white",
           "linecolor": "white",
           "ticks": "",
           "title": {
            "standoff": 15
           },
           "zerolinecolor": "white",
           "zerolinewidth": 2
          },
          "yaxis": {
           "automargin": true,
           "gridcolor": "white",
           "linecolor": "white",
           "ticks": "",
           "title": {
            "standoff": 15
           },
           "zerolinecolor": "white",
           "zerolinewidth": 2
          }
         }
        },
        "title": {
         "text": "Optimization History Plot"
        },
        "xaxis": {
         "title": {
          "text": "Trial"
         }
        },
        "yaxis": {
         "title": {
          "text": "Objective Value"
         }
        }
       }
      }
     },
     "metadata": {},
     "output_type": "display_data"
    },
    {
     "name": "stdout",
     "output_type": "stream",
     "text": [
      "Best trial: -0.0534644864499569\n",
      "Best parameters: {'alpha': 0.05542844305056269, 'lambda': 0.3641179012324551, 'eta': 0.09868284632371263, 'max_depth': 7, 'grow_policy': 'lossguide', 'min_child_weight': 5, 'gamma': 1.6143682239622444e-08, 'sample_type': 'uniform', 'normalize_type': 'tree', 'rate_drop': 1.404253528116133e-08, 'skip_drop': 2.6516331291323633e-05, 'updater': 'shotgun', 'feature_selector': 'cyclic'}\n"
     ]
    }
   ],
   "source": [
    "# define o espaço de busca e a função objetivo\n",
    "def xgboost_regressor_dart(\n",
    "\t\ttrial: opt.trial.Trial,\n",
    "\t\tX: pd.DataFrame,\n",
    "\t\ty: pd.DataFrame,\n",
    "\t) -> float:\n",
    "\thyperparameters = {\n",
    "\t\t# 'booster': trial.suggest_categorical('booster', ['gbtree', 'gblinear', 'dart']),\n",
    "\t\t'booster': 'dart',\n",
    "\t\t'objective': 'reg:squarederror',\n",
    "\t\t'eval_metric': 'rmse',\n",
    "\t\t'verbosity': 0,\n",
    "\t\t'alpha': trial.suggest_float('alpha', 1e-3, 1, log=True),\n",
    "\t\t'lambda': trial.suggest_float('lambda', 1e-3, 1, log=True),\n",
    "\t\t'eta': trial.suggest_float('eta', 1e-10, 1.0, log=True),\n",
    "\t\t'max_depth': trial.suggest_int('max_depth', 1, 9),\n",
    "\t\t'grow_policy': trial.suggest_categorical('grow_policy', ['depthwise', 'lossguide']),\n",
    "\t\t'min_child_weight': trial.suggest_int('min_child_weight', 0, 10),\n",
    "\t\t'gamma': trial.suggest_float('gamma', 1e-8, 1e8, log=True),\n",
    "\t\t'sample_type': trial.suggest_categorical('sample_type', ['uniform', 'weighted']),\n",
    "\t\t'normalize_type': trial.suggest_categorical('normalize_type', ['tree', 'forest']),\n",
    "\t\t'rate_drop': trial.suggest_float('rate_drop', 1e-8, 1.0, log=True),\n",
    "\t\t'skip_drop': trial.suggest_float('skip_drop', 1e-8, 1.0, log=True),\n",
    "\t\t'updater': trial.suggest_categorical('updater', ['coord_descent', 'shotgun']),\n",
    "\t\t'feature_selector': trial.suggest_categorical('feature_selector', ['cyclic', 'shuffle']),\n",
    "\t}\n",
    "\thp = {\n",
    "\t\t'booster': hyperparameters['booster'],\n",
    "\t\t'objective': hyperparameters['objective'],\n",
    "\t\t'eval_metric': hyperparameters['eval_metric'],\n",
    "\t\t'verbosity': hyperparameters['verbosity'],\n",
    "\t}\n",
    "\t\n",
    "\tif hyperparameters['booster'] in ['gbtree', 'dart']:\n",
    "\t\t# L1 regularization term on weights. Increasing this value will make model more conservative.\n",
    "\t\thp['alpha'] = hyperparameters['alpha']\n",
    "\t\t# L2 regularization term on weights. Increasing this value will make model more conservative.\n",
    "\t\thp['lambda'] = hyperparameters['lambda']\n",
    "\t\t# Step size shrinkage used in update to prevents overfitting\n",
    "\t\thp['eta'] = hyperparameters['eta']\n",
    "\t\t# maximum depth of the tree, signifies complexity of the tree.\n",
    "\t\thp['max_depth'] = hyperparameters['max_depth']\n",
    "\t\t# Controls a way new nodes are added to the tree.\n",
    "\t\thp['grow_policy'] = hyperparameters['grow_policy']\n",
    "\t\t# minimum child weight, larger the term more conservative the tree.\n",
    "\t\thp['min_child_weight'] = hyperparameters['min_child_weight']\n",
    "\t\t# defines how conservative algorithm is.\n",
    "\t\thp['gamma'] = hyperparameters['gamma']\n",
    "\n",
    "\tif hyperparameters['booster'] == 'dart':\n",
    "\t\t# sampling ratio for dropout.\n",
    "\t\thp['sample_type'] = hyperparameters['sample_type']\n",
    "\t\t# Type of normalization algorithm\n",
    "\t\thp['normalize_type'] = hyperparameters['normalize_type']\n",
    "\t\t# Dropout rate (a fraction of previous trees to drop during the dropout)\n",
    "\t\thp['rate_drop'] = hyperparameters['rate_drop']\n",
    "\t\t# Probability of skipping the dropout procedure during a boosting iteration.\n",
    "\t\thp['skip_drop'] = hyperparameters['skip_drop']\n",
    "\n",
    "\tif hyperparameters['booster'] == 'gblinear':\n",
    "\t\t# algorithm to fit linear model\n",
    "\t\thp['updater'] = hyperparameters['updater']\n",
    "\t\t# feature selector\n",
    "\t\thp['feature_selector'] = hyperparameters['feature_selector']\n",
    "\n",
    "\testimator = XGBRegressor(**hp)\n",
    "\ttrial.set_user_attr(key='estimator', value=estimator)\n",
    "\tscore = cross_val_score(estimator, X, y, n_jobs=-1, cv=5, scoring='neg_root_mean_squared_error')\n",
    "\treturn score.mean()\n",
    "\n",
    "np.seterr(divide='ignore', invalid='ignore')\n",
    "\n",
    "# rotina de otimização bayesiana\n",
    "xgboost_model_dart = optimize(\n",
    "\tobjective=xgboost_regressor_dart, \n",
    "\tdescription='xgboost_dart_risk', n_trials=100,\n",
    "\tX=data_train, y=targets_train, X_test=data_test, y_test=targets_test,)"
   ]
  },
  {
   "attachments": {},
   "cell_type": "markdown",
   "metadata": {},
   "source": [
    "#### comparação de modelos"
   ]
  },
  {
   "cell_type": "code",
   "execution_count": 24,
   "metadata": {},
   "outputs": [],
   "source": [
    "# plota a distribuição dos residuais\n",
    "def plot_residuals_distribution (\n",
    "\t\ty_true: pd.DataFrame, \n",
    "\t\ty_pred: pd.DataFrame, \n",
    "\t\ttitle: str\n",
    "\t) -> None:\n",
    "\tfig, axs = plt.subplot_mosaic([ ['R', 'R', 'R', 'D']],\tfigsize=(16, 6), constrained_layout=True, sharey=True)\n",
    "\tplt.rcParams['figure.figsize'] = (16, 6)\n",
    "\tsns.residplot(x=y_true, y=y_pred, scatter_kws={'s':10, 'alpha':0.8, 'color':'grey'}, \n",
    "\t\tlowess=True, line_kws={'lw':1, 'alpha': 1, 'color': 'red'}, label='prediction', ax=axs['R'])\n",
    "\tsns.distplot(y_true - y_pred, bins=20, kde=True, color='grey', label='prediction', ax=axs['D'], vertical=True)\n",
    "\tplt.title(title)\n",
    "\tplt.xlabel('residuais')\n",
    "\tplt.ylabel('densidade')\n",
    "\tplt.legend()\n",
    "\tplt.show()"
   ]
  },
  {
   "cell_type": "code",
   "execution_count": 25,
   "metadata": {},
   "outputs": [
    {
     "data": {
      "text/html": [
       "<div>\n",
       "<style scoped>\n",
       "    .dataframe tbody tr th:only-of-type {\n",
       "        vertical-align: middle;\n",
       "    }\n",
       "\n",
       "    .dataframe tbody tr th {\n",
       "        vertical-align: top;\n",
       "    }\n",
       "\n",
       "    .dataframe thead th {\n",
       "        text-align: right;\n",
       "    }\n",
       "</style>\n",
       "<table border=\"1\" class=\"dataframe\">\n",
       "  <thead>\n",
       "    <tr style=\"text-align: right;\">\n",
       "      <th></th>\n",
       "      <th></th>\n",
       "      <th>mae</th>\n",
       "      <th>rmse</th>\n",
       "      <th>r2</th>\n",
       "    </tr>\n",
       "  </thead>\n",
       "  <tbody>\n",
       "    <tr>\n",
       "      <th rowspan=\"2\" valign=\"top\">elasticnet_risk</th>\n",
       "      <th>validation</th>\n",
       "      <td>0.0732</td>\n",
       "      <td>0.0909</td>\n",
       "      <td>0.4659</td>\n",
       "    </tr>\n",
       "    <tr>\n",
       "      <th>test</th>\n",
       "      <td>0.0768</td>\n",
       "      <td>0.0948</td>\n",
       "      <td>0.4491</td>\n",
       "    </tr>\n",
       "    <tr>\n",
       "      <th rowspan=\"2\" valign=\"top\">random_forests_risk</th>\n",
       "      <th>validation</th>\n",
       "      <td>0.0180</td>\n",
       "      <td>0.0258</td>\n",
       "      <td>0.9570</td>\n",
       "    </tr>\n",
       "    <tr>\n",
       "      <th>test</th>\n",
       "      <td>0.0358</td>\n",
       "      <td>0.0505</td>\n",
       "      <td>0.8437</td>\n",
       "    </tr>\n",
       "    <tr>\n",
       "      <th rowspan=\"2\" valign=\"top\">xgboost_gbtree_risk</th>\n",
       "      <th>validation</th>\n",
       "      <td>0.0238</td>\n",
       "      <td>0.0327</td>\n",
       "      <td>0.9311</td>\n",
       "    </tr>\n",
       "    <tr>\n",
       "      <th>test</th>\n",
       "      <td>0.0377</td>\n",
       "      <td>0.0516</td>\n",
       "      <td>0.8365</td>\n",
       "    </tr>\n",
       "    <tr>\n",
       "      <th rowspan=\"2\" valign=\"top\">xgboost_dart_risk</th>\n",
       "      <th>validation</th>\n",
       "      <td>0.0257</td>\n",
       "      <td>0.0349</td>\n",
       "      <td>0.9213</td>\n",
       "    </tr>\n",
       "    <tr>\n",
       "      <th>test</th>\n",
       "      <td>0.0386</td>\n",
       "      <td>0.0523</td>\n",
       "      <td>0.8324</td>\n",
       "    </tr>\n",
       "  </tbody>\n",
       "</table>\n",
       "</div>"
      ],
      "text/plain": [
       "                                  mae   rmse     r2\n",
       "elasticnet_risk     validation 0.0732 0.0909 0.4659\n",
       "                    test       0.0768 0.0948 0.4491\n",
       "random_forests_risk validation 0.0180 0.0258 0.9570\n",
       "                    test       0.0358 0.0505 0.8437\n",
       "xgboost_gbtree_risk validation 0.0238 0.0327 0.9311\n",
       "                    test       0.0377 0.0516 0.8365\n",
       "xgboost_dart_risk   validation 0.0257 0.0349 0.9213\n",
       "                    test       0.0386 0.0523 0.8324"
      ]
     },
     "metadata": {},
     "output_type": "display_data"
    },
    {
     "data": {
      "image/png": "[encoded data removed]",
      "text/plain": [
       "<Figure size 1600x600 with 2 Axes>"
      ]
     },
     "metadata": {},
     "output_type": "display_data"
    },
    {
     "data": {
      "image/png": "[encoded data removed]",
      "text/plain": [
       "<Figure size 1600x600 with 2 Axes>"
      ]
     },
     "metadata": {},
     "output_type": "display_data"
    },
    {
     "data": {
      "image/png": "[encoded data removed]",
      "text/plain": [
       "<Figure size 1600x600 with 2 Axes>"
      ]
     },
     "metadata": {},
     "output_type": "display_data"
    },
    {
     "data": {
      "image/png": "[encoded data removed]",
      "text/plain": [
       "<Figure size 1600x600 with 2 Axes>"
      ]
     },
     "metadata": {},
     "output_type": "display_data"
    }
   ],
   "source": [
    "models = [elasticnet_model, random_forests_model, xgboost_model_gbtree, xgboost_model_dart]\n",
    "\n",
    "# compara os resultados entre os modelos\n",
    "results = pd.DataFrame()\n",
    "for model in models:\n",
    "\tvalidation = pd.DataFrame(model['metrics']['validation'], index=[[model['description']], ['validation']])\n",
    "\ttest = pd.DataFrame(model['metrics']['test'], index=[[model['description']], ['test']])\n",
    "\tresults = pd.concat([results, pd.concat([validation, test], axis=0)])\n",
    "\n",
    "display (results)\n",
    "# plota os graficos de residuais\n",
    "for model in models:\n",
    "\t# plot_residuals(targets_test, model['estimator'].predict(data_test), model['description'])\n",
    "\tplot_residuals_distribution(targets_test, model['estimator'].predict(data_test), model['description'])"
   ]
  },
  {
   "attachments": {},
   "cell_type": "markdown",
   "metadata": {},
   "source": [
    "⭐ nota\n",
    "<div style='color:#222200;background-color:#FFFFBB;padding:10px;'><table style='border:0px solid;width:100%'>\n",
    "<tr><td style=\"border:0px;font-size:60px;width:80px;background-color:#FFFFBB\">⭐</td><td style=\"border:0px;background-color:#FFFFBB;font-size:16px;\">\n",
    "O modelo de regressão xgboost apresentou bom desempenho com um MAE de 3.8% no dataset de teste\n",
    "</td></tr></table></div>"
   ]
  },
  {
   "attachments": {},
   "cell_type": "markdown",
   "metadata": {},
   "source": [
    "#### importância das features"
   ]
  },
  {
   "cell_type": "code",
   "execution_count": 26,
   "metadata": {},
   "outputs": [
    {
     "data": {
      "image/png": "[encoded data removed]",
      "text/plain": [
       "<Figure size 1000x500 with 1 Axes>"
      ]
     },
     "metadata": {},
     "output_type": "display_data"
    },
    {
     "data": {
      "image/png": "[encoded data removed]",
      "text/plain": [
       "<Figure size 1000x500 with 1 Axes>"
      ]
     },
     "metadata": {},
     "output_type": "display_data"
    },
    {
     "data": {
      "image/png": "[encoded data removed]",
      "text/plain": [
       "<Figure size 1000x500 with 1 Axes>"
      ]
     },
     "metadata": {},
     "output_type": "display_data"
    },
    {
     "data": {
      "image/png": "[encoded data removed]",
      "text/plain": [
       "<Figure size 1000x500 with 1 Axes>"
      ]
     },
     "metadata": {},
     "output_type": "display_data"
    }
   ],
   "source": [
    "def plot_feature_importances(\n",
    "\t\tmodel: dict,\n",
    "\t\tX: pd.DataFrame,\n",
    "\t\ty: pd.DataFrame,\n",
    "\t\t) -> None:\n",
    "\timportances = permutation_importance(model['estimator'], X, y, n_repeats=10)\n",
    "\ttable = pd.DataFrame(importances.importances_mean, index=X.columns, columns=['importance'])\n",
    "\ttable.sort_values(by='importance', ascending=True, inplace=True)\n",
    "\ttable.plot.barh(figsize=(10, 3+int(table.shape[0]/6)))\n",
    "\tplt.title(f\"importância das features para {model['description']}\")\n",
    "\tplt.show()\n",
    "\n",
    "for model in models:\n",
    "\tplot_feature_importances(model, data_train, targets_train)\n"
   ]
  },
  {
   "attachments": {},
   "cell_type": "markdown",
   "metadata": {},
   "source": [
    "### Conclusão"
   ]
  },
  {
   "attachments": {},
   "cell_type": "markdown",
   "metadata": {},
   "source": [
    "⭐ nota\n",
    "<div style='color:#222200;background-color:#FFFFBB;padding:10px;'><table style='border:0px solid;width:100%'>\n",
    "<tr><td style=\"border:0px;font-size:60px;width:80px;background-color:#FFFFBB\">⭐</td><td style=\"border:0px;background-color:#FFFFBB;font-size:16px;\">\n",
    "- O modelo xgboost performou com um erro médio absoluto de ~ 4%, sendo um modelo viável para a solução do problema <br>\n",
    "- O fator de risco calculado será utilizado como preditor para a estimativa do limite de crédito\n",
    "</td></tr></table></div>"
   ]
  },
  {
   "attachments": {},
   "cell_type": "markdown",
   "metadata": {},
   "source": [
    "#### persistência dos dados"
   ]
  },
  {
   "cell_type": "code",
   "execution_count": 28,
   "metadata": {},
   "outputs": [
    {
     "name": "stdout",
     "output_type": "stream",
     "text": [
      "<class 'pandas.core.frame.DataFrame'>\n",
      "Float64Index: 8973 entries, 1.0 to 9045.0\n",
      "Data columns (total 39 columns):\n",
      " #   Column                       Non-Null Count  Dtype  \n",
      "---  ------                       --------------  -----  \n",
      " 0   razaoSocial                  8973 non-null   object \n",
      " 1   nomeFantasia                 8973 non-null   object \n",
      " 2   cnpjSemTraco                 8973 non-null   object \n",
      " 3   maiorAtraso                  8973 non-null   int64  \n",
      " 4   margemBrutaAcumulada         8973 non-null   float64\n",
      " 5   percentualProtestos          7475 non-null   float64\n",
      " 6   primeiraCompra               8867 non-null   object \n",
      " 7   prazoMedioRecebimentoVendas  8973 non-null   int64  \n",
      " 8   titulosEmAberto              8973 non-null   float64\n",
      " 9   valorSolicitado              8973 non-null   float64\n",
      " 10  status                       8973 non-null   object \n",
      " 11  definicaoRisco               8973 non-null   object \n",
      " 12  diferencaPercentualRisco     8973 non-null   float64\n",
      " 13  percentualRisco              8973 non-null   float64\n",
      " 14  dashboardCorrelacao          8973 non-null   float64\n",
      " 15  valorAprovado                7569 non-null   float64\n",
      " 16  dataAprovadoEmComite         558 non-null    object \n",
      " 17  periodoBalanco               4733 non-null   object \n",
      " 18  ativoCirculante              4733 non-null   float64\n",
      " 19  passivoCirculante            4733 non-null   float64\n",
      " 20  totalAtivo                   4733 non-null   float64\n",
      " 21  totalPatrimonioLiquido       4733 non-null   float64\n",
      " 22  endividamento                4733 non-null   float64\n",
      " 23  duplicatasAReceber           4733 non-null   float64\n",
      " 24  estoque                      4733 non-null   float64\n",
      " 25  faturamentoBruto             8223 non-null   float64\n",
      " 26  margemBruta                  8223 non-null   float64\n",
      " 27  periodoDemonstrativoEmMeses  8223 non-null   float64\n",
      " 28  custos                       8223 non-null   float64\n",
      " 29  anoFundacao                  8228 non-null   float64\n",
      " 30  intervaloFundacao            8228 non-null   object \n",
      " 31  capitalSocial                8228 non-null   float64\n",
      " 32  restricoes                   8228 non-null   object \n",
      " 33  empresa_MeEppMei             8228 non-null   object \n",
      " 34  scorePontualidade            8973 non-null   float64\n",
      " 35  limiteEmpresaAnaliseCredito  8228 non-null   float64\n",
      " 36  dataAprovadoNivelAnalista    7011 non-null   object \n",
      " 37  cluster1                     6631 non-null   float64\n",
      " 38  percentualRisco2             6631 non-null   float32\n",
      "dtypes: float32(1), float64(24), int64(2), object(12)\n",
      "memory usage: 3.0+ MB\n",
      "None\n"
     ]
    }
   ],
   "source": [
    "best_model = xgboost_model_gbtree\n",
    "\n",
    "# gera as estimativas para a base de dados de teste\n",
    "predictions = best_model['estimator'].predict(features_preprocess)\n",
    "indexes = data.filter_status().engineer().select(identifier=True).encode(['cluster1']).type_cast().clean()[['numero_solicitacao']]\n",
    "indexes['percentualRisco2'] = predictions\n",
    "indexes = indexes.set_index('numero_solicitacao')\n",
    "\n",
    "# carrega a base de dados segmentada\n",
    "base = pd.read_csv('solicitacoescredito_segmentada.csv')\n",
    "base = base.set_index('numero_solicitacao')\n",
    "\n",
    "# realiza o join \n",
    "base = base.join(indexes, how='left')\n",
    "print (base.info())\n",
    "\n",
    "# salva a base de dados com os clusters\n",
    "base.to_csv('solicitacoescredito_risco.csv')"
   ]
  }
 ],
 "metadata": {
  "kernelspec": {
   "display_name": "edge",
   "language": "python",
   "name": "python3"
  },
  "language_info": {
   "codemirror_mode": {
    "name": "ipython",
    "version": 3
   },
   "file_extension": ".py",
   "mimetype": "text/x-python",
   "name": "python",
   "nbconvert_exporter": "python",
   "pygments_lexer": "ipython3",
   "version": "3.10.9"
  },
  "orig_nbformat": 4
 },
 "nbformat": 4,
 "nbformat_minor": 2
}
