{
 "cells": [
  {
   "attachments": {},
   "cell_type": "markdown",
   "metadata": {},
   "source": [
    "# FIAP Bootcamp - Wtec Suprimentos - Classificação de Novos Clientes\n",
    "Case: **Wtec Suprimentos - Análise de Crédito**\\\n",
    "Turma: **1IAR**\n",
    "\n",
    "| Nome dos Integrantes     | RM            | Turma |\n",
    "| :----------------------- | :------------- | :-----: |\n",
    "| Claudio Manuel           | RM 346353      | 1IAR |\n",
    "| Jonas Zarpellon          | RM 345724      | 1IAR |\n",
    "| Rafael Yuji              | RM 346108      | 1IAR |"
   ]
  },
  {
   "attachments": {},
   "cell_type": "markdown",
   "metadata": {},
   "source": [
    "## Introdução\n",
    "\n",
    "### Problema Proposto - Parte 3: Classificação de Novos Clientes\n",
    "- Um problema Jä mapeado é o que fazer apos a geracäo desses grupos quando chegar um novo cliente solicitando um novo crédito?\n",
    "- Como seria possivel indicar o grupo desse cliente sem ter que refazer todos os grupos?\n",
    "\n",
    "### Abordagem Proposta\n",
    "- O objetivo desta modelagem é treinar um algoritmo de aprendizado capaz de classificar automaticamente novos clientes com base na segmentação atualmente existente\n",
    "- Será utilizado um algoritmo supervisionado para essa classificação, baseado nas segmentações obtidas no modelo de clusterização\n",
    "- Serão explorados os dois cenários propostos até o momento, e ambos serão comparados ao final:\n",
    "\t- cenário 1: utilizando informações do cliente disponíveis sem a exigência das documentações contábeis\n",
    "\t- cenário 2: utilizando informações disponíveis nas documentações contábeis"
   ]
  },
  {
   "attachments": {},
   "cell_type": "markdown",
   "metadata": {},
   "source": [
    "### Setup"
   ]
  },
  {
   "cell_type": "code",
   "execution_count": 1,
   "metadata": {},
   "outputs": [
    {
     "name": "stderr",
     "output_type": "stream",
     "text": [
      "Intel(R) Extension for Scikit-learn* enabled (https://github.com/intel/scikit-learn-intelex)\n"
     ]
    }
   ],
   "source": [
    "# dados / io\n",
    "import pandas as pd\n",
    "import pandas_flavor as pf\n",
    "import numpy as np\n",
    "import joblib\n",
    "# plotting\n",
    "import matplotlib.pyplot as plt\n",
    "import seaborn as sns\n",
    "%matplotlib inline\n",
    "# otimização\n",
    "from sklearnex import patch_sklearn\n",
    "patch_sklearn()\n",
    "# preprocessamento\n",
    "from sklearn.preprocessing import StandardScaler\n",
    "# machine learning\n",
    "from sklearn.linear_model import LogisticRegression\n",
    "from sklearn.tree import DecisionTreeClassifier\n",
    "from sklearn.naive_bayes import GaussianNB\n",
    "# seleção de modelos\n",
    "import optuna as opt\n",
    "opt.logging.set_verbosity(opt.logging.WARNING)\n",
    "from sklearn.model_selection import cross_val_score, train_test_split\n",
    "from sklearn.metrics import classification_report, confusion_matrix, ConfusionMatrixDisplay\n",
    "from sklearn.inspection import permutation_importance\n",
    "# display\n",
    "import warnings\n",
    "warnings.filterwarnings(\"ignore\", category=UserWarning)\n",
    "warnings.filterwarnings(\"ignore\", category=DeprecationWarning)\n",
    "warnings.filterwarnings('ignore', category=opt.exceptions.ExperimentalWarning)\n",
    "pd.options.display.float_format = '{:,.4f}'.format\n"
   ]
  },
  {
   "cell_type": "markdown",
   "metadata": {},
   "source": [
    "### Carga de Dados"
   ]
  },
  {
   "cell_type": "code",
   "execution_count": 2,
   "metadata": {},
   "outputs": [
    {
     "data": {
      "text/html": [
       "<div>\n",
       "<style scoped>\n",
       "    .dataframe tbody tr th:only-of-type {\n",
       "        vertical-align: middle;\n",
       "    }\n",
       "\n",
       "    .dataframe tbody tr th {\n",
       "        vertical-align: top;\n",
       "    }\n",
       "\n",
       "    .dataframe thead th {\n",
       "        text-align: right;\n",
       "    }\n",
       "</style>\n",
       "<table border=\"1\" class=\"dataframe\">\n",
       "  <thead>\n",
       "    <tr style=\"text-align: right;\">\n",
       "      <th></th>\n",
       "      <th>2147</th>\n",
       "      <th>2045</th>\n",
       "      <th>106</th>\n",
       "      <th>7071</th>\n",
       "      <th>3137</th>\n",
       "    </tr>\n",
       "  </thead>\n",
       "  <tbody>\n",
       "    <tr>\n",
       "      <th>numero_solicitacao</th>\n",
       "      <td>2,220.0000</td>\n",
       "      <td>2,118.0000</td>\n",
       "      <td>112.0000</td>\n",
       "      <td>7,144.0000</td>\n",
       "      <td>3,210.0000</td>\n",
       "    </tr>\n",
       "    <tr>\n",
       "      <th>razaoSocial</th>\n",
       "      <td>Andrea Thomas</td>\n",
       "      <td>Dr. Laura Jones</td>\n",
       "      <td>Paul Smith</td>\n",
       "      <td>Sian Evans</td>\n",
       "      <td>Brenda Clarke</td>\n",
       "    </tr>\n",
       "    <tr>\n",
       "      <th>nomeFantasia</th>\n",
       "      <td>Elizabeth Harrison-Davis</td>\n",
       "      <td>Jeremy Savage</td>\n",
       "      <td>Dr. Hilary Abbott</td>\n",
       "      <td>Marie Chapman</td>\n",
       "      <td>Dr. Mohamed Phillips</td>\n",
       "    </tr>\n",
       "    <tr>\n",
       "      <th>cnpjSemTraco</th>\n",
       "      <td>HLSB25210925374623</td>\n",
       "      <td>EAHM06412905306774</td>\n",
       "      <td>HXQX28522825811324</td>\n",
       "      <td>AXJA46741304327572</td>\n",
       "      <td>APRH60376910869961</td>\n",
       "    </tr>\n",
       "    <tr>\n",
       "      <th>maiorAtraso</th>\n",
       "      <td>6</td>\n",
       "      <td>6</td>\n",
       "      <td>5</td>\n",
       "      <td>20</td>\n",
       "      <td>36</td>\n",
       "    </tr>\n",
       "    <tr>\n",
       "      <th>margemBrutaAcumulada</th>\n",
       "      <td>0.3538</td>\n",
       "      <td>0.6047</td>\n",
       "      <td>0.2891</td>\n",
       "      <td>0.2964</td>\n",
       "      <td>0.5048</td>\n",
       "    </tr>\n",
       "    <tr>\n",
       "      <th>percentualProtestos</th>\n",
       "      <td>0.0000</td>\n",
       "      <td>0.0000</td>\n",
       "      <td>0.0000</td>\n",
       "      <td>0.0000</td>\n",
       "      <td>0.0000</td>\n",
       "    </tr>\n",
       "    <tr>\n",
       "      <th>primeiraCompra</th>\n",
       "      <td>2017-06-14T00:00:00</td>\n",
       "      <td>2013-12-04T00:00:00</td>\n",
       "      <td>2012-12-13T00:00:00</td>\n",
       "      <td>2017-03-20T00:00:00</td>\n",
       "      <td>2011-10-14T00:00:00</td>\n",
       "    </tr>\n",
       "    <tr>\n",
       "      <th>prazoMedioRecebimentoVendas</th>\n",
       "      <td>68</td>\n",
       "      <td>0</td>\n",
       "      <td>0</td>\n",
       "      <td>0</td>\n",
       "      <td>48</td>\n",
       "    </tr>\n",
       "    <tr>\n",
       "      <th>titulosEmAberto</th>\n",
       "      <td>31,876.9000</td>\n",
       "      <td>0.0000</td>\n",
       "      <td>0.0000</td>\n",
       "      <td>0.0000</td>\n",
       "      <td>95,983.7400</td>\n",
       "    </tr>\n",
       "    <tr>\n",
       "      <th>valorSolicitado</th>\n",
       "      <td>50,000.0000</td>\n",
       "      <td>20,000.0000</td>\n",
       "      <td>50,000.0000</td>\n",
       "      <td>20,000.0000</td>\n",
       "      <td>150,000.0000</td>\n",
       "    </tr>\n",
       "    <tr>\n",
       "      <th>status</th>\n",
       "      <td>AprovadoAnalista</td>\n",
       "      <td>AprovadoAnalista</td>\n",
       "      <td>AprovadoAnalista</td>\n",
       "      <td>AprovadoAnalista</td>\n",
       "      <td>AprovadoAnalista</td>\n",
       "    </tr>\n",
       "    <tr>\n",
       "      <th>definicaoRisco</th>\n",
       "      <td>De 11 a 30 % - Baixo</td>\n",
       "      <td>De 11 a 30 % - Baixo</td>\n",
       "      <td>De 31 a 50 % - Médio</td>\n",
       "      <td>De 31 a 50 % - Médio</td>\n",
       "      <td>De 11 a 30 % - Baixo</td>\n",
       "    </tr>\n",
       "    <tr>\n",
       "      <th>diferencaPercentualRisco</th>\n",
       "      <td>0.6964</td>\n",
       "      <td>0.7500</td>\n",
       "      <td>0.6415</td>\n",
       "      <td>0.5000</td>\n",
       "      <td>0.7500</td>\n",
       "    </tr>\n",
       "    <tr>\n",
       "      <th>percentualRisco</th>\n",
       "      <td>0.3036</td>\n",
       "      <td>0.2500</td>\n",
       "      <td>0.3585</td>\n",
       "      <td>0.5000</td>\n",
       "      <td>0.2500</td>\n",
       "    </tr>\n",
       "    <tr>\n",
       "      <th>dashboardCorrelacao</th>\n",
       "      <td>0.9194</td>\n",
       "      <td>-0.0000</td>\n",
       "      <td>0.0000</td>\n",
       "      <td>0.8658</td>\n",
       "      <td>0.0000</td>\n",
       "    </tr>\n",
       "    <tr>\n",
       "      <th>valorAprovado</th>\n",
       "      <td>32,000.0000</td>\n",
       "      <td>20,000.0000</td>\n",
       "      <td>50,000.0000</td>\n",
       "      <td>10,000.0000</td>\n",
       "      <td>150,000.0000</td>\n",
       "    </tr>\n",
       "    <tr>\n",
       "      <th>dataAprovadoEmComite</th>\n",
       "      <td>NaN</td>\n",
       "      <td>NaN</td>\n",
       "      <td>NaN</td>\n",
       "      <td>NaN</td>\n",
       "      <td>NaN</td>\n",
       "    </tr>\n",
       "    <tr>\n",
       "      <th>periodoBalanco</th>\n",
       "      <td>2018-12-31T02:00:00</td>\n",
       "      <td>NaN</td>\n",
       "      <td>NaN</td>\n",
       "      <td>2019-12-31T00:00:00</td>\n",
       "      <td>2019-12-31T03:00:00</td>\n",
       "    </tr>\n",
       "    <tr>\n",
       "      <th>ativoCirculante</th>\n",
       "      <td>1,123,908.0000</td>\n",
       "      <td>NaN</td>\n",
       "      <td>NaN</td>\n",
       "      <td>3,034,015.0000</td>\n",
       "      <td>914,942.0000</td>\n",
       "    </tr>\n",
       "    <tr>\n",
       "      <th>passivoCirculante</th>\n",
       "      <td>544,642.0000</td>\n",
       "      <td>NaN</td>\n",
       "      <td>NaN</td>\n",
       "      <td>3,472,019.0000</td>\n",
       "      <td>355,509.0000</td>\n",
       "    </tr>\n",
       "    <tr>\n",
       "      <th>totalAtivo</th>\n",
       "      <td>1,166,822.0000</td>\n",
       "      <td>NaN</td>\n",
       "      <td>NaN</td>\n",
       "      <td>3,713,742.0000</td>\n",
       "      <td>922,394.0000</td>\n",
       "    </tr>\n",
       "    <tr>\n",
       "      <th>totalPatrimonioLiquido</th>\n",
       "      <td>622,179.0000</td>\n",
       "      <td>NaN</td>\n",
       "      <td>NaN</td>\n",
       "      <td>241,723.0000</td>\n",
       "      <td>71,052.0000</td>\n",
       "    </tr>\n",
       "    <tr>\n",
       "      <th>endividamento</th>\n",
       "      <td>34,778.0000</td>\n",
       "      <td>NaN</td>\n",
       "      <td>NaN</td>\n",
       "      <td>1,856,500.0000</td>\n",
       "      <td>0.0000</td>\n",
       "    </tr>\n",
       "    <tr>\n",
       "      <th>duplicatasAReceber</th>\n",
       "      <td>374,176.0000</td>\n",
       "      <td>NaN</td>\n",
       "      <td>NaN</td>\n",
       "      <td>409,524.0000</td>\n",
       "      <td>497,220.0000</td>\n",
       "    </tr>\n",
       "    <tr>\n",
       "      <th>estoque</th>\n",
       "      <td>0.0000</td>\n",
       "      <td>NaN</td>\n",
       "      <td>NaN</td>\n",
       "      <td>1,721,044.0000</td>\n",
       "      <td>103,615.0000</td>\n",
       "    </tr>\n",
       "    <tr>\n",
       "      <th>faturamentoBruto</th>\n",
       "      <td>2,774,207.0000</td>\n",
       "      <td>2,298,078.0000</td>\n",
       "      <td>13,313,452.0000</td>\n",
       "      <td>4,101,313.0000</td>\n",
       "      <td>3,320,956.0000</td>\n",
       "    </tr>\n",
       "    <tr>\n",
       "      <th>margemBruta</th>\n",
       "      <td>0.0000</td>\n",
       "      <td>0.0000</td>\n",
       "      <td>0.0000</td>\n",
       "      <td>2,060,458.0000</td>\n",
       "      <td>1,220,702.0000</td>\n",
       "    </tr>\n",
       "    <tr>\n",
       "      <th>periodoDemonstrativoEmMeses</th>\n",
       "      <td>9.0000</td>\n",
       "      <td>12.0000</td>\n",
       "      <td>12.0000</td>\n",
       "      <td>12.0000</td>\n",
       "      <td>12.0000</td>\n",
       "    </tr>\n",
       "    <tr>\n",
       "      <th>custos</th>\n",
       "      <td>0.0000</td>\n",
       "      <td>0.0000</td>\n",
       "      <td>0.0000</td>\n",
       "      <td>2,040,855.0000</td>\n",
       "      <td>2,100,254.0000</td>\n",
       "    </tr>\n",
       "    <tr>\n",
       "      <th>anoFundacao</th>\n",
       "      <td>2,006.0000</td>\n",
       "      <td>1,997.0000</td>\n",
       "      <td>1,996.0000</td>\n",
       "      <td>2,016.0000</td>\n",
       "      <td>2,010.0000</td>\n",
       "    </tr>\n",
       "    <tr>\n",
       "      <th>intervaloFundacao</th>\n",
       "      <td>De 11 a 16 anos</td>\n",
       "      <td>Acima de 17 anos</td>\n",
       "      <td>Acima de 17 anos</td>\n",
       "      <td>De 0 a 5 anos</td>\n",
       "      <td>De 6 a 10 anos</td>\n",
       "    </tr>\n",
       "    <tr>\n",
       "      <th>capitalSocial</th>\n",
       "      <td>133,000.0000</td>\n",
       "      <td>100,000.0000</td>\n",
       "      <td>110,000.0000</td>\n",
       "      <td>100,000.0000</td>\n",
       "      <td>50,000.0000</td>\n",
       "    </tr>\n",
       "    <tr>\n",
       "      <th>restricoes</th>\n",
       "      <td>False</td>\n",
       "      <td>False</td>\n",
       "      <td>True</td>\n",
       "      <td>False</td>\n",
       "      <td>False</td>\n",
       "    </tr>\n",
       "    <tr>\n",
       "      <th>empresa_MeEppMei</th>\n",
       "      <td>True</td>\n",
       "      <td>True</td>\n",
       "      <td>True</td>\n",
       "      <td>True</td>\n",
       "      <td>True</td>\n",
       "    </tr>\n",
       "    <tr>\n",
       "      <th>scorePontualidade</th>\n",
       "      <td>1.0000</td>\n",
       "      <td>0.9702</td>\n",
       "      <td>1.0000</td>\n",
       "      <td>1.0000</td>\n",
       "      <td>1.0000</td>\n",
       "    </tr>\n",
       "    <tr>\n",
       "      <th>limiteEmpresaAnaliseCredito</th>\n",
       "      <td>28,600.0000</td>\n",
       "      <td>7,040.0000</td>\n",
       "      <td>52,000.0000</td>\n",
       "      <td>52,800.0000</td>\n",
       "      <td>388,500.0000</td>\n",
       "    </tr>\n",
       "    <tr>\n",
       "      <th>dataAprovadoNivelAnalista</th>\n",
       "      <td>2020-05-21T19:14:17</td>\n",
       "      <td>2020-05-18T17:25:06</td>\n",
       "      <td>2020-02-07T21:50:23</td>\n",
       "      <td>2020-12-10T13:22:38</td>\n",
       "      <td>2020-07-13T18:41:25</td>\n",
       "    </tr>\n",
       "    <tr>\n",
       "      <th>cluster</th>\n",
       "      <td>2.0000</td>\n",
       "      <td>2.0000</td>\n",
       "      <td>1.0000</td>\n",
       "      <td>2.0000</td>\n",
       "      <td>2.0000</td>\n",
       "    </tr>\n",
       "    <tr>\n",
       "      <th>limiteCredito</th>\n",
       "      <td>63,876.9000</td>\n",
       "      <td>20,000.0000</td>\n",
       "      <td>50,000.0000</td>\n",
       "      <td>10,000.0000</td>\n",
       "      <td>245,983.7400</td>\n",
       "    </tr>\n",
       "  </tbody>\n",
       "</table>\n",
       "</div>"
      ],
      "text/plain": [
       "                                                 2147                  2045  \\\n",
       "numero_solicitacao                         2,220.0000            2,118.0000   \n",
       "razaoSocial                             Andrea Thomas       Dr. Laura Jones   \n",
       "nomeFantasia                 Elizabeth Harrison-Davis         Jeremy Savage   \n",
       "cnpjSemTraco                       HLSB25210925374623    EAHM06412905306774   \n",
       "maiorAtraso                                         6                     6   \n",
       "margemBrutaAcumulada                           0.3538                0.6047   \n",
       "percentualProtestos                            0.0000                0.0000   \n",
       "primeiraCompra                    2017-06-14T00:00:00   2013-12-04T00:00:00   \n",
       "prazoMedioRecebimentoVendas                        68                     0   \n",
       "titulosEmAberto                           31,876.9000                0.0000   \n",
       "valorSolicitado                           50,000.0000           20,000.0000   \n",
       "status                               AprovadoAnalista      AprovadoAnalista   \n",
       "definicaoRisco                   De 11 a 30 % - Baixo  De 11 a 30 % - Baixo   \n",
       "diferencaPercentualRisco                       0.6964                0.7500   \n",
       "percentualRisco                                0.3036                0.2500   \n",
       "dashboardCorrelacao                            0.9194               -0.0000   \n",
       "valorAprovado                             32,000.0000           20,000.0000   \n",
       "dataAprovadoEmComite                              NaN                   NaN   \n",
       "periodoBalanco                    2018-12-31T02:00:00                   NaN   \n",
       "ativoCirculante                        1,123,908.0000                   NaN   \n",
       "passivoCirculante                        544,642.0000                   NaN   \n",
       "totalAtivo                             1,166,822.0000                   NaN   \n",
       "totalPatrimonioLiquido                   622,179.0000                   NaN   \n",
       "endividamento                             34,778.0000                   NaN   \n",
       "duplicatasAReceber                       374,176.0000                   NaN   \n",
       "estoque                                        0.0000                   NaN   \n",
       "faturamentoBruto                       2,774,207.0000        2,298,078.0000   \n",
       "margemBruta                                    0.0000                0.0000   \n",
       "periodoDemonstrativoEmMeses                    9.0000               12.0000   \n",
       "custos                                         0.0000                0.0000   \n",
       "anoFundacao                                2,006.0000            1,997.0000   \n",
       "intervaloFundacao                     De 11 a 16 anos      Acima de 17 anos   \n",
       "capitalSocial                            133,000.0000          100,000.0000   \n",
       "restricoes                                      False                 False   \n",
       "empresa_MeEppMei                                 True                  True   \n",
       "scorePontualidade                              1.0000                0.9702   \n",
       "limiteEmpresaAnaliseCredito               28,600.0000            7,040.0000   \n",
       "dataAprovadoNivelAnalista         2020-05-21T19:14:17   2020-05-18T17:25:06   \n",
       "cluster                                        2.0000                2.0000   \n",
       "limiteCredito                             63,876.9000           20,000.0000   \n",
       "\n",
       "                                             106                   7071  \\\n",
       "numero_solicitacao                       112.0000            7,144.0000   \n",
       "razaoSocial                            Paul Smith            Sian Evans   \n",
       "nomeFantasia                    Dr. Hilary Abbott         Marie Chapman   \n",
       "cnpjSemTraco                   HXQX28522825811324    AXJA46741304327572   \n",
       "maiorAtraso                                     5                    20   \n",
       "margemBrutaAcumulada                       0.2891                0.2964   \n",
       "percentualProtestos                        0.0000                0.0000   \n",
       "primeiraCompra                2012-12-13T00:00:00   2017-03-20T00:00:00   \n",
       "prazoMedioRecebimentoVendas                     0                     0   \n",
       "titulosEmAberto                            0.0000                0.0000   \n",
       "valorSolicitado                       50,000.0000           20,000.0000   \n",
       "status                           AprovadoAnalista      AprovadoAnalista   \n",
       "definicaoRisco               De 31 a 50 % - Médio  De 31 a 50 % - Médio   \n",
       "diferencaPercentualRisco                   0.6415                0.5000   \n",
       "percentualRisco                            0.3585                0.5000   \n",
       "dashboardCorrelacao                        0.0000                0.8658   \n",
       "valorAprovado                         50,000.0000           10,000.0000   \n",
       "dataAprovadoEmComite                          NaN                   NaN   \n",
       "periodoBalanco                                NaN   2019-12-31T00:00:00   \n",
       "ativoCirculante                               NaN        3,034,015.0000   \n",
       "passivoCirculante                             NaN        3,472,019.0000   \n",
       "totalAtivo                                    NaN        3,713,742.0000   \n",
       "totalPatrimonioLiquido                        NaN          241,723.0000   \n",
       "endividamento                                 NaN        1,856,500.0000   \n",
       "duplicatasAReceber                            NaN          409,524.0000   \n",
       "estoque                                       NaN        1,721,044.0000   \n",
       "faturamentoBruto                  13,313,452.0000        4,101,313.0000   \n",
       "margemBruta                                0.0000        2,060,458.0000   \n",
       "periodoDemonstrativoEmMeses               12.0000               12.0000   \n",
       "custos                                     0.0000        2,040,855.0000   \n",
       "anoFundacao                            1,996.0000            2,016.0000   \n",
       "intervaloFundacao                Acima de 17 anos         De 0 a 5 anos   \n",
       "capitalSocial                        110,000.0000          100,000.0000   \n",
       "restricoes                                   True                 False   \n",
       "empresa_MeEppMei                             True                  True   \n",
       "scorePontualidade                          1.0000                1.0000   \n",
       "limiteEmpresaAnaliseCredito           52,000.0000           52,800.0000   \n",
       "dataAprovadoNivelAnalista     2020-02-07T21:50:23   2020-12-10T13:22:38   \n",
       "cluster                                    1.0000                2.0000   \n",
       "limiteCredito                         50,000.0000           10,000.0000   \n",
       "\n",
       "                                             3137  \n",
       "numero_solicitacao                     3,210.0000  \n",
       "razaoSocial                         Brenda Clarke  \n",
       "nomeFantasia                 Dr. Mohamed Phillips  \n",
       "cnpjSemTraco                   APRH60376910869961  \n",
       "maiorAtraso                                    36  \n",
       "margemBrutaAcumulada                       0.5048  \n",
       "percentualProtestos                        0.0000  \n",
       "primeiraCompra                2011-10-14T00:00:00  \n",
       "prazoMedioRecebimentoVendas                    48  \n",
       "titulosEmAberto                       95,983.7400  \n",
       "valorSolicitado                      150,000.0000  \n",
       "status                           AprovadoAnalista  \n",
       "definicaoRisco               De 11 a 30 % - Baixo  \n",
       "diferencaPercentualRisco                   0.7500  \n",
       "percentualRisco                            0.2500  \n",
       "dashboardCorrelacao                        0.0000  \n",
       "valorAprovado                        150,000.0000  \n",
       "dataAprovadoEmComite                          NaN  \n",
       "periodoBalanco                2019-12-31T03:00:00  \n",
       "ativoCirculante                      914,942.0000  \n",
       "passivoCirculante                    355,509.0000  \n",
       "totalAtivo                           922,394.0000  \n",
       "totalPatrimonioLiquido                71,052.0000  \n",
       "endividamento                              0.0000  \n",
       "duplicatasAReceber                   497,220.0000  \n",
       "estoque                              103,615.0000  \n",
       "faturamentoBruto                   3,320,956.0000  \n",
       "margemBruta                        1,220,702.0000  \n",
       "periodoDemonstrativoEmMeses               12.0000  \n",
       "custos                             2,100,254.0000  \n",
       "anoFundacao                            2,010.0000  \n",
       "intervaloFundacao                  De 6 a 10 anos  \n",
       "capitalSocial                         50,000.0000  \n",
       "restricoes                                  False  \n",
       "empresa_MeEppMei                             True  \n",
       "scorePontualidade                          1.0000  \n",
       "limiteEmpresaAnaliseCredito          388,500.0000  \n",
       "dataAprovadoNivelAnalista     2020-07-13T18:41:25  \n",
       "cluster                                    2.0000  \n",
       "limiteCredito                        245,983.7400  "
      ]
     },
     "execution_count": 2,
     "metadata": {},
     "output_type": "execute_result"
    }
   ],
   "source": [
    "data = pd.read_csv('solicitacoescredito_segmentada.csv')\n",
    "data.sample(5).T"
   ]
  },
  {
   "attachments": {},
   "cell_type": "markdown",
   "metadata": {},
   "source": [
    "### Pre-Processamento"
   ]
  },
  {
   "attachments": {},
   "cell_type": "markdown",
   "metadata": {},
   "source": [
    "#### filtro"
   ]
  },
  {
   "cell_type": "code",
   "execution_count": 3,
   "metadata": {},
   "outputs": [
    {
     "data": {
      "text/html": [
       "<div>\n",
       "<style scoped>\n",
       "    .dataframe tbody tr th:only-of-type {\n",
       "        vertical-align: middle;\n",
       "    }\n",
       "\n",
       "    .dataframe tbody tr th {\n",
       "        vertical-align: top;\n",
       "    }\n",
       "\n",
       "    .dataframe thead th {\n",
       "        text-align: right;\n",
       "    }\n",
       "</style>\n",
       "<table border=\"1\" class=\"dataframe\">\n",
       "  <thead>\n",
       "    <tr style=\"text-align: right;\">\n",
       "      <th></th>\n",
       "      <th>count</th>\n",
       "      <th>mean</th>\n",
       "      <th>std</th>\n",
       "      <th>min</th>\n",
       "      <th>25%</th>\n",
       "      <th>50%</th>\n",
       "      <th>75%</th>\n",
       "      <th>max</th>\n",
       "    </tr>\n",
       "  </thead>\n",
       "  <tbody>\n",
       "    <tr>\n",
       "      <th>numero_solicitacao</th>\n",
       "      <td>7,201.0000</td>\n",
       "      <td>4,562.6327</td>\n",
       "      <td>2,601.4811</td>\n",
       "      <td>1.0000</td>\n",
       "      <td>2,353.0000</td>\n",
       "      <td>4,585.0000</td>\n",
       "      <td>6,827.0000</td>\n",
       "      <td>9,034.0000</td>\n",
       "    </tr>\n",
       "    <tr>\n",
       "      <th>maiorAtraso</th>\n",
       "      <td>7,201.0000</td>\n",
       "      <td>24.3693</td>\n",
       "      <td>64.0252</td>\n",
       "      <td>0.0000</td>\n",
       "      <td>3.0000</td>\n",
       "      <td>6.0000</td>\n",
       "      <td>22.0000</td>\n",
       "      <td>977.0000</td>\n",
       "    </tr>\n",
       "    <tr>\n",
       "      <th>margemBrutaAcumulada</th>\n",
       "      <td>7,201.0000</td>\n",
       "      <td>0.3669</td>\n",
       "      <td>0.1982</td>\n",
       "      <td>0.0000</td>\n",
       "      <td>0.2916</td>\n",
       "      <td>0.4066</td>\n",
       "      <td>0.5083</td>\n",
       "      <td>1.0000</td>\n",
       "    </tr>\n",
       "    <tr>\n",
       "      <th>percentualProtestos</th>\n",
       "      <td>6,057.0000</td>\n",
       "      <td>0.0149</td>\n",
       "      <td>0.5618</td>\n",
       "      <td>0.0000</td>\n",
       "      <td>0.0000</td>\n",
       "      <td>0.0000</td>\n",
       "      <td>0.0000</td>\n",
       "      <td>36.9837</td>\n",
       "    </tr>\n",
       "    <tr>\n",
       "      <th>prazoMedioRecebimentoVendas</th>\n",
       "      <td>7,201.0000</td>\n",
       "      <td>24.1857</td>\n",
       "      <td>71.0564</td>\n",
       "      <td>0.0000</td>\n",
       "      <td>0.0000</td>\n",
       "      <td>0.0000</td>\n",
       "      <td>32.0000</td>\n",
       "      <td>1,605.0000</td>\n",
       "    </tr>\n",
       "    <tr>\n",
       "      <th>titulosEmAberto</th>\n",
       "      <td>7,201.0000</td>\n",
       "      <td>61,165.5448</td>\n",
       "      <td>216,805.2221</td>\n",
       "      <td>0.0000</td>\n",
       "      <td>0.0000</td>\n",
       "      <td>0.0000</td>\n",
       "      <td>18,605.3000</td>\n",
       "      <td>2,836,656.0000</td>\n",
       "    </tr>\n",
       "    <tr>\n",
       "      <th>valorSolicitado</th>\n",
       "      <td>7,201.0000</td>\n",
       "      <td>480,475.4699</td>\n",
       "      <td>15,912,896.0448</td>\n",
       "      <td>3,000.0000</td>\n",
       "      <td>25,000.0000</td>\n",
       "      <td>50,000.0000</td>\n",
       "      <td>130,000.0000</td>\n",
       "      <td>1,200,000,000.0000</td>\n",
       "    </tr>\n",
       "    <tr>\n",
       "      <th>diferencaPercentualRisco</th>\n",
       "      <td>7,201.0000</td>\n",
       "      <td>0.7402</td>\n",
       "      <td>0.1255</td>\n",
       "      <td>0.2642</td>\n",
       "      <td>0.6429</td>\n",
       "      <td>0.7500</td>\n",
       "      <td>0.8491</td>\n",
       "      <td>1.0000</td>\n",
       "    </tr>\n",
       "    <tr>\n",
       "      <th>percentualRisco</th>\n",
       "      <td>7,201.0000</td>\n",
       "      <td>0.2598</td>\n",
       "      <td>0.1255</td>\n",
       "      <td>0.0000</td>\n",
       "      <td>0.1509</td>\n",
       "      <td>0.2500</td>\n",
       "      <td>0.3571</td>\n",
       "      <td>0.7358</td>\n",
       "    </tr>\n",
       "    <tr>\n",
       "      <th>dashboardCorrelacao</th>\n",
       "      <td>7,201.0000</td>\n",
       "      <td>0.0429</td>\n",
       "      <td>0.4955</td>\n",
       "      <td>-1.0000</td>\n",
       "      <td>0.0000</td>\n",
       "      <td>0.0000</td>\n",
       "      <td>0.0000</td>\n",
       "      <td>1.0000</td>\n",
       "    </tr>\n",
       "    <tr>\n",
       "      <th>valorAprovado</th>\n",
       "      <td>7,201.0000</td>\n",
       "      <td>174,638.5098</td>\n",
       "      <td>454,544.9641</td>\n",
       "      <td>0.0000</td>\n",
       "      <td>20,000.0000</td>\n",
       "      <td>40,000.0000</td>\n",
       "      <td>100,000.0000</td>\n",
       "      <td>6,550,000.0000</td>\n",
       "    </tr>\n",
       "    <tr>\n",
       "      <th>ativoCirculante</th>\n",
       "      <td>4,265.0000</td>\n",
       "      <td>47,400,990.9512</td>\n",
       "      <td>491,815,257.6544</td>\n",
       "      <td>0.0000</td>\n",
       "      <td>987,594.0000</td>\n",
       "      <td>4,235,889.0000</td>\n",
       "      <td>17,356,269.0000</td>\n",
       "      <td>29,038,320,000.0000</td>\n",
       "    </tr>\n",
       "    <tr>\n",
       "      <th>passivoCirculante</th>\n",
       "      <td>4,265.0000</td>\n",
       "      <td>36,537,171.9913</td>\n",
       "      <td>520,828,070.3726</td>\n",
       "      <td>-355,509.0000</td>\n",
       "      <td>214,227.0000</td>\n",
       "      <td>1,437,718.0000</td>\n",
       "      <td>7,810,246.0000</td>\n",
       "      <td>27,503,820,000.0000</td>\n",
       "    </tr>\n",
       "    <tr>\n",
       "      <th>totalAtivo</th>\n",
       "      <td>4,265.0000</td>\n",
       "      <td>73,818,067.9555</td>\n",
       "      <td>932,355,003.8846</td>\n",
       "      <td>0.0000</td>\n",
       "      <td>1,154,730.0000</td>\n",
       "      <td>4,895,367.0000</td>\n",
       "      <td>20,290,799.0000</td>\n",
       "      <td>54,823,500,000.0000</td>\n",
       "    </tr>\n",
       "    <tr>\n",
       "      <th>totalPatrimonioLiquido</th>\n",
       "      <td>4,265.0000</td>\n",
       "      <td>29,222,431.3751</td>\n",
       "      <td>267,477,419.0471</td>\n",
       "      <td>-186,719,734.0000</td>\n",
       "      <td>270,000.0000</td>\n",
       "      <td>1,680,000.0000</td>\n",
       "      <td>8,391,311.0000</td>\n",
       "      <td>12,923,280,000.0000</td>\n",
       "    </tr>\n",
       "    <tr>\n",
       "      <th>endividamento</th>\n",
       "      <td>4,265.0000</td>\n",
       "      <td>4,997,057.4476</td>\n",
       "      <td>39,419,638.1234</td>\n",
       "      <td>0.0000</td>\n",
       "      <td>0.0000</td>\n",
       "      <td>3,320.0000</td>\n",
       "      <td>881,789.0000</td>\n",
       "      <td>740,631,476.0000</td>\n",
       "    </tr>\n",
       "    <tr>\n",
       "      <th>duplicatasAReceber</th>\n",
       "      <td>4,265.0000</td>\n",
       "      <td>17,764,947.3353</td>\n",
       "      <td>313,693,498.8600</td>\n",
       "      <td>-22,780,710.0000</td>\n",
       "      <td>65,504.0000</td>\n",
       "      <td>1,202,429.0000</td>\n",
       "      <td>6,902,467.0000</td>\n",
       "      <td>20,093,580,000.0000</td>\n",
       "    </tr>\n",
       "    <tr>\n",
       "      <th>estoque</th>\n",
       "      <td>4,265.0000</td>\n",
       "      <td>16,158,390.3322</td>\n",
       "      <td>87,488,883.3650</td>\n",
       "      <td>-263,226.0000</td>\n",
       "      <td>205,049.0000</td>\n",
       "      <td>1,147,041.0000</td>\n",
       "      <td>5,986,284.0000</td>\n",
       "      <td>1,293,428,000.0000</td>\n",
       "    </tr>\n",
       "    <tr>\n",
       "      <th>faturamentoBruto</th>\n",
       "      <td>7,201.0000</td>\n",
       "      <td>61,188,144.9342</td>\n",
       "      <td>353,942,738.0116</td>\n",
       "      <td>1.0000</td>\n",
       "      <td>1,550,254.0000</td>\n",
       "      <td>4,269,138.0000</td>\n",
       "      <td>18,790,402.0000</td>\n",
       "      <td>6,426,115,000.0000</td>\n",
       "    </tr>\n",
       "    <tr>\n",
       "      <th>margemBruta</th>\n",
       "      <td>7,201.0000</td>\n",
       "      <td>17,880,032.1462</td>\n",
       "      <td>123,683,120.9368</td>\n",
       "      <td>-614,872,100.0000</td>\n",
       "      <td>0.0000</td>\n",
       "      <td>0.0000</td>\n",
       "      <td>4,034,854.0000</td>\n",
       "      <td>3,366,842,514.0000</td>\n",
       "    </tr>\n",
       "    <tr>\n",
       "      <th>periodoDemonstrativoEmMeses</th>\n",
       "      <td>7,201.0000</td>\n",
       "      <td>10.8654</td>\n",
       "      <td>2.4753</td>\n",
       "      <td>1.0000</td>\n",
       "      <td>12.0000</td>\n",
       "      <td>12.0000</td>\n",
       "      <td>12.0000</td>\n",
       "      <td>12.0000</td>\n",
       "    </tr>\n",
       "    <tr>\n",
       "      <th>custos</th>\n",
       "      <td>7,201.0000</td>\n",
       "      <td>31,083,344.4369</td>\n",
       "      <td>218,824,002.1649</td>\n",
       "      <td>-346,633,805.0000</td>\n",
       "      <td>0.0000</td>\n",
       "      <td>0.0000</td>\n",
       "      <td>5,703,139.0000</td>\n",
       "      <td>4,393,536,000.0000</td>\n",
       "    </tr>\n",
       "    <tr>\n",
       "      <th>anoFundacao</th>\n",
       "      <td>7,201.0000</td>\n",
       "      <td>2,005.9203</td>\n",
       "      <td>11.4862</td>\n",
       "      <td>1,910.0000</td>\n",
       "      <td>2,000.0000</td>\n",
       "      <td>2,009.0000</td>\n",
       "      <td>2,015.0000</td>\n",
       "      <td>2,020.0000</td>\n",
       "    </tr>\n",
       "    <tr>\n",
       "      <th>capitalSocial</th>\n",
       "      <td>7,201.0000</td>\n",
       "      <td>7,343,342.7375</td>\n",
       "      <td>76,727,139.2547</td>\n",
       "      <td>0.0000</td>\n",
       "      <td>50,000.0000</td>\n",
       "      <td>100,000.0000</td>\n",
       "      <td>500,000.0000</td>\n",
       "      <td>4,100,000,000.0000</td>\n",
       "    </tr>\n",
       "    <tr>\n",
       "      <th>scorePontualidade</th>\n",
       "      <td>7,201.0000</td>\n",
       "      <td>0.8093</td>\n",
       "      <td>0.3703</td>\n",
       "      <td>0.0000</td>\n",
       "      <td>0.9092</td>\n",
       "      <td>1.0000</td>\n",
       "      <td>1.0000</td>\n",
       "      <td>1.0000</td>\n",
       "    </tr>\n",
       "    <tr>\n",
       "      <th>limiteEmpresaAnaliseCredito</th>\n",
       "      <td>7,201.0000</td>\n",
       "      <td>2,488,809.7012</td>\n",
       "      <td>26,971,353.5982</td>\n",
       "      <td>0.0000</td>\n",
       "      <td>8,640.0000</td>\n",
       "      <td>52,800.0000</td>\n",
       "      <td>387,353.0000</td>\n",
       "      <td>1,974,261,312.0000</td>\n",
       "    </tr>\n",
       "    <tr>\n",
       "      <th>cluster</th>\n",
       "      <td>6,631.0000</td>\n",
       "      <td>1.2932</td>\n",
       "      <td>1.5924</td>\n",
       "      <td>0.0000</td>\n",
       "      <td>0.0000</td>\n",
       "      <td>0.0000</td>\n",
       "      <td>2.0000</td>\n",
       "      <td>5.0000</td>\n",
       "    </tr>\n",
       "    <tr>\n",
       "      <th>limiteCredito</th>\n",
       "      <td>7,201.0000</td>\n",
       "      <td>235,804.0546</td>\n",
       "      <td>590,689.6252</td>\n",
       "      <td>0.0000</td>\n",
       "      <td>20,000.0000</td>\n",
       "      <td>45,000.0000</td>\n",
       "      <td>131,906.0000</td>\n",
       "      <td>6,550,000.0000</td>\n",
       "    </tr>\n",
       "  </tbody>\n",
       "</table>\n",
       "</div>"
      ],
      "text/plain": [
       "                                 count            mean              std  \\\n",
       "numero_solicitacao          7,201.0000      4,562.6327       2,601.4811   \n",
       "maiorAtraso                 7,201.0000         24.3693          64.0252   \n",
       "margemBrutaAcumulada        7,201.0000          0.3669           0.1982   \n",
       "percentualProtestos         6,057.0000          0.0149           0.5618   \n",
       "prazoMedioRecebimentoVendas 7,201.0000         24.1857          71.0564   \n",
       "titulosEmAberto             7,201.0000     61,165.5448     216,805.2221   \n",
       "valorSolicitado             7,201.0000    480,475.4699  15,912,896.0448   \n",
       "diferencaPercentualRisco    7,201.0000          0.7402           0.1255   \n",
       "percentualRisco             7,201.0000          0.2598           0.1255   \n",
       "dashboardCorrelacao         7,201.0000          0.0429           0.4955   \n",
       "valorAprovado               7,201.0000    174,638.5098     454,544.9641   \n",
       "ativoCirculante             4,265.0000 47,400,990.9512 491,815,257.6544   \n",
       "passivoCirculante           4,265.0000 36,537,171.9913 520,828,070.3726   \n",
       "totalAtivo                  4,265.0000 73,818,067.9555 932,355,003.8846   \n",
       "totalPatrimonioLiquido      4,265.0000 29,222,431.3751 267,477,419.0471   \n",
       "endividamento               4,265.0000  4,997,057.4476  39,419,638.1234   \n",
       "duplicatasAReceber          4,265.0000 17,764,947.3353 313,693,498.8600   \n",
       "estoque                     4,265.0000 16,158,390.3322  87,488,883.3650   \n",
       "faturamentoBruto            7,201.0000 61,188,144.9342 353,942,738.0116   \n",
       "margemBruta                 7,201.0000 17,880,032.1462 123,683,120.9368   \n",
       "periodoDemonstrativoEmMeses 7,201.0000         10.8654           2.4753   \n",
       "custos                      7,201.0000 31,083,344.4369 218,824,002.1649   \n",
       "anoFundacao                 7,201.0000      2,005.9203          11.4862   \n",
       "capitalSocial               7,201.0000  7,343,342.7375  76,727,139.2547   \n",
       "scorePontualidade           7,201.0000          0.8093           0.3703   \n",
       "limiteEmpresaAnaliseCredito 7,201.0000  2,488,809.7012  26,971,353.5982   \n",
       "cluster                     6,631.0000          1.2932           1.5924   \n",
       "limiteCredito               7,201.0000    235,804.0546     590,689.6252   \n",
       "\n",
       "                                          min            25%            50%  \\\n",
       "numero_solicitacao                     1.0000     2,353.0000     4,585.0000   \n",
       "maiorAtraso                            0.0000         3.0000         6.0000   \n",
       "margemBrutaAcumulada                   0.0000         0.2916         0.4066   \n",
       "percentualProtestos                    0.0000         0.0000         0.0000   \n",
       "prazoMedioRecebimentoVendas            0.0000         0.0000         0.0000   \n",
       "titulosEmAberto                        0.0000         0.0000         0.0000   \n",
       "valorSolicitado                    3,000.0000    25,000.0000    50,000.0000   \n",
       "diferencaPercentualRisco               0.2642         0.6429         0.7500   \n",
       "percentualRisco                        0.0000         0.1509         0.2500   \n",
       "dashboardCorrelacao                   -1.0000         0.0000         0.0000   \n",
       "valorAprovado                          0.0000    20,000.0000    40,000.0000   \n",
       "ativoCirculante                        0.0000   987,594.0000 4,235,889.0000   \n",
       "passivoCirculante               -355,509.0000   214,227.0000 1,437,718.0000   \n",
       "totalAtivo                             0.0000 1,154,730.0000 4,895,367.0000   \n",
       "totalPatrimonioLiquido      -186,719,734.0000   270,000.0000 1,680,000.0000   \n",
       "endividamento                          0.0000         0.0000     3,320.0000   \n",
       "duplicatasAReceber           -22,780,710.0000    65,504.0000 1,202,429.0000   \n",
       "estoque                         -263,226.0000   205,049.0000 1,147,041.0000   \n",
       "faturamentoBruto                       1.0000 1,550,254.0000 4,269,138.0000   \n",
       "margemBruta                 -614,872,100.0000         0.0000         0.0000   \n",
       "periodoDemonstrativoEmMeses            1.0000        12.0000        12.0000   \n",
       "custos                      -346,633,805.0000         0.0000         0.0000   \n",
       "anoFundacao                        1,910.0000     2,000.0000     2,009.0000   \n",
       "capitalSocial                          0.0000    50,000.0000   100,000.0000   \n",
       "scorePontualidade                      0.0000         0.9092         1.0000   \n",
       "limiteEmpresaAnaliseCredito            0.0000     8,640.0000    52,800.0000   \n",
       "cluster                                0.0000         0.0000         0.0000   \n",
       "limiteCredito                          0.0000    20,000.0000    45,000.0000   \n",
       "\n",
       "                                        75%                 max  \n",
       "numero_solicitacao               6,827.0000          9,034.0000  \n",
       "maiorAtraso                         22.0000            977.0000  \n",
       "margemBrutaAcumulada                 0.5083              1.0000  \n",
       "percentualProtestos                  0.0000             36.9837  \n",
       "prazoMedioRecebimentoVendas         32.0000          1,605.0000  \n",
       "titulosEmAberto                 18,605.3000      2,836,656.0000  \n",
       "valorSolicitado                130,000.0000  1,200,000,000.0000  \n",
       "diferencaPercentualRisco             0.8491              1.0000  \n",
       "percentualRisco                      0.3571              0.7358  \n",
       "dashboardCorrelacao                  0.0000              1.0000  \n",
       "valorAprovado                  100,000.0000      6,550,000.0000  \n",
       "ativoCirculante             17,356,269.0000 29,038,320,000.0000  \n",
       "passivoCirculante            7,810,246.0000 27,503,820,000.0000  \n",
       "totalAtivo                  20,290,799.0000 54,823,500,000.0000  \n",
       "totalPatrimonioLiquido       8,391,311.0000 12,923,280,000.0000  \n",
       "endividamento                  881,789.0000    740,631,476.0000  \n",
       "duplicatasAReceber           6,902,467.0000 20,093,580,000.0000  \n",
       "estoque                      5,986,284.0000  1,293,428,000.0000  \n",
       "faturamentoBruto            18,790,402.0000  6,426,115,000.0000  \n",
       "margemBruta                  4,034,854.0000  3,366,842,514.0000  \n",
       "periodoDemonstrativoEmMeses         12.0000             12.0000  \n",
       "custos                       5,703,139.0000  4,393,536,000.0000  \n",
       "anoFundacao                      2,015.0000          2,020.0000  \n",
       "capitalSocial                  500,000.0000  4,100,000,000.0000  \n",
       "scorePontualidade                    1.0000              1.0000  \n",
       "limiteEmpresaAnaliseCredito    387,353.0000  1,974,261,312.0000  \n",
       "cluster                              2.0000              5.0000  \n",
       "limiteCredito                  131,906.0000      6,550,000.0000  "
      ]
     },
     "execution_count": 3,
     "metadata": {},
     "output_type": "execute_result"
    }
   ],
   "source": [
    "# filtra as solicitações aprovadas\n",
    "@pf.register_dataframe_method\n",
    "def filter_status(\n",
    "\tdata: pd.DataFrame, # dataframe com a coluna 'status'\n",
    "\t) -> pd.DataFrame:\n",
    "\tX = data.copy()\n",
    "\tX = X[X.status.isin(['AprovadoAnalista', 'AprovadoComite'])]\n",
    "\tX = X[X.anoFundacao > 1900]\n",
    "\tX = X[X.faturamentoBruto > 0]\n",
    "\tX = X[X.periodoDemonstrativoEmMeses > 0]\n",
    "\treturn X\n",
    "data.filter_status().describe().T"
   ]
  },
  {
   "cell_type": "markdown",
   "metadata": {},
   "source": [
    "#### feature engineering"
   ]
  },
  {
   "cell_type": "code",
   "execution_count": 4,
   "metadata": {},
   "outputs": [
    {
     "name": "stdout",
     "output_type": "stream",
     "text": [
      "<class 'pandas.core.frame.DataFrame'>\n",
      "Int64Index: 7201 entries, 0 to 8961\n",
      "Data columns (total 46 columns):\n",
      " #   Column                        Non-Null Count  Dtype         \n",
      "---  ------                        --------------  -----         \n",
      " 0   numero_solicitacao            7201 non-null   float64       \n",
      " 1   razaoSocial                   7201 non-null   object        \n",
      " 2   nomeFantasia                  7201 non-null   object        \n",
      " 3   cnpjSemTraco                  7201 non-null   object        \n",
      " 4   maiorAtraso                   7201 non-null   int64         \n",
      " 5   margemBrutaAcumulada          7201 non-null   float64       \n",
      " 6   percentualProtestos           6057 non-null   float64       \n",
      " 7   primeiraCompra                7159 non-null   object        \n",
      " 8   prazoMedioRecebimentoVendas   7201 non-null   int64         \n",
      " 9   titulosEmAberto               7201 non-null   float64       \n",
      " 10  valorSolicitado               7201 non-null   float64       \n",
      " 11  status                        7201 non-null   object        \n",
      " 12  definicaoRisco                7201 non-null   object        \n",
      " 13  diferencaPercentualRisco      7201 non-null   float64       \n",
      " 14  percentualRisco               7201 non-null   float64       \n",
      " 15  dashboardCorrelacao           7201 non-null   float64       \n",
      " 16  valorAprovado                 7201 non-null   float64       \n",
      " 17  dataAprovadoEmComite          526 non-null    object        \n",
      " 18  periodoBalanco                4265 non-null   object        \n",
      " 19  ativoCirculante               4265 non-null   float64       \n",
      " 20  passivoCirculante             4265 non-null   float64       \n",
      " 21  totalAtivo                    4265 non-null   float64       \n",
      " 22  totalPatrimonioLiquido        4265 non-null   float64       \n",
      " 23  endividamento                 4265 non-null   float64       \n",
      " 24  duplicatasAReceber            4265 non-null   float64       \n",
      " 25  estoque                       4265 non-null   float64       \n",
      " 26  faturamentoBruto              7201 non-null   float64       \n",
      " 27  margemBruta                   7201 non-null   float64       \n",
      " 28  periodoDemonstrativoEmMeses   7201 non-null   float64       \n",
      " 29  custos                        7201 non-null   float64       \n",
      " 30  anoFundacao                   7201 non-null   float64       \n",
      " 31  intervaloFundacao             7201 non-null   object        \n",
      " 32  capitalSocial                 7201 non-null   float64       \n",
      " 33  restricoes                    7201 non-null   object        \n",
      " 34  empresa_MeEppMei              7201 non-null   object        \n",
      " 35  scorePontualidade             7201 non-null   float64       \n",
      " 36  limiteEmpresaAnaliseCredito   7201 non-null   float64       \n",
      " 37  dataAprovadoNivelAnalista     6675 non-null   object        \n",
      " 38  cluster                       6631 non-null   float64       \n",
      " 39  limiteCredito                 7201 non-null   float64       \n",
      " 40  faturamentoMensal             7201 non-null   float64       \n",
      " 41  margemMensal                  7201 non-null   float64       \n",
      " 42  margem_percentual             7201 non-null   float64       \n",
      " 43  dt_dataAprovadoNivelAnalista  6675 non-null   datetime64[ns]\n",
      " 44  dt_primeiraCompra             7155 non-null   datetime64[ns]\n",
      " 45  tempoPrimeiraCompra           6631 non-null   float64       \n",
      "dtypes: datetime64[ns](2), float64(30), int64(2), object(12)\n",
      "memory usage: 2.6+ MB\n"
     ]
    }
   ],
   "source": [
    "# gera as features calculadas sem usar as colunas de documentação\n",
    "@pf.register_dataframe_method\n",
    "def engineer(\n",
    "\t\tdata: pd.DataFrame,\n",
    "\t) -> pd.DataFrame:\n",
    "\tX = data.copy()\n",
    "\tX['faturamentoMensal'] = X.faturamentoBruto / X.periodoDemonstrativoEmMeses\n",
    "\tX['margemMensal'] = X.margemBruta / X.periodoDemonstrativoEmMeses\n",
    "\tX['margem_percentual'] = (X.margemMensal / X.faturamentoMensal).replace([np.inf, np.NINF], np.nan)\n",
    "\tX['dt_dataAprovadoNivelAnalista'] = pd.to_datetime(X.dataAprovadoNivelAnalista, errors='coerce')\n",
    "\tX['dt_primeiraCompra'] = pd.to_datetime(X.primeiraCompra, errors='coerce')\n",
    "\tX['tempoPrimeiraCompra'] = (X.dt_dataAprovadoNivelAnalista - X.dt_primeiraCompra).dt.days\n",
    "\treturn X\n",
    "\n",
    "data.filter_status().engineer().info()"
   ]
  },
  {
   "cell_type": "markdown",
   "metadata": {},
   "source": [
    "#### seleção de features"
   ]
  },
  {
   "cell_type": "code",
   "execution_count": 5,
   "metadata": {},
   "outputs": [
    {
     "name": "stdout",
     "output_type": "stream",
     "text": [
      "<class 'pandas.core.frame.DataFrame'>\n",
      "Int64Index: 7201 entries, 0 to 8961\n",
      "Data columns (total 10 columns):\n",
      " #   Column                       Non-Null Count  Dtype  \n",
      "---  ------                       --------------  -----  \n",
      " 0   restricoes                   7201 non-null   object \n",
      " 1   margem_percentual            7201 non-null   float64\n",
      " 2   empresa_MeEppMei             7201 non-null   object \n",
      " 3   tempoPrimeiraCompra          6631 non-null   float64\n",
      " 4   scorePontualidade            7201 non-null   float64\n",
      " 5   prazoMedioRecebimentoVendas  7201 non-null   int64  \n",
      " 6   cluster                      6631 non-null   float64\n",
      " 7   maiorAtraso                  7201 non-null   int64  \n",
      " 8   anoFundacao                  7201 non-null   float64\n",
      " 9   faturamentoMensal            7201 non-null   float64\n",
      "dtypes: float64(6), int64(2), object(2)\n",
      "memory usage: 618.8+ KB\n"
     ]
    }
   ],
   "source": [
    "# seleciona as features relevantes\n",
    "@pf.register_dataframe_method\n",
    "def select(\n",
    "  data: pd.DataFrame,\n",
    "  identifier: bool = False,\n",
    ") -> pd.DataFrame:\n",
    "\tkeep = [\n",
    "\t\t\t# 'percentualRisco',\n",
    "\t\t\t# 'valorAprovado',\n",
    "\t\t\t# 'limiteEmpresaAnaliseCredito',\n",
    "\t\t\t# 'limiteCredito',\n",
    "\t\t\t'faturamentoMensal',\n",
    "\t\t\t'maiorAtraso',\n",
    "\t\t\t'tempoPrimeiraCompra',\n",
    "\t\t\t'prazoMedioRecebimentoVendas',\n",
    "\t\t\t'anoFundacao',\n",
    "\t\t\t'restricoes',\n",
    "\t\t\t'empresa_MeEppMei',\n",
    "\t\t\t'scorePontualidade',\n",
    "\t\t\t'margem_percentual',\n",
    "\t\t\t'cluster',\n",
    "\t\t]\n",
    "\tif identifier:\n",
    "\t\tkeep = keep + ['numero_solicitacao']\n",
    "\tintersection = list(set(data.columns).intersection(set(keep)))\n",
    "\treturn data[intersection]\n",
    "data.filter_status().engineer().select().info()"
   ]
  },
  {
   "cell_type": "markdown",
   "metadata": {},
   "source": [
    "#### data types"
   ]
  },
  {
   "cell_type": "code",
   "execution_count": 6,
   "metadata": {},
   "outputs": [
    {
     "name": "stdout",
     "output_type": "stream",
     "text": [
      "<class 'pandas.core.frame.DataFrame'>\n",
      "Int64Index: 7201 entries, 0 to 8961\n",
      "Data columns (total 10 columns):\n",
      " #   Column                       Non-Null Count  Dtype  \n",
      "---  ------                       --------------  -----  \n",
      " 0   restricoes                   7201 non-null   float32\n",
      " 1   margem_percentual            7201 non-null   float32\n",
      " 2   empresa_MeEppMei             7201 non-null   float32\n",
      " 3   tempoPrimeiraCompra          6631 non-null   float32\n",
      " 4   scorePontualidade            7201 non-null   float32\n",
      " 5   prazoMedioRecebimentoVendas  7201 non-null   float32\n",
      " 6   cluster                      6631 non-null   float32\n",
      " 7   maiorAtraso                  7201 non-null   float32\n",
      " 8   anoFundacao                  7201 non-null   float32\n",
      " 9   faturamentoMensal            7201 non-null   float32\n",
      "dtypes: float32(10)\n",
      "memory usage: 337.5 KB\n"
     ]
    }
   ],
   "source": [
    "# converte data types\n",
    "@pf.register_dataframe_method\n",
    "def type_cast(\n",
    "\t\tdata: pd.DataFrame,\n",
    "\t) -> pd.DataFrame:\n",
    "\tX = data.copy()\n",
    "\tX = X.astype('float32')\n",
    "\treturn X\n",
    "data.filter_status().engineer().select().type_cast().info()"
   ]
  },
  {
   "attachments": {},
   "cell_type": "markdown",
   "metadata": {},
   "source": [
    "#### limpeza"
   ]
  },
  {
   "cell_type": "code",
   "execution_count": 7,
   "metadata": {},
   "outputs": [
    {
     "name": "stdout",
     "output_type": "stream",
     "text": [
      "<class 'pandas.core.frame.DataFrame'>\n",
      "Int64Index: 6631 entries, 0 to 8961\n",
      "Data columns (total 10 columns):\n",
      " #   Column                       Non-Null Count  Dtype  \n",
      "---  ------                       --------------  -----  \n",
      " 0   restricoes                   6631 non-null   float32\n",
      " 1   margem_percentual            6631 non-null   float32\n",
      " 2   empresa_MeEppMei             6631 non-null   float32\n",
      " 3   tempoPrimeiraCompra          6631 non-null   float32\n",
      " 4   scorePontualidade            6631 non-null   float32\n",
      " 5   prazoMedioRecebimentoVendas  6631 non-null   float32\n",
      " 6   cluster                      6631 non-null   float32\n",
      " 7   maiorAtraso                  6631 non-null   float32\n",
      " 8   anoFundacao                  6631 non-null   float32\n",
      " 9   faturamentoMensal            6631 non-null   float32\n",
      "dtypes: float32(10)\n",
      "memory usage: 310.8 KB\n"
     ]
    }
   ],
   "source": [
    "# elimina valores nulos\n",
    "@pf.register_dataframe_method\n",
    "def clean(\n",
    "  data: pd.DataFrame,\n",
    ") -> pd.DataFrame:\n",
    "\treturn data.dropna()\n",
    "data.filter_status().engineer().select().type_cast().clean().info()"
   ]
  },
  {
   "attachments": {},
   "cell_type": "markdown",
   "metadata": {},
   "source": [
    "#### padronização"
   ]
  },
  {
   "cell_type": "code",
   "execution_count": 8,
   "metadata": {},
   "outputs": [
    {
     "data": {
      "text/html": [
       "<div>\n",
       "<style scoped>\n",
       "    .dataframe tbody tr th:only-of-type {\n",
       "        vertical-align: middle;\n",
       "    }\n",
       "\n",
       "    .dataframe tbody tr th {\n",
       "        vertical-align: top;\n",
       "    }\n",
       "\n",
       "    .dataframe thead th {\n",
       "        text-align: right;\n",
       "    }\n",
       "</style>\n",
       "<table border=\"1\" class=\"dataframe\">\n",
       "  <thead>\n",
       "    <tr style=\"text-align: right;\">\n",
       "      <th></th>\n",
       "      <th>count</th>\n",
       "      <th>mean</th>\n",
       "      <th>std</th>\n",
       "      <th>min</th>\n",
       "      <th>25%</th>\n",
       "      <th>50%</th>\n",
       "      <th>75%</th>\n",
       "      <th>max</th>\n",
       "    </tr>\n",
       "  </thead>\n",
       "  <tbody>\n",
       "    <tr>\n",
       "      <th>restricoes</th>\n",
       "      <td>6,631.0000</td>\n",
       "      <td>0.0000</td>\n",
       "      <td>1.0001</td>\n",
       "      <td>-0.2438</td>\n",
       "      <td>-0.2438</td>\n",
       "      <td>-0.2438</td>\n",
       "      <td>-0.2438</td>\n",
       "      <td>4.1019</td>\n",
       "    </tr>\n",
       "    <tr>\n",
       "      <th>margem_percentual</th>\n",
       "      <td>6,631.0000</td>\n",
       "      <td>-0.0000</td>\n",
       "      <td>1.0001</td>\n",
       "      <td>-0.8106</td>\n",
       "      <td>-0.8106</td>\n",
       "      <td>-0.8106</td>\n",
       "      <td>0.6858</td>\n",
       "      <td>2.9826</td>\n",
       "    </tr>\n",
       "    <tr>\n",
       "      <th>empresa_MeEppMei</th>\n",
       "      <td>6,631.0000</td>\n",
       "      <td>0.0000</td>\n",
       "      <td>1.0001</td>\n",
       "      <td>-0.7777</td>\n",
       "      <td>-0.7777</td>\n",
       "      <td>-0.7777</td>\n",
       "      <td>1.2859</td>\n",
       "      <td>1.2859</td>\n",
       "    </tr>\n",
       "    <tr>\n",
       "      <th>tempoPrimeiraCompra</th>\n",
       "      <td>6,631.0000</td>\n",
       "      <td>-0.0000</td>\n",
       "      <td>1.0001</td>\n",
       "      <td>-1.1870</td>\n",
       "      <td>-0.7795</td>\n",
       "      <td>-0.3123</td>\n",
       "      <td>0.5899</td>\n",
       "      <td>2.4259</td>\n",
       "    </tr>\n",
       "    <tr>\n",
       "      <th>scorePontualidade</th>\n",
       "      <td>6,631.0000</td>\n",
       "      <td>-0.0000</td>\n",
       "      <td>1.0001</td>\n",
       "      <td>-2.2904</td>\n",
       "      <td>0.2915</td>\n",
       "      <td>0.4953</td>\n",
       "      <td>0.4953</td>\n",
       "      <td>0.4953</td>\n",
       "    </tr>\n",
       "    <tr>\n",
       "      <th>prazoMedioRecebimentoVendas</th>\n",
       "      <td>6,631.0000</td>\n",
       "      <td>-0.0000</td>\n",
       "      <td>1.0001</td>\n",
       "      <td>-0.5146</td>\n",
       "      <td>-0.5146</td>\n",
       "      <td>-0.5146</td>\n",
       "      <td>0.2597</td>\n",
       "      <td>5.1965</td>\n",
       "    </tr>\n",
       "    <tr>\n",
       "      <th>cluster</th>\n",
       "      <td>6,631.0000</td>\n",
       "      <td>-0.0000</td>\n",
       "      <td>1.0001</td>\n",
       "      <td>-0.8121</td>\n",
       "      <td>-0.8121</td>\n",
       "      <td>-0.8121</td>\n",
       "      <td>0.4439</td>\n",
       "      <td>2.3280</td>\n",
       "    </tr>\n",
       "    <tr>\n",
       "      <th>maiorAtraso</th>\n",
       "      <td>6,631.0000</td>\n",
       "      <td>0.0000</td>\n",
       "      <td>1.0001</td>\n",
       "      <td>-0.5172</td>\n",
       "      <td>-0.4447</td>\n",
       "      <td>-0.3723</td>\n",
       "      <td>-0.0103</td>\n",
       "      <td>6.2164</td>\n",
       "    </tr>\n",
       "    <tr>\n",
       "      <th>anoFundacao</th>\n",
       "      <td>6,631.0000</td>\n",
       "      <td>0.0000</td>\n",
       "      <td>1.0001</td>\n",
       "      <td>-3.4070</td>\n",
       "      <td>-0.5660</td>\n",
       "      <td>0.2588</td>\n",
       "      <td>0.8087</td>\n",
       "      <td>1.1752</td>\n",
       "    </tr>\n",
       "    <tr>\n",
       "      <th>faturamentoMensal</th>\n",
       "      <td>6,631.0000</td>\n",
       "      <td>-0.0000</td>\n",
       "      <td>1.0001</td>\n",
       "      <td>-0.2770</td>\n",
       "      <td>-0.2675</td>\n",
       "      <td>-0.2507</td>\n",
       "      <td>-0.1553</td>\n",
       "      <td>7.9016</td>\n",
       "    </tr>\n",
       "  </tbody>\n",
       "</table>\n",
       "</div>"
      ],
      "text/plain": [
       "                                 count    mean    std     min     25%     50%  \\\n",
       "restricoes                  6,631.0000  0.0000 1.0001 -0.2438 -0.2438 -0.2438   \n",
       "margem_percentual           6,631.0000 -0.0000 1.0001 -0.8106 -0.8106 -0.8106   \n",
       "empresa_MeEppMei            6,631.0000  0.0000 1.0001 -0.7777 -0.7777 -0.7777   \n",
       "tempoPrimeiraCompra         6,631.0000 -0.0000 1.0001 -1.1870 -0.7795 -0.3123   \n",
       "scorePontualidade           6,631.0000 -0.0000 1.0001 -2.2904  0.2915  0.4953   \n",
       "prazoMedioRecebimentoVendas 6,631.0000 -0.0000 1.0001 -0.5146 -0.5146 -0.5146   \n",
       "cluster                     6,631.0000 -0.0000 1.0001 -0.8121 -0.8121 -0.8121   \n",
       "maiorAtraso                 6,631.0000  0.0000 1.0001 -0.5172 -0.4447 -0.3723   \n",
       "anoFundacao                 6,631.0000  0.0000 1.0001 -3.4070 -0.5660  0.2588   \n",
       "faturamentoMensal           6,631.0000 -0.0000 1.0001 -0.2770 -0.2675 -0.2507   \n",
       "\n",
       "                                75%    max  \n",
       "restricoes                  -0.2438 4.1019  \n",
       "margem_percentual            0.6858 2.9826  \n",
       "empresa_MeEppMei             1.2859 1.2859  \n",
       "tempoPrimeiraCompra          0.5899 2.4259  \n",
       "scorePontualidade            0.4953 0.4953  \n",
       "prazoMedioRecebimentoVendas  0.2597 5.1965  \n",
       "cluster                      0.4439 2.3280  \n",
       "maiorAtraso                 -0.0103 6.2164  \n",
       "anoFundacao                  0.8087 1.1752  \n",
       "faturamentoMensal           -0.1553 7.9016  "
      ]
     },
     "execution_count": 8,
     "metadata": {},
     "output_type": "execute_result"
    }
   ],
   "source": [
    "# aplica padronização por z-score\n",
    "@pf.register_dataframe_method\n",
    "def standardize(\n",
    "\t\tdata: pd.DataFrame,\n",
    "\t) -> pd.DataFrame:\n",
    "\tX = data.copy()\n",
    "\t# clip outliers\n",
    "\tX = X.clip(lower=X.quantile(0.01), upper=X.quantile(0.99), axis=1)\n",
    "\tstandardizer = StandardScaler()\n",
    "\tX = pd.DataFrame(standardizer.fit_transform(X), columns=X.columns)\n",
    "\treturn X\n",
    "data.filter_status().engineer().select().type_cast().clean().standardize().describe().T"
   ]
  },
  {
   "attachments": {},
   "cell_type": "markdown",
   "metadata": {},
   "source": [
    "⭐ nota\n",
    "<div style=\"color:#222200;background-color:#FFFFBB;padding:10px;\"><table style=\"border:0px solid;width:100%\">\n",
    "<tr><td style=\"border:0px;font-size:60px;width:80px;background-color:#FFFFBB\">⭐</td><td style=\"border:0px;background-color:#FFFFBB;font-size:16px;\">\n",
    "- foram testados 3 algoritmos diferentes de classificação<br>\n",
    "- para cada algoritmo, foram testadas as principais variações dos seus hiperparâmetros<br>\n",
    "- a busca foi feita por otimização bayesiana, utilizando validação cruzada com 5 partições <br>\n",
    "- todas as métricas de avaliação foram feitas no conjunto de teste (holdout) <br>\n",
    "- o particionamento do conjunto de teste foi feito com 20% dos registros disponíveis\n",
    "</td></tr></table></div>"
   ]
  },
  {
   "attachments": {},
   "cell_type": "markdown",
   "metadata": {},
   "source": [
    "#### preprocessamento"
   ]
  },
  {
   "cell_type": "code",
   "execution_count": 9,
   "metadata": {},
   "outputs": [
    {
     "data": {
      "text/html": [
       "<div>\n",
       "<style scoped>\n",
       "    .dataframe tbody tr th:only-of-type {\n",
       "        vertical-align: middle;\n",
       "    }\n",
       "\n",
       "    .dataframe tbody tr th {\n",
       "        vertical-align: top;\n",
       "    }\n",
       "\n",
       "    .dataframe thead th {\n",
       "        text-align: right;\n",
       "    }\n",
       "</style>\n",
       "<table border=\"1\" class=\"dataframe\">\n",
       "  <thead>\n",
       "    <tr style=\"text-align: right;\">\n",
       "      <th></th>\n",
       "      <th>count</th>\n",
       "      <th>mean</th>\n",
       "      <th>std</th>\n",
       "      <th>min</th>\n",
       "      <th>25%</th>\n",
       "      <th>50%</th>\n",
       "      <th>75%</th>\n",
       "      <th>max</th>\n",
       "    </tr>\n",
       "  </thead>\n",
       "  <tbody>\n",
       "    <tr>\n",
       "      <th>restricoes</th>\n",
       "      <td>5,304.0000</td>\n",
       "      <td>-0.0021</td>\n",
       "      <td>0.9960</td>\n",
       "      <td>-0.2438</td>\n",
       "      <td>-0.2438</td>\n",
       "      <td>-0.2438</td>\n",
       "      <td>-0.2438</td>\n",
       "      <td>4.1019</td>\n",
       "    </tr>\n",
       "    <tr>\n",
       "      <th>margem_percentual</th>\n",
       "      <td>5,304.0000</td>\n",
       "      <td>0.0088</td>\n",
       "      <td>1.0057</td>\n",
       "      <td>-0.8106</td>\n",
       "      <td>-0.8106</td>\n",
       "      <td>-0.8106</td>\n",
       "      <td>0.6856</td>\n",
       "      <td>2.9826</td>\n",
       "    </tr>\n",
       "    <tr>\n",
       "      <th>empresa_MeEppMei</th>\n",
       "      <td>5,304.0000</td>\n",
       "      <td>-0.0144</td>\n",
       "      <td>0.9963</td>\n",
       "      <td>-0.7777</td>\n",
       "      <td>-0.7777</td>\n",
       "      <td>-0.7777</td>\n",
       "      <td>1.2859</td>\n",
       "      <td>1.2859</td>\n",
       "    </tr>\n",
       "    <tr>\n",
       "      <th>tempoPrimeiraCompra</th>\n",
       "      <td>5,304.0000</td>\n",
       "      <td>0.0078</td>\n",
       "      <td>1.0060</td>\n",
       "      <td>-1.1870</td>\n",
       "      <td>-0.7808</td>\n",
       "      <td>-0.3096</td>\n",
       "      <td>0.6094</td>\n",
       "      <td>2.4259</td>\n",
       "    </tr>\n",
       "    <tr>\n",
       "      <th>scorePontualidade</th>\n",
       "      <td>5,304.0000</td>\n",
       "      <td>0.0064</td>\n",
       "      <td>0.9937</td>\n",
       "      <td>-2.2904</td>\n",
       "      <td>0.3130</td>\n",
       "      <td>0.4953</td>\n",
       "      <td>0.4953</td>\n",
       "      <td>0.4953</td>\n",
       "    </tr>\n",
       "    <tr>\n",
       "      <th>prazoMedioRecebimentoVendas</th>\n",
       "      <td>5,304.0000</td>\n",
       "      <td>0.0048</td>\n",
       "      <td>1.0025</td>\n",
       "      <td>-0.5146</td>\n",
       "      <td>-0.5146</td>\n",
       "      <td>-0.5146</td>\n",
       "      <td>0.2597</td>\n",
       "      <td>5.1965</td>\n",
       "    </tr>\n",
       "    <tr>\n",
       "      <th>maiorAtraso</th>\n",
       "      <td>5,304.0000</td>\n",
       "      <td>0.0010</td>\n",
       "      <td>0.9966</td>\n",
       "      <td>-0.5172</td>\n",
       "      <td>-0.4447</td>\n",
       "      <td>-0.3723</td>\n",
       "      <td>-0.0103</td>\n",
       "      <td>6.2164</td>\n",
       "    </tr>\n",
       "    <tr>\n",
       "      <th>anoFundacao</th>\n",
       "      <td>5,304.0000</td>\n",
       "      <td>-0.0059</td>\n",
       "      <td>1.0067</td>\n",
       "      <td>-3.4070</td>\n",
       "      <td>-0.5660</td>\n",
       "      <td>0.2588</td>\n",
       "      <td>0.8087</td>\n",
       "      <td>1.1752</td>\n",
       "    </tr>\n",
       "    <tr>\n",
       "      <th>faturamentoMensal</th>\n",
       "      <td>5,304.0000</td>\n",
       "      <td>0.0152</td>\n",
       "      <td>1.0483</td>\n",
       "      <td>-0.2770</td>\n",
       "      <td>-0.2675</td>\n",
       "      <td>-0.2507</td>\n",
       "      <td>-0.1530</td>\n",
       "      <td>7.9016</td>\n",
       "    </tr>\n",
       "  </tbody>\n",
       "</table>\n",
       "</div>"
      ],
      "text/plain": [
       "                                 count    mean    std     min     25%     50%  \\\n",
       "restricoes                  5,304.0000 -0.0021 0.9960 -0.2438 -0.2438 -0.2438   \n",
       "margem_percentual           5,304.0000  0.0088 1.0057 -0.8106 -0.8106 -0.8106   \n",
       "empresa_MeEppMei            5,304.0000 -0.0144 0.9963 -0.7777 -0.7777 -0.7777   \n",
       "tempoPrimeiraCompra         5,304.0000  0.0078 1.0060 -1.1870 -0.7808 -0.3096   \n",
       "scorePontualidade           5,304.0000  0.0064 0.9937 -2.2904  0.3130  0.4953   \n",
       "prazoMedioRecebimentoVendas 5,304.0000  0.0048 1.0025 -0.5146 -0.5146 -0.5146   \n",
       "maiorAtraso                 5,304.0000  0.0010 0.9966 -0.5172 -0.4447 -0.3723   \n",
       "anoFundacao                 5,304.0000 -0.0059 1.0067 -3.4070 -0.5660  0.2588   \n",
       "faturamentoMensal           5,304.0000  0.0152 1.0483 -0.2770 -0.2675 -0.2507   \n",
       "\n",
       "                                75%    max  \n",
       "restricoes                  -0.2438 4.1019  \n",
       "margem_percentual            0.6856 2.9826  \n",
       "empresa_MeEppMei             1.2859 1.2859  \n",
       "tempoPrimeiraCompra          0.6094 2.4259  \n",
       "scorePontualidade            0.4953 0.4953  \n",
       "prazoMedioRecebimentoVendas  0.2597 5.1965  \n",
       "maiorAtraso                 -0.0103 6.2164  \n",
       "anoFundacao                  0.8087 1.1752  \n",
       "faturamentoMensal           -0.1530 7.9016  "
      ]
     },
     "metadata": {},
     "output_type": "display_data"
    },
    {
     "data": {
      "text/plain": [
       "0.0000    2714\n",
       "2.0000    1567\n",
       "5.0000     428\n",
       "1.0000     289\n",
       "4.0000     288\n",
       "3.0000      18\n",
       "Name: cluster, dtype: int64"
      ]
     },
     "metadata": {},
     "output_type": "display_data"
    }
   ],
   "source": [
    "data_preprocess = data.filter_status().engineer().select().type_cast().clean().copy()\n",
    "targets_preprocess = data_preprocess['cluster']\n",
    "features_preprocess = data_preprocess.drop(columns=['cluster']).standardize()\n",
    "\n",
    "data_train, data_test, targets_train, targets_test = train_test_split(features_preprocess, targets_preprocess, test_size=0.2, random_state=42)\n",
    "\n",
    "display(data_train.describe().T)\n",
    "display(targets_train.value_counts())"
   ]
  },
  {
   "attachments": {},
   "cell_type": "markdown",
   "metadata": {},
   "source": [
    "### Treinamento"
   ]
  },
  {
   "attachments": {},
   "cell_type": "markdown",
   "metadata": {},
   "source": [
    "#### rotinas de otimização"
   ]
  },
  {
   "cell_type": "code",
   "execution_count": 10,
   "metadata": {},
   "outputs": [],
   "source": [
    "# callback para salvar o melhor modelo\n",
    "def callback(\n",
    "\t\tstudy: opt.study.Study,\n",
    "\t\ttrial: opt.trial.FrozenTrial,\n",
    "\t) -> None:\n",
    "\tif study.best_trial.number == trial.number:\n",
    "\t\tstudy.set_user_attr(key=\"best_estimator\", value=trial.user_attrs[\"estimator\"])"
   ]
  },
  {
   "cell_type": "code",
   "execution_count": 11,
   "metadata": {},
   "outputs": [],
   "source": [
    "# plota os resultados da otimização e a avaliação do melhor modelo no dataset de teste\n",
    "def plot_optimization_results(\n",
    "\t\tstudy: opt.study.Study,\n",
    "\t\ty_test: pd.DataFrame,\n",
    "\t\ty_pred: np.ndarray,\n",
    "\t) -> None:\n",
    "\n",
    "\t# plota os resultados da otimização\n",
    "\tdisplay(opt.visualization.plot_optimization_history(study))\n",
    "\ttry:\n",
    "\t\tdisplay(opt.visualization.plot_param_importances(study))\n",
    "\texcept:\n",
    "\t\t...\n",
    "\t\n",
    "\t# exibe os resultados\n",
    "\t# results = study.trials_dataframe()\n",
    "\t# results = results.drop(columns=['datetime_start', # 'user_attrs_best_estimator',\n",
    "\t# \t'datetime_complete', 'duration', 'state'])\n",
    "\t# display(results.head(10))\n",
    "\n",
    "\t# imprime o melhor modelo\n",
    "\tprint (f'Best trial: {study.best_trial.value}')\n",
    "\tprint (f'Best parameters: {study.best_params}')\n",
    "\n",
    "\t# matriz de confusão\n",
    "\tprint(classification_report(y_test, y_pred))\n",
    "\tdisp = ConfusionMatrixDisplay(confusion_matrix(y_test, y_pred))#, display_labels=fit.classes_)\n",
    "\tdisp.plot()\n",
    "\tplt.show()\n",
    "\t\n",
    "\t# curva ROC\n",
    "\t# fpr, tpr, thresholds = roc_curve(y_test, y_pred)\n",
    "\t# roc_auc = auc(fpr, tpr)\n",
    "\t# disp = RocCurveDisplay(fpr=fpr, tpr=tpr, roc_auc=roc_auc) #, estimator_name='example estimator')\n",
    "\t# display.plot()\n"
   ]
  },
  {
   "cell_type": "code",
   "execution_count": 12,
   "metadata": {},
   "outputs": [],
   "source": [
    "# rotina de otimização bayesiana\n",
    "def optimize(\n",
    "\t\tobjective, #Callable,\n",
    "    description: str,\n",
    "    n_trials: int,\n",
    "\t\tX: pd.DataFrame,\n",
    "\t\ty: pd.DataFrame,\n",
    "\t\tX_test: pd.DataFrame,\n",
    "\t\ty_test: pd.DataFrame,\n",
    "\t) -> dict: \n",
    "        \n",
    "\t# cria o estudo e executa a otimização\n",
    "\tstudy = opt.create_study(direction='maximize')\n",
    "\tstudy.optimize(lambda trial:objective(trial, X, y),\n",
    "\t\tcallbacks=[callback], n_trials=n_trials, timeout=60*5, n_jobs=-1, show_progress_bar = True)\n",
    "\n",
    "\t# fita e salva o melhor modelo\n",
    "\tfit = study.user_attrs[\"best_estimator\"].fit(X, y)\n",
    "\tjoblib.dump(fit, f'models/{description}.joblib')\n",
    "\n",
    "\t# avalia os resultados no conjunto de teste\n",
    "\ty_pred = fit.predict(X_test)\n",
    "\n",
    "\t# plota os resultados\n",
    "\tplot_optimization_results(study, y_test, y_pred)\n",
    "\t\n",
    "\treturn {\n",
    "\t\t'description': description,\n",
    "\t\t'estimator': fit,\n",
    "\t\t'results': study.trials_dataframe(),\n",
    "\t\t'predictions': y_pred,\n",
    "\t}\n"
   ]
  },
  {
   "attachments": {},
   "cell_type": "markdown",
   "metadata": {},
   "source": [
    "⭐ nota\n",
    "<div style=\"color:#222200;background-color:#FFFFBB;padding:10px;\"><table style=\"border:0px solid;width:100%\">\n",
    "<tr><td style=\"border:0px;font-size:60px;width:80px;background-color:#FFFFBB\">⭐</td><td style=\"border:0px;background-color:#FFFFBB;font-size:16px;\">\n",
    "foi necessário utilizar pesos para lidar com o desequilibrio das classes\n",
    "</td></tr></table></div>"
   ]
  },
  {
   "attachments": {},
   "cell_type": "markdown",
   "metadata": {},
   "source": [
    "#### regressão logística"
   ]
  },
  {
   "cell_type": "code",
   "execution_count": 13,
   "metadata": {},
   "outputs": [
    {
     "data": {
      "application/vnd.jupyter.widget-view+json": {
       "model_id": "0388f5b9493f4ac9b318d499a11091fe",
       "version_major": 2,
       "version_minor": 0
      },
      "text/plain": [
       "  0%|          | 0/39 [00:00<?, ?it/s]"
      ]
     },
     "metadata": {},
     "output_type": "display_data"
    },
    {
     "data": {
      "application/vnd.plotly.v1+json": {
       "config": {
        "plotlyServerURL": "https://plot.ly"
       },
       "data": [
        {
         "mode": "markers",
         "name": "Objective Value",
         "type": "scatter",
         "x": [
          0,
          1,
          2,
          3,
          4,
          5,
          6,
          7,
          8,
          9,
          10,
          11,
          12,
          13,
          14,
          15,
          16,
          17,
          18,
          19,
          20,
          21,
          22,
          23,
          24,
          25,
          26,
          27,
          28,
          29,
          30,
          31,
          32,
          33,
          34,
          35,
          36,
          37,
          38
         ],
         "y": [
          0.5116892216314264,
          0.9939667099390037,
          0.984539683104227,
          0.9939667099390037,
          0.9694563690359752,
          0.9939667099390037,
          0.9918933722191596,
          0.9939667099390039,
          0.9918933722191596,
          0.5116892216314264,
          0.5116892216314264,
          0.5116892216314264,
          0.08199864848042963,
          0.5116892216314264,
          0.9918933722191596,
          0.9687007628972311,
          0.9918933722191596,
          0.9811457684989241,
          0.5116892216314264,
          0.9918933722191596,
          0.08709778955417637,
          0.10764444365408213,
          0.9939667099390037,
          0.9939667099390037,
          0.9918933722191596,
          0.5116892216314264,
          0.5116892216314264,
          0.03922358757313321,
          0.9918933722191596,
          0.9918933722191596,
          0.5116892216314264,
          0.9939667099390037,
          0.5116892216314264,
          0.9937782085252433,
          0.9937782085252433,
          0.9939667099390037,
          0.9939667099390037,
          0.9939667099390037,
          0.9939667099390037
         ]
        },
        {
         "name": "Best Value",
         "type": "scatter",
         "x": [
          0,
          1,
          2,
          3,
          4,
          5,
          6,
          7,
          8,
          9,
          10,
          11,
          12,
          13,
          14,
          15,
          16,
          17,
          18,
          19,
          20,
          21,
          22,
          23,
          24,
          25,
          26,
          27,
          28,
          29,
          30,
          31,
          32,
          33,
          34,
          35,
          36,
          37,
          38
         ],
         "y": [
          0.5116892216314264,
          0.9939667099390037,
          0.9939667099390037,
          0.9939667099390037,
          0.9939667099390037,
          0.9939667099390037,
          0.9939667099390037,
          0.9939667099390039,
          0.9939667099390039,
          0.9939667099390039,
          0.9939667099390039,
          0.9939667099390039,
          0.9939667099390039,
          0.9939667099390039,
          0.9939667099390039,
          0.9939667099390039,
          0.9939667099390039,
          0.9939667099390039,
          0.9939667099390039,
          0.9939667099390039,
          0.9939667099390039,
          0.9939667099390039,
          0.9939667099390039,
          0.9939667099390039,
          0.9939667099390039,
          0.9939667099390039,
          0.9939667099390039,
          0.9939667099390039,
          0.9939667099390039,
          0.9939667099390039,
          0.9939667099390039,
          0.9939667099390039,
          0.9939667099390039,
          0.9939667099390039,
          0.9939667099390039,
          0.9939667099390039,
          0.9939667099390039,
          0.9939667099390039,
          0.9939667099390039
         ]
        }
       ],
       "layout": {
        "template": {
         "data": {
          "bar": [
           {
            "error_x": {
             "color": "#2a3f5f"
            },
            "error_y": {
             "color": "#2a3f5f"
            },
            "marker": {
             "line": {
              "color": "#E5ECF6",
              "width": 0.5
             },
             "pattern": {
              "fillmode": "overlay",
              "size": 10,
              "solidity": 0.2
             }
            },
            "type": "bar"
           }
          ],
          "barpolar": [
           {
            "marker": {
             "line": {
              "color": "#E5ECF6",
              "width": 0.5
             },
             "pattern": {
              "fillmode": "overlay",
              "size": 10,
              "solidity": 0.2
             }
            },
            "type": "barpolar"
           }
          ],
          "carpet": [
           {
            "aaxis": {
             "endlinecolor": "#2a3f5f",
             "gridcolor": "white",
             "linecolor": "white",
             "minorgridcolor": "white",
             "startlinecolor": "#2a3f5f"
            },
            "baxis": {
             "endlinecolor": "#2a3f5f",
             "gridcolor": "white",
             "linecolor": "white",
             "minorgridcolor": "white",
             "startlinecolor": "#2a3f5f"
            },
            "type": "carpet"
           }
          ],
          "choropleth": [
           {
            "colorbar": {
             "outlinewidth": 0,
             "ticks": ""
            },
            "type": "choropleth"
           }
          ],
          "contour": [
           {
            "colorbar": {
             "outlinewidth": 0,
             "ticks": ""
            },
            "colorscale": [
             [
              0,
              "#0d0887"
             ],
             [
              0.1111111111111111,
              "#46039f"
             ],
             [
              0.2222222222222222,
              "#7201a8"
             ],
             [
              0.3333333333333333,
              "#9c179e"
             ],
             [
              0.4444444444444444,
              "#bd3786"
             ],
             [
              0.5555555555555556,
              "#d8576b"
             ],
             [
              0.6666666666666666,
              "#ed7953"
             ],
             [
              0.7777777777777778,
              "#fb9f3a"
             ],
             [
              0.8888888888888888,
              "#fdca26"
             ],
             [
              1,
              "#f0f921"
             ]
            ],
            "type": "contour"
           }
          ],
          "contourcarpet": [
           {
            "colorbar": {
             "outlinewidth": 0,
             "ticks": ""
            },
            "type": "contourcarpet"
           }
          ],
          "heatmap": [
           {
            "colorbar": {
             "outlinewidth": 0,
             "ticks": ""
            },
            "colorscale": [
             [
              0,
              "#0d0887"
             ],
             [
              0.1111111111111111,
              "#46039f"
             ],
             [
              0.2222222222222222,
              "#7201a8"
             ],
             [
              0.3333333333333333,
              "#9c179e"
             ],
             [
              0.4444444444444444,
              "#bd3786"
             ],
             [
              0.5555555555555556,
              "#d8576b"
             ],
             [
              0.6666666666666666,
              "#ed7953"
             ],
             [
              0.7777777777777778,
              "#fb9f3a"
             ],
             [
              0.8888888888888888,
              "#fdca26"
             ],
             [
              1,
              "#f0f921"
             ]
            ],
            "type": "heatmap"
           }
          ],
          "heatmapgl": [
           {
            "colorbar": {
             "outlinewidth": 0,
             "ticks": ""
            },
            "colorscale": [
             [
              0,
              "#0d0887"
             ],
             [
              0.1111111111111111,
              "#46039f"
             ],
             [
              0.2222222222222222,
              "#7201a8"
             ],
             [
              0.3333333333333333,
              "#9c179e"
             ],
             [
              0.4444444444444444,
              "#bd3786"
             ],
             [
              0.5555555555555556,
              "#d8576b"
             ],
             [
              0.6666666666666666,
              "#ed7953"
             ],
             [
              0.7777777777777778,
              "#fb9f3a"
             ],
             [
              0.8888888888888888,
              "#fdca26"
             ],
             [
              1,
              "#f0f921"
             ]
            ],
            "type": "heatmapgl"
           }
          ],
          "histogram": [
           {
            "marker": {
             "pattern": {
              "fillmode": "overlay",
              "size": 10,
              "solidity": 0.2
             }
            },
            "type": "histogram"
           }
          ],
          "histogram2d": [
           {
            "colorbar": {
             "outlinewidth": 0,
             "ticks": ""
            },
            "colorscale": [
             [
              0,
              "#0d0887"
             ],
             [
              0.1111111111111111,
              "#46039f"
             ],
             [
              0.2222222222222222,
              "#7201a8"
             ],
             [
              0.3333333333333333,
              "#9c179e"
             ],
             [
              0.4444444444444444,
              "#bd3786"
             ],
             [
              0.5555555555555556,
              "#d8576b"
             ],
             [
              0.6666666666666666,
              "#ed7953"
             ],
             [
              0.7777777777777778,
              "#fb9f3a"
             ],
             [
              0.8888888888888888,
              "#fdca26"
             ],
             [
              1,
              "#f0f921"
             ]
            ],
            "type": "histogram2d"
           }
          ],
          "histogram2dcontour": [
           {
            "colorbar": {
             "outlinewidth": 0,
             "ticks": ""
            },
            "colorscale": [
             [
              0,
              "#0d0887"
             ],
             [
              0.1111111111111111,
              "#46039f"
             ],
             [
              0.2222222222222222,
              "#7201a8"
             ],
             [
              0.3333333333333333,
              "#9c179e"
             ],
             [
              0.4444444444444444,
              "#bd3786"
             ],
             [
              0.5555555555555556,
              "#d8576b"
             ],
             [
              0.6666666666666666,
              "#ed7953"
             ],
             [
              0.7777777777777778,
              "#fb9f3a"
             ],
             [
              0.8888888888888888,
              "#fdca26"
             ],
             [
              1,
              "#f0f921"
             ]
            ],
            "type": "histogram2dcontour"
           }
          ],
          "mesh3d": [
           {
            "colorbar": {
             "outlinewidth": 0,
             "ticks": ""
            },
            "type": "mesh3d"
           }
          ],
          "parcoords": [
           {
            "line": {
             "colorbar": {
              "outlinewidth": 0,
              "ticks": ""
             }
            },
            "type": "parcoords"
           }
          ],
          "pie": [
           {
            "automargin": true,
            "type": "pie"
           }
          ],
          "scatter": [
           {
            "fillpattern": {
             "fillmode": "overlay",
             "size": 10,
             "solidity": 0.2
            },
            "type": "scatter"
           }
          ],
          "scatter3d": [
           {
            "line": {
             "colorbar": {
              "outlinewidth": 0,
              "ticks": ""
             }
            },
            "marker": {
             "colorbar": {
              "outlinewidth": 0,
              "ticks": ""
             }
            },
            "type": "scatter3d"
           }
          ],
          "scattercarpet": [
           {
            "marker": {
             "colorbar": {
              "outlinewidth": 0,
              "ticks": ""
             }
            },
            "type": "scattercarpet"
           }
          ],
          "scattergeo": [
           {
            "marker": {
             "colorbar": {
              "outlinewidth": 0,
              "ticks": ""
             }
            },
            "type": "scattergeo"
           }
          ],
          "scattergl": [
           {
            "marker": {
             "colorbar": {
              "outlinewidth": 0,
              "ticks": ""
             }
            },
            "type": "scattergl"
           }
          ],
          "scattermapbox": [
           {
            "marker": {
             "colorbar": {
              "outlinewidth": 0,
              "ticks": ""
             }
            },
            "type": "scattermapbox"
           }
          ],
          "scatterpolar": [
           {
            "marker": {
             "colorbar": {
              "outlinewidth": 0,
              "ticks": ""
             }
            },
            "type": "scatterpolar"
           }
          ],
          "scatterpolargl": [
           {
            "marker": {
             "colorbar": {
              "outlinewidth": 0,
              "ticks": ""
             }
            },
            "type": "scatterpolargl"
           }
          ],
          "scatterternary": [
           {
            "marker": {
             "colorbar": {
              "outlinewidth": 0,
              "ticks": ""
             }
            },
            "type": "scatterternary"
           }
          ],
          "surface": [
           {
            "colorbar": {
             "outlinewidth": 0,
             "ticks": ""
            },
            "colorscale": [
             [
              0,
              "#0d0887"
             ],
             [
              0.1111111111111111,
              "#46039f"
             ],
             [
              0.2222222222222222,
              "#7201a8"
             ],
             [
              0.3333333333333333,
              "#9c179e"
             ],
             [
              0.4444444444444444,
              "#bd3786"
             ],
             [
              0.5555555555555556,
              "#d8576b"
             ],
             [
              0.6666666666666666,
              "#ed7953"
             ],
             [
              0.7777777777777778,
              "#fb9f3a"
             ],
             [
              0.8888888888888888,
              "#fdca26"
             ],
             [
              1,
              "#f0f921"
             ]
            ],
            "type": "surface"
           }
          ],
          "table": [
           {
            "cells": {
             "fill": {
              "color": "#EBF0F8"
             },
             "line": {
              "color": "white"
             }
            },
            "header": {
             "fill": {
              "color": "#C8D4E3"
             },
             "line": {
              "color": "white"
             }
            },
            "type": "table"
           }
          ]
         },
         "layout": {
          "annotationdefaults": {
           "arrowcolor": "#2a3f5f",
           "arrowhead": 0,
           "arrowwidth": 1
          },
          "autotypenumbers": "strict",
          "coloraxis": {
           "colorbar": {
            "outlinewidth": 0,
            "ticks": ""
           }
          },
          "colorscale": {
           "diverging": [
            [
             0,
             "#8e0152"
            ],
            [
             0.1,
             "#c51b7d"
            ],
            [
             0.2,
             "#de77ae"
            ],
            [
             0.3,
             "#f1b6da"
            ],
            [
             0.4,
             "#fde0ef"
            ],
            [
             0.5,
             "#f7f7f7"
            ],
            [
             0.6,
             "#e6f5d0"
            ],
            [
             0.7,
             "#b8e186"
            ],
            [
             0.8,
             "#7fbc41"
            ],
            [
             0.9,
             "#4d9221"
            ],
            [
             1,
             "#276419"
            ]
           ],
           "sequential": [
            [
             0,
             "#0d0887"
            ],
            [
             0.1111111111111111,
             "#46039f"
            ],
            [
             0.2222222222222222,
             "#7201a8"
            ],
            [
             0.3333333333333333,
             "#9c179e"
            ],
            [
             0.4444444444444444,
             "#bd3786"
            ],
            [
             0.5555555555555556,
             "#d8576b"
            ],
            [
             0.6666666666666666,
             "#ed7953"
            ],
            [
             0.7777777777777778,
             "#fb9f3a"
            ],
            [
             0.8888888888888888,
             "#fdca26"
            ],
            [
             1,
             "#f0f921"
            ]
           ],
           "sequentialminus": [
            [
             0,
             "#0d0887"
            ],
            [
             0.1111111111111111,
             "#46039f"
            ],
            [
             0.2222222222222222,
             "#7201a8"
            ],
            [
             0.3333333333333333,
             "#9c179e"
            ],
            [
             0.4444444444444444,
             "#bd3786"
            ],
            [
             0.5555555555555556,
             "#d8576b"
            ],
            [
             0.6666666666666666,
             "#ed7953"
            ],
            [
             0.7777777777777778,
             "#fb9f3a"
            ],
            [
             0.8888888888888888,
             "#fdca26"
            ],
            [
             1,
             "#f0f921"
            ]
           ]
          },
          "colorway": [
           "#636efa",
           "#EF553B",
           "#00cc96",
           "#ab63fa",
           "#FFA15A",
           "#19d3f3",
           "#FF6692",
           "#B6E880",
           "#FF97FF",
           "#FECB52"
          ],
          "font": {
           "color": "#2a3f5f"
          },
          "geo": {
           "bgcolor": "white",
           "lakecolor": "white",
           "landcolor": "#E5ECF6",
           "showlakes": true,
           "showland": true,
           "subunitcolor": "white"
          },
          "hoverlabel": {
           "align": "left"
          },
          "hovermode": "closest",
          "mapbox": {
           "style": "light"
          },
          "paper_bgcolor": "white",
          "plot_bgcolor": "#E5ECF6",
          "polar": {
           "angularaxis": {
            "gridcolor": "white",
            "linecolor": "white",
            "ticks": ""
           },
           "bgcolor": "#E5ECF6",
           "radialaxis": {
            "gridcolor": "white",
            "linecolor": "white",
            "ticks": ""
           }
          },
          "scene": {
           "xaxis": {
            "backgroundcolor": "#E5ECF6",
            "gridcolor": "white",
            "gridwidth": 2,
            "linecolor": "white",
            "showbackground": true,
            "ticks": "",
            "zerolinecolor": "white"
           },
           "yaxis": {
            "backgroundcolor": "#E5ECF6",
            "gridcolor": "white",
            "gridwidth": 2,
            "linecolor": "white",
            "showbackground": true,
            "ticks": "",
            "zerolinecolor": "white"
           },
           "zaxis": {
            "backgroundcolor": "#E5ECF6",
            "gridcolor": "white",
            "gridwidth": 2,
            "linecolor": "white",
            "showbackground": true,
            "ticks": "",
            "zerolinecolor": "white"
           }
          },
          "shapedefaults": {
           "line": {
            "color": "#2a3f5f"
           }
          },
          "ternary": {
           "aaxis": {
            "gridcolor": "white",
            "linecolor": "white",
            "ticks": ""
           },
           "baxis": {
            "gridcolor": "white",
            "linecolor": "white",
            "ticks": ""
           },
           "bgcolor": "#E5ECF6",
           "caxis": {
            "gridcolor": "white",
            "linecolor": "white",
            "ticks": ""
           }
          },
          "title": {
           "x": 0.05
          },
          "xaxis": {
           "automargin": true,
           "gridcolor": "white",
           "linecolor": "white",
           "ticks": "",
           "title": {
            "standoff": 15
           },
           "zerolinecolor": "white",
           "zerolinewidth": 2
          },
          "yaxis": {
           "automargin": true,
           "gridcolor": "white",
           "linecolor": "white",
           "ticks": "",
           "title": {
            "standoff": 15
           },
           "zerolinecolor": "white",
           "zerolinewidth": 2
          }
         }
        },
        "title": {
         "text": "Optimization History Plot"
        },
        "xaxis": {
         "title": {
          "text": "Trial"
         }
        },
        "yaxis": {
         "title": {
          "text": "Objective Value"
         }
        }
       }
      }
     },
     "metadata": {},
     "output_type": "display_data"
    },
    {
     "name": "stdout",
     "output_type": "stream",
     "text": [
      "Best trial: 0.9939667099390039\n",
      "Best parameters: {'C': 10.163889097905809, 'l1_ratio': 0.665049354160172, 'fit_intercept': True}\n",
      "              precision    recall  f1-score   support\n",
      "\n",
      "         0.0       1.00      1.00      1.00       638\n",
      "         1.0       1.00      1.00      1.00        77\n",
      "         2.0       1.00      0.99      0.99       411\n",
      "         3.0       0.62      1.00      0.77         5\n",
      "         4.0       1.00      1.00      1.00        88\n",
      "         5.0       0.99      1.00      1.00       108\n",
      "\n",
      "    accuracy                           0.99      1327\n",
      "   macro avg       0.93      1.00      0.96      1327\n",
      "weighted avg       1.00      0.99      0.99      1327\n",
      "\n"
     ]
    },
    {
     "data": {
      "image/png": "[encoded data removed]",
      "text/plain": [
       "<Figure size 640x480 with 2 Axes>"
      ]
     },
     "metadata": {},
     "output_type": "display_data"
    }
   ],
   "source": [
    "# define o espaço de busca e a função objetivo\n",
    "def objective_logistic_regression(\n",
    "\t\ttrial: opt.trial.Trial,\n",
    "\t\tX: pd.DataFrame,\n",
    "\t\ty: pd.DataFrame,\n",
    "\t) -> float:\n",
    "\testimator = LogisticRegression(\n",
    "\t\tpenalty = 'elasticnet', solver='saga',\n",
    "\t\tclass_weight='balanced', # equilibra as classes\n",
    "\t\tC=trial.suggest_float('C', 1e-10, 1e+10, log=True),\n",
    "\t\tl1_ratio=trial.suggest_float('l1_ratio', 0, 1),\n",
    "\t\tfit_intercept=trial.suggest_categorical('fit_intercept', [True, False]),\n",
    "\t)\n",
    "\ttrial.set_user_attr(key=\"estimator\", value=estimator)\n",
    "\tscore = cross_val_score(estimator, X, y, n_jobs=-1, cv=5, scoring='accuracy')\n",
    "\treturn score.mean()\n",
    "\n",
    "np.seterr(divide='ignore', invalid='ignore')\n",
    "\n",
    "# rotina de otimização bayesiana\n",
    "logistic_regression_model = optimize(\n",
    "\tobjective=objective_logistic_regression, \n",
    "\tdescription='logistic_regression', n_trials=39,\n",
    "\tX=data_train, y=targets_train, X_test=data_test, y_test=targets_test,)"
   ]
  },
  {
   "attachments": {},
   "cell_type": "markdown",
   "metadata": {},
   "source": [
    "#### árvore de decisão"
   ]
  },
  {
   "cell_type": "code",
   "execution_count": 14,
   "metadata": {},
   "outputs": [
    {
     "data": {
      "application/vnd.jupyter.widget-view+json": {
       "model_id": "f37bc36872f24ab1a69165b9dc0169db",
       "version_major": 2,
       "version_minor": 0
      },
      "text/plain": [
       "  0%|          | 0/100 [00:00<?, ?it/s]"
      ]
     },
     "metadata": {},
     "output_type": "display_data"
    },
    {
     "data": {
      "application/vnd.plotly.v1+json": {
       "config": {
        "plotlyServerURL": "https://plot.ly"
       },
       "data": [
        {
         "mode": "markers",
         "name": "Objective Value",
         "type": "scatter",
         "x": [
          0,
          1,
          2,
          3,
          4,
          5,
          6,
          7,
          8,
          9,
          10,
          11,
          12,
          13,
          14,
          15,
          16,
          17,
          18,
          19,
          20,
          21,
          22,
          23,
          24,
          25,
          26,
          27,
          28,
          29,
          30,
          31,
          32,
          33,
          34,
          35,
          36,
          37,
          38,
          39,
          40,
          41,
          42,
          43,
          44,
          45,
          46,
          47,
          48,
          49,
          50,
          51,
          52,
          53,
          54,
          55,
          56,
          57,
          58,
          59,
          60,
          61,
          62,
          63,
          64,
          65,
          66,
          67,
          68,
          69,
          70,
          71,
          72,
          73,
          74,
          75,
          76,
          77,
          78,
          79,
          80,
          81,
          82,
          83,
          84,
          85,
          86,
          87,
          88,
          89,
          90,
          91,
          92,
          93,
          94,
          95,
          96,
          97,
          98,
          99
         ],
         "y": [
          0.9289207404904595,
          0.9302409617128733,
          0.9266581900307649,
          0.961914534170327,
          0.9604056337026302,
          0.9062948802304696,
          0.829939715113901,
          0.9255270037166788,
          0.9604056337026302,
          0.9289207404904595,
          0.8193825689541729,
          0.9604056337026302,
          0.9045980118435795,
          0.8124058826667614,
          0.8821636761332314,
          0.9029018547827787,
          0.8423829424003699,
          0.8423829424003699,
          0.805430796863052,
          0.893286148702719,
          0.9123283481229884,
          0.9302409617128733,
          0.9302409617128733,
          0.8440794551242152,
          0.8099553642878735,
          0.9051635160848612,
          0.8018467803602867,
          0.9179848131879857,
          0.8120288798392403,
          0.8323905891558339,
          0.8719819323173226,
          0.8744335176853448,
          0.9634225454804118,
          0.8501123895221667,
          0.9615375313428057,
          0.9615375313428057,
          0.8578427258015756,
          0.9641774402930665,
          0.9717174968434905,
          0.9641774402930665,
          0.9641774402930665,
          0.9617260327565663,
          0.9615375313428057,
          0.9641774402930665,
          0.9076159906104955,
          0.9604056337026302,
          0.9061070901427988,
          0.9604056337026302,
          0.9619136450127149,
          0.961914534170327,
          0.9604056337026302,
          0.961914534170327,
          0.961914534170327,
          0.9604056337026302,
          0.9604056337026302,
          0.9604056337026302,
          0.961914534170327,
          0.961914534170327,
          0.9641774402930665,
          0.961914534170327,
          0.9634225454804118,
          0.961914534170327,
          0.9302409617128733,
          0.9302409617128733,
          0.9302409617128733,
          0.9302409617128733,
          0.9302409617128733,
          0.9302409617128733,
          0.961914534170327,
          0.9302409617128733,
          0.954751480447424,
          0.954751480447424,
          0.9479654295520424,
          0.954751480447424,
          0.954751480447424,
          0.961914534170327,
          0.954751480447424,
          0.954751480447424,
          0.961914534170327,
          0.961914534170327,
          0.9479654295520424,
          0.961914534170327,
          0.961914534170327,
          0.961914534170327,
          0.961914534170327,
          0.961914534170327,
          0.961914534170327,
          0.961914534170327,
          0.961914534170327,
          0.961914534170327,
          0.961914534170327,
          0.961914534170327,
          0.961914534170327,
          0.961914534170327,
          0.961914534170327,
          0.961914534170327,
          0.961914534170327,
          0.961914534170327,
          0.961914534170327,
          0.961914534170327
         ]
        },
        {
         "name": "Best Value",
         "type": "scatter",
         "x": [
          0,
          1,
          2,
          3,
          4,
          5,
          6,
          7,
          8,
          9,
          10,
          11,
          12,
          13,
          14,
          15,
          16,
          17,
          18,
          19,
          20,
          21,
          22,
          23,
          24,
          25,
          26,
          27,
          28,
          29,
          30,
          31,
          32,
          33,
          34,
          35,
          36,
          37,
          38,
          39,
          40,
          41,
          42,
          43,
          44,
          45,
          46,
          47,
          48,
          49,
          50,
          51,
          52,
          53,
          54,
          55,
          56,
          57,
          58,
          59,
          60,
          61,
          62,
          63,
          64,
          65,
          66,
          67,
          68,
          69,
          70,
          71,
          72,
          73,
          74,
          75,
          76,
          77,
          78,
          79,
          80,
          81,
          82,
          83,
          84,
          85,
          86,
          87,
          88,
          89,
          90,
          91,
          92,
          93,
          94,
          95,
          96,
          97,
          98,
          99
         ],
         "y": [
          0.9289207404904595,
          0.9302409617128733,
          0.9302409617128733,
          0.961914534170327,
          0.961914534170327,
          0.961914534170327,
          0.961914534170327,
          0.961914534170327,
          0.961914534170327,
          0.961914534170327,
          0.961914534170327,
          0.961914534170327,
          0.961914534170327,
          0.961914534170327,
          0.961914534170327,
          0.961914534170327,
          0.961914534170327,
          0.961914534170327,
          0.961914534170327,
          0.961914534170327,
          0.961914534170327,
          0.961914534170327,
          0.961914534170327,
          0.961914534170327,
          0.961914534170327,
          0.961914534170327,
          0.961914534170327,
          0.961914534170327,
          0.961914534170327,
          0.961914534170327,
          0.961914534170327,
          0.961914534170327,
          0.9634225454804118,
          0.9634225454804118,
          0.9634225454804118,
          0.9634225454804118,
          0.9634225454804118,
          0.9641774402930665,
          0.9717174968434905,
          0.9717174968434905,
          0.9717174968434905,
          0.9717174968434905,
          0.9717174968434905,
          0.9717174968434905,
          0.9717174968434905,
          0.9717174968434905,
          0.9717174968434905,
          0.9717174968434905,
          0.9717174968434905,
          0.9717174968434905,
          0.9717174968434905,
          0.9717174968434905,
          0.9717174968434905,
          0.9717174968434905,
          0.9717174968434905,
          0.9717174968434905,
          0.9717174968434905,
          0.9717174968434905,
          0.9717174968434905,
          0.9717174968434905,
          0.9717174968434905,
          0.9717174968434905,
          0.9717174968434905,
          0.9717174968434905,
          0.9717174968434905,
          0.9717174968434905,
          0.9717174968434905,
          0.9717174968434905,
          0.9717174968434905,
          0.9717174968434905,
          0.9717174968434905,
          0.9717174968434905,
          0.9717174968434905,
          0.9717174968434905,
          0.9717174968434905,
          0.9717174968434905,
          0.9717174968434905,
          0.9717174968434905,
          0.9717174968434905,
          0.9717174968434905,
          0.9717174968434905,
          0.9717174968434905,
          0.9717174968434905,
          0.9717174968434905,
          0.9717174968434905,
          0.9717174968434905,
          0.9717174968434905,
          0.9717174968434905,
          0.9717174968434905,
          0.9717174968434905,
          0.9717174968434905,
          0.9717174968434905,
          0.9717174968434905,
          0.9717174968434905,
          0.9717174968434905,
          0.9717174968434905,
          0.9717174968434905,
          0.9717174968434905,
          0.9717174968434905,
          0.9717174968434905
         ]
        }
       ],
       "layout": {
        "template": {
         "data": {
          "bar": [
           {
            "error_x": {
             "color": "#2a3f5f"
            },
            "error_y": {
             "color": "#2a3f5f"
            },
            "marker": {
             "line": {
              "color": "#E5ECF6",
              "width": 0.5
             },
             "pattern": {
              "fillmode": "overlay",
              "size": 10,
              "solidity": 0.2
             }
            },
            "type": "bar"
           }
          ],
          "barpolar": [
           {
            "marker": {
             "line": {
              "color": "#E5ECF6",
              "width": 0.5
             },
             "pattern": {
              "fillmode": "overlay",
              "size": 10,
              "solidity": 0.2
             }
            },
            "type": "barpolar"
           }
          ],
          "carpet": [
           {
            "aaxis": {
             "endlinecolor": "#2a3f5f",
             "gridcolor": "white",
             "linecolor": "white",
             "minorgridcolor": "white",
             "startlinecolor": "#2a3f5f"
            },
            "baxis": {
             "endlinecolor": "#2a3f5f",
             "gridcolor": "white",
             "linecolor": "white",
             "minorgridcolor": "white",
             "startlinecolor": "#2a3f5f"
            },
            "type": "carpet"
           }
          ],
          "choropleth": [
           {
            "colorbar": {
             "outlinewidth": 0,
             "ticks": ""
            },
            "type": "choropleth"
           }
          ],
          "contour": [
           {
            "colorbar": {
             "outlinewidth": 0,
             "ticks": ""
            },
            "colorscale": [
             [
              0,
              "#0d0887"
             ],
             [
              0.1111111111111111,
              "#46039f"
             ],
             [
              0.2222222222222222,
              "#7201a8"
             ],
             [
              0.3333333333333333,
              "#9c179e"
             ],
             [
              0.4444444444444444,
              "#bd3786"
             ],
             [
              0.5555555555555556,
              "#d8576b"
             ],
             [
              0.6666666666666666,
              "#ed7953"
             ],
             [
              0.7777777777777778,
              "#fb9f3a"
             ],
             [
              0.8888888888888888,
              "#fdca26"
             ],
             [
              1,
              "#f0f921"
             ]
            ],
            "type": "contour"
           }
          ],
          "contourcarpet": [
           {
            "colorbar": {
             "outlinewidth": 0,
             "ticks": ""
            },
            "type": "contourcarpet"
           }
          ],
          "heatmap": [
           {
            "colorbar": {
             "outlinewidth": 0,
             "ticks": ""
            },
            "colorscale": [
             [
              0,
              "#0d0887"
             ],
             [
              0.1111111111111111,
              "#46039f"
             ],
             [
              0.2222222222222222,
              "#7201a8"
             ],
             [
              0.3333333333333333,
              "#9c179e"
             ],
             [
              0.4444444444444444,
              "#bd3786"
             ],
             [
              0.5555555555555556,
              "#d8576b"
             ],
             [
              0.6666666666666666,
              "#ed7953"
             ],
             [
              0.7777777777777778,
              "#fb9f3a"
             ],
             [
              0.8888888888888888,
              "#fdca26"
             ],
             [
              1,
              "#f0f921"
             ]
            ],
            "type": "heatmap"
           }
          ],
          "heatmapgl": [
           {
            "colorbar": {
             "outlinewidth": 0,
             "ticks": ""
            },
            "colorscale": [
             [
              0,
              "#0d0887"
             ],
             [
              0.1111111111111111,
              "#46039f"
             ],
             [
              0.2222222222222222,
              "#7201a8"
             ],
             [
              0.3333333333333333,
              "#9c179e"
             ],
             [
              0.4444444444444444,
              "#bd3786"
             ],
             [
              0.5555555555555556,
              "#d8576b"
             ],
             [
              0.6666666666666666,
              "#ed7953"
             ],
             [
              0.7777777777777778,
              "#fb9f3a"
             ],
             [
              0.8888888888888888,
              "#fdca26"
             ],
             [
              1,
              "#f0f921"
             ]
            ],
            "type": "heatmapgl"
           }
          ],
          "histogram": [
           {
            "marker": {
             "pattern": {
              "fillmode": "overlay",
              "size": 10,
              "solidity": 0.2
             }
            },
            "type": "histogram"
           }
          ],
          "histogram2d": [
           {
            "colorbar": {
             "outlinewidth": 0,
             "ticks": ""
            },
            "colorscale": [
             [
              0,
              "#0d0887"
             ],
             [
              0.1111111111111111,
              "#46039f"
             ],
             [
              0.2222222222222222,
              "#7201a8"
             ],
             [
              0.3333333333333333,
              "#9c179e"
             ],
             [
              0.4444444444444444,
              "#bd3786"
             ],
             [
              0.5555555555555556,
              "#d8576b"
             ],
             [
              0.6666666666666666,
              "#ed7953"
             ],
             [
              0.7777777777777778,
              "#fb9f3a"
             ],
             [
              0.8888888888888888,
              "#fdca26"
             ],
             [
              1,
              "#f0f921"
             ]
            ],
            "type": "histogram2d"
           }
          ],
          "histogram2dcontour": [
           {
            "colorbar": {
             "outlinewidth": 0,
             "ticks": ""
            },
            "colorscale": [
             [
              0,
              "#0d0887"
             ],
             [
              0.1111111111111111,
              "#46039f"
             ],
             [
              0.2222222222222222,
              "#7201a8"
             ],
             [
              0.3333333333333333,
              "#9c179e"
             ],
             [
              0.4444444444444444,
              "#bd3786"
             ],
             [
              0.5555555555555556,
              "#d8576b"
             ],
             [
              0.6666666666666666,
              "#ed7953"
             ],
             [
              0.7777777777777778,
              "#fb9f3a"
             ],
             [
              0.8888888888888888,
              "#fdca26"
             ],
             [
              1,
              "#f0f921"
             ]
            ],
            "type": "histogram2dcontour"
           }
          ],
          "mesh3d": [
           {
            "colorbar": {
             "outlinewidth": 0,
             "ticks": ""
            },
            "type": "mesh3d"
           }
          ],
          "parcoords": [
           {
            "line": {
             "colorbar": {
              "outlinewidth": 0,
              "ticks": ""
             }
            },
            "type": "parcoords"
           }
          ],
          "pie": [
           {
            "automargin": true,
            "type": "pie"
           }
          ],
          "scatter": [
           {
            "fillpattern": {
             "fillmode": "overlay",
             "size": 10,
             "solidity": 0.2
            },
            "type": "scatter"
           }
          ],
          "scatter3d": [
           {
            "line": {
             "colorbar": {
              "outlinewidth": 0,
              "ticks": ""
             }
            },
            "marker": {
             "colorbar": {
              "outlinewidth": 0,
              "ticks": ""
             }
            },
            "type": "scatter3d"
           }
          ],
          "scattercarpet": [
           {
            "marker": {
             "colorbar": {
              "outlinewidth": 0,
              "ticks": ""
             }
            },
            "type": "scattercarpet"
           }
          ],
          "scattergeo": [
           {
            "marker": {
             "colorbar": {
              "outlinewidth": 0,
              "ticks": ""
             }
            },
            "type": "scattergeo"
           }
          ],
          "scattergl": [
           {
            "marker": {
             "colorbar": {
              "outlinewidth": 0,
              "ticks": ""
             }
            },
            "type": "scattergl"
           }
          ],
          "scattermapbox": [
           {
            "marker": {
             "colorbar": {
              "outlinewidth": 0,
              "ticks": ""
             }
            },
            "type": "scattermapbox"
           }
          ],
          "scatterpolar": [
           {
            "marker": {
             "colorbar": {
              "outlinewidth": 0,
              "ticks": ""
             }
            },
            "type": "scatterpolar"
           }
          ],
          "scatterpolargl": [
           {
            "marker": {
             "colorbar": {
              "outlinewidth": 0,
              "ticks": ""
             }
            },
            "type": "scatterpolargl"
           }
          ],
          "scatterternary": [
           {
            "marker": {
             "colorbar": {
              "outlinewidth": 0,
              "ticks": ""
             }
            },
            "type": "scatterternary"
           }
          ],
          "surface": [
           {
            "colorbar": {
             "outlinewidth": 0,
             "ticks": ""
            },
            "colorscale": [
             [
              0,
              "#0d0887"
             ],
             [
              0.1111111111111111,
              "#46039f"
             ],
             [
              0.2222222222222222,
              "#7201a8"
             ],
             [
              0.3333333333333333,
              "#9c179e"
             ],
             [
              0.4444444444444444,
              "#bd3786"
             ],
             [
              0.5555555555555556,
              "#d8576b"
             ],
             [
              0.6666666666666666,
              "#ed7953"
             ],
             [
              0.7777777777777778,
              "#fb9f3a"
             ],
             [
              0.8888888888888888,
              "#fdca26"
             ],
             [
              1,
              "#f0f921"
             ]
            ],
            "type": "surface"
           }
          ],
          "table": [
           {
            "cells": {
             "fill": {
              "color": "#EBF0F8"
             },
             "line": {
              "color": "white"
             }
            },
            "header": {
             "fill": {
              "color": "#C8D4E3"
             },
             "line": {
              "color": "white"
             }
            },
            "type": "table"
           }
          ]
         },
         "layout": {
          "annotationdefaults": {
           "arrowcolor": "#2a3f5f",
           "arrowhead": 0,
           "arrowwidth": 1
          },
          "autotypenumbers": "strict",
          "coloraxis": {
           "colorbar": {
            "outlinewidth": 0,
            "ticks": ""
           }
          },
          "colorscale": {
           "diverging": [
            [
             0,
             "#8e0152"
            ],
            [
             0.1,
             "#c51b7d"
            ],
            [
             0.2,
             "#de77ae"
            ],
            [
             0.3,
             "#f1b6da"
            ],
            [
             0.4,
             "#fde0ef"
            ],
            [
             0.5,
             "#f7f7f7"
            ],
            [
             0.6,
             "#e6f5d0"
            ],
            [
             0.7,
             "#b8e186"
            ],
            [
             0.8,
             "#7fbc41"
            ],
            [
             0.9,
             "#4d9221"
            ],
            [
             1,
             "#276419"
            ]
           ],
           "sequential": [
            [
             0,
             "#0d0887"
            ],
            [
             0.1111111111111111,
             "#46039f"
            ],
            [
             0.2222222222222222,
             "#7201a8"
            ],
            [
             0.3333333333333333,
             "#9c179e"
            ],
            [
             0.4444444444444444,
             "#bd3786"
            ],
            [
             0.5555555555555556,
             "#d8576b"
            ],
            [
             0.6666666666666666,
             "#ed7953"
            ],
            [
             0.7777777777777778,
             "#fb9f3a"
            ],
            [
             0.8888888888888888,
             "#fdca26"
            ],
            [
             1,
             "#f0f921"
            ]
           ],
           "sequentialminus": [
            [
             0,
             "#0d0887"
            ],
            [
             0.1111111111111111,
             "#46039f"
            ],
            [
             0.2222222222222222,
             "#7201a8"
            ],
            [
             0.3333333333333333,
             "#9c179e"
            ],
            [
             0.4444444444444444,
             "#bd3786"
            ],
            [
             0.5555555555555556,
             "#d8576b"
            ],
            [
             0.6666666666666666,
             "#ed7953"
            ],
            [
             0.7777777777777778,
             "#fb9f3a"
            ],
            [
             0.8888888888888888,
             "#fdca26"
            ],
            [
             1,
             "#f0f921"
            ]
           ]
          },
          "colorway": [
           "#636efa",
           "#EF553B",
           "#00cc96",
           "#ab63fa",
           "#FFA15A",
           "#19d3f3",
           "#FF6692",
           "#B6E880",
           "#FF97FF",
           "#FECB52"
          ],
          "font": {
           "color": "#2a3f5f"
          },
          "geo": {
           "bgcolor": "white",
           "lakecolor": "white",
           "landcolor": "#E5ECF6",
           "showlakes": true,
           "showland": true,
           "subunitcolor": "white"
          },
          "hoverlabel": {
           "align": "left"
          },
          "hovermode": "closest",
          "mapbox": {
           "style": "light"
          },
          "paper_bgcolor": "white",
          "plot_bgcolor": "#E5ECF6",
          "polar": {
           "angularaxis": {
            "gridcolor": "white",
            "linecolor": "white",
            "ticks": ""
           },
           "bgcolor": "#E5ECF6",
           "radialaxis": {
            "gridcolor": "white",
            "linecolor": "white",
            "ticks": ""
           }
          },
          "scene": {
           "xaxis": {
            "backgroundcolor": "#E5ECF6",
            "gridcolor": "white",
            "gridwidth": 2,
            "linecolor": "white",
            "showbackground": true,
            "ticks": "",
            "zerolinecolor": "white"
           },
           "yaxis": {
            "backgroundcolor": "#E5ECF6",
            "gridcolor": "white",
            "gridwidth": 2,
            "linecolor": "white",
            "showbackground": true,
            "ticks": "",
            "zerolinecolor": "white"
           },
           "zaxis": {
            "backgroundcolor": "#E5ECF6",
            "gridcolor": "white",
            "gridwidth": 2,
            "linecolor": "white",
            "showbackground": true,
            "ticks": "",
            "zerolinecolor": "white"
           }
          },
          "shapedefaults": {
           "line": {
            "color": "#2a3f5f"
           }
          },
          "ternary": {
           "aaxis": {
            "gridcolor": "white",
            "linecolor": "white",
            "ticks": ""
           },
           "baxis": {
            "gridcolor": "white",
            "linecolor": "white",
            "ticks": ""
           },
           "bgcolor": "#E5ECF6",
           "caxis": {
            "gridcolor": "white",
            "linecolor": "white",
            "ticks": ""
           }
          },
          "title": {
           "x": 0.05
          },
          "xaxis": {
           "automargin": true,
           "gridcolor": "white",
           "linecolor": "white",
           "ticks": "",
           "title": {
            "standoff": 15
           },
           "zerolinecolor": "white",
           "zerolinewidth": 2
          },
          "yaxis": {
           "automargin": true,
           "gridcolor": "white",
           "linecolor": "white",
           "ticks": "",
           "title": {
            "standoff": 15
           },
           "zerolinecolor": "white",
           "zerolinewidth": 2
          }
         }
        },
        "title": {
         "text": "Optimization History Plot"
        },
        "xaxis": {
         "title": {
          "text": "Trial"
         }
        },
        "yaxis": {
         "title": {
          "text": "Objective Value"
         }
        }
       }
      }
     },
     "metadata": {},
     "output_type": "display_data"
    },
    {
     "name": "stdout",
     "output_type": "stream",
     "text": [
      "Best trial: 0.9717174968434905\n",
      "Best parameters: {'criterion': 'gini', 'min_samples_split': 0.024, 'min_samples_leaf': 0.01}\n",
      "              precision    recall  f1-score   support\n",
      "\n",
      "         0.0       1.00      0.98      0.99       638\n",
      "         1.0       1.00      0.69      0.82        77\n",
      "         2.0       0.93      1.00      0.96       411\n",
      "         3.0       0.00      0.00      0.00         5\n",
      "         4.0       0.95      1.00      0.97        88\n",
      "         5.0       0.98      0.98      0.98       108\n",
      "\n",
      "    accuracy                           0.97      1327\n",
      "   macro avg       0.81      0.78      0.79      1327\n",
      "weighted avg       0.97      0.97      0.97      1327\n",
      "\n"
     ]
    },
    {
     "data": {
      "image/png": "[encoded data removed]",
      "text/plain": [
       "<Figure size 640x480 with 2 Axes>"
      ]
     },
     "metadata": {},
     "output_type": "display_data"
    }
   ],
   "source": [
    "# define o espaço de busca e a função objetivo\n",
    "def objective_decision_tree(\n",
    "\t\ttrial: opt.trial.Trial,\n",
    "\t\tX: pd.DataFrame,\n",
    "\t\ty: pd.DataFrame,\n",
    "\t) -> float:\t\n",
    "\testimator = DecisionTreeClassifier(\n",
    "\t\tcriterion = trial.suggest_categorical('criterion', ['gini', 'entropy']),\n",
    "\t\tmin_samples_split = trial.suggest_float('min_samples_split', 0.01, 0.4, log=False, step=0.001),\n",
    "\t\tmin_samples_leaf = trial.suggest_float('min_samples_leaf', 0.01, 0.2, log=False, step=0.001),\n",
    "\t)\n",
    "\ttrial.set_user_attr(key=\"estimator\", value=estimator)\n",
    "\tscore = cross_val_score(estimator, X, y, n_jobs=-1, cv=5, scoring='accuracy')\n",
    "\treturn score.mean()\n",
    "\n",
    "# rotina de otimização bayesiana\n",
    "decision_tree_model = optimize(\n",
    "\tobjective=objective_decision_tree, \n",
    "\tdescription='decision_tree_classifier', n_trials=100,\n",
    "\tX=data_train, y=targets_train, X_test=data_test, y_test=targets_test,)"
   ]
  },
  {
   "cell_type": "markdown",
   "metadata": {},
   "source": [
    "#### naive bayes"
   ]
  },
  {
   "cell_type": "code",
   "execution_count": 15,
   "metadata": {},
   "outputs": [
    {
     "data": {
      "application/vnd.jupyter.widget-view+json": {
       "model_id": "a53dd6f156dc4a5ab6985189682b86ad",
       "version_major": 2,
       "version_minor": 0
      },
      "text/plain": [
       "  0%|          | 0/100 [00:00<?, ?it/s]"
      ]
     },
     "metadata": {},
     "output_type": "display_data"
    },
    {
     "data": {
      "application/vnd.plotly.v1+json": {
       "config": {
        "plotlyServerURL": "https://plot.ly"
       },
       "data": [
        {
         "mode": "markers",
         "name": "Objective Value",
         "type": "scatter",
         "x": [
          0,
          1,
          2,
          3,
          4,
          5,
          6,
          7,
          8,
          9,
          10,
          11,
          12,
          13,
          14,
          15,
          16,
          17,
          18,
          19,
          20,
          21,
          22,
          23,
          24,
          25,
          26,
          27,
          28,
          29,
          30,
          31,
          32,
          33,
          34,
          35,
          36,
          37,
          38,
          39,
          40,
          41,
          42,
          43,
          44,
          45,
          46,
          47,
          48,
          49,
          50,
          51,
          52,
          53,
          54,
          55,
          56,
          57,
          58,
          59,
          60,
          61,
          62,
          63,
          64,
          65,
          66,
          67,
          68,
          69,
          70,
          71,
          72,
          73,
          74,
          75,
          76,
          77,
          78,
          79,
          80,
          81,
          82,
          83,
          84,
          85,
          86,
          87,
          88,
          89,
          90,
          91,
          92,
          93,
          94,
          95,
          96,
          97,
          98,
          99
         ],
         "y": [
          0.9896301104333753,
          0.9886876033645724,
          0.9890646061920936,
          0.9890646061920936,
          0.9890646061920936,
          0.9886876033645724,
          0.988876104778333,
          0.9900071132608966,
          0.9898186118471359,
          0.9886876033645724,
          0.9894416090196148,
          0.9890646061920936,
          0.9886876033645724,
          0.9894416090196148,
          0.9894416090196148,
          0.9886876033645724,
          0.9928353457933954,
          0.9890646061920936,
          0.9890646061920936,
          0.9915154802340262,
          0.9890646061920936,
          0.988876104778333,
          0.9890646061920936,
          0.9890646061920936,
          0.9890646061920936,
          0.9890646061920936,
          0.9890646061920936,
          0.988876104778333,
          0.9890646061920936,
          0.9890646061920936,
          0.988876104778333,
          0.9928353457933954,
          0.9909494424981773,
          0.990572439670656,
          0.990572439670656,
          0.9901956146746572,
          0.9901954368431347,
          0.9901956146746572,
          0.9896301104333753,
          0.9901956146746572,
          0.9907609410844167,
          0.9907609410844167,
          0.9932123486209166,
          0.9900069354293743,
          0.9911381217434603,
          0.9905726175021785,
          0.9905726175021785,
          0.9911381217434603,
          0.9909494424981773,
          0.9901954368431347,
          0.9909494424981773,
          0.9901954368431347,
          0.9911379439119378,
          0.9903841160884179,
          0.9920806288122632,
          0.9901956146746572,
          0.9901954368431347,
          0.9934010278661998,
          0.9934010278661998,
          0.9934010278661998,
          0.9924585207973966,
          0.9934010278661998,
          0.993023847207156,
          0.9928353457933954,
          0.9928353457933954,
          0.9928353457933954,
          0.993023847207156,
          0.9926468443796347,
          0.9922700193836359,
          0.9926470222111572,
          0.9928353457933954,
          0.9924585207973966,
          0.9924585207973966,
          0.9934010278661998,
          0.9928353457933954,
          0.9934010278661998,
          0.9928353457933954,
          0.993023847207156,
          0.9928353457933954,
          0.993023847207156,
          0.9928353457933954,
          0.9928353457933954,
          0.9926470222111572,
          0.9928353457933954,
          0.9934010278661998,
          0.993023847207156,
          0.9903844717514627,
          0.9903844717514627,
          0.9898186118471359,
          0.9903844717514627,
          0.9898186118471359,
          0.9907614745789839,
          0.9900072910924191,
          0.9898186118471359,
          0.9907614745789839,
          0.9903844717514627,
          0.990195970337702,
          0.9903844717514627,
          0.9907614745789839,
          0.9909499759927444
         ]
        },
        {
         "name": "Best Value",
         "type": "scatter",
         "x": [
          0,
          1,
          2,
          3,
          4,
          5,
          6,
          7,
          8,
          9,
          10,
          11,
          12,
          13,
          14,
          15,
          16,
          17,
          18,
          19,
          20,
          21,
          22,
          23,
          24,
          25,
          26,
          27,
          28,
          29,
          30,
          31,
          32,
          33,
          34,
          35,
          36,
          37,
          38,
          39,
          40,
          41,
          42,
          43,
          44,
          45,
          46,
          47,
          48,
          49,
          50,
          51,
          52,
          53,
          54,
          55,
          56,
          57,
          58,
          59,
          60,
          61,
          62,
          63,
          64,
          65,
          66,
          67,
          68,
          69,
          70,
          71,
          72,
          73,
          74,
          75,
          76,
          77,
          78,
          79,
          80,
          81,
          82,
          83,
          84,
          85,
          86,
          87,
          88,
          89,
          90,
          91,
          92,
          93,
          94,
          95,
          96,
          97,
          98,
          99
         ],
         "y": [
          0.9896301104333753,
          0.9896301104333753,
          0.9896301104333753,
          0.9896301104333753,
          0.9896301104333753,
          0.9896301104333753,
          0.9896301104333753,
          0.9900071132608966,
          0.9900071132608966,
          0.9900071132608966,
          0.9900071132608966,
          0.9900071132608966,
          0.9900071132608966,
          0.9900071132608966,
          0.9900071132608966,
          0.9900071132608966,
          0.9928353457933954,
          0.9928353457933954,
          0.9928353457933954,
          0.9928353457933954,
          0.9928353457933954,
          0.9928353457933954,
          0.9928353457933954,
          0.9928353457933954,
          0.9928353457933954,
          0.9928353457933954,
          0.9928353457933954,
          0.9928353457933954,
          0.9928353457933954,
          0.9928353457933954,
          0.9928353457933954,
          0.9928353457933954,
          0.9928353457933954,
          0.9928353457933954,
          0.9928353457933954,
          0.9928353457933954,
          0.9928353457933954,
          0.9928353457933954,
          0.9928353457933954,
          0.9928353457933954,
          0.9928353457933954,
          0.9928353457933954,
          0.9932123486209166,
          0.9932123486209166,
          0.9932123486209166,
          0.9932123486209166,
          0.9932123486209166,
          0.9932123486209166,
          0.9932123486209166,
          0.9932123486209166,
          0.9932123486209166,
          0.9932123486209166,
          0.9932123486209166,
          0.9932123486209166,
          0.9932123486209166,
          0.9932123486209166,
          0.9932123486209166,
          0.9934010278661998,
          0.9934010278661998,
          0.9934010278661998,
          0.9934010278661998,
          0.9934010278661998,
          0.9934010278661998,
          0.9934010278661998,
          0.9934010278661998,
          0.9934010278661998,
          0.9934010278661998,
          0.9934010278661998,
          0.9934010278661998,
          0.9934010278661998,
          0.9934010278661998,
          0.9934010278661998,
          0.9934010278661998,
          0.9934010278661998,
          0.9934010278661998,
          0.9934010278661998,
          0.9934010278661998,
          0.9934010278661998,
          0.9934010278661998,
          0.9934010278661998,
          0.9934010278661998,
          0.9934010278661998,
          0.9934010278661998,
          0.9934010278661998,
          0.9934010278661998,
          0.9934010278661998,
          0.9934010278661998,
          0.9934010278661998,
          0.9934010278661998,
          0.9934010278661998,
          0.9934010278661998,
          0.9934010278661998,
          0.9934010278661998,
          0.9934010278661998,
          0.9934010278661998,
          0.9934010278661998,
          0.9934010278661998,
          0.9934010278661998,
          0.9934010278661998,
          0.9934010278661998
         ]
        }
       ],
       "layout": {
        "template": {
         "data": {
          "bar": [
           {
            "error_x": {
             "color": "#2a3f5f"
            },
            "error_y": {
             "color": "#2a3f5f"
            },
            "marker": {
             "line": {
              "color": "#E5ECF6",
              "width": 0.5
             },
             "pattern": {
              "fillmode": "overlay",
              "size": 10,
              "solidity": 0.2
             }
            },
            "type": "bar"
           }
          ],
          "barpolar": [
           {
            "marker": {
             "line": {
              "color": "#E5ECF6",
              "width": 0.5
             },
             "pattern": {
              "fillmode": "overlay",
              "size": 10,
              "solidity": 0.2
             }
            },
            "type": "barpolar"
           }
          ],
          "carpet": [
           {
            "aaxis": {
             "endlinecolor": "#2a3f5f",
             "gridcolor": "white",
             "linecolor": "white",
             "minorgridcolor": "white",
             "startlinecolor": "#2a3f5f"
            },
            "baxis": {
             "endlinecolor": "#2a3f5f",
             "gridcolor": "white",
             "linecolor": "white",
             "minorgridcolor": "white",
             "startlinecolor": "#2a3f5f"
            },
            "type": "carpet"
           }
          ],
          "choropleth": [
           {
            "colorbar": {
             "outlinewidth": 0,
             "ticks": ""
            },
            "type": "choropleth"
           }
          ],
          "contour": [
           {
            "colorbar": {
             "outlinewidth": 0,
             "ticks": ""
            },
            "colorscale": [
             [
              0,
              "#0d0887"
             ],
             [
              0.1111111111111111,
              "#46039f"
             ],
             [
              0.2222222222222222,
              "#7201a8"
             ],
             [
              0.3333333333333333,
              "#9c179e"
             ],
             [
              0.4444444444444444,
              "#bd3786"
             ],
             [
              0.5555555555555556,
              "#d8576b"
             ],
             [
              0.6666666666666666,
              "#ed7953"
             ],
             [
              0.7777777777777778,
              "#fb9f3a"
             ],
             [
              0.8888888888888888,
              "#fdca26"
             ],
             [
              1,
              "#f0f921"
             ]
            ],
            "type": "contour"
           }
          ],
          "contourcarpet": [
           {
            "colorbar": {
             "outlinewidth": 0,
             "ticks": ""
            },
            "type": "contourcarpet"
           }
          ],
          "heatmap": [
           {
            "colorbar": {
             "outlinewidth": 0,
             "ticks": ""
            },
            "colorscale": [
             [
              0,
              "#0d0887"
             ],
             [
              0.1111111111111111,
              "#46039f"
             ],
             [
              0.2222222222222222,
              "#7201a8"
             ],
             [
              0.3333333333333333,
              "#9c179e"
             ],
             [
              0.4444444444444444,
              "#bd3786"
             ],
             [
              0.5555555555555556,
              "#d8576b"
             ],
             [
              0.6666666666666666,
              "#ed7953"
             ],
             [
              0.7777777777777778,
              "#fb9f3a"
             ],
             [
              0.8888888888888888,
              "#fdca26"
             ],
             [
              1,
              "#f0f921"
             ]
            ],
            "type": "heatmap"
           }
          ],
          "heatmapgl": [
           {
            "colorbar": {
             "outlinewidth": 0,
             "ticks": ""
            },
            "colorscale": [
             [
              0,
              "#0d0887"
             ],
             [
              0.1111111111111111,
              "#46039f"
             ],
             [
              0.2222222222222222,
              "#7201a8"
             ],
             [
              0.3333333333333333,
              "#9c179e"
             ],
             [
              0.4444444444444444,
              "#bd3786"
             ],
             [
              0.5555555555555556,
              "#d8576b"
             ],
             [
              0.6666666666666666,
              "#ed7953"
             ],
             [
              0.7777777777777778,
              "#fb9f3a"
             ],
             [
              0.8888888888888888,
              "#fdca26"
             ],
             [
              1,
              "#f0f921"
             ]
            ],
            "type": "heatmapgl"
           }
          ],
          "histogram": [
           {
            "marker": {
             "pattern": {
              "fillmode": "overlay",
              "size": 10,
              "solidity": 0.2
             }
            },
            "type": "histogram"
           }
          ],
          "histogram2d": [
           {
            "colorbar": {
             "outlinewidth": 0,
             "ticks": ""
            },
            "colorscale": [
             [
              0,
              "#0d0887"
             ],
             [
              0.1111111111111111,
              "#46039f"
             ],
             [
              0.2222222222222222,
              "#7201a8"
             ],
             [
              0.3333333333333333,
              "#9c179e"
             ],
             [
              0.4444444444444444,
              "#bd3786"
             ],
             [
              0.5555555555555556,
              "#d8576b"
             ],
             [
              0.6666666666666666,
              "#ed7953"
             ],
             [
              0.7777777777777778,
              "#fb9f3a"
             ],
             [
              0.8888888888888888,
              "#fdca26"
             ],
             [
              1,
              "#f0f921"
             ]
            ],
            "type": "histogram2d"
           }
          ],
          "histogram2dcontour": [
           {
            "colorbar": {
             "outlinewidth": 0,
             "ticks": ""
            },
            "colorscale": [
             [
              0,
              "#0d0887"
             ],
             [
              0.1111111111111111,
              "#46039f"
             ],
             [
              0.2222222222222222,
              "#7201a8"
             ],
             [
              0.3333333333333333,
              "#9c179e"
             ],
             [
              0.4444444444444444,
              "#bd3786"
             ],
             [
              0.5555555555555556,
              "#d8576b"
             ],
             [
              0.6666666666666666,
              "#ed7953"
             ],
             [
              0.7777777777777778,
              "#fb9f3a"
             ],
             [
              0.8888888888888888,
              "#fdca26"
             ],
             [
              1,
              "#f0f921"
             ]
            ],
            "type": "histogram2dcontour"
           }
          ],
          "mesh3d": [
           {
            "colorbar": {
             "outlinewidth": 0,
             "ticks": ""
            },
            "type": "mesh3d"
           }
          ],
          "parcoords": [
           {
            "line": {
             "colorbar": {
              "outlinewidth": 0,
              "ticks": ""
             }
            },
            "type": "parcoords"
           }
          ],
          "pie": [
           {
            "automargin": true,
            "type": "pie"
           }
          ],
          "scatter": [
           {
            "fillpattern": {
             "fillmode": "overlay",
             "size": 10,
             "solidity": 0.2
            },
            "type": "scatter"
           }
          ],
          "scatter3d": [
           {
            "line": {
             "colorbar": {
              "outlinewidth": 0,
              "ticks": ""
             }
            },
            "marker": {
             "colorbar": {
              "outlinewidth": 0,
              "ticks": ""
             }
            },
            "type": "scatter3d"
           }
          ],
          "scattercarpet": [
           {
            "marker": {
             "colorbar": {
              "outlinewidth": 0,
              "ticks": ""
             }
            },
            "type": "scattercarpet"
           }
          ],
          "scattergeo": [
           {
            "marker": {
             "colorbar": {
              "outlinewidth": 0,
              "ticks": ""
             }
            },
            "type": "scattergeo"
           }
          ],
          "scattergl": [
           {
            "marker": {
             "colorbar": {
              "outlinewidth": 0,
              "ticks": ""
             }
            },
            "type": "scattergl"
           }
          ],
          "scattermapbox": [
           {
            "marker": {
             "colorbar": {
              "outlinewidth": 0,
              "ticks": ""
             }
            },
            "type": "scattermapbox"
           }
          ],
          "scatterpolar": [
           {
            "marker": {
             "colorbar": {
              "outlinewidth": 0,
              "ticks": ""
             }
            },
            "type": "scatterpolar"
           }
          ],
          "scatterpolargl": [
           {
            "marker": {
             "colorbar": {
              "outlinewidth": 0,
              "ticks": ""
             }
            },
            "type": "scatterpolargl"
           }
          ],
          "scatterternary": [
           {
            "marker": {
             "colorbar": {
              "outlinewidth": 0,
              "ticks": ""
             }
            },
            "type": "scatterternary"
           }
          ],
          "surface": [
           {
            "colorbar": {
             "outlinewidth": 0,
             "ticks": ""
            },
            "colorscale": [
             [
              0,
              "#0d0887"
             ],
             [
              0.1111111111111111,
              "#46039f"
             ],
             [
              0.2222222222222222,
              "#7201a8"
             ],
             [
              0.3333333333333333,
              "#9c179e"
             ],
             [
              0.4444444444444444,
              "#bd3786"
             ],
             [
              0.5555555555555556,
              "#d8576b"
             ],
             [
              0.6666666666666666,
              "#ed7953"
             ],
             [
              0.7777777777777778,
              "#fb9f3a"
             ],
             [
              0.8888888888888888,
              "#fdca26"
             ],
             [
              1,
              "#f0f921"
             ]
            ],
            "type": "surface"
           }
          ],
          "table": [
           {
            "cells": {
             "fill": {
              "color": "#EBF0F8"
             },
             "line": {
              "color": "white"
             }
            },
            "header": {
             "fill": {
              "color": "#C8D4E3"
             },
             "line": {
              "color": "white"
             }
            },
            "type": "table"
           }
          ]
         },
         "layout": {
          "annotationdefaults": {
           "arrowcolor": "#2a3f5f",
           "arrowhead": 0,
           "arrowwidth": 1
          },
          "autotypenumbers": "strict",
          "coloraxis": {
           "colorbar": {
            "outlinewidth": 0,
            "ticks": ""
           }
          },
          "colorscale": {
           "diverging": [
            [
             0,
             "#8e0152"
            ],
            [
             0.1,
             "#c51b7d"
            ],
            [
             0.2,
             "#de77ae"
            ],
            [
             0.3,
             "#f1b6da"
            ],
            [
             0.4,
             "#fde0ef"
            ],
            [
             0.5,
             "#f7f7f7"
            ],
            [
             0.6,
             "#e6f5d0"
            ],
            [
             0.7,
             "#b8e186"
            ],
            [
             0.8,
             "#7fbc41"
            ],
            [
             0.9,
             "#4d9221"
            ],
            [
             1,
             "#276419"
            ]
           ],
           "sequential": [
            [
             0,
             "#0d0887"
            ],
            [
             0.1111111111111111,
             "#46039f"
            ],
            [
             0.2222222222222222,
             "#7201a8"
            ],
            [
             0.3333333333333333,
             "#9c179e"
            ],
            [
             0.4444444444444444,
             "#bd3786"
            ],
            [
             0.5555555555555556,
             "#d8576b"
            ],
            [
             0.6666666666666666,
             "#ed7953"
            ],
            [
             0.7777777777777778,
             "#fb9f3a"
            ],
            [
             0.8888888888888888,
             "#fdca26"
            ],
            [
             1,
             "#f0f921"
            ]
           ],
           "sequentialminus": [
            [
             0,
             "#0d0887"
            ],
            [
             0.1111111111111111,
             "#46039f"
            ],
            [
             0.2222222222222222,
             "#7201a8"
            ],
            [
             0.3333333333333333,
             "#9c179e"
            ],
            [
             0.4444444444444444,
             "#bd3786"
            ],
            [
             0.5555555555555556,
             "#d8576b"
            ],
            [
             0.6666666666666666,
             "#ed7953"
            ],
            [
             0.7777777777777778,
             "#fb9f3a"
            ],
            [
             0.8888888888888888,
             "#fdca26"
            ],
            [
             1,
             "#f0f921"
            ]
           ]
          },
          "colorway": [
           "#636efa",
           "#EF553B",
           "#00cc96",
           "#ab63fa",
           "#FFA15A",
           "#19d3f3",
           "#FF6692",
           "#B6E880",
           "#FF97FF",
           "#FECB52"
          ],
          "font": {
           "color": "#2a3f5f"
          },
          "geo": {
           "bgcolor": "white",
           "lakecolor": "white",
           "landcolor": "#E5ECF6",
           "showlakes": true,
           "showland": true,
           "subunitcolor": "white"
          },
          "hoverlabel": {
           "align": "left"
          },
          "hovermode": "closest",
          "mapbox": {
           "style": "light"
          },
          "paper_bgcolor": "white",
          "plot_bgcolor": "#E5ECF6",
          "polar": {
           "angularaxis": {
            "gridcolor": "white",
            "linecolor": "white",
            "ticks": ""
           },
           "bgcolor": "#E5ECF6",
           "radialaxis": {
            "gridcolor": "white",
            "linecolor": "white",
            "ticks": ""
           }
          },
          "scene": {
           "xaxis": {
            "backgroundcolor": "#E5ECF6",
            "gridcolor": "white",
            "gridwidth": 2,
            "linecolor": "white",
            "showbackground": true,
            "ticks": "",
            "zerolinecolor": "white"
           },
           "yaxis": {
            "backgroundcolor": "#E5ECF6",
            "gridcolor": "white",
            "gridwidth": 2,
            "linecolor": "white",
            "showbackground": true,
            "ticks": "",
            "zerolinecolor": "white"
           },
           "zaxis": {
            "backgroundcolor": "#E5ECF6",
            "gridcolor": "white",
            "gridwidth": 2,
            "linecolor": "white",
            "showbackground": true,
            "ticks": "",
            "zerolinecolor": "white"
           }
          },
          "shapedefaults": {
           "line": {
            "color": "#2a3f5f"
           }
          },
          "ternary": {
           "aaxis": {
            "gridcolor": "white",
            "linecolor": "white",
            "ticks": ""
           },
           "baxis": {
            "gridcolor": "white",
            "linecolor": "white",
            "ticks": ""
           },
           "bgcolor": "#E5ECF6",
           "caxis": {
            "gridcolor": "white",
            "linecolor": "white",
            "ticks": ""
           }
          },
          "title": {
           "x": 0.05
          },
          "xaxis": {
           "automargin": true,
           "gridcolor": "white",
           "linecolor": "white",
           "ticks": "",
           "title": {
            "standoff": 15
           },
           "zerolinecolor": "white",
           "zerolinewidth": 2
          },
          "yaxis": {
           "automargin": true,
           "gridcolor": "white",
           "linecolor": "white",
           "ticks": "",
           "title": {
            "standoff": 15
           },
           "zerolinecolor": "white",
           "zerolinewidth": 2
          }
         }
        },
        "title": {
         "text": "Optimization History Plot"
        },
        "xaxis": {
         "title": {
          "text": "Trial"
         }
        },
        "yaxis": {
         "title": {
          "text": "Objective Value"
         }
        }
       }
      }
     },
     "metadata": {},
     "output_type": "display_data"
    },
    {
     "data": {
      "application/vnd.plotly.v1+json": {
       "config": {
        "plotlyServerURL": "https://plot.ly"
       },
       "data": [
        {
         "cliponaxis": false,
         "hovertemplate": [
          "var_smoothing (FloatDistribution): 1.0<extra></extra>"
         ],
         "marker": {
          "color": "rgb(66,146,198)"
         },
         "orientation": "h",
         "text": [
          "1.00"
         ],
         "textposition": "outside",
         "type": "bar",
         "x": [
          1
         ],
         "y": [
          "var_smoothing"
         ]
        }
       ],
       "layout": {
        "showlegend": false,
        "template": {
         "data": {
          "bar": [
           {
            "error_x": {
             "color": "#2a3f5f"
            },
            "error_y": {
             "color": "#2a3f5f"
            },
            "marker": {
             "line": {
              "color": "#E5ECF6",
              "width": 0.5
             },
             "pattern": {
              "fillmode": "overlay",
              "size": 10,
              "solidity": 0.2
             }
            },
            "type": "bar"
           }
          ],
          "barpolar": [
           {
            "marker": {
             "line": {
              "color": "#E5ECF6",
              "width": 0.5
             },
             "pattern": {
              "fillmode": "overlay",
              "size": 10,
              "solidity": 0.2
             }
            },
            "type": "barpolar"
           }
          ],
          "carpet": [
           {
            "aaxis": {
             "endlinecolor": "#2a3f5f",
             "gridcolor": "white",
             "linecolor": "white",
             "minorgridcolor": "white",
             "startlinecolor": "#2a3f5f"
            },
            "baxis": {
             "endlinecolor": "#2a3f5f",
             "gridcolor": "white",
             "linecolor": "white",
             "minorgridcolor": "white",
             "startlinecolor": "#2a3f5f"
            },
            "type": "carpet"
           }
          ],
          "choropleth": [
           {
            "colorbar": {
             "outlinewidth": 0,
             "ticks": ""
            },
            "type": "choropleth"
           }
          ],
          "contour": [
           {
            "colorbar": {
             "outlinewidth": 0,
             "ticks": ""
            },
            "colorscale": [
             [
              0,
              "#0d0887"
             ],
             [
              0.1111111111111111,
              "#46039f"
             ],
             [
              0.2222222222222222,
              "#7201a8"
             ],
             [
              0.3333333333333333,
              "#9c179e"
             ],
             [
              0.4444444444444444,
              "#bd3786"
             ],
             [
              0.5555555555555556,
              "#d8576b"
             ],
             [
              0.6666666666666666,
              "#ed7953"
             ],
             [
              0.7777777777777778,
              "#fb9f3a"
             ],
             [
              0.8888888888888888,
              "#fdca26"
             ],
             [
              1,
              "#f0f921"
             ]
            ],
            "type": "contour"
           }
          ],
          "contourcarpet": [
           {
            "colorbar": {
             "outlinewidth": 0,
             "ticks": ""
            },
            "type": "contourcarpet"
           }
          ],
          "heatmap": [
           {
            "colorbar": {
             "outlinewidth": 0,
             "ticks": ""
            },
            "colorscale": [
             [
              0,
              "#0d0887"
             ],
             [
              0.1111111111111111,
              "#46039f"
             ],
             [
              0.2222222222222222,
              "#7201a8"
             ],
             [
              0.3333333333333333,
              "#9c179e"
             ],
             [
              0.4444444444444444,
              "#bd3786"
             ],
             [
              0.5555555555555556,
              "#d8576b"
             ],
             [
              0.6666666666666666,
              "#ed7953"
             ],
             [
              0.7777777777777778,
              "#fb9f3a"
             ],
             [
              0.8888888888888888,
              "#fdca26"
             ],
             [
              1,
              "#f0f921"
             ]
            ],
            "type": "heatmap"
           }
          ],
          "heatmapgl": [
           {
            "colorbar": {
             "outlinewidth": 0,
             "ticks": ""
            },
            "colorscale": [
             [
              0,
              "#0d0887"
             ],
             [
              0.1111111111111111,
              "#46039f"
             ],
             [
              0.2222222222222222,
              "#7201a8"
             ],
             [
              0.3333333333333333,
              "#9c179e"
             ],
             [
              0.4444444444444444,
              "#bd3786"
             ],
             [
              0.5555555555555556,
              "#d8576b"
             ],
             [
              0.6666666666666666,
              "#ed7953"
             ],
             [
              0.7777777777777778,
              "#fb9f3a"
             ],
             [
              0.8888888888888888,
              "#fdca26"
             ],
             [
              1,
              "#f0f921"
             ]
            ],
            "type": "heatmapgl"
           }
          ],
          "histogram": [
           {
            "marker": {
             "pattern": {
              "fillmode": "overlay",
              "size": 10,
              "solidity": 0.2
             }
            },
            "type": "histogram"
           }
          ],
          "histogram2d": [
           {
            "colorbar": {
             "outlinewidth": 0,
             "ticks": ""
            },
            "colorscale": [
             [
              0,
              "#0d0887"
             ],
             [
              0.1111111111111111,
              "#46039f"
             ],
             [
              0.2222222222222222,
              "#7201a8"
             ],
             [
              0.3333333333333333,
              "#9c179e"
             ],
             [
              0.4444444444444444,
              "#bd3786"
             ],
             [
              0.5555555555555556,
              "#d8576b"
             ],
             [
              0.6666666666666666,
              "#ed7953"
             ],
             [
              0.7777777777777778,
              "#fb9f3a"
             ],
             [
              0.8888888888888888,
              "#fdca26"
             ],
             [
              1,
              "#f0f921"
             ]
            ],
            "type": "histogram2d"
           }
          ],
          "histogram2dcontour": [
           {
            "colorbar": {
             "outlinewidth": 0,
             "ticks": ""
            },
            "colorscale": [
             [
              0,
              "#0d0887"
             ],
             [
              0.1111111111111111,
              "#46039f"
             ],
             [
              0.2222222222222222,
              "#7201a8"
             ],
             [
              0.3333333333333333,
              "#9c179e"
             ],
             [
              0.4444444444444444,
              "#bd3786"
             ],
             [
              0.5555555555555556,
              "#d8576b"
             ],
             [
              0.6666666666666666,
              "#ed7953"
             ],
             [
              0.7777777777777778,
              "#fb9f3a"
             ],
             [
              0.8888888888888888,
              "#fdca26"
             ],
             [
              1,
              "#f0f921"
             ]
            ],
            "type": "histogram2dcontour"
           }
          ],
          "mesh3d": [
           {
            "colorbar": {
             "outlinewidth": 0,
             "ticks": ""
            },
            "type": "mesh3d"
           }
          ],
          "parcoords": [
           {
            "line": {
             "colorbar": {
              "outlinewidth": 0,
              "ticks": ""
             }
            },
            "type": "parcoords"
           }
          ],
          "pie": [
           {
            "automargin": true,
            "type": "pie"
           }
          ],
          "scatter": [
           {
            "fillpattern": {
             "fillmode": "overlay",
             "size": 10,
             "solidity": 0.2
            },
            "type": "scatter"
           }
          ],
          "scatter3d": [
           {
            "line": {
             "colorbar": {
              "outlinewidth": 0,
              "ticks": ""
             }
            },
            "marker": {
             "colorbar": {
              "outlinewidth": 0,
              "ticks": ""
             }
            },
            "type": "scatter3d"
           }
          ],
          "scattercarpet": [
           {
            "marker": {
             "colorbar": {
              "outlinewidth": 0,
              "ticks": ""
             }
            },
            "type": "scattercarpet"
           }
          ],
          "scattergeo": [
           {
            "marker": {
             "colorbar": {
              "outlinewidth": 0,
              "ticks": ""
             }
            },
            "type": "scattergeo"
           }
          ],
          "scattergl": [
           {
            "marker": {
             "colorbar": {
              "outlinewidth": 0,
              "ticks": ""
             }
            },
            "type": "scattergl"
           }
          ],
          "scattermapbox": [
           {
            "marker": {
             "colorbar": {
              "outlinewidth": 0,
              "ticks": ""
             }
            },
            "type": "scattermapbox"
           }
          ],
          "scatterpolar": [
           {
            "marker": {
             "colorbar": {
              "outlinewidth": 0,
              "ticks": ""
             }
            },
            "type": "scatterpolar"
           }
          ],
          "scatterpolargl": [
           {
            "marker": {
             "colorbar": {
              "outlinewidth": 0,
              "ticks": ""
             }
            },
            "type": "scatterpolargl"
           }
          ],
          "scatterternary": [
           {
            "marker": {
             "colorbar": {
              "outlinewidth": 0,
              "ticks": ""
             }
            },
            "type": "scatterternary"
           }
          ],
          "surface": [
           {
            "colorbar": {
             "outlinewidth": 0,
             "ticks": ""
            },
            "colorscale": [
             [
              0,
              "#0d0887"
             ],
             [
              0.1111111111111111,
              "#46039f"
             ],
             [
              0.2222222222222222,
              "#7201a8"
             ],
             [
              0.3333333333333333,
              "#9c179e"
             ],
             [
              0.4444444444444444,
              "#bd3786"
             ],
             [
              0.5555555555555556,
              "#d8576b"
             ],
             [
              0.6666666666666666,
              "#ed7953"
             ],
             [
              0.7777777777777778,
              "#fb9f3a"
             ],
             [
              0.8888888888888888,
              "#fdca26"
             ],
             [
              1,
              "#f0f921"
             ]
            ],
            "type": "surface"
           }
          ],
          "table": [
           {
            "cells": {
             "fill": {
              "color": "#EBF0F8"
             },
             "line": {
              "color": "white"
             }
            },
            "header": {
             "fill": {
              "color": "#C8D4E3"
             },
             "line": {
              "color": "white"
             }
            },
            "type": "table"
           }
          ]
         },
         "layout": {
          "annotationdefaults": {
           "arrowcolor": "#2a3f5f",
           "arrowhead": 0,
           "arrowwidth": 1
          },
          "autotypenumbers": "strict",
          "coloraxis": {
           "colorbar": {
            "outlinewidth": 0,
            "ticks": ""
           }
          },
          "colorscale": {
           "diverging": [
            [
             0,
             "#8e0152"
            ],
            [
             0.1,
             "#c51b7d"
            ],
            [
             0.2,
             "#de77ae"
            ],
            [
             0.3,
             "#f1b6da"
            ],
            [
             0.4,
             "#fde0ef"
            ],
            [
             0.5,
             "#f7f7f7"
            ],
            [
             0.6,
             "#e6f5d0"
            ],
            [
             0.7,
             "#b8e186"
            ],
            [
             0.8,
             "#7fbc41"
            ],
            [
             0.9,
             "#4d9221"
            ],
            [
             1,
             "#276419"
            ]
           ],
           "sequential": [
            [
             0,
             "#0d0887"
            ],
            [
             0.1111111111111111,
             "#46039f"
            ],
            [
             0.2222222222222222,
             "#7201a8"
            ],
            [
             0.3333333333333333,
             "#9c179e"
            ],
            [
             0.4444444444444444,
             "#bd3786"
            ],
            [
             0.5555555555555556,
             "#d8576b"
            ],
            [
             0.6666666666666666,
             "#ed7953"
            ],
            [
             0.7777777777777778,
             "#fb9f3a"
            ],
            [
             0.8888888888888888,
             "#fdca26"
            ],
            [
             1,
             "#f0f921"
            ]
           ],
           "sequentialminus": [
            [
             0,
             "#0d0887"
            ],
            [
             0.1111111111111111,
             "#46039f"
            ],
            [
             0.2222222222222222,
             "#7201a8"
            ],
            [
             0.3333333333333333,
             "#9c179e"
            ],
            [
             0.4444444444444444,
             "#bd3786"
            ],
            [
             0.5555555555555556,
             "#d8576b"
            ],
            [
             0.6666666666666666,
             "#ed7953"
            ],
            [
             0.7777777777777778,
             "#fb9f3a"
            ],
            [
             0.8888888888888888,
             "#fdca26"
            ],
            [
             1,
             "#f0f921"
            ]
           ]
          },
          "colorway": [
           "#636efa",
           "#EF553B",
           "#00cc96",
           "#ab63fa",
           "#FFA15A",
           "#19d3f3",
           "#FF6692",
           "#B6E880",
           "#FF97FF",
           "#FECB52"
          ],
          "font": {
           "color": "#2a3f5f"
          },
          "geo": {
           "bgcolor": "white",
           "lakecolor": "white",
           "landcolor": "#E5ECF6",
           "showlakes": true,
           "showland": true,
           "subunitcolor": "white"
          },
          "hoverlabel": {
           "align": "left"
          },
          "hovermode": "closest",
          "mapbox": {
           "style": "light"
          },
          "paper_bgcolor": "white",
          "plot_bgcolor": "#E5ECF6",
          "polar": {
           "angularaxis": {
            "gridcolor": "white",
            "linecolor": "white",
            "ticks": ""
           },
           "bgcolor": "#E5ECF6",
           "radialaxis": {
            "gridcolor": "white",
            "linecolor": "white",
            "ticks": ""
           }
          },
          "scene": {
           "xaxis": {
            "backgroundcolor": "#E5ECF6",
            "gridcolor": "white",
            "gridwidth": 2,
            "linecolor": "white",
            "showbackground": true,
            "ticks": "",
            "zerolinecolor": "white"
           },
           "yaxis": {
            "backgroundcolor": "#E5ECF6",
            "gridcolor": "white",
            "gridwidth": 2,
            "linecolor": "white",
            "showbackground": true,
            "ticks": "",
            "zerolinecolor": "white"
           },
           "zaxis": {
            "backgroundcolor": "#E5ECF6",
            "gridcolor": "white",
            "gridwidth": 2,
            "linecolor": "white",
            "showbackground": true,
            "ticks": "",
            "zerolinecolor": "white"
           }
          },
          "shapedefaults": {
           "line": {
            "color": "#2a3f5f"
           }
          },
          "ternary": {
           "aaxis": {
            "gridcolor": "white",
            "linecolor": "white",
            "ticks": ""
           },
           "baxis": {
            "gridcolor": "white",
            "linecolor": "white",
            "ticks": ""
           },
           "bgcolor": "#E5ECF6",
           "caxis": {
            "gridcolor": "white",
            "linecolor": "white",
            "ticks": ""
           }
          },
          "title": {
           "x": 0.05
          },
          "xaxis": {
           "automargin": true,
           "gridcolor": "white",
           "linecolor": "white",
           "ticks": "",
           "title": {
            "standoff": 15
           },
           "zerolinecolor": "white",
           "zerolinewidth": 2
          },
          "yaxis": {
           "automargin": true,
           "gridcolor": "white",
           "linecolor": "white",
           "ticks": "",
           "title": {
            "standoff": 15
           },
           "zerolinecolor": "white",
           "zerolinewidth": 2
          }
         }
        },
        "title": {
         "text": "Hyperparameter Importances"
        },
        "xaxis": {
         "title": {
          "text": "Importance for Objective Value"
         }
        },
        "yaxis": {
         "title": {
          "text": "Hyperparameter"
         }
        }
       }
      }
     },
     "metadata": {},
     "output_type": "display_data"
    },
    {
     "name": "stdout",
     "output_type": "stream",
     "text": [
      "Best trial: 0.9934010278661998\n",
      "Best parameters: {'var_smoothing': 0.05708832353748626}\n",
      "              precision    recall  f1-score   support\n",
      "\n",
      "         0.0       1.00      0.99      0.99       638\n",
      "         1.0       1.00      1.00      1.00        77\n",
      "         2.0       0.99      1.00      0.99       411\n",
      "         3.0       1.00      1.00      1.00         5\n",
      "         4.0       0.99      1.00      0.99        88\n",
      "         5.0       0.99      1.00      1.00       108\n",
      "\n",
      "    accuracy                           0.99      1327\n",
      "   macro avg       0.99      1.00      1.00      1327\n",
      "weighted avg       0.99      0.99      0.99      1327\n",
      "\n"
     ]
    },
    {
     "data": {
      "image/png": "[encoded data removed]",
      "text/plain": [
       "<Figure size 640x480 with 2 Axes>"
      ]
     },
     "metadata": {},
     "output_type": "display_data"
    }
   ],
   "source": [
    "# define o espaço de busca e a função objetivo\n",
    "def objective_naive_bayes(\n",
    "\t\ttrial: opt.trial.Trial,\n",
    "\t\tX: pd.DataFrame,\n",
    "\t\ty: pd.DataFrame,\n",
    "\t) -> float:\t\n",
    "\testimator = GaussianNB(\n",
    "\t\tvar_smoothing = trial.suggest_float('var_smoothing', 1e-15, 1, log=True),\n",
    "\t)\n",
    "\ttrial.set_user_attr(key=\"estimator\", value=estimator)\n",
    "\tscore = cross_val_score(estimator, X, y, n_jobs=-1, cv=5, scoring='accuracy')\n",
    "\treturn score.mean()\n",
    "\n",
    "# rotina de otimização bayesiana\n",
    "naive_bayes_model = optimize(\n",
    "\tobjective=objective_naive_bayes, \n",
    "\tdescription='naive_bayes_classifier', n_trials=100,\n",
    "\tX=data_train, y=targets_train, X_test=data_test, y_test=targets_test,)"
   ]
  },
  {
   "attachments": {},
   "cell_type": "markdown",
   "metadata": {},
   "source": [
    "#### comparação de modelos"
   ]
  },
  {
   "cell_type": "code",
   "execution_count": 16,
   "metadata": {},
   "outputs": [
    {
     "name": "stdout",
     "output_type": "stream",
     "text": [
      "logistic_regression: 0.9947249434815373\n",
      "decision_tree_classifier: 0.9683496608892238\n",
      "naive_bayes_classifier: 0.9947249434815373\n"
     ]
    }
   ],
   "source": [
    "models = [logistic_regression_model, decision_tree_model, naive_bayes_model]\n",
    "for model in models:\n",
    "\tprint (f'{model[\"description\"]}: {model[\"estimator\"].score(data_test, targets_test)}')"
   ]
  },
  {
   "attachments": {},
   "cell_type": "markdown",
   "metadata": {},
   "source": [
    "⭐ nota\n",
    "<div style=\"color:#222200;background-color:#FFFFBB;padding:10px;\"><table style=\"border:0px solid;width:100%\">\n",
    "<tr><td style=\"border:0px;font-size:60px;width:80px;background-color:#FFFFBB\">⭐</td><td style=\"border:0px;background-color:#FFFFBB;font-size:16px;\">\n",
    "Os modelos de regressão logística e naive bayes apresentaram resultados quase perfeitos no dataset de teste.<br>\n",
    "</td></tr></table></div>"
   ]
  },
  {
   "attachments": {},
   "cell_type": "markdown",
   "metadata": {},
   "source": [
    "#### importância das features"
   ]
  },
  {
   "cell_type": "code",
   "execution_count": 17,
   "metadata": {},
   "outputs": [
    {
     "data": {
      "image/png": "[encoded data removed]",
      "text/plain": [
       "<Figure size 1000x400 with 1 Axes>"
      ]
     },
     "metadata": {},
     "output_type": "display_data"
    },
    {
     "data": {
      "image/png": "[encoded data removed]",
      "text/plain": [
       "<Figure size 1000x400 with 1 Axes>"
      ]
     },
     "metadata": {},
     "output_type": "display_data"
    },
    {
     "data": {
      "image/png": "[encoded data removed]",
      "text/plain": [
       "<Figure size 1000x400 with 1 Axes>"
      ]
     },
     "metadata": {},
     "output_type": "display_data"
    }
   ],
   "source": [
    "def plot_feature_importances(\n",
    "\t\tmodel: dict,\n",
    "\t\tX: pd.DataFrame,\n",
    "\t\ty: pd.DataFrame,\n",
    "\t\t) -> None:\n",
    "\timportances = permutation_importance(model['estimator'], X, y, n_repeats=10)\n",
    "\ttable = pd.DataFrame(importances.importances_mean, index=X.columns, columns=['importance'])\n",
    "\ttable.sort_values(by='importance', ascending=True, inplace=True)\n",
    "\ttable.plot.barh(figsize=(10, 3+int(table.shape[0]/6)))\n",
    "\tplt.title(f'importância das features para {model[\"description\"]}')\n",
    "\tplt.show()\n",
    "\n",
    "for model in models:\n",
    "\tplot_feature_importances(model, data_train, targets_train)\n"
   ]
  },
  {
   "attachments": {},
   "cell_type": "markdown",
   "metadata": {},
   "source": [
    "### Conclusão"
   ]
  },
  {
   "attachments": {},
   "cell_type": "markdown",
   "metadata": {},
   "source": [
    "⭐ nota\n",
    "<div style=\"color:#222200;background-color:#FFFFBB;padding:10px;\"><table style=\"border:0px solid;width:100%\">\n",
    "<tr><td style=\"border:0px;font-size:60px;width:80px;background-color:#FFFFBB\">⭐</td><td style=\"border:0px;background-color:#FFFFBB;font-size:16px;\">\n",
    "o modelo escolhido, regressão logística, utilizou bem as features disponíveis para identificar o segmento dos clientes, apresentando uma acurácia de 99%\n",
    "</td></tr></table></div>"
   ]
  }
 ],
 "metadata": {
  "kernelspec": {
   "display_name": "edge",
   "language": "python",
   "name": "python3"
  },
  "language_info": {
   "codemirror_mode": {
    "name": "ipython",
    "version": 3
   },
   "file_extension": ".py",
   "mimetype": "text/x-python",
   "name": "python",
   "nbconvert_exporter": "python",
   "pygments_lexer": "ipython3",
   "version": "3.10.9"
  },
  "orig_nbformat": 4
 },
 "nbformat": 4,
 "nbformat_minor": 2
}
